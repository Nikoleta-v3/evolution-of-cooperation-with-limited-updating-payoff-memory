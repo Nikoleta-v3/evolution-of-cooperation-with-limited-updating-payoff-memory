{
 "cells": [
  {
   "cell_type": "code",
   "execution_count": 1,
   "metadata": {},
   "outputs": [],
   "source": [
    "import evol_dynamics"
   ]
  },
  {
   "cell_type": "code",
   "execution_count": 6,
   "metadata": {},
   "outputs": [],
   "source": [
    "import time"
   ]
  },
  {
   "cell_type": "code",
   "execution_count": 8,
   "metadata": {},
   "outputs": [],
   "source": [
    "import axelrod as axl"
   ]
  },
  {
   "cell_type": "code",
   "execution_count": 19,
   "metadata": {},
   "outputs": [],
   "source": [
    "import numpy as np"
   ]
  },
  {
   "cell_type": "markdown",
   "metadata": {},
   "source": [
    "# Current example"
   ]
  },
  {
   "cell_type": "code",
   "execution_count": 20,
   "metadata": {},
   "outputs": [],
   "source": [
    "resident = (1, 1, 1)\n",
    "N = 100\n",
    "delta = 0.999\n",
    "strength_of_selection = 1\n",
    "num_of_steps = 100\n",
    "num_of_opponents = 5\n",
    "num_of_interactions = 2\n",
    "seed = 0\n",
    "filename = \"temp\"\n",
    "mutant = (0, 0 , 0)\n",
    "random_ = np.random.RandomState(seed)"
   ]
  },
  {
   "cell_type": "code",
   "execution_count": 5,
   "metadata": {},
   "outputs": [
    {
     "name": "stderr",
     "output_type": "stream",
     "text": [
      "100%|██████████| 100/100 [00:11<00:00,  8.68it/s]\n"
     ]
    },
    {
     "data": {
      "text/plain": [
       "{(1, 1, 1): 78,\n",
       " (0.5488135039273248, 0.7151893663724195, 0.6027633760716439): 22}"
      ]
     },
     "execution_count": 5,
     "metadata": {},
     "output_type": "execute_result"
    }
   ],
   "source": [
    "evol_dynamics.simulation(\n",
    "    resident,\n",
    "    N,\n",
    "    delta,\n",
    "    strength_of_selection,\n",
    "    num_of_steps,\n",
    "    num_of_opponents,\n",
    "    num_of_interactions,\n",
    "    seed,\n",
    "    filename,\n",
    ")"
   ]
  },
  {
   "cell_type": "code",
   "execution_count": null,
   "metadata": {},
   "outputs": [],
   "source": [
    "start = time.time()"
   ]
  },
  {
   "cell_type": "code",
   "execution_count": 7,
   "metadata": {},
   "outputs": [],
   "source": [
    "max_number_of_turns = int(delta / (1 - delta))"
   ]
  },
  {
   "cell_type": "code",
   "execution_count": 11,
   "metadata": {},
   "outputs": [],
   "source": [
    "player = evol_dynamics.ReactivePlayer(mutant)\n",
    "opponent = evol_dynamics.ReactivePlayer(resident)"
   ]
  },
  {
   "cell_type": "code",
   "execution_count": 12,
   "metadata": {},
   "outputs": [],
   "source": [
    "match = axl.Match(players=[player, opponent], turns=max_number_of_turns)"
   ]
  },
  {
   "cell_type": "code",
   "execution_count": 13,
   "metadata": {},
   "outputs": [],
   "source": [
    "_ = match.play()"
   ]
  },
  {
   "cell_type": "code",
   "execution_count": 17,
   "metadata": {},
   "outputs": [],
   "source": [
    "scores = match.scores()"
   ]
  },
  {
   "cell_type": "code",
   "execution_count": null,
   "metadata": {},
   "outputs": [],
   "source": [
    "opponents = []"
   ]
  },
  {
   "cell_type": "code",
   "execution_count": 48,
   "metadata": {},
   "outputs": [
    {
     "data": {
      "text/plain": [
       "5"
      ]
     },
     "execution_count": 48,
     "metadata": {},
     "output_type": "execute_result"
    }
   ],
   "source": [
    "num_of_opponents"
   ]
  },
  {
   "cell_type": "code",
   "execution_count": 64,
   "metadata": {},
   "outputs": [],
   "source": [
    "def get_opponents_of_mutant(N, num_of_opponents, random_state):\n",
    "    opponents_of_mutant = []\n",
    "    \n",
    "    for k in range(1, N + 1):\n",
    "        play_against_role_model = False\n",
    "        opponents = {\"mutant\": 0, \"resident\": 0, \"play_against_role_mode\": 0}\n",
    "        \n",
    "        for interactions in range(num_of_opponents):\n",
    "            probability_interacting_with_role_model = (\n",
    "                1 / (N - 1 - interactions)\n",
    "            ) * (1 - int(play_against_role_model))\n",
    "\n",
    "            if probability_interacting_with_role_model > random_state.random():\n",
    "\n",
    "                play_against_role_model = True\n",
    "                opponents[\"play_against_role_mode\"] = 1\n",
    "                opponents[\"resident\"] += 1\n",
    "\n",
    "            else:\n",
    "\n",
    "                p = (\n",
    "                    N - k - opponents[\"resident\"]\n",
    "                ) / (N - 1 - (opponents[\"resident\"] + opponents[\"mutant\"]))\n",
    "                choice = random_state.choice([1, 0], p=(p, 1 - p))\n",
    "\n",
    "                if choice == 1:\n",
    "                    opponents[\"resident\"] += 1\n",
    "                else:\n",
    "                    opponents[\"mutant\"] += 1\n",
    "                    \n",
    "        opponents_of_mutant.append((opponents))\n",
    "\n",
    "    return opponents_of_mutant"
   ]
  },
  {
   "cell_type": "code",
   "execution_count": 65,
   "metadata": {},
   "outputs": [],
   "source": [
    "opponents = get_opponents_of_mutant(N, num_of_opponents, random_)"
   ]
  },
  {
   "cell_type": "code",
   "execution_count": 81,
   "metadata": {},
   "outputs": [],
   "source": [
    "def get_opponents_of_resident(N, num_of_opponents, random_state, mutant_opponents):\n",
    "    opponents_of_resident = []\n",
    "    \n",
    "    for k in range(1, N + 1):\n",
    "        opponents = {\"mutant\": 0,\n",
    "                     \"resident\": 0,\n",
    "                     \"play_against_role_mode\": mutant_opponents[k-1][\"play_against_role_mode\"]}\n",
    "        \n",
    "        if mutant_opponents[k - 1][\"play_against_role_mode\"] == 1:\n",
    "            opponents[\"mutant\"] += 1\n",
    "\n",
    "        while (opponents[\"resident\"] + opponents[\"mutant\"]) < num_of_opponents:\n",
    "\n",
    "            p = (k - opponents[\"mutant\"]) / (\n",
    "                N - 1 - opponents[\"resident\"] - opponents[\"mutant\"]\n",
    "            )\n",
    "\n",
    "            choice = random_state.choice([1, 0], p=(1 - p, p))\n",
    "            if choice == 1:\n",
    "                opponents[\"resident\"] += 1\n",
    "            else:\n",
    "                opponents[\"mutant\"] += 1\n",
    "                    \n",
    "        opponents_of_resident.append(opponents)\n",
    "\n",
    "    return opponents_of_resident"
   ]
  },
  {
   "cell_type": "code",
   "execution_count": 82,
   "metadata": {},
   "outputs": [
    {
     "ename": "ValueError",
     "evalue": "probabilities are not non-negative",
     "output_type": "error",
     "traceback": [
      "\u001b[0;31m---------------------------------------------------------------------------\u001b[0m",
      "\u001b[0;31mValueError\u001b[0m                                Traceback (most recent call last)",
      "\u001b[0;32m<ipython-input-82-79494c965a04>\u001b[0m in \u001b[0;36m<module>\u001b[0;34m\u001b[0m\n\u001b[0;32m----> 1\u001b[0;31m \u001b[0mresident_opponents\u001b[0m \u001b[0;34m=\u001b[0m \u001b[0mget_opponents_of_resident\u001b[0m\u001b[0;34m(\u001b[0m\u001b[0mN\u001b[0m\u001b[0;34m,\u001b[0m \u001b[0mnum_of_opponents\u001b[0m\u001b[0;34m,\u001b[0m \u001b[0mrandom_\u001b[0m\u001b[0;34m,\u001b[0m \u001b[0mopponents\u001b[0m\u001b[0;34m)\u001b[0m\u001b[0;34m\u001b[0m\u001b[0;34m\u001b[0m\u001b[0m\n\u001b[0m",
      "\u001b[0;32m<ipython-input-81-dbd9aad74c76>\u001b[0m in \u001b[0;36mget_opponents_of_resident\u001b[0;34m(N, num_of_opponents, random_state, mutant_opponents)\u001b[0m\n\u001b[1;32m     16\u001b[0m             )\n\u001b[1;32m     17\u001b[0m \u001b[0;34m\u001b[0m\u001b[0m\n\u001b[0;32m---> 18\u001b[0;31m             \u001b[0mchoice\u001b[0m \u001b[0;34m=\u001b[0m \u001b[0mrandom_state\u001b[0m\u001b[0;34m.\u001b[0m\u001b[0mchoice\u001b[0m\u001b[0;34m(\u001b[0m\u001b[0;34m[\u001b[0m\u001b[0;36m1\u001b[0m\u001b[0;34m,\u001b[0m \u001b[0;36m0\u001b[0m\u001b[0;34m]\u001b[0m\u001b[0;34m,\u001b[0m \u001b[0mp\u001b[0m\u001b[0;34m=\u001b[0m\u001b[0;34m(\u001b[0m\u001b[0;36m1\u001b[0m \u001b[0;34m-\u001b[0m \u001b[0mp\u001b[0m\u001b[0;34m,\u001b[0m \u001b[0mp\u001b[0m\u001b[0;34m)\u001b[0m\u001b[0;34m)\u001b[0m\u001b[0;34m\u001b[0m\u001b[0;34m\u001b[0m\u001b[0m\n\u001b[0m\u001b[1;32m     19\u001b[0m             \u001b[0;32mif\u001b[0m \u001b[0mchoice\u001b[0m \u001b[0;34m==\u001b[0m \u001b[0;36m1\u001b[0m\u001b[0;34m:\u001b[0m\u001b[0;34m\u001b[0m\u001b[0;34m\u001b[0m\u001b[0m\n\u001b[1;32m     20\u001b[0m                 \u001b[0mopponents\u001b[0m\u001b[0;34m[\u001b[0m\u001b[0;34m\"resident\"\u001b[0m\u001b[0;34m]\u001b[0m \u001b[0;34m+=\u001b[0m \u001b[0;36m1\u001b[0m\u001b[0;34m\u001b[0m\u001b[0;34m\u001b[0m\u001b[0m\n",
      "\u001b[0;32mmtrand.pyx\u001b[0m in \u001b[0;36mnumpy.random.mtrand.RandomState.choice\u001b[0;34m()\u001b[0m\n",
      "\u001b[0;31mValueError\u001b[0m: probabilities are not non-negative"
     ]
    }
   ],
   "source": [
    "resident_opponents = get_opponents_of_resident(N, num_of_opponents, random_, opponents)"
   ]
  },
  {
   "cell_type": "code",
   "execution_count": 57,
   "metadata": {},
   "outputs": [
    {
     "data": {
      "text/plain": [
       "100"
      ]
     },
     "execution_count": 57,
     "metadata": {},
     "output_type": "execute_result"
    }
   ],
   "source": [
    "len(opponents)"
   ]
  },
  {
   "cell_type": "code",
   "execution_count": 63,
   "metadata": {},
   "outputs": [
    {
     "data": {
      "text/plain": [
       "{'mutant': 5, 'resident': 0, 'play_against_role_mode': 0}"
      ]
     },
     "execution_count": 63,
     "metadata": {},
     "output_type": "execute_result"
    }
   ],
   "source": [
    "opponents[90]"
   ]
  },
  {
   "cell_type": "code",
   "execution_count": null,
   "metadata": {},
   "outputs": [],
   "source": [
    "\n",
    "                opponents_of_mutant,\n",
    "                play_again_role_model,\n",
    "            ) = get_opponents_of_mutant(\n",
    "                resident, mutant, num_of_opponents, N, population, random_\n",
    "            )\n",
    "\n",
    "            opponents_of_resident = get_opponents_of_resident(\n",
    "                resident,\n",
    "                mutant,\n",
    "                play_again_role_model,\n",
    "                num_of_opponents,\n",
    "                N,\n",
    "                population,\n",
    "                random_,\n",
    "            )"
   ]
  },
  {
   "cell_type": "code",
   "execution_count": 2,
   "metadata": {},
   "outputs": [],
   "source": [
    "import numpy as np"
   ]
  },
  {
   "cell_type": "code",
   "execution_count": 8,
   "metadata": {},
   "outputs": [
    {
     "data": {
      "text/plain": [
       "array([-2. , -1.6, -1.2, -0.8, -0.4,  0. ,  0.4,  0.8,  1.2,  1.6,  2. ])"
      ]
     },
     "execution_count": 8,
     "metadata": {},
     "output_type": "execute_result"
    }
   ],
   "source": [
    "Ss = np.linspace(-2, 2, 11)\n",
    "Ss"
   ]
  },
  {
   "cell_type": "code",
   "execution_count": 20,
   "metadata": {},
   "outputs": [
    {
     "data": {
      "text/plain": [
       "array([-1. , -0.6, -0.2,  0.2,  0.6,  1. ,  1.4,  1.8,  2.2,  2.6,  3. ])"
      ]
     },
     "execution_count": 20,
     "metadata": {},
     "output_type": "execute_result"
    }
   ],
   "source": [
    "Ts = np.linspace(-1, 3, 11)\n",
    "Ts.round(2)"
   ]
  },
  {
   "cell_type": "code",
   "execution_count": 24,
   "metadata": {},
   "outputs": [],
   "source": [
    "import itertools"
   ]
  },
  {
   "cell_type": "code",
   "execution_count": 25,
   "metadata": {
    "scrolled": false
   },
   "outputs": [
    {
     "data": {
      "text/plain": [
       "121"
      ]
     },
     "execution_count": 25,
     "metadata": {},
     "output_type": "execute_result"
    }
   ],
   "source": [
    "len(list(itertools.product(Ss.round(2), Ts.round(2))))"
   ]
  },
  {
   "cell_type": "code",
   "execution_count": null,
   "metadata": {},
   "outputs": [],
   "source": []
  }
 ],
 "metadata": {
  "kernelspec": {
   "display_name": "stochastic-payoffs",
   "language": "python",
   "name": "stochastic-payoffs"
  },
  "language_info": {
   "codemirror_mode": {
    "name": "ipython",
    "version": 3
   },
   "file_extension": ".py",
   "mimetype": "text/x-python",
   "name": "python",
   "nbconvert_exporter": "python",
   "pygments_lexer": "ipython3",
   "version": "3.7.9"
  }
 },
 "nbformat": 4,
 "nbformat_minor": 4
}
