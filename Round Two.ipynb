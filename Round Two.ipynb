{
 "cells": [
  {
   "cell_type": "code",
   "execution_count": 1,
   "metadata": {},
   "outputs": [],
   "source": [
    "import evol_dynamics"
   ]
  },
  {
   "cell_type": "code",
   "execution_count": 2,
   "metadata": {},
   "outputs": [],
   "source": [
    "import numpy as np\n",
    "\n",
    "import copy\n",
    "import axelrod as axl"
   ]
  },
  {
   "cell_type": "code",
   "execution_count": 3,
   "metadata": {},
   "outputs": [],
   "source": [
    "C, D = axl.Action.C, axl.Action.D"
   ]
  },
  {
   "cell_type": "code",
   "execution_count": 4,
   "metadata": {},
   "outputs": [],
   "source": [
    "import matplotlib.pyplot as plt"
   ]
  },
  {
   "cell_type": "code",
   "execution_count": 5,
   "metadata": {},
   "outputs": [],
   "source": [
    "from collections import Counter"
   ]
  },
  {
   "cell_type": "code",
   "execution_count": 6,
   "metadata": {},
   "outputs": [],
   "source": [
    "import itertools"
   ]
  },
  {
   "cell_type": "code",
   "execution_count": 7,
   "metadata": {},
   "outputs": [],
   "source": [
    "import pandas as pd"
   ]
  },
  {
   "cell_type": "code",
   "execution_count": 8,
   "metadata": {},
   "outputs": [],
   "source": [
    "columns = [\"i\",\n",
    "           \"number_of_repetitions\",\n",
    "           \"y_1\",\n",
    "           \"p_1\",\n",
    "           \"q_1\",\n",
    "           \"y_2\",\n",
    "           \"p_2\",\n",
    "           \"q_2\",\n",
    "           \"delta\"] + [f\"v_{i}_theor\" for i in range(1, 17)] + [f\"v_{i}_simulated\" for i in range(1, 17)]"
   ]
  },
  {
   "cell_type": "code",
   "execution_count": 9,
   "metadata": {},
   "outputs": [
    {
     "data": {
      "text/plain": [
       "41"
      ]
     },
     "execution_count": 9,
     "metadata": {},
     "output_type": "execute_result"
    }
   ],
   "source": [
    "len(columns)"
   ]
  },
  {
   "cell_type": "code",
   "execution_count": 10,
   "metadata": {},
   "outputs": [],
   "source": [
    "df = pd.read_csv(\"data/soup_for_sixteen_states_stationary.csv\", header=None)"
   ]
  },
  {
   "cell_type": "code",
   "execution_count": 11,
   "metadata": {},
   "outputs": [],
   "source": [
    "df.columns = columns"
   ]
  },
  {
   "cell_type": "code",
   "execution_count": 12,
   "metadata": {},
   "outputs": [
    {
     "data": {
      "text/html": [
       "<div>\n",
       "<style scoped>\n",
       "    .dataframe tbody tr th:only-of-type {\n",
       "        vertical-align: middle;\n",
       "    }\n",
       "\n",
       "    .dataframe tbody tr th {\n",
       "        vertical-align: top;\n",
       "    }\n",
       "\n",
       "    .dataframe thead th {\n",
       "        text-align: right;\n",
       "    }\n",
       "</style>\n",
       "<table border=\"1\" class=\"dataframe\">\n",
       "  <thead>\n",
       "    <tr style=\"text-align: right;\">\n",
       "      <th></th>\n",
       "      <th>i</th>\n",
       "      <th>number_of_repetitions</th>\n",
       "      <th>y_1</th>\n",
       "      <th>p_1</th>\n",
       "      <th>q_1</th>\n",
       "      <th>y_2</th>\n",
       "      <th>p_2</th>\n",
       "      <th>q_2</th>\n",
       "      <th>delta</th>\n",
       "      <th>v_1_theor</th>\n",
       "      <th>...</th>\n",
       "      <th>v_7_simulated</th>\n",
       "      <th>v_8_simulated</th>\n",
       "      <th>v_9_simulated</th>\n",
       "      <th>v_10_simulated</th>\n",
       "      <th>v_11_simulated</th>\n",
       "      <th>v_12_simulated</th>\n",
       "      <th>v_13_simulated</th>\n",
       "      <th>v_14_simulated</th>\n",
       "      <th>v_15_simulated</th>\n",
       "      <th>v_16_simulated</th>\n",
       "    </tr>\n",
       "  </thead>\n",
       "  <tbody>\n",
       "    <tr>\n",
       "      <th>0</th>\n",
       "      <td>0</td>\n",
       "      <td>20000</td>\n",
       "      <td>0.417022</td>\n",
       "      <td>0.720324</td>\n",
       "      <td>0.000114</td>\n",
       "      <td>0.302333</td>\n",
       "      <td>0.146756</td>\n",
       "      <td>0.092339</td>\n",
       "      <td>0.999</td>\n",
       "      <td>0.000718</td>\n",
       "      <td>...</td>\n",
       "      <td>0.00900</td>\n",
       "      <td>0.05370</td>\n",
       "      <td>0.00600</td>\n",
       "      <td>0.05690</td>\n",
       "      <td>0.00200</td>\n",
       "      <td>0.02220</td>\n",
       "      <td>0.00000</td>\n",
       "      <td>0.00010</td>\n",
       "      <td>0.07835</td>\n",
       "      <td>0.7647</td>\n",
       "    </tr>\n",
       "    <tr>\n",
       "      <th>1</th>\n",
       "      <td>1</td>\n",
       "      <td>20000</td>\n",
       "      <td>0.186260</td>\n",
       "      <td>0.345561</td>\n",
       "      <td>0.396767</td>\n",
       "      <td>0.538817</td>\n",
       "      <td>0.419195</td>\n",
       "      <td>0.685220</td>\n",
       "      <td>0.999</td>\n",
       "      <td>0.031138</td>\n",
       "      <td>...</td>\n",
       "      <td>0.04075</td>\n",
       "      <td>0.05190</td>\n",
       "      <td>0.08505</td>\n",
       "      <td>0.04305</td>\n",
       "      <td>0.16280</td>\n",
       "      <td>0.07785</td>\n",
       "      <td>0.07080</td>\n",
       "      <td>0.03280</td>\n",
       "      <td>0.10440</td>\n",
       "      <td>0.0522</td>\n",
       "    </tr>\n",
       "    <tr>\n",
       "      <th>2</th>\n",
       "      <td>2</td>\n",
       "      <td>20000</td>\n",
       "      <td>0.204452</td>\n",
       "      <td>0.878117</td>\n",
       "      <td>0.027388</td>\n",
       "      <td>0.670468</td>\n",
       "      <td>0.417305</td>\n",
       "      <td>0.558690</td>\n",
       "      <td>0.999</td>\n",
       "      <td>0.081271</td>\n",
       "      <td>...</td>\n",
       "      <td>0.09085</td>\n",
       "      <td>0.13385</td>\n",
       "      <td>0.13230</td>\n",
       "      <td>0.10185</td>\n",
       "      <td>0.01915</td>\n",
       "      <td>0.01455</td>\n",
       "      <td>0.00410</td>\n",
       "      <td>0.00380</td>\n",
       "      <td>0.15150</td>\n",
       "      <td>0.1188</td>\n",
       "    </tr>\n",
       "    <tr>\n",
       "      <th>3</th>\n",
       "      <td>3</td>\n",
       "      <td>20000</td>\n",
       "      <td>0.140387</td>\n",
       "      <td>0.198101</td>\n",
       "      <td>0.800745</td>\n",
       "      <td>0.968262</td>\n",
       "      <td>0.313424</td>\n",
       "      <td>0.692323</td>\n",
       "      <td>0.999</td>\n",
       "      <td>0.015507</td>\n",
       "      <td>...</td>\n",
       "      <td>0.01560</td>\n",
       "      <td>0.03385</td>\n",
       "      <td>0.03320</td>\n",
       "      <td>0.01515</td>\n",
       "      <td>0.14045</td>\n",
       "      <td>0.06250</td>\n",
       "      <td>0.14055</td>\n",
       "      <td>0.06025</td>\n",
       "      <td>0.03305</td>\n",
       "      <td>0.0145</td>\n",
       "    </tr>\n",
       "    <tr>\n",
       "      <th>4</th>\n",
       "      <td>4</td>\n",
       "      <td>20000</td>\n",
       "      <td>0.876389</td>\n",
       "      <td>0.894607</td>\n",
       "      <td>0.085044</td>\n",
       "      <td>0.039055</td>\n",
       "      <td>0.169830</td>\n",
       "      <td>0.878143</td>\n",
       "      <td>0.999</td>\n",
       "      <td>0.039819</td>\n",
       "      <td>...</td>\n",
       "      <td>0.03760</td>\n",
       "      <td>0.18530</td>\n",
       "      <td>0.20015</td>\n",
       "      <td>0.02575</td>\n",
       "      <td>0.02425</td>\n",
       "      <td>0.00320</td>\n",
       "      <td>0.01845</td>\n",
       "      <td>0.00215</td>\n",
       "      <td>0.19030</td>\n",
       "      <td>0.0259</td>\n",
       "    </tr>\n",
       "  </tbody>\n",
       "</table>\n",
       "<p>5 rows × 41 columns</p>\n",
       "</div>"
      ],
      "text/plain": [
       "   i  number_of_repetitions       y_1       p_1       q_1       y_2       p_2  \\\n",
       "0  0                  20000  0.417022  0.720324  0.000114  0.302333  0.146756   \n",
       "1  1                  20000  0.186260  0.345561  0.396767  0.538817  0.419195   \n",
       "2  2                  20000  0.204452  0.878117  0.027388  0.670468  0.417305   \n",
       "3  3                  20000  0.140387  0.198101  0.800745  0.968262  0.313424   \n",
       "4  4                  20000  0.876389  0.894607  0.085044  0.039055  0.169830   \n",
       "\n",
       "        q_2  delta  v_1_theor  ...  v_7_simulated  v_8_simulated  \\\n",
       "0  0.092339  0.999   0.000718  ...        0.00900        0.05370   \n",
       "1  0.685220  0.999   0.031138  ...        0.04075        0.05190   \n",
       "2  0.558690  0.999   0.081271  ...        0.09085        0.13385   \n",
       "3  0.692323  0.999   0.015507  ...        0.01560        0.03385   \n",
       "4  0.878143  0.999   0.039819  ...        0.03760        0.18530   \n",
       "\n",
       "   v_9_simulated  v_10_simulated  v_11_simulated  v_12_simulated  \\\n",
       "0        0.00600         0.05690         0.00200         0.02220   \n",
       "1        0.08505         0.04305         0.16280         0.07785   \n",
       "2        0.13230         0.10185         0.01915         0.01455   \n",
       "3        0.03320         0.01515         0.14045         0.06250   \n",
       "4        0.20015         0.02575         0.02425         0.00320   \n",
       "\n",
       "   v_13_simulated  v_14_simulated  v_15_simulated  v_16_simulated  \n",
       "0         0.00000         0.00010         0.07835          0.7647  \n",
       "1         0.07080         0.03280         0.10440          0.0522  \n",
       "2         0.00410         0.00380         0.15150          0.1188  \n",
       "3         0.14055         0.06025         0.03305          0.0145  \n",
       "4         0.01845         0.00215         0.19030          0.0259  \n",
       "\n",
       "[5 rows x 41 columns]"
      ]
     },
     "execution_count": 12,
     "metadata": {},
     "output_type": "execute_result"
    }
   ],
   "source": [
    "df.head()"
   ]
  },
  {
   "cell_type": "code",
   "execution_count": 13,
   "metadata": {},
   "outputs": [
    {
     "data": {
      "image/png": "[encoded data removed]",
      "text/plain": [
       "<Figure size 1440x720 with 16 Axes>"
      ]
     },
     "metadata": {
      "needs_background": "light"
     },
     "output_type": "display_data"
    }
   ],
   "source": [
    "fig, axes = plt.subplots(ncols=4, nrows=4, figsize=(20, 10))\n",
    "\n",
    "\n",
    "i = 0 \n",
    "for x_c, y_c in zip(columns[9:25], columns[25:]):\n",
    "\n",
    "    index = (int(i / 4), i % 4)\n",
    "    \n",
    "    x = df[x_c].values\n",
    "    y = df[y_c].values\n",
    "    \n",
    "    m, b = np.polyfit(x, y, 1)\n",
    "    axes[index].plot(x, m * x + b, color='red', linewidth=1,)\n",
    "    \n",
    "    axes[index].scatter(x, y, s=3)\n",
    "    axes[index].title.set_text(f\"$v_{i}$\");\n",
    "    \n",
    "\n",
    "    i += 1\n",
    "fig.tight_layout()"
   ]
  },
  {
   "cell_type": "markdown",
   "metadata": {},
   "source": [
    "**TEST**"
   ]
  },
  {
   "cell_type": "code",
   "execution_count": 8,
   "metadata": {},
   "outputs": [],
   "source": [
    "import numpy as np\n",
    "\n",
    "import tqdm"
   ]
  },
  {
   "cell_type": "code",
   "execution_count": 15,
   "metadata": {},
   "outputs": [
    {
     "name": "stderr",
     "output_type": "stream",
     "text": [
      " 50%|█████     | 1/2 [00:00<00:00, 209.38it/s]\n"
     ]
    },
    {
     "ename": "ValueError",
     "evalue": "'a' cannot be empty unless no samples are taken",
     "output_type": "error",
     "traceback": [
      "\u001b[0;31m---------------------------------------------------------------------------\u001b[0m",
      "\u001b[0;31mValueError\u001b[0m                                Traceback (most recent call last)",
      "\u001b[0;32m<ipython-input-15-0b319adc367c>\u001b[0m in \u001b[0;36m<module>\u001b[0;34m\u001b[0m\n\u001b[1;32m     24\u001b[0m     \u001b[0;32mfor\u001b[0m \u001b[0m_\u001b[0m \u001b[0;32min\u001b[0m \u001b[0mrange\u001b[0m\u001b[0;34m(\u001b[0m\u001b[0mnumber_of_repetitions\u001b[0m\u001b[0;34m)\u001b[0m\u001b[0;34m:\u001b[0m\u001b[0;34m\u001b[0m\u001b[0;34m\u001b[0m\u001b[0m\n\u001b[1;32m     25\u001b[0m         pairs = evol_dynamics.match_pairs(\n\u001b[0;32m---> 26\u001b[0;31m                 \u001b[0mpopulation_size\u001b[0m\u001b[0;34m,\u001b[0m \u001b[0mnumber_of_mutants\u001b[0m\u001b[0;34m,\u001b[0m \u001b[0mrandom_state\u001b[0m\u001b[0;34m,\u001b[0m \u001b[0mnum_of_opponents\u001b[0m\u001b[0;34m\u001b[0m\u001b[0;34m\u001b[0m\u001b[0m\n\u001b[0m\u001b[1;32m     27\u001b[0m             )\n\u001b[1;32m     28\u001b[0m \u001b[0;31m#         pairs = None\u001b[0m\u001b[0;34m\u001b[0m\u001b[0;34m\u001b[0m\u001b[0;34m\u001b[0m\u001b[0m\n",
      "\u001b[0;32m~/rsc/pd-with-stochastic-payoffs/src/evol_dynamics/simulation.py\u001b[0m in \u001b[0;36mmatch_pairs\u001b[0;34m(population_size, number_of_mutants, random_state, num_of_opponents)\u001b[0m\n\u001b[1;32m     65\u001b[0m             \u001b[0mplayer\u001b[0m \u001b[0;34m=\u001b[0m \u001b[0mpopulation_numbers\u001b[0m\u001b[0;34m.\u001b[0m\u001b[0mpop\u001b[0m\u001b[0;34m(\u001b[0m\u001b[0;34m)\u001b[0m\u001b[0;34m\u001b[0m\u001b[0;34m\u001b[0m\u001b[0m\n\u001b[1;32m     66\u001b[0m             opponent = random_state.choice(\n\u001b[0;32m---> 67\u001b[0;31m                 \u001b[0;34m[\u001b[0m\u001b[0mi\u001b[0m \u001b[0;32mfor\u001b[0m \u001b[0mi\u001b[0m \u001b[0;32min\u001b[0m \u001b[0mpopulation_numbers\u001b[0m \u001b[0;32mif\u001b[0m \u001b[0mi\u001b[0m \u001b[0;32mnot\u001b[0m \u001b[0;32min\u001b[0m \u001b[0mpairs\u001b[0m\u001b[0;34m[\u001b[0m\u001b[0mplayer\u001b[0m\u001b[0;34m]\u001b[0m\u001b[0;34m]\u001b[0m\u001b[0;34m\u001b[0m\u001b[0;34m\u001b[0m\u001b[0m\n\u001b[0m\u001b[1;32m     68\u001b[0m             )\n\u001b[1;32m     69\u001b[0m             \u001b[0mpopulation_numbers\u001b[0m\u001b[0;34m.\u001b[0m\u001b[0mremove\u001b[0m\u001b[0;34m(\u001b[0m\u001b[0mopponent\u001b[0m\u001b[0;34m)\u001b[0m\u001b[0;34m\u001b[0m\u001b[0;34m\u001b[0m\u001b[0m\n",
      "\u001b[0;32mmtrand.pyx\u001b[0m in \u001b[0;36mnumpy.random.mtrand.RandomState.choice\u001b[0;34m()\u001b[0m\n",
      "\u001b[0;31mValueError\u001b[0m: 'a' cannot be empty unless no samples are taken"
     ]
    }
   ],
   "source": [
    "number_of_checks = 2\n",
    "delta = 0.999\n",
    "\n",
    "seed = 0 # input\n",
    "number_of_repetitions = 1 # input\n",
    "\n",
    "num_of_opponents = 2\n",
    "\n",
    "for i in tqdm.tqdm(range(number_of_checks)):\n",
    "    \n",
    "    random_state = np.random.RandomState(i)\n",
    "    population_size = random_state.randint(50, 150)\n",
    "    number_of_mutants = random_state.randint(10, 50)\n",
    "    \n",
    "    \n",
    "#     simulated = evol_dynamics.get_probabilities_for_opponents(\n",
    "#                                                             number_of_repetitions,\n",
    "#                                                             population_size,\n",
    "#                                                             number_of_mutants,\n",
    "#                                                             random_state,\n",
    "#                                                             num_of_opponents,\n",
    "#                                                             )\n",
    "\n",
    "    for _ in range(number_of_repetitions):\n",
    "        pairs = evol_dynamics.match_pairs(\n",
    "                population_size, number_of_mutants, random_state, num_of_opponents\n",
    "            )\n",
    "#         pairs = None\n",
    "#         while pairs is None:\n",
    "#             try:\n",
    "#                 pairs = evol_dynamics.match_pairs(\n",
    "#                         population_size, number_of_mutants, random_state, num_of_opponents\n",
    "#                     )\n",
    "#             except ValueError:\n",
    "#                 pass"
   ]
  },
  {
   "cell_type": "code",
   "execution_count": 35,
   "metadata": {},
   "outputs": [],
   "source": [
    "population_size = 10\n",
    "number_of_mutants = 2\n",
    "\n",
    "import numpy as np\n",
    "\n",
    "random_state = np.random.RandomState(0)"
   ]
  },
  {
   "cell_type": "code",
   "execution_count": 36,
   "metadata": {},
   "outputs": [],
   "source": [
    "population = evol_dynamics.create_population(\n",
    "    population_size, number_of_mutants, random_state\n",
    ")\n",
    "\n",
    "pairs = {i: [] for i in range(population_size)}"
   ]
  },
  {
   "cell_type": "code",
   "execution_count": 69,
   "metadata": {},
   "outputs": [],
   "source": [
    "population_numbers = list(range(population_size))\n",
    "random_state.shuffle(population_numbers)"
   ]
  },
  {
   "cell_type": "code",
   "execution_count": 70,
   "metadata": {},
   "outputs": [
    {
     "data": {
      "text/plain": [
       "([5, 2, 3, 4, 9], [0, 8, 7, 6, 1])"
      ]
     },
     "execution_count": 70,
     "metadata": {},
     "output_type": "execute_result"
    }
   ],
   "source": [
    "population_numbers[:5], population_numbers[-5:]"
   ]
  },
  {
   "cell_type": "code",
   "execution_count": 71,
   "metadata": {},
   "outputs": [],
   "source": [
    "# while len(population_numbers) > 0:\n",
    "#     player = population_numbers.pop()\n",
    "#     opponent = random_state.choice(\n",
    "#         [i for i in population_numbers if i not in pairs[player]]\n",
    "#     )\n",
    "#     population_numbers.remove(opponent)\n",
    "\n",
    "#     pairs[player] += [opponent]\n",
    "#     pairs[opponent] += [player]"
   ]
  },
  {
   "cell_type": "code",
   "execution_count": 93,
   "metadata": {},
   "outputs": [],
   "source": [
    "player = population_numbers.pop()"
   ]
  },
  {
   "cell_type": "code",
   "execution_count": 94,
   "metadata": {},
   "outputs": [
    {
     "data": {
      "text/plain": [
       "0"
      ]
     },
     "execution_count": 94,
     "metadata": {},
     "output_type": "execute_result"
    }
   ],
   "source": [
    "player"
   ]
  },
  {
   "cell_type": "code",
   "execution_count": 95,
   "metadata": {},
   "outputs": [
    {
     "data": {
      "text/plain": [
       "[5, 4, 9]"
      ]
     },
     "execution_count": 95,
     "metadata": {},
     "output_type": "execute_result"
    }
   ],
   "source": [
    "[i for i in population_numbers if i not in pairs[player]]"
   ]
  },
  {
   "cell_type": "code",
   "execution_count": 96,
   "metadata": {},
   "outputs": [],
   "source": [
    "opponent = random_state.choice(\n",
    "        [i for i in population_numbers if i not in pairs[player]]\n",
    "    )"
   ]
  },
  {
   "cell_type": "code",
   "execution_count": 97,
   "metadata": {},
   "outputs": [],
   "source": [
    "population_numbers.remove(opponent)"
   ]
  },
  {
   "cell_type": "code",
   "execution_count": 98,
   "metadata": {},
   "outputs": [],
   "source": [
    "pairs[player] += [opponent]\n",
    "pairs[opponent] += [player]"
   ]
  },
  {
   "cell_type": "code",
   "execution_count": 99,
   "metadata": {},
   "outputs": [
    {
     "data": {
      "text/plain": [
       "{0: [3, 5],\n",
       " 1: [5, 2],\n",
       " 2: [7, 1],\n",
       " 3: [0, 6],\n",
       " 4: [9],\n",
       " 5: [1, 0],\n",
       " 6: [8, 3],\n",
       " 7: [2, 8],\n",
       " 8: [6, 7],\n",
       " 9: [4]}"
      ]
     },
     "execution_count": 99,
     "metadata": {},
     "output_type": "execute_result"
    }
   ],
   "source": [
    "pairs"
   ]
  },
  {
   "cell_type": "code",
   "execution_count": null,
   "metadata": {},
   "outputs": [],
   "source": []
  },
  {
   "cell_type": "code",
   "execution_count": 35,
   "metadata": {},
   "outputs": [],
   "source": [
    "\n",
    "\n",
    "for _ in range(num_of_opponents):\n",
    "\n",
    "    population_numbers = list(range(population_size))\n",
    "    random_state.shuffle(population_numbers)\n",
    "\n",
    "    while len(population_numbers) > 0:\n",
    "        player = population_numbers.pop()\n",
    "        opponent = random_state.choice(\n",
    "            [i for i in population_numbers if i not in pairs[player]]\n",
    "        )\n",
    "        population_numbers.remove(opponent)\n",
    "\n",
    "        pairs[player] += [opponent]\n",
    "        pairs[opponent] += [player]\n",
    "\n",
    "pairs_to_types = {\n",
    "    population[i]: [population[j] for j in pairs[i]] for i in pairs.keys()\n",
    "}"
   ]
  }
 ],
 "metadata": {
  "kernelspec": {
   "display_name": "stochastic-payoffs",
   "language": "python",
   "name": "stochastic-payoffs"
  },
  "language_info": {
   "codemirror_mode": {
    "name": "ipython",
    "version": 3
   },
   "file_extension": ".py",
   "mimetype": "text/x-python",
   "name": "python",
   "nbconvert_exporter": "python",
   "pygments_lexer": "ipython3",
   "version": "3.7.9"
  }
 },
 "nbformat": 4,
 "nbformat_minor": 4
}
