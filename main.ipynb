{
 "cells": [
  {
   "cell_type": "code",
   "execution_count": 1,
   "metadata": {},
   "outputs": [],
   "source": [
    "import sympy as sym\n",
    "\n",
    "import numpy as np\n",
    "\n",
    "import itertools\n",
    "\n",
    "sym.init_printing()"
   ]
  },
  {
   "cell_type": "code",
   "execution_count": 2,
   "metadata": {},
   "outputs": [],
   "source": [
    "from importlib.machinery import SourceFileLoader\n",
    "\n",
    "\n",
    "evolution = SourceFileLoader(\"evolution\", \"src/evolution.py\").load_module()\n",
    "formulation = SourceFileLoader(\"formulation\", \"src/formulation.py\").load_module()\n",
    "\n",
    "simulation = SourceFileLoader(\"simulation\", \"src/simulation.py\").load_module()"
   ]
  },
  {
   "cell_type": "code",
   "execution_count": 3,
   "metadata": {},
   "outputs": [],
   "source": [
    "import matplotlib.pyplot as plt\n",
    "import matplotlib\n",
    "\n",
    "from collections import Counter"
   ]
  },
  {
   "cell_type": "code",
   "execution_count": 4,
   "metadata": {},
   "outputs": [],
   "source": [
    "from tqdm import tqdm"
   ]
  },
  {
   "cell_type": "code",
   "execution_count": 5,
   "metadata": {},
   "outputs": [],
   "source": [
    "import pandas as pd"
   ]
  },
  {
   "cell_type": "markdown",
   "metadata": {},
   "source": [
    "**Defining variables**"
   ]
  },
  {
   "cell_type": "code",
   "execution_count": 56,
   "metadata": {},
   "outputs": [],
   "source": [
    "y_1, p_1, q_1 = sym.symbols(\"y_1, p_1, q_1\")\n",
    "y_2, p_2, q_2 = sym.symbols(\"y_2, p_2, q_2\")"
   ]
  },
  {
   "cell_type": "code",
   "execution_count": 57,
   "metadata": {},
   "outputs": [],
   "source": [
    "s_one = (y_1, p_1, q_1)\n",
    "s_two = (y_2, p_2, q_2)"
   ]
  },
  {
   "cell_type": "code",
   "execution_count": 58,
   "metadata": {},
   "outputs": [
    {
     "data": {
      "image/png": "[encoded data removed]",
      "text/latex": [
       "$\\displaystyle \\left( y_{1}, \\  p_{1}, \\  q_{1}\\right)$"
      ],
      "text/plain": [
       "(y₁, p₁, q₁)"
      ]
     },
     "execution_count": 58,
     "metadata": {},
     "output_type": "execute_result"
    }
   ],
   "source": [
    "s_one"
   ]
  },
  {
   "cell_type": "markdown",
   "metadata": {},
   "source": [
    "**Get expression using code**"
   ]
  },
  {
   "cell_type": "code",
   "execution_count": 59,
   "metadata": {},
   "outputs": [],
   "source": [
    "d = sym.symbols(\"delta\")"
   ]
  },
  {
   "cell_type": "code",
   "execution_count": 60,
   "metadata": {},
   "outputs": [],
   "source": [
    "v_zero = formulation.expected_distribution_opening_round(s_one, s_two)"
   ]
  },
  {
   "cell_type": "code",
   "execution_count": 61,
   "metadata": {},
   "outputs": [
    {
     "data": {
      "image/png": "[encoded data removed]",
      "text/latex": [
       "$\\displaystyle \\left( y_{1} y_{2}, \\  y_{1} \\left(1 - y_{2}\\right), \\  y_{2} \\left(1 - y_{1}\\right), \\  \\left(1 - y_{1}\\right) \\left(1 - y_{2}\\right)\\right)$"
      ],
      "text/plain": [
       "(y₁⋅y₂, y₁⋅(1 - y₂), y₂⋅(1 - y₁), (1 - y₁)⋅(1 - y₂))"
      ]
     },
     "execution_count": 61,
     "metadata": {},
     "output_type": "execute_result"
    }
   ],
   "source": [
    "v_zero"
   ]
  },
  {
   "cell_type": "code",
   "execution_count": 62,
   "metadata": {},
   "outputs": [],
   "source": [
    "M = formulation.markov_chain_for_reactive_strategies(s_one, s_two)"
   ]
  },
  {
   "cell_type": "code",
   "execution_count": 63,
   "metadata": {},
   "outputs": [],
   "source": [
    "inverse = sym.Matrix(np.identity(4) - d * M).inverse_ADJ()"
   ]
  },
  {
   "cell_type": "code",
   "execution_count": 64,
   "metadata": {},
   "outputs": [],
   "source": [
    "inverse = inverse.applyfunc(sym.simplify)"
   ]
  },
  {
   "cell_type": "code",
   "execution_count": 65,
   "metadata": {},
   "outputs": [],
   "source": [
    "expression = (1 - d) * sym.Matrix(v_zero).reshape(1, 4) @ inverse"
   ]
  },
  {
   "cell_type": "markdown",
   "metadata": {},
   "source": [
    "**Check the written mathematics**"
   ]
  },
  {
   "cell_type": "code",
   "execution_count": 66,
   "metadata": {},
   "outputs": [
    {
     "data": {
      "image/png": "[encoded data removed]",
      "text/latex": [
       "$\\displaystyle \\frac{\\delta \\left(q_{1} + \\left(p_{1} - q_{1}\\right) \\left(\\delta q_{2} + y_{2} \\left(1 - \\delta\\right)\\right)\\right) \\left(q_{2} + \\left(p_{2} - q_{2}\\right) \\left(\\delta q_{1} + y_{1} \\left(1 - \\delta\\right)\\right)\\right)}{\\left(- \\delta \\left(p_{1} - q_{1}\\right) \\left(p_{2} - q_{2}\\right) + 1\\right) \\left(- \\delta^{2} \\left(p_{1} - q_{1}\\right) \\left(p_{2} - q_{2}\\right) + 1\\right)} + \\frac{y_{1} y_{2} \\left(1 - \\delta\\right)}{- \\delta^{2} \\left(p_{1} - q_{1}\\right) \\left(p_{2} - q_{2}\\right) + 1}$"
      ],
      "text/plain": [
       "δ⋅(q₁ + (p₁ - q₁)⋅(δ⋅q₂ + y₂⋅(1 - δ)))⋅(q₂ + (p₂ - q₂)⋅(δ⋅q₁ + y₁⋅(1 - δ)))   \n",
       "─────────────────────────────────────────────────────────────────────────── + \n",
       "                                     ⎛   2                        ⎞           \n",
       "        (-δ⋅(p₁ - q₁)⋅(p₂ - q₂) + 1)⋅⎝- δ ⋅(p₁ - q₁)⋅(p₂ - q₂) + 1⎠           \n",
       "\n",
       "       y₁⋅y₂⋅(1 - δ)        \n",
       "────────────────────────────\n",
       "   2                        \n",
       "- δ ⋅(p₁ - q₁)⋅(p₂ - q₂) + 1"
      ]
     },
     "execution_count": 66,
     "metadata": {},
     "output_type": "execute_result"
    }
   ],
   "source": [
    "u_R = formulation.probability_being_in_state_R(s_one, s_two, d)\n",
    "u_R"
   ]
  },
  {
   "cell_type": "code",
   "execution_count": 67,
   "metadata": {},
   "outputs": [
    {
     "data": {
      "image/png": "[encoded data removed]",
      "text/latex": [
       "$\\displaystyle \\frac{\\delta \\left(q_{1} + \\left(p_{1} - q_{1}\\right) \\left(\\delta q_{2} + y_{2} \\left(1 - \\delta\\right)\\right)\\right) \\left(- q_{2} + \\left(- p_{2} + q_{2}\\right) \\left(\\delta p_{1} + y_{1} \\left(1 - \\delta\\right)\\right) + 1\\right)}{\\left(- \\delta \\left(p_{1} - q_{1}\\right) \\left(p_{2} - q_{2}\\right) + 1\\right) \\left(- \\delta^{2} \\left(p_{1} - q_{1}\\right) \\left(p_{2} - q_{2}\\right) + 1\\right)} + \\frac{y_{1} \\left(1 - \\delta\\right) \\left(1 - y_{2}\\right)}{- \\delta^{2} \\left(p_{1} - q_{1}\\right) \\left(p_{2} - q_{2}\\right) + 1}$"
      ],
      "text/plain": [
       "δ⋅(q₁ + (p₁ - q₁)⋅(δ⋅q₂ + y₂⋅(1 - δ)))⋅(-q₂ + (-p₂ + q₂)⋅(δ⋅p₁ + y₁⋅(1 - δ)) +\n",
       "──────────────────────────────────────────────────────────────────────────────\n",
       "                                        ⎛   2                        ⎞        \n",
       "           (-δ⋅(p₁ - q₁)⋅(p₂ - q₂) + 1)⋅⎝- δ ⋅(p₁ - q₁)⋅(p₂ - q₂) + 1⎠        \n",
       "\n",
       " 1)       y₁⋅(1 - δ)⋅(1 - y₂)     \n",
       "─── + ────────────────────────────\n",
       "         2                        \n",
       "      - δ ⋅(p₁ - q₁)⋅(p₂ - q₂) + 1"
      ]
     },
     "execution_count": 67,
     "metadata": {},
     "output_type": "execute_result"
    }
   ],
   "source": [
    "u_S = formulation.probability_being_in_state_S(s_one, s_two, d)\n",
    "u_S"
   ]
  },
  {
   "cell_type": "code",
   "execution_count": 68,
   "metadata": {},
   "outputs": [
    {
     "data": {
      "image/png": "[encoded data removed]",
      "text/latex": [
       "$\\displaystyle \\frac{\\delta \\left(q_{2} + \\left(p_{2} - q_{2}\\right) \\left(\\delta q_{1} + y_{1} \\left(1 - \\delta\\right)\\right)\\right) \\left(- q_{1} + \\left(- p_{1} + q_{1}\\right) \\left(\\delta p_{2} + y_{2} \\left(1 - \\delta\\right)\\right) + 1\\right)}{\\left(- \\delta \\left(p_{1} - q_{1}\\right) \\left(p_{2} - q_{2}\\right) + 1\\right) \\left(- \\delta^{2} \\left(p_{1} - q_{1}\\right) \\left(p_{2} - q_{2}\\right) + 1\\right)} + \\frac{y_{2} \\left(1 - \\delta\\right) \\left(1 - y_{1}\\right)}{- \\delta^{2} \\left(p_{1} - q_{1}\\right) \\left(p_{2} - q_{2}\\right) + 1}$"
      ],
      "text/plain": [
       "δ⋅(q₂ + (p₂ - q₂)⋅(δ⋅q₁ + y₁⋅(1 - δ)))⋅(-q₁ + (-p₁ + q₁)⋅(δ⋅p₂ + y₂⋅(1 - δ)) +\n",
       "──────────────────────────────────────────────────────────────────────────────\n",
       "                                        ⎛   2                        ⎞        \n",
       "           (-δ⋅(p₁ - q₁)⋅(p₂ - q₂) + 1)⋅⎝- δ ⋅(p₁ - q₁)⋅(p₂ - q₂) + 1⎠        \n",
       "\n",
       " 1)       y₂⋅(1 - δ)⋅(1 - y₁)     \n",
       "─── + ────────────────────────────\n",
       "         2                        \n",
       "      - δ ⋅(p₁ - q₁)⋅(p₂ - q₂) + 1"
      ]
     },
     "execution_count": 68,
     "metadata": {},
     "output_type": "execute_result"
    }
   ],
   "source": [
    "u_T = formulation.probability_being_in_state_T(s_one, s_two, d)\n",
    "u_T"
   ]
  },
  {
   "cell_type": "code",
   "execution_count": 69,
   "metadata": {},
   "outputs": [
    {
     "data": {
      "image/png": "[encoded data removed]",
      "text/latex": [
       "$\\displaystyle \\frac{\\delta \\left(- q_{1} + \\left(- p_{1} + q_{1}\\right) \\left(\\delta p_{2} + y_{2} \\left(1 - \\delta\\right)\\right) + 1\\right) \\left(- q_{2} + \\left(- p_{2} + q_{2}\\right) \\left(\\delta p_{1} + y_{1} \\left(1 - \\delta\\right)\\right) + 1\\right)}{\\left(- \\delta \\left(p_{1} - q_{1}\\right) \\left(p_{2} - q_{2}\\right) + 1\\right) \\left(- \\delta^{2} \\left(p_{1} - q_{1}\\right) \\left(p_{2} - q_{2}\\right) + 1\\right)} + \\frac{\\left(1 - \\delta\\right) \\left(1 - y_{1}\\right) \\left(1 - y_{2}\\right)}{- \\delta^{2} \\left(p_{1} - q_{1}\\right) \\left(p_{2} - q_{2}\\right) + 1}$"
      ],
      "text/plain": [
       "δ⋅(-q₁ + (-p₁ + q₁)⋅(δ⋅p₂ + y₂⋅(1 - δ)) + 1)⋅(-q₂ + (-p₂ + q₂)⋅(δ⋅p₁ + y₁⋅(1 -\n",
       "──────────────────────────────────────────────────────────────────────────────\n",
       "                                           ⎛   2                        ⎞     \n",
       "              (-δ⋅(p₁ - q₁)⋅(p₂ - q₂) + 1)⋅⎝- δ ⋅(p₁ - q₁)⋅(p₂ - q₂) + 1⎠     \n",
       "\n",
       " δ)) + 1)    (1 - δ)⋅(1 - y₁)⋅(1 - y₂)  \n",
       "───────── + ────────────────────────────\n",
       "               2                        \n",
       "            - δ ⋅(p₁ - q₁)⋅(p₂ - q₂) + 1"
      ]
     },
     "execution_count": 69,
     "metadata": {},
     "output_type": "execute_result"
    }
   ],
   "source": [
    "u_P = formulation.probability_being_in_state_P(s_one, s_two, d)\n",
    "u_P"
   ]
  },
  {
   "cell_type": "code",
   "execution_count": 70,
   "metadata": {},
   "outputs": [
    {
     "data": {
      "image/png": "[encoded data removed]",
      "text/latex": [
       "$\\displaystyle \\left( 0, \\  0\\right)$"
      ],
      "text/plain": [
       "(0, 0)"
      ]
     },
     "execution_count": 70,
     "metadata": {},
     "output_type": "execute_result"
    }
   ],
   "source": [
    "(u_R - expression[0]).simplify(), (u_S - expression[1]).factor()"
   ]
  },
  {
   "cell_type": "code",
   "execution_count": 71,
   "metadata": {},
   "outputs": [
    {
     "data": {
      "image/png": "[encoded data removed]",
      "text/latex": [
       "$\\displaystyle \\left( 0, \\  0\\right)$"
      ],
      "text/plain": [
       "(0, 0)"
      ]
     },
     "execution_count": 71,
     "metadata": {},
     "output_type": "execute_result"
    }
   ],
   "source": [
    "(u_T - expression[2]).factor(), (u_P - expression[3]).factor()"
   ]
  },
  {
   "cell_type": "markdown",
   "metadata": {},
   "source": [
    "**Check functions for analysis of ALLD into GTFT**"
   ]
  },
  {
   "cell_type": "code",
   "execution_count": 72,
   "metadata": {},
   "outputs": [],
   "source": [
    "q = sym.symbols(\"q\")\n",
    "\n",
    "N, k = sym.symbols(\"N, k\")"
   ]
  },
  {
   "cell_type": "code",
   "execution_count": 73,
   "metadata": {},
   "outputs": [],
   "source": [
    "ALLD = (0, 0, 0)\n",
    "GTFT = (1, 1, q)"
   ]
  },
  {
   "cell_type": "markdown",
   "metadata": {},
   "source": [
    "**States of Eq. (9) and (10)**"
   ]
  },
  {
   "cell_type": "code",
   "execution_count": 75,
   "metadata": {},
   "outputs": [
    {
     "data": {
      "image/png": "[encoded data removed]",
      "text/latex": [
       "$\\displaystyle 1$"
      ],
      "text/plain": [
       "1"
      ]
     },
     "execution_count": 75,
     "metadata": {},
     "output_type": "execute_result"
    }
   ],
   "source": [
    "formulation.probability_being_in_state_R(GTFT, GTFT, d).factor()"
   ]
  },
  {
   "cell_type": "code",
   "execution_count": 76,
   "metadata": {},
   "outputs": [
    {
     "data": {
      "image/png": "[encoded data removed]",
      "text/latex": [
       "$\\displaystyle 0$"
      ],
      "text/plain": [
       "0"
      ]
     },
     "execution_count": 76,
     "metadata": {},
     "output_type": "execute_result"
    }
   ],
   "source": [
    "formulation.probability_being_in_state_R(GTFT, ALLD, d).factor()"
   ]
  },
  {
   "cell_type": "code",
   "execution_count": 77,
   "metadata": {},
   "outputs": [
    {
     "data": {
      "image/png": "[encoded data removed]",
      "text/latex": [
       "$\\displaystyle 0$"
      ],
      "text/plain": [
       "0"
      ]
     },
     "execution_count": 77,
     "metadata": {},
     "output_type": "execute_result"
    }
   ],
   "source": [
    "formulation.probability_being_in_state_R(GTFT, ALLD, d).factor()"
   ]
  },
  {
   "cell_type": "code",
   "execution_count": 78,
   "metadata": {},
   "outputs": [
    {
     "data": {
      "image/png": "[encoded data removed]",
      "text/latex": [
       "$\\displaystyle \\delta q - \\delta + 1$"
      ],
      "text/plain": [
       "δ⋅q - δ + 1"
      ]
     },
     "execution_count": 78,
     "metadata": {},
     "output_type": "execute_result"
    }
   ],
   "source": [
    "formulation.probability_being_in_state_T(ALLD, GTFT, d).factor()"
   ]
  },
  {
   "cell_type": "code",
   "execution_count": 79,
   "metadata": {},
   "outputs": [
    {
     "data": {
      "image/png": "[encoded data removed]",
      "text/latex": [
       "$\\displaystyle \\left( 0, \\  0, \\  0\\right)$"
      ],
      "text/plain": [
       "(0, 0, 0)"
      ]
     },
     "execution_count": 79,
     "metadata": {},
     "output_type": "execute_result"
    }
   ],
   "source": [
    "(\n",
    "    formulation.probability_being_in_state_S(GTFT, GTFT, d).factor(),\n",
    "    formulation.probability_being_in_state_T(GTFT, GTFT, d).factor(),\n",
    "    formulation.probability_being_in_state_P(GTFT, GTFT, d).factor(),\n",
    ")"
   ]
  },
  {
   "cell_type": "code",
   "execution_count": 80,
   "metadata": {},
   "outputs": [
    {
     "data": {
      "image/png": "[encoded data removed]",
      "text/latex": [
       "$\\displaystyle \\left( 0, \\  0\\right)$"
      ],
      "text/plain": [
       "(0, 0)"
      ]
     },
     "execution_count": 80,
     "metadata": {},
     "output_type": "execute_result"
    }
   ],
   "source": [
    "formulation.probability_being_in_state_R(ALLD, GTFT, d).factor(), main.probability_being_in_state_S(\n",
    "    ALLD, GTFT, d\n",
    ").factor()"
   ]
  },
  {
   "cell_type": "code",
   "execution_count": 81,
   "metadata": {},
   "outputs": [
    {
     "data": {
      "image/png": "[encoded data removed]",
      "text/latex": [
       "$\\displaystyle \\left( \\delta q - \\delta + 1, \\  - \\delta \\left(q - 1\\right)\\right)$"
      ],
      "text/plain": [
       "(δ⋅q - δ + 1, -δ⋅(q - 1))"
      ]
     },
     "execution_count": 81,
     "metadata": {},
     "output_type": "execute_result"
    }
   ],
   "source": [
    "formulation.probability_being_in_state_T(ALLD, GTFT, d).factor(), main.probability_being_in_state_P(\n",
    "    ALLD, GTFT, d\n",
    ").factor()"
   ]
  },
  {
   "cell_type": "markdown",
   "metadata": {},
   "source": [
    "**Ep. (11)**"
   ]
  },
  {
   "cell_type": "code",
   "execution_count": 83,
   "metadata": {},
   "outputs": [
    {
     "data": {
      "image/png": "[encoded data removed]",
      "text/latex": [
       "$\\displaystyle - \\frac{\\delta \\left(N - 2\\right) \\left(q - 1\\right)}{N - 1}$"
      ],
      "text/plain": [
       "-δ⋅(N - 2)⋅(q - 1) \n",
       "───────────────────\n",
       "       N - 1       "
      ]
     },
     "execution_count": 83,
     "metadata": {},
     "output_type": "execute_result"
    }
   ],
   "source": [
    "formulation.probability_of_receiving_payoffs(\n",
    "    player=GTFT,\n",
    "    opponent=ALLD,\n",
    "    player_state=main.probability_being_in_state_R,\n",
    "    opponent_state=main.probability_being_in_state_P,\n",
    "    N=N,\n",
    "    k=1,\n",
    "    delta=d,\n",
    ").factor()"
   ]
  },
  {
   "cell_type": "code",
   "execution_count": 84,
   "metadata": {},
   "outputs": [
    {
     "data": {
      "image/png": "[encoded data removed]",
      "text/latex": [
       "$\\displaystyle \\frac{\\delta \\left(1 - q\\right) \\left(N - 2\\right)}{N - 1}$"
      ],
      "text/plain": [
       "δ⋅(1 - q)⋅(N - 2)\n",
       "─────────────────\n",
       "      N - 1      "
      ]
     },
     "execution_count": 84,
     "metadata": {},
     "output_type": "execute_result"
    }
   ],
   "source": [
    "formulation.probability_of_receiving_payoffs(\n",
    "    player=GTFT,\n",
    "    opponent=ALLD,\n",
    "    player_state=main.probability_being_in_state_R,\n",
    "    opponent_state=main.probability_being_in_state_P,\n",
    "    N=N,\n",
    "    k=1,\n",
    "    delta=d,\n",
    ").factor().collect(1 - q)"
   ]
  },
  {
   "cell_type": "code",
   "execution_count": 85,
   "metadata": {},
   "outputs": [
    {
     "data": {
      "image/png": "[encoded data removed]",
      "text/latex": [
       "$\\displaystyle 0$"
      ],
      "text/plain": [
       "0"
      ]
     },
     "execution_count": 85,
     "metadata": {},
     "output_type": "execute_result"
    }
   ],
   "source": [
    "formulation.probability_of_receiving_payoffs(\n",
    "    player=GTFT,\n",
    "    opponent=ALLD,\n",
    "    player_state=main.probability_being_in_state_S,\n",
    "    opponent_state=main.probability_being_in_state_T,\n",
    "    N=N,\n",
    "    k=1,\n",
    "    delta=d,\n",
    ").factor()"
   ]
  },
  {
   "cell_type": "code",
   "execution_count": 86,
   "metadata": {},
   "outputs": [
    {
     "data": {
      "image/png": "[encoded data removed]",
      "text/latex": [
       "$\\displaystyle 0$"
      ],
      "text/plain": [
       "0"
      ]
     },
     "execution_count": 86,
     "metadata": {},
     "output_type": "execute_result"
    }
   ],
   "source": [
    "formulation.probability_of_receiving_payoffs(\n",
    "    player=GTFT,\n",
    "    opponent=ALLD,\n",
    "    player_state=main.probability_being_in_state_P,\n",
    "    opponent_state=main.probability_being_in_state_P,\n",
    "    N=N,\n",
    "    k=1,\n",
    "    delta=d,\n",
    ").expand()"
   ]
  },
  {
   "cell_type": "code",
   "execution_count": 87,
   "metadata": {},
   "outputs": [
    {
     "data": {
      "image/png": "[encoded data removed]",
      "text/latex": [
       "$\\displaystyle 0$"
      ],
      "text/plain": [
       "0"
      ]
     },
     "execution_count": 87,
     "metadata": {},
     "output_type": "execute_result"
    }
   ],
   "source": [
    "formulation.probability_of_receiving_payoffs(\n",
    "    player=GTFT,\n",
    "    opponent=ALLD,\n",
    "    player_state=main.probability_being_in_state_P,\n",
    "    opponent_state=main.probability_being_in_state_S,\n",
    "    N=N,\n",
    "    k=1,\n",
    "    delta=d,\n",
    ").simplify()"
   ]
  },
  {
   "cell_type": "code",
   "execution_count": 88,
   "metadata": {},
   "outputs": [
    {
     "data": {
      "image/png": "[encoded data removed]",
      "text/latex": [
       "$\\displaystyle \\delta q - \\delta + 1$"
      ],
      "text/plain": [
       "δ⋅q - δ + 1"
      ]
     },
     "execution_count": 88,
     "metadata": {},
     "output_type": "execute_result"
    }
   ],
   "source": [
    "formulation.probability_being_in_state_S(GTFT, ALLD, d).factor()"
   ]
  },
  {
   "cell_type": "code",
   "execution_count": 89,
   "metadata": {},
   "outputs": [
    {
     "data": {
      "image/png": "[encoded data removed]",
      "text/latex": [
       "$\\displaystyle 0$"
      ],
      "text/plain": [
       "0"
      ]
     },
     "execution_count": 89,
     "metadata": {},
     "output_type": "execute_result"
    }
   ],
   "source": [
    "formulation.probability_being_in_state_R(ALLD, GTFT, d).factor()"
   ]
  },
  {
   "cell_type": "code",
   "execution_count": 90,
   "metadata": {},
   "outputs": [
    {
     "data": {
      "image/png": "[encoded data removed]",
      "text/latex": [
       "$\\displaystyle 0$"
      ],
      "text/plain": [
       "0"
      ]
     },
     "execution_count": 90,
     "metadata": {},
     "output_type": "execute_result"
    }
   ],
   "source": [
    "formulation.probability_being_in_state_R(ALLD, ALLD, d).factor()"
   ]
  },
  {
   "cell_type": "code",
   "execution_count": 92,
   "metadata": {},
   "outputs": [
    {
     "data": {
      "image/png": "[encoded data removed]",
      "text/latex": [
       "$\\displaystyle 0$"
      ],
      "text/plain": [
       "0"
      ]
     },
     "execution_count": 92,
     "metadata": {},
     "output_type": "execute_result"
    }
   ],
   "source": [
    "formulation.probability_of_receiving_payoffs(\n",
    "    player=GTFT,\n",
    "    opponent=ALLD,\n",
    "    player_state=main.probability_being_in_state_S,\n",
    "    opponent_state=main.probability_being_in_state_R,\n",
    "    N=N,\n",
    "    k=1,\n",
    "    delta=d,\n",
    ").simplify()"
   ]
  },
  {
   "cell_type": "markdown",
   "metadata": {},
   "source": [
    "**Fixation probabilities**"
   ]
  },
  {
   "cell_type": "code",
   "execution_count": 93,
   "metadata": {},
   "outputs": [],
   "source": [
    "R, S, T, P = sym.symbols('R, S, T, P')"
   ]
  },
  {
   "cell_type": "code",
   "execution_count": 94,
   "metadata": {},
   "outputs": [
    {
     "data": {
      "image/png": "[encoded data removed]",
      "text/latex": [
       "$\\displaystyle \\beta$"
      ],
      "text/plain": [
       "β"
      ]
     },
     "execution_count": 94,
     "metadata": {},
     "output_type": "execute_result"
    }
   ],
   "source": [
    "b = sym.symbols('beta')\n",
    "b"
   ]
  },
  {
   "cell_type": "code",
   "execution_count": 95,
   "metadata": {},
   "outputs": [],
   "source": [
    "expr = (evolution.probability_mutant_increases(GTFT, ALLD, N, k=1, delta=d, beta=b, payoffs=[R, S, T, P]) /\n",
    "        evolution.probability_mutant_descreases(GTFT, ALLD, N, k=1, delta=d, beta=b, payoffs=[R, S, T, P]))\n"
   ]
  },
  {
   "cell_type": "code",
   "execution_count": 96,
   "metadata": {},
   "outputs": [
    {
     "data": {
      "image/png": "[encoded data removed]",
      "text/latex": [
       "$\\displaystyle \\frac{\\frac{\\delta \\left(1 - q\\right) \\left(1 - \\frac{1}{N - 1}\\right) \\left(\\frac{\\delta \\left(q + \\left(1 - q\\right) \\left(\\delta q - \\delta + 1\\right)\\right)^{2}}{\\left(- \\delta \\left(1 - q\\right)^{2} + 1\\right) \\left(- \\delta^{2} \\left(1 - q\\right)^{2} + 1\\right)} + \\frac{1 - \\delta}{- \\delta^{2} \\left(1 - q\\right)^{2} + 1}\\right)}{1 + e^{- \\beta \\left(P - R\\right)}} + \\frac{\\delta \\left(1 - q\\right)}{2 \\left(N - 1\\right)} + \\frac{\\left(1 - \\frac{1}{N - 1}\\right) \\left(\\frac{\\delta \\left(q + \\left(1 - q\\right) \\left(\\delta q - \\delta + 1\\right)\\right)^{2}}{\\left(- \\delta \\left(1 - q\\right)^{2} + 1\\right) \\left(- \\delta^{2} \\left(1 - q\\right)^{2} + 1\\right)} + \\frac{1 - \\delta}{- \\delta^{2} \\left(1 - q\\right)^{2} + 1}\\right) \\left(\\delta q - \\delta + 1\\right)}{1 + e^{- \\beta \\left(- R + T\\right)}} + \\frac{\\delta q - \\delta + 1}{\\left(1 + e^{- \\beta \\left(- S + T\\right)}\\right) \\left(N - 1\\right)}}{\\frac{\\delta \\left(1 - q\\right) \\left(1 - \\frac{1}{N - 1}\\right) \\left(\\frac{\\delta \\left(q + \\left(1 - q\\right) \\left(\\delta q - \\delta + 1\\right)\\right)^{2}}{\\left(- \\delta \\left(1 - q\\right)^{2} + 1\\right) \\left(- \\delta^{2} \\left(1 - q\\right)^{2} + 1\\right)} + \\frac{1 - \\delta}{- \\delta^{2} \\left(1 - q\\right)^{2} + 1}\\right)}{1 + e^{- \\beta \\left(- P + R\\right)}} + \\frac{\\delta \\left(1 - q\\right)}{2 \\left(N - 1\\right)} + \\frac{\\left(1 - \\frac{1}{N - 1}\\right) \\left(\\frac{\\delta \\left(q + \\left(1 - q\\right) \\left(\\delta q - \\delta + 1\\right)\\right)^{2}}{\\left(- \\delta \\left(1 - q\\right)^{2} + 1\\right) \\left(- \\delta^{2} \\left(1 - q\\right)^{2} + 1\\right)} + \\frac{1 - \\delta}{- \\delta^{2} \\left(1 - q\\right)^{2} + 1}\\right) \\left(\\delta q - \\delta + 1\\right)}{1 + e^{- \\beta \\left(R - T\\right)}} + \\frac{\\delta q - \\delta + 1}{\\left(1 + e^{- \\beta \\left(S - T\\right)}\\right) \\left(N - 1\\right)}}$"
      ],
      "text/plain": [
       "                      ⎛                                 2                     \n",
       "          ⎛      1  ⎞ ⎜    δ⋅(q + (1 - q)⋅(δ⋅q - δ + 1))              1 - δ   \n",
       "δ⋅(1 - q)⋅⎜1 - ─────⎟⋅⎜────────────────────────────────────── + ──────────────\n",
       "          ⎝    N - 1⎠ ⎜⎛           2    ⎞ ⎛   2        2    ⎞      2        2 \n",
       "                      ⎝⎝- δ⋅(1 - q)  + 1⎠⋅⎝- δ ⋅(1 - q)  + 1⎠   - δ ⋅(1 - q)  \n",
       "──────────────────────────────────────────────────────────────────────────────\n",
       "                                      -β⋅(P - R)                              \n",
       "                                 1 + ℯ                                        \n",
       "──────────────────────────────────────────────────────────────────────────────\n",
       "                      ⎛                                 2                     \n",
       "          ⎛      1  ⎞ ⎜    δ⋅(q + (1 - q)⋅(δ⋅q - δ + 1))              1 - δ   \n",
       "δ⋅(1 - q)⋅⎜1 - ─────⎟⋅⎜────────────────────────────────────── + ──────────────\n",
       "          ⎝    N - 1⎠ ⎜⎛           2    ⎞ ⎛   2        2    ⎞      2        2 \n",
       "                      ⎝⎝- δ⋅(1 - q)  + 1⎠⋅⎝- δ ⋅(1 - q)  + 1⎠   - δ ⋅(1 - q)  \n",
       "──────────────────────────────────────────────────────────────────────────────\n",
       "                                      -β⋅(-P + R)                             \n",
       "                                 1 + ℯ                                        \n",
       "\n",
       "   ⎞                           ⎛                                 2            \n",
       "   ⎟               ⎛      1  ⎞ ⎜    δ⋅(q + (1 - q)⋅(δ⋅q - δ + 1))             \n",
       "───⎟               ⎜1 - ─────⎟⋅⎜────────────────────────────────────── + ─────\n",
       "   ⎟               ⎝    N - 1⎠ ⎜⎛           2    ⎞ ⎛   2        2    ⎞      2 \n",
       "+ 1⎠   δ⋅(1 - q)               ⎝⎝- δ⋅(1 - q)  + 1⎠⋅⎝- δ ⋅(1 - q)  + 1⎠   - δ ⋅\n",
       "──── + ───────── + ───────────────────────────────────────────────────────────\n",
       "       2⋅(N - 1)                                           -β⋅(-R + T)        \n",
       "                                                      1 + ℯ                   \n",
       "──────────────────────────────────────────────────────────────────────────────\n",
       "   ⎞                           ⎛                                 2            \n",
       "   ⎟               ⎛      1  ⎞ ⎜    δ⋅(q + (1 - q)⋅(δ⋅q - δ + 1))             \n",
       "───⎟               ⎜1 - ─────⎟⋅⎜────────────────────────────────────── + ─────\n",
       "   ⎟               ⎝    N - 1⎠ ⎜⎛           2    ⎞ ⎛   2        2    ⎞      2 \n",
       "+ 1⎠   δ⋅(1 - q)               ⎝⎝- δ⋅(1 - q)  + 1⎠⋅⎝- δ ⋅(1 - q)  + 1⎠   - δ ⋅\n",
       "──── + ───────── + ───────────────────────────────────────────────────────────\n",
       "       2⋅(N - 1)                                           -β⋅(R - T)         \n",
       "                                                      1 + ℯ                   \n",
       "\n",
       "            ⎞                                           \n",
       " 1 - δ      ⎟                                           \n",
       "────────────⎟⋅(δ⋅q - δ + 1)                             \n",
       "       2    ⎟                                           \n",
       "(1 - q)  + 1⎠                        δ⋅q - δ + 1        \n",
       "─────────────────────────── + ──────────────────────────\n",
       "                              ⎛     -β⋅(-S + T)⎞        \n",
       "                              ⎝1 + ℯ           ⎠⋅(N - 1)\n",
       "────────────────────────────────────────────────────────\n",
       "            ⎞                                           \n",
       " 1 - δ      ⎟                                           \n",
       "────────────⎟⋅(δ⋅q - δ + 1)                             \n",
       "       2    ⎟                                           \n",
       "(1 - q)  + 1⎠                        δ⋅q - δ + 1        \n",
       "─────────────────────────── + ───────────────────────── \n",
       "                              ⎛     -β⋅(S - T)⎞         \n",
       "                              ⎝1 + ℯ          ⎠⋅(N - 1) "
      ]
     },
     "execution_count": 96,
     "metadata": {},
     "output_type": "execute_result"
    }
   ],
   "source": [
    "expr"
   ]
  },
  {
   "cell_type": "code",
   "execution_count": 97,
   "metadata": {},
   "outputs": [],
   "source": [
    "numerator_first_term = ((1 - d + d * q) / (1 + sym.exp(-b * (T - R))) + ((d * (1 - q)) / (1 + sym.exp(-b * (P - R)))))"
   ]
  },
  {
   "cell_type": "code",
   "execution_count": 98,
   "metadata": {},
   "outputs": [],
   "source": [
    "numerator_second_term = ((1 - d + d * q) / (1 + sym.exp(-b * (T - S))) + ((d * (1 - q)) / 2))"
   ]
  },
  {
   "cell_type": "code",
   "execution_count": 99,
   "metadata": {},
   "outputs": [],
   "source": [
    "denominator_first_term = ((1 - d + d * q) / (1 + sym.exp(-b * (R - T))) + ((d * (1 - q)) / (1 + sym.exp(-b * (R - P)))))"
   ]
  },
  {
   "cell_type": "code",
   "execution_count": 100,
   "metadata": {},
   "outputs": [],
   "source": [
    "denominator_second_term = ((1 - d + d * q) / (1 + sym.exp(-b * (S - T))) + ((d * (1 - q)) / 2))"
   ]
  },
  {
   "cell_type": "code",
   "execution_count": 101,
   "metadata": {},
   "outputs": [],
   "source": [
    "written_expr = (((N - 2) / (N - 1)) * numerator_first_term + (1 / (N - 1)) * numerator_second_term) / (((N - 2) / (N - 1)) * denominator_first_term + (1 / (N - 1)) * denominator_second_term)"
   ]
  },
  {
   "cell_type": "code",
   "execution_count": 102,
   "metadata": {},
   "outputs": [
    {
     "data": {
      "image/png": "[encoded data removed]",
      "text/latex": [
       "$\\displaystyle \\frac{\\frac{\\left(N - 2\\right) \\left(\\frac{\\delta \\left(1 - q\\right)}{1 + e^{- \\beta \\left(P - R\\right)}} + \\frac{\\delta q - \\delta + 1}{1 + e^{- \\beta \\left(- R + T\\right)}}\\right)}{N - 1} + \\frac{\\frac{\\delta \\left(1 - q\\right)}{2} + \\frac{\\delta q - \\delta + 1}{1 + e^{- \\beta \\left(- S + T\\right)}}}{N - 1}}{\\frac{\\left(N - 2\\right) \\left(\\frac{\\delta \\left(1 - q\\right)}{1 + e^{- \\beta \\left(- P + R\\right)}} + \\frac{\\delta q - \\delta + 1}{1 + e^{- \\beta \\left(R - T\\right)}}\\right)}{N - 1} + \\frac{\\frac{\\delta \\left(1 - q\\right)}{2} + \\frac{\\delta q - \\delta + 1}{1 + e^{- \\beta \\left(S - T\\right)}}}{N - 1}}$"
      ],
      "text/plain": [
       "        ⎛   δ⋅(1 - q)        δ⋅q - δ + 1   ⎞   δ⋅(1 - q)     δ⋅q - δ + 1   \n",
       "(N - 2)⋅⎜─────────────── + ────────────────⎟   ───────── + ────────────────\n",
       "        ⎜     -β⋅(P - R)        -β⋅(-R + T)⎟       2            -β⋅(-S + T)\n",
       "        ⎝1 + ℯ             1 + ℯ           ⎠               1 + ℯ           \n",
       "──────────────────────────────────────────── + ────────────────────────────\n",
       "                   N - 1                                  N - 1            \n",
       "───────────────────────────────────────────────────────────────────────────\n",
       "         ⎛   δ⋅(1 - q)         δ⋅q - δ + 1  ⎞   δ⋅(1 - q)     δ⋅q - δ + 1  \n",
       " (N - 2)⋅⎜──────────────── + ───────────────⎟   ───────── + ───────────────\n",
       "         ⎜     -β⋅(-P + R)        -β⋅(R - T)⎟       2            -β⋅(S - T)\n",
       "         ⎝1 + ℯ              1 + ℯ          ⎠               1 + ℯ          \n",
       " ──────────────────────────────────────────── + ───────────────────────────\n",
       "                    N - 1                                  N - 1           "
      ]
     },
     "execution_count": 102,
     "metadata": {},
     "output_type": "execute_result"
    }
   ],
   "source": [
    "written_expr"
   ]
  },
  {
   "cell_type": "code",
   "execution_count": 103,
   "metadata": {},
   "outputs": [
    {
     "data": {
      "image/png": "[encoded data removed]",
      "text/latex": [
       "$\\displaystyle 0$"
      ],
      "text/plain": [
       "0"
      ]
     },
     "execution_count": 103,
     "metadata": {},
     "output_type": "execute_result"
    }
   ],
   "source": [
    "(expr - written_expr).factor()"
   ]
  },
  {
   "cell_type": "markdown",
   "metadata": {},
   "source": [
    "**Simulations** - **Example in notes**"
   ]
  },
  {
   "cell_type": "code",
   "execution_count": 11,
   "metadata": {},
   "outputs": [],
   "source": [
    "N_val = 100\n",
    "d_val = 1 - (10 ** -3)\n",
    "b_val = 1"
   ]
  },
  {
   "cell_type": "code",
   "execution_count": 24,
   "metadata": {},
   "outputs": [],
   "source": [
    "number_of_steps = 10 ** 2"
   ]
  },
  {
   "cell_type": "code",
   "execution_count": 25,
   "metadata": {},
   "outputs": [],
   "source": [
    "payoffs = donation_game(1, 3)"
   ]
  },
  {
   "cell_type": "code",
   "execution_count": 35,
   "metadata": {},
   "outputs": [
    {
     "name": "stderr",
     "output_type": "stream",
     "text": [
      "100%|██████████| 100/100 [00:00<00:00, 230.08it/s]\n"
     ]
    }
   ],
   "source": [
    "history = simulation.main(N_val, d_val, b_val, number_of_steps, payoffs, 'e')"
   ]
  },
  {
   "cell_type": "markdown",
   "metadata": {},
   "source": [
    "**Plotting simulation results**"
   ]
  },
  {
   "cell_type": "code",
   "execution_count": 91,
   "metadata": {},
   "outputs": [],
   "source": [
    "df = pd.read_csv('expected_payoff_data.csv', header=None)"
   ]
  },
  {
   "cell_type": "code",
   "execution_count": 92,
   "metadata": {},
   "outputs": [],
   "source": [
    "x, y, weights = simulation._reshape_history(df.values)"
   ]
  },
  {
   "cell_type": "code",
   "execution_count": 93,
   "metadata": {},
   "outputs": [
    {
     "data": {
      "image/png": "[encoded data removed]",
      "text/plain": [
       "<Figure size 432x288 with 2 Axes>"
      ]
     },
     "metadata": {
      "needs_background": "light"
     },
     "output_type": "display_data"
    }
   ],
   "source": [
    "cmap = matplotlib.cm.get_cmap('Blues')\n",
    "\n",
    "heatmap, xedges, yedges = np.histogram2d(x, y, bins=10, weights=weights)\n",
    "\n",
    "\n",
    "fig, ax = plt.subplots()\n",
    "cax = ax.imshow(heatmap, cmap=cmap);\n",
    "\n",
    "max_score = max(weights)\n",
    "min_score = min(weights)\n",
    "\n",
    "ticks = [min_score, (max_score + min_score) / 2, max_score]\n",
    "\n",
    "fig.colorbar(cax)\n",
    "\n",
    "plt.ylim(0, len(yedges) - 2), plt.ylim(0, len(yedges) - 2)\n",
    "plt.xticks([0, len(xedges) - 2], [\"0\", \"1\"])\n",
    "plt.yticks([0, len(yedges) - 2], [\"0\", \"1\"]);"
   ]
  },
  {
   "cell_type": "code",
   "execution_count": 55,
   "metadata": {},
   "outputs": [
    {
     "data": {
      "image/png": "[encoded data removed]",
      "text/plain": [
       "<Figure size 432x288 with 2 Axes>"
      ]
     },
     "metadata": {
      "needs_background": "light"
     },
     "output_type": "display_data"
    }
   ],
   "source": [
    "cmap = matplotlib.cm.get_cmap('Blues')\n",
    "\n",
    "heatmap, xedges, yedges = np.histogram2d(x, y, weights=weights)\n",
    "\n",
    "\n",
    "fig, ax = plt.subplots()\n",
    "cax = ax.imshow(heatmap, cmap=cmap);\n",
    "\n",
    "max_score = max(weights)\n",
    "min_score = min(weights)\n",
    "\n",
    "ticks = [min_score, (max_score + min_score) / 2, max_score]\n",
    "\n",
    "fig.colorbar(cax)\n",
    "\n",
    "plt.ylim(0, len(yedges) - 2), plt.ylim(0, len(yedges) - 2)\n",
    "plt.xticks([0, len(xedges) - 2], [\"0\", \"1\"])\n",
    "plt.yticks([0, len(yedges) - 2], [\"0\", \"1\"]);"
   ]
  },
  {
   "cell_type": "code",
   "execution_count": null,
   "metadata": {},
   "outputs": [],
   "source": [
    "def ratio_of_mutant_fixation_for_simulations(resident, mutant, N, k, delta, beta, payoffs):\n",
    "\n",
    "    return evolution.probability_mutant_descreases(\n",
    "        resident, mutant, N, k, delta, beta, payoffs\n",
    "    ) / evolution.probability_mutant_increases(\n",
    "        resident, mutant, N, k, delta, beta, payoffs\n",
    "    )\n"
   ]
  },
  {
   "cell_type": "code",
   "execution_count": 98,
   "metadata": {},
   "outputs": [],
   "source": [
    "payoffs = donation_game(c, b)"
   ]
  },
  {
   "cell_type": "code",
   "execution_count": 123,
   "metadata": {},
   "outputs": [],
   "source": [
    "labels = itertools.product(['R', 'S', 'T', 'P'], repeat=2)\n",
    "payoffs_ = itertools.product(\n",
    "    payoffs,\n",
    "    repeat=2,\n",
    ")"
   ]
  },
  {
   "cell_type": "code",
   "execution_count": 124,
   "metadata": {},
   "outputs": [],
   "source": [
    "payoff_dict = {}\n",
    "\n",
    "for label, payoff in zip(labels, payoffs_):\n",
    "    if label in [('R', 'R'), ('S', 'T'), ('T', 'S'), ('P', 'P')]:\n",
    "        payoff_dict[label] = payoff"
   ]
  },
  {
   "cell_type": "code",
   "execution_count": 125,
   "metadata": {},
   "outputs": [
    {
     "data": {
      "text/plain": [
       "{('R', 'R'): (b - c, b - c),\n",
       " ('S', 'T'): (-c, b),\n",
       " ('T', 'S'): (b, -c),\n",
       " ('P', 'P'): (0, 0)}"
      ]
     },
     "execution_count": 125,
     "metadata": {},
     "output_type": "execute_result"
    }
   ],
   "source": [
    "payoff_dict"
   ]
  },
  {
   "cell_type": "code",
   "execution_count": null,
   "metadata": {},
   "outputs": [],
   "source": [
    "payoff_dict"
   ]
  },
  {
   "cell_type": "code",
   "execution_count": 114,
   "metadata": {},
   "outputs": [],
   "source": [
    "player = (0, 0, 0)\n",
    "opponent = (1, 1, 1)\n",
    "delta = sym.symbols('delta')"
   ]
  },
  {
   "cell_type": "code",
   "execution_count": 157,
   "metadata": {},
   "outputs": [],
   "source": [
    "states = itertools.product(\n",
    "    [\n",
    "        formulation.probability_being_in_state_R(player, player, delta),\n",
    "        formulation.probability_being_in_state_R(player, opponent, delta),\n",
    "        formulation.probability_being_in_state_R(opponent, opponent, delta),\n",
    "        formulation.probability_being_in_state_R(opponent, player, delta),\n",
    "\n",
    "        formulation.probability_being_in_state_S(player, opponent, delta),\n",
    "        formulation.probability_being_in_state_S(player, player, delta),\n",
    "        formulation.probability_being_in_state_S(opponent, opponent, delta),\n",
    "        formulation.probability_being_in_state_S(opponent, player, delta),\n",
    "        \n",
    "        formulation.probability_being_in_state_T(player, opponent, delta),\n",
    "        formulation.probability_being_in_state_T(player, player, delta),\n",
    "        formulation.probability_being_in_state_T(opponent, opponent, delta),\n",
    "        formulation.probability_being_in_state_T(opponent, player, delta),\n",
    "        \n",
    "        formulation.probability_being_in_state_P(player, opponent, delta),\n",
    "        formulation.probability_being_in_state_P(player, player, delta),\n",
    "        formulation.probability_being_in_state_P(opponent, opponent, delta),\n",
    "        formulation.probability_being_in_state_P(opponent, player, delta),\n",
    "    ],\n",
    "    repeat=1,\n",
    ")"
   ]
  },
  {
   "cell_type": "code",
   "execution_count": 160,
   "metadata": {},
   "outputs": [],
   "source": [
    "labels = list(itertools.product(['R', 'S', 'T', 'P'], ['player', 'opponent'], repeat=2))"
   ]
  },
  {
   "cell_type": "code",
   "execution_count": 158,
   "metadata": {},
   "outputs": [],
   "source": [
    "labels = list(itertools.product(['R', 'S', 'T', 'P'], ['player', 'opponent'], repeat=2))\n",
    "states_dict = {}\n",
    "\n",
    "for label, state in zip(labels, states):\n",
    "    if (label[0], label[2]) in [('R', 'R'), ('S', 'T'), ('T', 'S'), ('P', 'P')]:\n",
    "        states_dict[label] = state"
   ]
  },
  {
   "cell_type": "code",
   "execution_count": 153,
   "metadata": {},
   "outputs": [
    {
     "data": {
      "text/plain": [
       "{('R', 'player', 'R', 'player'): (0, 0),\n",
       " ('R', 'player', 'R', 'opponent'): (0, 0),\n",
       " ('R', 'opponent', 'R', 'player'): (0, 1),\n",
       " ('R', 'opponent', 'R', 'opponent'): (0, 0),\n",
       " ('S', 'player', 'T', 'player'): (0, 0),\n",
       " ('S', 'player', 'T', 'opponent'): (0, 0),\n",
       " ('S', 'opponent', 'T', 'player'): (0, 0),\n",
       " ('S', 'opponent', 'T', 'opponent'): (0, 1),\n",
       " ('T', 'player', 'S', 'player'): (1, 1),\n",
       " ('T', 'player', 'S', 'opponent'): (1, 0),\n",
       " ('T', 'opponent', 'S', 'player'): (1, 0),\n",
       " ('T', 'opponent', 'S', 'opponent'): (1, 0),\n",
       " ('P', 'player', 'P', 'player'): (0, 0),\n",
       " ('P', 'player', 'P', 'opponent'): (0, 1),\n",
       " ('P', 'opponent', 'P', 'player'): (0, 0),\n",
       " ('P', 'opponent', 'P', 'opponent'): (0, 0)}"
      ]
     },
     "execution_count": 153,
     "metadata": {},
     "output_type": "execute_result"
    }
   ],
   "source": [
    "states_dict"
   ]
  },
  {
   "cell_type": "code",
   "execution_count": null,
   "metadata": {},
   "outputs": [],
   "source": [
    "def chi_for_simulations(N, k, player_state, opponent_state):\n",
    "    \n",
    "    first_term = (1 / (N - 1)) * states_dict[(player_state, 'player', opponent_state, 'opponent')]\n",
    "    \n",
    "    second_term_case_one = (\n",
    "        ((k - 1) / (N - 2))\n",
    "        * ((k - 2) / (N - 3))\n",
    "        * states_dict[(player_state, 'player', opponent_state, 'opponent')] * states_dict[(player_state, 'player', opponent_state, 'opponent')]\n",
    "        * opponent_state(opponent, opponent, delta)\n",
    "    )\n",
    "    second_term_case_two = (\n",
    "        ((k - 1) / (N - 2))\n",
    "        * ((N - k - 1) / (N - 3))\n",
    "        * player_state(player, opponent, delta)\n",
    "        * opponent_state(opponent, player, delta)\n",
    "    )\n",
    "    second_term_case_three = (\n",
    "        ((N - k - 1) / (N - 2))\n",
    "        * ((k - 1) / (N - 3))\n",
    "        * player_state(player, player, delta)\n",
    "        * opponent_state(opponent, opponent, delta)\n",
    "    )\n",
    "    second_term_case_four = (\n",
    "        ((N - k - 1) / (N - 2))\n",
    "        * ((N - k - 2) / (N - 3))\n",
    "        * player_state(player, player, delta)\n",
    "        * opponent_state(opponent, player, delta)\n",
    "    )\n",
    "    \n",
    "    return first_term + (1 - 1 / (N - 1)) * (\n",
    "        second_term_case_one\n",
    "        + second_term_case_two\n",
    "        + second_term_case_three\n",
    "        + second_term_case_four\n",
    "    )"
   ]
  },
  {
   "cell_type": "code",
   "execution_count": 144,
   "metadata": {},
   "outputs": [],
   "source": [
    "N_val = 10"
   ]
  },
  {
   "cell_type": "code",
   "execution_count": null,
   "metadata": {},
   "outputs": [],
   "source": [
    "for k in range(N_val):\n",
    "    increase_probability = sum"
   ]
  }
 ],
 "metadata": {
  "kernelspec": {
   "display_name": "stochastic-payoffs",
   "language": "python",
   "name": "stochastic-payoffs"
  },
  "language_info": {
   "codemirror_mode": {
    "name": "ipython",
    "version": 3
   },
   "file_extension": ".py",
   "mimetype": "text/x-python",
   "name": "python",
   "nbconvert_exporter": "python",
   "pygments_lexer": "ipython3",
   "version": "3.7.9"
  }
 },
 "nbformat": 4,
 "nbformat_minor": 4
}
