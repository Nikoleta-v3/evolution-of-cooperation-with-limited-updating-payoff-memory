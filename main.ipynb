{
 "cells": [
  {
   "cell_type": "code",
   "execution_count": 1,
   "metadata": {},
   "outputs": [],
   "source": [
    "import sympy as sym\n",
    "\n",
    "import numpy as np\n",
    "\n",
    "import itertools\n",
    "\n",
    "sym.init_printing()"
   ]
  },
  {
   "cell_type": "code",
   "execution_count": 2,
   "metadata": {},
   "outputs": [],
   "source": [
    "from importlib.machinery import SourceFileLoader\n",
    "\n",
    "\n",
    "evolution = SourceFileLoader(\"evolution\", \"src/evolution.py\").load_module()\n",
    "formulation = SourceFileLoader(\"formulation\", \"src/formulation.py\").load_module()\n",
    "\n",
    "simulation = SourceFileLoader(\"simulation\", \"src/simulation.py\").load_module()"
   ]
  },
  {
   "cell_type": "code",
   "execution_count": 3,
   "metadata": {},
   "outputs": [],
   "source": [
    "import matplotlib.pyplot as plt\n",
    "import matplotlib\n",
    "\n",
    "from collections import Counter"
   ]
  },
  {
   "cell_type": "code",
   "execution_count": 4,
   "metadata": {},
   "outputs": [],
   "source": [
    "from tqdm import tqdm"
   ]
  },
  {
   "cell_type": "code",
   "execution_count": 5,
   "metadata": {},
   "outputs": [],
   "source": [
    "import pandas as pd"
   ]
  },
  {
   "cell_type": "markdown",
   "metadata": {},
   "source": [
    "**Defining variables**"
   ]
  },
  {
   "cell_type": "code",
   "execution_count": 6,
   "metadata": {},
   "outputs": [],
   "source": [
    "y_1, p_1, q_1 = sym.symbols(\"y_1, p_1, q_1\")\n",
    "y_2, p_2, q_2 = sym.symbols(\"y_2, p_2, q_2\")"
   ]
  },
  {
   "cell_type": "code",
   "execution_count": 7,
   "metadata": {},
   "outputs": [],
   "source": [
    "s_one = (y_1, p_1, q_1)\n",
    "s_two = (y_2, p_2, q_2)"
   ]
  },
  {
   "cell_type": "code",
   "execution_count": 8,
   "metadata": {},
   "outputs": [
    {
     "data": {
      "image/png": "[encoded data removed]",
      "text/latex": [
       "$\\displaystyle \\left( y_{1}, \\  p_{1}, \\  q_{1}\\right)$"
      ],
      "text/plain": [
       "(y₁, p₁, q₁)"
      ]
     },
     "execution_count": 8,
     "metadata": {},
     "output_type": "execute_result"
    }
   ],
   "source": [
    "s_one"
   ]
  },
  {
   "cell_type": "code",
   "execution_count": 9,
   "metadata": {},
   "outputs": [],
   "source": [
    "combinations = itertools.product([s_one, s_two], repeat=2)"
   ]
  },
  {
   "cell_type": "code",
   "execution_count": 10,
   "metadata": {},
   "outputs": [
    {
     "data": {
      "image/png": "[encoded data removed]",
      "text/latex": [
       "$\\displaystyle \\left[ \\left( \\left( y_{1}, \\  p_{1}, \\  q_{1}\\right), \\  \\left( y_{1}, \\  p_{1}, \\  q_{1}\\right)\\right), \\  \\left( \\left( y_{1}, \\  p_{1}, \\  q_{1}\\right), \\  \\left( y_{2}, \\  p_{2}, \\  q_{2}\\right)\\right), \\  \\left( \\left( y_{2}, \\  p_{2}, \\  q_{2}\\right), \\  \\left( y_{1}, \\  p_{1}, \\  q_{1}\\right)\\right), \\  \\left( \\left( y_{2}, \\  p_{2}, \\  q_{2}\\right), \\  \\left( y_{2}, \\  p_{2}, \\  q_{2}\\right)\\right)\\right]$"
      ],
      "text/plain": [
       "[((y₁, p₁, q₁), (y₁, p₁, q₁)), ((y₁, p₁, q₁), (y₂, p₂, q₂)), ((y₂, p₂, q₂), (y\n",
       "₁, p₁, q₁)), ((y₂, p₂, q₂), (y₂, p₂, q₂))]"
      ]
     },
     "execution_count": 10,
     "metadata": {},
     "output_type": "execute_result"
    }
   ],
   "source": [
    "list(combinations)"
   ]
  },
  {
   "cell_type": "markdown",
   "metadata": {},
   "source": [
    "**Get expression using code**"
   ]
  },
  {
   "cell_type": "code",
   "execution_count": 28,
   "metadata": {},
   "outputs": [],
   "source": [
    "d = sym.symbols(\"delta\")"
   ]
  },
  {
   "cell_type": "code",
   "execution_count": 29,
   "metadata": {},
   "outputs": [],
   "source": [
    "v_zero = formulation.expected_distribution_opening_round(s_one, s_two)"
   ]
  },
  {
   "cell_type": "code",
   "execution_count": 30,
   "metadata": {},
   "outputs": [
    {
     "data": {
      "image/png": "[encoded data removed]",
      "text/latex": [
       "$\\displaystyle \\left( y_{1} y_{2}, \\  y_{1} \\left(1 - y_{2}\\right), \\  y_{2} \\left(1 - y_{1}\\right), \\  \\left(1 - y_{1}\\right) \\left(1 - y_{2}\\right)\\right)$"
      ],
      "text/plain": [
       "(y₁⋅y₂, y₁⋅(1 - y₂), y₂⋅(1 - y₁), (1 - y₁)⋅(1 - y₂))"
      ]
     },
     "execution_count": 30,
     "metadata": {},
     "output_type": "execute_result"
    }
   ],
   "source": [
    "v_zero"
   ]
  },
  {
   "cell_type": "code",
   "execution_count": 31,
   "metadata": {},
   "outputs": [],
   "source": [
    "M = formulation.markov_chain_for_reactive_strategies(s_one, s_two)"
   ]
  },
  {
   "cell_type": "code",
   "execution_count": 32,
   "metadata": {},
   "outputs": [
    {
     "data": {
      "image/png": "[encoded data removed]",
      "text/latex": [
       "$\\displaystyle \\left[\\begin{matrix}p_{1} p_{2} & p_{1} \\left(1 - p_{2}\\right) & p_{2} \\left(1 - p_{1}\\right) & \\left(1 - p_{1}\\right) \\left(1 - p_{2}\\right)\\\\p_{2} q_{1} & q_{1} \\left(1 - p_{2}\\right) & p_{2} \\left(1 - q_{1}\\right) & \\left(1 - p_{2}\\right) \\left(1 - q_{1}\\right)\\\\p_{1} q_{2} & p_{1} \\left(1 - q_{2}\\right) & q_{2} \\left(1 - p_{1}\\right) & \\left(1 - p_{1}\\right) \\left(1 - q_{2}\\right)\\\\q_{1} q_{2} & q_{1} \\left(1 - q_{2}\\right) & q_{2} \\left(1 - q_{1}\\right) & \\left(1 - q_{1}\\right) \\left(1 - q_{2}\\right)\\end{matrix}\\right]$"
      ],
      "text/plain": [
       "⎡p₁⋅p₂  p₁⋅(1 - p₂)  p₂⋅(1 - p₁)  (1 - p₁)⋅(1 - p₂)⎤\n",
       "⎢                                                  ⎥\n",
       "⎢p₂⋅q₁  q₁⋅(1 - p₂)  p₂⋅(1 - q₁)  (1 - p₂)⋅(1 - q₁)⎥\n",
       "⎢                                                  ⎥\n",
       "⎢p₁⋅q₂  p₁⋅(1 - q₂)  q₂⋅(1 - p₁)  (1 - p₁)⋅(1 - q₂)⎥\n",
       "⎢                                                  ⎥\n",
       "⎣q₁⋅q₂  q₁⋅(1 - q₂)  q₂⋅(1 - q₁)  (1 - q₁)⋅(1 - q₂)⎦"
      ]
     },
     "execution_count": 32,
     "metadata": {},
     "output_type": "execute_result"
    }
   ],
   "source": [
    "sym.Matrix(M)"
   ]
  },
  {
   "cell_type": "code",
   "execution_count": 33,
   "metadata": {},
   "outputs": [],
   "source": [
    "inverse = sym.Matrix(np.identity(4) - d * M).inverse_ADJ()"
   ]
  },
  {
   "cell_type": "code",
   "execution_count": 34,
   "metadata": {},
   "outputs": [],
   "source": [
    "expression = (1 - d) * sym.Matrix(v_zero).reshape(1, 4) @ inverse"
   ]
  },
  {
   "cell_type": "markdown",
   "metadata": {},
   "source": [
    "**Check the written mathematics**"
   ]
  },
  {
   "cell_type": "code",
   "execution_count": 35,
   "metadata": {},
   "outputs": [
    {
     "data": {
      "image/png": "[encoded data removed]",
      "text/latex": [
       "$\\displaystyle \\frac{\\delta \\left(q_{1} + \\left(p_{1} - q_{1}\\right) \\left(\\delta q_{2} + y_{2} \\left(1 - \\delta\\right)\\right)\\right) \\left(q_{2} + \\left(p_{2} - q_{2}\\right) \\left(\\delta q_{1} + y_{1} \\left(1 - \\delta\\right)\\right)\\right)}{\\left(- \\delta \\left(p_{1} - q_{1}\\right) \\left(p_{2} - q_{2}\\right) + 1\\right) \\left(- \\delta^{2} \\left(p_{1} - q_{1}\\right) \\left(p_{2} - q_{2}\\right) + 1\\right)} + \\frac{y_{1} y_{2} \\left(1 - \\delta\\right)}{- \\delta^{2} \\left(p_{1} - q_{1}\\right) \\left(p_{2} - q_{2}\\right) + 1}$"
      ],
      "text/plain": [
       "δ⋅(q₁ + (p₁ - q₁)⋅(δ⋅q₂ + y₂⋅(1 - δ)))⋅(q₂ + (p₂ - q₂)⋅(δ⋅q₁ + y₁⋅(1 - δ)))   \n",
       "─────────────────────────────────────────────────────────────────────────── + \n",
       "                                     ⎛   2                        ⎞           \n",
       "        (-δ⋅(p₁ - q₁)⋅(p₂ - q₂) + 1)⋅⎝- δ ⋅(p₁ - q₁)⋅(p₂ - q₂) + 1⎠           \n",
       "\n",
       "       y₁⋅y₂⋅(1 - δ)        \n",
       "────────────────────────────\n",
       "   2                        \n",
       "- δ ⋅(p₁ - q₁)⋅(p₂ - q₂) + 1"
      ]
     },
     "execution_count": 35,
     "metadata": {},
     "output_type": "execute_result"
    }
   ],
   "source": [
    "u_R = formulation.probability_being_in_state_R(s_one, s_two, d)\n",
    "u_R"
   ]
  },
  {
   "cell_type": "code",
   "execution_count": 36,
   "metadata": {},
   "outputs": [
    {
     "data": {
      "image/png": "[encoded data removed]",
      "text/latex": [
       "$\\displaystyle \\frac{\\delta \\left(q_{1} + \\left(p_{1} - q_{1}\\right) \\left(\\delta q_{2} + y_{2} \\left(1 - \\delta\\right)\\right)\\right) \\left(- q_{2} + \\left(- p_{2} + q_{2}\\right) \\left(\\delta p_{1} + y_{1} \\left(1 - \\delta\\right)\\right) + 1\\right)}{\\left(- \\delta \\left(p_{1} - q_{1}\\right) \\left(p_{2} - q_{2}\\right) + 1\\right) \\left(- \\delta^{2} \\left(p_{1} - q_{1}\\right) \\left(p_{2} - q_{2}\\right) + 1\\right)} + \\frac{y_{1} \\left(1 - \\delta\\right) \\left(1 - y_{2}\\right)}{- \\delta^{2} \\left(p_{1} - q_{1}\\right) \\left(p_{2} - q_{2}\\right) + 1}$"
      ],
      "text/plain": [
       "δ⋅(q₁ + (p₁ - q₁)⋅(δ⋅q₂ + y₂⋅(1 - δ)))⋅(-q₂ + (-p₂ + q₂)⋅(δ⋅p₁ + y₁⋅(1 - δ)) +\n",
       "──────────────────────────────────────────────────────────────────────────────\n",
       "                                        ⎛   2                        ⎞        \n",
       "           (-δ⋅(p₁ - q₁)⋅(p₂ - q₂) + 1)⋅⎝- δ ⋅(p₁ - q₁)⋅(p₂ - q₂) + 1⎠        \n",
       "\n",
       " 1)       y₁⋅(1 - δ)⋅(1 - y₂)     \n",
       "─── + ────────────────────────────\n",
       "         2                        \n",
       "      - δ ⋅(p₁ - q₁)⋅(p₂ - q₂) + 1"
      ]
     },
     "execution_count": 36,
     "metadata": {},
     "output_type": "execute_result"
    }
   ],
   "source": [
    "u_S = formulation.probability_being_in_state_S(s_one, s_two, d)\n",
    "u_S"
   ]
  },
  {
   "cell_type": "code",
   "execution_count": 37,
   "metadata": {},
   "outputs": [
    {
     "data": {
      "image/png": "[encoded data removed]",
      "text/latex": [
       "$\\displaystyle \\frac{\\delta \\left(q_{2} + \\left(p_{2} - q_{2}\\right) \\left(\\delta q_{1} + y_{1} \\left(1 - \\delta\\right)\\right)\\right) \\left(- q_{1} + \\left(- p_{1} + q_{1}\\right) \\left(\\delta p_{2} + y_{2} \\left(1 - \\delta\\right)\\right) + 1\\right)}{\\left(- \\delta \\left(p_{1} - q_{1}\\right) \\left(p_{2} - q_{2}\\right) + 1\\right) \\left(- \\delta^{2} \\left(p_{1} - q_{1}\\right) \\left(p_{2} - q_{2}\\right) + 1\\right)} + \\frac{y_{2} \\left(1 - \\delta\\right) \\left(1 - y_{1}\\right)}{- \\delta^{2} \\left(p_{1} - q_{1}\\right) \\left(p_{2} - q_{2}\\right) + 1}$"
      ],
      "text/plain": [
       "δ⋅(q₂ + (p₂ - q₂)⋅(δ⋅q₁ + y₁⋅(1 - δ)))⋅(-q₁ + (-p₁ + q₁)⋅(δ⋅p₂ + y₂⋅(1 - δ)) +\n",
       "──────────────────────────────────────────────────────────────────────────────\n",
       "                                        ⎛   2                        ⎞        \n",
       "           (-δ⋅(p₁ - q₁)⋅(p₂ - q₂) + 1)⋅⎝- δ ⋅(p₁ - q₁)⋅(p₂ - q₂) + 1⎠        \n",
       "\n",
       " 1)       y₂⋅(1 - δ)⋅(1 - y₁)     \n",
       "─── + ────────────────────────────\n",
       "         2                        \n",
       "      - δ ⋅(p₁ - q₁)⋅(p₂ - q₂) + 1"
      ]
     },
     "execution_count": 37,
     "metadata": {},
     "output_type": "execute_result"
    }
   ],
   "source": [
    "u_T = formulation.probability_being_in_state_T(s_one, s_two, d)\n",
    "u_T"
   ]
  },
  {
   "cell_type": "code",
   "execution_count": 38,
   "metadata": {},
   "outputs": [
    {
     "data": {
      "image/png": "[encoded data removed]",
      "text/latex": [
       "$\\displaystyle \\frac{\\delta \\left(- q_{1} + \\left(- p_{1} + q_{1}\\right) \\left(\\delta p_{2} + y_{2} \\left(1 - \\delta\\right)\\right) + 1\\right) \\left(- q_{2} + \\left(- p_{2} + q_{2}\\right) \\left(\\delta p_{1} + y_{1} \\left(1 - \\delta\\right)\\right) + 1\\right)}{\\left(- \\delta \\left(p_{1} - q_{1}\\right) \\left(p_{2} - q_{2}\\right) + 1\\right) \\left(- \\delta^{2} \\left(p_{1} - q_{1}\\right) \\left(p_{2} - q_{2}\\right) + 1\\right)} + \\frac{\\left(1 - \\delta\\right) \\left(1 - y_{1}\\right) \\left(1 - y_{2}\\right)}{- \\delta^{2} \\left(p_{1} - q_{1}\\right) \\left(p_{2} - q_{2}\\right) + 1}$"
      ],
      "text/plain": [
       "δ⋅(-q₁ + (-p₁ + q₁)⋅(δ⋅p₂ + y₂⋅(1 - δ)) + 1)⋅(-q₂ + (-p₂ + q₂)⋅(δ⋅p₁ + y₁⋅(1 -\n",
       "──────────────────────────────────────────────────────────────────────────────\n",
       "                                           ⎛   2                        ⎞     \n",
       "              (-δ⋅(p₁ - q₁)⋅(p₂ - q₂) + 1)⋅⎝- δ ⋅(p₁ - q₁)⋅(p₂ - q₂) + 1⎠     \n",
       "\n",
       " δ)) + 1)    (1 - δ)⋅(1 - y₁)⋅(1 - y₂)  \n",
       "───────── + ────────────────────────────\n",
       "               2                        \n",
       "            - δ ⋅(p₁ - q₁)⋅(p₂ - q₂) + 1"
      ]
     },
     "execution_count": 38,
     "metadata": {},
     "output_type": "execute_result"
    }
   ],
   "source": [
    "u_P = formulation.probability_being_in_state_P(s_one, s_two, d)\n",
    "u_P"
   ]
  },
  {
   "cell_type": "code",
   "execution_count": 39,
   "metadata": {},
   "outputs": [
    {
     "data": {
      "image/png": "[encoded data removed]",
      "text/latex": [
       "$\\displaystyle \\left( 0, \\  0\\right)$"
      ],
      "text/plain": [
       "(0, 0)"
      ]
     },
     "execution_count": 39,
     "metadata": {},
     "output_type": "execute_result"
    }
   ],
   "source": [
    "(u_R - expression[0]).simplify(), (u_S - expression[1]).factor()"
   ]
  },
  {
   "cell_type": "code",
   "execution_count": 40,
   "metadata": {},
   "outputs": [
    {
     "data": {
      "image/png": "[encoded data removed]",
      "text/latex": [
       "$\\displaystyle \\left( 0, \\  0\\right)$"
      ],
      "text/plain": [
       "(0, 0)"
      ]
     },
     "execution_count": 40,
     "metadata": {},
     "output_type": "execute_result"
    }
   ],
   "source": [
    "(u_T - expression[2]).factor(), (u_P - expression[3]).factor()"
   ]
  },
  {
   "cell_type": "markdown",
   "metadata": {},
   "source": [
    "**Check functions for analysis of ALLD into GTFT**"
   ]
  },
  {
   "cell_type": "code",
   "execution_count": 41,
   "metadata": {},
   "outputs": [],
   "source": [
    "q = sym.symbols(\"q\")\n",
    "\n",
    "N, k = sym.symbols(\"N, k\")"
   ]
  },
  {
   "cell_type": "code",
   "execution_count": 42,
   "metadata": {},
   "outputs": [],
   "source": [
    "ALLD = (0, 0, 0)\n",
    "GTFT = (1, 1, q)"
   ]
  },
  {
   "cell_type": "markdown",
   "metadata": {},
   "source": [
    "**States of Eq. (9) and (10)**"
   ]
  },
  {
   "cell_type": "code",
   "execution_count": 43,
   "metadata": {},
   "outputs": [
    {
     "data": {
      "image/png": "[encoded data removed]",
      "text/latex": [
       "$\\displaystyle 1$"
      ],
      "text/plain": [
       "1"
      ]
     },
     "execution_count": 43,
     "metadata": {},
     "output_type": "execute_result"
    }
   ],
   "source": [
    "formulation.probability_being_in_state_R(GTFT, GTFT, d).factor()"
   ]
  },
  {
   "cell_type": "code",
   "execution_count": 44,
   "metadata": {},
   "outputs": [
    {
     "data": {
      "image/png": "[encoded data removed]",
      "text/latex": [
       "$\\displaystyle 0$"
      ],
      "text/plain": [
       "0"
      ]
     },
     "execution_count": 44,
     "metadata": {},
     "output_type": "execute_result"
    }
   ],
   "source": [
    "formulation.probability_being_in_state_R(GTFT, ALLD, d).factor()"
   ]
  },
  {
   "cell_type": "code",
   "execution_count": 45,
   "metadata": {},
   "outputs": [
    {
     "data": {
      "image/png": "[encoded data removed]",
      "text/latex": [
       "$\\displaystyle 0$"
      ],
      "text/plain": [
       "0"
      ]
     },
     "execution_count": 45,
     "metadata": {},
     "output_type": "execute_result"
    }
   ],
   "source": [
    "formulation.probability_being_in_state_R(GTFT, ALLD, d).factor()"
   ]
  },
  {
   "cell_type": "code",
   "execution_count": 46,
   "metadata": {},
   "outputs": [
    {
     "data": {
      "image/png": "[encoded data removed]",
      "text/latex": [
       "$\\displaystyle \\delta q - \\delta + 1$"
      ],
      "text/plain": [
       "δ⋅q - δ + 1"
      ]
     },
     "execution_count": 46,
     "metadata": {},
     "output_type": "execute_result"
    }
   ],
   "source": [
    "formulation.probability_being_in_state_T(ALLD, GTFT, d).factor()"
   ]
  },
  {
   "cell_type": "code",
   "execution_count": 47,
   "metadata": {},
   "outputs": [
    {
     "data": {
      "image/png": "[encoded data removed]",
      "text/latex": [
       "$\\displaystyle \\left( 0, \\  0, \\  0\\right)$"
      ],
      "text/plain": [
       "(0, 0, 0)"
      ]
     },
     "execution_count": 47,
     "metadata": {},
     "output_type": "execute_result"
    }
   ],
   "source": [
    "(\n",
    "    formulation.probability_being_in_state_S(GTFT, GTFT, d).factor(),\n",
    "    formulation.probability_being_in_state_T(GTFT, GTFT, d).factor(),\n",
    "    formulation.probability_being_in_state_P(GTFT, GTFT, d).factor(),\n",
    ")"
   ]
  },
  {
   "cell_type": "code",
   "execution_count": 50,
   "metadata": {},
   "outputs": [
    {
     "data": {
      "image/png": "[encoded data removed]",
      "text/latex": [
       "$\\displaystyle \\left( 0, \\  0\\right)$"
      ],
      "text/plain": [
       "(0, 0)"
      ]
     },
     "execution_count": 50,
     "metadata": {},
     "output_type": "execute_result"
    }
   ],
   "source": [
    "formulation.probability_being_in_state_R(ALLD, GTFT, d).factor(), formulation.probability_being_in_state_S(\n",
    "    ALLD, GTFT, d\n",
    ").factor()"
   ]
  },
  {
   "cell_type": "code",
   "execution_count": 51,
   "metadata": {},
   "outputs": [
    {
     "data": {
      "image/png": "[encoded data removed]",
      "text/latex": [
       "$\\displaystyle \\left( \\delta q - \\delta + 1, \\  - \\delta \\left(q - 1\\right)\\right)$"
      ],
      "text/plain": [
       "(δ⋅q - δ + 1, -δ⋅(q - 1))"
      ]
     },
     "execution_count": 51,
     "metadata": {},
     "output_type": "execute_result"
    }
   ],
   "source": [
    "formulation.probability_being_in_state_T(ALLD, GTFT, d).factor(), formulation.probability_being_in_state_P(\n",
    "    ALLD, GTFT, d\n",
    ").factor()"
   ]
  },
  {
   "cell_type": "markdown",
   "metadata": {},
   "source": [
    "**Ep. (11)**"
   ]
  },
  {
   "cell_type": "code",
   "execution_count": 61,
   "metadata": {},
   "outputs": [
    {
     "data": {
      "image/png": "[encoded data removed]",
      "text/latex": [
       "$\\displaystyle \\left[\\begin{matrix}0 & 0 & 0 & 0\\\\0 & 0 & 0 & 0\\\\\\frac{1.0 \\left(\\delta - 1\\right)^{2} \\left(k - 2\\right) \\left(k - 1\\right) \\left(\\delta q - \\delta + 1\\right)}{\\left(N - 3\\right) \\left(N - 1\\right) \\left(1.0 \\delta - 1.0\\right)^{2}} & - \\frac{1.0 \\left(\\delta - 1\\right)^{2} \\left(k - 1\\right) \\left(- N + k + 1\\right) \\left(\\delta q - \\delta + 1\\right)^{2}}{\\left(N - 3\\right) \\left(N - 1\\right) \\left(1.0 \\delta - 1.0\\right)^{2}} & 0 & \\frac{3.0 \\left(\\delta - 1\\right) \\left(\\delta q - \\delta + 1\\right) \\left(- 0.333333333333333 N \\delta k q + 0.333333333333333 N \\delta k + 0.333333333333333 N \\delta q - 0.333333333333333 N \\delta + 0.333333333333333 N + 0.333333333333333 \\delta k^{2} q - 0.333333333333333 \\delta k^{2} - 0.333333333333333 \\delta q + 0.333333333333333 \\delta - 1.0\\right)}{\\left(N - 3\\right) \\left(N - 1\\right) \\left(1.0 \\delta - 1.0\\right)}\\\\- \\frac{2.0 \\left(\\delta - 1\\right) \\left(k - 1\\right) \\left(- 0.5 N + 0.5 \\delta k q - 0.5 \\delta k - 1.0 \\delta q + 1.0 \\delta + 0.5 k + 0.5\\right)}{\\left(N - 3\\right) \\left(N - 1\\right) \\left(1.0 \\delta - 1.0\\right)} & \\frac{2.0 \\left(\\delta - 1\\right) \\left(- N + k + 1\\right) \\left(\\delta q - \\delta + 1\\right) \\left(- 0.5 N + 0.5 \\delta k q - 0.5 \\delta k - 0.5 \\delta q + 0.5 \\delta + 0.5 k + 1.0\\right)}{\\left(N - 3\\right) \\left(N - 1\\right) \\left(1.0 \\delta - 1.0\\right)} & - \\frac{1.0 \\delta \\left(\\delta - 1\\right) \\left(q - 1\\right)}{\\left(N - 1\\right) \\left(1.0 \\delta - 1.0\\right)} & - \\frac{2.0 \\delta \\left(\\delta - 1\\right) \\left(q - 1\\right) \\left(- N + k + 1\\right) \\left(- 0.5 N + 0.5 \\delta k q - 0.5 \\delta k - 0.5 \\delta q + 0.5 \\delta + 0.5 k + 1.0\\right)}{\\left(N - 3\\right) \\left(N - 1\\right) \\left(1.0 \\delta - 1.0\\right)}\\end{matrix}\\right]$"
      ],
      "text/plain": [
       "⎡                                         0                                   \n",
       "⎢                                                                             \n",
       "⎢                                         0                                   \n",
       "⎢                                                                             \n",
       "⎢                                2                                            \n",
       "⎢                     1.0⋅(δ - 1) ⋅(k - 2)⋅(k - 1)⋅(δ⋅q - δ + 1)              \n",
       "⎢                     ──────────────────────────────────────────              \n",
       "⎢                                                        2                    \n",
       "⎢                           (N - 3)⋅(N - 1)⋅(1.0⋅δ - 1.0)                     \n",
       "⎢                                                                             \n",
       "⎢-2.0⋅(δ - 1)⋅(k - 1)⋅(-0.5⋅N + 0.5⋅δ⋅k⋅q - 0.5⋅δ⋅k - 1.0⋅δ⋅q + 1.0⋅δ + 0.5⋅k \n",
       "⎢─────────────────────────────────────────────────────────────────────────────\n",
       "⎣                           (N - 3)⋅(N - 1)⋅(1.0⋅δ - 1.0)                     \n",
       "\n",
       "                                                           0                  \n",
       "                                                                              \n",
       "                                                           0                  \n",
       "                                                                              \n",
       "                                              2                               \n",
       "                                  -1.0⋅(δ - 1) ⋅(k - 1)⋅(-N + k + 1)⋅(δ⋅q - δ \n",
       "                                  ────────────────────────────────────────────\n",
       "                                                                         2    \n",
       "                                            (N - 3)⋅(N - 1)⋅(1.0⋅δ - 1.0)     \n",
       "                                                                              \n",
       "+ 0.5)   2.0⋅(δ - 1)⋅(-N + k + 1)⋅(δ⋅q - δ + 1)⋅(-0.5⋅N + 0.5⋅δ⋅k⋅q - 0.5⋅δ⋅k \n",
       "───────  ─────────────────────────────────────────────────────────────────────\n",
       "                                             (N - 3)⋅(N - 1)⋅(1.0⋅δ - 1.0)    \n",
       "\n",
       "                                             0                                \n",
       "                                                                              \n",
       "                                             0                                \n",
       "                                                                              \n",
       "    2                                                                         \n",
       "+ 1)                                                       3.0⋅(δ - 1)⋅(δ⋅q - \n",
       "──────                                       0             ───────────────────\n",
       "                                                                              \n",
       "                                                                              \n",
       "                                                                              \n",
       "- 0.5⋅δ⋅q + 0.5⋅δ + 0.5⋅k + 1.0)  -1.0⋅δ⋅(δ - 1)⋅(q - 1)                      \n",
       "────────────────────────────────  ───────────────────────                     \n",
       "                                   (N - 1)⋅(1.0⋅δ - 1.0)                      \n",
       "\n",
       "                                                                              \n",
       "                                                                              \n",
       "                                                                              \n",
       "                                                                              \n",
       "       ⎛                                                                      \n",
       "δ + 1)⋅⎝-0.333333333333333⋅N⋅δ⋅k⋅q + 0.333333333333333⋅N⋅δ⋅k + 0.3333333333333\n",
       "──────────────────────────────────────────────────────────────────────────────\n",
       "                                                                              \n",
       "                                                                              \n",
       "                                                                              \n",
       "                                                           -2.0⋅δ⋅(δ - 1)⋅(q -\n",
       "                                                           ───────────────────\n",
       "                                                                              \n",
       "\n",
       "                              0                                               \n",
       "                                                                              \n",
       "                              0                                               \n",
       "                                                                              \n",
       "                                                                              \n",
       "33⋅N⋅δ⋅q - 0.333333333333333⋅N⋅δ + 0.333333333333333⋅N + 0.333333333333333⋅δ⋅k\n",
       "──────────────────────────────────────────────────────────────────────────────\n",
       "                (N - 3)⋅(N - 1)⋅(1.0⋅δ - 1.0)                                 \n",
       "                                                                              \n",
       "                                                                              \n",
       " 1)⋅(-N + k + 1)⋅(-0.5⋅N + 0.5⋅δ⋅k⋅q - 0.5⋅δ⋅k - 0.5⋅δ⋅q + 0.5⋅δ + 0.5⋅k + 1.0\n",
       "──────────────────────────────────────────────────────────────────────────────\n",
       "                (N - 3)⋅(N - 1)⋅(1.0⋅δ - 1.0)                                 \n",
       "\n",
       "                                                                              \n",
       "                                                                              \n",
       "                                                                              \n",
       "                                                                              \n",
       "2                          2                                                  \n",
       " ⋅q - 0.333333333333333⋅δ⋅k  - 0.333333333333333⋅δ⋅q + 0.333333333333333⋅δ - 1\n",
       "──────────────────────────────────────────────────────────────────────────────\n",
       "                                                                              \n",
       "                                                                              \n",
       "                                                                              \n",
       ")                                                                             \n",
       "──                                                                            \n",
       "                                                                              \n",
       "\n",
       "   ⎤\n",
       "   ⎥\n",
       "   ⎥\n",
       "   ⎥\n",
       "  ⎞⎥\n",
       ".0⎠⎥\n",
       "───⎥\n",
       "   ⎥\n",
       "   ⎥\n",
       "   ⎥\n",
       "   ⎥\n",
       "   ⎥\n",
       "   ⎦"
      ]
     },
     "execution_count": 61,
     "metadata": {},
     "output_type": "execute_result"
    }
   ],
   "source": [
    "combinations = itertools.product([GTFT, ALLD], repeat=2)\n",
    "vMM, vMR, vRM, vRR = [\n",
    "        formulation.steady_state(p1, p2, d) for p1, p2 in combinations\n",
    "    ]\n",
    "\n",
    "\n",
    "sym.Matrix(evolution.probability_of_receiving_payoffs(vMM, vMR, vRM, vRR, k=k, N=N)).applyfunc(sym.factor)"
   ]
  },
  {
   "cell_type": "markdown",
   "metadata": {},
   "source": [
    "**Simulations** - **Example in notes**"
   ]
  },
  {
   "cell_type": "markdown",
   "metadata": {},
   "source": [
    "**Plotting simulation results**"
   ]
  },
  {
   "cell_type": "code",
   "execution_count": 70,
   "metadata": {},
   "outputs": [],
   "source": [
    "df = pd.read_csv('expected_payoff_data.csv', header=None)"
   ]
  },
  {
   "cell_type": "code",
   "execution_count": 74,
   "metadata": {},
   "outputs": [],
   "source": [
    "df.columns = ['R', 'S', 'T', 'P', 'N', 'delta', 'beta', 'mode', 'cooperation', 'score', 'y', 'p', 'q']"
   ]
  },
  {
   "cell_type": "code",
   "execution_count": 89,
   "metadata": {},
   "outputs": [],
   "source": [
    "df['score'] = [float(val.replace('[', \"\").replace(']', \"\")) for val in df['score']]"
   ]
  },
  {
   "cell_type": "code",
   "execution_count": 92,
   "metadata": {},
   "outputs": [
    {
     "data": {
      "text/html": [
       "<div>\n",
       "<style scoped>\n",
       "    .dataframe tbody tr th:only-of-type {\n",
       "        vertical-align: middle;\n",
       "    }\n",
       "\n",
       "    .dataframe tbody tr th {\n",
       "        vertical-align: top;\n",
       "    }\n",
       "\n",
       "    .dataframe thead th {\n",
       "        text-align: right;\n",
       "    }\n",
       "</style>\n",
       "<table border=\"1\" class=\"dataframe\">\n",
       "  <thead>\n",
       "    <tr style=\"text-align: right;\">\n",
       "      <th></th>\n",
       "      <th>R</th>\n",
       "      <th>S</th>\n",
       "      <th>T</th>\n",
       "      <th>P</th>\n",
       "      <th>N</th>\n",
       "      <th>delta</th>\n",
       "      <th>beta</th>\n",
       "      <th>cooperation</th>\n",
       "      <th>score</th>\n",
       "      <th>y</th>\n",
       "      <th>p</th>\n",
       "      <th>q</th>\n",
       "    </tr>\n",
       "  </thead>\n",
       "  <tbody>\n",
       "    <tr>\n",
       "      <th>count</th>\n",
       "      <td>54237.0</td>\n",
       "      <td>54237.0</td>\n",
       "      <td>54237.0</td>\n",
       "      <td>54237.0</td>\n",
       "      <td>54237.0</td>\n",
       "      <td>5.423700e+04</td>\n",
       "      <td>54237.0</td>\n",
       "      <td>54237.000000</td>\n",
       "      <td>54237.000000</td>\n",
       "      <td>54237.000000</td>\n",
       "      <td>54237.000000</td>\n",
       "      <td>54237.000000</td>\n",
       "    </tr>\n",
       "    <tr>\n",
       "      <th>mean</th>\n",
       "      <td>2.0</td>\n",
       "      <td>-1.0</td>\n",
       "      <td>3.0</td>\n",
       "      <td>0.0</td>\n",
       "      <td>100.0</td>\n",
       "      <td>9.990000e-01</td>\n",
       "      <td>1.0</td>\n",
       "      <td>0.502290</td>\n",
       "      <td>1.004579</td>\n",
       "      <td>0.442359</td>\n",
       "      <td>0.568304</td>\n",
       "      <td>0.134291</td>\n",
       "    </tr>\n",
       "    <tr>\n",
       "      <th>std</th>\n",
       "      <td>0.0</td>\n",
       "      <td>0.0</td>\n",
       "      <td>0.0</td>\n",
       "      <td>0.0</td>\n",
       "      <td>0.0</td>\n",
       "      <td>2.220467e-16</td>\n",
       "      <td>0.0</td>\n",
       "      <td>0.434754</td>\n",
       "      <td>0.869508</td>\n",
       "      <td>0.272739</td>\n",
       "      <td>0.409081</td>\n",
       "      <td>0.136811</td>\n",
       "    </tr>\n",
       "    <tr>\n",
       "      <th>min</th>\n",
       "      <td>2.0</td>\n",
       "      <td>-1.0</td>\n",
       "      <td>3.0</td>\n",
       "      <td>0.0</td>\n",
       "      <td>100.0</td>\n",
       "      <td>9.990000e-01</td>\n",
       "      <td>1.0</td>\n",
       "      <td>0.000000</td>\n",
       "      <td>0.000000</td>\n",
       "      <td>0.000000</td>\n",
       "      <td>0.000000</td>\n",
       "      <td>0.000000</td>\n",
       "    </tr>\n",
       "    <tr>\n",
       "      <th>25%</th>\n",
       "      <td>2.0</td>\n",
       "      <td>-1.0</td>\n",
       "      <td>3.0</td>\n",
       "      <td>0.0</td>\n",
       "      <td>100.0</td>\n",
       "      <td>9.990000e-01</td>\n",
       "      <td>1.0</td>\n",
       "      <td>0.062453</td>\n",
       "      <td>0.124906</td>\n",
       "      <td>0.276361</td>\n",
       "      <td>0.155993</td>\n",
       "      <td>0.037916</td>\n",
       "    </tr>\n",
       "    <tr>\n",
       "      <th>50%</th>\n",
       "      <td>2.0</td>\n",
       "      <td>-1.0</td>\n",
       "      <td>3.0</td>\n",
       "      <td>0.0</td>\n",
       "      <td>100.0</td>\n",
       "      <td>9.990000e-01</td>\n",
       "      <td>1.0</td>\n",
       "      <td>0.274866</td>\n",
       "      <td>0.549732</td>\n",
       "      <td>0.333345</td>\n",
       "      <td>0.459872</td>\n",
       "      <td>0.120022</td>\n",
       "    </tr>\n",
       "    <tr>\n",
       "      <th>75%</th>\n",
       "      <td>2.0</td>\n",
       "      <td>-1.0</td>\n",
       "      <td>3.0</td>\n",
       "      <td>0.0</td>\n",
       "      <td>100.0</td>\n",
       "      <td>9.990000e-01</td>\n",
       "      <td>1.0</td>\n",
       "      <td>0.983474</td>\n",
       "      <td>1.966949</td>\n",
       "      <td>0.674971</td>\n",
       "      <td>0.998380</td>\n",
       "      <td>0.139220</td>\n",
       "    </tr>\n",
       "    <tr>\n",
       "      <th>max</th>\n",
       "      <td>2.0</td>\n",
       "      <td>-1.0</td>\n",
       "      <td>3.0</td>\n",
       "      <td>0.0</td>\n",
       "      <td>100.0</td>\n",
       "      <td>9.990000e-01</td>\n",
       "      <td>1.0</td>\n",
       "      <td>0.997984</td>\n",
       "      <td>1.995968</td>\n",
       "      <td>0.997702</td>\n",
       "      <td>0.999756</td>\n",
       "      <td>0.999444</td>\n",
       "    </tr>\n",
       "  </tbody>\n",
       "</table>\n",
       "</div>"
      ],
      "text/plain": [
       "             R        S        T        P        N         delta     beta  \\\n",
       "count  54237.0  54237.0  54237.0  54237.0  54237.0  5.423700e+04  54237.0   \n",
       "mean       2.0     -1.0      3.0      0.0    100.0  9.990000e-01      1.0   \n",
       "std        0.0      0.0      0.0      0.0      0.0  2.220467e-16      0.0   \n",
       "min        2.0     -1.0      3.0      0.0    100.0  9.990000e-01      1.0   \n",
       "25%        2.0     -1.0      3.0      0.0    100.0  9.990000e-01      1.0   \n",
       "50%        2.0     -1.0      3.0      0.0    100.0  9.990000e-01      1.0   \n",
       "75%        2.0     -1.0      3.0      0.0    100.0  9.990000e-01      1.0   \n",
       "max        2.0     -1.0      3.0      0.0    100.0  9.990000e-01      1.0   \n",
       "\n",
       "        cooperation         score             y             p             q  \n",
       "count  54237.000000  54237.000000  54237.000000  54237.000000  54237.000000  \n",
       "mean       0.502290      1.004579      0.442359      0.568304      0.134291  \n",
       "std        0.434754      0.869508      0.272739      0.409081      0.136811  \n",
       "min        0.000000      0.000000      0.000000      0.000000      0.000000  \n",
       "25%        0.062453      0.124906      0.276361      0.155993      0.037916  \n",
       "50%        0.274866      0.549732      0.333345      0.459872      0.120022  \n",
       "75%        0.983474      1.966949      0.674971      0.998380      0.139220  \n",
       "max        0.997984      1.995968      0.997702      0.999756      0.999444  "
      ]
     },
     "execution_count": 92,
     "metadata": {},
     "output_type": "execute_result"
    }
   ],
   "source": [
    "df.describe()"
   ]
  },
  {
   "cell_type": "code",
   "execution_count": 93,
   "metadata": {},
   "outputs": [],
   "source": [
    "x, y = simulation._reshape_data(df)"
   ]
  },
  {
   "cell_type": "code",
   "execution_count": 94,
   "metadata": {},
   "outputs": [
    {
     "data": {
      "image/png": "[encoded data removed]",
      "text/plain": [
       "<Figure size 432x288 with 2 Axes>"
      ]
     },
     "metadata": {
      "needs_background": "light"
     },
     "output_type": "display_data"
    }
   ],
   "source": [
    "cmap = matplotlib.cm.get_cmap('Blues')\n",
    "\n",
    "heatmap, xedges, yedges = np.histogram2d(x, y, bins=10)\n",
    "extent = [xedges[0], xedges[-1], yedges[0], yedges[-1]]\n",
    "\n",
    "plt.clf()\n",
    "plt.imshow(heatmap.T, extent=extent, cmap=cmap, origin='lower')\n",
    "\n",
    "plt.colorbar()\n",
    "plt.xticks(np.linspace(0, 1, 2));\n",
    "plt.yticks(np.linspace(0, 1, 2));\n",
    "plt.show()"
   ]
  },
  {
   "cell_type": "code",
   "execution_count": 9,
   "metadata": {},
   "outputs": [],
   "source": [
    "df = pd.read_csv('stochastic_payoff_data.csv', header=None)"
   ]
  },
  {
   "cell_type": "code",
   "execution_count": 10,
   "metadata": {},
   "outputs": [],
   "source": [
    "x, y = simulation._reshape_data(df)"
   ]
  },
  {
   "cell_type": "code",
   "execution_count": 11,
   "metadata": {},
   "outputs": [
    {
     "data": {
      "image/png": "[encoded data removed]",
      "text/plain": [
       "<Figure size 432x288 with 2 Axes>"
      ]
     },
     "metadata": {
      "needs_background": "light"
     },
     "output_type": "display_data"
    }
   ],
   "source": [
    "cmap = matplotlib.cm.get_cmap('Reds')\n",
    "\n",
    "heatmap, xedges, yedges = np.histogram2d(x, y, bins=10)\n",
    "extent = [xedges[0], xedges[-1], yedges[0], yedges[-1]]\n",
    "\n",
    "plt.clf()\n",
    "plt.imshow(heatmap.T, extent=extent, cmap=cmap, origin='lower');\n",
    "\n",
    "plt.colorbar()\n",
    "plt.xticks(np.linspace(0, 1, 2));\n",
    "plt.yticks(np.linspace(0, 1, 2));\n",
    "plt.show()"
   ]
  },
  {
   "cell_type": "code",
   "execution_count": null,
   "metadata": {},
   "outputs": [],
   "source": []
  }
 ],
 "metadata": {
  "kernelspec": {
   "display_name": "stochastic-payoffs",
   "language": "python",
   "name": "stochastic-payoffs"
  },
  "language_info": {
   "codemirror_mode": {
    "name": "ipython",
    "version": 3
   },
   "file_extension": ".py",
   "mimetype": "text/x-python",
   "name": "python",
   "nbconvert_exporter": "python",
   "pygments_lexer": "ipython3",
   "version": "3.7.9"
  }
 },
 "nbformat": 4,
 "nbformat_minor": 4
}
