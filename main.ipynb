{
 "cells": [
  {
   "cell_type": "code",
   "execution_count": 1,
   "metadata": {},
   "outputs": [],
   "source": [
    "import sympy as sym\n",
    "\n",
    "import numpy as np\n",
    "\n",
    "import itertools\n",
    "\n",
    "sym.init_printing()"
   ]
  },
  {
   "cell_type": "code",
   "execution_count": 76,
   "metadata": {},
   "outputs": [],
   "source": [
    "from importlib.machinery import SourceFileLoader\n",
    "\n",
    "\n",
    "main = SourceFileLoader(\"main\", \"src/main.py\").load_module()"
   ]
  },
  {
   "cell_type": "markdown",
   "metadata": {},
   "source": [
    "**Defining variables**"
   ]
  },
  {
   "cell_type": "code",
   "execution_count": 3,
   "metadata": {},
   "outputs": [],
   "source": [
    "y_1, p_1, q_1 = sym.symbols(\"y_1, p_1, q_1\")\n",
    "y_2, p_2, q_2 = sym.symbols(\"y_2, p_2, q_2\")"
   ]
  },
  {
   "cell_type": "code",
   "execution_count": 4,
   "metadata": {},
   "outputs": [],
   "source": [
    "s_one = (y_1, p_1, q_1)\n",
    "s_two = (y_2, p_2, q_2)"
   ]
  },
  {
   "cell_type": "code",
   "execution_count": 5,
   "metadata": {},
   "outputs": [
    {
     "data": {
      "image/png": "[encoded data removed]",
      "text/latex": [
       "$\\displaystyle \\left( y_{1}, \\  p_{1}, \\  q_{1}\\right)$"
      ],
      "text/plain": [
       "(y₁, p₁, q₁)"
      ]
     },
     "execution_count": 5,
     "metadata": {},
     "output_type": "execute_result"
    }
   ],
   "source": [
    "s_one"
   ]
  },
  {
   "cell_type": "markdown",
   "metadata": {},
   "source": [
    "**Get expression using code**"
   ]
  },
  {
   "cell_type": "code",
   "execution_count": 6,
   "metadata": {},
   "outputs": [],
   "source": [
    "d = sym.symbols(\"delta\")"
   ]
  },
  {
   "cell_type": "code",
   "execution_count": 8,
   "metadata": {},
   "outputs": [],
   "source": [
    "v_zero = main.expected_distribution_opening_round(s_one, s_two)"
   ]
  },
  {
   "cell_type": "code",
   "execution_count": 9,
   "metadata": {},
   "outputs": [
    {
     "data": {
      "image/png": "[encoded data removed]",
      "text/latex": [
       "$\\displaystyle \\left( y_{1} y_{2}, \\  y_{1} \\left(1 - y_{2}\\right), \\  y_{2} \\left(1 - y_{1}\\right), \\  \\left(1 - y_{1}\\right) \\left(1 - y_{2}\\right)\\right)$"
      ],
      "text/plain": [
       "(y₁⋅y₂, y₁⋅(1 - y₂), y₂⋅(1 - y₁), (1 - y₁)⋅(1 - y₂))"
      ]
     },
     "execution_count": 9,
     "metadata": {},
     "output_type": "execute_result"
    }
   ],
   "source": [
    "v_zero"
   ]
  },
  {
   "cell_type": "code",
   "execution_count": 11,
   "metadata": {},
   "outputs": [],
   "source": [
    "M = main.markov_chain_for_reactive_strategies(s_one, s_two)"
   ]
  },
  {
   "cell_type": "code",
   "execution_count": 12,
   "metadata": {},
   "outputs": [],
   "source": [
    "inverse = sym.Matrix(np.identity(4) - d * M).inverse_ADJ()"
   ]
  },
  {
   "cell_type": "code",
   "execution_count": 13,
   "metadata": {},
   "outputs": [],
   "source": [
    "inverse = inverse.applyfunc(sym.simplify)"
   ]
  },
  {
   "cell_type": "code",
   "execution_count": 14,
   "metadata": {},
   "outputs": [],
   "source": [
    "expression = (1 - d) * sym.Matrix(v_zero).reshape(1, 4) @ inverse"
   ]
  },
  {
   "cell_type": "markdown",
   "metadata": {},
   "source": [
    "**Check the written mathematics**"
   ]
  },
  {
   "cell_type": "code",
   "execution_count": 15,
   "metadata": {},
   "outputs": [
    {
     "data": {
      "image/png": "[encoded data removed]",
      "text/latex": [
       "$\\displaystyle \\frac{\\delta \\left(q_{1} + \\left(p_{1} - q_{1}\\right) \\left(\\delta q_{2} + y_{2} \\left(1 - \\delta\\right)\\right)\\right) \\left(q_{2} + \\left(p_{2} - q_{2}\\right) \\left(\\delta q_{1} + y_{1} \\left(1 - \\delta\\right)\\right)\\right)}{\\left(- \\delta \\left(p_{1} - q_{1}\\right) \\left(p_{2} - q_{2}\\right) + 1\\right) \\left(- \\delta^{2} \\left(p_{1} - q_{1}\\right) \\left(p_{2} - q_{2}\\right) + 1\\right)} + \\frac{y_{1} y_{2} \\left(1 - \\delta\\right)}{- \\delta^{2} \\left(p_{1} - q_{1}\\right) \\left(p_{2} - q_{2}\\right) + 1}$"
      ],
      "text/plain": [
       "δ⋅(q₁ + (p₁ - q₁)⋅(δ⋅q₂ + y₂⋅(1 - δ)))⋅(q₂ + (p₂ - q₂)⋅(δ⋅q₁ + y₁⋅(1 - δ)))   \n",
       "─────────────────────────────────────────────────────────────────────────── + \n",
       "                                     ⎛   2                        ⎞           \n",
       "        (-δ⋅(p₁ - q₁)⋅(p₂ - q₂) + 1)⋅⎝- δ ⋅(p₁ - q₁)⋅(p₂ - q₂) + 1⎠           \n",
       "\n",
       "       y₁⋅y₂⋅(1 - δ)        \n",
       "────────────────────────────\n",
       "   2                        \n",
       "- δ ⋅(p₁ - q₁)⋅(p₂ - q₂) + 1"
      ]
     },
     "execution_count": 15,
     "metadata": {},
     "output_type": "execute_result"
    }
   ],
   "source": [
    "u_R = main.probability_being_in_state_R(s_one, s_two, d)\n",
    "u_R"
   ]
  },
  {
   "cell_type": "code",
   "execution_count": 25,
   "metadata": {},
   "outputs": [
    {
     "data": {
      "image/png": "[encoded data removed]",
      "text/latex": [
       "$\\displaystyle \\frac{\\delta \\left(q_{1} + \\left(p_{1} - q_{1}\\right) \\left(\\delta q_{2} + y_{2} \\left(1 - \\delta\\right)\\right)\\right) \\left(- q_{2} + \\left(- p_{2} + q_{2}\\right) \\left(\\delta p_{1} + y_{1} \\left(1 - \\delta\\right)\\right) + 1\\right)}{\\left(- \\delta \\left(p_{1} - q_{1}\\right) \\left(p_{2} - q_{2}\\right) + 1\\right) \\left(- \\delta^{2} \\left(p_{1} - q_{1}\\right) \\left(p_{2} - q_{2}\\right) + 1\\right)} + \\frac{y_{1} \\left(1 - \\delta\\right) \\left(1 - y_{2}\\right)}{- \\delta^{2} \\left(p_{1} - q_{1}\\right) \\left(p_{2} - q_{2}\\right) + 1}$"
      ],
      "text/plain": [
       "δ⋅(q₁ + (p₁ - q₁)⋅(δ⋅q₂ + y₂⋅(1 - δ)))⋅(-q₂ + (-p₂ + q₂)⋅(δ⋅p₁ + y₁⋅(1 - δ)) +\n",
       "──────────────────────────────────────────────────────────────────────────────\n",
       "                                        ⎛   2                        ⎞        \n",
       "           (-δ⋅(p₁ - q₁)⋅(p₂ - q₂) + 1)⋅⎝- δ ⋅(p₁ - q₁)⋅(p₂ - q₂) + 1⎠        \n",
       "\n",
       " 1)       y₁⋅(1 - δ)⋅(1 - y₂)     \n",
       "─── + ────────────────────────────\n",
       "         2                        \n",
       "      - δ ⋅(p₁ - q₁)⋅(p₂ - q₂) + 1"
      ]
     },
     "execution_count": 25,
     "metadata": {},
     "output_type": "execute_result"
    }
   ],
   "source": [
    "u_S = main.probability_being_in_state_S(s_one, s_two, d)\n",
    "u_S"
   ]
  },
  {
   "cell_type": "code",
   "execution_count": 17,
   "metadata": {},
   "outputs": [
    {
     "data": {
      "image/png": "[encoded data removed]",
      "text/latex": [
       "$\\displaystyle \\frac{\\delta \\left(q_{2} + \\left(p_{2} - q_{2}\\right) \\left(\\delta q_{1} + y_{1} \\left(1 - \\delta\\right)\\right)\\right) \\left(- q_{1} + \\left(- p_{1} + q_{1}\\right) \\left(\\delta p_{2} + y_{2} \\left(1 - \\delta\\right)\\right) + 1\\right)}{\\left(- \\delta \\left(p_{1} - q_{1}\\right) \\left(p_{2} - q_{2}\\right) + 1\\right) \\left(- \\delta^{2} \\left(p_{1} - q_{1}\\right) \\left(p_{2} - q_{2}\\right) + 1\\right)} + \\frac{y_{2} \\left(1 - \\delta\\right) \\left(1 - y_{1}\\right)}{- \\delta^{2} \\left(p_{1} - q_{1}\\right) \\left(p_{2} - q_{2}\\right) + 1}$"
      ],
      "text/plain": [
       "δ⋅(q₂ + (p₂ - q₂)⋅(δ⋅q₁ + y₁⋅(1 - δ)))⋅(-q₁ + (-p₁ + q₁)⋅(δ⋅p₂ + y₂⋅(1 - δ)) +\n",
       "──────────────────────────────────────────────────────────────────────────────\n",
       "                                        ⎛   2                        ⎞        \n",
       "           (-δ⋅(p₁ - q₁)⋅(p₂ - q₂) + 1)⋅⎝- δ ⋅(p₁ - q₁)⋅(p₂ - q₂) + 1⎠        \n",
       "\n",
       " 1)       y₂⋅(1 - δ)⋅(1 - y₁)     \n",
       "─── + ────────────────────────────\n",
       "         2                        \n",
       "      - δ ⋅(p₁ - q₁)⋅(p₂ - q₂) + 1"
      ]
     },
     "execution_count": 17,
     "metadata": {},
     "output_type": "execute_result"
    }
   ],
   "source": [
    "u_T = main.probability_being_in_state_T(s_one, s_two, d)\n",
    "u_T"
   ]
  },
  {
   "cell_type": "code",
   "execution_count": 18,
   "metadata": {},
   "outputs": [
    {
     "data": {
      "image/png": "[encoded data removed]",
      "text/latex": [
       "$\\displaystyle \\frac{\\delta \\left(- q_{1} + \\left(- p_{1} + q_{1}\\right) \\left(\\delta p_{2} + y_{2} \\left(1 - \\delta\\right)\\right) + 1\\right) \\left(- q_{2} + \\left(- p_{2} + q_{2}\\right) \\left(\\delta p_{1} + y_{1} \\left(1 - \\delta\\right)\\right) + 1\\right)}{\\left(- \\delta \\left(p_{1} - q_{1}\\right) \\left(p_{2} - q_{2}\\right) + 1\\right) \\left(- \\delta^{2} \\left(p_{1} - q_{1}\\right) \\left(p_{2} - q_{2}\\right) + 1\\right)} + \\frac{\\left(1 - \\delta\\right) \\left(1 - y_{1}\\right) \\left(1 - y_{2}\\right)}{- \\delta^{2} \\left(p_{1} - q_{1}\\right) \\left(p_{2} - q_{2}\\right) + 1}$"
      ],
      "text/plain": [
       "δ⋅(-q₁ + (-p₁ + q₁)⋅(δ⋅p₂ + y₂⋅(1 - δ)) + 1)⋅(-q₂ + (-p₂ + q₂)⋅(δ⋅p₁ + y₁⋅(1 -\n",
       "──────────────────────────────────────────────────────────────────────────────\n",
       "                                           ⎛   2                        ⎞     \n",
       "              (-δ⋅(p₁ - q₁)⋅(p₂ - q₂) + 1)⋅⎝- δ ⋅(p₁ - q₁)⋅(p₂ - q₂) + 1⎠     \n",
       "\n",
       " δ)) + 1)    (1 - δ)⋅(1 - y₁)⋅(1 - y₂)  \n",
       "───────── + ────────────────────────────\n",
       "               2                        \n",
       "            - δ ⋅(p₁ - q₁)⋅(p₂ - q₂) + 1"
      ]
     },
     "execution_count": 18,
     "metadata": {},
     "output_type": "execute_result"
    }
   ],
   "source": [
    "u_P = main.probability_being_in_state_P(s_one, s_two, d)\n",
    "u_P"
   ]
  },
  {
   "cell_type": "code",
   "execution_count": 27,
   "metadata": {},
   "outputs": [
    {
     "data": {
      "image/png": "[encoded data removed]",
      "text/latex": [
       "$\\displaystyle \\left( 0, \\  0\\right)$"
      ],
      "text/plain": [
       "(0, 0)"
      ]
     },
     "execution_count": 27,
     "metadata": {},
     "output_type": "execute_result"
    }
   ],
   "source": [
    "(u_R - expression[0]).simplify(), (u_S - expression[1]).factor()"
   ]
  },
  {
   "cell_type": "code",
   "execution_count": 28,
   "metadata": {},
   "outputs": [
    {
     "data": {
      "image/png": "[encoded data removed]",
      "text/latex": [
       "$\\displaystyle \\left( 0, \\  0\\right)$"
      ],
      "text/plain": [
       "(0, 0)"
      ]
     },
     "execution_count": 28,
     "metadata": {},
     "output_type": "execute_result"
    }
   ],
   "source": [
    "(u_T - expression[2]).factor(), (u_P - expression[3]).factor()"
   ]
  },
  {
   "cell_type": "markdown",
   "metadata": {},
   "source": [
    "**Check functions for analysis of ALLD into GTFT**"
   ]
  },
  {
   "cell_type": "code",
   "execution_count": 41,
   "metadata": {},
   "outputs": [],
   "source": [
    "q = sym.symbols(\"q\")\n",
    "\n",
    "N, k = sym.symbols(\"N, k\")"
   ]
  },
  {
   "cell_type": "code",
   "execution_count": 42,
   "metadata": {},
   "outputs": [],
   "source": [
    "ALLD = (0, 0, 0)\n",
    "GTFT = (1, 1, q)"
   ]
  },
  {
   "cell_type": "markdown",
   "metadata": {},
   "source": [
    "**States of Eq. (9) and (10)**"
   ]
  },
  {
   "cell_type": "code",
   "execution_count": 44,
   "metadata": {},
   "outputs": [
    {
     "data": {
      "image/png": "[encoded data removed]",
      "text/latex": [
       "$\\displaystyle 1$"
      ],
      "text/plain": [
       "1"
      ]
     },
     "execution_count": 44,
     "metadata": {},
     "output_type": "execute_result"
    }
   ],
   "source": [
    "main.probability_being_in_state_R(GTFT, GTFT, d).factor()"
   ]
  },
  {
   "cell_type": "code",
   "execution_count": 45,
   "metadata": {},
   "outputs": [
    {
     "data": {
      "image/png": "[encoded data removed]",
      "text/latex": [
       "$\\displaystyle 0$"
      ],
      "text/plain": [
       "0"
      ]
     },
     "execution_count": 45,
     "metadata": {},
     "output_type": "execute_result"
    }
   ],
   "source": [
    "main.probability_being_in_state_R(GTFT, ALLD, d).factor()"
   ]
  },
  {
   "cell_type": "code",
   "execution_count": 46,
   "metadata": {},
   "outputs": [
    {
     "data": {
      "image/png": "[encoded data removed]",
      "text/latex": [
       "$\\displaystyle 0$"
      ],
      "text/plain": [
       "0"
      ]
     },
     "execution_count": 46,
     "metadata": {},
     "output_type": "execute_result"
    }
   ],
   "source": [
    "main.probability_being_in_state_R(GTFT, ALLD, d).factor()"
   ]
  },
  {
   "cell_type": "code",
   "execution_count": 47,
   "metadata": {},
   "outputs": [
    {
     "data": {
      "image/png": "[encoded data removed]",
      "text/latex": [
       "$\\displaystyle \\delta q - \\delta + 1$"
      ],
      "text/plain": [
       "δ⋅q - δ + 1"
      ]
     },
     "execution_count": 47,
     "metadata": {},
     "output_type": "execute_result"
    }
   ],
   "source": [
    "main.probability_being_in_state_T(ALLD, GTFT, d).factor()"
   ]
  },
  {
   "cell_type": "code",
   "execution_count": 48,
   "metadata": {},
   "outputs": [
    {
     "data": {
      "image/png": "[encoded data removed]",
      "text/latex": [
       "$\\displaystyle \\left( 0, \\  0, \\  0\\right)$"
      ],
      "text/plain": [
       "(0, 0, 0)"
      ]
     },
     "execution_count": 48,
     "metadata": {},
     "output_type": "execute_result"
    }
   ],
   "source": [
    "(\n",
    "    main.probability_being_in_state_S(GTFT, GTFT, d).factor(),\n",
    "    main.probability_being_in_state_T(GTFT, GTFT, d).factor(),\n",
    "    main.probability_being_in_state_P(GTFT, GTFT, d).factor(),\n",
    ")"
   ]
  },
  {
   "cell_type": "code",
   "execution_count": 49,
   "metadata": {},
   "outputs": [
    {
     "data": {
      "image/png": "[encoded data removed]",
      "text/latex": [
       "$\\displaystyle \\left( 0, \\  0\\right)$"
      ],
      "text/plain": [
       "(0, 0)"
      ]
     },
     "execution_count": 49,
     "metadata": {},
     "output_type": "execute_result"
    }
   ],
   "source": [
    "main.probability_being_in_state_R(ALLD, GTFT, d).factor(), main.probability_being_in_state_S(\n",
    "    ALLD, GTFT, d\n",
    ").factor()"
   ]
  },
  {
   "cell_type": "code",
   "execution_count": 50,
   "metadata": {},
   "outputs": [
    {
     "data": {
      "image/png": "[encoded data removed]",
      "text/latex": [
       "$\\displaystyle \\left( \\delta q - \\delta + 1, \\  - \\delta \\left(q - 1\\right)\\right)$"
      ],
      "text/plain": [
       "(δ⋅q - δ + 1, -δ⋅(q - 1))"
      ]
     },
     "execution_count": 50,
     "metadata": {},
     "output_type": "execute_result"
    }
   ],
   "source": [
    "main.probability_being_in_state_T(ALLD, GTFT, d).factor(), main.probability_being_in_state_P(\n",
    "    ALLD, GTFT, d\n",
    ").factor()"
   ]
  },
  {
   "cell_type": "markdown",
   "metadata": {},
   "source": [
    "**Ep. (11)**"
   ]
  },
  {
   "cell_type": "code",
   "execution_count": 69,
   "metadata": {},
   "outputs": [
    {
     "data": {
      "image/png": "[encoded data removed]",
      "text/latex": [
       "$\\displaystyle - \\frac{\\delta \\left(N - 2\\right) \\left(q - 1\\right)}{N - 1}$"
      ],
      "text/plain": [
       "-δ⋅(N - 2)⋅(q - 1) \n",
       "───────────────────\n",
       "       N - 1       "
      ]
     },
     "execution_count": 69,
     "metadata": {},
     "output_type": "execute_result"
    }
   ],
   "source": [
    "main.probability_of_receving_payoffs(\n",
    "    player=GTFT,\n",
    "    opponent=ALLD,\n",
    "    player_state=main.probability_being_in_state_R,\n",
    "    opponent_state=main.probability_being_in_state_P,\n",
    "    N=N,\n",
    "    k=1,\n",
    "    delta=d,\n",
    ").factor()"
   ]
  },
  {
   "cell_type": "code",
   "execution_count": 70,
   "metadata": {},
   "outputs": [
    {
     "data": {
      "image/png": "[encoded data removed]",
      "text/latex": [
       "$\\displaystyle \\frac{\\delta \\left(1 - q\\right) \\left(N - 2\\right)}{N - 1}$"
      ],
      "text/plain": [
       "δ⋅(1 - q)⋅(N - 2)\n",
       "─────────────────\n",
       "      N - 1      "
      ]
     },
     "execution_count": 70,
     "metadata": {},
     "output_type": "execute_result"
    }
   ],
   "source": [
    "main.probability_of_receving_payoffs(\n",
    "    player=GTFT,\n",
    "    opponent=ALLD,\n",
    "    player_state=main.probability_being_in_state_R,\n",
    "    opponent_state=main.probability_being_in_state_P,\n",
    "    N=N,\n",
    "    k=1,\n",
    "    delta=d,\n",
    ").factor().collect(1 - q)"
   ]
  },
  {
   "cell_type": "code",
   "execution_count": 71,
   "metadata": {},
   "outputs": [
    {
     "data": {
      "image/png": "[encoded data removed]",
      "text/latex": [
       "$\\displaystyle \\frac{\\delta q - \\delta + 1}{N - 1}$"
      ],
      "text/plain": [
       "δ⋅q - δ + 1\n",
       "───────────\n",
       "   N - 1   "
      ]
     },
     "execution_count": 71,
     "metadata": {},
     "output_type": "execute_result"
    }
   ],
   "source": [
    "main.probability_of_receving_payoffs(\n",
    "    player=GTFT,\n",
    "    opponent=ALLD,\n",
    "    player_state=main.probability_being_in_state_S,\n",
    "    opponent_state=main.probability_being_in_state_T,\n",
    "    N=N,\n",
    "    k=1,\n",
    "    delta=d,\n",
    ").factor()"
   ]
  },
  {
   "cell_type": "code",
   "execution_count": 72,
   "metadata": {},
   "outputs": [
    {
     "data": {
      "image/png": "[encoded data removed]",
      "text/latex": [
       "$\\displaystyle - \\frac{\\delta q}{N - 1} + \\frac{\\delta}{N - 1}$"
      ],
      "text/plain": [
       "   δ⋅q      δ  \n",
       "- ───── + ─────\n",
       "  N - 1   N - 1"
      ]
     },
     "execution_count": 72,
     "metadata": {},
     "output_type": "execute_result"
    }
   ],
   "source": [
    "main.probability_of_receving_payoffs(\n",
    "    player=GTFT,\n",
    "    opponent=ALLD,\n",
    "    player_state=main.probability_being_in_state_P,\n",
    "    opponent_state=main.probability_being_in_state_P,\n",
    "    N=N,\n",
    "    k=1,\n",
    "    delta=d,\n",
    ").expand()"
   ]
  },
  {
   "cell_type": "markdown",
   "metadata": {},
   "source": [
    "**Fixation probabilities**"
   ]
  },
  {
   "cell_type": "code",
   "execution_count": 73,
   "metadata": {},
   "outputs": [],
   "source": [
    "R, S, T, P = sym.symbols('R, S, T, P')"
   ]
  },
  {
   "cell_type": "code",
   "execution_count": 74,
   "metadata": {},
   "outputs": [
    {
     "data": {
      "image/png": "[encoded data removed]",
      "text/latex": [
       "$\\displaystyle \\beta$"
      ],
      "text/plain": [
       "β"
      ]
     },
     "execution_count": 74,
     "metadata": {},
     "output_type": "execute_result"
    }
   ],
   "source": [
    "b = sym.symbols('beta')\n",
    "b"
   ]
  },
  {
   "cell_type": "code",
   "execution_count": 79,
   "metadata": {},
   "outputs": [],
   "source": [
    "expr = (main.probability_mutant_increases(GTFT, ALLD, N, k=1, delta=d, beta=b, payoffs=[R, S, T, P]) /\n",
    "        main.probability_mutant_descreases(GTFT, ALLD, N, k=1, delta=d, beta=b, payoffs=[R, S, T, P]))\n"
   ]
  },
  {
   "cell_type": "code",
   "execution_count": 80,
   "metadata": {},
   "outputs": [
    {
     "data": {
      "image/png": "[encoded data removed]",
      "text/latex": [
       "$\\displaystyle \\frac{\\frac{\\delta \\left(1 - q\\right) \\left(1 - \\frac{1}{N - 1}\\right) \\left(\\frac{\\delta \\left(q + \\left(1 - q\\right) \\left(\\delta q - \\delta + 1\\right)\\right)^{2}}{\\left(- \\delta \\left(1 - q\\right)^{2} + 1\\right) \\left(- \\delta^{2} \\left(1 - q\\right)^{2} + 1\\right)} + \\frac{1 - \\delta}{- \\delta^{2} \\left(1 - q\\right)^{2} + 1}\\right)}{1 + e^{- \\beta \\left(P - R\\right)}} + \\frac{\\delta \\left(1 - q\\right)}{2 \\left(N - 1\\right)} + \\frac{\\delta \\left(1 - q\\right)}{\\left(1 + e^{- \\beta \\left(- P + T\\right)}\\right) \\left(N - 1\\right)} + \\frac{\\delta \\left(1 - q\\right)}{\\left(1 + e^{- \\beta \\left(- P + S\\right)}\\right) \\left(N - 1\\right)} + \\frac{\\delta \\left(1 - q\\right)}{\\left(1 + e^{- \\beta \\left(- P + R\\right)}\\right) \\left(N - 1\\right)} + \\frac{\\left(1 - \\frac{1}{N - 1}\\right) \\left(\\frac{\\delta \\left(q + \\left(1 - q\\right) \\left(\\delta q - \\delta + 1\\right)\\right)^{2}}{\\left(- \\delta \\left(1 - q\\right)^{2} + 1\\right) \\left(- \\delta^{2} \\left(1 - q\\right)^{2} + 1\\right)} + \\frac{1 - \\delta}{- \\delta^{2} \\left(1 - q\\right)^{2} + 1}\\right) \\left(\\delta q - \\delta + 1\\right)}{1 + e^{- \\beta \\left(- R + T\\right)}} + \\frac{\\delta q - \\delta + 1}{2 \\left(N - 1\\right)} + \\frac{\\delta q - \\delta + 1}{\\left(1 + e^{- \\beta \\left(- S + T\\right)}\\right) \\left(N - 1\\right)} + \\frac{\\delta q - \\delta + 1}{\\left(1 + e^{- \\beta \\left(R - S\\right)}\\right) \\left(N - 1\\right)} + \\frac{\\delta q - \\delta + 1}{\\left(1 + e^{- \\beta \\left(P - S\\right)}\\right) \\left(N - 1\\right)}}{\\frac{\\delta \\left(1 - q\\right) \\left(1 - \\frac{1}{N - 1}\\right) \\left(\\frac{\\delta \\left(q + \\left(1 - q\\right) \\left(\\delta q - \\delta + 1\\right)\\right)^{2}}{\\left(- \\delta \\left(1 - q\\right)^{2} + 1\\right) \\left(- \\delta^{2} \\left(1 - q\\right)^{2} + 1\\right)} + \\frac{1 - \\delta}{- \\delta^{2} \\left(1 - q\\right)^{2} + 1}\\right)}{1 + e^{- \\beta \\left(- P + R\\right)}} + \\frac{\\delta \\left(1 - q\\right)}{2 \\left(N - 1\\right)} + \\frac{\\delta \\left(1 - q\\right)}{\\left(1 + e^{- \\beta \\left(P - T\\right)}\\right) \\left(N - 1\\right)} + \\frac{\\delta \\left(1 - q\\right)}{\\left(1 + e^{- \\beta \\left(P - S\\right)}\\right) \\left(N - 1\\right)} + \\frac{\\delta \\left(1 - q\\right)}{\\left(1 + e^{- \\beta \\left(P - R\\right)}\\right) \\left(N - 1\\right)} + \\frac{\\left(1 - \\frac{1}{N - 1}\\right) \\left(\\frac{\\delta \\left(q + \\left(1 - q\\right) \\left(\\delta q - \\delta + 1\\right)\\right)^{2}}{\\left(- \\delta \\left(1 - q\\right)^{2} + 1\\right) \\left(- \\delta^{2} \\left(1 - q\\right)^{2} + 1\\right)} + \\frac{1 - \\delta}{- \\delta^{2} \\left(1 - q\\right)^{2} + 1}\\right) \\left(\\delta q - \\delta + 1\\right)}{1 + e^{- \\beta \\left(R - T\\right)}} + \\frac{\\delta q - \\delta + 1}{2 \\left(N - 1\\right)} + \\frac{\\delta q - \\delta + 1}{\\left(1 + e^{- \\beta \\left(S - T\\right)}\\right) \\left(N - 1\\right)} + \\frac{\\delta q - \\delta + 1}{\\left(1 + e^{- \\beta \\left(- R + S\\right)}\\right) \\left(N - 1\\right)} + \\frac{\\delta q - \\delta + 1}{\\left(1 + e^{- \\beta \\left(- P + S\\right)}\\right) \\left(N - 1\\right)}}$"
      ],
      "text/plain": [
       "                      ⎛                                 2                     \n",
       "          ⎛      1  ⎞ ⎜    δ⋅(q + (1 - q)⋅(δ⋅q - δ + 1))              1 - δ   \n",
       "δ⋅(1 - q)⋅⎜1 - ─────⎟⋅⎜────────────────────────────────────── + ──────────────\n",
       "          ⎝    N - 1⎠ ⎜⎛           2    ⎞ ⎛   2        2    ⎞      2        2 \n",
       "                      ⎝⎝- δ⋅(1 - q)  + 1⎠⋅⎝- δ ⋅(1 - q)  + 1⎠   - δ ⋅(1 - q)  \n",
       "──────────────────────────────────────────────────────────────────────────────\n",
       "                                      -β⋅(P - R)                              \n",
       "                                 1 + ℯ                                        \n",
       "──────────────────────────────────────────────────────────────────────────────\n",
       "                       ⎛                                 2                    \n",
       "           ⎛      1  ⎞ ⎜    δ⋅(q + (1 - q)⋅(δ⋅q - δ + 1))              1 - δ  \n",
       " δ⋅(1 - q)⋅⎜1 - ─────⎟⋅⎜────────────────────────────────────── + ─────────────\n",
       "           ⎝    N - 1⎠ ⎜⎛           2    ⎞ ⎛   2        2    ⎞      2        2\n",
       "                       ⎝⎝- δ⋅(1 - q)  + 1⎠⋅⎝- δ ⋅(1 - q)  + 1⎠   - δ ⋅(1 - q) \n",
       " ─────────────────────────────────────────────────────────────────────────────\n",
       "                                       -β⋅(-P + R)                            \n",
       "                                  1 + ℯ                                       \n",
       "\n",
       "   ⎞                                                                          \n",
       "   ⎟                                                                          \n",
       "───⎟                                                                          \n",
       "   ⎟                                                                          \n",
       "+ 1⎠   δ⋅(1 - q)           δ⋅(1 - q)                    δ⋅(1 - q)             \n",
       "──── + ───────── + ────────────────────────── + ────────────────────────── + ─\n",
       "       2⋅(N - 1)   ⎛     -β⋅(-P + T)⎞           ⎛     -β⋅(-P + S)⎞           ⎛\n",
       "                   ⎝1 + ℯ           ⎠⋅(N - 1)   ⎝1 + ℯ           ⎠⋅(N - 1)   ⎝\n",
       "──────────────────────────────────────────────────────────────────────────────\n",
       "    ⎞                                                                         \n",
       "    ⎟                                                                         \n",
       "────⎟                                                                         \n",
       "    ⎟                                                                         \n",
       " + 1⎠   δ⋅(1 - q)           δ⋅(1 - q)                   δ⋅(1 - q)             \n",
       "───── + ───────── + ───────────────────────── + ───────────────────────── + ──\n",
       "        2⋅(N - 1)   ⎛     -β⋅(P - T)⎞           ⎛     -β⋅(P - S)⎞           ⎛ \n",
       "                    ⎝1 + ℯ          ⎠⋅(N - 1)   ⎝1 + ℯ          ⎠⋅(N - 1)   ⎝1\n",
       "\n",
       "                                        ⎛                                 2   \n",
       "                            ⎛      1  ⎞ ⎜    δ⋅(q + (1 - q)⋅(δ⋅q - δ + 1))    \n",
       "                            ⎜1 - ─────⎟⋅⎜─────────────────────────────────────\n",
       "                            ⎝    N - 1⎠ ⎜⎛           2    ⎞ ⎛   2        2    \n",
       "       δ⋅(1 - q)                        ⎝⎝- δ⋅(1 - q)  + 1⎠⋅⎝- δ ⋅(1 - q)  + 1\n",
       "───────────────────────── + ──────────────────────────────────────────────────\n",
       "     -β⋅(-P + R)⎞                                                   -β⋅(-R + T\n",
       "1 + ℯ           ⎠⋅(N - 1)                                      1 + ℯ          \n",
       "──────────────────────────────────────────────────────────────────────────────\n",
       "                                      ⎛                                 2     \n",
       "                          ⎛      1  ⎞ ⎜    δ⋅(q + (1 - q)⋅(δ⋅q - δ + 1))      \n",
       "                          ⎜1 - ─────⎟⋅⎜────────────────────────────────────── \n",
       "                          ⎝    N - 1⎠ ⎜⎛           2    ⎞ ⎛   2        2    ⎞ \n",
       "      δ⋅(1 - q)                       ⎝⎝- δ⋅(1 - q)  + 1⎠⋅⎝- δ ⋅(1 - q)  + 1⎠ \n",
       "─────────────────────── + ────────────────────────────────────────────────────\n",
       "    -β⋅(P - R)⎞                                                   -β⋅(R - T)  \n",
       " + ℯ          ⎠⋅(N - 1)                                      1 + ℯ            \n",
       "\n",
       "                     ⎞                                                        \n",
       "          1 - δ      ⎟                                                        \n",
       "─ + ─────────────────⎟⋅(δ⋅q - δ + 1)                                          \n",
       "⎞      2        2    ⎟                                                        \n",
       "⎠   - δ ⋅(1 - q)  + 1⎠                 δ⋅q - δ + 1          δ⋅q - δ + 1       \n",
       "──────────────────────────────────── + ─────────── + ─────────────────────────\n",
       ")                                       2⋅(N - 1)    ⎛     -β⋅(-S + T)⎞       \n",
       "                                                     ⎝1 + ℯ           ⎠⋅(N - 1\n",
       "──────────────────────────────────────────────────────────────────────────────\n",
       "                   ⎞                                                          \n",
       "        1 - δ      ⎟                                                          \n",
       "+ ─────────────────⎟⋅(δ⋅q - δ + 1)                                            \n",
       "     2        2    ⎟                                                          \n",
       "  - δ ⋅(1 - q)  + 1⎠                 δ⋅q - δ + 1          δ⋅q - δ + 1         \n",
       "────────────────────────────────── + ─────────── + ───────────────────────── +\n",
       "                                      2⋅(N - 1)    ⎛     -β⋅(S - T)⎞          \n",
       "                                                   ⎝1 + ℯ          ⎠⋅(N - 1)  \n",
       "\n",
       "                                                         \n",
       "                                                         \n",
       "                                                         \n",
       "                                                         \n",
       "           δ⋅q - δ + 1                 δ⋅q - δ + 1       \n",
       "─ + ───────────────────────── + ─────────────────────────\n",
       "    ⎛     -β⋅(R - S)⎞           ⎛     -β⋅(P - S)⎞        \n",
       ")   ⎝1 + ℯ          ⎠⋅(N - 1)   ⎝1 + ℯ          ⎠⋅(N - 1)\n",
       "─────────────────────────────────────────────────────────\n",
       "                                                         \n",
       "                                                         \n",
       "                                                         \n",
       "                                                         \n",
       "        δ⋅q - δ + 1                  δ⋅q - δ + 1         \n",
       " ────────────────────────── + ────────────────────────── \n",
       " ⎛     -β⋅(-R + S)⎞           ⎛     -β⋅(-P + S)⎞         \n",
       " ⎝1 + ℯ           ⎠⋅(N - 1)   ⎝1 + ℯ           ⎠⋅(N - 1) "
      ]
     },
     "execution_count": 80,
     "metadata": {},
     "output_type": "execute_result"
    }
   ],
   "source": [
    "expr"
   ]
  },
  {
   "cell_type": "code",
   "execution_count": null,
   "metadata": {},
   "outputs": [],
   "source": []
  }
 ],
 "metadata": {
  "kernelspec": {
   "display_name": "stochastic-payoffs",
   "language": "python",
   "name": "stochastic-payoffs"
  },
  "language_info": {
   "codemirror_mode": {
    "name": "ipython",
    "version": 3
   },
   "file_extension": ".py",
   "mimetype": "text/x-python",
   "name": "python",
   "nbconvert_exporter": "python",
   "pygments_lexer": "ipython3",
   "version": "3.7.9"
  }
 },
 "nbformat": 4,
 "nbformat_minor": 4
}
