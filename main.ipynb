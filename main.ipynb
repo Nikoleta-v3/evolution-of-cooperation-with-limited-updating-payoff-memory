{
 "cells": [
  {
   "cell_type": "code",
   "execution_count": 1,
   "metadata": {},
   "outputs": [],
   "source": [
    "import sympy as sym\n",
    "\n",
    "import numpy as np\n",
    "\n",
    "import itertools\n",
    "\n",
    "sym.init_printing()"
   ]
  },
  {
   "cell_type": "code",
   "execution_count": 2,
   "metadata": {},
   "outputs": [],
   "source": [
    "y_1, p_1, q_1 = sym.symbols(\"y_1, p_1, q_1\")\n",
    "y_2, p_2, q_2 = sym.symbols(\"y_2, p_2, q_2\")"
   ]
  },
  {
   "cell_type": "code",
   "execution_count": 3,
   "metadata": {},
   "outputs": [],
   "source": [
    "s_one = (y_1, p_1, q_1)\n",
    "s_two = (y_2, p_2, q_2)"
   ]
  },
  {
   "cell_type": "code",
   "execution_count": 4,
   "metadata": {},
   "outputs": [
    {
     "data": {
      "image/png": "[encoded data removed]",
      "text/latex": [
       "$\\displaystyle \\left( y_{1}, \\  p_{1}, \\  q_{1}\\right)$"
      ],
      "text/plain": [
       "(y₁, p₁, q₁)"
      ]
     },
     "execution_count": 4,
     "metadata": {},
     "output_type": "execute_result"
    }
   ],
   "source": [
    "s_one"
   ]
  },
  {
   "cell_type": "code",
   "execution_count": 5,
   "metadata": {},
   "outputs": [],
   "source": [
    "def expected_distribution_opening_round(player, opponent):\n",
    "    \"\"\"\n",
    "    Returns\n",
    "\n",
    "\n",
    "    the first state of two staregies gven that they are written as vectors and the first element\n",
    "    is the probability of cooperating in the oppening move.\n",
    "\n",
    "    For example:\n",
    "    s_1 = (y_1, p_1, q_1)\n",
    "\n",
    "    or\n",
    "\n",
    "    s_1 = (y_1, p_1, p_2, p_3, p_4)\n",
    "    \"\"\"\n",
    "\n",
    "    cc_probability = player[0] * opponent[0]\n",
    "    cd_probability = player[0] * (1 - opponent[0])\n",
    "    dc_probability = (1 - player[0]) * opponent[0]\n",
    "    dd_probability = (1 - player[0]) * (1 - opponent[0])\n",
    "\n",
    "    return (cc_probability, cd_probability, dc_probability, dd_probability)"
   ]
  },
  {
   "cell_type": "markdown",
   "metadata": {},
   "source": [
    "**tests**"
   ]
  },
  {
   "cell_type": "code",
   "execution_count": 6,
   "metadata": {},
   "outputs": [
    {
     "data": {
      "image/png": "[encoded data removed]",
      "text/latex": [
       "$\\displaystyle \\left( y_{1} y_{2}, \\  y_{1} \\left(1 - y_{2}\\right), \\  y_{2} \\left(1 - y_{1}\\right), \\  \\left(1 - y_{1}\\right) \\left(1 - y_{2}\\right)\\right)$"
      ],
      "text/plain": [
       "(y₁⋅y₂, y₁⋅(1 - y₂), y₂⋅(1 - y₁), (1 - y₁)⋅(1 - y₂))"
      ]
     },
     "execution_count": 6,
     "metadata": {},
     "output_type": "execute_result"
    }
   ],
   "source": [
    "expected_distribution_opening_round(s_one, s_two)"
   ]
  },
  {
   "cell_type": "code",
   "execution_count": 7,
   "metadata": {},
   "outputs": [
    {
     "data": {
      "image/png": "[encoded data removed]",
      "text/latex": [
       "$\\displaystyle \\left( 0, \\  0, \\  0, \\  1\\right)$"
      ],
      "text/plain": [
       "(0, 0, 0, 1)"
      ]
     },
     "execution_count": 7,
     "metadata": {},
     "output_type": "execute_result"
    }
   ],
   "source": [
    "expected_distribution_opening_round((0, 0, 0), (0, 0, 0))"
   ]
  },
  {
   "cell_type": "code",
   "execution_count": 8,
   "metadata": {},
   "outputs": [
    {
     "data": {
      "image/png": "[encoded data removed]",
      "text/latex": [
       "$\\displaystyle \\left( 1, \\  0, \\  0, \\  0\\right)$"
      ],
      "text/plain": [
       "(1, 0, 0, 0)"
      ]
     },
     "execution_count": 8,
     "metadata": {},
     "output_type": "execute_result"
    }
   ],
   "source": [
    "expected_distribution_opening_round((1, 0, 0), (1, 0, 0))"
   ]
  },
  {
   "cell_type": "code",
   "execution_count": 9,
   "metadata": {},
   "outputs": [
    {
     "data": {
      "image/png": "[encoded data removed]",
      "text/latex": [
       "$\\displaystyle \\left( 0, \\  1, \\  0, \\  0\\right)$"
      ],
      "text/plain": [
       "(0, 1, 0, 0)"
      ]
     },
     "execution_count": 9,
     "metadata": {},
     "output_type": "execute_result"
    }
   ],
   "source": [
    "expected_distribution_opening_round((1, 0, 0), (0, 0, 0))"
   ]
  },
  {
   "cell_type": "code",
   "execution_count": 10,
   "metadata": {},
   "outputs": [
    {
     "data": {
      "image/png": "[encoded data removed]",
      "text/latex": [
       "$\\displaystyle \\left( 0, \\  0, \\  1, \\  0\\right)$"
      ],
      "text/plain": [
       "(0, 0, 1, 0)"
      ]
     },
     "execution_count": 10,
     "metadata": {},
     "output_type": "execute_result"
    }
   ],
   "source": [
    "expected_distribution_opening_round((0, 0, 0), (1, 0, 0))"
   ]
  },
  {
   "cell_type": "code",
   "execution_count": 11,
   "metadata": {},
   "outputs": [],
   "source": [
    "def markov_chain_for_reactive_strategies(player, opponent):\n",
    "    \"\"\"\n",
    "    Returns a Markov transition matrix for a game of reactive strategies.\n",
    "    \"\"\"\n",
    "    return np.array(\n",
    "        [\n",
    "            [\n",
    "                player[1] * opponent[1],\n",
    "                player[1] * (1 - opponent[1]),\n",
    "                opponent[1] * (1 - player[1]),\n",
    "                (1 - player[1]) * (1 - opponent[1]),\n",
    "            ],\n",
    "            [\n",
    "                opponent[1] * player[2],\n",
    "                player[2] * (1 - opponent[1]),\n",
    "                opponent[1] * (1 - player[2]),\n",
    "                (1 - opponent[1]) * (1 - player[2]),\n",
    "            ],\n",
    "            [\n",
    "                player[1] * opponent[2],\n",
    "                player[1] * (1 - opponent[2]),\n",
    "                opponent[2] * (1 - player[1]),\n",
    "                (1 - player[1]) * (1 - opponent[2]),\n",
    "            ],\n",
    "            [\n",
    "                player[2] * opponent[2],\n",
    "                player[2] * (1 - opponent[2]),\n",
    "                opponent[2] * (1 - player[2]),\n",
    "                (1 - player[2]) * (1 - opponent[2]),\n",
    "            ],\n",
    "        ],\n",
    "    )"
   ]
  },
  {
   "cell_type": "markdown",
   "metadata": {},
   "source": [
    "**test**"
   ]
  },
  {
   "cell_type": "code",
   "execution_count": 12,
   "metadata": {},
   "outputs": [
    {
     "data": {
      "image/png": "[encoded data removed]",
      "text/latex": [
       "$\\displaystyle \\left[\\begin{matrix}p_{1} p_{2} & p_{1} \\left(1 - p_{2}\\right) & p_{2} \\left(1 - p_{1}\\right) & \\left(1 - p_{1}\\right) \\left(1 - p_{2}\\right)\\\\p_{2} q_{1} & q_{1} \\left(1 - p_{2}\\right) & p_{2} \\left(1 - q_{1}\\right) & \\left(1 - p_{2}\\right) \\left(1 - q_{1}\\right)\\\\p_{1} q_{2} & p_{1} \\left(1 - q_{2}\\right) & q_{2} \\left(1 - p_{1}\\right) & \\left(1 - p_{1}\\right) \\left(1 - q_{2}\\right)\\\\q_{1} q_{2} & q_{1} \\left(1 - q_{2}\\right) & q_{2} \\left(1 - q_{1}\\right) & \\left(1 - q_{1}\\right) \\left(1 - q_{2}\\right)\\end{matrix}\\right]$"
      ],
      "text/plain": [
       "⎡p₁⋅p₂  p₁⋅(1 - p₂)  p₂⋅(1 - p₁)  (1 - p₁)⋅(1 - p₂)⎤\n",
       "⎢                                                  ⎥\n",
       "⎢p₂⋅q₁  q₁⋅(1 - p₂)  p₂⋅(1 - q₁)  (1 - p₂)⋅(1 - q₁)⎥\n",
       "⎢                                                  ⎥\n",
       "⎢p₁⋅q₂  p₁⋅(1 - q₂)  q₂⋅(1 - p₁)  (1 - p₁)⋅(1 - q₂)⎥\n",
       "⎢                                                  ⎥\n",
       "⎣q₁⋅q₂  q₁⋅(1 - q₂)  q₂⋅(1 - q₁)  (1 - q₁)⋅(1 - q₂)⎦"
      ]
     },
     "execution_count": 12,
     "metadata": {},
     "output_type": "execute_result"
    }
   ],
   "source": [
    "sym.Matrix(markov_chain_for_reactive_strategies(s_one, s_two))"
   ]
  },
  {
   "cell_type": "code",
   "execution_count": 13,
   "metadata": {},
   "outputs": [],
   "source": [
    "M = markov_chain_for_reactive_strategies(s_one, s_two)"
   ]
  },
  {
   "cell_type": "markdown",
   "metadata": {},
   "source": [
    "Due to the assumption of errors, all entries of this transition matrix are positive. Therefore, there exists a unique invariant distribution $v = (v_{CC}, v_{CD}, v_{DC}, v_{DD})$, representing the probability to find the two players in each of the four states over the course of the game"
   ]
  },
  {
   "cell_type": "code",
   "execution_count": 14,
   "metadata": {},
   "outputs": [],
   "source": [
    "d = sym.symbols(\"delta\")"
   ]
  },
  {
   "cell_type": "code",
   "execution_count": 15,
   "metadata": {},
   "outputs": [],
   "source": [
    "v_zero = expected_distribution_opening_round(s_one, s_two)"
   ]
  },
  {
   "cell_type": "code",
   "execution_count": 16,
   "metadata": {},
   "outputs": [
    {
     "data": {
      "image/png": "[encoded data removed]",
      "text/latex": [
       "$\\displaystyle \\left( y_{1} y_{2}, \\  y_{1} \\left(1 - y_{2}\\right), \\  y_{2} \\left(1 - y_{1}\\right), \\  \\left(1 - y_{1}\\right) \\left(1 - y_{2}\\right)\\right)$"
      ],
      "text/plain": [
       "(y₁⋅y₂, y₁⋅(1 - y₂), y₂⋅(1 - y₁), (1 - y₁)⋅(1 - y₂))"
      ]
     },
     "execution_count": 16,
     "metadata": {},
     "output_type": "execute_result"
    }
   ],
   "source": [
    "v_zero"
   ]
  },
  {
   "cell_type": "code",
   "execution_count": 17,
   "metadata": {},
   "outputs": [],
   "source": [
    "inverse = sym.Matrix(np.identity(4) - d * M).inverse_ADJ()"
   ]
  },
  {
   "cell_type": "code",
   "execution_count": 18,
   "metadata": {},
   "outputs": [],
   "source": [
    "inverse = inverse.applyfunc(sym.simplify)"
   ]
  },
  {
   "cell_type": "code",
   "execution_count": 19,
   "metadata": {},
   "outputs": [],
   "source": [
    "expression = (1 - d) * sym.Matrix(v_zero).reshape(1, 4) @ inverse"
   ]
  },
  {
   "cell_type": "code",
   "execution_count": 20,
   "metadata": {},
   "outputs": [
    {
     "data": {
      "image/png": "[encoded data removed]",
      "text/latex": [
       "$\\displaystyle \\frac{1.0 \\left(\\delta^{3} p_{1} p_{2} q_{1} q_{2} - \\delta^{3} p_{1} p_{2} q_{1} y_{2} - \\delta^{3} p_{1} p_{2} q_{2} y_{1} + \\delta^{3} p_{1} p_{2} y_{1} y_{2} - \\delta^{3} p_{1} q_{1} q_{2}^{2} + \\delta^{3} p_{1} q_{1} q_{2} y_{2} + \\delta^{3} p_{1} q_{2}^{2} y_{1} - \\delta^{3} p_{1} q_{2} y_{1} y_{2} - \\delta^{3} p_{2} q_{1}^{2} q_{2} + \\delta^{3} p_{2} q_{1}^{2} y_{2} + \\delta^{3} p_{2} q_{1} q_{2} y_{1} - \\delta^{3} p_{2} q_{1} y_{1} y_{2} + \\delta^{3} q_{1}^{2} q_{2}^{2} - \\delta^{3} q_{1}^{2} q_{2} y_{2} - \\delta^{3} q_{1} q_{2}^{2} y_{1} + \\delta^{3} q_{1} q_{2} y_{1} y_{2} + \\delta^{2} p_{1} p_{2} q_{1} y_{2} + \\delta^{2} p_{1} p_{2} q_{2} y_{1} - \\delta^{2} p_{1} p_{2} y_{1} y_{2} - \\delta^{2} p_{1} q_{1} q_{2} y_{2} - \\delta^{2} p_{1} q_{2}^{2} y_{1} + \\delta^{2} p_{1} q_{2}^{2} + \\delta^{2} p_{1} q_{2} y_{1} y_{2} - \\delta^{2} p_{1} q_{2} y_{2} - \\delta^{2} p_{2} q_{1}^{2} y_{2} + \\delta^{2} p_{2} q_{1}^{2} - \\delta^{2} p_{2} q_{1} q_{2} y_{1} + \\delta^{2} p_{2} q_{1} y_{1} y_{2} - \\delta^{2} p_{2} q_{1} y_{1} + \\delta^{2} q_{1}^{2} q_{2} y_{2} - \\delta^{2} q_{1}^{2} q_{2} + \\delta^{2} q_{1} q_{2}^{2} y_{1} - \\delta^{2} q_{1} q_{2}^{2} - \\delta^{2} q_{1} q_{2} y_{1} y_{2} + \\delta^{2} q_{1} q_{2} y_{1} + \\delta^{2} q_{1} q_{2} y_{2} + \\delta p_{1} q_{2} y_{2} + \\delta p_{2} q_{1} y_{1} - \\delta q_{1} q_{2} y_{1} - \\delta q_{1} q_{2} y_{2} + \\delta q_{1} q_{2} - \\delta y_{1} y_{2} + y_{1} y_{2}\\right)}{\\left(1.0 \\delta p_{1} p_{2} - 1.0 \\delta p_{1} q_{2} - 1.0 \\delta p_{2} q_{1} + 1.0 \\delta q_{1} q_{2} - 1.0\\right) \\left(1.0 \\delta^{2} p_{1} p_{2} - 1.0 \\delta^{2} p_{1} q_{2} - 1.0 \\delta^{2} p_{2} q_{1} + 1.0 \\delta^{2} q_{1} q_{2} - 1.0\\right)}$"
      ],
      "text/plain": [
       "    ⎛ 3                3                3                3                3   \n",
       "1.0⋅⎝δ ⋅p₁⋅p₂⋅q₁⋅q₂ - δ ⋅p₁⋅p₂⋅q₁⋅y₂ - δ ⋅p₁⋅p₂⋅q₂⋅y₁ + δ ⋅p₁⋅p₂⋅y₁⋅y₂ - δ ⋅p₁\n",
       "──────────────────────────────────────────────────────────────────────────────\n",
       "                                                                              \n",
       "                                                                              \n",
       "\n",
       "      2    3                3      2       3                3      2       3  \n",
       "⋅q₁⋅q₂  + δ ⋅p₁⋅q₁⋅q₂⋅y₂ + δ ⋅p₁⋅q₂ ⋅y₁ - δ ⋅p₁⋅q₂⋅y₁⋅y₂ - δ ⋅p₂⋅q₁ ⋅q₂ + δ ⋅p\n",
       "──────────────────────────────────────────────────────────────────────────────\n",
       "                                                                              \n",
       "                                                                              \n",
       "\n",
       "    2       3                3                3   2   2    3   2          3   \n",
       "₂⋅q₁ ⋅y₂ + δ ⋅p₂⋅q₁⋅q₂⋅y₁ - δ ⋅p₂⋅q₁⋅y₁⋅y₂ + δ ⋅q₁ ⋅q₂  - δ ⋅q₁ ⋅q₂⋅y₂ - δ ⋅q₁\n",
       "──────────────────────────────────────────────────────────────────────────────\n",
       "                                                                              \n",
       "                                                                              \n",
       "\n",
       "   2       3                2                2                2               \n",
       "⋅q₂ ⋅y₁ + δ ⋅q₁⋅q₂⋅y₁⋅y₂ + δ ⋅p₁⋅p₂⋅q₁⋅y₂ + δ ⋅p₁⋅p₂⋅q₂⋅y₁ - δ ⋅p₁⋅p₂⋅y₁⋅y₂ - \n",
       "──────────────────────────────────────────────────────────────────────────────\n",
       "                                                                              \n",
       "                      (1.0⋅δ⋅p₁⋅p₂ - 1.0⋅δ⋅p₁⋅q₂ - 1.0⋅δ⋅p₂⋅q₁ + 1.0⋅δ⋅q₁⋅q₂ -\n",
       "\n",
       " 2                2      2       2      2    2                2             2 \n",
       "δ ⋅p₁⋅q₁⋅q₂⋅y₂ - δ ⋅p₁⋅q₂ ⋅y₁ + δ ⋅p₁⋅q₂  + δ ⋅p₁⋅q₂⋅y₁⋅y₂ - δ ⋅p₁⋅q₂⋅y₂ - δ ⋅\n",
       "──────────────────────────────────────────────────────────────────────────────\n",
       "      ⎛     2              2              2              2            ⎞       \n",
       " 1.0)⋅⎝1.0⋅δ ⋅p₁⋅p₂ - 1.0⋅δ ⋅p₁⋅q₂ - 1.0⋅δ ⋅p₂⋅q₁ + 1.0⋅δ ⋅q₁⋅q₂ - 1.0⎠       \n",
       "\n",
       "     2       2      2    2                2                2             2   2\n",
       "p₂⋅q₁ ⋅y₂ + δ ⋅p₂⋅q₁  - δ ⋅p₂⋅q₁⋅q₂⋅y₁ + δ ⋅p₂⋅q₁⋅y₁⋅y₂ - δ ⋅p₂⋅q₁⋅y₁ + δ ⋅q₁ \n",
       "──────────────────────────────────────────────────────────────────────────────\n",
       "                                                                              \n",
       "                                                                              \n",
       "\n",
       "          2   2       2      2       2      2    2                2           \n",
       "⋅q₂⋅y₂ - δ ⋅q₁ ⋅q₂ + δ ⋅q₁⋅q₂ ⋅y₁ - δ ⋅q₁⋅q₂  - δ ⋅q₁⋅q₂⋅y₁⋅y₂ + δ ⋅q₁⋅q₂⋅y₁ +\n",
       "──────────────────────────────────────────────────────────────────────────────\n",
       "                                                                              \n",
       "                                                                              \n",
       "\n",
       "  2                                                                           \n",
       " δ ⋅q₁⋅q₂⋅y₂ + δ⋅p₁⋅q₂⋅y₂ + δ⋅p₂⋅q₁⋅y₁ - δ⋅q₁⋅q₂⋅y₁ - δ⋅q₁⋅q₂⋅y₂ + δ⋅q₁⋅q₂ - δ\n",
       "──────────────────────────────────────────────────────────────────────────────\n",
       "                                                                              \n",
       "                                                                              \n",
       "\n",
       "              ⎞\n",
       "⋅y₁⋅y₂ + y₁⋅y₂⎠\n",
       "───────────────\n",
       "               \n",
       "               "
      ]
     },
     "execution_count": 20,
     "metadata": {},
     "output_type": "execute_result"
    }
   ],
   "source": [
    "expression[0].factor()"
   ]
  },
  {
   "cell_type": "markdown",
   "metadata": {},
   "source": [
    "**check the written mathematics**"
   ]
  },
  {
   "cell_type": "code",
   "execution_count": 21,
   "metadata": {},
   "outputs": [],
   "source": [
    "r_1, r_2 = sym.symbols(\"r_1, r_2\")\n",
    "r_1_bar, r_2_bar = sym.symbols(r\"\\bar{r_1}, \\bar{r_2}\")\n",
    "\n",
    "y_1_bar, y_2_bar = sym.symbols(r\"\\bar{y_1}, \\bar{y_2}\")\n",
    "p_1_bar, q_2_bar = sym.symbols(r\"\\bar{p_1}, \\bar{p_2}\")\n",
    "q_1_bar, p_2_bar = sym.symbols(r\"\\bar{q_1}, \\bar{q_2}\")"
   ]
  },
  {
   "cell_type": "code",
   "execution_count": 22,
   "metadata": {},
   "outputs": [],
   "source": [
    "def get_steady_state_r(player, opponent, delta):\n",
    "\n",
    "    r_1 = player[1] - player[2]\n",
    "    r_2 = opponent[1] - opponent[2]\n",
    "\n",
    "    first_term = (1 - delta) * (\n",
    "        (player[0] * opponent[0]) / (1 - delta ** 2 * r_1 * r_2)\n",
    "    )\n",
    "\n",
    "    second_term_numerator = (\n",
    "        player[2] + r_1 * ((1 - delta) * opponent[0] + d * opponent[2])\n",
    "    ) * (opponent[2] + r_2 * ((1 - d) * player[0] + d * player[2]))\n",
    "    second_term_denominator = (1 - delta * r_1 * r_2) * (1 - delta ** 2 * r_1 * r_2)\n",
    "\n",
    "    return first_term + delta * (second_term_numerator / second_term_denominator)"
   ]
  },
  {
   "cell_type": "code",
   "execution_count": 23,
   "metadata": {},
   "outputs": [],
   "source": [
    "player = s_one\n",
    "opponent = s_two\n",
    "delta = d"
   ]
  },
  {
   "cell_type": "code",
   "execution_count": 24,
   "metadata": {},
   "outputs": [
    {
     "data": {
      "image/png": "[encoded data removed]",
      "text/latex": [
       "$\\displaystyle \\frac{\\delta \\left(q_{1} + \\left(p_{1} - q_{1}\\right) \\left(\\delta q_{2} + y_{2} \\left(1 - \\delta\\right)\\right)\\right) \\left(q_{2} + \\left(p_{2} - q_{2}\\right) \\left(\\delta q_{1} + y_{1} \\left(1 - \\delta\\right)\\right)\\right)}{\\left(- \\delta \\left(p_{1} - q_{1}\\right) \\left(p_{2} - q_{2}\\right) + 1\\right) \\left(- \\delta^{2} \\left(p_{1} - q_{1}\\right) \\left(p_{2} - q_{2}\\right) + 1\\right)} + \\frac{y_{1} y_{2} \\left(1 - \\delta\\right)}{- \\delta^{2} \\left(p_{1} - q_{1}\\right) \\left(p_{2} - q_{2}\\right) + 1}$"
      ],
      "text/plain": [
       "δ⋅(q₁ + (p₁ - q₁)⋅(δ⋅q₂ + y₂⋅(1 - δ)))⋅(q₂ + (p₂ - q₂)⋅(δ⋅q₁ + y₁⋅(1 - δ)))   \n",
       "─────────────────────────────────────────────────────────────────────────── + \n",
       "                                     ⎛   2                        ⎞           \n",
       "        (-δ⋅(p₁ - q₁)⋅(p₂ - q₂) + 1)⋅⎝- δ ⋅(p₁ - q₁)⋅(p₂ - q₂) + 1⎠           \n",
       "\n",
       "       y₁⋅y₂⋅(1 - δ)        \n",
       "────────────────────────────\n",
       "   2                        \n",
       "- δ ⋅(p₁ - q₁)⋅(p₂ - q₂) + 1"
      ]
     },
     "execution_count": 24,
     "metadata": {},
     "output_type": "execute_result"
    }
   ],
   "source": [
    "u_R = get_steady_state_r(s_one, s_two, d)\n",
    "u_R"
   ]
  },
  {
   "cell_type": "code",
   "execution_count": 25,
   "metadata": {},
   "outputs": [
    {
     "data": {
      "image/png": "[encoded data removed]",
      "text/latex": [
       "$\\displaystyle 1.0$"
      ],
      "text/plain": [
       "1.00000000000000"
      ]
     },
     "execution_count": 25,
     "metadata": {},
     "output_type": "execute_result"
    }
   ],
   "source": [
    "get_steady_state_r((1, 0, 0), (1, 0, 0), delta=0)"
   ]
  },
  {
   "cell_type": "code",
   "execution_count": 26,
   "metadata": {},
   "outputs": [],
   "source": [
    "def get_steady_state_s(player, opponent, delta):\n",
    "\n",
    "    r_1 = player[1] - player[2]\n",
    "    r_2 = opponent[1] - opponent[2]\n",
    "\n",
    "    first_term = (1 - delta) * (\n",
    "        (player[0] * (1 - opponent[0])) / (1 - delta ** 2 * r_1 * r_2)\n",
    "    )\n",
    "\n",
    "    second_term_numerator = (\n",
    "        player[2] + r_1 * ((1 - delta) * opponent[0] + d * opponent[2])\n",
    "    ) * ((1 - opponent[2]) + (-r_2) * ((1 - d) * player[0] + d * player[1]))\n",
    "    second_term_denominator = (1 - delta * r_1 * r_2) * (1 - delta ** 2 * r_1 * r_2)\n",
    "\n",
    "    return first_term + delta * (second_term_numerator / second_term_denominator)"
   ]
  },
  {
   "cell_type": "code",
   "execution_count": 27,
   "metadata": {},
   "outputs": [
    {
     "data": {
      "image/png": "[encoded data removed]",
      "text/latex": [
       "$\\displaystyle \\frac{\\delta \\left(q_{1} + \\left(p_{1} - q_{1}\\right) \\left(\\delta q_{2} + y_{2} \\left(1 - \\delta\\right)\\right)\\right) \\left(- q_{2} + \\left(- p_{2} + q_{2}\\right) \\left(\\delta p_{1} + y_{1} \\left(1 - \\delta\\right)\\right) + 1\\right)}{\\left(- \\delta \\left(p_{1} - q_{1}\\right) \\left(p_{2} - q_{2}\\right) + 1\\right) \\left(- \\delta^{2} \\left(p_{1} - q_{1}\\right) \\left(p_{2} - q_{2}\\right) + 1\\right)} + \\frac{y_{1} \\left(1 - \\delta\\right) \\left(1 - y_{2}\\right)}{- \\delta^{2} \\left(p_{1} - q_{1}\\right) \\left(p_{2} - q_{2}\\right) + 1}$"
      ],
      "text/plain": [
       "δ⋅(q₁ + (p₁ - q₁)⋅(δ⋅q₂ + y₂⋅(1 - δ)))⋅(-q₂ + (-p₂ + q₂)⋅(δ⋅p₁ + y₁⋅(1 - δ)) +\n",
       "──────────────────────────────────────────────────────────────────────────────\n",
       "                                        ⎛   2                        ⎞        \n",
       "           (-δ⋅(p₁ - q₁)⋅(p₂ - q₂) + 1)⋅⎝- δ ⋅(p₁ - q₁)⋅(p₂ - q₂) + 1⎠        \n",
       "\n",
       " 1)       y₁⋅(1 - δ)⋅(1 - y₂)     \n",
       "─── + ────────────────────────────\n",
       "         2                        \n",
       "      - δ ⋅(p₁ - q₁)⋅(p₂ - q₂) + 1"
      ]
     },
     "execution_count": 27,
     "metadata": {},
     "output_type": "execute_result"
    }
   ],
   "source": [
    "u_S = get_steady_state_s(s_one, s_two, d)\n",
    "u_S"
   ]
  },
  {
   "cell_type": "code",
   "execution_count": 28,
   "metadata": {},
   "outputs": [
    {
     "data": {
      "image/png": "[encoded data removed]",
      "text/latex": [
       "$\\displaystyle 1.0$"
      ],
      "text/plain": [
       "1.00000000000000"
      ]
     },
     "execution_count": 28,
     "metadata": {},
     "output_type": "execute_result"
    }
   ],
   "source": [
    "get_steady_state_s((1, 0, 0), (0, 0, 0), delta=0)"
   ]
  },
  {
   "cell_type": "code",
   "execution_count": 29,
   "metadata": {},
   "outputs": [],
   "source": [
    "def get_steady_state_t(player, opponent, delta):\n",
    "\n",
    "    r_1 = player[1] - player[2]\n",
    "    r_2 = opponent[1] - opponent[2]\n",
    "\n",
    "    first_term = (1 - delta) * (\n",
    "        ((1 - player[0]) * opponent[0]) / (1 - delta ** 2 * r_1 * r_2)\n",
    "    )\n",
    "\n",
    "    second_term_numerator = (\n",
    "        (1 - player[2]) + (-r_1) * ((1 - delta) * opponent[0] + d * opponent[1])\n",
    "    ) * (opponent[2] + r_2 * ((1 - d) * player[0] + d * player[2]))\n",
    "    second_term_denominator = (1 - delta * r_1 * r_2) * (1 - delta ** 2 * r_1 * r_2)\n",
    "\n",
    "    return first_term + delta * (second_term_numerator / second_term_denominator)"
   ]
  },
  {
   "cell_type": "code",
   "execution_count": 30,
   "metadata": {},
   "outputs": [
    {
     "data": {
      "image/png": "[encoded data removed]",
      "text/latex": [
       "$\\displaystyle \\frac{\\delta \\left(q_{2} + \\left(p_{2} - q_{2}\\right) \\left(\\delta q_{1} + y_{1} \\left(1 - \\delta\\right)\\right)\\right) \\left(- q_{1} + \\left(- p_{1} + q_{1}\\right) \\left(\\delta p_{2} + y_{2} \\left(1 - \\delta\\right)\\right) + 1\\right)}{\\left(- \\delta \\left(p_{1} - q_{1}\\right) \\left(p_{2} - q_{2}\\right) + 1\\right) \\left(- \\delta^{2} \\left(p_{1} - q_{1}\\right) \\left(p_{2} - q_{2}\\right) + 1\\right)} + \\frac{y_{2} \\left(1 - \\delta\\right) \\left(1 - y_{1}\\right)}{- \\delta^{2} \\left(p_{1} - q_{1}\\right) \\left(p_{2} - q_{2}\\right) + 1}$"
      ],
      "text/plain": [
       "δ⋅(q₂ + (p₂ - q₂)⋅(δ⋅q₁ + y₁⋅(1 - δ)))⋅(-q₁ + (-p₁ + q₁)⋅(δ⋅p₂ + y₂⋅(1 - δ)) +\n",
       "──────────────────────────────────────────────────────────────────────────────\n",
       "                                        ⎛   2                        ⎞        \n",
       "           (-δ⋅(p₁ - q₁)⋅(p₂ - q₂) + 1)⋅⎝- δ ⋅(p₁ - q₁)⋅(p₂ - q₂) + 1⎠        \n",
       "\n",
       " 1)       y₂⋅(1 - δ)⋅(1 - y₁)     \n",
       "─── + ────────────────────────────\n",
       "         2                        \n",
       "      - δ ⋅(p₁ - q₁)⋅(p₂ - q₂) + 1"
      ]
     },
     "execution_count": 30,
     "metadata": {},
     "output_type": "execute_result"
    }
   ],
   "source": [
    "u_T = get_steady_state_t(s_one, s_two, d)\n",
    "u_T"
   ]
  },
  {
   "cell_type": "code",
   "execution_count": 31,
   "metadata": {},
   "outputs": [
    {
     "data": {
      "image/png": "[encoded data removed]",
      "text/latex": [
       "$\\displaystyle 1.0$"
      ],
      "text/plain": [
       "1.00000000000000"
      ]
     },
     "execution_count": 31,
     "metadata": {},
     "output_type": "execute_result"
    }
   ],
   "source": [
    "get_steady_state_t((0, 0, 0), (1, 0, 0), delta=0)"
   ]
  },
  {
   "cell_type": "code",
   "execution_count": 32,
   "metadata": {},
   "outputs": [],
   "source": [
    "def get_steady_state_p(player, opponent, delta):\n",
    "\n",
    "    r_1 = player[1] - player[2]\n",
    "    r_2 = opponent[1] - opponent[2]\n",
    "\n",
    "    first_term = (1 - delta) * (\n",
    "        ((1 - player[0]) * (1 - opponent[0])) / (1 - delta ** 2 * r_1 * r_2)\n",
    "    )\n",
    "\n",
    "    second_term_numerator = (\n",
    "        (1 - player[2]) + (-r_1) * ((1 - delta) * opponent[0] + d * opponent[1])\n",
    "    ) * ((1 - opponent[2]) + (-r_2) * ((1 - d) * player[0] + d * player[1]))\n",
    "    second_term_denominator = (1 - delta * r_1 * r_2) * (1 - delta ** 2 * r_1 * r_2)\n",
    "\n",
    "    return first_term + delta * (second_term_numerator / second_term_denominator)"
   ]
  },
  {
   "cell_type": "code",
   "execution_count": 33,
   "metadata": {},
   "outputs": [
    {
     "data": {
      "image/png": "[encoded data removed]",
      "text/latex": [
       "$\\displaystyle \\frac{\\delta \\left(- q_{1} + \\left(- p_{1} + q_{1}\\right) \\left(\\delta p_{2} + y_{2} \\left(1 - \\delta\\right)\\right) + 1\\right) \\left(- q_{2} + \\left(- p_{2} + q_{2}\\right) \\left(\\delta p_{1} + y_{1} \\left(1 - \\delta\\right)\\right) + 1\\right)}{\\left(- \\delta \\left(p_{1} - q_{1}\\right) \\left(p_{2} - q_{2}\\right) + 1\\right) \\left(- \\delta^{2} \\left(p_{1} - q_{1}\\right) \\left(p_{2} - q_{2}\\right) + 1\\right)} + \\frac{\\left(1 - \\delta\\right) \\left(1 - y_{1}\\right) \\left(1 - y_{2}\\right)}{- \\delta^{2} \\left(p_{1} - q_{1}\\right) \\left(p_{2} - q_{2}\\right) + 1}$"
      ],
      "text/plain": [
       "δ⋅(-q₁ + (-p₁ + q₁)⋅(δ⋅p₂ + y₂⋅(1 - δ)) + 1)⋅(-q₂ + (-p₂ + q₂)⋅(δ⋅p₁ + y₁⋅(1 -\n",
       "──────────────────────────────────────────────────────────────────────────────\n",
       "                                           ⎛   2                        ⎞     \n",
       "              (-δ⋅(p₁ - q₁)⋅(p₂ - q₂) + 1)⋅⎝- δ ⋅(p₁ - q₁)⋅(p₂ - q₂) + 1⎠     \n",
       "\n",
       " δ)) + 1)    (1 - δ)⋅(1 - y₁)⋅(1 - y₂)  \n",
       "───────── + ────────────────────────────\n",
       "               2                        \n",
       "            - δ ⋅(p₁ - q₁)⋅(p₂ - q₂) + 1"
      ]
     },
     "execution_count": 33,
     "metadata": {},
     "output_type": "execute_result"
    }
   ],
   "source": [
    "u_P = get_steady_state_p(s_one, s_two, d)\n",
    "u_P"
   ]
  },
  {
   "cell_type": "code",
   "execution_count": 34,
   "metadata": {},
   "outputs": [
    {
     "data": {
      "image/png": "[encoded data removed]",
      "text/latex": [
       "$\\displaystyle 1.0$"
      ],
      "text/plain": [
       "1.00000000000000"
      ]
     },
     "execution_count": 34,
     "metadata": {},
     "output_type": "execute_result"
    }
   ],
   "source": [
    "get_steady_state_p((0, 0, 0), (0, 0, 0), delta=0)"
   ]
  },
  {
   "cell_type": "code",
   "execution_count": 35,
   "metadata": {},
   "outputs": [
    {
     "data": {
      "image/png": "[encoded data removed]",
      "text/latex": [
       "$\\displaystyle 0$"
      ],
      "text/plain": [
       "0"
      ]
     },
     "execution_count": 35,
     "metadata": {},
     "output_type": "execute_result"
    }
   ],
   "source": [
    "(u_T - expression[2]).simplify()"
   ]
  },
  {
   "cell_type": "code",
   "execution_count": 36,
   "metadata": {},
   "outputs": [
    {
     "data": {
      "image/png": "[encoded data removed]",
      "text/latex": [
       "$\\displaystyle 0$"
      ],
      "text/plain": [
       "0"
      ]
     },
     "execution_count": 36,
     "metadata": {},
     "output_type": "execute_result"
    }
   ],
   "source": [
    "(u_R - expression[0]).simplify()"
   ]
  },
  {
   "cell_type": "code",
   "execution_count": 37,
   "metadata": {},
   "outputs": [
    {
     "data": {
      "image/png": "[encoded data removed]",
      "text/latex": [
       "$\\displaystyle 0$"
      ],
      "text/plain": [
       "0"
      ]
     },
     "execution_count": 37,
     "metadata": {},
     "output_type": "execute_result"
    }
   ],
   "source": [
    "(expression[1] - u_S).factor()"
   ]
  },
  {
   "cell_type": "code",
   "execution_count": 38,
   "metadata": {},
   "outputs": [
    {
     "data": {
      "image/png": "[encoded data removed]",
      "text/latex": [
       "$\\displaystyle 0$"
      ],
      "text/plain": [
       "0"
      ]
     },
     "execution_count": 38,
     "metadata": {},
     "output_type": "execute_result"
    }
   ],
   "source": [
    "(u_P - expression[3]).simplify()"
   ]
  },
  {
   "cell_type": "code",
   "execution_count": 129,
   "metadata": {},
   "outputs": [],
   "source": [
    "def adopting_probability(\n",
    "    utility_of_learner, utility_of_role_model, strength_of_selection\n",
    "):\n",
    "    if utility_of_learner == 0 and utility_of_role_model == 0:\n",
    "        return 0\n",
    "    return 1 / (\n",
    "        1\n",
    "        + sym.exp(-strength_of_selection * (utility_of_role_model - utility_of_learner))\n",
    "    )"
   ]
  },
  {
   "cell_type": "code",
   "execution_count": 107,
   "metadata": {},
   "outputs": [
    {
     "data": {
      "image/png": "[encoded data removed]",
      "text/latex": [
       "$\\displaystyle 0.9933071490757153$"
      ],
      "text/plain": [
       "0.9933071490757153"
      ]
     },
     "execution_count": 107,
     "metadata": {},
     "output_type": "execute_result"
    }
   ],
   "source": [
    "propability_of_adopting_role_model_strategy(0, 5, 1)"
   ]
  },
  {
   "cell_type": "code",
   "execution_count": 108,
   "metadata": {},
   "outputs": [],
   "source": [
    "def get_probability_of_receving_payoffs(\n",
    "    player, opponent, player_state, opponent_state, N, k, delta\n",
    "):\n",
    "\n",
    "    first_term = (1 / (N - 1)) * player_state(player, opponent, delta)\n",
    "\n",
    "    second_term_case_one = (\n",
    "        ((k - 1) / (N - 2))\n",
    "        * ((k - 2) / (N - 3))\n",
    "        * player_state(player, opponent, delta)\n",
    "        * opponent_state(opponent, opponent, delta)\n",
    "    )\n",
    "    second_term_case_two = (\n",
    "        ((k - 1) / (N - 2))\n",
    "        * ((N - k - 1) / (N - 3))\n",
    "        * player_state(player, opponent, delta)\n",
    "        * opponent_state(opponent, player, delta)\n",
    "    )\n",
    "    second_term_case_three = (\n",
    "        ((N - k - 1) / (N - 2))\n",
    "        * ((k - 1) / (N - 3))\n",
    "        * player_state(player, player, delta)\n",
    "        * opponent_state(opponent, opponent, delta)\n",
    "    )\n",
    "    second_term_case_four = (\n",
    "        ((N - k - 1) / (N - 2))\n",
    "        * ((N - k - 2) / (N - 3))\n",
    "        * player_state(player, player, delta)\n",
    "        * opponent_state(opponent, player, delta)\n",
    "    )\n",
    "\n",
    "    return first_term + (1 - 1 / (N - 1)) * (\n",
    "        second_term_case_one\n",
    "        + second_term_case_two\n",
    "        + second_term_case_three\n",
    "        + second_term_case_four\n",
    "    )"
   ]
  },
  {
   "cell_type": "markdown",
   "metadata": {},
   "source": [
    "**Check functions for analysis of ALLD into GTFT**"
   ]
  },
  {
   "cell_type": "code",
   "execution_count": 109,
   "metadata": {},
   "outputs": [],
   "source": [
    "q = sym.symbols(\"q\")\n",
    "\n",
    "N, k = sym.symbols(\"N, k\")"
   ]
  },
  {
   "cell_type": "code",
   "execution_count": 110,
   "metadata": {},
   "outputs": [],
   "source": [
    "ALLD = (0, 0, 0)\n",
    "GTFT = (1, 1, q)"
   ]
  },
  {
   "cell_type": "code",
   "execution_count": 111,
   "metadata": {},
   "outputs": [
    {
     "data": {
      "image/png": "[encoded data removed]",
      "text/latex": [
       "$\\displaystyle 1$"
      ],
      "text/plain": [
       "1"
      ]
     },
     "execution_count": 111,
     "metadata": {},
     "output_type": "execute_result"
    }
   ],
   "source": [
    "get_steady_state_r(GTFT, GTFT, delta).factor()"
   ]
  },
  {
   "cell_type": "code",
   "execution_count": 112,
   "metadata": {},
   "outputs": [
    {
     "data": {
      "image/png": "[encoded data removed]",
      "text/latex": [
       "$\\displaystyle 0$"
      ],
      "text/plain": [
       "0"
      ]
     },
     "execution_count": 112,
     "metadata": {},
     "output_type": "execute_result"
    }
   ],
   "source": [
    "get_steady_state_r(GTFT, ALLD, delta).factor()"
   ]
  },
  {
   "cell_type": "code",
   "execution_count": 113,
   "metadata": {},
   "outputs": [
    {
     "data": {
      "image/png": "[encoded data removed]",
      "text/latex": [
       "$\\displaystyle 0$"
      ],
      "text/plain": [
       "0"
      ]
     },
     "execution_count": 113,
     "metadata": {},
     "output_type": "execute_result"
    }
   ],
   "source": [
    "get_steady_state_r(GTFT, ALLD, delta).factor()"
   ]
  },
  {
   "cell_type": "code",
   "execution_count": 114,
   "metadata": {},
   "outputs": [
    {
     "data": {
      "image/png": "[encoded data removed]",
      "text/latex": [
       "$\\displaystyle \\delta q - \\delta + 1$"
      ],
      "text/plain": [
       "δ⋅q - δ + 1"
      ]
     },
     "execution_count": 114,
     "metadata": {},
     "output_type": "execute_result"
    }
   ],
   "source": [
    "get_steady_state_t(ALLD, GTFT, delta).factor()"
   ]
  },
  {
   "cell_type": "code",
   "execution_count": 115,
   "metadata": {},
   "outputs": [
    {
     "data": {
      "image/png": "[encoded data removed]",
      "text/latex": [
       "$\\displaystyle \\left( 0, \\  0, \\  0\\right)$"
      ],
      "text/plain": [
       "(0, 0, 0)"
      ]
     },
     "execution_count": 115,
     "metadata": {},
     "output_type": "execute_result"
    }
   ],
   "source": [
    "(\n",
    "    get_steady_state_s(GTFT, GTFT, delta).factor(),\n",
    "    get_steady_state_t(GTFT, GTFT, delta).factor(),\n",
    "    get_steady_state_p(GTFT, GTFT, delta).factor(),\n",
    ")"
   ]
  },
  {
   "cell_type": "code",
   "execution_count": 116,
   "metadata": {},
   "outputs": [
    {
     "data": {
      "image/png": "[encoded data removed]",
      "text/latex": [
       "$\\displaystyle \\left( 0, \\  0\\right)$"
      ],
      "text/plain": [
       "(0, 0)"
      ]
     },
     "execution_count": 116,
     "metadata": {},
     "output_type": "execute_result"
    }
   ],
   "source": [
    "get_steady_state_r(ALLD, GTFT, delta).factor(), get_steady_state_s(\n",
    "    ALLD, GTFT, delta\n",
    ").factor()"
   ]
  },
  {
   "cell_type": "code",
   "execution_count": 117,
   "metadata": {},
   "outputs": [
    {
     "data": {
      "image/png": "[encoded data removed]",
      "text/latex": [
       "$\\displaystyle \\left( \\delta q - \\delta + 1, \\  - \\delta \\left(q - 1\\right)\\right)$"
      ],
      "text/plain": [
       "(δ⋅q - δ + 1, -δ⋅(q - 1))"
      ]
     },
     "execution_count": 117,
     "metadata": {},
     "output_type": "execute_result"
    }
   ],
   "source": [
    "get_steady_state_t(ALLD, GTFT, delta).factor(), get_steady_state_p(\n",
    "    ALLD, GTFT, delta\n",
    ").factor()"
   ]
  },
  {
   "cell_type": "code",
   "execution_count": 118,
   "metadata": {},
   "outputs": [
    {
     "data": {
      "image/png": "[encoded data removed]",
      "text/latex": [
       "$\\displaystyle \\frac{\\left(N - 2\\right) \\left(\\delta q - \\delta + 1\\right)}{N - 1}$"
      ],
      "text/plain": [
       "(N - 2)⋅(δ⋅q - δ + 1)\n",
       "─────────────────────\n",
       "        N - 1        "
      ]
     },
     "execution_count": 118,
     "metadata": {},
     "output_type": "execute_result"
    }
   ],
   "source": [
    "get_probability_of_receving_payoffs(\n",
    "    player=GTFT,\n",
    "    opponent=ALLD,\n",
    "    player_state=get_steady_state_r,\n",
    "    opponent_state=get_steady_state_t,\n",
    "    N=N,\n",
    "    k=1,\n",
    "    delta=d,\n",
    ").factor()"
   ]
  },
  {
   "cell_type": "code",
   "execution_count": 119,
   "metadata": {},
   "outputs": [
    {
     "data": {
      "image/png": "[encoded data removed]",
      "text/latex": [
       "$\\displaystyle \\frac{\\delta \\left(1 - q\\right) \\left(N - 2\\right)}{N - 1}$"
      ],
      "text/plain": [
       "δ⋅(1 - q)⋅(N - 2)\n",
       "─────────────────\n",
       "      N - 1      "
      ]
     },
     "execution_count": 119,
     "metadata": {},
     "output_type": "execute_result"
    }
   ],
   "source": [
    "get_probability_of_receving_payoffs(\n",
    "    player=GTFT,\n",
    "    opponent=ALLD,\n",
    "    player_state=get_steady_state_r,\n",
    "    opponent_state=get_steady_state_p,\n",
    "    N=N,\n",
    "    k=1,\n",
    "    delta=d,\n",
    ").factor().collect(1 - q)"
   ]
  },
  {
   "cell_type": "code",
   "execution_count": 120,
   "metadata": {},
   "outputs": [
    {
     "data": {
      "image/png": "[encoded data removed]",
      "text/latex": [
       "$\\displaystyle \\frac{\\delta q - \\delta + 1}{N - 1}$"
      ],
      "text/plain": [
       "δ⋅q - δ + 1\n",
       "───────────\n",
       "   N - 1   "
      ]
     },
     "execution_count": 120,
     "metadata": {},
     "output_type": "execute_result"
    }
   ],
   "source": [
    "get_probability_of_receving_payoffs(\n",
    "    player=GTFT,\n",
    "    opponent=ALLD,\n",
    "    player_state=get_steady_state_s,\n",
    "    opponent_state=get_steady_state_t,\n",
    "    N=N,\n",
    "    k=1,\n",
    "    delta=d,\n",
    ").factor()"
   ]
  },
  {
   "cell_type": "code",
   "execution_count": 121,
   "metadata": {},
   "outputs": [
    {
     "data": {
      "image/png": "[encoded data removed]",
      "text/latex": [
       "$\\displaystyle - \\frac{\\delta q}{N - 1} + \\frac{\\delta}{N - 1}$"
      ],
      "text/plain": [
       "   δ⋅q      δ  \n",
       "- ───── + ─────\n",
       "  N - 1   N - 1"
      ]
     },
     "execution_count": 121,
     "metadata": {},
     "output_type": "execute_result"
    }
   ],
   "source": [
    "get_probability_of_receving_payoffs(\n",
    "    player=GTFT,\n",
    "    opponent=ALLD,\n",
    "    player_state=get_steady_state_p,\n",
    "    opponent_state=get_steady_state_p,\n",
    "    N=N,\n",
    "    k=1,\n",
    "    delta=d,\n",
    ").expand()"
   ]
  },
  {
   "cell_type": "code",
   "execution_count": 122,
   "metadata": {},
   "outputs": [],
   "source": [
    "u_one = itertools.product(\n",
    "    [get_steady_state_r, get_steady_state_s, get_steady_state_t, get_steady_state_p],\n",
    "    repeat=2,\n",
    ")"
   ]
  },
  {
   "cell_type": "code",
   "execution_count": 167,
   "metadata": {},
   "outputs": [],
   "source": [
    "def probability_mutant_increases(player, opponent, N, k, delta, beta):\n",
    "\n",
    "    states = itertools.product(\n",
    "        [\n",
    "            get_steady_state_r,\n",
    "            get_steady_state_s,\n",
    "            get_steady_state_t,\n",
    "            get_steady_state_p,\n",
    "        ],\n",
    "        repeat=2,\n",
    "    )\n",
    "    \n",
    "    payoffs = itertools.product(\n",
    "        [\n",
    "            R,\n",
    "            S,\n",
    "            T,\n",
    "            P\n",
    "        ],\n",
    "        repeat=2,\n",
    "    )\n",
    "\n",
    "    sum_ = sum(\n",
    "        [\n",
    "            get_probability_of_receving_payoffs(\n",
    "                player, opponent, state[0], state[1], N, k, delta\n",
    "            )\n",
    "            * adopting_probability(payoff[1], payoff[0], beta)\n",
    "            for state, payoff in zip(states, payoffs)\n",
    "        ]\n",
    "    )\n",
    "    return ((N - k) / N) * (k / N) * sum_\n",
    "\n"
   ]
  },
  {
   "cell_type": "code",
   "execution_count": 168,
   "metadata": {},
   "outputs": [],
   "source": [
    "def probability_mutant_descreases(player, opponent, N, k, delta, beta):\n",
    "\n",
    "    states = itertools.product(\n",
    "        [\n",
    "            get_steady_state_r,\n",
    "            get_steady_state_s,\n",
    "            get_steady_state_t,\n",
    "            get_steady_state_p,\n",
    "        ],\n",
    "        repeat=2,\n",
    "    )\n",
    "    \n",
    "    payoffs = itertools.product(\n",
    "        [\n",
    "            R,\n",
    "            S,\n",
    "            T,\n",
    "            P\n",
    "        ],\n",
    "        repeat=2,\n",
    "    )\n",
    "    sum_ = sum(\n",
    "        [\n",
    "            get_probability_of_receving_payoffs(\n",
    "                player, opponent, state[0], state[1], N, k, delta\n",
    "            )\n",
    "            * adopting_probability(payoff[0], payoff[1], beta)\n",
    "            for state, payoff in zip(states, payoffs)\n",
    "        ]\n",
    "    )\n",
    "    return ((N - k) / N) * (k / N) * sum_"
   ]
  },
  {
   "cell_type": "code",
   "execution_count": 169,
   "metadata": {},
   "outputs": [],
   "source": [
    "R, S, T, P = sym.symbols('R, S, T, P')"
   ]
  },
  {
   "cell_type": "code",
   "execution_count": 170,
   "metadata": {},
   "outputs": [
    {
     "data": {
      "image/png": "[encoded data removed]",
      "text/latex": [
       "$\\displaystyle \\beta$"
      ],
      "text/plain": [
       "β"
      ]
     },
     "execution_count": 170,
     "metadata": {},
     "output_type": "execute_result"
    }
   ],
   "source": [
    "b = sym.symbols('beta')\n",
    "b"
   ]
  },
  {
   "cell_type": "code",
   "execution_count": 177,
   "metadata": {},
   "outputs": [],
   "source": [
    "expr = (probability_mutant_increases(GTFT, ALLD, N, k=1, delta=d, beta=b) / probability_mutant_descreases(GTFT, ALLD, N, k=1, delta=d, beta=b))\n"
   ]
  },
  {
   "cell_type": "code",
   "execution_count": 182,
   "metadata": {},
   "outputs": [
    {
     "data": {
      "image/png": "[encoded data removed]",
      "text/latex": [
       "$\\displaystyle \\frac{\\frac{\\delta \\left(1 - q\\right) \\left(1 - \\frac{1}{N - 1}\\right) \\left(\\frac{\\delta \\left(q + \\left(1 - q\\right) \\left(\\delta q - \\delta + 1\\right)\\right)^{2}}{\\left(- \\delta \\left(1 - q\\right)^{2} + 1\\right) \\left(- \\delta^{2} \\left(1 - q\\right)^{2} + 1\\right)} + \\frac{1 - \\delta}{- \\delta^{2} \\left(1 - q\\right)^{2} + 1}\\right)}{1 + e^{- \\beta \\left(- P + R\\right)}} + \\frac{\\delta \\left(1 - q\\right)}{2 \\left(N - 1\\right)} + \\frac{\\delta \\left(1 - q\\right)}{\\left(1 + e^{- \\beta \\left(P - T\\right)}\\right) \\left(N - 1\\right)} + \\frac{\\delta \\left(1 - q\\right)}{\\left(1 + e^{- \\beta \\left(P - S\\right)}\\right) \\left(N - 1\\right)} + \\frac{\\delta \\left(1 - q\\right)}{\\left(1 + e^{- \\beta \\left(P - R\\right)}\\right) \\left(N - 1\\right)} + \\frac{\\left(1 - \\frac{1}{N - 1}\\right) \\left(\\frac{\\delta \\left(q + \\left(1 - q\\right) \\left(\\delta q - \\delta + 1\\right)\\right)^{2}}{\\left(- \\delta \\left(1 - q\\right)^{2} + 1\\right) \\left(- \\delta^{2} \\left(1 - q\\right)^{2} + 1\\right)} + \\frac{1 - \\delta}{- \\delta^{2} \\left(1 - q\\right)^{2} + 1}\\right) \\left(\\delta q - \\delta + 1\\right)}{1 + e^{- \\beta \\left(R - T\\right)}} + \\frac{\\delta q - \\delta + 1}{2 \\left(N - 1\\right)} + \\frac{\\delta q - \\delta + 1}{\\left(1 + e^{- \\beta \\left(S - T\\right)}\\right) \\left(N - 1\\right)} + \\frac{\\delta q - \\delta + 1}{\\left(1 + e^{- \\beta \\left(- R + S\\right)}\\right) \\left(N - 1\\right)} + \\frac{\\delta q - \\delta + 1}{\\left(1 + e^{- \\beta \\left(- P + S\\right)}\\right) \\left(N - 1\\right)}}{\\frac{\\delta \\left(1 - q\\right) \\left(1 - \\frac{1}{N - 1}\\right) \\left(\\frac{\\delta \\left(q + \\left(1 - q\\right) \\left(\\delta q - \\delta + 1\\right)\\right)^{2}}{\\left(- \\delta \\left(1 - q\\right)^{2} + 1\\right) \\left(- \\delta^{2} \\left(1 - q\\right)^{2} + 1\\right)} + \\frac{1 - \\delta}{- \\delta^{2} \\left(1 - q\\right)^{2} + 1}\\right)}{1 + e^{- \\beta \\left(P - R\\right)}} + \\frac{\\delta \\left(1 - q\\right)}{2 \\left(N - 1\\right)} + \\frac{\\delta \\left(1 - q\\right)}{\\left(1 + e^{- \\beta \\left(- P + T\\right)}\\right) \\left(N - 1\\right)} + \\frac{\\delta \\left(1 - q\\right)}{\\left(1 + e^{- \\beta \\left(- P + S\\right)}\\right) \\left(N - 1\\right)} + \\frac{\\delta \\left(1 - q\\right)}{\\left(1 + e^{- \\beta \\left(- P + R\\right)}\\right) \\left(N - 1\\right)} + \\frac{\\left(1 - \\frac{1}{N - 1}\\right) \\left(\\frac{\\delta \\left(q + \\left(1 - q\\right) \\left(\\delta q - \\delta + 1\\right)\\right)^{2}}{\\left(- \\delta \\left(1 - q\\right)^{2} + 1\\right) \\left(- \\delta^{2} \\left(1 - q\\right)^{2} + 1\\right)} + \\frac{1 - \\delta}{- \\delta^{2} \\left(1 - q\\right)^{2} + 1}\\right) \\left(\\delta q - \\delta + 1\\right)}{1 + e^{- \\beta \\left(- R + T\\right)}} + \\frac{\\delta q - \\delta + 1}{2 \\left(N - 1\\right)} + \\frac{\\delta q - \\delta + 1}{\\left(1 + e^{- \\beta \\left(- S + T\\right)}\\right) \\left(N - 1\\right)} + \\frac{\\delta q - \\delta + 1}{\\left(1 + e^{- \\beta \\left(R - S\\right)}\\right) \\left(N - 1\\right)} + \\frac{\\delta q - \\delta + 1}{\\left(1 + e^{- \\beta \\left(P - S\\right)}\\right) \\left(N - 1\\right)}}$"
      ],
      "text/plain": [
       "                       ⎛                                 2                    \n",
       "           ⎛      1  ⎞ ⎜    δ⋅(q + (1 - q)⋅(δ⋅q - δ + 1))              1 - δ  \n",
       " δ⋅(1 - q)⋅⎜1 - ─────⎟⋅⎜────────────────────────────────────── + ─────────────\n",
       "           ⎝    N - 1⎠ ⎜⎛           2    ⎞ ⎛   2        2    ⎞      2        2\n",
       "                       ⎝⎝- δ⋅(1 - q)  + 1⎠⋅⎝- δ ⋅(1 - q)  + 1⎠   - δ ⋅(1 - q) \n",
       " ─────────────────────────────────────────────────────────────────────────────\n",
       "                                       -β⋅(-P + R)                            \n",
       "                                  1 + ℯ                                       \n",
       "──────────────────────────────────────────────────────────────────────────────\n",
       "                      ⎛                                 2                     \n",
       "          ⎛      1  ⎞ ⎜    δ⋅(q + (1 - q)⋅(δ⋅q - δ + 1))              1 - δ   \n",
       "δ⋅(1 - q)⋅⎜1 - ─────⎟⋅⎜────────────────────────────────────── + ──────────────\n",
       "          ⎝    N - 1⎠ ⎜⎛           2    ⎞ ⎛   2        2    ⎞      2        2 \n",
       "                      ⎝⎝- δ⋅(1 - q)  + 1⎠⋅⎝- δ ⋅(1 - q)  + 1⎠   - δ ⋅(1 - q)  \n",
       "──────────────────────────────────────────────────────────────────────────────\n",
       "                                      -β⋅(P - R)                              \n",
       "                                 1 + ℯ                                        \n",
       "\n",
       "    ⎞                                                                         \n",
       "    ⎟                                                                         \n",
       "────⎟                                                                         \n",
       "    ⎟                                                                         \n",
       " + 1⎠   δ⋅(1 - q)           δ⋅(1 - q)                   δ⋅(1 - q)             \n",
       "───── + ───────── + ───────────────────────── + ───────────────────────── + ──\n",
       "        2⋅(N - 1)   ⎛     -β⋅(P - T)⎞           ⎛     -β⋅(P - S)⎞           ⎛ \n",
       "                    ⎝1 + ℯ          ⎠⋅(N - 1)   ⎝1 + ℯ          ⎠⋅(N - 1)   ⎝1\n",
       "──────────────────────────────────────────────────────────────────────────────\n",
       "   ⎞                                                                          \n",
       "   ⎟                                                                          \n",
       "───⎟                                                                          \n",
       "   ⎟                                                                          \n",
       "+ 1⎠   δ⋅(1 - q)           δ⋅(1 - q)                    δ⋅(1 - q)             \n",
       "──── + ───────── + ────────────────────────── + ────────────────────────── + ─\n",
       "       2⋅(N - 1)   ⎛     -β⋅(-P + T)⎞           ⎛     -β⋅(-P + S)⎞           ⎛\n",
       "                   ⎝1 + ℯ           ⎠⋅(N - 1)   ⎝1 + ℯ           ⎠⋅(N - 1)   ⎝\n",
       "\n",
       "                                      ⎛                                 2     \n",
       "                          ⎛      1  ⎞ ⎜    δ⋅(q + (1 - q)⋅(δ⋅q - δ + 1))      \n",
       "                          ⎜1 - ─────⎟⋅⎜────────────────────────────────────── \n",
       "                          ⎝    N - 1⎠ ⎜⎛           2    ⎞ ⎛   2        2    ⎞ \n",
       "      δ⋅(1 - q)                       ⎝⎝- δ⋅(1 - q)  + 1⎠⋅⎝- δ ⋅(1 - q)  + 1⎠ \n",
       "─────────────────────── + ────────────────────────────────────────────────────\n",
       "    -β⋅(P - R)⎞                                                   -β⋅(R - T)  \n",
       " + ℯ          ⎠⋅(N - 1)                                      1 + ℯ            \n",
       "──────────────────────────────────────────────────────────────────────────────\n",
       "                                        ⎛                                 2   \n",
       "                            ⎛      1  ⎞ ⎜    δ⋅(q + (1 - q)⋅(δ⋅q - δ + 1))    \n",
       "                            ⎜1 - ─────⎟⋅⎜─────────────────────────────────────\n",
       "                            ⎝    N - 1⎠ ⎜⎛           2    ⎞ ⎛   2        2    \n",
       "       δ⋅(1 - q)                        ⎝⎝- δ⋅(1 - q)  + 1⎠⋅⎝- δ ⋅(1 - q)  + 1\n",
       "───────────────────────── + ──────────────────────────────────────────────────\n",
       "     -β⋅(-P + R)⎞                                                   -β⋅(-R + T\n",
       "1 + ℯ           ⎠⋅(N - 1)                                      1 + ℯ          \n",
       "\n",
       "                   ⎞                                                          \n",
       "        1 - δ      ⎟                                                          \n",
       "+ ─────────────────⎟⋅(δ⋅q - δ + 1)                                            \n",
       "     2        2    ⎟                                                          \n",
       "  - δ ⋅(1 - q)  + 1⎠                 δ⋅q - δ + 1          δ⋅q - δ + 1         \n",
       "────────────────────────────────── + ─────────── + ───────────────────────── +\n",
       "                                      2⋅(N - 1)    ⎛     -β⋅(S - T)⎞          \n",
       "                                                   ⎝1 + ℯ          ⎠⋅(N - 1)  \n",
       "──────────────────────────────────────────────────────────────────────────────\n",
       "                     ⎞                                                        \n",
       "          1 - δ      ⎟                                                        \n",
       "─ + ─────────────────⎟⋅(δ⋅q - δ + 1)                                          \n",
       "⎞      2        2    ⎟                                                        \n",
       "⎠   - δ ⋅(1 - q)  + 1⎠                 δ⋅q - δ + 1          δ⋅q - δ + 1       \n",
       "──────────────────────────────────── + ─────────── + ─────────────────────────\n",
       ")                                       2⋅(N - 1)    ⎛     -β⋅(-S + T)⎞       \n",
       "                                                     ⎝1 + ℯ           ⎠⋅(N - 1\n",
       "\n",
       "                                                         \n",
       "                                                         \n",
       "                                                         \n",
       "                                                         \n",
       "        δ⋅q - δ + 1                  δ⋅q - δ + 1         \n",
       " ────────────────────────── + ────────────────────────── \n",
       " ⎛     -β⋅(-R + S)⎞           ⎛     -β⋅(-P + S)⎞         \n",
       " ⎝1 + ℯ           ⎠⋅(N - 1)   ⎝1 + ℯ           ⎠⋅(N - 1) \n",
       "─────────────────────────────────────────────────────────\n",
       "                                                         \n",
       "                                                         \n",
       "                                                         \n",
       "                                                         \n",
       "           δ⋅q - δ + 1                 δ⋅q - δ + 1       \n",
       "─ + ───────────────────────── + ─────────────────────────\n",
       "    ⎛     -β⋅(R - S)⎞           ⎛     -β⋅(P - S)⎞        \n",
       ")   ⎝1 + ℯ          ⎠⋅(N - 1)   ⎝1 + ℯ          ⎠⋅(N - 1)"
      ]
     },
     "execution_count": 182,
     "metadata": {},
     "output_type": "execute_result"
    }
   ],
   "source": [
    "expr"
   ]
  },
  {
   "cell_type": "code",
   "execution_count": null,
   "metadata": {},
   "outputs": [],
   "source": []
  }
 ],
 "metadata": {
  "kernelspec": {
   "display_name": "stochastic-payoffs",
   "language": "python",
   "name": "stochastic-payoffs"
  },
  "language_info": {
   "codemirror_mode": {
    "name": "ipython",
    "version": 3
   },
   "file_extension": ".py",
   "mimetype": "text/x-python",
   "name": "python",
   "nbconvert_exporter": "python",
   "pygments_lexer": "ipython3",
   "version": "3.7.9"
  }
 },
 "nbformat": 4,
 "nbformat_minor": 4
}
