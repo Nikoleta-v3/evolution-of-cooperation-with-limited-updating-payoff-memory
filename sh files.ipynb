{
 "cells": [
  {
   "cell_type": "code",
   "execution_count": 2,
   "metadata": {},
   "outputs": [],
   "source": [
    "string = \"\"\"\n",
    "#!/bin/sh\n",
    "#SBATCH -p medium  # partition (queue)\n",
    "#SBATCH -J {S}-{T} # job name\n",
    "#SBATCH -n 1 # number of cores\n",
    "#SBATCH -t 2-00:00  # time (D-HH:MM)\n",
    "#SBATCH -o {S}-{T}.out # STDOUT\n",
    "#SBATCH -e {S}-{T}.err # STDERR\n",
    "\n",
    "module load matlab\n",
    "cd matlab\n",
    "\n",
    "matlab -nodisplay -r 'evolRunRoundTwo({S},{T});exit;'\n",
    "\"\"\""
   ]
  },
  {
   "cell_type": "code",
   "execution_count": 3,
   "metadata": {},
   "outputs": [],
   "source": [
    "import numpy as np"
   ]
  },
  {
   "cell_type": "code",
   "execution_count": 5,
   "metadata": {},
   "outputs": [],
   "source": [
    "Ss = np.linspace(-2, 2, 11)\n",
    "Ts = np.linspace(-1, 3, 11)"
   ]
  },
  {
   "cell_type": "code",
   "execution_count": 13,
   "metadata": {},
   "outputs": [],
   "source": [
    "i = 1\n",
    "for S in Ss:\n",
    "    for T in Ts:\n",
    "        string = f\"\"\"\n",
    "#!/bin/sh\n",
    "#SBATCH -p medium  # partition (queue)\n",
    "#SBATCH -J {round(S, 2)}-{round(T, 2)} # job name\n",
    "#SBATCH -n 1 # number of cores\n",
    "#SBATCH -t 2-00:00  # time (D-HH:MM)\n",
    "#SBATCH -o {round(S, 2)}-{round(T, 2)}.out # STDOUT\n",
    "#SBATCH -e {round(S, 2)}-{round(T, 2)}.err # STDERR\n",
    "\n",
    "module load matlab\n",
    "cd matlab\n",
    "\n",
    "matlab -nodisplay -r 'evolRunRoundTwo({S},{T});exit;'\n",
    "\"\"\"\n",
    "        filename = f\"sh/rounds_{round(S, 2)}_{round(T, 2)}.sh\"\n",
    "        f = open(filename, \"w\")\n",
    "        f.write(string)\n",
    "        f.close()\n",
    "        \n",
    "        filename_sh = f\"run_rounds.sh\"\n",
    "        f = open(filename_sh, \"a\")\n",
    "        if i > 16:\n",
    "            \n",
    "            f.write(f\"# sbatch {filename}\\n\")\n",
    "        else:\n",
    "            f.write(f\"sbatch {filename}\\n\")\n",
    "        f.close()\n",
    "        i += 1"
   ]
  },
  {
   "cell_type": "code",
   "execution_count": null,
   "metadata": {},
   "outputs": [],
   "source": []
  }
 ],
 "metadata": {
  "kernelspec": {
   "display_name": "stochastic-payoffs",
   "language": "python",
   "name": "stochastic-payoffs"
  },
  "language_info": {
   "codemirror_mode": {
    "name": "ipython",
    "version": 3
   },
   "file_extension": ".py",
   "mimetype": "text/x-python",
   "name": "python",
   "nbconvert_exporter": "python",
   "pygments_lexer": "ipython3",
   "version": "3.7.9"
  }
 },
 "nbformat": 4,
 "nbformat_minor": 4
}
