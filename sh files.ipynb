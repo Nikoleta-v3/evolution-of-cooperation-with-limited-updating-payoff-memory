{
 "cells": [
  {
   "cell_type": "code",
   "execution_count": 2,
   "metadata": {},
   "outputs": [],
   "source": [
    "string = \"\"\"\n",
    "#!/bin/sh\n",
    "#SBATCH -p medium  # partition (queue)\n",
    "#SBATCH -J rounds # job name\n",
    "#SBATCH -N 1 # number of nodes\n",
    "#SBATCH -n 1 # number of cores\n",
    "#SBATCH -t 2-00:00  # time (D-HH:MM)\n",
    "#SBATCH -o rounds.out # STDOUT\n",
    "#SBATCH -e rounds.err # STDERR\n",
    "\n",
    "module load matlab\n",
    "cd matlab\n",
    "\n",
    "matlab -nodisplay -r 'evolRunRoundTwo;exit;'\n",
    "\"\"\""
   ]
  },
  {
   "cell_type": "code",
   "execution_count": 3,
   "metadata": {},
   "outputs": [],
   "source": [
    "import numpy as np"
   ]
  },
  {
   "cell_type": "code",
   "execution_count": 22,
   "metadata": {},
   "outputs": [],
   "source": [
    "Ss = np.linspace(-2, 2, 11)\n",
    "Ts = np.linspace(-1, 3, 11)"
   ]
  },
  {
   "cell_type": "code",
   "execution_count": 24,
   "metadata": {},
   "outputs": [
    {
     "data": {
      "text/plain": [
       "11"
      ]
     },
     "execution_count": 24,
     "metadata": {},
     "output_type": "execute_result"
    }
   ],
   "source": [
    "len(Ss)"
   ]
  },
  {
   "cell_type": "code",
   "execution_count": 28,
   "metadata": {},
   "outputs": [],
   "source": [
    "\n",
    "for s_i, S in enumerate(Ss):\n",
    "\n",
    "    string = f\"\"\"#!/bin/sh\n",
    "#SBATCH -p medium  # partition (queue)\n",
    "#SBATCH -J S{s_i} # job name\n",
    "#SBATCH -N 1 # number of nodes\n",
    "#SBATCH -n 11 # number of cores\n",
    "#SBATCH -t 2-00:00  # time (D-HH:MM)\n",
    "#SBATCH -o S{s_i}.out # STDOUT\n",
    "#SBATCH -e S{s_i}.err # STDERR\n",
    "\n",
    "module load matlab\n",
    "cd matlab\n",
    "\n",
    "matlab -nodisplay -r 'evolRunRoundTwo({round(S, 2)});exit;'\n",
    "\"\"\"\n",
    "    filename = f\"sh/rounds_{s_i}_.sh\"\n",
    "    f = open(filename, \"w\")\n",
    "    f.write(string)\n",
    "    f.close()\n",
    "\n",
    "    filename_sh = f\"run_rounds.sh\"\n",
    "    f = open(filename_sh, \"a\")\n",
    "    if s_i > 1:\n",
    "\n",
    "        f.write(f\"# sbatch {filename}\\n\")\n",
    "    else:\n",
    "        f.write(f\"sbatch {filename}\\n\")\n",
    "    f.close()"
   ]
  },
  {
   "cell_type": "code",
   "execution_count": null,
   "metadata": {},
   "outputs": [],
   "source": []
  }
 ],
 "metadata": {
  "kernelspec": {
   "display_name": "stochastic-payoffs",
   "language": "python",
   "name": "stochastic-payoffs"
  },
  "language_info": {
   "codemirror_mode": {
    "name": "ipython",
    "version": 3
   },
   "file_extension": ".py",
   "mimetype": "text/x-python",
   "name": "python",
   "nbconvert_exporter": "python",
   "pygments_lexer": "ipython3",
   "version": "3.7.9"
  }
 },
 "nbformat": 4,
 "nbformat_minor": 4
}
