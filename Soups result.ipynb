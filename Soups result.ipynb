{
 "cells": [
  {
   "cell_type": "code",
   "execution_count": 13,
   "metadata": {},
   "outputs": [],
   "source": [
    "import pandas as pd\n",
    "\n",
    "import numpy as np"
   ]
  },
  {
   "cell_type": "code",
   "execution_count": 2,
   "metadata": {},
   "outputs": [],
   "source": [
    "df = pd.read_csv('data/soup_for_theoretical_utility.csv', header=None)"
   ]
  },
  {
   "cell_type": "code",
   "execution_count": 4,
   "metadata": {},
   "outputs": [],
   "source": [
    "columns = [\"i\",\n",
    "           \"number_of_repetitions\",\n",
    "           \"y_1\",\n",
    "           \"p_1\",\n",
    "           \"q_1\",\n",
    "           \"y_2\",\n",
    "           \"p_2\",\n",
    "           \"q_2\",\n",
    "           \"population_size\",\n",
    "           \"number_of_mutants\",\n",
    "           \"delta\",\n",
    "           \"simulation_score_mutant\",\n",
    "           \"simulation_score_resident\",\n",
    "           \"theoretical_score_mutant\",\n",
    "           \"theoretical_score_resident\"]"
   ]
  },
  {
   "cell_type": "code",
   "execution_count": 5,
   "metadata": {},
   "outputs": [],
   "source": [
    "df.columns = columns"
   ]
  },
  {
   "cell_type": "code",
   "execution_count": 6,
   "metadata": {},
   "outputs": [
    {
     "data": {
      "text/html": [
       "<div>\n",
       "<style scoped>\n",
       "    .dataframe tbody tr th:only-of-type {\n",
       "        vertical-align: middle;\n",
       "    }\n",
       "\n",
       "    .dataframe tbody tr th {\n",
       "        vertical-align: top;\n",
       "    }\n",
       "\n",
       "    .dataframe thead th {\n",
       "        text-align: right;\n",
       "    }\n",
       "</style>\n",
       "<table border=\"1\" class=\"dataframe\">\n",
       "  <thead>\n",
       "    <tr style=\"text-align: right;\">\n",
       "      <th></th>\n",
       "      <th>i</th>\n",
       "      <th>number_of_repetitions</th>\n",
       "      <th>y_1</th>\n",
       "      <th>p_1</th>\n",
       "      <th>q_1</th>\n",
       "      <th>y_2</th>\n",
       "      <th>p_2</th>\n",
       "      <th>q_2</th>\n",
       "      <th>population_size</th>\n",
       "      <th>number_of_mutants</th>\n",
       "      <th>delta</th>\n",
       "      <th>simulation_score_mutant</th>\n",
       "      <th>simulation_score_resident</th>\n",
       "      <th>theoretical_score_mutant</th>\n",
       "      <th>theoretical_score_resident</th>\n",
       "    </tr>\n",
       "  </thead>\n",
       "  <tbody>\n",
       "    <tr>\n",
       "      <th>0</th>\n",
       "      <td>0</td>\n",
       "      <td>5000</td>\n",
       "      <td>0.617651</td>\n",
       "      <td>0.198164</td>\n",
       "      <td>0.446030</td>\n",
       "      <td>0.431245</td>\n",
       "      <td>0.828579</td>\n",
       "      <td>0.867705</td>\n",
       "      <td>26</td>\n",
       "      <td>14</td>\n",
       "      <td>0.999</td>\n",
       "      <td>2.9030</td>\n",
       "      <td>1.7424</td>\n",
       "      <td>2.931</td>\n",
       "      <td>1.726</td>\n",
       "    </tr>\n",
       "    <tr>\n",
       "      <th>1</th>\n",
       "      <td>1</td>\n",
       "      <td>5000</td>\n",
       "      <td>0.505675</td>\n",
       "      <td>0.742364</td>\n",
       "      <td>0.442453</td>\n",
       "      <td>0.726198</td>\n",
       "      <td>0.161235</td>\n",
       "      <td>0.929715</td>\n",
       "      <td>94</td>\n",
       "      <td>81</td>\n",
       "      <td>0.999</td>\n",
       "      <td>2.4454</td>\n",
       "      <td>2.5396</td>\n",
       "      <td>2.434</td>\n",
       "      <td>2.548</td>\n",
       "    </tr>\n",
       "    <tr>\n",
       "      <th>2</th>\n",
       "      <td>0</td>\n",
       "      <td>10000</td>\n",
       "      <td>0.681802</td>\n",
       "      <td>0.400757</td>\n",
       "      <td>0.059384</td>\n",
       "      <td>0.347211</td>\n",
       "      <td>0.259380</td>\n",
       "      <td>0.093312</td>\n",
       "      <td>26</td>\n",
       "      <td>14</td>\n",
       "      <td>0.999</td>\n",
       "      <td>1.2916</td>\n",
       "      <td>1.2998</td>\n",
       "      <td>1.296</td>\n",
       "      <td>1.293</td>\n",
       "    </tr>\n",
       "    <tr>\n",
       "      <th>3</th>\n",
       "      <td>1</td>\n",
       "      <td>10000</td>\n",
       "      <td>0.991772</td>\n",
       "      <td>0.567440</td>\n",
       "      <td>0.990975</td>\n",
       "      <td>0.679557</td>\n",
       "      <td>0.325140</td>\n",
       "      <td>0.604096</td>\n",
       "      <td>12</td>\n",
       "      <td>10</td>\n",
       "      <td>0.999</td>\n",
       "      <td>2.3647</td>\n",
       "      <td>3.5093</td>\n",
       "      <td>2.375</td>\n",
       "      <td>3.520</td>\n",
       "    </tr>\n",
       "    <tr>\n",
       "      <th>4</th>\n",
       "      <td>2</td>\n",
       "      <td>10000</td>\n",
       "      <td>0.208393</td>\n",
       "      <td>0.126098</td>\n",
       "      <td>0.454928</td>\n",
       "      <td>0.176397</td>\n",
       "      <td>0.951333</td>\n",
       "      <td>0.944536</td>\n",
       "      <td>48</td>\n",
       "      <td>20</td>\n",
       "      <td>0.999</td>\n",
       "      <td>3.4640</td>\n",
       "      <td>1.8993</td>\n",
       "      <td>3.452</td>\n",
       "      <td>1.904</td>\n",
       "    </tr>\n",
       "  </tbody>\n",
       "</table>\n",
       "</div>"
      ],
      "text/plain": [
       "   i  number_of_repetitions       y_1       p_1       q_1       y_2       p_2  \\\n",
       "0  0                   5000  0.617651  0.198164  0.446030  0.431245  0.828579   \n",
       "1  1                   5000  0.505675  0.742364  0.442453  0.726198  0.161235   \n",
       "2  0                  10000  0.681802  0.400757  0.059384  0.347211  0.259380   \n",
       "3  1                  10000  0.991772  0.567440  0.990975  0.679557  0.325140   \n",
       "4  2                  10000  0.208393  0.126098  0.454928  0.176397  0.951333   \n",
       "\n",
       "        q_2  population_size  number_of_mutants  delta  \\\n",
       "0  0.867705               26                 14  0.999   \n",
       "1  0.929715               94                 81  0.999   \n",
       "2  0.093312               26                 14  0.999   \n",
       "3  0.604096               12                 10  0.999   \n",
       "4  0.944536               48                 20  0.999   \n",
       "\n",
       "   simulation_score_mutant  simulation_score_resident  \\\n",
       "0                   2.9030                     1.7424   \n",
       "1                   2.4454                     2.5396   \n",
       "2                   1.2916                     1.2998   \n",
       "3                   2.3647                     3.5093   \n",
       "4                   3.4640                     1.8993   \n",
       "\n",
       "   theoretical_score_mutant  theoretical_score_resident  \n",
       "0                     2.931                       1.726  \n",
       "1                     2.434                       2.548  \n",
       "2                     1.296                       1.293  \n",
       "3                     2.375                       3.520  \n",
       "4                     3.452                       1.904  "
      ]
     },
     "execution_count": 6,
     "metadata": {},
     "output_type": "execute_result"
    }
   ],
   "source": [
    "df.head()"
   ]
  },
  {
   "cell_type": "code",
   "execution_count": 22,
   "metadata": {},
   "outputs": [],
   "source": [
    "for simulation_score, theoretical_score in zip(df['simulation_score_mutant'], \n",
    "                                               df['theoretical_score_mutant']):\n",
    "    assert np.isclose(simulation_score, theoretical_score, rtol=10 ** -1)"
   ]
  },
  {
   "cell_type": "code",
   "execution_count": 26,
   "metadata": {},
   "outputs": [],
   "source": [
    "for simulation_score, theoretical_score in zip(df['simulation_score_resident'], \n",
    "                                               df['theoretical_score_resident']):\n",
    "    assert np.isclose(simulation_score, theoretical_score, rtol=10 ** -1)"
   ]
  },
  {
   "cell_type": "markdown",
   "metadata": {},
   "source": [
    "# Plots"
   ]
  },
  {
   "cell_type": "code",
   "execution_count": 7,
   "metadata": {},
   "outputs": [],
   "source": [
    "import matplotlib.pyplot as plt"
   ]
  },
  {
   "cell_type": "code",
   "execution_count": 32,
   "metadata": {},
   "outputs": [
    {
     "data": {
      "image/png": "[encoded data removed]",
      "text/plain": [
       "<Figure size 432x288 with 1 Axes>"
      ]
     },
     "metadata": {
      "needs_background": "light"
     },
     "output_type": "display_data"
    }
   ],
   "source": [
    "plt.scatter(df['simulation_score_mutant'], df['theoretical_score_mutant'], s=3);"
   ]
  },
  {
   "cell_type": "code",
   "execution_count": 33,
   "metadata": {},
   "outputs": [
    {
     "data": {
      "image/png": "[encoded data removed]",
      "text/plain": [
       "<Figure size 432x288 with 1 Axes>"
      ]
     },
     "metadata": {
      "needs_background": "light"
     },
     "output_type": "display_data"
    }
   ],
   "source": [
    "plt.hist(df['simulation_score_mutant']);\n",
    "plt.hist(df['theoretical_score_mutant'], alpha = 0.5);"
   ]
  },
  {
   "cell_type": "code",
   "execution_count": 34,
   "metadata": {},
   "outputs": [
    {
     "data": {
      "image/png": "[encoded data removed]",
      "text/plain": [
       "<Figure size 432x288 with 1 Axes>"
      ]
     },
     "metadata": {
      "needs_background": "light"
     },
     "output_type": "display_data"
    }
   ],
   "source": [
    "plt.hist(df['simulation_score_mutant'] / df['theoretical_score_mutant']);"
   ]
  },
  {
   "cell_type": "code",
   "execution_count": null,
   "metadata": {},
   "outputs": [],
   "source": []
  }
 ],
 "metadata": {
  "kernelspec": {
   "display_name": "stochastic-payoffs",
   "language": "python",
   "name": "stochastic-payoffs"
  },
  "language_info": {
   "codemirror_mode": {
    "name": "ipython",
    "version": 3
   },
   "file_extension": ".py",
   "mimetype": "text/x-python",
   "name": "python",
   "nbconvert_exporter": "python",
   "pygments_lexer": "ipython3",
   "version": "3.7.9"
  }
 },
 "nbformat": 4,
 "nbformat_minor": 4
}
