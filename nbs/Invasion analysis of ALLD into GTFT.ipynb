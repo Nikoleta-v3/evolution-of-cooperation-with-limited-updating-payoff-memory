{
 "cells": [
  {
   "cell_type": "markdown",
   "metadata": {},
   "source": [
    "**Imports and functions**"
   ]
  },
  {
   "cell_type": "code",
   "execution_count": 2,
   "metadata": {},
   "outputs": [],
   "source": [
    "import sympy as sym\n",
    "\n",
    "import numpy as np\n",
    "\n",
    "import evol_dynamics\n",
    "\n",
    "from sympy import mathematica_code"
   ]
  },
  {
   "cell_type": "code",
   "execution_count": 3,
   "metadata": {},
   "outputs": [],
   "source": [
    "def invariant_distribution_analytically(M):\n",
    "    size = M.shape[1]\n",
    "    pi = sym.symbols(f\"b_1:{size + 1}\")\n",
    "    ss = sym.solve(\n",
    "        [sum(pi) - 1]\n",
    "        + [a - b for a, b in zip(M.transpose() * sym.Matrix(pi), pi)],\n",
    "        pi,\n",
    "    )\n",
    "\n",
    "    v_vector = sym.Matrix(\n",
    "        [\n",
    "            [ss[p] for p in pi],\n",
    "        ]\n",
    "    )\n",
    "\n",
    "    return v_vector"
   ]
  },
  {
   "cell_type": "code",
   "execution_count": 4,
   "metadata": {},
   "outputs": [],
   "source": [
    "def ss_last_round(player, opponent, delta):\n",
    "    \"\"\"\n",
    "    \"\"\"\n",
    "    v_zero = np.array(evol_dynamics.expected_distribution_opening_round(player, opponent))\n",
    "\n",
    "    M = evol_dynamics.markov_chain_for_reactive_strategies(player, opponent)\n",
    "    \n",
    "    inverse = sym.Matrix(np.identity(4) - delta * M).inverse_ADJ()\n",
    "    \n",
    "    ss = (1 - delta) * sym.Matrix(v_zero).reshape(1, 4) @ inverse\n",
    "\n",
    "    return ss"
   ]
  },
  {
   "cell_type": "code",
   "execution_count": 5,
   "metadata": {},
   "outputs": [],
   "source": [
    "def imitation_probability(utility_of_resident, utility_of_mutant, strength_of_selection):\n",
    "    return 1 / (\n",
    "        1\n",
    "        + sym.exp(\n",
    "            -strength_of_selection * (utility_of_mutant - utility_of_resident)\n",
    "        )\n",
    "    )"
   ]
  },
  {
   "cell_type": "markdown",
   "metadata": {},
   "source": [
    "## Invasion analysis of ALLD into GTFT"
   ]
  },
  {
   "cell_type": "code",
   "execution_count": 6,
   "metadata": {},
   "outputs": [],
   "source": [
    "q = sym.symbols(\"q\")\n",
    "\n",
    "b, c, N, k, beta = sym.symbols(\"b, c, N, k, beta\")"
   ]
  },
  {
   "cell_type": "code",
   "execution_count": 7,
   "metadata": {},
   "outputs": [],
   "source": [
    "alld = (0, 0, 0)\n",
    "\n",
    "gtft = (1, 1, q)"
   ]
  },
  {
   "cell_type": "code",
   "execution_count": 8,
   "metadata": {},
   "outputs": [],
   "source": [
    "payoffs = np.array([b - c, -c, b, 0])"
   ]
  },
  {
   "cell_type": "code",
   "execution_count": 9,
   "metadata": {},
   "outputs": [
    {
     "data": {
      "text/latex": [
       "$\\displaystyle - \\frac{c q}{N - 1} + \\frac{\\left(N - 2\\right) \\left(b - c\\right)}{N - 1}$"
      ],
      "text/plain": [
       "-c*q/(N - 1) + (N - 2)*(b - c)/(N - 1)"
      ]
     },
     "execution_count": 9,
     "metadata": {},
     "output_type": "execute_result"
    }
   ],
   "source": [
    "M1 = evol_dynamics.markov_chain_for_reactive_strategies(gtft, alld)\n",
    "ss1 = invariant_distribution_analytically(M1)\n",
    "\n",
    "M2 = evol_dynamics.markov_chain_for_reactive_strategies(gtft, gtft)\n",
    "ss2 = invariant_distribution_analytically(M2)\n",
    "\n",
    "pR = (1 / (N - 1)) * np.dot(ss1, payoffs) + ((N - 2\n",
    "                                             ) / (N - 1)) * np.dot(ss2, payoffs)\n",
    "\n",
    "pR[0]"
   ]
  },
  {
   "cell_type": "code",
   "execution_count": 10,
   "metadata": {},
   "outputs": [
    {
     "data": {
      "text/latex": [
       "$\\displaystyle b q$"
      ],
      "text/plain": [
       "b*q"
      ]
     },
     "execution_count": 10,
     "metadata": {},
     "output_type": "execute_result"
    }
   ],
   "source": [
    "M1 = evol_dynamics.markov_chain_for_reactive_strategies(alld, gtft)\n",
    "ss1 = invariant_distribution_analytically(M1)\n",
    "\n",
    "pM = ((N - 1) / (N - 1)) * np.dot(ss1, payoffs) \n",
    "\n",
    "pM[0]"
   ]
  },
  {
   "cell_type": "code",
   "execution_count": 11,
   "metadata": {},
   "outputs": [
    {
     "data": {
      "text/latex": [
       "$\\displaystyle \\left(1 + e^{\\left[\\begin{matrix}- \\beta \\left(b q + \\frac{c q}{N - 1} - \\frac{\\left(N - 2\\right) \\left(b - c\\right)}{N - 1}\\right)\\end{matrix}\\right]}\\right)^{-1} \\left(1 + e^{\\left[\\begin{matrix}- \\beta \\left(- b q - \\frac{c q}{N - 1} + \\frac{\\left(N - 2\\right) \\left(b - c\\right)}{N - 1}\\right)\\end{matrix}\\right]}\\right)$"
      ],
      "text/plain": [
       "(1 + exp([-beta*(b*q + c*q/(N - 1) - (N - 2)*(b - c)/(N - 1))]))**(-1)*(1 + exp([-beta*(-b*q - c*q/(N - 1) + (N - 2)*(b - c)/(N - 1))]))"
      ]
     },
     "execution_count": 11,
     "metadata": {},
     "output_type": "execute_result"
    }
   ],
   "source": [
    "expr = imitation_probability(pR, pM, beta) / imitation_probability(pM, pR, beta)\n",
    "expr"
   ]
  },
  {
   "cell_type": "code",
   "execution_count": 12,
   "metadata": {},
   "outputs": [
    {
     "data": {
      "text/plain": [
       "'(1)*(1 + Exp[{-beta*(b*q + c*q/(N - 1) - (N - 2)*(b - c)/(N - 1))}])^(-1)**(1 + Exp[{-beta*(-b*q - c*q/(N - 1) + (N - 2)*(b - c)/(N - 1))}])'"
      ]
     },
     "execution_count": 12,
     "metadata": {},
     "output_type": "execute_result"
    }
   ],
   "source": [
    "mathematica_code(expr)"
   ]
  },
  {
   "cell_type": "markdown",
   "metadata": {},
   "source": [
    "## Last round"
   ]
  },
  {
   "cell_type": "code",
   "execution_count": 13,
   "metadata": {},
   "outputs": [
    {
     "data": {
      "text/plain": [
       "(0, 1)"
      ]
     },
     "execution_count": 13,
     "metadata": {},
     "output_type": "execute_result"
    }
   ],
   "source": [
    "sym.limit(1 / (N - 1), N, sym.oo), sym.limit((N - 3) / (N - 1), N, sym.oo)"
   ]
  },
  {
   "cell_type": "code",
   "execution_count": 14,
   "metadata": {},
   "outputs": [
    {
     "data": {
      "text/plain": [
       "(oo, 0)"
      ]
     },
     "execution_count": 14,
     "metadata": {},
     "output_type": "execute_result"
    }
   ],
   "source": [
    "sym.limit(sym.exp(beta), beta, sym.oo), sym.limit(sym.exp(-beta), beta, sym.oo)"
   ]
  },
  {
   "cell_type": "code",
   "execution_count": 15,
   "metadata": {},
   "outputs": [],
   "source": [
    "delta = sym.symbols(\"delta\")"
   ]
  },
  {
   "cell_type": "code",
   "execution_count": 16,
   "metadata": {},
   "outputs": [],
   "source": [
    "vMM = ss_last_round(alld, alld, delta)\n",
    "vMR = ss_last_round(alld, gtft, delta)\n",
    "vRM = ss_last_round(gtft, alld, delta)\n",
    "vRR = ss_last_round(gtft, gtft, delta)"
   ]
  },
  {
   "cell_type": "code",
   "execution_count": 17,
   "metadata": {},
   "outputs": [],
   "source": [
    "vMM = [v.factor() for v in vMM]\n",
    "vMR = [v.factor() for v in vMR]\n",
    "vRM = [v.factor() for v in vRM]\n",
    "vRR = [v.factor() for v in vRR]"
   ]
  },
  {
   "cell_type": "code",
   "execution_count": 18,
   "metadata": {},
   "outputs": [],
   "source": [
    "rho = sym.zeros(4, 4)\n",
    "for i in range(4):\n",
    "    for j in range(4):\n",
    "        rho[i, j] = 1 / (1 + sym.exp(-beta * (payoffs[i] - payoffs[j])));"
   ]
  },
  {
   "cell_type": "code",
   "execution_count": 19,
   "metadata": {},
   "outputs": [],
   "source": [
    "x = sym.zeros(4, 4)\n",
    "\n",
    "k = 1\n",
    "\n",
    "for i in range(4):\n",
    "    for j in range(4):\n",
    "        \n",
    "        expr = ((1  - 1 / (N - 1)) / (N - 2) / (N - 3) * ((k - 1) * (k - 2) * vRM[i] * vMM[j] \n",
    "                    + (k - 1) * (N - k - 1) * vRM[i] * vMR[j] + (N - k - 1) * (k - 1) * vRR[i] * vMM[j] \n",
    "                                                             + (N - k - 1) * (N - k - 2) * vRR[i] * vMR[j]))\n",
    "            \n",
    "        if ((i == 0 and j == 0) or (i == 1 and j == 2) or (i == 2 and j == 1) or (i == 3 and j == 3)):\n",
    "            expr += 1 / (N - 1) * vRM[i] \n",
    "            \n",
    "        expr = expr.simplify()\n",
    "        x[i, j] = expr"
   ]
  },
  {
   "cell_type": "code",
   "execution_count": 20,
   "metadata": {},
   "outputs": [
    {
     "data": {
      "text/latex": [
       "$\\displaystyle \\left[\\begin{matrix}0 & 0 & \\frac{1.0 \\left(N - 2\\right) \\left(\\delta q - \\delta + 1\\right)}{N - 1} & - \\frac{1.0 \\delta \\left(N - 2\\right) \\left(q - 1\\right)}{N - 1}\\\\0 & 0 & \\frac{1.0 \\left(\\delta q - \\delta + 1\\right)}{N - 1} & 0\\\\0 & 0 & 0 & 0\\\\0 & 0 & 0 & - \\frac{1.0 \\delta \\left(q - 1\\right)}{N - 1}\\end{matrix}\\right]$"
      ],
      "text/plain": [
       "Matrix([\n",
       "[0, 0, 1.0*(N - 2)*(delta*q - delta + 1)/(N - 1), -1.0*delta*(N - 2)*(q - 1)/(N - 1)],\n",
       "[0, 0,         1.0*(delta*q - delta + 1)/(N - 1),                                  0],\n",
       "[0, 0,                                         0,                                  0],\n",
       "[0, 0,                                         0,         -1.0*delta*(q - 1)/(N - 1)]])"
      ]
     },
     "execution_count": 20,
     "metadata": {},
     "output_type": "execute_result"
    }
   ],
   "source": [
    "x"
   ]
  },
  {
   "cell_type": "code",
   "execution_count": 21,
   "metadata": {},
   "outputs": [],
   "source": [
    "expr = (sum(sum(np.multiply(x, rho))) / sum(sum(np.multiply(x, rho.T))))"
   ]
  },
  {
   "cell_type": "code",
   "execution_count": 22,
   "metadata": {},
   "outputs": [],
   "source": [
    "numerator = (((N - 2) / (N - 1)) * ((delta * (1 - q)) / (sym.exp(- beta*(b - c)) + 1)  + (1 - delta + delta * q) / (sym.exp(beta*c) + 1))  \n",
    "             + (1 / (N - 1)) * ((1 - delta + delta * q) / (sym.exp(- beta*(-b - c)) + 1) + (delta * (1 - q)) / 2))"
   ]
  },
  {
   "cell_type": "code",
   "execution_count": 23,
   "metadata": {},
   "outputs": [],
   "source": [
    "denominator = (((N - 2) / (N - 1)) * ((delta * (1 - q)) / (sym.exp(- beta*(-b + c)) + 1)  + (1 - delta + delta * q) / (sym.exp(-beta*c) + 1))  \n",
    "             + (1 / (N - 1)) * ((1 - delta + delta * q) / (sym.exp(- beta*(b + c)) + 1) + (delta * (1 - q)) / 2))"
   ]
  },
  {
   "cell_type": "code",
   "execution_count": 24,
   "metadata": {},
   "outputs": [
    {
     "data": {
      "text/latex": [
       "$\\displaystyle 0$"
      ],
      "text/plain": [
       "0"
      ]
     },
     "execution_count": 24,
     "metadata": {},
     "output_type": "execute_result"
    }
   ],
   "source": [
    "(sym.fraction(expr)[0] - numerator).expand()"
   ]
  },
  {
   "cell_type": "code",
   "execution_count": 25,
   "metadata": {},
   "outputs": [
    {
     "data": {
      "text/latex": [
       "$\\displaystyle 0$"
      ],
      "text/plain": [
       "0"
      ]
     },
     "execution_count": 25,
     "metadata": {},
     "output_type": "execute_result"
    }
   ],
   "source": [
    "(sym.fraction(expr)[1] - denominator).expand()"
   ]
  },
  {
   "cell_type": "code",
   "execution_count": 26,
   "metadata": {},
   "outputs": [
    {
     "data": {
      "text/plain": [
       "'\\\\frac{\\\\frac{\\\\left(N - 2\\\\right) \\\\left(\\\\frac{\\\\delta \\\\left(1 - q\\\\right)}{1 + e^{- \\\\beta \\\\left(b - c\\\\right)}} + \\\\frac{\\\\delta q - \\\\delta + 1}{e^{\\\\beta c} + 1}\\\\right)}{N - 1} + \\\\frac{\\\\frac{\\\\delta \\\\left(1 - q\\\\right)}{2} + \\\\frac{\\\\delta q - \\\\delta + 1}{1 + e^{- \\\\beta \\\\left(- b - c\\\\right)}}}{N - 1}}{\\\\frac{\\\\left(N - 2\\\\right) \\\\left(\\\\frac{\\\\delta \\\\left(1 - q\\\\right)}{1 + e^{- \\\\beta \\\\left(- b + c\\\\right)}} + \\\\frac{\\\\delta q - \\\\delta + 1}{1 + e^{- \\\\beta c}}\\\\right)}{N - 1} + \\\\frac{\\\\frac{\\\\delta \\\\left(1 - q\\\\right)}{2} + \\\\frac{\\\\delta q - \\\\delta + 1}{1 + e^{- \\\\beta \\\\left(b + c\\\\right)}}}{N - 1}}'"
      ]
     },
     "execution_count": 26,
     "metadata": {},
     "output_type": "execute_result"
    }
   ],
   "source": [
    "sym.latex(numerator / denominator)"
   ]
  },
  {
   "cell_type": "markdown",
   "metadata": {},
   "source": [
    "## Last two rounds"
   ]
  },
  {
   "cell_type": "code",
   "execution_count": 174,
   "metadata": {},
   "outputs": [],
   "source": [
    "def ss_last_two_rounds(s1, s2, delta):\n",
    "    M = evol_dynamics.markov_chain_for_reactive_strategies(s1, s2)\n",
    "    \n",
    "    v0 = np.array([s1[0] * s2[0], s1[0] * (1 - s2[0]), (1 - s1[0]) * s2[0], (1 - s1[0]) * (1 - s2[0])])\n",
    "    \n",
    "    A = sym.eye(4) - delta * M\n",
    "    \n",
    "    rhs = np.dot(v0, A.inv())\n",
    "    \n",
    "    v = sym.zeros(4, 4)\n",
    "    \n",
    "    for i in range(4):\n",
    "        for j in range(4):\n",
    "            v[i, j] = (1 - delta) * M[i, j] * (delta ** 2) * rhs[i]\n",
    "            \n",
    "    return v.reshape(1, 16)"
   ]
  },
  {
   "cell_type": "code",
   "execution_count": 175,
   "metadata": {},
   "outputs": [],
   "source": [
    "v = ss_last_two_rounds(alld, gtft, delta)"
   ]
  },
  {
   "cell_type": "code",
   "execution_count": 176,
   "metadata": {},
   "outputs": [],
   "source": [
    "vMM = ss_last_two_rounds(alld, alld, delta)\n",
    "vMR = ss_last_two_rounds(alld, gtft, delta)\n",
    "vRM = ss_last_two_rounds(gtft, alld, delta)\n",
    "vRR = ss_last_two_rounds(gtft, gtft, delta)"
   ]
  },
  {
   "cell_type": "code",
   "execution_count": 177,
   "metadata": {},
   "outputs": [],
   "source": [
    "# for i in range(16):\n",
    "#     for j in range(16):\n",
    "#         print(int((j) / 4), (j) % 4, int((i) / 4), (i) % 4)\n",
    "# #         Us[i, j] = (u[int((j) / 4)] + u[(j) % 4]) - (u[int((i) / 4)] + u[(i) % 4])"
   ]
  },
  {
   "cell_type": "code",
   "execution_count": 178,
   "metadata": {},
   "outputs": [],
   "source": [
    "u = payoffs\n",
    "\n",
    "Us = sym.zeros(16, 16)\n",
    "\n",
    "for i in range(16):\n",
    "    for j in range(16):\n",
    "        Us[i, j] = (u[int((j) / 4)] + u[(j) % 4]) - (u[int((i) / 4)] + u[(i) % 4])\n",
    "\n",
    "Us = Us / 2\n",
    "\n",
    "rho = sym.zeros(16, 16);\n",
    "\n",
    "for i in range(16):\n",
    "    for j in range(16):\n",
    "        rho[i, j] = 1 / (1 + sym.exp(-beta * Us[i, j]))"
   ]
  },
  {
   "cell_type": "code",
   "execution_count": 179,
   "metadata": {},
   "outputs": [],
   "source": [
    "x = sym.zeros(16, 16)\n",
    "\n",
    "k = 1\n",
    "\n",
    "for i in range(16):\n",
    "    for j in range(16):\n",
    "        \n",
    "        expr = (1 - 1 / (N - 1)) / (N - 2) / (N - 3) * ((k - 1) * (k - 2) * vRM[i] * vMM[j] +\n",
    "                (k - 1) * (N - k - 1) * vRM[i] * vMR[j] + (N - k - 1) * (k - 1) * vRR[i] * vMM[j]\n",
    "                + (N - k - 1) * (N - k - 2) * vRR[i] * vMR[j])\n",
    "        \n",
    "        if ((i==0 and  j==0) or (i==1 and  j==2) or (i==2 and j==1) or (i==3 and  j==3)\n",
    "        or (i==4 and  j==8) or (i==5 and  j==10) or (i==6 and  j==9) or (i==7 and  j==11)\n",
    "        or (i==8 and  j==4) or (i==9 and  j==6) or (i==10 and  j==5) or (i==11 and  j==7)\n",
    "        or (i==12 and  j==12) or (i==13 and  j==14) or (i==14 and  j==13)|(i==15 and  j==15)):\n",
    "\n",
    "            expr += 1 / (N - 1) * vRM[i]\n",
    "        \n",
    "        x[i, j] = expr\n",
    "    "
   ]
  },
  {
   "cell_type": "code",
   "execution_count": 180,
   "metadata": {},
   "outputs": [],
   "source": [
    "expr = (sum(sum(np.multiply(x, rho))).collect(delta ** 2) / sum(sum(np.multiply(x, rho.T)))).collect(delta ** 2)"
   ]
  },
  {
   "cell_type": "code",
   "execution_count": 181,
   "metadata": {},
   "outputs": [
    {
     "data": {
      "image/png": "[encoded data removed]",
      "text/latex": [
       "$\\displaystyle \\frac{\\delta^{4} \\left(\\frac{q \\left(1 - \\delta\\right) \\left(1 - \\frac{1}{N - 1}\\right) \\left(\\delta q - \\delta\\right)}{\\left(1 + e^{- \\beta \\left(- \\frac{b}{2} + c\\right)}\\right) \\left(\\delta - 1\\right)} - \\frac{q \\left(1 - \\delta\\right) \\left(1 - \\frac{1}{N - 1}\\right) \\left(\\delta q - \\delta + 1\\right)}{\\left(1 + e^{- \\beta c}\\right) \\left(\\delta - 1\\right)} - \\frac{\\left(1 - \\delta\\right) \\left(1 - q\\right) \\left(1 - \\frac{1}{N - 1}\\right) \\left(\\delta q - \\delta + 1\\right)}{\\left(1 + e^{- \\beta \\left(- \\frac{b}{2} + c\\right)}\\right) \\left(\\delta - 1\\right)} + \\frac{\\left(1 - \\delta\\right) \\left(1 - q\\right) \\left(1 - \\frac{1}{N - 1}\\right) \\left(\\delta q - \\delta\\right)}{\\left(1 + e^{- \\beta \\left(- b + c\\right)}\\right) \\left(\\delta - 1\\right)}\\right) + \\delta^{2} \\left(- \\frac{q \\left(1 - \\delta\\right) \\left(\\delta q - \\delta + 1\\right)}{\\left(1 + e^{- \\beta \\left(b + c\\right)}\\right) \\left(N - 1\\right) \\left(\\delta - 1\\right)} + \\frac{q \\left(1 - \\delta\\right) \\left(\\delta q - \\delta\\right)}{\\left(1 + e^{- \\beta \\left(\\frac{b}{2} + \\frac{c}{2}\\right)}\\right) \\left(N - 1\\right) \\left(\\delta - 1\\right)} + \\frac{\\left(1 - \\delta\\right) \\left(1 - q\\right) \\left(\\delta q - \\delta\\right)}{2 \\left(N - 1\\right) \\left(\\delta - 1\\right)} - \\frac{\\left(1 - \\delta\\right) \\left(1 - q\\right) \\left(\\delta q - \\delta + 1\\right)}{\\left(1 + e^{- \\beta \\left(\\frac{b}{2} + \\frac{c}{2}\\right)}\\right) \\left(N - 1\\right) \\left(\\delta - 1\\right)}\\right)}{\\delta^{4} \\left(- \\frac{q \\left(1 - \\delta\\right) \\left(1 - \\frac{1}{N - 1}\\right) \\left(\\delta q - \\delta + 1\\right)}{\\left(\\delta - 1\\right) \\left(e^{\\beta c} + 1\\right)} + \\frac{q \\left(1 - \\delta\\right) \\left(1 - \\frac{1}{N - 1}\\right) \\left(\\delta q - \\delta\\right)}{\\left(1 + e^{- \\beta \\left(\\frac{b}{2} - c\\right)}\\right) \\left(\\delta - 1\\right)} + \\frac{\\left(1 - \\delta\\right) \\left(1 - q\\right) \\left(1 - \\frac{1}{N - 1}\\right) \\left(\\delta q - \\delta\\right)}{\\left(1 + e^{- \\beta \\left(b - c\\right)}\\right) \\left(\\delta - 1\\right)} - \\frac{\\left(1 - \\delta\\right) \\left(1 - q\\right) \\left(1 - \\frac{1}{N - 1}\\right) \\left(\\delta q - \\delta + 1\\right)}{\\left(1 + e^{- \\beta \\left(\\frac{b}{2} - c\\right)}\\right) \\left(\\delta - 1\\right)}\\right) + \\delta^{2} \\left(\\frac{q \\left(1 - \\delta\\right) \\left(\\delta q - \\delta\\right)}{\\left(1 + e^{- \\beta \\left(- \\frac{b}{2} - \\frac{c}{2}\\right)}\\right) \\left(N - 1\\right) \\left(\\delta - 1\\right)} - \\frac{q \\left(1 - \\delta\\right) \\left(\\delta q - \\delta + 1\\right)}{\\left(1 + e^{- \\beta \\left(- b - c\\right)}\\right) \\left(N - 1\\right) \\left(\\delta - 1\\right)} + \\frac{\\left(1 - \\delta\\right) \\left(1 - q\\right) \\left(\\delta q - \\delta\\right)}{2 \\left(N - 1\\right) \\left(\\delta - 1\\right)} - \\frac{\\left(1 - \\delta\\right) \\left(1 - q\\right) \\left(\\delta q - \\delta + 1\\right)}{\\left(1 + e^{- \\beta \\left(- \\frac{b}{2} - \\frac{c}{2}\\right)}\\right) \\left(N - 1\\right) \\left(\\delta - 1\\right)}\\right)}$"
      ],
      "text/plain": [
       "     ⎛          ⎛      1  ⎞                       ⎛      1  ⎞                 \n",
       "     ⎜q⋅(1 - δ)⋅⎜1 - ─────⎟⋅(δ⋅q - δ)   q⋅(1 - δ)⋅⎜1 - ─────⎟⋅(δ⋅q - δ + 1)   \n",
       "   4 ⎜          ⎝    N - 1⎠                       ⎝    N - 1⎠                 \n",
       "  δ ⋅⎜─────────────────────────────── - ─────────────────────────────────── - \n",
       "     ⎜  ⎛        ⎛  b    ⎞⎞                     ⎛     -β⋅c⎞                   \n",
       "     ⎜  ⎜     -β⋅⎜- ─ + c⎟⎟                     ⎝1 + ℯ    ⎠⋅(δ - 1)           \n",
       "     ⎜  ⎜        ⎝  2    ⎠⎟                                                   \n",
       "     ⎝  ⎝1 + ℯ            ⎠⋅(δ - 1)                                           \n",
       "──────────────────────────────────────────────────────────────────────────────\n",
       "   ⎛            ⎛      1  ⎞                           ⎛      1  ⎞             \n",
       "   ⎜  q⋅(1 - δ)⋅⎜1 - ─────⎟⋅(δ⋅q - δ + 1)   q⋅(1 - δ)⋅⎜1 - ─────⎟⋅(δ⋅q - δ)   \n",
       " 4 ⎜            ⎝    N - 1⎠                           ⎝    N - 1⎠             \n",
       "δ ⋅⎜- ─────────────────────────────────── + ─────────────────────────────── + \n",
       "   ⎜                   ⎛ β⋅c    ⎞              ⎛        ⎛b    ⎞⎞              \n",
       "   ⎜           (δ - 1)⋅⎝ℯ    + 1⎠              ⎜     -β⋅⎜─ - c⎟⎟              \n",
       "   ⎜                                           ⎜        ⎝2    ⎠⎟              \n",
       "   ⎝                                           ⎝1 + ℯ          ⎠⋅(δ - 1)      \n",
       "\n",
       "                ⎛      1  ⎞                                 ⎛      1  ⎞       \n",
       "(1 - δ)⋅(1 - q)⋅⎜1 - ─────⎟⋅(δ⋅q - δ + 1)   (1 - δ)⋅(1 - q)⋅⎜1 - ─────⎟⋅(δ⋅q -\n",
       "                ⎝    N - 1⎠                                 ⎝    N - 1⎠       \n",
       "───────────────────────────────────────── + ──────────────────────────────────\n",
       "       ⎛        ⎛  b    ⎞⎞                        ⎛     -β⋅(-b + c)⎞          \n",
       "       ⎜     -β⋅⎜- ─ + c⎟⎟                        ⎝1 + ℯ           ⎠⋅(δ - 1)  \n",
       "       ⎜        ⎝  2    ⎠⎟                                                    \n",
       "       ⎝1 + ℯ            ⎠⋅(δ - 1)                                            \n",
       "──────────────────────────────────────────────────────────────────────────────\n",
       "                ⎛      1  ⎞                             ⎛      1  ⎞           \n",
       "(1 - δ)⋅(1 - q)⋅⎜1 - ─────⎟⋅(δ⋅q - δ)   (1 - δ)⋅(1 - q)⋅⎜1 - ─────⎟⋅(δ⋅q - δ +\n",
       "                ⎝    N - 1⎠                             ⎝    N - 1⎠           \n",
       "───────────────────────────────────── - ──────────────────────────────────────\n",
       "      ⎛     -β⋅(b - c)⎞                         ⎛        ⎛b    ⎞⎞             \n",
       "      ⎝1 + ℯ          ⎠⋅(δ - 1)                 ⎜     -β⋅⎜─ - c⎟⎟             \n",
       "                                                ⎜        ⎝2    ⎠⎟             \n",
       "                                                ⎝1 + ℯ          ⎠⋅(δ - 1)     \n",
       "\n",
       "   ⎞                                                                          \n",
       " δ)⎟                                                                          \n",
       "   ⎟    2 ⎛       q⋅(1 - δ)⋅(δ⋅q - δ + 1)               q⋅(1 - δ)⋅(δ⋅q - δ)   \n",
       "───⎟ + δ ⋅⎜- ───────────────────────────────── + ─────────────────────────────\n",
       "   ⎟      ⎜  ⎛     -β⋅(b + c)⎞                   ⎛        ⎛b   c⎞⎞            \n",
       "   ⎟      ⎜  ⎝1 + ℯ          ⎠⋅(N - 1)⋅(δ - 1)   ⎜     -β⋅⎜─ + ─⎟⎟            \n",
       "   ⎟      ⎜                                      ⎜        ⎝2   2⎠⎟            \n",
       "   ⎠      ⎝                                      ⎝1 + ℯ          ⎠⋅(N - 1)⋅(δ \n",
       "──────────────────────────────────────────────────────────────────────────────\n",
       "   ⎞                                                                          \n",
       " 1)⎟                                                                          \n",
       "   ⎟    2 ⎛        q⋅(1 - δ)⋅(δ⋅q - δ)                q⋅(1 - δ)⋅(δ⋅q - δ + 1) \n",
       "───⎟ + δ ⋅⎜─────────────────────────────────── - ─────────────────────────────\n",
       "   ⎟      ⎜⎛        ⎛  b   c⎞⎞                   ⎛     -β⋅(-b - c)⎞           \n",
       "   ⎟      ⎜⎜     -β⋅⎜- ─ - ─⎟⎟                   ⎝1 + ℯ           ⎠⋅(N - 1)⋅(δ\n",
       "   ⎟      ⎜⎜        ⎝  2   2⎠⎟                                                \n",
       "   ⎠      ⎝⎝1 + ℯ            ⎠⋅(N - 1)⋅(δ - 1)                                \n",
       "\n",
       "                                                                        \n",
       "                                                                        \n",
       "       (1 - δ)⋅(1 - q)⋅(δ⋅q - δ)     (1 - δ)⋅(1 - q)⋅(δ⋅q - δ + 1)  ⎞   \n",
       "──── + ───────────────────────── - ─────────────────────────────────⎟   \n",
       "           2⋅(N - 1)⋅(δ - 1)       ⎛        ⎛b   c⎞⎞                ⎟   \n",
       "                                   ⎜     -β⋅⎜─ + ─⎟⎟                ⎟   \n",
       "                                   ⎜        ⎝2   2⎠⎟                ⎟   \n",
       "- 1)                               ⎝1 + ℯ          ⎠⋅(N - 1)⋅(δ - 1)⎠   \n",
       "────────────────────────────────────────────────────────────────────────\n",
       "                                                                        \n",
       "                                                                        \n",
       "        (1 - δ)⋅(1 - q)⋅(δ⋅q - δ)      (1 - δ)⋅(1 - q)⋅(δ⋅q - δ + 1)   ⎞\n",
       "───── + ───────────────────────── - ───────────────────────────────────⎟\n",
       "            2⋅(N - 1)⋅(δ - 1)       ⎛        ⎛  b   c⎞⎞                ⎟\n",
       " - 1)                               ⎜     -β⋅⎜- ─ - ─⎟⎟                ⎟\n",
       "                                    ⎜        ⎝  2   2⎠⎟                ⎟\n",
       "                                    ⎝1 + ℯ            ⎠⋅(N - 1)⋅(δ - 1)⎠"
      ]
     },
     "execution_count": 181,
     "metadata": {},
     "output_type": "execute_result"
    }
   ],
   "source": [
    "expr"
   ]
  },
  {
   "cell_type": "code",
   "execution_count": 182,
   "metadata": {},
   "outputs": [],
   "source": [
    "numerator1 = delta ** 2 * ((N - 2) / (N - 1)) * (\n",
    "    ((1 - q) * (2 * delta * q - delta + 1)) / (sym.exp(- beta*( - b / 2 + c)) + 1)  +\n",
    "    q * (1 - delta + delta * q) / (sym.exp(-beta * c) + 1) +\n",
    "    (delta * (1 - q) ** 2) / (sym.exp(- beta*(-b + c)) + 1))\n",
    "              \n",
    "numerator2 = (1 / (N - 1)) * (\n",
    "    q * (1 - delta + delta * q) / (sym.exp(- beta*(b + c)) + 1) +\n",
    "    (1 - q) * (2 * delta * q - delta + 1) / (sym.exp(- beta*(b/2 + c/2)) + 1) +\n",
    "    (delta * (1 - q) ** 2) / 2)"
   ]
  },
  {
   "cell_type": "code",
   "execution_count": 183,
   "metadata": {},
   "outputs": [],
   "source": [
    "denominator1 = delta ** 2 * ((N - 2) / (N - 1)) * (\n",
    "    ((1 - q) * (2 * delta * q - delta + 1)) / (sym.exp(-beta * (b/2 - c)) + 1)  +\n",
    "    q * (1 - delta + delta * q) / (sym.exp(beta*(c)) + 1) +\n",
    "    (delta * (1 - q) ** 2) / (sym.exp(- beta*(b - c)) + 1))\n",
    "              \n",
    "denominator2 = (1 / (N - 1)) * (\n",
    "    q * (1 - delta + delta * q) / (sym.exp(- beta*(-b - c)) + 1) +\n",
    "    (1 - q) * (2 * delta * q - delta + 1) / (sym.exp(- beta*(-b/2 - c/2)) + 1) +\n",
    "    (delta * (1 - q) ** 2) / 2)"
   ]
  },
  {
   "cell_type": "code",
   "execution_count": 184,
   "metadata": {},
   "outputs": [],
   "source": [
    "result = ((sym.fraction(expr)[0] / delta ** 2) - (numerator1 + numerator2)).expand()"
   ]
  },
  {
   "cell_type": "code",
   "execution_count": 144,
   "metadata": {},
   "outputs": [
    {
     "data": {
      "image/png": "[encoded data removed]",
      "text/latex": [
       "$\\displaystyle \\delta^{4} \\left(\\frac{q \\left(1 - \\delta\\right) \\left(1 - \\frac{1}{N - 1}\\right) \\left(\\delta q - \\delta\\right)}{\\left(1 + e^{- \\beta \\left(- \\frac{b}{2} + c\\right)}\\right) \\left(\\delta - 1\\right)} - \\frac{q \\left(1 - \\delta\\right) \\left(1 - \\frac{1}{N - 1}\\right) \\left(\\delta q - \\delta + 1\\right)}{\\left(1 + e^{- \\beta c}\\right) \\left(\\delta - 1\\right)} - \\frac{\\left(1 - \\delta\\right) \\left(1 - q\\right) \\left(1 - \\frac{1}{N - 1}\\right) \\left(\\delta q - \\delta + 1\\right)}{\\left(1 + e^{- \\beta \\left(- \\frac{b}{2} + c\\right)}\\right) \\left(\\delta - 1\\right)} + \\frac{\\left(1 - \\delta\\right) \\left(1 - q\\right) \\left(1 - \\frac{1}{N - 1}\\right) \\left(\\delta q - \\delta\\right)}{\\left(1 + e^{- \\beta \\left(- b + c\\right)}\\right) \\left(\\delta - 1\\right)}\\right) + \\delta^{2} \\left(- \\frac{q \\left(1 - \\delta\\right) \\left(\\delta q - \\delta + 1\\right)}{\\left(1 + e^{- \\beta \\left(b + c\\right)}\\right) \\left(N - 1\\right) \\left(\\delta - 1\\right)} + \\frac{q \\left(1 - \\delta\\right) \\left(\\delta q - \\delta\\right)}{\\left(1 + e^{- \\beta \\left(\\frac{b}{2} + \\frac{c}{2}\\right)}\\right) \\left(N - 1\\right) \\left(\\delta - 1\\right)} + \\frac{\\left(1 - \\delta\\right) \\left(1 - q\\right) \\left(\\delta q - \\delta\\right)}{2 \\left(N - 1\\right) \\left(\\delta - 1\\right)} - \\frac{\\left(1 - \\delta\\right) \\left(1 - q\\right) \\left(\\delta q - \\delta + 1\\right)}{\\left(1 + e^{- \\beta \\left(\\frac{b}{2} + \\frac{c}{2}\\right)}\\right) \\left(N - 1\\right) \\left(\\delta - 1\\right)}\\right)$"
      ],
      "text/plain": [
       "   ⎛          ⎛      1  ⎞                       ⎛      1  ⎞                   \n",
       "   ⎜q⋅(1 - δ)⋅⎜1 - ─────⎟⋅(δ⋅q - δ)   q⋅(1 - δ)⋅⎜1 - ─────⎟⋅(δ⋅q - δ + 1)   (1\n",
       " 4 ⎜          ⎝    N - 1⎠                       ⎝    N - 1⎠                   \n",
       "δ ⋅⎜─────────────────────────────── - ─────────────────────────────────── - ──\n",
       "   ⎜  ⎛        ⎛  b    ⎞⎞                     ⎛     -β⋅c⎞                     \n",
       "   ⎜  ⎜     -β⋅⎜- ─ + c⎟⎟                     ⎝1 + ℯ    ⎠⋅(δ - 1)             \n",
       "   ⎜  ⎜        ⎝  2    ⎠⎟                                                     \n",
       "   ⎝  ⎝1 + ℯ            ⎠⋅(δ - 1)                                             \n",
       "\n",
       "              ⎛      1  ⎞                                 ⎛      1  ⎞         \n",
       " - δ)⋅(1 - q)⋅⎜1 - ─────⎟⋅(δ⋅q - δ + 1)   (1 - δ)⋅(1 - q)⋅⎜1 - ─────⎟⋅(δ⋅q - δ\n",
       "              ⎝    N - 1⎠                                 ⎝    N - 1⎠         \n",
       "─────────────────────────────────────── + ────────────────────────────────────\n",
       "     ⎛        ⎛  b    ⎞⎞                        ⎛     -β⋅(-b + c)⎞            \n",
       "     ⎜     -β⋅⎜- ─ + c⎟⎟                        ⎝1 + ℯ           ⎠⋅(δ - 1)    \n",
       "     ⎜        ⎝  2    ⎠⎟                                                      \n",
       "     ⎝1 + ℯ            ⎠⋅(δ - 1)                                              \n",
       "\n",
       " ⎞                                                                            \n",
       ")⎟                                                                            \n",
       " ⎟    2 ⎛       q⋅(1 - δ)⋅(δ⋅q - δ + 1)               q⋅(1 - δ)⋅(δ⋅q - δ)     \n",
       "─⎟ + δ ⋅⎜- ───────────────────────────────── + ───────────────────────────────\n",
       " ⎟      ⎜  ⎛     -β⋅(b + c)⎞                   ⎛        ⎛b   c⎞⎞              \n",
       " ⎟      ⎜  ⎝1 + ℯ          ⎠⋅(N - 1)⋅(δ - 1)   ⎜     -β⋅⎜─ + ─⎟⎟              \n",
       " ⎟      ⎜                                      ⎜        ⎝2   2⎠⎟              \n",
       " ⎠      ⎝                                      ⎝1 + ℯ          ⎠⋅(N - 1)⋅(δ - \n",
       "\n",
       "                                                                   \n",
       "                                                                   \n",
       "     (1 - δ)⋅(1 - q)⋅(δ⋅q - δ)     (1 - δ)⋅(1 - q)⋅(δ⋅q - δ + 1)  ⎞\n",
       "── + ───────────────────────── - ─────────────────────────────────⎟\n",
       "         2⋅(N - 1)⋅(δ - 1)       ⎛        ⎛b   c⎞⎞                ⎟\n",
       "                                 ⎜     -β⋅⎜─ + ─⎟⎟                ⎟\n",
       "                                 ⎜        ⎝2   2⎠⎟                ⎟\n",
       "1)                               ⎝1 + ℯ          ⎠⋅(N - 1)⋅(δ - 1)⎠"
      ]
     },
     "execution_count": 144,
     "metadata": {},
     "output_type": "execute_result"
    }
   ],
   "source": [
    "sym.init_printing(True)\n",
    "\n",
    "sym.fraction(expr)[0]"
   ]
  },
  {
   "cell_type": "code",
   "execution_count": 145,
   "metadata": {},
   "outputs": [
    {
     "data": {
      "image/png": "[encoded data removed]",
      "text/latex": [
       "$\\displaystyle \\delta^{4} \\left(1 - \\frac{1}{N - 1}\\right) \\left(- \\frac{q \\left(\\delta q - \\delta\\right)}{1 + e^{- \\beta \\left(- \\frac{b}{2} + c\\right)}} + \\frac{q \\left(\\delta q - \\delta + 1\\right)}{1 + e^{- \\beta c}} + \\frac{\\left(1 - q\\right) \\left(\\delta q - \\delta + 1\\right)}{1 + e^{- \\beta \\left(- \\frac{b}{2} + c\\right)}} - \\frac{\\left(1 - q\\right) \\left(\\delta q - \\delta\\right)}{1 + e^{- \\beta \\left(- b + c\\right)}}\\right) + \\frac{\\delta^{2} \\left(\\frac{q \\left(\\delta q - \\delta + 1\\right)}{1 + e^{- \\beta \\left(b + c\\right)}} - \\frac{q \\left(\\delta q - \\delta\\right)}{1 + e^{- \\beta \\left(\\frac{b}{2} + \\frac{c}{2}\\right)}} - \\frac{\\left(1 - q\\right) \\left(\\delta q - \\delta\\right)}{2} + \\frac{\\left(1 - q\\right) \\left(\\delta q - \\delta + 1\\right)}{1 + e^{- \\beta \\left(\\frac{b}{2} + \\frac{c}{2}\\right)}}\\right)}{N - 1}$"
      ],
      "text/plain": [
       "                                                                              \n",
       "                                                                              \n",
       "                                                                              \n",
       "                                                                              \n",
       "                                                                              \n",
       " 4 ⎛      1  ⎞ ⎛     q⋅(δ⋅q - δ)      q⋅(δ⋅q - δ + 1)   (1 - q)⋅(δ⋅q - δ + 1) \n",
       "δ ⋅⎜1 - ─────⎟⋅⎜- ───────────────── + ─────────────── + ───────────────────── \n",
       "   ⎝    N - 1⎠ ⎜          ⎛  b    ⎞           -β⋅c                ⎛  b    ⎞   \n",
       "               ⎜       -β⋅⎜- ─ + c⎟      1 + ℯ                 -β⋅⎜- ─ + c⎟   \n",
       "               ⎜          ⎝  2    ⎠                               ⎝  2    ⎠   \n",
       "               ⎝  1 + ℯ                                   1 + ℯ               \n",
       "\n",
       "                        2 ⎛q⋅(δ⋅q - δ + 1)     q⋅(δ⋅q - δ)     (1 - q)⋅(δ⋅q - \n",
       "                       δ ⋅⎜─────────────── - ─────────────── - ───────────────\n",
       "                          ⎜     -β⋅(b + c)           ⎛b   c⎞           2      \n",
       "                          ⎜1 + ℯ                  -β⋅⎜─ + ─⎟                  \n",
       "                          ⎜                          ⎝2   2⎠                  \n",
       "  (1 - q)⋅(δ⋅q - δ)⎞      ⎝                  1 + ℯ                            \n",
       "- ─────────────────⎟ + ───────────────────────────────────────────────────────\n",
       "        -β⋅(-b + c)⎟                                         N - 1            \n",
       "   1 + ℯ           ⎟                                                          \n",
       "                   ⎟                                                          \n",
       "                   ⎠                                                          \n",
       "\n",
       "δ)   (1 - q)⋅(δ⋅q - δ + 1)⎞\n",
       "── + ─────────────────────⎟\n",
       "                ⎛b   c⎞   ⎟\n",
       "             -β⋅⎜─ + ─⎟   ⎟\n",
       "                ⎝2   2⎠   ⎟\n",
       "        1 + ℯ             ⎠\n",
       "───────────────────────────\n",
       "                           \n",
       "                           \n",
       "                           \n",
       "                           "
      ]
     },
     "execution_count": 145,
     "metadata": {},
     "output_type": "execute_result"
    }
   ],
   "source": [
    "num = sym.fraction(expr)[0].collect(delta - 1).collect(N-1).collect(1 - (1 / (N - 1)))\n",
    "num"
   ]
  },
  {
   "cell_type": "code",
   "execution_count": 185,
   "metadata": {},
   "outputs": [
    {
     "data": {
      "image/png": "[encoded data removed]",
      "text/latex": [
       "$\\displaystyle 0$"
      ],
      "text/plain": [
       "0"
      ]
     },
     "execution_count": 185,
     "metadata": {},
     "output_type": "execute_result"
    }
   ],
   "source": [
    "(num - (numerator1 + numerator2) * delta ** 2).expand().factor()"
   ]
  },
  {
   "cell_type": "code",
   "execution_count": 147,
   "metadata": {},
   "outputs": [
    {
     "data": {
      "image/png": "[encoded data removed]",
      "text/latex": [
       "$\\displaystyle \\delta^{4} \\left(1 - \\frac{1}{N - 1}\\right) \\left(\\frac{q \\left(\\delta q - \\delta + 1\\right)}{e^{\\beta c} + 1} - \\frac{q \\left(\\delta q - \\delta\\right)}{1 + e^{- \\beta \\left(\\frac{b}{2} - c\\right)}} - \\frac{\\left(1 - q\\right) \\left(\\delta q - \\delta\\right)}{1 + e^{- \\beta \\left(b - c\\right)}} + \\frac{\\left(1 - q\\right) \\left(\\delta q - \\delta + 1\\right)}{1 + e^{- \\beta \\left(\\frac{b}{2} - c\\right)}}\\right) + \\frac{\\delta^{2} \\left(- \\frac{q \\left(\\delta q - \\delta\\right)}{1 + e^{- \\beta \\left(- \\frac{b}{2} - \\frac{c}{2}\\right)}} + \\frac{q \\left(\\delta q - \\delta + 1\\right)}{1 + e^{- \\beta \\left(- b - c\\right)}} - \\frac{\\left(1 - q\\right) \\left(\\delta q - \\delta\\right)}{2} + \\frac{\\left(1 - q\\right) \\left(\\delta q - \\delta + 1\\right)}{1 + e^{- \\beta \\left(- \\frac{b}{2} - \\frac{c}{2}\\right)}}\\right)}{N - 1}$"
      ],
      "text/plain": [
       "                                                                              \n",
       "                                                                              \n",
       "                                                                              \n",
       "                                                                              \n",
       "                                                                              \n",
       " 4 ⎛      1  ⎞ ⎛q⋅(δ⋅q - δ + 1)     q⋅(δ⋅q - δ)     (1 - q)⋅(δ⋅q - δ)   (1 - q\n",
       "δ ⋅⎜1 - ─────⎟⋅⎜─────────────── - ─────────────── - ───────────────── + ──────\n",
       "   ⎝    N - 1⎠ ⎜     β⋅c                  ⎛b    ⎞         -β⋅(b - c)          \n",
       "               ⎜    ℯ    + 1           -β⋅⎜─ - c⎟    1 + ℯ                    \n",
       "               ⎜                          ⎝2    ⎠                             \n",
       "               ⎝                  1 + ℯ                                    1 +\n",
       "\n",
       "                    2 ⎛     q⋅(δ⋅q - δ)      q⋅(δ⋅q - δ + 1)    (1 - q)⋅(δ⋅q -\n",
       "                   δ ⋅⎜- ───────────────── + ──────────────── - ──────────────\n",
       "                      ⎜          ⎛  b   c⎞        -β⋅(-b - c)           2     \n",
       "                      ⎜       -β⋅⎜- ─ - ─⎟   1 + ℯ                            \n",
       "                      ⎜          ⎝  2   2⎠                                    \n",
       ")⋅(δ⋅q - δ + 1)⎞      ⎝  1 + ℯ                                                \n",
       "───────────────⎟ + ───────────────────────────────────────────────────────────\n",
       "     ⎛b    ⎞   ⎟                                            N - 1             \n",
       "  -β⋅⎜─ - c⎟   ⎟                                                              \n",
       "     ⎝2    ⎠   ⎟                                                              \n",
       " ℯ             ⎠                                                              \n",
       "\n",
       " δ)   (1 - q)⋅(δ⋅q - δ + 1)⎞\n",
       "─── + ─────────────────────⎟\n",
       "                ⎛  b   c⎞  ⎟\n",
       "             -β⋅⎜- ─ - ─⎟  ⎟\n",
       "                ⎝  2   2⎠  ⎟\n",
       "        1 + ℯ              ⎠\n",
       "────────────────────────────\n",
       "                            \n",
       "                            \n",
       "                            \n",
       "                            "
      ]
     },
     "execution_count": 147,
     "metadata": {},
     "output_type": "execute_result"
    }
   ],
   "source": [
    "den = sym.fraction(expr)[1].collect(delta - 1).collect(N-1).collect(1 - (1 / (N - 1)))\n",
    "den"
   ]
  },
  {
   "cell_type": "code",
   "execution_count": 186,
   "metadata": {},
   "outputs": [
    {
     "data": {
      "image/png": "[encoded data removed]",
      "text/latex": [
       "$\\displaystyle 0$"
      ],
      "text/plain": [
       "0"
      ]
     },
     "execution_count": 186,
     "metadata": {},
     "output_type": "execute_result"
    }
   ],
   "source": [
    "(den - (denominator1 + denominator2) * delta ** 2).expand().factor()"
   ]
  },
  {
   "cell_type": "code",
   "execution_count": 149,
   "metadata": {
    "scrolled": true
   },
   "outputs": [
    {
     "data": {
      "image/png": "[encoded data removed]",
      "text/latex": [
       "$\\displaystyle \\frac{\\frac{\\delta^{2} \\left(N - 2\\right) \\left(\\frac{\\delta \\left(1 - q\\right)^{2}}{1 + e^{- \\beta \\left(- b + c\\right)}} + \\frac{q \\left(\\delta q - \\delta + 1\\right)}{1 + e^{- \\beta c}} + \\frac{\\left(1 - q\\right) \\left(2 \\delta q - \\delta + 1\\right)}{1 + e^{- \\beta \\left(- \\frac{b}{2} + c\\right)}}\\right)}{N - 1} + \\frac{\\frac{\\delta \\left(1 - q\\right)^{2}}{2} + \\frac{q \\left(\\delta q - \\delta + 1\\right)}{1 + e^{- \\beta \\left(b + c\\right)}} + \\frac{\\left(1 - q\\right) \\left(2 \\delta q - \\delta + 1\\right)}{1 + e^{- \\beta \\left(\\frac{b}{2} + \\frac{c}{2}\\right)}}}{N - 1}}{\\frac{\\delta^{2} \\left(N - 2\\right) \\left(\\frac{\\delta \\left(1 - q\\right)^{2}}{1 + e^{- \\beta \\left(b - c\\right)}} + \\frac{q \\left(\\delta q - \\delta + 1\\right)}{e^{\\beta c} + 1} + \\frac{\\left(1 - q\\right) \\left(2 \\delta q - \\delta + 1\\right)}{1 + e^{- \\beta \\left(\\frac{b}{2} - c\\right)}}\\right)}{N - 1} + \\frac{\\frac{\\delta \\left(1 - q\\right)^{2}}{2} + \\frac{q \\left(\\delta q - \\delta + 1\\right)}{1 + e^{- \\beta \\left(- b - c\\right)}} + \\frac{\\left(1 - q\\right) \\left(2 \\delta q - \\delta + 1\\right)}{1 + e^{- \\beta \\left(- \\frac{b}{2} - \\frac{c}{2}\\right)}}}{N - 1}}$"
      ],
      "text/plain": [
       "           ⎛            2                                               ⎞     \n",
       " 2         ⎜   δ⋅(1 - q)       q⋅(δ⋅q - δ + 1)   (1 - q)⋅(2⋅δ⋅q - δ + 1)⎟   δ⋅\n",
       "δ ⋅(N - 2)⋅⎜──────────────── + ─────────────── + ───────────────────────⎟   ──\n",
       "           ⎜     -β⋅(-b + c)           -β⋅c                 ⎛  b    ⎞   ⎟     \n",
       "           ⎜1 + ℯ                 1 + ℯ                  -β⋅⎜- ─ + c⎟   ⎟     \n",
       "           ⎜                                                ⎝  2    ⎠   ⎟     \n",
       "           ⎝                                        1 + ℯ               ⎠     \n",
       "───────────────────────────────────────────────────────────────────────── + ──\n",
       "                                  N - 1                                       \n",
       "──────────────────────────────────────────────────────────────────────────────\n",
       "           ⎛            2                                              ⎞      \n",
       " 2         ⎜   δ⋅(1 - q)      q⋅(δ⋅q - δ + 1)   (1 - q)⋅(2⋅δ⋅q - δ + 1)⎟   δ⋅(\n",
       "δ ⋅(N - 2)⋅⎜─────────────── + ─────────────── + ───────────────────────⎟   ───\n",
       "           ⎜     -β⋅(b - c)        β⋅c                      ⎛b    ⎞    ⎟      \n",
       "           ⎜1 + ℯ                 ℯ    + 1               -β⋅⎜─ - c⎟    ⎟      \n",
       "           ⎜                                                ⎝2    ⎠    ⎟      \n",
       "           ⎝                                        1 + ℯ              ⎠      \n",
       "──────────────────────────────────────────────────────────────────────── + ───\n",
       "                                 N - 1                                        \n",
       "\n",
       "       2                                            \n",
       "(1 - q)    q⋅(δ⋅q - δ + 1)   (1 - q)⋅(2⋅δ⋅q - δ + 1)\n",
       "──────── + ─────────────── + ───────────────────────\n",
       "  2             -β⋅(b + c)               ⎛b   c⎞    \n",
       "           1 + ℯ                      -β⋅⎜─ + ─⎟    \n",
       "                                         ⎝2   2⎠    \n",
       "                                 1 + ℯ              \n",
       "────────────────────────────────────────────────────\n",
       "                      N - 1                         \n",
       "────────────────────────────────────────────────────\n",
       "      2                                             \n",
       "1 - q)    q⋅(δ⋅q - δ + 1)    (1 - q)⋅(2⋅δ⋅q - δ + 1)\n",
       "─────── + ──────────────── + ───────────────────────\n",
       " 2             -β⋅(-b - c)              ⎛  b   c⎞   \n",
       "          1 + ℯ                      -β⋅⎜- ─ - ─⎟   \n",
       "                                        ⎝  2   2⎠   \n",
       "                                1 + ℯ               \n",
       "────────────────────────────────────────────────────\n",
       "                      N - 1                         "
      ]
     },
     "execution_count": 149,
     "metadata": {},
     "output_type": "execute_result"
    }
   ],
   "source": [
    "(numerator1 + numerator2) / (denominator1 + denominator2)"
   ]
  },
  {
   "cell_type": "code",
   "execution_count": 44,
   "metadata": {},
   "outputs": [
    {
     "data": {
      "image/png": "[encoded data removed]",
      "text/latex": [
       "$\\displaystyle \\frac{\\frac{\\delta \\left(1 - q\\right)^{2}}{1 + e^{- \\beta \\left(- b + c\\right)}} + \\frac{q \\left(\\delta q - \\delta + 1\\right)}{1 + e^{- \\beta c}} + \\frac{\\left(1 - q\\right) \\left(2 \\delta q - \\delta + 1\\right)}{1 + e^{- \\beta \\left(- \\frac{b}{2} + c\\right)}}}{\\frac{\\delta \\left(1 - q\\right)^{2}}{1 + e^{- \\beta \\left(b - c\\right)}} + \\frac{q \\left(\\delta q - \\delta + 1\\right)}{e^{\\beta c} + 1} + \\frac{\\left(1 - q\\right) \\left(2 \\delta q - \\delta + 1\\right)}{1 + e^{- \\beta \\left(\\frac{b}{2} - c\\right)}}}$"
      ],
      "text/plain": [
       "            2                                               \n",
       "   δ⋅(1 - q)       q⋅(δ⋅q - δ + 1)   (1 - q)⋅(2⋅δ⋅q - δ + 1)\n",
       "──────────────── + ─────────────── + ───────────────────────\n",
       "     -β⋅(-b + c)           -β⋅c                 ⎛  b    ⎞   \n",
       "1 + ℯ                 1 + ℯ                  -β⋅⎜- ─ + c⎟   \n",
       "                                                ⎝  2    ⎠   \n",
       "                                        1 + ℯ               \n",
       "────────────────────────────────────────────────────────────\n",
       "            2                                               \n",
       "   δ⋅(1 - q)      q⋅(δ⋅q - δ + 1)   (1 - q)⋅(2⋅δ⋅q - δ + 1) \n",
       "─────────────── + ─────────────── + ─────────────────────── \n",
       "     -β⋅(b - c)        β⋅c                      ⎛b    ⎞     \n",
       "1 + ℯ                 ℯ    + 1               -β⋅⎜─ - c⎟     \n",
       "                                                ⎝2    ⎠     \n",
       "                                        1 + ℯ               "
      ]
     },
     "execution_count": 44,
     "metadata": {},
     "output_type": "execute_result"
    }
   ],
   "source": [
    "numerator1 / denominator1"
   ]
  },
  {
   "cell_type": "code",
   "execution_count": 45,
   "metadata": {},
   "outputs": [
    {
     "data": {
      "image/png": "[encoded data removed]",
      "text/latex": [
       "$\\displaystyle \\frac{\\frac{\\delta \\left(1 - q\\right)^{2}}{e^{\\beta} + 1} + \\frac{q \\left(\\delta q - \\delta + 1\\right)}{1 + e^{- \\beta}} + \\frac{\\left(1 - q\\right) \\left(2 \\delta q - \\delta + 1\\right)}{2}}{\\frac{\\delta \\left(1 - q\\right)^{2}}{1 + e^{- \\beta}} + \\frac{q \\left(\\delta q - \\delta + 1\\right)}{e^{\\beta} + 1} + \\frac{\\left(1 - q\\right) \\left(2 \\delta q - \\delta + 1\\right)}{2}}$"
      ],
      "text/plain": [
       "         2                                            \n",
       "δ⋅(1 - q)    q⋅(δ⋅q - δ + 1)   (1 - q)⋅(2⋅δ⋅q - δ + 1)\n",
       "────────── + ─────────────── + ───────────────────────\n",
       "   β                  -β                  2           \n",
       "  ℯ  + 1         1 + ℯ                                \n",
       "──────────────────────────────────────────────────────\n",
       "         2                                            \n",
       "δ⋅(1 - q)    q⋅(δ⋅q - δ + 1)   (1 - q)⋅(2⋅δ⋅q - δ + 1)\n",
       "────────── + ─────────────── + ───────────────────────\n",
       "      -β           β                      2           \n",
       " 1 + ℯ            ℯ  + 1                              "
      ]
     },
     "execution_count": 45,
     "metadata": {},
     "output_type": "execute_result"
    }
   ],
   "source": [
    "(numerator1 / denominator1).subs({c:1, b:2})"
   ]
  },
  {
   "cell_type": "code",
   "execution_count": 46,
   "metadata": {},
   "outputs": [
    {
     "data": {
      "image/png": "[encoded data removed]",
      "text/latex": [
       "$\\displaystyle \\delta q$"
      ],
      "text/plain": [
       "δ⋅q"
      ]
     },
     "execution_count": 46,
     "metadata": {},
     "output_type": "execute_result"
    }
   ],
   "source": [
    "sym.limit(q * delta, beta, sym.oo)"
   ]
  },
  {
   "cell_type": "code",
   "execution_count": 192,
   "metadata": {},
   "outputs": [
    {
     "data": {
      "image/png": "[encoded data removed]",
      "text/latex": [
       "$\\displaystyle \\frac{- \\delta q^{2} + 2 \\delta q - \\delta + 1}{\\delta \\left(q^{2} - 2 q + 1\\right)}$"
      ],
      "text/plain": [
       "     2                \n",
       "- δ⋅q  + 2⋅δ⋅q - δ + 1\n",
       "──────────────────────\n",
       "     ⎛ 2          ⎞   \n",
       "   δ⋅⎝q  - 2⋅q + 1⎠   "
      ]
     },
     "execution_count": 192,
     "metadata": {},
     "output_type": "execute_result"
    }
   ],
   "source": [
    "expr = sym.limit((numerator1 / denominator1).subs({c:2, b:3}), beta, sym.oo)\n",
    "\n",
    "expr.simplify()"
   ]
  },
  {
   "cell_type": "code",
   "execution_count": 193,
   "metadata": {},
   "outputs": [
    {
     "data": {
      "image/png": "[encoded data removed]",
      "text/latex": [
       "$\\displaystyle - \\frac{\\delta q^{2} - 2 \\delta q + \\delta - 1}{\\delta \\left(q - 1\\right)^{2}}$"
      ],
      "text/plain": [
       " ⎛   2                ⎞ \n",
       "-⎝δ⋅q  - 2⋅δ⋅q + δ - 1⎠ \n",
       "────────────────────────\n",
       "                2       \n",
       "       δ⋅(q - 1)        "
      ]
     },
     "execution_count": 193,
     "metadata": {},
     "output_type": "execute_result"
    }
   ],
   "source": [
    "expr = expr.factor()\n",
    "expr"
   ]
  },
  {
   "cell_type": "code",
   "execution_count": 195,
   "metadata": {},
   "outputs": [
    {
     "name": "stdout",
     "output_type": "stream",
     "text": [
      "- \\frac{\\delta q^{2} - 2 \\delta q + \\delta - 1}{\\delta \\left(q - 1\\right)^{2}}\n"
     ]
    }
   ],
   "source": [
    "print(sym.latex(expr))"
   ]
  },
  {
   "cell_type": "code",
   "execution_count": 194,
   "metadata": {},
   "outputs": [
    {
     "data": {
      "image/png": "[encoded data removed]",
      "text/latex": [
       "$\\displaystyle \\left[ 1 - \\frac{\\sqrt{2}}{2 \\sqrt{\\delta}}, \\  1 + \\frac{\\sqrt{2}}{2 \\sqrt{\\delta}}\\right]$"
      ],
      "text/plain": [
       "⎡     √2        √2 ⎤\n",
       "⎢1 - ────, 1 + ────⎥\n",
       "⎣    2⋅√δ      2⋅√δ⎦"
      ]
     },
     "execution_count": 194,
     "metadata": {},
     "output_type": "execute_result"
    }
   ],
   "source": [
    "sym.solve(expr - 1, q)"
   ]
  },
  {
   "cell_type": "code",
   "execution_count": 49,
   "metadata": {},
   "outputs": [
    {
     "data": {
      "image/png": "[encoded data removed]",
      "text/latex": [
       "$\\displaystyle \\frac{q \\left(\\delta q - \\delta + 1\\right) + \\frac{\\left(1 - q\\right) \\left(2 \\delta q - \\delta + 1\\right)}{2}}{\\delta \\left(1 - q\\right)^{2} + \\frac{\\left(1 - q\\right) \\left(2 \\delta q - \\delta + 1\\right)}{2}}$"
      ],
      "text/plain": [
       "                  (1 - q)⋅(2⋅δ⋅q - δ + 1)\n",
       "q⋅(δ⋅q - δ + 1) + ───────────────────────\n",
       "                             2           \n",
       "─────────────────────────────────────────\n",
       "            2   (1 - q)⋅(2⋅δ⋅q - δ + 1)  \n",
       "   δ⋅(1 - q)  + ───────────────────────  \n",
       "                           2             "
      ]
     },
     "execution_count": 49,
     "metadata": {},
     "output_type": "execute_result"
    }
   ],
   "source": [
    "wrt_expr = (q * (delta * q - delta + 1) + (((1 - q) * (2 * delta * q - delta + 1)) / 2)) / (delta * (1 - q) ** 2 + (((1 - q) * (2 * delta * q - delta + 1)) / 2))\n",
    "wrt_expr"
   ]
  },
  {
   "cell_type": "code",
   "execution_count": 50,
   "metadata": {},
   "outputs": [
    {
     "data": {
      "image/png": "[encoded data removed]",
      "text/latex": [
       "$\\displaystyle - \\frac{\\delta q - \\delta + q + 1}{\\left(\\delta + 1\\right) \\left(q - 1\\right)}$"
      ],
      "text/plain": [
       "-(δ⋅q - δ + q + 1) \n",
       "───────────────────\n",
       "  (δ + 1)⋅(q - 1)  "
      ]
     },
     "execution_count": 50,
     "metadata": {},
     "output_type": "execute_result"
    }
   ],
   "source": [
    "wrt_expr.factor()"
   ]
  },
  {
   "cell_type": "code",
   "execution_count": 51,
   "metadata": {},
   "outputs": [
    {
     "data": {
      "image/png": "[encoded data removed]",
      "text/latex": [
       "$\\displaystyle 0$"
      ],
      "text/plain": [
       "0"
      ]
     },
     "execution_count": 51,
     "metadata": {},
     "output_type": "execute_result"
    }
   ],
   "source": [
    "(expr - wrt_expr).factor()"
   ]
  },
  {
   "cell_type": "code",
   "execution_count": 52,
   "metadata": {
    "scrolled": true
   },
   "outputs": [
    {
     "name": "stdout",
     "output_type": "stream",
     "text": [
      "- \\frac{\\delta q - \\delta + q + 1}{\\left(\\delta + 1\\right) \\left(q - 1\\right)}\n"
     ]
    }
   ],
   "source": [
    "print(sym.latex(wrt_expr.factor()))"
   ]
  },
  {
   "cell_type": "code",
   "execution_count": 55,
   "metadata": {},
   "outputs": [],
   "source": [
    "# wrt_expr = (delta * q - delta + 1) ** 2 / (2 * delta * (1 - q) *(delta * q - delta + 1) + delta ** 2 * (1 - q) ** 2)"
   ]
  },
  {
   "cell_type": "code",
   "execution_count": 56,
   "metadata": {},
   "outputs": [
    {
     "data": {
      "image/png": "[encoded data removed]",
      "text/latex": [
       "$\\displaystyle \\frac{\\delta}{\\delta + 1}$"
      ],
      "text/plain": [
       "  δ  \n",
       "─────\n",
       "δ + 1"
      ]
     },
     "execution_count": 56,
     "metadata": {},
     "output_type": "execute_result"
    }
   ],
   "source": [
    "sym.solve((expr - 1).factor(), q)[0]"
   ]
  },
  {
   "cell_type": "code",
   "execution_count": 54,
   "metadata": {},
   "outputs": [
    {
     "name": "stdout",
     "output_type": "stream",
     "text": [
      "\\left[ \\frac{\\delta}{\\delta + 1}\\right]\n"
     ]
    }
   ],
   "source": [
    "print(sym.latex(sym.solve((expr - 1).factor(), q)))"
   ]
  },
  {
   "cell_type": "code",
   "execution_count": 55,
   "metadata": {},
   "outputs": [
    {
     "name": "stdout",
     "output_type": "stream",
     "text": [
      "\\frac{\\delta}{\\delta + 1}\n"
     ]
    }
   ],
   "source": [
    "print(sym.latex(sym.solve((expr - 1).factor(), q)[0]))"
   ]
  },
  {
   "cell_type": "code",
   "execution_count": 56,
   "metadata": {},
   "outputs": [
    {
     "data": {
      "image/png": "[encoded data removed]",
      "text/latex": [
       "$\\displaystyle 0.7071067811865476$"
      ],
      "text/plain": [
       "0.7071067811865476"
      ]
     },
     "execution_count": 56,
     "metadata": {},
     "output_type": "execute_result"
    }
   ],
   "source": [
    "np.sqrt(2) / 2"
   ]
  },
  {
   "cell_type": "markdown",
   "metadata": {},
   "source": [
    "### Two interactions"
   ]
  },
  {
   "cell_type": "code",
   "execution_count": 249,
   "metadata": {},
   "outputs": [],
   "source": [
    "vMM = ss_last_round(alld, alld, delta)\n",
    "vMR = ss_last_round(alld, gtft, delta)\n",
    "vRM = ss_last_round(gtft, alld, delta)\n",
    "vRR = ss_last_round(gtft, gtft, delta)"
   ]
  },
  {
   "cell_type": "code",
   "execution_count": 250,
   "metadata": {},
   "outputs": [],
   "source": [
    "vMM = [v.factor() for v in vMM]\n",
    "vMR = [v.factor() for v in vMR]\n",
    "vRM = [v.factor() for v in vRM]\n",
    "vRR = [v.factor() for v in vRR]"
   ]
  },
  {
   "cell_type": "code",
   "execution_count": 252,
   "metadata": {},
   "outputs": [],
   "source": [
    "u = payoffs\n",
    "\n",
    "Us = sym.zeros(16, 16)\n",
    "\n",
    "for i in range(16):\n",
    "    for j in range(16):\n",
    "        Us[i, j] = (u[int((j) / 4)] + u[(j) % 4]) - (u[int((i) / 4)] + u[(i) % 4])\n",
    "\n",
    "Us = Us / 2\n",
    "\n",
    "rho = sym.zeros(16, 16);\n",
    "\n",
    "for i in range(16):\n",
    "    for j in range(16):\n",
    "        rho[i, j] = 1 / (1 + sym.exp(-beta * Us[i, j]))"
   ]
  },
  {
   "cell_type": "code",
   "execution_count": 253,
   "metadata": {},
   "outputs": [],
   "source": [
    "x = sym.zeros(16, 16)\n",
    "\n",
    "k = 1\n",
    "\n",
    "for i in range(16):\n",
    "    for j in range(16):\n",
    "\n",
    "        p_11 = int(i / 4)\n",
    "        p_12 = i % 4\n",
    "        q_21 = int(j / 4)\n",
    "        q_22 = j % 4\n",
    "        \n",
    "    \n",
    "        learner_role_model = 1 / (N - 1) * vRM[p_11] * int((p_11==0 and q_21==0) or (p_11==1 and q_21==2) or (p_11==2 and q_21==1) or (p_11==3 and q_21==3)) * (\n",
    "            1 / (N - 2) / (N - 3) * ((k - 1) * (k - 2) * vRM[p_12] * vMM[q_22] + (k - 1) * (N - k - 1) * vRM[p_12] * vMR[q_22] + (N - k - 1) * (k - 1) * vRR[p_12] * vMM[q_22] + (N - k - 1) * (N - k - 2) * vRR[p_12] * vMR[q_22])\n",
    "            )\n",
    "\n",
    "        mutant_mutant = (1 - 1 / (N - 1)) / (N - 2) / (N - 3) * ((k-1) * (k-2) * vRM[p_11] * vMM[q_21]) * ((1 - 1 / (N - 2)) / (N - 3) / (N - 4) * ((k-2)*(k-3)*vRM[p_12]*vMM[q_22] + (k-2)*(N-k-1)*vRR[p_12]*vMM[q_22] + (N-k-1)*(k-2)*vRM[p_12]*vMR[q_22] + (N-k-1)*(N-k-2)*vRR[p_12]*vMR[q_22]) + \n",
    "        1 / (N - 2) * vRM[p_12] * int((p_12==0 and q_22==0) or (p_12==1 and q_22==2) or (p_12==2 and q_22==1) or (p_12==3 and q_22==3)))\n",
    "\n",
    "        mutant_resident = (1 - 1 / (N - 1)) / (N - 2) / (N - 3) * ((k-1) * (N-k-1) * vRM[p_11] * vMR[q_21]) * ((1 - 1 / ( N - 2)) / (N - 3) / (N - 4) * ((k-1)*(k-3)*vRM[p_12]*vMM[q_22] + (k-1)*(N-k-1)*vRR[p_12]*vMM[q_22] + (N-k-2)*(k-2)*vRM[p_12]*vMR[q_22] + (N-k-2)*(N-k-2)*vRR[p_12]*vMR[q_22]) + \n",
    "        1 / (N - 2) * vRM[p_12] * int((p_12==0 and q_22==0) or (p_12==1 and q_22==2) or (p_12==2 and q_22==1) or (p_12==3 and q_22==3)))\n",
    "\n",
    "        resident_mutant = (1 - 1 / (N - 1)) / (N - 2) / (N - 3) * ((N-k-1) * (k-1) * vRR[p_11] * vMM[q_21])  *  ((1 - 1 / ( N - 2)) / (N - 3) / (N - 4) * ((k-2)*(k-2)*vRM[p_12]*vMM[q_22] + (k-2)*(N-k-2)*vRR[p_12]*vMM[q_22] + (N-k-1)*(k-1)*vRM[p_12]*vMR[q_22] + (N-k-1)*(N-k-3)*vRR[p_12]*vMR[q_22]) + \n",
    "        1 / (N - 2) * vRM[p_12] * int((p_12==0 and q_22==0) or (p_12==1 and q_22==2) or (p_12==2 and q_22==1) or (p_12==3 and q_22==3)))\n",
    "\n",
    "        resident_resident = (1 - 1 / (N - 1)) / (N - 2) / (N - 3) * (N-k-1) * (N-k-2) * vRR[p_11] * vMR[q_21] * ((1 - 1 / ( N - 2)) / (N - 3) / (N - 4) * ((k-1)*(k-2)*vRM[p_12]*vMM[q_22] + (k-1)*(N-k-2)*vRR[p_12]*vMM[q_22] + (N-k-2)*(k-1)*vRM[p_12]*vMR[q_22] + (N-k-2)*(N-k-3)*vRR[p_12]*vMR[q_22]) + \n",
    "        1 / (N - 2) * vRM[p_12] * int((p_12==0 and q_22==0) or (p_12==1 and q_22==2) or (p_12==2 and q_22==1) or (p_12==3 and q_22==3)))\n",
    "\n",
    "\n",
    "        x[i, j] = (learner_role_model + (mutant_mutant + mutant_resident + resident_mutant + resident_resident)).simplify()"
   ]
  },
  {
   "cell_type": "code",
   "execution_count": 254,
   "metadata": {},
   "outputs": [
    {
     "data": {
      "image/png": "[encoded data removed]",
      "text/latex": [
       "$\\displaystyle \\left[\\begin{array}{cccccccccccccccc}0 & 0 & 0 & 0 & 0 & 0 & 0 & 0 & 0 & 0 & \\frac{\\left(1.0 N - 3.0\\right) \\left(\\delta q - \\delta + 1\\right)^{2}}{N - 1} & - \\frac{1.0 \\delta \\left(N - 3\\right) \\left(q - 1\\right) \\left(\\delta q - \\delta + 1\\right)}{N - 1} & 0 & 0 & - \\frac{1.0 \\delta \\left(N - 3\\right) \\left(q - 1\\right) \\left(\\delta q - \\delta + 1\\right)}{N - 1} & \\frac{\\delta^{2} \\left(1.0 N - 3.0\\right) \\left(q - 1\\right)^{2}}{N - 1}\\\\0 & 0 & 0 & 0 & 0 & 0 & 0 & 0 & 0 & 0 & \\frac{1.0 \\left(\\delta q - \\delta + 1\\right)^{2}}{N - 1} & 0 & 0 & 0 & - \\frac{1.0 \\delta \\left(q - 1\\right) \\left(\\delta q - \\delta + 1\\right)}{N - 1} & 0\\\\0 & 0 & 0 & 0 & 0 & 0 & 0 & 0 & 0 & 0 & 0 & 0 & 0 & 0 & 0 & 0\\\\0 & 0 & 0 & 0 & 0 & 0 & 0 & 0 & 0 & 0 & 0 & - \\frac{1.0 \\delta \\left(q - 1\\right) \\left(\\delta q - \\delta + 1\\right)}{N - 1} & 0 & 0 & 0 & \\frac{1.0 \\delta^{2} \\left(q - 1\\right)^{2}}{N - 1}\\\\0 & 0 & 0 & 0 & 0 & 0 & 0 & 0 & 0 & 0 & \\frac{1.0 \\left(\\delta q - \\delta + 1\\right)^{2}}{N - 1} & - \\frac{1.0 \\delta \\left(q - 1\\right) \\left(\\delta q - \\delta + 1\\right)}{N - 1} & 0 & 0 & 0 & 0\\\\0 & 0 & 0 & 0 & 0 & 0 & 0 & 0 & 0 & 0 & 0 & 0 & 0 & 0 & 0 & 0\\\\0 & 0 & 0 & 0 & 0 & 0 & 0 & 0 & 0 & 0 & 0 & 0 & 0 & 0 & 0 & 0\\\\0 & 0 & 0 & 0 & 0 & 0 & 0 & 0 & 0 & 0 & 0 & 0 & 0 & 0 & 0 & 0\\\\0 & 0 & 0 & 0 & 0 & 0 & 0 & 0 & 0 & 0 & 0 & 0 & 0 & 0 & 0 & 0\\\\0 & 0 & 0 & 0 & 0 & 0 & 0 & 0 & 0 & 0 & 0 & 0 & 0 & 0 & 0 & 0\\\\0 & 0 & 0 & 0 & 0 & 0 & 0 & 0 & 0 & 0 & 0 & 0 & 0 & 0 & 0 & 0\\\\0 & 0 & 0 & 0 & 0 & 0 & 0 & 0 & 0 & 0 & 0 & 0 & 0 & 0 & 0 & 0\\\\0 & 0 & 0 & 0 & 0 & 0 & 0 & 0 & 0 & 0 & 0 & 0 & 0 & 0 & - \\frac{1.0 \\delta \\left(q - 1\\right) \\left(\\delta q - \\delta + 1\\right)}{N - 1} & \\frac{1.0 \\delta^{2} \\left(q - 1\\right)^{2}}{N - 1}\\\\0 & 0 & 0 & 0 & 0 & 0 & 0 & 0 & 0 & 0 & 0 & 0 & 0 & 0 & 0 & 0\\\\0 & 0 & 0 & 0 & 0 & 0 & 0 & 0 & 0 & 0 & 0 & 0 & 0 & 0 & 0 & 0\\\\0 & 0 & 0 & 0 & 0 & 0 & 0 & 0 & 0 & 0 & 0 & 0 & 0 & 0 & 0 & 0\\end{array}\\right]$"
      ],
      "text/plain": [
       "⎡                                                         2                   \n",
       "⎢                              (1.0⋅N - 3.0)⋅(δ⋅q - δ + 1)   -1.0⋅δ⋅(N - 3)⋅(q\n",
       "⎢0  0  0  0  0  0  0  0  0  0  ────────────────────────────  ─────────────────\n",
       "⎢                                         N - 1                              N\n",
       "⎢                                                                             \n",
       "⎢                                                    2                        \n",
       "⎢                                   1.0⋅(δ⋅q - δ + 1)                         \n",
       "⎢0  0  0  0  0  0  0  0  0  0       ──────────────────                        \n",
       "⎢                                         N - 1                               \n",
       "⎢                                                                             \n",
       "⎢0  0  0  0  0  0  0  0  0  0               0                                 \n",
       "⎢                                                                             \n",
       "⎢                                                                             \n",
       "⎢                                                                -1.0⋅δ⋅(q - 1\n",
       "⎢0  0  0  0  0  0  0  0  0  0               0                    ─────────────\n",
       "⎢                                                                            N\n",
       "⎢                                                                             \n",
       "⎢                                                    2                        \n",
       "⎢                                   1.0⋅(δ⋅q - δ + 1)            -1.0⋅δ⋅(q - 1\n",
       "⎢0  0  0  0  0  0  0  0  0  0       ──────────────────           ─────────────\n",
       "⎢                                         N - 1                              N\n",
       "⎢                                                                             \n",
       "⎢0  0  0  0  0  0  0  0  0  0               0                                 \n",
       "⎢                                                                             \n",
       "⎢0  0  0  0  0  0  0  0  0  0               0                                 \n",
       "⎢                                                                             \n",
       "⎢0  0  0  0  0  0  0  0  0  0               0                                 \n",
       "⎢                                                                             \n",
       "⎢0  0  0  0  0  0  0  0  0  0               0                                 \n",
       "⎢                                                                             \n",
       "⎢0  0  0  0  0  0  0  0  0  0               0                                 \n",
       "⎢                                                                             \n",
       "⎢0  0  0  0  0  0  0  0  0  0               0                                 \n",
       "⎢                                                                             \n",
       "⎢0  0  0  0  0  0  0  0  0  0               0                                 \n",
       "⎢                                                                             \n",
       "⎢                                                                             \n",
       "⎢                                                                             \n",
       "⎢0  0  0  0  0  0  0  0  0  0               0                                 \n",
       "⎢                                                                             \n",
       "⎢                                                                             \n",
       "⎢0  0  0  0  0  0  0  0  0  0               0                                 \n",
       "⎢                                                                             \n",
       "⎢0  0  0  0  0  0  0  0  0  0               0                                 \n",
       "⎢                                                                             \n",
       "⎣0  0  0  0  0  0  0  0  0  0               0                                 \n",
       "\n",
       "                                                                    2         \n",
       " - 1)⋅(δ⋅q - δ + 1)         -1.0⋅δ⋅(N - 3)⋅(q - 1)⋅(δ⋅q - δ + 1)   δ ⋅(1.0⋅N -\n",
       "────────────────────  0  0  ─────────────────────────────────────  ───────────\n",
       " - 1                                        N - 1                            N\n",
       "                                                                              \n",
       "                                                                              \n",
       "                                -1.0⋅δ⋅(q - 1)⋅(δ⋅q - δ + 1)                  \n",
       " 0                    0  0      ─────────────────────────────                 \n",
       "                                            N - 1                             \n",
       "                                                                              \n",
       " 0                    0  0                    0                               \n",
       "                                                                              \n",
       "                                                                             2\n",
       ")⋅(δ⋅q - δ + 1)                                                         1.0⋅δ \n",
       "────────────────      0  0                    0                         ──────\n",
       " - 1                                                                         N\n",
       "                                                                              \n",
       "                                                                              \n",
       ")⋅(δ⋅q - δ + 1)                                                               \n",
       "────────────────      0  0                    0                               \n",
       " - 1                                                                          \n",
       "                                                                              \n",
       " 0                    0  0                    0                               \n",
       "                                                                              \n",
       " 0                    0  0                    0                               \n",
       "                                                                              \n",
       " 0                    0  0                    0                               \n",
       "                                                                              \n",
       " 0                    0  0                    0                               \n",
       "                                                                              \n",
       " 0                    0  0                    0                               \n",
       "                                                                              \n",
       " 0                    0  0                    0                               \n",
       "                                                                              \n",
       " 0                    0  0                    0                               \n",
       "                                                                              \n",
       "                                                                             2\n",
       "                                -1.0⋅δ⋅(q - 1)⋅(δ⋅q - δ + 1)            1.0⋅δ \n",
       " 0                    0  0      ─────────────────────────────           ──────\n",
       "                                            N - 1                            N\n",
       "                                                                              \n",
       " 0                    0  0                    0                               \n",
       "                                                                              \n",
       " 0                    0  0                    0                               \n",
       "                                                                              \n",
       " 0                    0  0                    0                               \n",
       "\n",
       "             2⎤\n",
       " 3.0)⋅(q - 1) ⎥\n",
       "──────────────⎥\n",
       " - 1          ⎥\n",
       "              ⎥\n",
       "              ⎥\n",
       "              ⎥\n",
       " 0            ⎥\n",
       "              ⎥\n",
       "              ⎥\n",
       " 0            ⎥\n",
       "              ⎥\n",
       "        2     ⎥\n",
       "⋅(q - 1)      ⎥\n",
       "─────────     ⎥\n",
       " - 1          ⎥\n",
       "              ⎥\n",
       "              ⎥\n",
       "              ⎥\n",
       " 0            ⎥\n",
       "              ⎥\n",
       "              ⎥\n",
       " 0            ⎥\n",
       "              ⎥\n",
       " 0            ⎥\n",
       "              ⎥\n",
       " 0            ⎥\n",
       "              ⎥\n",
       " 0            ⎥\n",
       "              ⎥\n",
       " 0            ⎥\n",
       "              ⎥\n",
       " 0            ⎥\n",
       "              ⎥\n",
       " 0            ⎥\n",
       "              ⎥\n",
       "        2     ⎥\n",
       "⋅(q - 1)      ⎥\n",
       "─────────     ⎥\n",
       " - 1          ⎥\n",
       "              ⎥\n",
       " 0            ⎥\n",
       "              ⎥\n",
       " 0            ⎥\n",
       "              ⎥\n",
       " 0            ⎦"
      ]
     },
     "execution_count": 254,
     "metadata": {},
     "output_type": "execute_result"
    }
   ],
   "source": [
    "x"
   ]
  },
  {
   "cell_type": "code",
   "execution_count": 200,
   "metadata": {},
   "outputs": [],
   "source": [
    "expr = (sum(sum(np.multiply(x, rho))) / sum(sum(np.multiply(x, rho.T))))"
   ]
  },
  {
   "cell_type": "code",
   "execution_count": 201,
   "metadata": {},
   "outputs": [
    {
     "data": {
      "image/png": "[encoded data removed]",
      "text/latex": [
       "$\\displaystyle \\frac{\\frac{2.0 \\delta^{2} \\left(q - 1\\right)^{2}}{\\left(1 + e^{- \\beta \\left(- \\frac{b}{2} + \\frac{c}{2}\\right)}\\right) \\left(N - 1\\right)} + \\frac{\\delta^{2} \\left(1.0 N - 3.0\\right) \\left(q - 1\\right)^{2}}{\\left(1 + e^{- \\beta \\left(- b + c\\right)}\\right) \\left(N - 1\\right)} - \\frac{2.0 \\delta \\left(N - 3\\right) \\left(q - 1\\right) \\left(\\delta q - \\delta + 1\\right)}{\\left(1 + e^{- \\beta \\left(- \\frac{b}{2} + c\\right)}\\right) \\left(N - 1\\right)} - \\frac{2.0 \\delta \\left(q - 1\\right) \\left(\\delta q - \\delta + 1\\right)}{\\left(1 + e^{- \\frac{\\beta c}{2}}\\right) \\left(N - 1\\right)} - \\frac{2.0 \\delta \\left(q - 1\\right) \\left(\\delta q - \\delta + 1\\right)}{\\left(1 + e^{- \\beta c}\\right) \\left(N - 1\\right)} + \\frac{2.0 \\left(\\delta q - \\delta + 1\\right)^{2}}{\\left(1 + e^{- \\beta \\left(\\frac{b}{2} + c\\right)}\\right) \\left(N - 1\\right)} + \\frac{\\left(1.0 N - 3.0\\right) \\left(\\delta q - \\delta + 1\\right)^{2}}{\\left(1 + e^{- \\beta c}\\right) \\left(N - 1\\right)}}{\\frac{\\delta^{2} \\left(1.0 N - 3.0\\right) \\left(q - 1\\right)^{2}}{\\left(1 + e^{- \\beta \\left(b - c\\right)}\\right) \\left(N - 1\\right)} + \\frac{2.0 \\delta^{2} \\left(q - 1\\right)^{2}}{\\left(1 + e^{- \\beta \\left(\\frac{b}{2} - \\frac{c}{2}\\right)}\\right) \\left(N - 1\\right)} - \\frac{2.0 \\delta \\left(q - 1\\right) \\left(\\delta q - \\delta + 1\\right)}{\\left(N - 1\\right) \\left(e^{\\beta c} + 1\\right)} - \\frac{2.0 \\delta \\left(q - 1\\right) \\left(\\delta q - \\delta + 1\\right)}{\\left(N - 1\\right) \\left(e^{\\frac{\\beta c}{2}} + 1\\right)} - \\frac{2.0 \\delta \\left(N - 3\\right) \\left(q - 1\\right) \\left(\\delta q - \\delta + 1\\right)}{\\left(1 + e^{- \\beta \\left(\\frac{b}{2} - c\\right)}\\right) \\left(N - 1\\right)} + \\frac{\\left(1.0 N - 3.0\\right) \\left(\\delta q - \\delta + 1\\right)^{2}}{\\left(N - 1\\right) \\left(e^{\\beta c} + 1\\right)} + \\frac{2.0 \\left(\\delta q - \\delta + 1\\right)^{2}}{\\left(1 + e^{- \\beta \\left(- \\frac{b}{2} - c\\right)}\\right) \\left(N - 1\\right)}}$"
      ],
      "text/plain": [
       "           2        2          2                      2                       \n",
       "      2.0⋅δ ⋅(q - 1)          δ ⋅(1.0⋅N - 3.0)⋅(q - 1)     2.0⋅δ⋅(N - 3)⋅(q - \n",
       "─────────────────────────── + ────────────────────────── - ───────────────────\n",
       "⎛        ⎛  b   c⎞⎞           ⎛     -β⋅(-b + c)⎞               ⎛        ⎛  b  \n",
       "⎜     -β⋅⎜- ─ + ─⎟⎟           ⎝1 + ℯ           ⎠⋅(N - 1)       ⎜     -β⋅⎜- ─ +\n",
       "⎜        ⎝  2   2⎠⎟                                            ⎜        ⎝  2  \n",
       "⎝1 + ℯ            ⎠⋅(N - 1)                                    ⎝1 + ℯ         \n",
       "──────────────────────────────────────────────────────────────────────────────\n",
       "  2                      2             2        2                             \n",
       " δ ⋅(1.0⋅N - 3.0)⋅(q - 1)         2.0⋅δ ⋅(q - 1)         2.0⋅δ⋅(q - 1)⋅(δ⋅q - \n",
       " ───────────────────────── + ───────────────────────── - ─────────────────────\n",
       " ⎛     -β⋅(b - c)⎞           ⎛        ⎛b   c⎞⎞                        ⎛ β⋅c   \n",
       " ⎝1 + ℯ          ⎠⋅(N - 1)   ⎜     -β⋅⎜─ - ─⎟⎟                (N - 1)⋅⎝ℯ    + \n",
       "                             ⎜        ⎝2   2⎠⎟                                \n",
       "                             ⎝1 + ℯ          ⎠⋅(N - 1)                        \n",
       "\n",
       "                                                                              \n",
       "1)⋅(δ⋅q - δ + 1)   2.0⋅δ⋅(q - 1)⋅(δ⋅q - δ + 1)   2.0⋅δ⋅(q - 1)⋅(δ⋅q - δ + 1)  \n",
       "──────────────── - ─────────────────────────── - ─────────────────────────── +\n",
       "  ⎞⎞                   ⎛     -β⋅c ⎞                  ⎛     -β⋅c⎞              \n",
       " c⎟⎟                   ⎜     ─────⎟                  ⎝1 + ℯ    ⎠⋅(N - 1)      \n",
       "  ⎠⎟                   ⎜       2  ⎟                                           \n",
       "   ⎠⋅(N - 1)           ⎝1 + ℯ     ⎠⋅(N - 1)                                   \n",
       "──────────────────────────────────────────────────────────────────────────────\n",
       "                                                                              \n",
       "δ + 1)   2.0⋅δ⋅(q - 1)⋅(δ⋅q - δ + 1)   2.0⋅δ⋅(N - 3)⋅(q - 1)⋅(δ⋅q - δ + 1)   (\n",
       "────── - ─────────────────────────── - ─────────────────────────────────── + ─\n",
       " ⎞                    ⎛ β⋅c    ⎞            ⎛        ⎛b    ⎞⎞                 \n",
       "1⎠                    ⎜ ───    ⎟            ⎜     -β⋅⎜─ - c⎟⎟                 \n",
       "                      ⎜  2     ⎟            ⎜        ⎝2    ⎠⎟                 \n",
       "              (N - 1)⋅⎝ℯ    + 1⎠            ⎝1 + ℯ          ⎠⋅(N - 1)         \n",
       "\n",
       "                      2                                 2\n",
       "     2.0⋅(δ⋅q - δ + 1)       (1.0⋅N - 3.0)⋅(δ⋅q - δ + 1) \n",
       " ───────────────────────── + ────────────────────────────\n",
       " ⎛        ⎛b    ⎞⎞               ⎛     -β⋅c⎞             \n",
       " ⎜     -β⋅⎜─ + c⎟⎟               ⎝1 + ℯ    ⎠⋅(N - 1)     \n",
       " ⎜        ⎝2    ⎠⎟                                       \n",
       " ⎝1 + ℯ          ⎠⋅(N - 1)                               \n",
       "─────────────────────────────────────────────────────────\n",
       "                          2                         2    \n",
       "1.0⋅N - 3.0)⋅(δ⋅q - δ + 1)         2.0⋅(δ⋅q - δ + 1)     \n",
       "─────────────────────────── + ───────────────────────────\n",
       "            ⎛ β⋅c    ⎞        ⎛        ⎛  b    ⎞⎞        \n",
       "    (N - 1)⋅⎝ℯ    + 1⎠        ⎜     -β⋅⎜- ─ - c⎟⎟        \n",
       "                              ⎜        ⎝  2    ⎠⎟        \n",
       "                              ⎝1 + ℯ            ⎠⋅(N - 1)"
      ]
     },
     "execution_count": 201,
     "metadata": {},
     "output_type": "execute_result"
    }
   ],
   "source": [
    "expr "
   ]
  },
  {
   "cell_type": "code",
   "execution_count": 156,
   "metadata": {},
   "outputs": [],
   "source": [
    "numerator1 = ((N - 3) / (N - 1)) * (\n",
    "    (delta ** 2 * (1 - q) ** 2) / (sym.exp(- beta*(-b + c)) + 1) + \n",
    "    (2 * delta * (1 - q) * (delta * q - delta + 1)) / (sym.exp(- beta*(-b/2 + c)) + 1) +\n",
    "    ((delta * q - delta + 1) ** 2) / (sym.exp(- beta*(c)) + 1)\n",
    ")\n",
    "              \n",
    "numerator2 = (2 / (N - 1)) * (\n",
    "    (delta ** 2 * (1 - q) ** 2) / (sym.exp(- beta*(-b/2 + c/2)) + 1) + \n",
    "    (delta * (1 - q) * (delta * q - delta + 1)) / (sym.exp(- beta*(c/2)) + 1) +\n",
    "    (delta * (1 - q) * (delta * q - delta + 1)) / (sym.exp(- beta*(c)) + 1) +\n",
    "    ((delta * q - delta + 1) ** 2) / (sym.exp(- beta*(b / 2 + c)) + 1))"
   ]
  },
  {
   "cell_type": "code",
   "execution_count": 157,
   "metadata": {},
   "outputs": [
    {
     "data": {
      "image/png": "[encoded data removed]",
      "text/latex": [
       "$\\displaystyle \\frac{2 \\left(\\frac{\\delta^{2} \\left(1 - q\\right)^{2}}{1 + e^{- \\beta \\left(- \\frac{b}{2} + \\frac{c}{2}\\right)}} + \\frac{\\delta \\left(1 - q\\right) \\left(\\delta q - \\delta + 1\\right)}{1 + e^{- \\frac{\\beta c}{2}}} + \\frac{\\delta \\left(1 - q\\right) \\left(\\delta q - \\delta + 1\\right)}{1 + e^{- \\beta c}} + \\frac{\\left(\\delta q - \\delta + 1\\right)^{2}}{1 + e^{- \\beta \\left(\\frac{b}{2} + c\\right)}}\\right)}{N - 1}$"
      ],
      "text/plain": [
       "  ⎛    2        2                                                             \n",
       "  ⎜   δ ⋅(1 - q)       δ⋅(1 - q)⋅(δ⋅q - δ + 1)   δ⋅(1 - q)⋅(δ⋅q - δ + 1)    (δ\n",
       "2⋅⎜───────────────── + ─────────────────────── + ─────────────────────── + ───\n",
       "  ⎜        ⎛  b   c⎞               -β⋅c                      -β⋅c             \n",
       "  ⎜     -β⋅⎜- ─ + ─⎟               ─────                1 + ℯ                 \n",
       "  ⎜        ⎝  2   2⎠                 2                                        \n",
       "  ⎝1 + ℯ                      1 + ℯ                                        1 +\n",
       "──────────────────────────────────────────────────────────────────────────────\n",
       "                                           N - 1                              \n",
       "\n",
       "           2⎞\n",
       "⋅q - δ + 1) ⎟\n",
       "────────────⎟\n",
       "     ⎛b    ⎞⎟\n",
       "  -β⋅⎜─ + c⎟⎟\n",
       "     ⎝2    ⎠⎟\n",
       " ℯ          ⎠\n",
       "─────────────\n",
       "             "
      ]
     },
     "execution_count": 157,
     "metadata": {},
     "output_type": "execute_result"
    }
   ],
   "source": [
    "numerator2"
   ]
  },
  {
   "cell_type": "code",
   "execution_count": 158,
   "metadata": {},
   "outputs": [
    {
     "data": {
      "image/png": "[encoded data removed]",
      "text/latex": [
       "$\\displaystyle 0$"
      ],
      "text/plain": [
       "0"
      ]
     },
     "execution_count": 158,
     "metadata": {},
     "output_type": "execute_result"
    }
   ],
   "source": [
    "(sym.fraction(expr)[0] - (numerator1 + numerator2)).expand().factor()"
   ]
  },
  {
   "cell_type": "code",
   "execution_count": 159,
   "metadata": {},
   "outputs": [],
   "source": [
    "denominator1 = ((N - 3) / (N - 1)) * (\n",
    "    (delta ** 2 * (q - 1) ** 2) / (sym.exp(- beta*(b - c)) + 1) + \n",
    "    (2 * delta * (1 - q) * (delta * q - delta + 1)) / (sym.exp(-beta*(b/2 - c)) + 1) +\n",
    "    ((delta * q - delta + 1) ** 2) / (sym.exp(beta*(c)) + 1)\n",
    ")\n",
    "              \n",
    "denominator2 = (2 / (N - 1)) * (\n",
    "    (delta ** 2 * (q - 1) ** 2) / (sym.exp(- beta*(b/2 - c/2)) + 1) + \n",
    "    (delta * (1 - q) * (delta * q - delta + 1)) / (sym.exp(beta*(c/2)) + 1) +\n",
    "    (delta * (1 - q) * (delta * q - delta + 1)) / (sym.exp(beta*(c)) + 1) +\n",
    "    ((delta * q - delta + 1) ** 2) / (sym.exp(- beta*(-b / 2 - c)) + 1))"
   ]
  },
  {
   "cell_type": "code",
   "execution_count": 160,
   "metadata": {},
   "outputs": [
    {
     "data": {
      "image/png": "[encoded data removed]",
      "text/latex": [
       "$\\displaystyle 0$"
      ],
      "text/plain": [
       "0"
      ]
     },
     "execution_count": 160,
     "metadata": {},
     "output_type": "execute_result"
    }
   ],
   "source": [
    "(sym.fraction(expr)[1] - (denominator1 + denominator2)).expand()"
   ]
  },
  {
   "cell_type": "code",
   "execution_count": 161,
   "metadata": {},
   "outputs": [
    {
     "data": {
      "image/png": "[encoded data removed]",
      "text/latex": [
       "$\\displaystyle \\frac{\\frac{2.0 \\delta^{2} \\left(q - 1\\right)^{2}}{\\left(1 + e^{- \\beta \\left(- \\frac{b}{2} + \\frac{c}{2}\\right)}\\right) \\left(N - 1\\right)} + \\frac{\\delta^{2} \\left(1.0 N - 3.0\\right) \\left(q - 1\\right)^{2}}{\\left(1 + e^{- \\beta \\left(- b + c\\right)}\\right) \\left(N - 1\\right)} - \\frac{2.0 \\delta \\left(N - 3\\right) \\left(q - 1\\right) \\left(\\delta q - \\delta + 1\\right)}{\\left(1 + e^{- \\beta \\left(- \\frac{b}{2} + c\\right)}\\right) \\left(N - 1\\right)} - \\frac{2.0 \\delta \\left(q - 1\\right) \\left(\\delta q - \\delta + 1\\right)}{\\left(1 + e^{- \\frac{\\beta c}{2}}\\right) \\left(N - 1\\right)} - \\frac{2.0 \\delta \\left(q - 1\\right) \\left(\\delta q - \\delta + 1\\right)}{\\left(1 + e^{- \\beta c}\\right) \\left(N - 1\\right)} + \\frac{2.0 \\left(\\delta q - \\delta + 1\\right)^{2}}{\\left(1 + e^{- \\beta \\left(\\frac{b}{2} + c\\right)}\\right) \\left(N - 1\\right)} + \\frac{\\left(1.0 N - 3.0\\right) \\left(\\delta q - \\delta + 1\\right)^{2}}{\\left(1 + e^{- \\beta c}\\right) \\left(N - 1\\right)}}{\\frac{\\delta^{2} \\left(1.0 N - 3.0\\right) \\left(q - 1\\right)^{2}}{\\left(1 + e^{- \\beta \\left(b - c\\right)}\\right) \\left(N - 1\\right)} + \\frac{2.0 \\delta^{2} \\left(q - 1\\right)^{2}}{\\left(1 + e^{- \\beta \\left(\\frac{b}{2} - \\frac{c}{2}\\right)}\\right) \\left(N - 1\\right)} - \\frac{2.0 \\delta \\left(q - 1\\right) \\left(\\delta q - \\delta + 1\\right)}{\\left(N - 1\\right) \\left(e^{\\beta c} + 1\\right)} - \\frac{2.0 \\delta \\left(q - 1\\right) \\left(\\delta q - \\delta + 1\\right)}{\\left(N - 1\\right) \\left(e^{\\frac{\\beta c}{2}} + 1\\right)} - \\frac{2.0 \\delta \\left(N - 3\\right) \\left(q - 1\\right) \\left(\\delta q - \\delta + 1\\right)}{\\left(1 + e^{- \\beta \\left(\\frac{b}{2} - c\\right)}\\right) \\left(N - 1\\right)} + \\frac{\\left(1.0 N - 3.0\\right) \\left(\\delta q - \\delta + 1\\right)^{2}}{\\left(N - 1\\right) \\left(e^{\\beta c} + 1\\right)} + \\frac{2.0 \\left(\\delta q - \\delta + 1\\right)^{2}}{\\left(1 + e^{- \\beta \\left(- \\frac{b}{2} - c\\right)}\\right) \\left(N - 1\\right)}}$"
      ],
      "text/plain": [
       "           2        2          2                      2                       \n",
       "      2.0⋅δ ⋅(q - 1)          δ ⋅(1.0⋅N - 3.0)⋅(q - 1)     2.0⋅δ⋅(N - 3)⋅(q - \n",
       "─────────────────────────── + ────────────────────────── - ───────────────────\n",
       "⎛        ⎛  b   c⎞⎞           ⎛     -β⋅(-b + c)⎞               ⎛        ⎛  b  \n",
       "⎜     -β⋅⎜- ─ + ─⎟⎟           ⎝1 + ℯ           ⎠⋅(N - 1)       ⎜     -β⋅⎜- ─ +\n",
       "⎜        ⎝  2   2⎠⎟                                            ⎜        ⎝  2  \n",
       "⎝1 + ℯ            ⎠⋅(N - 1)                                    ⎝1 + ℯ         \n",
       "──────────────────────────────────────────────────────────────────────────────\n",
       "  2                      2             2        2                             \n",
       " δ ⋅(1.0⋅N - 3.0)⋅(q - 1)         2.0⋅δ ⋅(q - 1)         2.0⋅δ⋅(q - 1)⋅(δ⋅q - \n",
       " ───────────────────────── + ───────────────────────── - ─────────────────────\n",
       " ⎛     -β⋅(b - c)⎞           ⎛        ⎛b   c⎞⎞                        ⎛ β⋅c   \n",
       " ⎝1 + ℯ          ⎠⋅(N - 1)   ⎜     -β⋅⎜─ - ─⎟⎟                (N - 1)⋅⎝ℯ    + \n",
       "                             ⎜        ⎝2   2⎠⎟                                \n",
       "                             ⎝1 + ℯ          ⎠⋅(N - 1)                        \n",
       "\n",
       "                                                                              \n",
       "1)⋅(δ⋅q - δ + 1)   2.0⋅δ⋅(q - 1)⋅(δ⋅q - δ + 1)   2.0⋅δ⋅(q - 1)⋅(δ⋅q - δ + 1)  \n",
       "──────────────── - ─────────────────────────── - ─────────────────────────── +\n",
       "  ⎞⎞                   ⎛     -β⋅c ⎞                  ⎛     -β⋅c⎞              \n",
       " c⎟⎟                   ⎜     ─────⎟                  ⎝1 + ℯ    ⎠⋅(N - 1)      \n",
       "  ⎠⎟                   ⎜       2  ⎟                                           \n",
       "   ⎠⋅(N - 1)           ⎝1 + ℯ     ⎠⋅(N - 1)                                   \n",
       "──────────────────────────────────────────────────────────────────────────────\n",
       "                                                                              \n",
       "δ + 1)   2.0⋅δ⋅(q - 1)⋅(δ⋅q - δ + 1)   2.0⋅δ⋅(N - 3)⋅(q - 1)⋅(δ⋅q - δ + 1)   (\n",
       "────── - ─────────────────────────── - ─────────────────────────────────── + ─\n",
       " ⎞                    ⎛ β⋅c    ⎞            ⎛        ⎛b    ⎞⎞                 \n",
       "1⎠                    ⎜ ───    ⎟            ⎜     -β⋅⎜─ - c⎟⎟                 \n",
       "                      ⎜  2     ⎟            ⎜        ⎝2    ⎠⎟                 \n",
       "              (N - 1)⋅⎝ℯ    + 1⎠            ⎝1 + ℯ          ⎠⋅(N - 1)         \n",
       "\n",
       "                      2                                 2\n",
       "     2.0⋅(δ⋅q - δ + 1)       (1.0⋅N - 3.0)⋅(δ⋅q - δ + 1) \n",
       " ───────────────────────── + ────────────────────────────\n",
       " ⎛        ⎛b    ⎞⎞               ⎛     -β⋅c⎞             \n",
       " ⎜     -β⋅⎜─ + c⎟⎟               ⎝1 + ℯ    ⎠⋅(N - 1)     \n",
       " ⎜        ⎝2    ⎠⎟                                       \n",
       " ⎝1 + ℯ          ⎠⋅(N - 1)                               \n",
       "─────────────────────────────────────────────────────────\n",
       "                          2                         2    \n",
       "1.0⋅N - 3.0)⋅(δ⋅q - δ + 1)         2.0⋅(δ⋅q - δ + 1)     \n",
       "─────────────────────────── + ───────────────────────────\n",
       "            ⎛ β⋅c    ⎞        ⎛        ⎛  b    ⎞⎞        \n",
       "    (N - 1)⋅⎝ℯ    + 1⎠        ⎜     -β⋅⎜- ─ - c⎟⎟        \n",
       "                              ⎜        ⎝  2    ⎠⎟        \n",
       "                              ⎝1 + ℯ            ⎠⋅(N - 1)"
      ]
     },
     "execution_count": 161,
     "metadata": {},
     "output_type": "execute_result"
    }
   ],
   "source": [
    "expr"
   ]
  },
  {
   "cell_type": "code",
   "execution_count": 162,
   "metadata": {},
   "outputs": [],
   "source": [
    "up = (delta * q - delta + 1) ** 2\n",
    "\n",
    "down = delta ** 2 * (1 - q) ** 2 + 2 * delta * (1 - q) * (delta * q - delta + 1)"
   ]
  },
  {
   "cell_type": "code",
   "execution_count": 163,
   "metadata": {},
   "outputs": [
    {
     "data": {
      "image/png": "[encoded data removed]",
      "text/latex": [
       "$\\displaystyle \\frac{\\left(\\delta q - \\delta + 1\\right)^{2}}{\\delta^{2} \\left(1 - q\\right)^{2} + 2 \\delta \\left(1 - q\\right) \\left(\\delta q - \\delta + 1\\right)}$"
      ],
      "text/plain": [
       "                          2            \n",
       "             (δ⋅q - δ + 1)             \n",
       "───────────────────────────────────────\n",
       " 2        2                            \n",
       "δ ⋅(1 - q)  + 2⋅δ⋅(1 - q)⋅(δ⋅q - δ + 1)"
      ]
     },
     "execution_count": 163,
     "metadata": {},
     "output_type": "execute_result"
    }
   ],
   "source": [
    "wrt_expre = up / down\n",
    "\n",
    "wrt_expre"
   ]
  },
  {
   "cell_type": "code",
   "execution_count": 164,
   "metadata": {},
   "outputs": [
    {
     "data": {
      "image/png": "[encoded data removed]",
      "text/latex": [
       "$\\displaystyle - \\delta \\left(q - 1\\right) \\left(\\delta q - \\delta + 2\\right)$"
      ],
      "text/plain": [
       "-δ⋅(q - 1)⋅(δ⋅q - δ + 2)"
      ]
     },
     "execution_count": 164,
     "metadata": {},
     "output_type": "execute_result"
    }
   ],
   "source": [
    "down.factor()"
   ]
  },
  {
   "cell_type": "code",
   "execution_count": 206,
   "metadata": {},
   "outputs": [],
   "source": [
    "limit = sym.limit((numerator1 / denominator1).subs({c:2, b:3}), beta, sym.oo).factor()"
   ]
  },
  {
   "cell_type": "code",
   "execution_count": 207,
   "metadata": {},
   "outputs": [
    {
     "data": {
      "image/png": "[encoded data removed]",
      "text/latex": [
       "$\\displaystyle - \\frac{\\delta q^{2} - 2 \\delta q + \\delta - 1}{\\delta \\left(q - 1\\right)^{2}}$"
      ],
      "text/plain": [
       " ⎛   2                ⎞ \n",
       "-⎝δ⋅q  - 2⋅δ⋅q + δ - 1⎠ \n",
       "────────────────────────\n",
       "                2       \n",
       "       δ⋅(q - 1)        "
      ]
     },
     "execution_count": 207,
     "metadata": {},
     "output_type": "execute_result"
    }
   ],
   "source": [
    "limit"
   ]
  },
  {
   "cell_type": "code",
   "execution_count": 208,
   "metadata": {},
   "outputs": [
    {
     "name": "stdout",
     "output_type": "stream",
     "text": [
      "- \\frac{\\delta q^{2} - 2 \\delta q + \\delta - 1}{\\delta \\left(q - 1\\right)^{2}}\n"
     ]
    }
   ],
   "source": [
    "print(sym.latex(limit))"
   ]
  },
  {
   "cell_type": "code",
   "execution_count": 209,
   "metadata": {},
   "outputs": [
    {
     "data": {
      "image/png": "[encoded data removed]",
      "text/latex": [
       "$\\displaystyle \\frac{\\delta - 1 - \\frac{\\sqrt{2}}{2}}{\\delta}$"
      ],
      "text/plain": [
       "        √2\n",
       "δ - 1 - ──\n",
       "        2 \n",
       "──────────\n",
       "    δ     "
      ]
     },
     "execution_count": 209,
     "metadata": {},
     "output_type": "execute_result"
    }
   ],
   "source": [
    "sym.solve(wrt_expre - 1, q)[0].simplify()"
   ]
  },
  {
   "cell_type": "code",
   "execution_count": 168,
   "metadata": {},
   "outputs": [
    {
     "data": {
      "image/png": "[encoded data removed]",
      "text/latex": [
       "$\\displaystyle \\frac{\\delta}{2} - \\frac{\\sqrt{\\delta^{2} + 1}}{2} - \\frac{1}{2}$"
      ],
      "text/plain": [
       "       ________    \n",
       "      ╱  2         \n",
       "δ   ╲╱  δ  + 1    1\n",
       "─ - ─────────── - ─\n",
       "2        2        2"
      ]
     },
     "execution_count": 168,
     "metadata": {},
     "output_type": "execute_result"
    }
   ],
   "source": [
    "((delta - sym.sqrt(delta ** 2 + 1) - 1) / 2)"
   ]
  },
  {
   "cell_type": "code",
   "execution_count": 169,
   "metadata": {},
   "outputs": [
    {
     "data": {
      "image/png": "[encoded data removed]",
      "text/latex": [
       "$\\displaystyle \\frac{\\delta - 1 + \\frac{\\sqrt{2}}{2}}{\\delta}$"
      ],
      "text/plain": [
       "        √2\n",
       "δ - 1 + ──\n",
       "        2 \n",
       "──────────\n",
       "    δ     "
      ]
     },
     "execution_count": 169,
     "metadata": {},
     "output_type": "execute_result"
    }
   ],
   "source": [
    "sym.solve(wrt_expre - 1, q)[1].simplify()"
   ]
  },
  {
   "cell_type": "code",
   "execution_count": 171,
   "metadata": {},
   "outputs": [
    {
     "data": {
      "image/png": "[encoded data removed]",
      "text/latex": [
       "$\\displaystyle - \\frac{\\left(\\delta q - \\delta - 1\\right) \\left(\\delta q - \\delta + 1\\right)}{\\delta^{2} \\left(q - 1\\right)^{2}}$"
      ],
      "text/plain": [
       "-(δ⋅q - δ - 1)⋅(δ⋅q - δ + 1) \n",
       "─────────────────────────────\n",
       "          2        2         \n",
       "         δ ⋅(q - 1)          "
      ]
     },
     "execution_count": 171,
     "metadata": {},
     "output_type": "execute_result"
    }
   ],
   "source": [
    "limit = sym.limit((numerator1 / denominator1).subs({c:2, b:3}), beta, sym.oo).factor()\n",
    "\n",
    "limit"
   ]
  },
  {
   "cell_type": "code",
   "execution_count": 173,
   "metadata": {},
   "outputs": [
    {
     "data": {
      "image/png": "[encoded data removed]",
      "text/latex": [
       "$\\displaystyle \\left[ \\frac{\\delta - \\frac{\\sqrt{2}}{2}}{\\delta}, \\  \\frac{\\delta + \\frac{\\sqrt{2}}{2}}{\\delta}\\right]$"
      ],
      "text/plain": [
       "⎡    √2      √2⎤\n",
       "⎢δ - ──  δ + ──⎥\n",
       "⎢    2       2 ⎥\n",
       "⎢──────, ──────⎥\n",
       "⎣  δ       δ   ⎦"
      ]
     },
     "execution_count": 173,
     "metadata": {},
     "output_type": "execute_result"
    }
   ],
   "source": [
    "sym.solve(limit - 1, q)"
   ]
  },
  {
   "cell_type": "code",
   "execution_count": 69,
   "metadata": {},
   "outputs": [],
   "source": [
    "v_u1 = sym.symbols(\"A\")\n",
    "v_u2 = sym.symbols(\"B\")\n",
    "v_u3 = sym.symbols(\"C\")\n",
    "v_u4 = sym.symbols(\"D\")\n",
    "\n",
    "vRR = [v_u1]\n",
    "vRM = [v_u2]\n",
    "vMR = [v_u3]\n",
    "vMM =[v_u4]\n",
    "\n",
    "i, j = 0, 0\n",
    "\n",
    "\n",
    "N, k, x = sym.symbols(\"N, k, x\")"
   ]
  },
  {
   "cell_type": "code",
   "execution_count": 87,
   "metadata": {},
   "outputs": [],
   "source": [
    "A = (1 / (N - 2) / (N - 3) * ((k - 1) * (k - 2) * vRM[0] * vMM[0] + (k - 1) * (N - k - 1) * vRM[0] * vMR[0] + (N - k - 1) * (k - 1) * vRR[0] * vMM[0] + (N - k - 1) * (N - k - 2) * vRR[0] * vMR[0]))\n",
    "\n",
    "learner_role_model = 1 / (N - 1) * vRM[0] * x \n",
    "\n",
    "\n",
    "mutant_mutant = (1 - 1 / (N - 1)) / (N - 2) / (N - 3) * ((k-1) * (k-2) * vRM[0] * vMM[0])\n",
    "\n",
    "den = (1 - 1 / (N - 2)) / (N - 3) / (N - 4)\n",
    " \n",
    "B1 = (k-2)*(k-3)*vRM[0]*vMM[0]\n",
    "B2 = (k-2)*(N-k-1)*vRR[0]*vMM[0] \n",
    "B3 = (N-k-1)*(k-2)*vRM[0]*vMR[0] \n",
    "B4 = (N-k-1)*(N-k-2)*vRR[0]*vMR[0]\n",
    "B5 =   1 / (N - 2) * vRM[0] * x\n",
    "\n",
    "mutant_resident = (1 - 1 / (N - 1)) / (N - 2) / (N - 3) * ((k-1) * (N-k-1) * vRM[0] * vMR[0])\n",
    "\n",
    "den2 = (1 - 1 / ( N - 2)) / (N - 3) / (N - 4) \n",
    "\n",
    "C1 = (k-1)*(k-3)*vRM[0]*vMM[0]\n",
    "C2 = (k-1)*(N-k-1)*vRR[0]*vMM[0]\n",
    "C3 = (N-k-2)*(k-2)*vRM[0]*vMR[0]\n",
    "C4 = (N-k-2)*(N-k-2)*vRR[0]*vMR[0]\n",
    "C5 = 1 / (N - 2) * vRM[0] * x\n",
    "\n",
    "resident_mutant = (1 - 1 / (N - 1)) / (N - 2) / (N - 3) * ((N-k-1) * (k-1) * vRR[0] * vMM[0])\n",
    "\n",
    "den3 = (1 - 1 / ( N - 2)) / (N - 3) / (N - 4)\n",
    "\n",
    "D1 = (k-2)*(k-2)*vRM[0]*vMM[0]\n",
    "D2 = (k-2)*(N-k-2)*vRR[0]*vMM[0]\n",
    "D3 = (N-k-1)*(k-1)*vRM[0]*vMR[0]\n",
    "D4 = (N-k-1)*(N-k-3)*vRR[0]*vMR[0]\n",
    "\n",
    "D5 = 1 / (N - 2) * vRM[0] * x\n",
    "\n",
    "resident_resident = (1 - 1 / (N - 1)) / (N - 2) / (N - 3) * (N-k-1) * (N-k-2) * vRR[0] * vMR[0]\n",
    "\n",
    "den4 = (1 - 1 / ( N - 2)) / (N - 3) / (N - 4)\n",
    "E1 = (k-1)*(k-2)*vRM[0]*vMM[0]\n",
    "E2 = (k-1)*(N-k-2)*vRR[0]*vMM[0]\n",
    "E3 = (N-k-2)*(k-1)*vRM[0]*vMR[0] \n",
    "E4 = (N-k-2)*(N-k-3)*vRR[0]*vMR[0]\n",
    "E5 = 1 / (N - 2) * vRM[0] * x\n",
    "\n",
    "# learner_role_model + (mutant_mutant + mutant_resident + resident_mutant + resident_resident)"
   ]
  },
  {
   "cell_type": "code",
   "execution_count": 112,
   "metadata": {},
   "outputs": [
    {
     "data": {
      "image/png": "[encoded data removed]",
      "text/latex": [
       "$\\displaystyle \\frac{A D \\left(1 - \\frac{1}{N - 1}\\right) \\left(k - 1\\right) \\left(N - k - 1\\right)}{\\left(N - 3\\right) \\left(N - 2\\right)}$"
      ],
      "text/plain": [
       "    ⎛      1  ⎞                    \n",
       "A⋅D⋅⎜1 - ─────⎟⋅(k - 1)⋅(N - k - 1)\n",
       "    ⎝    N - 1⎠                    \n",
       "───────────────────────────────────\n",
       "          (N - 3)⋅(N - 2)          "
      ]
     },
     "execution_count": 112,
     "metadata": {},
     "output_type": "execute_result"
    }
   ],
   "source": [
    "resident_mutant"
   ]
  },
  {
   "cell_type": "code",
   "execution_count": 109,
   "metadata": {},
   "outputs": [
    {
     "name": "stdout",
     "output_type": "stream",
     "text": [
      "\\frac{A C \\left(1 - \\frac{1}{N - 1}\\right) \\left(N - k - 2\\right) \\left(N - k - 1\\right)}{\\left(N - 3\\right) \\left(N - 2\\right)}\n"
     ]
    }
   ],
   "source": [
    "print(sym.latex(resident_resident))"
   ]
  },
  {
   "cell_type": "code",
   "execution_count": 105,
   "metadata": {
    "scrolled": true
   },
   "outputs": [
    {
     "name": "stdout",
     "output_type": "stream",
     "text": [
      "A C \\left(N - k - 3\\right) \\left(N - k - 2\\right)\n"
     ]
    }
   ],
   "source": [
    "print(sym.latex(E4))"
   ]
  },
  {
   "cell_type": "code",
   "execution_count": 78,
   "metadata": {},
   "outputs": [
    {
     "name": "stdout",
     "output_type": "stream",
     "text": [
      "\\frac{A C \\left(N - k - 2\\right) \\left(N - k - 1\\right) + A D \\left(k - 1\\right) \\left(N - k - 1\\right) + B C \\left(k - 1\\right) \\left(N - k - 1\\right) + B D \\left(k - 2\\right) \\left(k - 1\\right)}{\\left(N - 3\\right) \\left(N - 2\\right)}\n"
     ]
    }
   ],
   "source": [
    "print(sym.latex(A))"
   ]
  },
  {
   "cell_type": "code",
   "execution_count": 94,
   "metadata": {},
   "outputs": [],
   "source": [
    "sym.init_printing(True)"
   ]
  },
  {
   "cell_type": "code",
   "execution_count": 95,
   "metadata": {},
   "outputs": [
    {
     "data": {
      "image/png": "[encoded data removed]",
      "text/latex": [
       "$\\displaystyle \\frac{B C \\left(1 - \\frac{1}{N - 1}\\right) \\left(k - 1\\right) \\left(\\frac{B x}{N - 2} + \\frac{\\left(1 - \\frac{1}{N - 2}\\right) \\left(A C \\left(N - k - 2\\right)^{2} + A D \\left(k - 1\\right) \\left(N - k - 1\\right) + B C \\left(k - 2\\right) \\left(N - k - 2\\right) + B D \\left(k - 3\\right) \\left(k - 1\\right)\\right)}{\\left(N - 4\\right) \\left(N - 3\\right)}\\right) \\left(N - k - 1\\right)}{\\left(N - 3\\right) \\left(N - 2\\right)}$"
      ],
      "text/plain": [
       "                        ⎛        ⎛      1  ⎞ ⎛               2                \n",
       "                        ⎜        ⎜1 - ─────⎟⋅⎝A⋅C⋅(N - k - 2)  + A⋅D⋅(k - 1)⋅(\n",
       "    ⎛      1  ⎞         ⎜ B⋅x    ⎝    N - 2⎠                                  \n",
       "B⋅C⋅⎜1 - ─────⎟⋅(k - 1)⋅⎜───── + ─────────────────────────────────────────────\n",
       "    ⎝    N - 1⎠         ⎝N - 2                                               (\n",
       "──────────────────────────────────────────────────────────────────────────────\n",
       "                                                                   (N - 3)⋅(N \n",
       "\n",
       "                                                          ⎞⎞            \n",
       "N - k - 1) + B⋅C⋅(k - 2)⋅(N - k - 2) + B⋅D⋅(k - 3)⋅(k - 1)⎠⎟            \n",
       "                                                           ⎟            \n",
       "───────────────────────────────────────────────────────────⎟⋅(N - k - 1)\n",
       "N - 4)⋅(N - 3)                                             ⎠            \n",
       "────────────────────────────────────────────────────────────────────────\n",
       "- 2)                                                                    "
      ]
     },
     "execution_count": 95,
     "metadata": {},
     "output_type": "execute_result"
    }
   ],
   "source": [
    "mutant_resident "
   ]
  },
  {
   "cell_type": "markdown",
   "metadata": {},
   "source": [
    "### Last round and two interactions"
   ]
  },
  {
   "cell_type": "markdown",
   "metadata": {},
   "source": [
    "### Roots"
   ]
  },
  {
   "cell_type": "code",
   "execution_count": 129,
   "metadata": {},
   "outputs": [],
   "source": [
    "vMM = ss_last_two_rounds(alld, alld, delta)\n",
    "vMR = ss_last_two_rounds(alld, gtft, delta)\n",
    "vRM = ss_last_two_rounds(gtft, alld, delta)\n",
    "vRR = ss_last_two_rounds(gtft, gtft, delta)"
   ]
  },
  {
   "cell_type": "code",
   "execution_count": 130,
   "metadata": {},
   "outputs": [
    {
     "ename": "IndentationError",
     "evalue": "unexpected indent (<ipython-input-130-e5b1a79b5ccb>, line 6)",
     "output_type": "error",
     "traceback": [
      "\u001b[0;36m  File \u001b[0;32m\"<ipython-input-130-e5b1a79b5ccb>\"\u001b[0;36m, line \u001b[0;32m6\u001b[0m\n\u001b[0;31m    get_ipython().run_line_magic('%', 'Calculates all possible pairwise imitation probabilities based on the last two payoffs')\u001b[0m\n\u001b[0m    ^\u001b[0m\n\u001b[0;31mIndentationError\u001b[0m\u001b[0;31m:\u001b[0m unexpected indent\n"
     ]
    }
   ],
   "source": [
    "u = payoffs\n",
    "Us = sym.zeros(16, 16)\n",
    "\n",
    "\n",
    "function [Rho]=calcRhoTwoFiftySix(u, beta);\n",
    "    %% Calculates all possible pairwise imitation probabilities based on the last two payoffs\n",
    "        new_u = log(kron(exp(u),exp(u)));\n",
    "        Rho = zeros(256, 256);\n",
    "    \n",
    "        for i=1:256\n",
    "            for j=1:256\n",
    "                player = new_u(1 + fix((i - 1) / 16)) + new_u(1 + mod(i - 1, 16));\n",
    "                opponent = new_u(1 + fix((j - 1) / 16)) + new_u(1 + mod(j - 1, 16));\n",
    "                Rho(i, j) =  1 / (1 + exp(-beta *(opponent - player) / 2));\n",
    "            end\n",
    "        end\n",
    "end\n",
    "\n",
    "\n",
    "\n",
    "for i in range(16):\n",
    "    for j in range(16):\n",
    "        Us[i, j] = (u[int((j) / 4)] + u[(j) % 4]) - (u[int((i) / 4)] + u[(i) % 4])\n",
    "\n",
    "Us = Us / 2\n",
    "\n",
    "rho = sym.zeros(16, 16);\n",
    "\n",
    "for i in range(16):\n",
    "    for j in range(16):\n",
    "        rho[i, j] = 1 / (1 + sym.exp(-beta * Us[i, j]))"
   ]
  },
  {
   "cell_type": "code",
   "execution_count": 131,
   "metadata": {},
   "outputs": [],
   "source": [
    "x = sym.zeros(16, 16)\n",
    "\n",
    "k = 1\n",
    "\n",
    "for i in range(16):\n",
    "    for j in range(16):\n",
    "\n",
    "        p_11 = int(i / 4)\n",
    "        p_12 = i % 4\n",
    "        q_21 = int(j / 4)\n",
    "        q_22 = j % 4\n",
    "        \n",
    "    \n",
    "        learner_role_model = 1 / (N - 1) * vRM[p_11] * int((p_11==0 and q_21==0) or (p_11==1 and q_21==2) or (p_11==2 and q_21==1) or (p_11==3 and q_21==3)) * (\n",
    "            1 / (N - 2) / (N - 3) * ((k - 1) * (k - 2) * vRM[p_12] * vMM[q_22] + (k - 1) * (N - k - 1) * vRM[p_12] * vMR[q_22] + (N - k - 1) * (k - 1) * vRR[p_12] * vMM[q_22] + (N - k - 1) * (N - k - 2) * vRR[p_12] * vMR[q_22])\n",
    "            )\n",
    "\n",
    "        mutant_mutant = (1 - 1 / (N - 1)) / (N - 2) / (N - 3) * ((k-1) * (k-2) * vRM[p_11] * vMM[q_21]) * ((1 - 1 / (N - 2)) / (N - 3) / (N - 4) * ((k-2)*(k-3)*vRM[p_12]*vMM[q_22] + (k-2)*(N-k-1)*vRR[p_12]*vMM[q_22] + (N-k-1)*(k-2)*vRM[p_12]*vMR[q_22] + (N-k-1)*(N-k-2)*vRR[p_12]*vMR[q_22]) + \n",
    "        1 / (N - 2) * vRM[p_12] * int((p_12==0 and q_22==0) or (p_12==1 and q_22==2) or (p_12==2 and q_22==1) or (p_12==3 and q_22==3)))\n",
    "\n",
    "        mutant_resident = (1 - 1 / (N - 1)) / (N - 2) / (N - 3) * ((k-1) * (N-k-1) * vRM[p_11] * vMR[q_21]) * ((1 - 1 / ( N - 2)) / (N - 3) / (N - 4) * ((k-1)*(k-3)*vRM[p_12]*vMM[q_22] + (k-1)*(N-k-1)*vRR[p_12]*vMM[q_22] + (N-k-2)*(k-2)*vRM[p_12]*vMR[q_22] + (N-k-2)*(N-k-2)*vRR[p_12]*vMR[q_22]) + \n",
    "        1 / (N - 2) * vRM[p_12] * int((p_12==0 and q_22==0) or (p_12==1 and q_22==2) or (p_12==2 and q_22==1) or (p_12==3 and q_22==3)))\n",
    "\n",
    "        resident_mutant = (1 - 1 / (N - 1)) / (N - 2) / (N - 3) * ((N-k-1) * (k-1) * vRR[p_11] * vMM[q_21])  *  ((1 - 1 / ( N - 2)) / (N - 3) / (N - 4) * ((k-2)*(k-2)*vRM[p_12]*vMM[q_22] + (k-2)*(N-k-2)*vRR[p_12]*vMM[q_22] + (N-k-1)*(k-1)*vRM[p_12]*vMR[q_22] + (N-k-1)*(N-k-3)*vRR[p_12]*vMR[q_22]) + \n",
    "        1 / (N - 2) * vRM[p_12] * int((p_12==0 and q_22==0) or (p_12==1 and q_22==2) or (p_12==2 and q_22==1) or (p_12==3 and q_22==3)))\n",
    "\n",
    "        resident_resident = (1 - 1 / (N - 1)) / (N - 2) / (N - 3) * (N-k-1) * (N-k-2) * vRR[p_11] * vMR[q_21] * ((1 - 1 / ( N - 2)) / (N - 3) / (N - 4) * ((k-1)*(k-2)*vRM[p_12]*vMM[q_22] + (k-1)*(N-k-2)*vRR[p_12]*vMM[q_22] + (N-k-2)*(k-1)*vRM[p_12]*vMR[q_22] + (N-k-2)*(N-k-3)*vRR[p_12]*vMR[q_22]) + \n",
    "        1 / (N - 2) * vRM[p_12] * int((p_12==0 and q_22==0) or (p_12==1 and q_22==2) or (p_12==2 and q_22==1) or (p_12==3 and q_22==3)))\n",
    "\n",
    "        x[i, j] = (learner_role_model + (mutant_mutant + mutant_resident + resident_mutant + resident_resident)).simplify()"
   ]
  },
  {
   "cell_type": "code",
   "execution_count": 132,
   "metadata": {},
   "outputs": [
    {
     "data": {
      "image/png": "[encoded data removed]",
      "text/latex": [
       "$\\displaystyle 0$"
      ],
      "text/plain": [
       "0"
      ]
     },
     "execution_count": 132,
     "metadata": {},
     "output_type": "execute_result"
    }
   ],
   "source": [
    "p_11 = 0\n",
    "p_21 = 1\n",
    "q_21 = 0\n",
    "q_22 = 1\n",
    "\n",
    "\n",
    "1 / (N - 1) * vRM[p_11] * int((p_11==0 and q_21==0) or (p_11==1 and q_21==2) or (p_11==2 and q_21==1) or (p_11==3 and q_21==3)) "
   ]
  },
  {
   "cell_type": "code",
   "execution_count": null,
   "metadata": {},
   "outputs": [],
   "source": []
  },
  {
   "cell_type": "code",
   "execution_count": 209,
   "metadata": {},
   "outputs": [
    {
     "data": {
      "image/png": "[encoded data removed]",
      "text/latex": [
       "$\\displaystyle 0$"
      ],
      "text/plain": [
       "0"
      ]
     },
     "execution_count": 209,
     "metadata": {},
     "output_type": "execute_result"
    }
   ],
   "source": [
    "1 / (N - 1) * vRM[p_11] * int((p_11==0 and q_21==0) or (p_11==1 and q_21==2) or (p_11==2 and q_21==1) or (p_11==3 and q_21==3)) * (\n",
    "            1 / (N - 2) / (N - 3) * ((k - 1) * (k - 2) * vRM[p_12] * vMM[q_22] + (k - 1) * (N - k - 1) * vRM[p_12] * vMR[q_22] + (N - k - 1) * (k - 1) * vRR[p_12] * vMM[q_22] + (N - k - 1) * (N - k - 2) * vRR[p_12] * vMR[q_22])\n",
    "            )"
   ]
  },
  {
   "cell_type": "code",
   "execution_count": 200,
   "metadata": {},
   "outputs": [],
   "source": [
    "expr = (sum(sum(np.multiply(x, rho))) / sum(sum(np.multiply(x, rho.T))))"
   ]
  },
  {
   "cell_type": "code",
   "execution_count": 208,
   "metadata": {},
   "outputs": [
    {
     "data": {
      "image/png": "[encoded data removed]",
      "text/latex": [
       "$\\displaystyle \\left[\\begin{array}{cccccccccccccccc}0 & 0 & 0 & 0 & 0 & 0 & 0 & 0 & 0 & 0 & 0 & 0 & 0 & 0 & 0 & 0\\\\0 & 0 & 0 & 0 & 0 & 0 & 0 & 0 & 0 & 0 & 0 & 0 & 0 & 0 & 0 & 0\\\\0 & 0 & 0 & 0 & 0 & 0 & 0 & 0 & 0 & 0 & 0 & 0 & 0 & 0 & 0 & 0\\\\0 & 0 & 0 & 0 & 0 & 0 & 0 & 0 & 0 & 0 & 0 & 0 & 0 & 0 & 0 & 0\\\\0 & 0 & 0 & 0 & 0 & 0 & 0 & 0 & 0 & 0 & 0 & 0 & 0 & 0 & 0 & 0\\\\0 & 0 & 0 & 0 & 0 & 0 & 0 & 0 & 0 & 0 & 0 & 0 & 0 & 0 & 0 & 0\\\\0 & 0 & 0 & 0 & 0 & 0 & 0 & 0 & 0 & 0 & 0 & 0 & 0 & 0 & 0 & 0\\\\0 & 0 & 0 & 0 & 0 & 0 & 0 & 0 & 0 & 0 & 0 & 0 & 0 & 0 & 0 & 0\\\\0 & 0 & 0 & 0 & 0 & 0 & 0 & 0 & 0 & 0 & 0 & 0 & 0 & 0 & 0 & 0\\\\0 & 0 & 0 & 0 & 0 & 0 & 0 & 0 & 0 & 0 & 0 & 0 & 0 & 0 & 0 & 0\\\\0 & 0 & 0 & 0 & 0 & 0 & 0 & 0 & 0 & 0 & 0 & 0 & 0 & 0 & 0 & 0\\\\0 & 0 & 0 & 0 & 0 & 0 & 0 & 0 & 0 & 0 & 0 & 0 & 0 & 0 & 0 & 0\\\\0 & 0 & 0 & 0 & 0 & 0 & 0 & 0 & 0 & 0 & 0 & 0 & 0 & 0 & 0 & 0\\\\0 & 0 & 0 & 0 & 0 & 0 & 0 & 0 & 0 & 0 & 0 & 0 & 0 & 0 & 0 & 0\\\\0 & 0 & 0 & 0 & 0 & 0 & 0 & 0 & 0 & 0 & 0 & 0 & 0 & 0 & 0 & 0\\\\0 & 0 & 0 & 0 & 0 & 0 & 0 & 0 & 0 & 0 & 0 & 0 & 0 & 0 & 0 & 0\\end{array}\\right]$"
      ],
      "text/plain": [
       "⎡0  0  0  0  0  0  0  0  0  0  0  0  0  0  0  0⎤\n",
       "⎢                                              ⎥\n",
       "⎢0  0  0  0  0  0  0  0  0  0  0  0  0  0  0  0⎥\n",
       "⎢                                              ⎥\n",
       "⎢0  0  0  0  0  0  0  0  0  0  0  0  0  0  0  0⎥\n",
       "⎢                                              ⎥\n",
       "⎢0  0  0  0  0  0  0  0  0  0  0  0  0  0  0  0⎥\n",
       "⎢                                              ⎥\n",
       "⎢0  0  0  0  0  0  0  0  0  0  0  0  0  0  0  0⎥\n",
       "⎢                                              ⎥\n",
       "⎢0  0  0  0  0  0  0  0  0  0  0  0  0  0  0  0⎥\n",
       "⎢                                              ⎥\n",
       "⎢0  0  0  0  0  0  0  0  0  0  0  0  0  0  0  0⎥\n",
       "⎢                                              ⎥\n",
       "⎢0  0  0  0  0  0  0  0  0  0  0  0  0  0  0  0⎥\n",
       "⎢                                              ⎥\n",
       "⎢0  0  0  0  0  0  0  0  0  0  0  0  0  0  0  0⎥\n",
       "⎢                                              ⎥\n",
       "⎢0  0  0  0  0  0  0  0  0  0  0  0  0  0  0  0⎥\n",
       "⎢                                              ⎥\n",
       "⎢0  0  0  0  0  0  0  0  0  0  0  0  0  0  0  0⎥\n",
       "⎢                                              ⎥\n",
       "⎢0  0  0  0  0  0  0  0  0  0  0  0  0  0  0  0⎥\n",
       "⎢                                              ⎥\n",
       "⎢0  0  0  0  0  0  0  0  0  0  0  0  0  0  0  0⎥\n",
       "⎢                                              ⎥\n",
       "⎢0  0  0  0  0  0  0  0  0  0  0  0  0  0  0  0⎥\n",
       "⎢                                              ⎥\n",
       "⎢0  0  0  0  0  0  0  0  0  0  0  0  0  0  0  0⎥\n",
       "⎢                                              ⎥\n",
       "⎣0  0  0  0  0  0  0  0  0  0  0  0  0  0  0  0⎦"
      ]
     },
     "execution_count": 208,
     "metadata": {},
     "output_type": "execute_result"
    }
   ],
   "source": [
    "x"
   ]
  },
  {
   "cell_type": "code",
   "execution_count": 163,
   "metadata": {},
   "outputs": [
    {
     "data": {
      "image/png": "[encoded data removed]",
      "text/latex": [
       "$\\displaystyle \\text{NaN}$"
      ],
      "text/plain": [
       "nan"
      ]
     },
     "execution_count": 163,
     "metadata": {},
     "output_type": "execute_result"
    }
   ],
   "source": [
    "sym.fraction(expr)[0]"
   ]
  },
  {
   "cell_type": "code",
   "execution_count": 79,
   "metadata": {},
   "outputs": [
    {
     "data": {
      "text/plain": [
       "True"
      ]
     },
     "execution_count": 79,
     "metadata": {},
     "output_type": "execute_result"
    }
   ],
   "source": [
    "10000000 == 10 ** 7"
   ]
  },
  {
   "cell_type": "code",
   "execution_count": 96,
   "metadata": {},
   "outputs": [
    {
     "data": {
      "image/png": "[encoded data removed]",
      "text/latex": [
       "$\\displaystyle 0.7071067811865476$"
      ],
      "text/plain": [
       "0.7071067811865476"
      ]
     },
     "execution_count": 96,
     "metadata": {},
     "output_type": "execute_result"
    }
   ],
   "source": [
    "np.sqrt(2) / 2"
   ]
  },
  {
   "cell_type": "code",
   "execution_count": 235,
   "metadata": {},
   "outputs": [
    {
     "data": {
      "image/png": "[encoded data removed]",
      "text/latex": [
       "$\\displaystyle \\frac{\\delta + \\sqrt{\\delta^{2} + 1} - 1}{2 \\delta}$"
      ],
      "text/plain": [
       "       ________    \n",
       "      ╱  2         \n",
       "δ + ╲╱  δ  + 1  - 1\n",
       "───────────────────\n",
       "        2⋅δ        "
      ]
     },
     "execution_count": 235,
     "metadata": {},
     "output_type": "execute_result"
    }
   ],
   "source": [
    "tworound =( delta + sym.sqrt(delta ** 2 + 1) - 1) / (2 * delta)\n",
    "tworound "
   ]
  },
  {
   "cell_type": "code",
   "execution_count": 236,
   "metadata": {},
   "outputs": [
    {
     "data": {
      "image/png": "[encoded data removed]",
      "text/latex": [
       "$\\displaystyle \\frac{\\delta - 1 + \\frac{\\sqrt{2}}{2}}{\\delta}$"
      ],
      "text/plain": [
       "        √2\n",
       "δ - 1 + ──\n",
       "        2 \n",
       "──────────\n",
       "    δ     "
      ]
     },
     "execution_count": 236,
     "metadata": {},
     "output_type": "execute_result"
    }
   ],
   "source": [
    "twoop = (delta - 1 + sym.sqrt(2) / 2) / (delta)\n",
    "twoop"
   ]
  },
  {
   "cell_type": "code",
   "execution_count": 247,
   "metadata": {},
   "outputs": [
    {
     "data": {
      "image/png": "[encoded data removed]",
      "text/latex": [
       "$\\displaystyle 0.7041482638247956$"
      ],
      "text/plain": [
       "0.7041482638247956"
      ]
     },
     "execution_count": 247,
     "metadata": {},
     "output_type": "execute_result"
    }
   ],
   "source": [
    "float(twoop.subs({delta:0.99}))"
   ]
  },
  {
   "cell_type": "code",
   "execution_count": 248,
   "metadata": {},
   "outputs": [
    {
     "data": {
      "image/png": "[encoded data removed]",
      "text/latex": [
       "$\\displaystyle 0.705636495429854$"
      ],
      "text/plain": [
       "0.705636495429854"
      ]
     },
     "execution_count": 248,
     "metadata": {},
     "output_type": "execute_result"
    }
   ],
   "source": [
    "tworound.subs({delta:0.99})"
   ]
  },
  {
   "cell_type": "code",
   "execution_count": 243,
   "metadata": {},
   "outputs": [
    {
     "data": {
      "image/png": "[encoded data removed]",
      "text/latex": [
       "$\\displaystyle \\frac{\\delta - \\sqrt{\\delta^{2} + 1} - 1 + \\sqrt{2}}{2 \\delta}$"
      ],
      "text/plain": [
       "       ________         \n",
       "      ╱  2              \n",
       "δ - ╲╱  δ  + 1  - 1 + √2\n",
       "────────────────────────\n",
       "          2⋅δ           "
      ]
     },
     "execution_count": 243,
     "metadata": {},
     "output_type": "execute_result"
    }
   ],
   "source": [
    "(twoop - tworound).factor()"
   ]
  },
  {
   "cell_type": "code",
   "execution_count": null,
   "metadata": {},
   "outputs": [],
   "source": []
  }
 ],
 "metadata": {
  "kernelspec": {
   "display_name": "stochastic-payoffs",
   "language": "python",
   "name": "stochastic-payoffs"
  },
  "language_info": {
   "codemirror_mode": {
    "name": "ipython",
    "version": 3
   },
   "file_extension": ".py",
   "mimetype": "text/x-python",
   "name": "python",
   "nbconvert_exporter": "python",
   "pygments_lexer": "ipython3",
   "version": "3.7.8"
  }
 },
 "nbformat": 4,
 "nbformat_minor": 4
}
