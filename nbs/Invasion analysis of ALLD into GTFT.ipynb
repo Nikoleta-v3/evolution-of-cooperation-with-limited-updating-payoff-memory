{
 "cells": [
  {
   "cell_type": "code",
   "execution_count": 1,
   "metadata": {},
   "outputs": [],
   "source": [
    "import sympy as sym\n",
    "\n",
    "import numpy as np\n",
    "\n",
    "import evol_dynamics"
   ]
  },
  {
   "cell_type": "code",
   "execution_count": 2,
   "metadata": {},
   "outputs": [],
   "source": [
    "def invariant_distribution(M):\n",
    "\n",
    "    eigenvalues, eigenvectors = np.linalg.eig(M.T)\n",
    "    eigenvectors_one = eigenvectors[:, np.argmax(eigenvalues)]\n",
    "\n",
    "    stationary = eigenvectors_one / eigenvectors_one.sum()\n",
    "\n",
    "    return stationary.real"
   ]
  },
  {
   "cell_type": "code",
   "execution_count": 3,
   "metadata": {},
   "outputs": [],
   "source": [
    "def invariant_distribution_analytically(M):\n",
    "    size = M.shape[1]\n",
    "    pi = sym.symbols(f\"b_1:{size + 1}\")\n",
    "    ss = sym.solve(\n",
    "        [sum(pi) - 1]\n",
    "        + [a - b for a, b in zip(M.transpose() * sym.Matrix(pi), pi)],\n",
    "        pi,\n",
    "    )\n",
    "\n",
    "    v_vector = sym.Matrix(\n",
    "        [\n",
    "            [ss[p] for p in pi],\n",
    "        ]\n",
    "    )\n",
    "\n",
    "    return v_vector"
   ]
  },
  {
   "cell_type": "markdown",
   "metadata": {},
   "source": [
    "### Invasion analysis of ALLD into GTFT"
   ]
  },
  {
   "cell_type": "code",
   "execution_count": 4,
   "metadata": {},
   "outputs": [],
   "source": [
    "q = sym.symbols(\"q\")"
   ]
  },
  {
   "cell_type": "code",
   "execution_count": 5,
   "metadata": {},
   "outputs": [],
   "source": [
    "alld = (0, 0, 0)\n",
    "\n",
    "gtft = (1, 1, q)"
   ]
  },
  {
   "cell_type": "code",
   "execution_count": 6,
   "metadata": {},
   "outputs": [
    {
     "data": {
      "text/latex": [
       "$\\displaystyle \\left[\\begin{matrix}0 & 0 & q & 1 - q\\end{matrix}\\right]$"
      ],
      "text/plain": [
       "Matrix([[0, 0, q, 1 - q]])"
      ]
     },
     "execution_count": 6,
     "metadata": {},
     "output_type": "execute_result"
    }
   ],
   "source": [
    "M = evol_dynamics.markov_chain_for_reactive_strategies(alld, gtft)\n",
    "\n",
    "invariant_distribution_analytically(M)"
   ]
  },
  {
   "cell_type": "code",
   "execution_count": 7,
   "metadata": {},
   "outputs": [
    {
     "data": {
      "text/latex": [
       "$\\displaystyle \\left[\\begin{matrix}0 & 0 & 0 & 1\\end{matrix}\\right]$"
      ],
      "text/plain": [
       "Matrix([[0, 0, 0, 1]])"
      ]
     },
     "execution_count": 7,
     "metadata": {},
     "output_type": "execute_result"
    }
   ],
   "source": [
    "M = evol_dynamics.markov_chain_for_reactive_strategies(alld, alld)\n",
    "\n",
    "invariant_distribution_analytically(M)"
   ]
  },
  {
   "cell_type": "code",
   "execution_count": 8,
   "metadata": {},
   "outputs": [
    {
     "data": {
      "text/latex": [
       "$\\displaystyle \\left[\\begin{matrix}0 & q & 0 & 1 - q\\end{matrix}\\right]$"
      ],
      "text/plain": [
       "Matrix([[0, q, 0, 1 - q]])"
      ]
     },
     "execution_count": 8,
     "metadata": {},
     "output_type": "execute_result"
    }
   ],
   "source": [
    "M = evol_dynamics.markov_chain_for_reactive_strategies(gtft, alld)\n",
    "\n",
    "invariant_distribution_analytically(M)"
   ]
  },
  {
   "cell_type": "code",
   "execution_count": 9,
   "metadata": {},
   "outputs": [
    {
     "data": {
      "text/latex": [
       "$\\displaystyle \\left[\\begin{matrix}1 & 0 & 0 & 0\\end{matrix}\\right]$"
      ],
      "text/plain": [
       "Matrix([[1, 0, 0, 0]])"
      ]
     },
     "execution_count": 9,
     "metadata": {},
     "output_type": "execute_result"
    }
   ],
   "source": [
    "M = evol_dynamics.markov_chain_for_reactive_strategies(gtft, gtft)\n",
    "\n",
    "invariant_distribution_analytically(M)"
   ]
  },
  {
   "cell_type": "markdown",
   "metadata": {},
   "source": [
    "## Last two rounds"
   ]
  },
  {
   "cell_type": "code",
   "execution_count": 17,
   "metadata": {},
   "outputs": [],
   "source": [
    "delta = sym.symbols(\"delta\")"
   ]
  },
  {
   "cell_type": "code",
   "execution_count": 28,
   "metadata": {},
   "outputs": [],
   "source": [
    "def ss_last_two_rounds(s1, s2, delta):\n",
    "    M = evol_dynamics.markov_chain_for_reactive_strategies(s1, s2)\n",
    "    \n",
    "    v0 = np.array([s1[0] * s2[0], s1[0] * (1 - s2[0]), (1 - s1[0]) * s2[0], (1 - s1[0]) * (1 - s2[0])])\n",
    "    \n",
    "    A = sym.eye(4) - delta * M\n",
    "    \n",
    "    rhs = np.dot(v0, A.inv())\n",
    "    \n",
    "    v = sym.zeros(4, 4)\n",
    "    \n",
    "    for i in range(4):\n",
    "        for j in range(4):\n",
    "            v[i, j] = (1 - delta) * M[i, j] * (delta ** 2) * rhs[i]\n",
    "            \n",
    "    return v.reshape(1, 16)"
   ]
  },
  {
   "cell_type": "code",
   "execution_count": 32,
   "metadata": {},
   "outputs": [],
   "source": [
    "v = ss_last_two_rounds(alld, gtft, delta)"
   ]
  },
  {
   "cell_type": "code",
   "execution_count": 33,
   "metadata": {},
   "outputs": [],
   "source": [
    "vMM = ss_last_two_rounds(alld, alld, delta)\n",
    "vMR = ss_last_two_rounds(alld, gtft, delta)\n",
    "vRM = ss_last_two_rounds(gtft, alld, delta)\n",
    "vRR = ss_last_two_rounds(gtft, gtft, delta)"
   ]
  },
  {
   "cell_type": "code",
   "execution_count": 491,
   "metadata": {},
   "outputs": [],
   "source": [
    "vRM = ss_last_two_rounds(gtft, alld, delta)"
   ]
  },
  {
   "cell_type": "code",
   "execution_count": 613,
   "metadata": {},
   "outputs": [
    {
     "data": {
      "text/latex": [
       "$\\displaystyle \\left[\\begin{array}{cccccccccccccccc}0 & 0 & 0 & 0 & 0 & - \\frac{\\delta^{2} q \\left(1 - \\delta\\right) \\left(\\delta q - \\delta + 1\\right)}{\\delta - 1} & 0 & - \\frac{\\delta^{2} \\left(1 - \\delta\\right) \\left(1 - q\\right) \\left(\\delta q - \\delta + 1\\right)}{\\delta - 1} & 0 & 0 & 0 & 0 & 0 & \\frac{\\delta^{2} q \\left(1 - \\delta\\right) \\left(\\delta q - \\delta\\right)}{\\delta - 1} & 0 & \\frac{\\delta^{2} \\left(1 - \\delta\\right) \\left(1 - q\\right) \\left(\\delta q - \\delta\\right)}{\\delta - 1}\\end{array}\\right]$"
      ],
      "text/plain": [
       "Matrix([[0, 0, 0, 0, 0, -delta**2*q*(1 - delta)*(delta*q - delta + 1)/(delta - 1), 0, -delta**2*(1 - delta)*(1 - q)*(delta*q - delta + 1)/(delta - 1), 0, 0, 0, 0, 0, delta**2*q*(1 - delta)*(delta*q - delta)/(delta - 1), 0, delta**2*(1 - delta)*(1 - q)*(delta*q - delta)/(delta - 1)]])"
      ]
     },
     "execution_count": 613,
     "metadata": {},
     "output_type": "execute_result"
    }
   ],
   "source": [
    "vRM"
   ]
  },
  {
   "cell_type": "code",
   "execution_count": 493,
   "metadata": {},
   "outputs": [
    {
     "data": {
      "text/latex": [
       "$\\displaystyle \\left[\\begin{array}{cccccccccccccccc}0 & 0 & 0 & 0 & 0 & 0 & 0 & 0 & 0 & 0 & - \\frac{\\delta^{2} q \\left(1 - \\delta\\right) \\left(\\delta q - \\delta + 1\\right)}{\\delta - 1} & - \\frac{\\delta^{2} \\left(1 - \\delta\\right) \\left(1 - q\\right) \\left(\\delta q - \\delta + 1\\right)}{\\delta - 1} & 0 & 0 & \\frac{\\delta^{2} q \\left(1 - \\delta\\right) \\left(\\delta q - \\delta\\right)}{\\delta - 1} & \\frac{\\delta^{2} \\left(1 - \\delta\\right) \\left(1 - q\\right) \\left(\\delta q - \\delta\\right)}{\\delta - 1}\\end{array}\\right]$"
      ],
      "text/plain": [
       "Matrix([[0, 0, 0, 0, 0, 0, 0, 0, 0, 0, -delta**2*q*(1 - delta)*(delta*q - delta + 1)/(delta - 1), -delta**2*(1 - delta)*(1 - q)*(delta*q - delta + 1)/(delta - 1), 0, 0, delta**2*q*(1 - delta)*(delta*q - delta)/(delta - 1), delta**2*(1 - delta)*(1 - q)*(delta*q - delta)/(delta - 1)]])"
      ]
     },
     "execution_count": 493,
     "metadata": {},
     "output_type": "execute_result"
    }
   ],
   "source": [
    "vMR"
   ]
  },
  {
   "cell_type": "code",
   "execution_count": 496,
   "metadata": {},
   "outputs": [
    {
     "data": {
      "text/latex": [
       "$\\displaystyle - \\frac{\\delta^{2} q \\left(1 - \\delta\\right) \\left(\\delta q - \\delta + 1\\right)}{\\left(N - 1\\right) \\left(\\delta - 1\\right)}$"
      ],
      "text/plain": [
       "-delta**2*q*(1 - delta)*(delta*q - delta + 1)/((N - 1)*(delta - 1))"
      ]
     },
     "execution_count": 496,
     "metadata": {},
     "output_type": "execute_result"
    }
   ],
   "source": [
    "x[5, 10]"
   ]
  },
  {
   "cell_type": "code",
   "execution_count": 34,
   "metadata": {},
   "outputs": [],
   "source": [
    "b, c = sym.symbols(\"b, c\")"
   ]
  },
  {
   "cell_type": "code",
   "execution_count": 38,
   "metadata": {},
   "outputs": [
    {
     "data": {
      "text/plain": [
       "True"
      ]
     },
     "execution_count": 38,
     "metadata": {},
     "output_type": "execute_result"
    }
   ],
   "source": [
    "(1==1 & 2==1) | (1==1 & 1==1)"
   ]
  },
  {
   "cell_type": "code",
   "execution_count": 55,
   "metadata": {},
   "outputs": [
    {
     "data": {
      "text/latex": [
       "$\\displaystyle - \\frac{\\delta^{2} q \\left(1 - \\delta\\right) \\left(\\delta q - \\delta + 1\\right)}{\\left(N - 1\\right) \\left(\\delta - 1\\right)}$"
      ],
      "text/plain": [
       "-delta**2*q*(1 - delta)*(delta*q - delta + 1)/((N - 1)*(delta - 1))"
      ]
     },
     "execution_count": 55,
     "metadata": {},
     "output_type": "execute_result"
    }
   ],
   "source": [
    "1 / (N - 1) * vRM[i1 - 1]"
   ]
  },
  {
   "cell_type": "code",
   "execution_count": 56,
   "metadata": {},
   "outputs": [
    {
     "data": {
      "text/plain": [
       "False"
      ]
     },
     "execution_count": 56,
     "metadata": {},
     "output_type": "execute_result"
    }
   ],
   "source": [
    "((i1==1 & i2==1) | (i1==2 & i2==3)  |(i1==3 &i2==2)   |(i1==4 & i2==4) |(i1==5 & i2==9) |(i1==6 & i2==11)| (i1==7 & i2==10) |(i1==8 & i2==12) |(i1==9 & i2==5)  |(i1==10 & i2==7)|(i1==11 & i2==6)|(i1==12 & i2==8)| (i1==13 & i2==13)|(i1==14 & i2==15)|(i1==15 & i2==14)|(i1==16 & i2==16))"
   ]
  },
  {
   "cell_type": "code",
   "execution_count": 219,
   "metadata": {},
   "outputs": [],
   "source": [
    "x = sym.zeros(16,16)\n",
    "\n",
    "k = 1\n",
    "\n",
    "N = sym.symbols(\"N\")\n",
    "\n",
    "for i1 in range(1, 17):\n",
    "    for i2 in range(1, 17):\n",
    "        \n",
    "        feasible = ((i1==1 and  i2==1)    |(i1==2 and  i2==3)\n",
    "        |(i1==3 and i2==2)    |(i1==4 and  i2==4)\n",
    "        |(i1==5 and  i2==9)   |(i1==6 and  i2==11)\n",
    "        | (i1==7 and  i2==10) |(i1==8 and  i2==12) \n",
    "        |(i1==9 and  i2==5)   |(i1==10 and  i2==7)\n",
    "        |(i1==11 and  i2==6)  |(i1==12 and  i2==8)\n",
    "        | (i1==13 and  i2==13)|(i1==14 and  i2==15)\n",
    "         |(i1==15 and  i2==14)|(i1==16 and  i2==16))\n",
    "\n",
    "        first = 1 / (N - 1) * vRM[i1 - 1]\n",
    "\n",
    "        second = (1 - 1 / (N - 1)) / (N - 2) / (N - 3) * ((k - 1) * (k - 2) * vRM[i1 - 1] * vMM[i2 - 1] +\n",
    "                                                          (k - 1) * (N - k - 1) * vRM[i1 - 1] * vMR[i2 - 1] + (N - k - 1) * (k - 1) * vRR[i1 - 1] * vMM[i2 - 1]\n",
    "                                                          + (N - k - 1) * (N - k - 2) * vRR[i1 - 1] * vMR[i2 - 1])\n",
    "        \n",
    "        if feasible:\n",
    "            x[i1 - 1, i2 - 1] = first + second\n",
    "        else:\n",
    "            x[i1 - 1, i2 - 1] = second\n",
    "    "
   ]
  },
  {
   "cell_type": "code",
   "execution_count": 220,
   "metadata": {},
   "outputs": [],
   "source": [
    "beta = sym.symbols(\"beta\")"
   ]
  },
  {
   "cell_type": "code",
   "execution_count": 221,
   "metadata": {},
   "outputs": [],
   "source": [
    "def Rho(u, beta):\n",
    "\n",
    "    Us = sym.zeros(16, 16)\n",
    "\n",
    "    for i in range(16):\n",
    "        for j in range(16):\n",
    "#             print(int((j - 1) / 4), (j) % 4, int((i - 1) / 4), (i) % 4)\n",
    "            Us[i, j] = (u[int((j) / 4)] + u[(j) % 4]) - (u[int((i) / 4)] + u[(i) % 4])\n",
    "\n",
    "    Us = Us / 2\n",
    "    \n",
    "    rho = sym.zeros(16, 16);\n",
    "\n",
    "    for i in range(16):\n",
    "        for j in range(16):\n",
    "            rho[i, j] = 1 / (1 + sym.exp(-beta * Us[i, j]))\n",
    "            \n",
    "\n",
    "            return rho"
   ]
  },
  {
   "cell_type": "code",
   "execution_count": 518,
   "metadata": {},
   "outputs": [],
   "source": [
    "R, S, T, P = sym.symbols(\"R, S, T, P\")\n",
    "\n",
    "u = [R, S, T, P];"
   ]
  },
  {
   "cell_type": "code",
   "execution_count": 520,
   "metadata": {},
   "outputs": [],
   "source": [
    "rho = Rho(u, beta)"
   ]
  },
  {
   "cell_type": "code",
   "execution_count": 521,
   "metadata": {},
   "outputs": [
    {
     "data": {
      "text/plain": [
       "0.7310585786300049"
      ]
     },
     "execution_count": 521,
     "metadata": {},
     "output_type": "execute_result"
    }
   ],
   "source": [
    "1 / (np.exp(-1) + 1)"
   ]
  },
  {
   "cell_type": "code",
   "execution_count": 522,
   "metadata": {},
   "outputs": [
    {
     "data": {
      "text/latex": [
       "$\\displaystyle 1 + e^{- \\beta c}$"
      ],
      "text/plain": [
       "1 + exp(-beta*c)"
      ]
     },
     "execution_count": 522,
     "metadata": {},
     "output_type": "execute_result"
    }
   ],
   "source": [
    "sym.exp(-beta  * c) + 1"
   ]
  },
  {
   "cell_type": "code",
   "execution_count": 615,
   "metadata": {},
   "outputs": [
    {
     "data": {
      "text/latex": [
       "$\\displaystyle \\left(1 - \\frac{1}{N - 1}\\right) \\left(- \\frac{\\delta^{4} q \\left(\\delta q - \\delta\\right)}{1 + e^{- \\beta \\left(\\frac{P}{2} - R + \\frac{T}{2}\\right)}} + \\frac{\\delta^{4} q \\left(\\delta q - \\delta + 1\\right)}{1 + e^{- \\beta \\left(- R + T\\right)}} + \\frac{\\delta^{4} \\left(1 - q\\right) \\left(\\delta q - \\delta + 1\\right)}{1 + e^{- \\beta \\left(\\frac{P}{2} - R + \\frac{T}{2}\\right)}} - \\frac{\\delta^{4} \\left(1 - q\\right) \\left(\\delta q - \\delta\\right)}{1 + e^{- \\beta \\left(P - R\\right)}}\\right) + \\frac{- \\frac{\\delta^{2} q \\left(\\delta q - \\delta\\right)}{1 + e^{- \\beta \\left(- \\frac{S}{2} + \\frac{T}{2}\\right)}} + \\frac{\\delta^{2} q \\left(\\delta q - \\delta + 1\\right)}{1 + e^{- \\beta \\left(- S + T\\right)}} - \\frac{\\delta^{2} \\left(1 - q\\right) \\left(\\delta q - \\delta\\right)}{2} + \\frac{\\delta^{2} \\left(1 - q\\right) \\left(\\delta q - \\delta + 1\\right)}{1 + e^{- \\beta \\left(- \\frac{S}{2} + \\frac{T}{2}\\right)}}}{N - 1}$"
      ],
      "text/plain": [
       "(1 - 1/(N - 1))*(-delta**4*q*(delta*q - delta)/(1 + exp(-beta*(P/2 - R + T/2))) + delta**4*q*(delta*q - delta + 1)/(1 + exp(-beta*(-R + T))) + delta**4*(1 - q)*(delta*q - delta + 1)/(1 + exp(-beta*(P/2 - R + T/2))) - delta**4*(1 - q)*(delta*q - delta)/(1 + exp(-beta*(P - R)))) + (-delta**2*q*(delta*q - delta)/(1 + exp(-beta*(-S/2 + T/2))) + delta**2*q*(delta*q - delta + 1)/(1 + exp(-beta*(-S + T))) - delta**2*(1 - q)*(delta*q - delta)/2 + delta**2*(1 - q)*(delta*q - delta + 1)/(1 + exp(-beta*(-S/2 + T/2))))/(N - 1)"
      ]
     },
     "execution_count": 615,
     "metadata": {},
     "output_type": "execute_result"
    }
   ],
   "source": [
    "f + s"
   ]
  },
  {
   "cell_type": "code",
   "execution_count": 616,
   "metadata": {},
   "outputs": [
    {
     "data": {
      "text/latex": [
       "$\\displaystyle \\left(1 - \\frac{1}{N - 1}\\right) \\left(- \\frac{\\delta^{4} q \\left(\\delta q - \\delta\\right)}{1 + e^{- \\beta \\left(- \\frac{P}{2} + R - \\frac{T}{2}\\right)}} + \\frac{\\delta^{4} q \\left(\\delta q - \\delta + 1\\right)}{1 + e^{- \\beta \\left(R - T\\right)}} + \\frac{\\delta^{4} \\left(1 - q\\right) \\left(\\delta q - \\delta + 1\\right)}{1 + e^{- \\beta \\left(- \\frac{P}{2} + R - \\frac{T}{2}\\right)}} - \\frac{\\delta^{4} \\left(1 - q\\right) \\left(\\delta q - \\delta\\right)}{1 + e^{- \\beta \\left(- P + R\\right)}}\\right)$"
      ],
      "text/plain": [
       "(1 - 1/(N - 1))*(-delta**4*q*(delta*q - delta)/(1 + exp(-beta*(-P/2 + R - T/2))) + delta**4*q*(delta*q - delta + 1)/(1 + exp(-beta*(R - T))) + delta**4*(1 - q)*(delta*q - delta + 1)/(1 + exp(-beta*(-P/2 + R - T/2))) - delta**4*(1 - q)*(delta*q - delta)/(1 + exp(-beta*(-P + R))))"
      ]
     },
     "execution_count": 616,
     "metadata": {},
     "output_type": "execute_result"
    }
   ],
   "source": [
    "f2"
   ]
  },
  {
   "cell_type": "code",
   "execution_count": 524,
   "metadata": {},
   "outputs": [
    {
     "data": {
      "text/latex": [
       "$\\displaystyle \\frac{- \\frac{\\delta^{2} q \\left(\\delta q - \\delta\\right)}{1 + e^{- \\beta \\left(- \\frac{b}{2} - \\frac{c}{2}\\right)}} + \\frac{\\delta^{2} q \\left(\\delta q - \\delta + 1\\right)}{1 + e^{- \\beta \\left(- b - c\\right)}} - \\frac{\\delta^{2} \\left(1 - q\\right) \\left(\\delta q - \\delta\\right)}{2} + \\frac{\\delta^{2} \\left(1 - q\\right) \\left(\\delta q - \\delta + 1\\right)}{1 + e^{- \\beta \\left(- \\frac{b}{2} - \\frac{c}{2}\\right)}}}{N - 1}$"
      ],
      "text/plain": [
       "(-delta**2*q*(delta*q - delta)/(1 + exp(-beta*(-b/2 - c/2))) + delta**2*q*(delta*q - delta + 1)/(1 + exp(-beta*(-b - c))) - delta**2*(1 - q)*(delta*q - delta)/2 + delta**2*(1 - q)*(delta*q - delta + 1)/(1 + exp(-beta*(-b/2 - c/2))))/(N - 1)"
      ]
     },
     "execution_count": 524,
     "metadata": {},
     "output_type": "execute_result"
    }
   ],
   "source": [
    "s2"
   ]
  },
  {
   "cell_type": "code",
   "execution_count": 525,
   "metadata": {},
   "outputs": [
    {
     "data": {
      "text/latex": [
       "$\\displaystyle \\left[\\begin{array}{cccccccccccccccc}0 & 0 & 0 & 0 & 0 & 0 & 0 & 0 & 0 & 0 & 0.04536 & 0.18144 & 0 & 0 & 0.11664 & 0.46656\\end{array}\\right]$"
      ],
      "text/plain": [
       "Matrix([[0, 0, 0, 0, 0, 0, 0, 0, 0, 0, 0.04536, 0.18144, 0, 0, 0.11664, 0.46656]])"
      ]
     },
     "execution_count": 525,
     "metadata": {},
     "output_type": "execute_result"
    }
   ],
   "source": [
    "vMR.subs({q:1/5, delta:0.9})"
   ]
  },
  {
   "cell_type": "code",
   "execution_count": 526,
   "metadata": {},
   "outputs": [
    {
     "data": {
      "text/latex": [
       "$\\displaystyle \\left[\\begin{array}{cccccccccccccccc}0 & 0 & 0 & 0 & 0 & 0.04536 & 0 & 0.18144 & 0 & 0 & 0 & 0 & 0 & 0.11664 & 0 & 0.46656\\end{array}\\right]$"
      ],
      "text/plain": [
       "Matrix([[0, 0, 0, 0, 0, 0.04536, 0, 0.18144, 0, 0, 0, 0, 0, 0.11664, 0, 0.46656]])"
      ]
     },
     "execution_count": 526,
     "metadata": {},
     "output_type": "execute_result"
    }
   ],
   "source": [
    "vRM.subs({q:1/5, delta:0.9})"
   ]
  },
  {
   "cell_type": "code",
   "execution_count": 527,
   "metadata": {},
   "outputs": [
    {
     "data": {
      "text/latex": [
       "$\\displaystyle \\left[\\begin{array}{cccccccccccccccc}0.81 & 0 & 0 & 0 & 0 & 0 & 0 & 0 & 0 & 0 & 0 & 0 & 0 & 0 & 0 & 0\\end{array}\\right]$"
      ],
      "text/plain": [
       "Matrix([[0.81, 0, 0, 0, 0, 0, 0, 0, 0, 0, 0, 0, 0, 0, 0, 0]])"
      ]
     },
     "execution_count": 527,
     "metadata": {},
     "output_type": "execute_result"
    }
   ],
   "source": [
    "vRR.subs({q:1/5, delta:0.9})"
   ]
  },
  {
   "cell_type": "code",
   "execution_count": 528,
   "metadata": {},
   "outputs": [
    {
     "data": {
      "text/plain": [
       "array([-0.   , -0.   , -0.   , -0.   , -0.   , -0.   , -0.   , -0.   ,\n",
       "        0.   ,  0.   ,  0.045,  0.181,  0.   ,  0.   ,  0.117,  0.467])"
      ]
     },
     "execution_count": 528,
     "metadata": {},
     "output_type": "execute_result"
    }
   ],
   "source": [
    "evol_dynamics.stationary_for_16_states((0, 0, 0), (1, 1, 1/5), .9).round(3)"
   ]
  },
  {
   "cell_type": "code",
   "execution_count": 529,
   "metadata": {},
   "outputs": [
    {
     "data": {
      "text/plain": [
       "array([-0.   , -0.   , -0.   , -0.   ,  0.   ,  0.045,  0.   ,  0.181,\n",
       "       -0.   , -0.   , -0.   , -0.   ,  0.   ,  0.117,  0.   ,  0.467])"
      ]
     },
     "execution_count": 529,
     "metadata": {},
     "output_type": "execute_result"
    }
   ],
   "source": [
    "evol_dynamics.stationary_for_16_states((1, 1, 1/5), (0, 0, 0), .9).round(3)"
   ]
  },
  {
   "cell_type": "code",
   "execution_count": 530,
   "metadata": {},
   "outputs": [
    {
     "data": {
      "text/plain": [
       "array([0.81, 0.  , 0.  , 0.  , 0.  , 0.  , 0.  , 0.  , 0.  , 0.  , 0.  ,\n",
       "       0.  , 0.  , 0.  , 0.  , 0.  ])"
      ]
     },
     "execution_count": 530,
     "metadata": {},
     "output_type": "execute_result"
    }
   ],
   "source": [
    "evol_dynamics.stationary_for_16_states((1, 1, 1/5), (1, 1, 1/5), .9).round(3)"
   ]
  },
  {
   "cell_type": "code",
   "execution_count": 556,
   "metadata": {},
   "outputs": [],
   "source": [
    "num1 = - (delta ** 4 * q * (delta * q - delta))\n",
    "\n",
    "num2 = (delta ** 4 * q * (delta * q  - delta + 1))\n",
    "\n",
    "num3 = delta ** 4 * (1 - q) * (delta * q  - delta + 1)\n",
    "\n",
    "num4 = - delta ** 4 * (1 - q) * (delta * q - delta)\n",
    "\n",
    "\n",
    "\n",
    "num21 = delta ** 2 * q * (delta * q - delta + 1) \n",
    "\n",
    "num22 = delta ** 2 * q * (delta * q - delta)\n",
    "\n",
    "num23 = delta ** 2 * (1 - q) * (delta * q - delta)\n",
    "\n",
    "num24 = delta ** 2 * (1 - q) * (delta * q - delta + 1)\n",
    "\n",
    "\n",
    "f = (1 - 1/ (N - 1)) * (num1 / (sym.exp(-beta  * (P / 2 - R + T / 2)) + 1) + num2 / (sym.exp(-beta  * (-R + T)) + 1)\n",
    "                       + num3 / (sym.exp(-beta  * (P / 2 - R + T / 2)) + 1) + num4 / (sym.exp(-beta  * (P - R)) + 1))\n",
    "\n",
    "\n",
    "s = (1 / (N - 1)) * (- num22 / (sym.exp(-beta  * (- S / 2 + T / 2)) + 1) + num21 / (sym.exp(-beta  * (- S + T)) + 1)\n",
    "                    - num23 / 2 + num24 / (sym.exp(-beta  * (- S / 2 + T / 2)) + 1))"
   ]
  },
  {
   "cell_type": "code",
   "execution_count": 555,
   "metadata": {},
   "outputs": [
    {
     "data": {
      "text/latex": [
       "$\\displaystyle \\frac{- \\frac{\\delta^{2} q \\left(\\delta q - \\delta + 1\\right)}{1 + e^{- \\beta \\left(- \\frac{S}{2} + \\frac{T}{2}\\right)}} + \\frac{\\delta^{2} q \\left(\\delta q - \\delta\\right)}{1 + e^{- \\beta \\left(- S + T\\right)}} - \\frac{\\delta^{2} \\left(1 - q\\right) \\left(\\delta q - \\delta\\right)}{2} + \\frac{\\delta^{2} \\left(1 - q\\right) \\left(\\delta q - \\delta + 1\\right)}{1 + e^{- \\beta \\left(- \\frac{S}{2} + \\frac{T}{2}\\right)}}}{N - 1}$"
      ],
      "text/plain": [
       "(-delta**2*q*(delta*q - delta + 1)/(1 + exp(-beta*(-S/2 + T/2))) + delta**2*q*(delta*q - delta)/(1 + exp(-beta*(-S + T))) - delta**2*(1 - q)*(delta*q - delta)/2 + delta**2*(1 - q)*(delta*q - delta + 1)/(1 + exp(-beta*(-S/2 + T/2))))/(N - 1)"
      ]
     },
     "execution_count": 555,
     "metadata": {},
     "output_type": "execute_result"
    }
   ],
   "source": [
    "s"
   ]
  },
  {
   "cell_type": "code",
   "execution_count": 548,
   "metadata": {
    "scrolled": true
   },
   "outputs": [],
   "source": [
    "expr = (sum(sum(np.multiply(x, rho))))"
   ]
  },
  {
   "cell_type": "code",
   "execution_count": 549,
   "metadata": {},
   "outputs": [
    {
     "data": {
      "text/latex": [
       "$\\displaystyle - \\frac{\\delta^{4} q \\left(1 - \\frac{1}{N - 1}\\right) \\left(\\delta q - \\delta\\right)}{1 + e^{- \\beta \\left(\\frac{P}{2} - R + \\frac{T}{2}\\right)}} + \\frac{\\delta^{4} q \\left(1 - \\frac{1}{N - 1}\\right) \\left(\\delta q - \\delta + 1\\right)}{1 + e^{- \\beta \\left(- R + T\\right)}} + \\frac{\\delta^{4} \\left(1 - q\\right) \\left(1 - \\frac{1}{N - 1}\\right) \\left(\\delta q - \\delta + 1\\right)}{1 + e^{- \\beta \\left(\\frac{P}{2} - R + \\frac{T}{2}\\right)}} - \\frac{\\delta^{4} \\left(1 - q\\right) \\left(1 - \\frac{1}{N - 1}\\right) \\left(\\delta q - \\delta\\right)}{1 + e^{- \\beta \\left(P - R\\right)}} - \\frac{\\delta^{2} q \\left(\\delta q - \\delta\\right)}{\\left(1 + e^{- \\beta \\left(- \\frac{S}{2} + \\frac{T}{2}\\right)}\\right) \\left(N - 1\\right)} + \\frac{\\delta^{2} q \\left(\\delta q - \\delta + 1\\right)}{\\left(1 + e^{- \\beta \\left(- S + T\\right)}\\right) \\left(N - 1\\right)} - \\frac{\\delta^{2} \\left(1 - q\\right) \\left(\\delta q - \\delta\\right)}{2 \\left(N - 1\\right)} + \\frac{\\delta^{2} \\left(1 - q\\right) \\left(\\delta q - \\delta + 1\\right)}{\\left(1 + e^{- \\beta \\left(- \\frac{S}{2} + \\frac{T}{2}\\right)}\\right) \\left(N - 1\\right)}$"
      ],
      "text/plain": [
       "-delta**4*q*(1 - 1/(N - 1))*(delta*q - delta)/(1 + exp(-beta*(P/2 - R + T/2))) + delta**4*q*(1 - 1/(N - 1))*(delta*q - delta + 1)/(1 + exp(-beta*(-R + T))) + delta**4*(1 - q)*(1 - 1/(N - 1))*(delta*q - delta + 1)/(1 + exp(-beta*(P/2 - R + T/2))) - delta**4*(1 - q)*(1 - 1/(N - 1))*(delta*q - delta)/(1 + exp(-beta*(P - R))) - delta**2*q*(delta*q - delta)/((1 + exp(-beta*(-S/2 + T/2)))*(N - 1)) + delta**2*q*(delta*q - delta + 1)/((1 + exp(-beta*(-S + T)))*(N - 1)) - delta**2*(1 - q)*(delta*q - delta)/(2*(N - 1)) + delta**2*(1 - q)*(delta*q - delta + 1)/((1 + exp(-beta*(-S/2 + T/2)))*(N - 1))"
      ]
     },
     "execution_count": 549,
     "metadata": {},
     "output_type": "execute_result"
    }
   ],
   "source": [
    "expr.collect(delta - 1).collect((1 / N - 1))"
   ]
  },
  {
   "cell_type": "code",
   "execution_count": 557,
   "metadata": {},
   "outputs": [
    {
     "data": {
      "text/latex": [
       "$\\displaystyle 0$"
      ],
      "text/plain": [
       "0"
      ]
     },
     "execution_count": 557,
     "metadata": {},
     "output_type": "execute_result"
    }
   ],
   "source": [
    "(expr.collect(delta - 1) - (f + s)).expand()"
   ]
  },
  {
   "cell_type": "code",
   "execution_count": 551,
   "metadata": {},
   "outputs": [
    {
     "data": {
      "text/latex": [
       "$\\displaystyle - \\frac{\\delta^{4} q \\left(\\delta q - \\delta\\right)}{1 + e^{- \\beta \\left(\\frac{P}{2} - R + \\frac{T}{2}\\right)}} + \\frac{\\delta^{4} q \\left(\\delta q - \\delta + 1\\right)}{1 + e^{- \\beta \\left(- R + T\\right)}} + \\frac{\\delta^{4} \\left(1 - q\\right) \\left(\\delta q - \\delta + 1\\right)}{1 + e^{- \\beta \\left(\\frac{P}{2} - R + \\frac{T}{2}\\right)}} - \\frac{\\delta^{4} \\left(1 - q\\right) \\left(\\delta q - \\delta\\right)}{1 + e^{- \\beta \\left(P - R\\right)}}$"
      ],
      "text/plain": [
       "-delta**4*q*(delta*q - delta)/(1 + exp(-beta*(P/2 - R + T/2))) + delta**4*q*(delta*q - delta + 1)/(1 + exp(-beta*(-R + T))) + delta**4*(1 - q)*(delta*q - delta + 1)/(1 + exp(-beta*(P/2 - R + T/2))) - delta**4*(1 - q)*(delta*q - delta)/(1 + exp(-beta*(P - R)))"
      ]
     },
     "execution_count": 551,
     "metadata": {},
     "output_type": "execute_result"
    }
   ],
   "source": [
    "f  / (1 - 1/ (N - 1))"
   ]
  },
  {
   "cell_type": "code",
   "execution_count": 561,
   "metadata": {},
   "outputs": [],
   "source": [
    "# expr.subs({delta:0.999, b:10, c:1, beta:1, q:.8, N:100}).round(5)"
   ]
  },
  {
   "cell_type": "code",
   "execution_count": 562,
   "metadata": {},
   "outputs": [],
   "source": [
    "# expr2.subs({delta:0.999, b:10, c:1, beta:1, q:.8, N:100}).round(5)"
   ]
  },
  {
   "cell_type": "code",
   "execution_count": 563,
   "metadata": {},
   "outputs": [],
   "source": [
    "expr2 = (sum(sum(np.multiply(x, rho.T))))"
   ]
  },
  {
   "cell_type": "code",
   "execution_count": 564,
   "metadata": {},
   "outputs": [
    {
     "data": {
      "text/latex": [
       "$\\displaystyle - \\frac{\\delta^{4} q \\left(1 - \\frac{1}{N - 1}\\right) \\left(\\delta q - \\delta\\right)}{1 + e^{- \\beta \\left(- \\frac{P}{2} + R - \\frac{T}{2}\\right)}} + \\frac{\\delta^{4} q \\left(1 - \\frac{1}{N - 1}\\right) \\left(\\delta q - \\delta + 1\\right)}{1 + e^{- \\beta \\left(R - T\\right)}} + \\frac{\\delta^{4} \\left(1 - q\\right) \\left(1 - \\frac{1}{N - 1}\\right) \\left(\\delta q - \\delta + 1\\right)}{1 + e^{- \\beta \\left(- \\frac{P}{2} + R - \\frac{T}{2}\\right)}} - \\frac{\\delta^{4} \\left(1 - q\\right) \\left(1 - \\frac{1}{N - 1}\\right) \\left(\\delta q - \\delta\\right)}{1 + e^{- \\beta \\left(- P + R\\right)}} + \\frac{\\delta^{2} q \\left(\\delta q - \\delta + 1\\right)}{\\left(1 + e^{- \\beta \\left(S - T\\right)}\\right) \\left(N - 1\\right)} - \\frac{\\delta^{2} q \\left(\\delta q - \\delta\\right)}{\\left(1 + e^{- \\beta \\left(\\frac{S}{2} - \\frac{T}{2}\\right)}\\right) \\left(N - 1\\right)} - \\frac{\\delta^{2} \\left(1 - q\\right) \\left(\\delta q - \\delta\\right)}{2 \\left(N - 1\\right)} + \\frac{\\delta^{2} \\left(1 - q\\right) \\left(\\delta q - \\delta + 1\\right)}{\\left(1 + e^{- \\beta \\left(\\frac{S}{2} - \\frac{T}{2}\\right)}\\right) \\left(N - 1\\right)}$"
      ],
      "text/plain": [
       "-delta**4*q*(1 - 1/(N - 1))*(delta*q - delta)/(1 + exp(-beta*(-P/2 + R - T/2))) + delta**4*q*(1 - 1/(N - 1))*(delta*q - delta + 1)/(1 + exp(-beta*(R - T))) + delta**4*(1 - q)*(1 - 1/(N - 1))*(delta*q - delta + 1)/(1 + exp(-beta*(-P/2 + R - T/2))) - delta**4*(1 - q)*(1 - 1/(N - 1))*(delta*q - delta)/(1 + exp(-beta*(-P + R))) + delta**2*q*(delta*q - delta + 1)/((1 + exp(-beta*(S - T)))*(N - 1)) - delta**2*q*(delta*q - delta)/((1 + exp(-beta*(S/2 - T/2)))*(N - 1)) - delta**2*(1 - q)*(delta*q - delta)/(2*(N - 1)) + delta**2*(1 - q)*(delta*q - delta + 1)/((1 + exp(-beta*(S/2 - T/2)))*(N - 1))"
      ]
     },
     "execution_count": 564,
     "metadata": {},
     "output_type": "execute_result"
    }
   ],
   "source": [
    "expr2.collect(delta - 1)"
   ]
  },
  {
   "cell_type": "code",
   "execution_count": 601,
   "metadata": {},
   "outputs": [],
   "source": [
    "f2 = (1 - 1/ (N - 1)) * (num1 / (sym.exp(-beta  * (-P/2 + R - T/2)) + 1) + num2 / (sym.exp(-beta  * (R - T)) + 1)\n",
    "                       + num3 / (sym.exp(-beta  * (-P/2 + R - T/2)) + 1) + num4 / (sym.exp(-beta  * (-P + R)) + 1))\n",
    "\n",
    "\n",
    "s2 = (1 / (N - 1)) * (+ num21 / (sym.exp(-beta  * (S - T)) + 1) - num22 /  (sym.exp(-beta * (S/2 - T/2)) + 1)\n",
    "                    - num23 / 2 + num24 / (sym.exp(-beta  * (S/2 - T/2)) + 1))"
   ]
  },
  {
   "cell_type": "code",
   "execution_count": 602,
   "metadata": {},
   "outputs": [
    {
     "data": {
      "text/latex": [
       "$\\displaystyle \\left(1 - \\frac{1}{N - 1}\\right) \\left(- \\frac{\\delta^{4} q \\left(\\delta q - \\delta\\right)}{1 + e^{- \\beta \\left(- \\frac{P}{2} + R - \\frac{T}{2}\\right)}} + \\frac{\\delta^{4} q \\left(\\delta q - \\delta + 1\\right)}{1 + e^{- \\beta \\left(R - T\\right)}} + \\frac{\\delta^{4} \\left(1 - q\\right) \\left(\\delta q - \\delta + 1\\right)}{1 + e^{- \\beta \\left(- \\frac{P}{2} + R - \\frac{T}{2}\\right)}} - \\frac{\\delta^{4} \\left(1 - q\\right) \\left(\\delta q - \\delta\\right)}{1 + e^{- \\beta \\left(- P + R\\right)}}\\right)$"
      ],
      "text/plain": [
       "(1 - 1/(N - 1))*(-delta**4*q*(delta*q - delta)/(1 + exp(-beta*(-P/2 + R - T/2))) + delta**4*q*(delta*q - delta + 1)/(1 + exp(-beta*(R - T))) + delta**4*(1 - q)*(delta*q - delta + 1)/(1 + exp(-beta*(-P/2 + R - T/2))) - delta**4*(1 - q)*(delta*q - delta)/(1 + exp(-beta*(-P + R))))"
      ]
     },
     "execution_count": 602,
     "metadata": {},
     "output_type": "execute_result"
    }
   ],
   "source": [
    "f2"
   ]
  },
  {
   "cell_type": "code",
   "execution_count": 603,
   "metadata": {},
   "outputs": [
    {
     "data": {
      "text/latex": [
       "$\\displaystyle \\frac{\\frac{\\delta^{2} q \\left(\\delta q - \\delta + 1\\right)}{1 + e^{- \\beta \\left(S - T\\right)}} - \\frac{\\delta^{2} q \\left(\\delta q - \\delta\\right)}{1 + e^{- \\beta \\left(\\frac{S}{2} - \\frac{T}{2}\\right)}} - \\frac{\\delta^{2} \\left(1 - q\\right) \\left(\\delta q - \\delta\\right)}{2} + \\frac{\\delta^{2} \\left(1 - q\\right) \\left(\\delta q - \\delta + 1\\right)}{1 + e^{- \\beta \\left(\\frac{S}{2} - \\frac{T}{2}\\right)}}}{N - 1}$"
      ],
      "text/plain": [
       "(delta**2*q*(delta*q - delta + 1)/(1 + exp(-beta*(S - T))) - delta**2*q*(delta*q - delta)/(1 + exp(-beta*(S/2 - T/2))) - delta**2*(1 - q)*(delta*q - delta)/2 + delta**2*(1 - q)*(delta*q - delta + 1)/(1 + exp(-beta*(S/2 - T/2))))/(N - 1)"
      ]
     },
     "execution_count": 603,
     "metadata": {},
     "output_type": "execute_result"
    }
   ],
   "source": [
    "s2"
   ]
  },
  {
   "cell_type": "code",
   "execution_count": 604,
   "metadata": {},
   "outputs": [
    {
     "data": {
      "text/latex": [
       "$\\displaystyle 0$"
      ],
      "text/plain": [
       "0"
      ]
     },
     "execution_count": 604,
     "metadata": {},
     "output_type": "execute_result"
    }
   ],
   "source": [
    "(expr2.collect(delta - 1) - (f2 + s2)).expand()"
   ]
  },
  {
   "cell_type": "code",
   "execution_count": 610,
   "metadata": {},
   "outputs": [
    {
     "data": {
      "text/latex": [
       "$\\displaystyle \\frac{- \\frac{\\delta^{4} q \\left(\\delta q - \\delta\\right)}{1 + e^{- \\beta \\left(\\frac{P}{2} - R + \\frac{T}{2}\\right)}} + \\frac{\\delta^{4} q \\left(\\delta q - \\delta + 1\\right)}{1 + e^{- \\beta \\left(- R + T\\right)}} + \\frac{\\delta^{4} \\left(1 - q\\right) \\left(\\delta q - \\delta + 1\\right)}{1 + e^{- \\beta \\left(\\frac{P}{2} - R + \\frac{T}{2}\\right)}} - \\frac{\\delta^{4} \\left(1 - q\\right) \\left(\\delta q - \\delta\\right)}{1 + e^{- \\beta \\left(P - R\\right)}}}{- \\frac{\\delta^{4} q \\left(\\delta q - \\delta\\right)}{1 + e^{- \\beta \\left(- \\frac{P}{2} + R - \\frac{T}{2}\\right)}} + \\frac{\\delta^{4} q \\left(\\delta q - \\delta + 1\\right)}{1 + e^{- \\beta \\left(R - T\\right)}} + \\frac{\\delta^{4} \\left(1 - q\\right) \\left(\\delta q - \\delta + 1\\right)}{1 + e^{- \\beta \\left(- \\frac{P}{2} + R - \\frac{T}{2}\\right)}} - \\frac{\\delta^{4} \\left(1 - q\\right) \\left(\\delta q - \\delta\\right)}{1 + e^{- \\beta \\left(- P + R\\right)}}}$"
      ],
      "text/plain": [
       "(-delta**4*q*(delta*q - delta)/(1 + exp(-beta*(P/2 - R + T/2))) + delta**4*q*(delta*q - delta + 1)/(1 + exp(-beta*(-R + T))) + delta**4*(1 - q)*(delta*q - delta + 1)/(1 + exp(-beta*(P/2 - R + T/2))) - delta**4*(1 - q)*(delta*q - delta)/(1 + exp(-beta*(P - R))))/(-delta**4*q*(delta*q - delta)/(1 + exp(-beta*(-P/2 + R - T/2))) + delta**4*q*(delta*q - delta + 1)/(1 + exp(-beta*(R - T))) + delta**4*(1 - q)*(delta*q - delta + 1)/(1 + exp(-beta*(-P/2 + R - T/2))) - delta**4*(1 - q)*(delta*q - delta)/(1 + exp(-beta*(-P + R))))"
      ]
     },
     "execution_count": 610,
     "metadata": {},
     "output_type": "execute_result"
    }
   ],
   "source": [
    "((f  / (1 - 1/ (N - 1))) / (f2 / (1 - 1/ (N - 1))))"
   ]
  },
  {
   "cell_type": "code",
   "execution_count": null,
   "metadata": {},
   "outputs": [],
   "source": []
  },
  {
   "cell_type": "code",
   "execution_count": 606,
   "metadata": {},
   "outputs": [
    {
     "data": {
      "text/plain": [
       "'(q^2/(1 + Exp[-beta*(-R + T)]) + q*(1 - q)/(1 + Exp[-beta*((1/2)*P - R + (1/2)*T)]) - q*(q - 1)/(1 + Exp[-beta*((1/2)*P - R + (1/2)*T)]) - (1 - q)*(q - 1)/(1 + Exp[-beta*(P - R)]))/(q^2/(1 + Exp[-beta*(R - T)]) + q*(1 - q)/(1 + Exp[-beta*(-1/2*P + R - 1/2*T)]) - q*(q - 1)/(1 + Exp[-beta*(-1/2*P + R - 1/2*T)]) - (1 - q)*(q - 1)/(1 + Exp[-beta*(-P + R)]))'"
      ]
     },
     "execution_count": 606,
     "metadata": {},
     "output_type": "execute_result"
    }
   ],
   "source": [
    "mcode(((f  / (1 - 1/ (N - 1))) / (f2 / (1 - 1/ (N - 1)))).subs({delta:1}))"
   ]
  },
  {
   "cell_type": "code",
   "execution_count": 607,
   "metadata": {},
   "outputs": [
    {
     "data": {
      "text/plain": [
       "0.7071067811865475"
      ]
     },
     "execution_count": 607,
     "metadata": {},
     "output_type": "execute_result"
    }
   ],
   "source": [
    "1 / np.sqrt(2)"
   ]
  },
  {
   "cell_type": "code",
   "execution_count": 489,
   "metadata": {},
   "outputs": [
    {
     "data": {
      "text/latex": [
       "$\\displaystyle - q^{2} + 2 q$"
      ],
      "text/plain": [
       "-q**2 + 2*q"
      ]
     },
     "execution_count": 489,
     "metadata": {},
     "output_type": "execute_result"
    }
   ],
   "source": [
    "(q ** 2 - 2 * q * (q - 1)).expand()"
   ]
  },
  {
   "cell_type": "code",
   "execution_count": 490,
   "metadata": {},
   "outputs": [
    {
     "data": {
      "text/latex": [
       "$\\displaystyle 1 - q^{2}$"
      ],
      "text/plain": [
       "1 - q**2"
      ]
     },
     "execution_count": 490,
     "metadata": {},
     "output_type": "execute_result"
    }
   ],
   "source": [
    "((q - 1) ** 2 - 2 * q * (q - 1)).expand()"
   ]
  },
  {
   "cell_type": "code",
   "execution_count": 422,
   "metadata": {},
   "outputs": [
    {
     "data": {
      "text/latex": [
       "$\\displaystyle - \\frac{\\sqrt{5}}{2} - \\frac{1}{2}$"
      ],
      "text/plain": [
       "-sqrt(5)/2 - 1/2"
      ]
     },
     "execution_count": 422,
     "metadata": {},
     "output_type": "execute_result"
    }
   ],
   "source": [
    "sym.solve(q ** 2 + q - 1)[1]"
   ]
  },
  {
   "cell_type": "code",
   "execution_count": 423,
   "metadata": {},
   "outputs": [
    {
     "data": {
      "text/plain": [
       "-1.618033988749895"
      ]
     },
     "execution_count": 423,
     "metadata": {},
     "output_type": "execute_result"
    }
   ],
   "source": [
    "-(np.sqrt(5) / 2) - 1/2"
   ]
  },
  {
   "cell_type": "code",
   "execution_count": 435,
   "metadata": {},
   "outputs": [
    {
     "data": {
      "text/latex": [
       "$\\displaystyle \\frac{\\sqrt{5}}{2} + \\frac{3}{2}$"
      ],
      "text/plain": [
       "sqrt(5)/2 + 3/2"
      ]
     },
     "execution_count": 435,
     "metadata": {},
     "output_type": "execute_result"
    }
   ],
   "source": [
    "sym.solve(q - ((1 - q) ** 2).expand())[1]"
   ]
  },
  {
   "cell_type": "code",
   "execution_count": 433,
   "metadata": {},
   "outputs": [
    {
     "data": {
      "text/plain": [
       "1.118033988749895"
      ]
     },
     "execution_count": 433,
     "metadata": {},
     "output_type": "execute_result"
    }
   ],
   "source": [
    "(np.sqrt(5) / 2) "
   ]
  },
  {
   "cell_type": "code",
   "execution_count": 416,
   "metadata": {},
   "outputs": [
    {
     "data": {
      "text/latex": [
       "$\\displaystyle \\frac{\\left(1 - \\frac{1}{N - 1}\\right) \\left(- \\frac{\\delta^{4} q \\left(\\delta q - \\delta\\right)}{1 + e^{- \\beta \\left(- \\frac{b}{2} + c\\right)}} + \\frac{\\delta^{4} q \\left(\\delta q - \\delta + 1\\right)}{1 + e^{- \\beta c}} + \\frac{\\delta^{4} \\left(1 - q\\right) \\left(\\delta q - \\delta + 1\\right)}{1 + e^{- \\beta \\left(- \\frac{b}{2} + c\\right)}} - \\frac{\\delta^{4} \\left(1 - q\\right) \\left(\\delta q - \\delta\\right)}{1 + e^{- \\beta \\left(- b + c\\right)}}\\right) + \\frac{\\frac{\\delta^{2} q \\left(\\delta q - \\delta + 1\\right)}{1 + e^{- \\beta \\left(b + c\\right)}} - \\frac{\\delta^{2} q \\left(\\delta q - \\delta\\right)}{1 + e^{- \\beta \\left(\\frac{b}{2} + \\frac{c}{2}\\right)}} - \\frac{\\delta^{2} \\left(1 - q\\right) \\left(\\delta q - \\delta\\right)}{2} + \\frac{\\delta^{2} \\left(1 - q\\right) \\left(\\delta q - \\delta + 1\\right)}{1 + e^{- \\beta \\left(\\frac{b}{2} + \\frac{c}{2}\\right)}}}{N - 1}}{\\left(1 - \\frac{1}{N - 1}\\right) \\left(\\frac{\\delta^{4} q \\left(\\delta q - \\delta + 1\\right)}{e^{\\beta c} + 1} - \\frac{\\delta^{4} q \\left(\\delta q - \\delta\\right)}{1 + e^{- \\beta \\left(\\frac{b}{2} - c\\right)}} - \\frac{\\delta^{4} \\left(1 - q\\right) \\left(\\delta q - \\delta\\right)}{1 + e^{- \\beta \\left(b - c\\right)}} + \\frac{\\delta^{4} \\left(1 - q\\right) \\left(\\delta q - \\delta + 1\\right)}{1 + e^{- \\beta \\left(\\frac{b}{2} - c\\right)}}\\right) + \\frac{- \\frac{\\delta^{2} q \\left(\\delta q - \\delta\\right)}{1 + e^{- \\beta \\left(- \\frac{b}{2} - \\frac{c}{2}\\right)}} + \\frac{\\delta^{2} q \\left(\\delta q - \\delta + 1\\right)}{1 + e^{- \\beta \\left(- b - c\\right)}} - \\frac{\\delta^{2} \\left(1 - q\\right) \\left(\\delta q - \\delta\\right)}{2} + \\frac{\\delta^{2} \\left(1 - q\\right) \\left(\\delta q - \\delta + 1\\right)}{1 + e^{- \\beta \\left(- \\frac{b}{2} - \\frac{c}{2}\\right)}}}{N - 1}}$"
      ],
      "text/plain": [
       "((1 - 1/(N - 1))*(-delta**4*q*(delta*q - delta)/(1 + exp(-beta*(-b/2 + c))) + delta**4*q*(delta*q - delta + 1)/(1 + exp(-beta*c)) + delta**4*(1 - q)*(delta*q - delta + 1)/(1 + exp(-beta*(-b/2 + c))) - delta**4*(1 - q)*(delta*q - delta)/(1 + exp(-beta*(-b + c)))) + (delta**2*q*(delta*q - delta + 1)/(1 + exp(-beta*(b + c))) - delta**2*q*(delta*q - delta)/(1 + exp(-beta*(b/2 + c/2))) - delta**2*(1 - q)*(delta*q - delta)/2 + delta**2*(1 - q)*(delta*q - delta + 1)/(1 + exp(-beta*(b/2 + c/2))))/(N - 1))/((1 - 1/(N - 1))*(delta**4*q*(delta*q - delta + 1)/(exp(beta*c) + 1) - delta**4*q*(delta*q - delta)/(1 + exp(-beta*(b/2 - c))) - delta**4*(1 - q)*(delta*q - delta)/(1 + exp(-beta*(b - c))) + delta**4*(1 - q)*(delta*q - delta + 1)/(1 + exp(-beta*(b/2 - c)))) + (-delta**2*q*(delta*q - delta)/(1 + exp(-beta*(-b/2 - c/2))) + delta**2*q*(delta*q - delta + 1)/(1 + exp(-beta*(-b - c))) - delta**2*(1 - q)*(delta*q - delta)/2 + delta**2*(1 - q)*(delta*q - delta + 1)/(1 + exp(-beta*(-b/2 - c/2))))/(N - 1))"
      ]
     },
     "execution_count": 416,
     "metadata": {},
     "output_type": "execute_result"
    }
   ],
   "source": [
    "(f + s) / (f2 + s2)"
   ]
  },
  {
   "cell_type": "code",
   "execution_count": 409,
   "metadata": {},
   "outputs": [
    {
     "data": {
      "text/latex": [
       "$\\displaystyle 0$"
      ],
      "text/plain": [
       "0"
      ]
     },
     "execution_count": 409,
     "metadata": {},
     "output_type": "execute_result"
    }
   ],
   "source": [
    "(expr2.collect(delta - 1) - (f2 + s2)).expand()"
   ]
  },
  {
   "cell_type": "code",
   "execution_count": 439,
   "metadata": {},
   "outputs": [],
   "source": [
    "eq = - delta ** 4 * q * (delta * q - delta) / (- delta ** 4 * q * (delta * q - delta) \n",
    "                                          - delta ** 4 * (1 - q) * (delta * q - delta)\n",
    "                                         + delta ** 4 * (1 - q) * (delta * q - delta + 1)) - 1"
   ]
  },
  {
   "cell_type": "code",
   "execution_count": 443,
   "metadata": {},
   "outputs": [
    {
     "data": {
      "text/latex": [
       "$\\displaystyle - \\frac{1}{q + 1}$"
      ],
      "text/plain": [
       "-1/(q + 1)"
      ]
     },
     "execution_count": 443,
     "metadata": {},
     "output_type": "execute_result"
    }
   ],
   "source": [
    "eq.subs({delta:1}).factor()"
   ]
  },
  {
   "cell_type": "code",
   "execution_count": 225,
   "metadata": {},
   "outputs": [],
   "source": [
    "from sympy import mathematica_code as mcode, symbols, sin"
   ]
  },
  {
   "cell_type": "code",
   "execution_count": 226,
   "metadata": {},
   "outputs": [
    {
     "data": {
      "text/plain": [
       "'delta^4*q*(1 - delta)*(1 - 1/(N - 1))*(delta*q - delta)/((1 + Exp[-beta*(-1/2*b + c)])*(delta - 1)) - delta^4*q*(1 - delta)*(1 - 1/(N - 1))*(delta*q - delta + 1)/((1 + Exp[-beta*c])*(delta - 1)) - delta^4*(1 - delta)*(1 - q)*(1 - 1/(N - 1))*(delta*q - delta + 1)/((1 + Exp[-beta*(-1/2*b + c)])*(delta - 1)) + delta^4*(1 - delta)*(1 - q)*(1 - 1/(N - 1))*(delta*q - delta)/((1 + Exp[-beta*(-b + c)])*(delta - 1)) - delta^2*q*(1 - delta)*(delta*q - delta + 1)/((1 + Exp[-beta*(b + c)])*(N - 1)*(delta - 1)) + delta^2*q*(1 - delta)*(delta*q - delta)/((1 + Exp[-beta*((1/2)*b + (1/2)*c)])*(N - 1)*(delta - 1)) + (1/2)*delta^2*(1 - delta)*(1 - q)*(delta*q - delta)/((N - 1)*(delta - 1)) - delta^2*(1 - delta)*(1 - q)*(delta*q - delta + 1)/((1 + Exp[-beta*((1/2)*b + (1/2)*c)])*(N - 1)*(delta - 1))'"
      ]
     },
     "execution_count": 226,
     "metadata": {},
     "output_type": "execute_result"
    }
   ],
   "source": [
    "mcode(sum(sum(np.multiply(x, rho))).removeO())"
   ]
  },
  {
   "cell_type": "code",
   "execution_count": 227,
   "metadata": {},
   "outputs": [
    {
     "data": {
      "text/latex": [
       "$\\displaystyle - \\frac{\\delta^{4} q \\left(1 - \\delta\\right) \\left(1 - \\frac{1}{N - 1}\\right) \\left(\\delta q - \\delta + 1\\right)}{\\left(\\delta - 1\\right) \\left(e^{\\beta c} + 1\\right)} + \\frac{\\delta^{4} q \\left(1 - \\delta\\right) \\left(1 - \\frac{1}{N - 1}\\right) \\left(\\delta q - \\delta\\right)}{\\left(1 + e^{- \\beta \\left(\\frac{b}{2} - c\\right)}\\right) \\left(\\delta - 1\\right)} + \\frac{\\delta^{4} \\left(1 - \\delta\\right) \\left(1 - q\\right) \\left(1 - \\frac{1}{N - 1}\\right) \\left(\\delta q - \\delta\\right)}{\\left(1 + e^{- \\beta \\left(b - c\\right)}\\right) \\left(\\delta - 1\\right)} - \\frac{\\delta^{4} \\left(1 - \\delta\\right) \\left(1 - q\\right) \\left(1 - \\frac{1}{N - 1}\\right) \\left(\\delta q - \\delta + 1\\right)}{\\left(1 + e^{- \\beta \\left(\\frac{b}{2} - c\\right)}\\right) \\left(\\delta - 1\\right)} + \\frac{\\delta^{2} q \\left(1 - \\delta\\right) \\left(\\delta q - \\delta\\right)}{\\left(1 + e^{- \\beta \\left(- \\frac{b}{2} - \\frac{c}{2}\\right)}\\right) \\left(N - 1\\right) \\left(\\delta - 1\\right)} - \\frac{\\delta^{2} q \\left(1 - \\delta\\right) \\left(\\delta q - \\delta + 1\\right)}{\\left(1 + e^{- \\beta \\left(- b - c\\right)}\\right) \\left(N - 1\\right) \\left(\\delta - 1\\right)} + \\frac{\\delta^{2} \\left(1 - \\delta\\right) \\left(1 - q\\right) \\left(\\delta q - \\delta\\right)}{2 \\left(N - 1\\right) \\left(\\delta - 1\\right)} - \\frac{\\delta^{2} \\left(1 - \\delta\\right) \\left(1 - q\\right) \\left(\\delta q - \\delta + 1\\right)}{\\left(1 + e^{- \\beta \\left(- \\frac{b}{2} - \\frac{c}{2}\\right)}\\right) \\left(N - 1\\right) \\left(\\delta - 1\\right)}$"
      ],
      "text/plain": [
       "-delta**4*q*(1 - delta)*(1 - 1/(N - 1))*(delta*q - delta + 1)/((delta - 1)*(exp(beta*c) + 1)) + delta**4*q*(1 - delta)*(1 - 1/(N - 1))*(delta*q - delta)/((1 + exp(-beta*(b/2 - c)))*(delta - 1)) + delta**4*(1 - delta)*(1 - q)*(1 - 1/(N - 1))*(delta*q - delta)/((1 + exp(-beta*(b - c)))*(delta - 1)) - delta**4*(1 - delta)*(1 - q)*(1 - 1/(N - 1))*(delta*q - delta + 1)/((1 + exp(-beta*(b/2 - c)))*(delta - 1)) + delta**2*q*(1 - delta)*(delta*q - delta)/((1 + exp(-beta*(-b/2 - c/2)))*(N - 1)*(delta - 1)) - delta**2*q*(1 - delta)*(delta*q - delta + 1)/((1 + exp(-beta*(-b - c)))*(N - 1)*(delta - 1)) + delta**2*(1 - delta)*(1 - q)*(delta*q - delta)/(2*(N - 1)*(delta - 1)) - delta**2*(1 - delta)*(1 - q)*(delta*q - delta + 1)/((1 + exp(-beta*(-b/2 - c/2)))*(N - 1)*(delta - 1))"
      ]
     },
     "execution_count": 227,
     "metadata": {},
     "output_type": "execute_result"
    }
   ],
   "source": [
    "sum(sum(np.multiply(x, rho.T)))"
   ]
  },
  {
   "cell_type": "code",
   "execution_count": 448,
   "metadata": {},
   "outputs": [
    {
     "data": {
      "text/latex": [
       "$\\displaystyle \\left[\\begin{array}{cccccccccccccccc}\\frac{1}{2} & \\frac{1}{e^{\\frac{b \\beta}{2}} + 1} & \\frac{1}{1 + e^{- \\frac{\\beta c}{2}}} & \\frac{1}{1 + e^{- \\beta \\left(- \\frac{b}{2} + \\frac{c}{2}\\right)}} & \\frac{1}{e^{\\frac{b \\beta}{2}} + 1} & \\frac{1}{e^{b \\beta} + 1} & \\frac{1}{1 + e^{- \\beta \\left(- \\frac{b}{2} + \\frac{c}{2}\\right)}} & \\frac{1}{1 + e^{- \\beta \\left(- b + \\frac{c}{2}\\right)}} & \\frac{1}{1 + e^{- \\frac{\\beta c}{2}}} & \\frac{1}{1 + e^{- \\beta \\left(- \\frac{b}{2} + \\frac{c}{2}\\right)}} & \\frac{1}{1 + e^{- \\beta c}} & \\frac{1}{1 + e^{- \\beta \\left(- \\frac{b}{2} + c\\right)}} & \\frac{1}{1 + e^{- \\beta \\left(- \\frac{b}{2} + \\frac{c}{2}\\right)}} & \\frac{1}{1 + e^{- \\beta \\left(- b + \\frac{c}{2}\\right)}} & \\frac{1}{1 + e^{- \\beta \\left(- \\frac{b}{2} + c\\right)}} & \\frac{1}{1 + e^{- \\beta \\left(- b + c\\right)}}\\\\\\frac{1}{1 + e^{- \\frac{b \\beta}{2}}} & \\frac{1}{2} & \\frac{1}{1 + e^{- \\beta \\left(\\frac{b}{2} + \\frac{c}{2}\\right)}} & \\frac{1}{1 + e^{- \\frac{\\beta c}{2}}} & \\frac{1}{2} & \\frac{1}{e^{\\frac{b \\beta}{2}} + 1} & \\frac{1}{1 + e^{- \\frac{\\beta c}{2}}} & \\frac{1}{1 + e^{- \\beta \\left(- \\frac{b}{2} + \\frac{c}{2}\\right)}} & \\frac{1}{1 + e^{- \\beta \\left(\\frac{b}{2} + \\frac{c}{2}\\right)}} & \\frac{1}{1 + e^{- \\frac{\\beta c}{2}}} & \\frac{1}{1 + e^{- \\beta \\left(\\frac{b}{2} + c\\right)}} & \\frac{1}{1 + e^{- \\beta c}} & \\frac{1}{1 + e^{- \\frac{\\beta c}{2}}} & \\frac{1}{1 + e^{- \\beta \\left(- \\frac{b}{2} + \\frac{c}{2}\\right)}} & \\frac{1}{1 + e^{- \\beta c}} & \\frac{1}{1 + e^{- \\beta \\left(- \\frac{b}{2} + c\\right)}}\\\\\\frac{1}{e^{\\frac{\\beta c}{2}} + 1} & \\frac{1}{1 + e^{- \\beta \\left(- \\frac{b}{2} - \\frac{c}{2}\\right)}} & \\frac{1}{2} & \\frac{1}{e^{\\frac{b \\beta}{2}} + 1} & \\frac{1}{1 + e^{- \\beta \\left(- \\frac{b}{2} - \\frac{c}{2}\\right)}} & \\frac{1}{1 + e^{- \\beta \\left(- b - \\frac{c}{2}\\right)}} & \\frac{1}{e^{\\frac{b \\beta}{2}} + 1} & \\frac{1}{e^{b \\beta} + 1} & \\frac{1}{2} & \\frac{1}{e^{\\frac{b \\beta}{2}} + 1} & \\frac{1}{1 + e^{- \\frac{\\beta c}{2}}} & \\frac{1}{1 + e^{- \\beta \\left(- \\frac{b}{2} + \\frac{c}{2}\\right)}} & \\frac{1}{e^{\\frac{b \\beta}{2}} + 1} & \\frac{1}{e^{b \\beta} + 1} & \\frac{1}{1 + e^{- \\beta \\left(- \\frac{b}{2} + \\frac{c}{2}\\right)}} & \\frac{1}{1 + e^{- \\beta \\left(- b + \\frac{c}{2}\\right)}}\\\\\\frac{1}{1 + e^{- \\beta \\left(\\frac{b}{2} - \\frac{c}{2}\\right)}} & \\frac{1}{e^{\\frac{\\beta c}{2}} + 1} & \\frac{1}{1 + e^{- \\frac{b \\beta}{2}}} & \\frac{1}{2} & \\frac{1}{e^{\\frac{\\beta c}{2}} + 1} & \\frac{1}{1 + e^{- \\beta \\left(- \\frac{b}{2} - \\frac{c}{2}\\right)}} & \\frac{1}{2} & \\frac{1}{e^{\\frac{b \\beta}{2}} + 1} & \\frac{1}{1 + e^{- \\frac{b \\beta}{2}}} & \\frac{1}{2} & \\frac{1}{1 + e^{- \\beta \\left(\\frac{b}{2} + \\frac{c}{2}\\right)}} & \\frac{1}{1 + e^{- \\frac{\\beta c}{2}}} & \\frac{1}{2} & \\frac{1}{e^{\\frac{b \\beta}{2}} + 1} & \\frac{1}{1 + e^{- \\frac{\\beta c}{2}}} & \\frac{1}{1 + e^{- \\beta \\left(- \\frac{b}{2} + \\frac{c}{2}\\right)}}\\\\\\frac{1}{1 + e^{- \\frac{b \\beta}{2}}} & \\frac{1}{2} & \\frac{1}{1 + e^{- \\beta \\left(\\frac{b}{2} + \\frac{c}{2}\\right)}} & \\frac{1}{1 + e^{- \\frac{\\beta c}{2}}} & \\frac{1}{2} & \\frac{1}{e^{\\frac{b \\beta}{2}} + 1} & \\frac{1}{1 + e^{- \\frac{\\beta c}{2}}} & \\frac{1}{1 + e^{- \\beta \\left(- \\frac{b}{2} + \\frac{c}{2}\\right)}} & \\frac{1}{1 + e^{- \\beta \\left(\\frac{b}{2} + \\frac{c}{2}\\right)}} & \\frac{1}{1 + e^{- \\frac{\\beta c}{2}}} & \\frac{1}{1 + e^{- \\beta \\left(\\frac{b}{2} + c\\right)}} & \\frac{1}{1 + e^{- \\beta c}} & \\frac{1}{1 + e^{- \\frac{\\beta c}{2}}} & \\frac{1}{1 + e^{- \\beta \\left(- \\frac{b}{2} + \\frac{c}{2}\\right)}} & \\frac{1}{1 + e^{- \\beta c}} & \\frac{1}{1 + e^{- \\beta \\left(- \\frac{b}{2} + c\\right)}}\\\\\\frac{1}{1 + e^{- b \\beta}} & \\frac{1}{1 + e^{- \\frac{b \\beta}{2}}} & \\frac{1}{1 + e^{- \\beta \\left(b + \\frac{c}{2}\\right)}} & \\frac{1}{1 + e^{- \\beta \\left(\\frac{b}{2} + \\frac{c}{2}\\right)}} & \\frac{1}{1 + e^{- \\frac{b \\beta}{2}}} & \\frac{1}{2} & \\frac{1}{1 + e^{- \\beta \\left(\\frac{b}{2} + \\frac{c}{2}\\right)}} & \\frac{1}{1 + e^{- \\frac{\\beta c}{2}}} & \\frac{1}{1 + e^{- \\beta \\left(b + \\frac{c}{2}\\right)}} & \\frac{1}{1 + e^{- \\beta \\left(\\frac{b}{2} + \\frac{c}{2}\\right)}} & \\frac{1}{1 + e^{- \\beta \\left(b + c\\right)}} & \\frac{1}{1 + e^{- \\beta \\left(\\frac{b}{2} + c\\right)}} & \\frac{1}{1 + e^{- \\beta \\left(\\frac{b}{2} + \\frac{c}{2}\\right)}} & \\frac{1}{1 + e^{- \\frac{\\beta c}{2}}} & \\frac{1}{1 + e^{- \\beta \\left(\\frac{b}{2} + c\\right)}} & \\frac{1}{1 + e^{- \\beta c}}\\\\\\frac{1}{1 + e^{- \\beta \\left(\\frac{b}{2} - \\frac{c}{2}\\right)}} & \\frac{1}{e^{\\frac{\\beta c}{2}} + 1} & \\frac{1}{1 + e^{- \\frac{b \\beta}{2}}} & \\frac{1}{2} & \\frac{1}{e^{\\frac{\\beta c}{2}} + 1} & \\frac{1}{1 + e^{- \\beta \\left(- \\frac{b}{2} - \\frac{c}{2}\\right)}} & \\frac{1}{2} & \\frac{1}{e^{\\frac{b \\beta}{2}} + 1} & \\frac{1}{1 + e^{- \\frac{b \\beta}{2}}} & \\frac{1}{2} & \\frac{1}{1 + e^{- \\beta \\left(\\frac{b}{2} + \\frac{c}{2}\\right)}} & \\frac{1}{1 + e^{- \\frac{\\beta c}{2}}} & \\frac{1}{2} & \\frac{1}{e^{\\frac{b \\beta}{2}} + 1} & \\frac{1}{1 + e^{- \\frac{\\beta c}{2}}} & \\frac{1}{1 + e^{- \\beta \\left(- \\frac{b}{2} + \\frac{c}{2}\\right)}}\\\\\\frac{1}{1 + e^{- \\beta \\left(b - \\frac{c}{2}\\right)}} & \\frac{1}{1 + e^{- \\beta \\left(\\frac{b}{2} - \\frac{c}{2}\\right)}} & \\frac{1}{1 + e^{- b \\beta}} & \\frac{1}{1 + e^{- \\frac{b \\beta}{2}}} & \\frac{1}{1 + e^{- \\beta \\left(\\frac{b}{2} - \\frac{c}{2}\\right)}} & \\frac{1}{e^{\\frac{\\beta c}{2}} + 1} & \\frac{1}{1 + e^{- \\frac{b \\beta}{2}}} & \\frac{1}{2} & \\frac{1}{1 + e^{- b \\beta}} & \\frac{1}{1 + e^{- \\frac{b \\beta}{2}}} & \\frac{1}{1 + e^{- \\beta \\left(b + \\frac{c}{2}\\right)}} & \\frac{1}{1 + e^{- \\beta \\left(\\frac{b}{2} + \\frac{c}{2}\\right)}} & \\frac{1}{1 + e^{- \\frac{b \\beta}{2}}} & \\frac{1}{2} & \\frac{1}{1 + e^{- \\beta \\left(\\frac{b}{2} + \\frac{c}{2}\\right)}} & \\frac{1}{1 + e^{- \\frac{\\beta c}{2}}}\\\\\\frac{1}{e^{\\frac{\\beta c}{2}} + 1} & \\frac{1}{1 + e^{- \\beta \\left(- \\frac{b}{2} - \\frac{c}{2}\\right)}} & \\frac{1}{2} & \\frac{1}{e^{\\frac{b \\beta}{2}} + 1} & \\frac{1}{1 + e^{- \\beta \\left(- \\frac{b}{2} - \\frac{c}{2}\\right)}} & \\frac{1}{1 + e^{- \\beta \\left(- b - \\frac{c}{2}\\right)}} & \\frac{1}{e^{\\frac{b \\beta}{2}} + 1} & \\frac{1}{e^{b \\beta} + 1} & \\frac{1}{2} & \\frac{1}{e^{\\frac{b \\beta}{2}} + 1} & \\frac{1}{1 + e^{- \\frac{\\beta c}{2}}} & \\frac{1}{1 + e^{- \\beta \\left(- \\frac{b}{2} + \\frac{c}{2}\\right)}} & \\frac{1}{e^{\\frac{b \\beta}{2}} + 1} & \\frac{1}{e^{b \\beta} + 1} & \\frac{1}{1 + e^{- \\beta \\left(- \\frac{b}{2} + \\frac{c}{2}\\right)}} & \\frac{1}{1 + e^{- \\beta \\left(- b + \\frac{c}{2}\\right)}}\\\\\\frac{1}{1 + e^{- \\beta \\left(\\frac{b}{2} - \\frac{c}{2}\\right)}} & \\frac{1}{e^{\\frac{\\beta c}{2}} + 1} & \\frac{1}{1 + e^{- \\frac{b \\beta}{2}}} & \\frac{1}{2} & \\frac{1}{e^{\\frac{\\beta c}{2}} + 1} & \\frac{1}{1 + e^{- \\beta \\left(- \\frac{b}{2} - \\frac{c}{2}\\right)}} & \\frac{1}{2} & \\frac{1}{e^{\\frac{b \\beta}{2}} + 1} & \\frac{1}{1 + e^{- \\frac{b \\beta}{2}}} & \\frac{1}{2} & \\frac{1}{1 + e^{- \\beta \\left(\\frac{b}{2} + \\frac{c}{2}\\right)}} & \\frac{1}{1 + e^{- \\frac{\\beta c}{2}}} & \\frac{1}{2} & \\frac{1}{e^{\\frac{b \\beta}{2}} + 1} & \\frac{1}{1 + e^{- \\frac{\\beta c}{2}}} & \\frac{1}{1 + e^{- \\beta \\left(- \\frac{b}{2} + \\frac{c}{2}\\right)}}\\\\\\frac{1}{e^{\\beta c} + 1} & \\frac{1}{1 + e^{- \\beta \\left(- \\frac{b}{2} - c\\right)}} & \\frac{1}{e^{\\frac{\\beta c}{2}} + 1} & \\frac{1}{1 + e^{- \\beta \\left(- \\frac{b}{2} - \\frac{c}{2}\\right)}} & \\frac{1}{1 + e^{- \\beta \\left(- \\frac{b}{2} - c\\right)}} & \\frac{1}{1 + e^{- \\beta \\left(- b - c\\right)}} & \\frac{1}{1 + e^{- \\beta \\left(- \\frac{b}{2} - \\frac{c}{2}\\right)}} & \\frac{1}{1 + e^{- \\beta \\left(- b - \\frac{c}{2}\\right)}} & \\frac{1}{e^{\\frac{\\beta c}{2}} + 1} & \\frac{1}{1 + e^{- \\beta \\left(- \\frac{b}{2} - \\frac{c}{2}\\right)}} & \\frac{1}{2} & \\frac{1}{e^{\\frac{b \\beta}{2}} + 1} & \\frac{1}{1 + e^{- \\beta \\left(- \\frac{b}{2} - \\frac{c}{2}\\right)}} & \\frac{1}{1 + e^{- \\beta \\left(- b - \\frac{c}{2}\\right)}} & \\frac{1}{e^{\\frac{b \\beta}{2}} + 1} & \\frac{1}{e^{b \\beta} + 1}\\\\\\frac{1}{1 + e^{- \\beta \\left(\\frac{b}{2} - c\\right)}} & \\frac{1}{e^{\\beta c} + 1} & \\frac{1}{1 + e^{- \\beta \\left(\\frac{b}{2} - \\frac{c}{2}\\right)}} & \\frac{1}{e^{\\frac{\\beta c}{2}} + 1} & \\frac{1}{e^{\\beta c} + 1} & \\frac{1}{1 + e^{- \\beta \\left(- \\frac{b}{2} - c\\right)}} & \\frac{1}{e^{\\frac{\\beta c}{2}} + 1} & \\frac{1}{1 + e^{- \\beta \\left(- \\frac{b}{2} - \\frac{c}{2}\\right)}} & \\frac{1}{1 + e^{- \\beta \\left(\\frac{b}{2} - \\frac{c}{2}\\right)}} & \\frac{1}{e^{\\frac{\\beta c}{2}} + 1} & \\frac{1}{1 + e^{- \\frac{b \\beta}{2}}} & \\frac{1}{2} & \\frac{1}{e^{\\frac{\\beta c}{2}} + 1} & \\frac{1}{1 + e^{- \\beta \\left(- \\frac{b}{2} - \\frac{c}{2}\\right)}} & \\frac{1}{2} & \\frac{1}{e^{\\frac{b \\beta}{2}} + 1}\\\\\\frac{1}{1 + e^{- \\beta \\left(\\frac{b}{2} - \\frac{c}{2}\\right)}} & \\frac{1}{e^{\\frac{\\beta c}{2}} + 1} & \\frac{1}{1 + e^{- \\frac{b \\beta}{2}}} & \\frac{1}{2} & \\frac{1}{e^{\\frac{\\beta c}{2}} + 1} & \\frac{1}{1 + e^{- \\beta \\left(- \\frac{b}{2} - \\frac{c}{2}\\right)}} & \\frac{1}{2} & \\frac{1}{e^{\\frac{b \\beta}{2}} + 1} & \\frac{1}{1 + e^{- \\frac{b \\beta}{2}}} & \\frac{1}{2} & \\frac{1}{1 + e^{- \\beta \\left(\\frac{b}{2} + \\frac{c}{2}\\right)}} & \\frac{1}{1 + e^{- \\frac{\\beta c}{2}}} & \\frac{1}{2} & \\frac{1}{e^{\\frac{b \\beta}{2}} + 1} & \\frac{1}{1 + e^{- \\frac{\\beta c}{2}}} & \\frac{1}{1 + e^{- \\beta \\left(- \\frac{b}{2} + \\frac{c}{2}\\right)}}\\\\\\frac{1}{1 + e^{- \\beta \\left(b - \\frac{c}{2}\\right)}} & \\frac{1}{1 + e^{- \\beta \\left(\\frac{b}{2} - \\frac{c}{2}\\right)}} & \\frac{1}{1 + e^{- b \\beta}} & \\frac{1}{1 + e^{- \\frac{b \\beta}{2}}} & \\frac{1}{1 + e^{- \\beta \\left(\\frac{b}{2} - \\frac{c}{2}\\right)}} & \\frac{1}{e^{\\frac{\\beta c}{2}} + 1} & \\frac{1}{1 + e^{- \\frac{b \\beta}{2}}} & \\frac{1}{2} & \\frac{1}{1 + e^{- b \\beta}} & \\frac{1}{1 + e^{- \\frac{b \\beta}{2}}} & \\frac{1}{1 + e^{- \\beta \\left(b + \\frac{c}{2}\\right)}} & \\frac{1}{1 + e^{- \\beta \\left(\\frac{b}{2} + \\frac{c}{2}\\right)}} & \\frac{1}{1 + e^{- \\frac{b \\beta}{2}}} & \\frac{1}{2} & \\frac{1}{1 + e^{- \\beta \\left(\\frac{b}{2} + \\frac{c}{2}\\right)}} & \\frac{1}{1 + e^{- \\frac{\\beta c}{2}}}\\\\\\frac{1}{1 + e^{- \\beta \\left(\\frac{b}{2} - c\\right)}} & \\frac{1}{e^{\\beta c} + 1} & \\frac{1}{1 + e^{- \\beta \\left(\\frac{b}{2} - \\frac{c}{2}\\right)}} & \\frac{1}{e^{\\frac{\\beta c}{2}} + 1} & \\frac{1}{e^{\\beta c} + 1} & \\frac{1}{1 + e^{- \\beta \\left(- \\frac{b}{2} - c\\right)}} & \\frac{1}{e^{\\frac{\\beta c}{2}} + 1} & \\frac{1}{1 + e^{- \\beta \\left(- \\frac{b}{2} - \\frac{c}{2}\\right)}} & \\frac{1}{1 + e^{- \\beta \\left(\\frac{b}{2} - \\frac{c}{2}\\right)}} & \\frac{1}{e^{\\frac{\\beta c}{2}} + 1} & \\frac{1}{1 + e^{- \\frac{b \\beta}{2}}} & \\frac{1}{2} & \\frac{1}{e^{\\frac{\\beta c}{2}} + 1} & \\frac{1}{1 + e^{- \\beta \\left(- \\frac{b}{2} - \\frac{c}{2}\\right)}} & \\frac{1}{2} & \\frac{1}{e^{\\frac{b \\beta}{2}} + 1}\\\\\\frac{1}{1 + e^{- \\beta \\left(b - c\\right)}} & \\frac{1}{1 + e^{- \\beta \\left(\\frac{b}{2} - c\\right)}} & \\frac{1}{1 + e^{- \\beta \\left(b - \\frac{c}{2}\\right)}} & \\frac{1}{1 + e^{- \\beta \\left(\\frac{b}{2} - \\frac{c}{2}\\right)}} & \\frac{1}{1 + e^{- \\beta \\left(\\frac{b}{2} - c\\right)}} & \\frac{1}{e^{\\beta c} + 1} & \\frac{1}{1 + e^{- \\beta \\left(\\frac{b}{2} - \\frac{c}{2}\\right)}} & \\frac{1}{e^{\\frac{\\beta c}{2}} + 1} & \\frac{1}{1 + e^{- \\beta \\left(b - \\frac{c}{2}\\right)}} & \\frac{1}{1 + e^{- \\beta \\left(\\frac{b}{2} - \\frac{c}{2}\\right)}} & \\frac{1}{1 + e^{- b \\beta}} & \\frac{1}{1 + e^{- \\frac{b \\beta}{2}}} & \\frac{1}{1 + e^{- \\beta \\left(\\frac{b}{2} - \\frac{c}{2}\\right)}} & \\frac{1}{e^{\\frac{\\beta c}{2}} + 1} & \\frac{1}{1 + e^{- \\frac{b \\beta}{2}}} & \\frac{1}{2}\\end{array}\\right]$"
      ],
      "text/plain": [
       "Matrix([\n",
       "[                           1/2,           1/(exp(b*beta/2) + 1),         1/(1 + exp(-beta*c/2)), 1/(1 + exp(-beta*(-b/2 + c/2))),           1/(exp(b*beta/2) + 1),             1/(exp(b*beta) + 1), 1/(1 + exp(-beta*(-b/2 + c/2))),   1/(1 + exp(-beta*(-b + c/2))),         1/(1 + exp(-beta*c/2)), 1/(1 + exp(-beta*(-b/2 + c/2))),           1/(1 + exp(-beta*c)),   1/(1 + exp(-beta*(-b/2 + c))), 1/(1 + exp(-beta*(-b/2 + c/2))),   1/(1 + exp(-beta*(-b + c/2))),   1/(1 + exp(-beta*(-b/2 + c))),     1/(1 + exp(-beta*(-b + c)))],\n",
       "[        1/(1 + exp(-b*beta/2)),                             1/2, 1/(1 + exp(-beta*(b/2 + c/2))),          1/(1 + exp(-beta*c/2)),                             1/2,           1/(exp(b*beta/2) + 1),          1/(1 + exp(-beta*c/2)), 1/(1 + exp(-beta*(-b/2 + c/2))), 1/(1 + exp(-beta*(b/2 + c/2))),          1/(1 + exp(-beta*c/2)),   1/(1 + exp(-beta*(b/2 + c))),            1/(1 + exp(-beta*c)),          1/(1 + exp(-beta*c/2)), 1/(1 + exp(-beta*(-b/2 + c/2))),            1/(1 + exp(-beta*c)),   1/(1 + exp(-beta*(-b/2 + c)))],\n",
       "[         1/(exp(beta*c/2) + 1), 1/(1 + exp(-beta*(-b/2 - c/2))),                            1/2,           1/(exp(b*beta/2) + 1), 1/(1 + exp(-beta*(-b/2 - c/2))),   1/(1 + exp(-beta*(-b - c/2))),           1/(exp(b*beta/2) + 1),             1/(exp(b*beta) + 1),                            1/2,           1/(exp(b*beta/2) + 1),         1/(1 + exp(-beta*c/2)), 1/(1 + exp(-beta*(-b/2 + c/2))),           1/(exp(b*beta/2) + 1),             1/(exp(b*beta) + 1), 1/(1 + exp(-beta*(-b/2 + c/2))),   1/(1 + exp(-beta*(-b + c/2)))],\n",
       "[1/(1 + exp(-beta*(b/2 - c/2))),           1/(exp(beta*c/2) + 1),         1/(1 + exp(-b*beta/2)),                             1/2,           1/(exp(beta*c/2) + 1), 1/(1 + exp(-beta*(-b/2 - c/2))),                             1/2,           1/(exp(b*beta/2) + 1),         1/(1 + exp(-b*beta/2)),                             1/2, 1/(1 + exp(-beta*(b/2 + c/2))),          1/(1 + exp(-beta*c/2)),                             1/2,           1/(exp(b*beta/2) + 1),          1/(1 + exp(-beta*c/2)), 1/(1 + exp(-beta*(-b/2 + c/2)))],\n",
       "[        1/(1 + exp(-b*beta/2)),                             1/2, 1/(1 + exp(-beta*(b/2 + c/2))),          1/(1 + exp(-beta*c/2)),                             1/2,           1/(exp(b*beta/2) + 1),          1/(1 + exp(-beta*c/2)), 1/(1 + exp(-beta*(-b/2 + c/2))), 1/(1 + exp(-beta*(b/2 + c/2))),          1/(1 + exp(-beta*c/2)),   1/(1 + exp(-beta*(b/2 + c))),            1/(1 + exp(-beta*c)),          1/(1 + exp(-beta*c/2)), 1/(1 + exp(-beta*(-b/2 + c/2))),            1/(1 + exp(-beta*c)),   1/(1 + exp(-beta*(-b/2 + c)))],\n",
       "[          1/(1 + exp(-b*beta)),          1/(1 + exp(-b*beta/2)),   1/(1 + exp(-beta*(b + c/2))),  1/(1 + exp(-beta*(b/2 + c/2))),          1/(1 + exp(-b*beta/2)),                             1/2,  1/(1 + exp(-beta*(b/2 + c/2))),          1/(1 + exp(-beta*c/2)),   1/(1 + exp(-beta*(b + c/2))),  1/(1 + exp(-beta*(b/2 + c/2))),     1/(1 + exp(-beta*(b + c))),    1/(1 + exp(-beta*(b/2 + c))),  1/(1 + exp(-beta*(b/2 + c/2))),          1/(1 + exp(-beta*c/2)),    1/(1 + exp(-beta*(b/2 + c))),            1/(1 + exp(-beta*c))],\n",
       "[1/(1 + exp(-beta*(b/2 - c/2))),           1/(exp(beta*c/2) + 1),         1/(1 + exp(-b*beta/2)),                             1/2,           1/(exp(beta*c/2) + 1), 1/(1 + exp(-beta*(-b/2 - c/2))),                             1/2,           1/(exp(b*beta/2) + 1),         1/(1 + exp(-b*beta/2)),                             1/2, 1/(1 + exp(-beta*(b/2 + c/2))),          1/(1 + exp(-beta*c/2)),                             1/2,           1/(exp(b*beta/2) + 1),          1/(1 + exp(-beta*c/2)), 1/(1 + exp(-beta*(-b/2 + c/2)))],\n",
       "[  1/(1 + exp(-beta*(b - c/2))),  1/(1 + exp(-beta*(b/2 - c/2))),           1/(1 + exp(-b*beta)),          1/(1 + exp(-b*beta/2)),  1/(1 + exp(-beta*(b/2 - c/2))),           1/(exp(beta*c/2) + 1),          1/(1 + exp(-b*beta/2)),                             1/2,           1/(1 + exp(-b*beta)),          1/(1 + exp(-b*beta/2)),   1/(1 + exp(-beta*(b + c/2))),  1/(1 + exp(-beta*(b/2 + c/2))),          1/(1 + exp(-b*beta/2)),                             1/2,  1/(1 + exp(-beta*(b/2 + c/2))),          1/(1 + exp(-beta*c/2))],\n",
       "[         1/(exp(beta*c/2) + 1), 1/(1 + exp(-beta*(-b/2 - c/2))),                            1/2,           1/(exp(b*beta/2) + 1), 1/(1 + exp(-beta*(-b/2 - c/2))),   1/(1 + exp(-beta*(-b - c/2))),           1/(exp(b*beta/2) + 1),             1/(exp(b*beta) + 1),                            1/2,           1/(exp(b*beta/2) + 1),         1/(1 + exp(-beta*c/2)), 1/(1 + exp(-beta*(-b/2 + c/2))),           1/(exp(b*beta/2) + 1),             1/(exp(b*beta) + 1), 1/(1 + exp(-beta*(-b/2 + c/2))),   1/(1 + exp(-beta*(-b + c/2)))],\n",
       "[1/(1 + exp(-beta*(b/2 - c/2))),           1/(exp(beta*c/2) + 1),         1/(1 + exp(-b*beta/2)),                             1/2,           1/(exp(beta*c/2) + 1), 1/(1 + exp(-beta*(-b/2 - c/2))),                             1/2,           1/(exp(b*beta/2) + 1),         1/(1 + exp(-b*beta/2)),                             1/2, 1/(1 + exp(-beta*(b/2 + c/2))),          1/(1 + exp(-beta*c/2)),                             1/2,           1/(exp(b*beta/2) + 1),          1/(1 + exp(-beta*c/2)), 1/(1 + exp(-beta*(-b/2 + c/2)))],\n",
       "[           1/(exp(beta*c) + 1),   1/(1 + exp(-beta*(-b/2 - c))),          1/(exp(beta*c/2) + 1), 1/(1 + exp(-beta*(-b/2 - c/2))),   1/(1 + exp(-beta*(-b/2 - c))),     1/(1 + exp(-beta*(-b - c))), 1/(1 + exp(-beta*(-b/2 - c/2))),   1/(1 + exp(-beta*(-b - c/2))),          1/(exp(beta*c/2) + 1), 1/(1 + exp(-beta*(-b/2 - c/2))),                            1/2,           1/(exp(b*beta/2) + 1), 1/(1 + exp(-beta*(-b/2 - c/2))),   1/(1 + exp(-beta*(-b - c/2))),           1/(exp(b*beta/2) + 1),             1/(exp(b*beta) + 1)],\n",
       "[  1/(1 + exp(-beta*(b/2 - c))),             1/(exp(beta*c) + 1), 1/(1 + exp(-beta*(b/2 - c/2))),           1/(exp(beta*c/2) + 1),             1/(exp(beta*c) + 1),   1/(1 + exp(-beta*(-b/2 - c))),           1/(exp(beta*c/2) + 1), 1/(1 + exp(-beta*(-b/2 - c/2))), 1/(1 + exp(-beta*(b/2 - c/2))),           1/(exp(beta*c/2) + 1),         1/(1 + exp(-b*beta/2)),                             1/2,           1/(exp(beta*c/2) + 1), 1/(1 + exp(-beta*(-b/2 - c/2))),                             1/2,           1/(exp(b*beta/2) + 1)],\n",
       "[1/(1 + exp(-beta*(b/2 - c/2))),           1/(exp(beta*c/2) + 1),         1/(1 + exp(-b*beta/2)),                             1/2,           1/(exp(beta*c/2) + 1), 1/(1 + exp(-beta*(-b/2 - c/2))),                             1/2,           1/(exp(b*beta/2) + 1),         1/(1 + exp(-b*beta/2)),                             1/2, 1/(1 + exp(-beta*(b/2 + c/2))),          1/(1 + exp(-beta*c/2)),                             1/2,           1/(exp(b*beta/2) + 1),          1/(1 + exp(-beta*c/2)), 1/(1 + exp(-beta*(-b/2 + c/2)))],\n",
       "[  1/(1 + exp(-beta*(b - c/2))),  1/(1 + exp(-beta*(b/2 - c/2))),           1/(1 + exp(-b*beta)),          1/(1 + exp(-b*beta/2)),  1/(1 + exp(-beta*(b/2 - c/2))),           1/(exp(beta*c/2) + 1),          1/(1 + exp(-b*beta/2)),                             1/2,           1/(1 + exp(-b*beta)),          1/(1 + exp(-b*beta/2)),   1/(1 + exp(-beta*(b + c/2))),  1/(1 + exp(-beta*(b/2 + c/2))),          1/(1 + exp(-b*beta/2)),                             1/2,  1/(1 + exp(-beta*(b/2 + c/2))),          1/(1 + exp(-beta*c/2))],\n",
       "[  1/(1 + exp(-beta*(b/2 - c))),             1/(exp(beta*c) + 1), 1/(1 + exp(-beta*(b/2 - c/2))),           1/(exp(beta*c/2) + 1),             1/(exp(beta*c) + 1),   1/(1 + exp(-beta*(-b/2 - c))),           1/(exp(beta*c/2) + 1), 1/(1 + exp(-beta*(-b/2 - c/2))), 1/(1 + exp(-beta*(b/2 - c/2))),           1/(exp(beta*c/2) + 1),         1/(1 + exp(-b*beta/2)),                             1/2,           1/(exp(beta*c/2) + 1), 1/(1 + exp(-beta*(-b/2 - c/2))),                             1/2,           1/(exp(b*beta/2) + 1)],\n",
       "[    1/(1 + exp(-beta*(b - c))),    1/(1 + exp(-beta*(b/2 - c))),   1/(1 + exp(-beta*(b - c/2))),  1/(1 + exp(-beta*(b/2 - c/2))),    1/(1 + exp(-beta*(b/2 - c))),             1/(exp(beta*c) + 1),  1/(1 + exp(-beta*(b/2 - c/2))),           1/(exp(beta*c/2) + 1),   1/(1 + exp(-beta*(b - c/2))),  1/(1 + exp(-beta*(b/2 - c/2))),           1/(1 + exp(-b*beta)),          1/(1 + exp(-b*beta/2)),  1/(1 + exp(-beta*(b/2 - c/2))),           1/(exp(beta*c/2) + 1),          1/(1 + exp(-b*beta/2)),                             1/2]])"
      ]
     },
     "execution_count": 448,
     "metadata": {},
     "output_type": "execute_result"
    }
   ],
   "source": [
    "rho"
   ]
  },
  {
   "cell_type": "code",
   "execution_count": 209,
   "metadata": {},
   "outputs": [
    {
     "data": {
      "text/latex": [
       "$\\displaystyle \\left[\\begin{array}{cccccccccccccccc}0 & 0 & 0 & 0 & 0 & 0 & 0 & 0 & 0 & 0 & - \\frac{\\delta^{4} q \\left(1 - \\delta\\right) \\left(1 - \\frac{1}{N - 1}\\right) \\left(N - 2\\right) \\left(\\delta q - \\delta + 1\\right)}{\\left(N - 1\\right) \\left(\\delta - 1\\right)} & - \\frac{\\delta^{4} \\left(1 - \\delta\\right) \\left(1 - q\\right) \\left(1 - \\frac{1}{N - 1}\\right) \\left(N - 2\\right) \\left(\\delta q - \\delta + 1\\right)}{\\left(N - 1\\right) \\left(\\delta - 1\\right)} & 0 & 0 & \\frac{\\delta^{4} q \\left(1 - \\delta\\right) \\left(1 - \\frac{1}{N - 1}\\right) \\left(N - 2\\right) \\left(\\delta q - \\delta\\right)}{\\left(N - 1\\right) \\left(\\delta - 1\\right)} & \\frac{\\delta^{4} \\left(1 - \\delta\\right) \\left(1 - q\\right) \\left(1 - \\frac{1}{N - 1}\\right) \\left(N - 2\\right) \\left(\\delta q - \\delta\\right)}{\\left(N - 1\\right) \\left(\\delta - 1\\right)}\\end{array}\\right]$"
      ],
      "text/plain": [
       "Matrix([[0, 0, 0, 0, 0, 0, 0, 0, 0, 0, -delta**4*q*(1 - delta)*(1 - 1/(N - 1))*(N - 2)*(delta*q - delta + 1)/((N - 1)*(delta - 1)), -delta**4*(1 - delta)*(1 - q)*(1 - 1/(N - 1))*(N - 2)*(delta*q - delta + 1)/((N - 1)*(delta - 1)), 0, 0, delta**4*q*(1 - delta)*(1 - 1/(N - 1))*(N - 2)*(delta*q - delta)/((N - 1)*(delta - 1)), delta**4*(1 - delta)*(1 - q)*(1 - 1/(N - 1))*(N - 2)*(delta*q - delta)/((N - 1)*(delta - 1))]])"
      ]
     },
     "execution_count": 209,
     "metadata": {},
     "output_type": "execute_result"
    }
   ],
   "source": [
    "((N - 2) / (N - 1)) * x[0, :]"
   ]
  },
  {
   "cell_type": "code",
   "execution_count": 210,
   "metadata": {},
   "outputs": [
    {
     "data": {
      "text/latex": [
       "$\\displaystyle \\left[\\begin{array}{cccccccccccccccc}0 & 0 & 0 & 0 & 0 & 0 & 0 & 0 & 0 & 0 & - \\frac{\\delta^{4} q \\left(1 - \\delta\\right) \\left(1 - \\frac{1}{N - 1}\\right) \\left(\\delta q - \\delta + 1\\right)}{\\delta - 1} & - \\frac{\\delta^{4} \\left(1 - \\delta\\right) \\left(1 - q\\right) \\left(1 - \\frac{1}{N - 1}\\right) \\left(\\delta q - \\delta + 1\\right)}{\\delta - 1} & 0 & 0 & \\frac{\\delta^{4} q \\left(1 - \\delta\\right) \\left(1 - \\frac{1}{N - 1}\\right) \\left(\\delta q - \\delta\\right)}{\\delta - 1} & \\frac{\\delta^{4} \\left(1 - \\delta\\right) \\left(1 - q\\right) \\left(1 - \\frac{1}{N - 1}\\right) \\left(\\delta q - \\delta\\right)}{\\delta - 1}\\\\0 & 0 & 0 & 0 & 0 & 0 & 0 & 0 & 0 & 0 & 0 & 0 & 0 & 0 & 0 & 0\\\\0 & 0 & 0 & 0 & 0 & 0 & 0 & 0 & 0 & 0 & 0 & 0 & 0 & 0 & 0 & 0\\\\0 & 0 & 0 & 0 & 0 & 0 & 0 & 0 & 0 & 0 & 0 & 0 & 0 & 0 & 0 & 0\\\\0 & 0 & 0 & 0 & 0 & 0 & 0 & 0 & 0 & 0 & 0 & 0 & 0 & 0 & 0 & 0\\\\0 & 0 & 0 & 0 & 0 & 0 & 0 & 0 & 0 & 0 & - \\frac{\\delta^{2} q \\left(1 - \\delta\\right) \\left(\\delta q - \\delta + 1\\right)}{\\left(N - 1\\right) \\left(\\delta - 1\\right)} & 0 & 0 & 0 & 0 & 0\\\\0 & 0 & 0 & 0 & 0 & 0 & 0 & 0 & 0 & 0 & 0 & 0 & 0 & 0 & 0 & 0\\\\0 & 0 & 0 & 0 & 0 & 0 & 0 & 0 & 0 & 0 & 0 & - \\frac{\\delta^{2} \\left(1 - \\delta\\right) \\left(1 - q\\right) \\left(\\delta q - \\delta + 1\\right)}{\\left(N - 1\\right) \\left(\\delta - 1\\right)} & 0 & 0 & 0 & 0\\\\0 & 0 & 0 & 0 & 0 & 0 & 0 & 0 & 0 & 0 & 0 & 0 & 0 & 0 & 0 & 0\\\\0 & 0 & 0 & 0 & 0 & 0 & 0 & 0 & 0 & 0 & 0 & 0 & 0 & 0 & 0 & 0\\\\0 & 0 & 0 & 0 & 0 & 0 & 0 & 0 & 0 & 0 & 0 & 0 & 0 & 0 & 0 & 0\\\\0 & 0 & 0 & 0 & 0 & 0 & 0 & 0 & 0 & 0 & 0 & 0 & 0 & 0 & 0 & 0\\\\0 & 0 & 0 & 0 & 0 & 0 & 0 & 0 & 0 & 0 & 0 & 0 & 0 & 0 & 0 & 0\\\\0 & 0 & 0 & 0 & 0 & 0 & 0 & 0 & 0 & 0 & 0 & 0 & 0 & 0 & \\frac{\\delta^{2} q \\left(1 - \\delta\\right) \\left(\\delta q - \\delta\\right)}{\\left(N - 1\\right) \\left(\\delta - 1\\right)} & 0\\\\0 & 0 & 0 & 0 & 0 & 0 & 0 & 0 & 0 & 0 & 0 & 0 & 0 & 0 & 0 & 0\\\\0 & 0 & 0 & 0 & 0 & 0 & 0 & 0 & 0 & 0 & 0 & 0 & 0 & 0 & 0 & \\frac{\\delta^{2} \\left(1 - \\delta\\right) \\left(1 - q\\right) \\left(\\delta q - \\delta\\right)}{\\left(N - 1\\right) \\left(\\delta - 1\\right)}\\end{array}\\right]$"
      ],
      "text/plain": [
       "Matrix([\n",
       "[0, 0, 0, 0, 0, 0, 0, 0, 0, 0, -delta**4*q*(1 - delta)*(1 - 1/(N - 1))*(delta*q - delta + 1)/(delta - 1), -delta**4*(1 - delta)*(1 - q)*(1 - 1/(N - 1))*(delta*q - delta + 1)/(delta - 1), 0, 0, delta**4*q*(1 - delta)*(1 - 1/(N - 1))*(delta*q - delta)/(delta - 1), delta**4*(1 - delta)*(1 - q)*(1 - 1/(N - 1))*(delta*q - delta)/(delta - 1)],\n",
       "[0, 0, 0, 0, 0, 0, 0, 0, 0, 0,                                                                         0,                                                                               0, 0, 0,                                                                    0,                                                                          0],\n",
       "[0, 0, 0, 0, 0, 0, 0, 0, 0, 0,                                                                         0,                                                                               0, 0, 0,                                                                    0,                                                                          0],\n",
       "[0, 0, 0, 0, 0, 0, 0, 0, 0, 0,                                                                         0,                                                                               0, 0, 0,                                                                    0,                                                                          0],\n",
       "[0, 0, 0, 0, 0, 0, 0, 0, 0, 0,                                                                         0,                                                                               0, 0, 0,                                                                    0,                                                                          0],\n",
       "[0, 0, 0, 0, 0, 0, 0, 0, 0, 0,       -delta**2*q*(1 - delta)*(delta*q - delta + 1)/((N - 1)*(delta - 1)),                                                                               0, 0, 0,                                                                    0,                                                                          0],\n",
       "[0, 0, 0, 0, 0, 0, 0, 0, 0, 0,                                                                         0,                                                                               0, 0, 0,                                                                    0,                                                                          0],\n",
       "[0, 0, 0, 0, 0, 0, 0, 0, 0, 0,                                                                         0,       -delta**2*(1 - delta)*(1 - q)*(delta*q - delta + 1)/((N - 1)*(delta - 1)), 0, 0,                                                                    0,                                                                          0],\n",
       "[0, 0, 0, 0, 0, 0, 0, 0, 0, 0,                                                                         0,                                                                               0, 0, 0,                                                                    0,                                                                          0],\n",
       "[0, 0, 0, 0, 0, 0, 0, 0, 0, 0,                                                                         0,                                                                               0, 0, 0,                                                                    0,                                                                          0],\n",
       "[0, 0, 0, 0, 0, 0, 0, 0, 0, 0,                                                                         0,                                                                               0, 0, 0,                                                                    0,                                                                          0],\n",
       "[0, 0, 0, 0, 0, 0, 0, 0, 0, 0,                                                                         0,                                                                               0, 0, 0,                                                                    0,                                                                          0],\n",
       "[0, 0, 0, 0, 0, 0, 0, 0, 0, 0,                                                                         0,                                                                               0, 0, 0,                                                                    0,                                                                          0],\n",
       "[0, 0, 0, 0, 0, 0, 0, 0, 0, 0,                                                                         0,                                                                               0, 0, 0,       delta**2*q*(1 - delta)*(delta*q - delta)/((N - 1)*(delta - 1)),                                                                          0],\n",
       "[0, 0, 0, 0, 0, 0, 0, 0, 0, 0,                                                                         0,                                                                               0, 0, 0,                                                                    0,                                                                          0],\n",
       "[0, 0, 0, 0, 0, 0, 0, 0, 0, 0,                                                                         0,                                                                               0, 0, 0,                                                                    0,       delta**2*(1 - delta)*(1 - q)*(delta*q - delta)/((N - 1)*(delta - 1))]])"
      ]
     },
     "execution_count": 210,
     "metadata": {},
     "output_type": "execute_result"
    }
   ],
   "source": [
    "x"
   ]
  },
  {
   "cell_type": "code",
   "execution_count": 211,
   "metadata": {},
   "outputs": [
    {
     "data": {
      "text/latex": [
       "$\\displaystyle \\left[\\begin{array}{cccccccccccccccc}0 & 0 & 0 & 0 & 0 & 0 & 0 & 0 & 0 & 0 & - \\frac{\\delta^{2} q \\left(1 - \\delta\\right) \\left(\\delta q - \\delta + 1\\right)}{\\delta - 1} & - \\frac{\\delta^{2} \\left(1 - \\delta\\right) \\left(1 - q\\right) \\left(\\delta q - \\delta + 1\\right)}{\\delta - 1} & 0 & 0 & \\frac{\\delta^{2} q \\left(1 - \\delta\\right) \\left(\\delta q - \\delta\\right)}{\\delta - 1} & \\frac{\\delta^{2} \\left(1 - \\delta\\right) \\left(1 - q\\right) \\left(\\delta q - \\delta\\right)}{\\delta - 1}\\end{array}\\right]$"
      ],
      "text/plain": [
       "Matrix([[0, 0, 0, 0, 0, 0, 0, 0, 0, 0, -delta**2*q*(1 - delta)*(delta*q - delta + 1)/(delta - 1), -delta**2*(1 - delta)*(1 - q)*(delta*q - delta + 1)/(delta - 1), 0, 0, delta**2*q*(1 - delta)*(delta*q - delta)/(delta - 1), delta**2*(1 - delta)*(1 - q)*(delta*q - delta)/(delta - 1)]])"
      ]
     },
     "execution_count": 211,
     "metadata": {},
     "output_type": "execute_result"
    }
   ],
   "source": [
    "vMR"
   ]
  },
  {
   "cell_type": "code",
   "execution_count": null,
   "metadata": {},
   "outputs": [],
   "source": [
    "laplus(k) = sum(sum(x.*Rho));\n",
    "laminus(k) = sum(sum(x.*Rho'));"
   ]
  },
  {
   "cell_type": "code",
   "execution_count": 195,
   "metadata": {},
   "outputs": [
    {
     "data": {
      "text/plain": [
       "(16, 16)"
      ]
     },
     "execution_count": 195,
     "metadata": {},
     "output_type": "execute_result"
    }
   ],
   "source": [
    "x.shape"
   ]
  },
  {
   "cell_type": "code",
   "execution_count": 75,
   "metadata": {},
   "outputs": [],
   "source": [
    "i1 = 7"
   ]
  },
  {
   "cell_type": "code",
   "execution_count": 71,
   "metadata": {},
   "outputs": [
    {
     "data": {
      "text/latex": [
       "$\\displaystyle \\left[\\begin{array}{cccccccccccccccc}0 & 0 & 0 & 0 & 0 & 0 & 0 & - \\frac{\\delta^{2} \\left(1 - \\delta\\right) \\left(1 - q\\right) \\left(\\delta q - \\delta + 1\\right)}{\\left(N - 1\\right) \\left(\\delta - 1\\right)} & - \\frac{\\delta^{2} \\left(1 - \\delta\\right) \\left(1 - q\\right) \\left(\\delta q - \\delta + 1\\right)}{\\left(N - 1\\right) \\left(\\delta - 1\\right)} & - \\frac{\\delta^{2} \\left(1 - \\delta\\right) \\left(1 - q\\right) \\left(\\delta q - \\delta + 1\\right)}{\\left(N - 1\\right) \\left(\\delta - 1\\right)} & - \\frac{\\delta^{2} \\left(1 - \\delta\\right) \\left(1 - q\\right) \\left(\\delta q - \\delta + 1\\right)}{\\left(N - 1\\right) \\left(\\delta - 1\\right)} & 0 & 0 & 0 & 0 & 0\\end{array}\\right]$"
      ],
      "text/plain": [
       "Matrix([[0, 0, 0, 0, 0, 0, 0, -delta**2*(1 - delta)*(1 - q)*(delta*q - delta + 1)/((N - 1)*(delta - 1)), -delta**2*(1 - delta)*(1 - q)*(delta*q - delta + 1)/((N - 1)*(delta - 1)), -delta**2*(1 - delta)*(1 - q)*(delta*q - delta + 1)/((N - 1)*(delta - 1)), -delta**2*(1 - delta)*(1 - q)*(delta*q - delta + 1)/((N - 1)*(delta - 1)), 0, 0, 0, 0, 0]])"
      ]
     },
     "execution_count": 71,
     "metadata": {},
     "output_type": "execute_result"
    }
   ],
   "source": [
    "x[7, :]"
   ]
  },
  {
   "cell_type": "code",
   "execution_count": 74,
   "metadata": {},
   "outputs": [
    {
     "data": {
      "text/plain": [
       "(0, -delta**2*(1 - delta)*(1 - q)*(delta*q - delta + 1)/(delta - 1), 0)"
      ]
     },
     "execution_count": 74,
     "metadata": {},
     "output_type": "execute_result"
    }
   ],
   "source": [
    "vRR[7], vRM[7], vMR[7]"
   ]
  },
  {
   "cell_type": "code",
   "execution_count": 71,
   "metadata": {},
   "outputs": [],
   "source": [
    "alld, gtft, deltaV = np.random.random(3), np.random.random(3), 0.99"
   ]
  },
  {
   "cell_type": "code",
   "execution_count": 72,
   "metadata": {},
   "outputs": [],
   "source": [
    "import evol_dynamics"
   ]
  },
  {
   "cell_type": "code",
   "execution_count": 85,
   "metadata": {},
   "outputs": [
    {
     "data": {
      "text/plain": [
       "array([0.012, 0.008, 0.016, 0.012, 0.007, 0.005, 0.069, 0.048, 0.018,\n",
       "       0.071, 0.025, 0.102, 0.011, 0.044, 0.105, 0.427])"
      ]
     },
     "execution_count": 85,
     "metadata": {},
     "output_type": "execute_result"
    }
   ],
   "source": [
    "evol_dynamics.stationary_for_16_states(alld, gtft, deltaV).round(3)"
   ]
  },
  {
   "cell_type": "code",
   "execution_count": 86,
   "metadata": {},
   "outputs": [
    {
     "data": {
      "text/latex": [
       "$\\displaystyle \\left[\\begin{array}{cccccccccccccccc}0.011536959597899 & 0.00811079417519925 & 0.0164739265081158 & 0.0115816152454082 & 0.00704936469052941 & 0.00495589375915072 & 0.0687433079952453 & 0.0483284020664595 & 0.0175933158503918 & 0.07133122062407 & 0.0251219560833169 & 0.10185571651903 & 0.0108092546170965 & 0.0438255831038631 & 0.105408636375468 & 0.427374052789112\\end{array}\\right]$"
      ],
      "text/plain": [
       "Matrix([[0.011536959597899, 0.00811079417519925, 0.0164739265081158, 0.0115816152454082, 0.00704936469052941, 0.00495589375915072, 0.0687433079952453, 0.0483284020664595, 0.0175933158503918, 0.07133122062407, 0.0251219560833169, 0.10185571651903, 0.0108092546170965, 0.0438255831038631, 0.105408636375468, 0.427374052789112]])"
      ]
     },
     "execution_count": 86,
     "metadata": {},
     "output_type": "execute_result"
    }
   ],
   "source": [
    "v.reshape(1, 16).subs({delta:0.99})"
   ]
  },
  {
   "cell_type": "code",
   "execution_count": 30,
   "metadata": {},
   "outputs": [
    {
     "data": {
      "text/plain": [
       "array([0.91236689, 0.64018716, 0.06849263])"
      ]
     },
     "execution_count": 30,
     "metadata": {},
     "output_type": "execute_result"
    }
   ],
   "source": [
    "s2"
   ]
  },
  {
   "cell_type": "code",
   "execution_count": 445,
   "metadata": {},
   "outputs": [],
   "source": [
    "A = np.array([[1, 2], [3, 4]])"
   ]
  },
  {
   "cell_type": "code",
   "execution_count": 447,
   "metadata": {},
   "outputs": [
    {
     "data": {
      "text/plain": [
       "array([[1, 3],\n",
       "       [2, 4]])"
      ]
     },
     "execution_count": 447,
     "metadata": {},
     "output_type": "execute_result"
    }
   ],
   "source": [
    "A.T"
   ]
  },
  {
   "cell_type": "code",
   "execution_count": null,
   "metadata": {},
   "outputs": [],
   "source": []
  }
 ],
 "metadata": {
  "kernelspec": {
   "display_name": "stochastic-payoffs",
   "language": "python",
   "name": "stochastic-payoffs"
  },
  "language_info": {
   "codemirror_mode": {
    "name": "ipython",
    "version": 3
   },
   "file_extension": ".py",
   "mimetype": "text/x-python",
   "name": "python",
   "nbconvert_exporter": "python",
   "pygments_lexer": "ipython3",
   "version": "3.7.8"
  }
 },
 "nbformat": 4,
 "nbformat_minor": 4
}
