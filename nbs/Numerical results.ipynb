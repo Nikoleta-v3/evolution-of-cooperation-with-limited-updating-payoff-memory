{
 "cells": [
  {
   "cell_type": "code",
   "execution_count": 1,
   "metadata": {},
   "outputs": [],
   "source": [
    "import sympy as sym\n",
    "\n",
    "import numpy as np\n",
    "\n",
    "import itertools\n",
    "\n",
    "sym.init_printing()"
   ]
  },
  {
   "cell_type": "code",
   "execution_count": 2,
   "metadata": {},
   "outputs": [],
   "source": [
    "font = {'family': 'serif',\n",
    "        'weight': 'bold',\n",
    "        'size': 10,\n",
    "        }"
   ]
  },
  {
   "cell_type": "code",
   "execution_count": 3,
   "metadata": {},
   "outputs": [],
   "source": [
    "import evol_dynamics"
   ]
  },
  {
   "cell_type": "code",
   "execution_count": 4,
   "metadata": {},
   "outputs": [],
   "source": [
    "import matplotlib.pyplot as plt\n",
    "import matplotlib\n",
    "\n",
    "from collections import Counter"
   ]
  },
  {
   "cell_type": "code",
   "execution_count": 5,
   "metadata": {},
   "outputs": [],
   "source": [
    "matplotlib.rc('font', **font)"
   ]
  },
  {
   "cell_type": "code",
   "execution_count": 6,
   "metadata": {},
   "outputs": [],
   "source": [
    "from mpl_toolkits.axes_grid1 import make_axes_locatable"
   ]
  },
  {
   "cell_type": "code",
   "execution_count": 7,
   "metadata": {},
   "outputs": [],
   "source": [
    "from tqdm import tqdm"
   ]
  },
  {
   "cell_type": "code",
   "execution_count": 8,
   "metadata": {},
   "outputs": [],
   "source": [
    "import pandas as pd"
   ]
  },
  {
   "cell_type": "code",
   "execution_count": 9,
   "metadata": {},
   "outputs": [],
   "source": [
    "from scipy import stats"
   ]
  },
  {
   "cell_type": "code",
   "execution_count": 9,
   "metadata": {},
   "outputs": [],
   "source": [
    "s_one = (0, 0, 0)\n",
    "s_two = (1, 1, 0)"
   ]
  },
  {
   "cell_type": "code",
   "execution_count": 10,
   "metadata": {},
   "outputs": [],
   "source": [
    "payoff_vector = np.array(evol_dynamics.donation_game(1, 3))"
   ]
  },
  {
   "cell_type": "code",
   "execution_count": 11,
   "metadata": {},
   "outputs": [
    {
     "data": {
      "image/png": "[encoded data removed]",
      "text/latex": [
       "$\\displaystyle -0.000999999999999855$"
      ],
      "text/plain": [
       "-0.000999999999999855"
      ]
     },
     "execution_count": 11,
     "metadata": {},
     "output_type": "execute_result"
    }
   ],
   "source": [
    "evol_dynamics.steady_state(s_two, s_one, delta=0.999) @ payoff_vector "
   ]
  },
  {
   "cell_type": "markdown",
   "metadata": {},
   "source": [
    "**Defining variables**"
   ]
  },
  {
   "cell_type": "code",
   "execution_count": 9,
   "metadata": {},
   "outputs": [],
   "source": [
    "y_1, p_1, q_1 = sym.symbols(\"y_1, p_1, q_1\")\n",
    "y_2, p_2, q_2 = sym.symbols(\"y_2, p_2, q_2\")"
   ]
  },
  {
   "cell_type": "code",
   "execution_count": 10,
   "metadata": {},
   "outputs": [],
   "source": [
    "s_one = (y_1, p_1, q_1)\n",
    "s_two = (y_2, p_2, q_2)"
   ]
  },
  {
   "cell_type": "code",
   "execution_count": 11,
   "metadata": {},
   "outputs": [
    {
     "data": {
      "image/png": "[encoded data removed]",
      "text/latex": [
       "$\\displaystyle \\left( y_{1}, \\  p_{1}, \\  q_{1}\\right)$"
      ],
      "text/plain": [
       "(y₁, p₁, q₁)"
      ]
     },
     "execution_count": 11,
     "metadata": {},
     "output_type": "execute_result"
    }
   ],
   "source": [
    "s_one"
   ]
  },
  {
   "cell_type": "code",
   "execution_count": 12,
   "metadata": {},
   "outputs": [],
   "source": [
    "combinations = itertools.product([s_one, s_two], repeat=2)"
   ]
  },
  {
   "cell_type": "code",
   "execution_count": 13,
   "metadata": {},
   "outputs": [
    {
     "data": {
      "image/png": "[encoded data removed]",
      "text/latex": [
       "$\\displaystyle \\left[ \\left( \\left( y_{1}, \\  p_{1}, \\  q_{1}\\right), \\  \\left( y_{1}, \\  p_{1}, \\  q_{1}\\right)\\right), \\  \\left( \\left( y_{1}, \\  p_{1}, \\  q_{1}\\right), \\  \\left( y_{2}, \\  p_{2}, \\  q_{2}\\right)\\right), \\  \\left( \\left( y_{2}, \\  p_{2}, \\  q_{2}\\right), \\  \\left( y_{1}, \\  p_{1}, \\  q_{1}\\right)\\right), \\  \\left( \\left( y_{2}, \\  p_{2}, \\  q_{2}\\right), \\  \\left( y_{2}, \\  p_{2}, \\  q_{2}\\right)\\right)\\right]$"
      ],
      "text/plain": [
       "[((y₁, p₁, q₁), (y₁, p₁, q₁)), ((y₁, p₁, q₁), (y₂, p₂, q₂)), ((y₂, p₂, q₂), (y\n",
       "₁, p₁, q₁)), ((y₂, p₂, q₂), (y₂, p₂, q₂))]"
      ]
     },
     "execution_count": 13,
     "metadata": {},
     "output_type": "execute_result"
    }
   ],
   "source": [
    "list(combinations)"
   ]
  },
  {
   "cell_type": "markdown",
   "metadata": {},
   "source": [
    "**Get expression using code**"
   ]
  },
  {
   "cell_type": "code",
   "execution_count": 14,
   "metadata": {},
   "outputs": [],
   "source": [
    "d = sym.symbols(\"delta\")"
   ]
  },
  {
   "cell_type": "code",
   "execution_count": 15,
   "metadata": {},
   "outputs": [],
   "source": [
    "v_zero = evol_dynamics.expected_distribution_opening_round(s_one, s_two)"
   ]
  },
  {
   "cell_type": "code",
   "execution_count": 16,
   "metadata": {},
   "outputs": [
    {
     "data": {
      "image/png": "[encoded data removed]",
      "text/latex": [
       "$\\displaystyle \\left( y_{1} y_{2}, \\  y_{1} \\left(1 - y_{2}\\right), \\  y_{2} \\left(1 - y_{1}\\right), \\  \\left(1 - y_{1}\\right) \\left(1 - y_{2}\\right)\\right)$"
      ],
      "text/plain": [
       "(y₁⋅y₂, y₁⋅(1 - y₂), y₂⋅(1 - y₁), (1 - y₁)⋅(1 - y₂))"
      ]
     },
     "execution_count": 16,
     "metadata": {},
     "output_type": "execute_result"
    }
   ],
   "source": [
    "v_zero"
   ]
  },
  {
   "cell_type": "code",
   "execution_count": 17,
   "metadata": {},
   "outputs": [],
   "source": [
    "M = evol_dynamics.markov_chain_for_reactive_strategies(s_one, s_two)"
   ]
  },
  {
   "cell_type": "code",
   "execution_count": 18,
   "metadata": {},
   "outputs": [
    {
     "data": {
      "image/png": "[encoded data removed]",
      "text/latex": [
       "$\\displaystyle \\left[\\begin{matrix}p_{1} p_{2} & p_{1} \\left(1 - p_{2}\\right) & p_{2} \\left(1 - p_{1}\\right) & \\left(1 - p_{1}\\right) \\left(1 - p_{2}\\right)\\\\p_{2} q_{1} & q_{1} \\left(1 - p_{2}\\right) & p_{2} \\left(1 - q_{1}\\right) & \\left(1 - p_{2}\\right) \\left(1 - q_{1}\\right)\\\\p_{1} q_{2} & p_{1} \\left(1 - q_{2}\\right) & q_{2} \\left(1 - p_{1}\\right) & \\left(1 - p_{1}\\right) \\left(1 - q_{2}\\right)\\\\q_{1} q_{2} & q_{1} \\left(1 - q_{2}\\right) & q_{2} \\left(1 - q_{1}\\right) & \\left(1 - q_{1}\\right) \\left(1 - q_{2}\\right)\\end{matrix}\\right]$"
      ],
      "text/plain": [
       "⎡p₁⋅p₂  p₁⋅(1 - p₂)  p₂⋅(1 - p₁)  (1 - p₁)⋅(1 - p₂)⎤\n",
       "⎢                                                  ⎥\n",
       "⎢p₂⋅q₁  q₁⋅(1 - p₂)  p₂⋅(1 - q₁)  (1 - p₂)⋅(1 - q₁)⎥\n",
       "⎢                                                  ⎥\n",
       "⎢p₁⋅q₂  p₁⋅(1 - q₂)  q₂⋅(1 - p₁)  (1 - p₁)⋅(1 - q₂)⎥\n",
       "⎢                                                  ⎥\n",
       "⎣q₁⋅q₂  q₁⋅(1 - q₂)  q₂⋅(1 - q₁)  (1 - q₁)⋅(1 - q₂)⎦"
      ]
     },
     "execution_count": 18,
     "metadata": {},
     "output_type": "execute_result"
    }
   ],
   "source": [
    "sym.Matrix(M)"
   ]
  },
  {
   "cell_type": "code",
   "execution_count": 19,
   "metadata": {},
   "outputs": [],
   "source": [
    "inverse = sym.Matrix(np.identity(4) - d * M).inverse_ADJ()"
   ]
  },
  {
   "cell_type": "code",
   "execution_count": 20,
   "metadata": {},
   "outputs": [],
   "source": [
    "expression = (1 - d) * sym.Matrix(v_zero).reshape(1, 4) @ inverse"
   ]
  },
  {
   "cell_type": "markdown",
   "metadata": {},
   "source": [
    "**Check the written mathematics**"
   ]
  },
  {
   "cell_type": "code",
   "execution_count": 21,
   "metadata": {},
   "outputs": [
    {
     "data": {
      "image/png": "[encoded data removed]",
      "text/latex": [
       "$\\displaystyle \\frac{\\delta \\left(q_{1} + \\left(p_{1} - q_{1}\\right) \\left(\\delta q_{2} + y_{2} \\left(1 - \\delta\\right)\\right)\\right) \\left(q_{2} + \\left(p_{2} - q_{2}\\right) \\left(\\delta q_{1} + y_{1} \\left(1 - \\delta\\right)\\right)\\right)}{\\left(- \\delta \\left(p_{1} - q_{1}\\right) \\left(p_{2} - q_{2}\\right) + 1\\right) \\left(- \\delta^{2} \\left(p_{1} - q_{1}\\right) \\left(p_{2} - q_{2}\\right) + 1\\right)} + \\frac{y_{1} y_{2} \\left(1 - \\delta\\right)}{- \\delta^{2} \\left(p_{1} - q_{1}\\right) \\left(p_{2} - q_{2}\\right) + 1}$"
      ],
      "text/plain": [
       "δ⋅(q₁ + (p₁ - q₁)⋅(δ⋅q₂ + y₂⋅(1 - δ)))⋅(q₂ + (p₂ - q₂)⋅(δ⋅q₁ + y₁⋅(1 - δ)))   \n",
       "─────────────────────────────────────────────────────────────────────────── + \n",
       "                                     ⎛   2                        ⎞           \n",
       "        (-δ⋅(p₁ - q₁)⋅(p₂ - q₂) + 1)⋅⎝- δ ⋅(p₁ - q₁)⋅(p₂ - q₂) + 1⎠           \n",
       "\n",
       "       y₁⋅y₂⋅(1 - δ)        \n",
       "────────────────────────────\n",
       "   2                        \n",
       "- δ ⋅(p₁ - q₁)⋅(p₂ - q₂) + 1"
      ]
     },
     "execution_count": 21,
     "metadata": {},
     "output_type": "execute_result"
    }
   ],
   "source": [
    "u_R = evol_dynamics.formulation.probability_being_in_state_R(s_one, s_two, d)\n",
    "u_R"
   ]
  },
  {
   "cell_type": "code",
   "execution_count": 22,
   "metadata": {},
   "outputs": [
    {
     "data": {
      "image/png": "[encoded data removed]",
      "text/latex": [
       "$\\displaystyle \\frac{\\delta \\left(q_{1} + \\left(p_{1} - q_{1}\\right) \\left(\\delta q_{2} + y_{2} \\left(1 - \\delta\\right)\\right)\\right) \\left(- q_{2} + \\left(- p_{2} + q_{2}\\right) \\left(\\delta p_{1} + y_{1} \\left(1 - \\delta\\right)\\right) + 1\\right)}{\\left(- \\delta \\left(p_{1} - q_{1}\\right) \\left(p_{2} - q_{2}\\right) + 1\\right) \\left(- \\delta^{2} \\left(p_{1} - q_{1}\\right) \\left(p_{2} - q_{2}\\right) + 1\\right)} + \\frac{y_{1} \\left(1 - \\delta\\right) \\left(1 - y_{2}\\right)}{- \\delta^{2} \\left(p_{1} - q_{1}\\right) \\left(p_{2} - q_{2}\\right) + 1}$"
      ],
      "text/plain": [
       "δ⋅(q₁ + (p₁ - q₁)⋅(δ⋅q₂ + y₂⋅(1 - δ)))⋅(-q₂ + (-p₂ + q₂)⋅(δ⋅p₁ + y₁⋅(1 - δ)) +\n",
       "──────────────────────────────────────────────────────────────────────────────\n",
       "                                        ⎛   2                        ⎞        \n",
       "           (-δ⋅(p₁ - q₁)⋅(p₂ - q₂) + 1)⋅⎝- δ ⋅(p₁ - q₁)⋅(p₂ - q₂) + 1⎠        \n",
       "\n",
       " 1)       y₁⋅(1 - δ)⋅(1 - y₂)     \n",
       "─── + ────────────────────────────\n",
       "         2                        \n",
       "      - δ ⋅(p₁ - q₁)⋅(p₂ - q₂) + 1"
      ]
     },
     "execution_count": 22,
     "metadata": {},
     "output_type": "execute_result"
    }
   ],
   "source": [
    "u_S = evol_dynamics.formulation.probability_being_in_state_S(s_one, s_two, d)\n",
    "u_S"
   ]
  },
  {
   "cell_type": "code",
   "execution_count": 23,
   "metadata": {},
   "outputs": [
    {
     "data": {
      "image/png": "[encoded data removed]",
      "text/latex": [
       "$\\displaystyle \\frac{\\delta \\left(q_{2} + \\left(p_{2} - q_{2}\\right) \\left(\\delta q_{1} + y_{1} \\left(1 - \\delta\\right)\\right)\\right) \\left(- q_{1} + \\left(- p_{1} + q_{1}\\right) \\left(\\delta p_{2} + y_{2} \\left(1 - \\delta\\right)\\right) + 1\\right)}{\\left(- \\delta \\left(p_{1} - q_{1}\\right) \\left(p_{2} - q_{2}\\right) + 1\\right) \\left(- \\delta^{2} \\left(p_{1} - q_{1}\\right) \\left(p_{2} - q_{2}\\right) + 1\\right)} + \\frac{y_{2} \\left(1 - \\delta\\right) \\left(1 - y_{1}\\right)}{- \\delta^{2} \\left(p_{1} - q_{1}\\right) \\left(p_{2} - q_{2}\\right) + 1}$"
      ],
      "text/plain": [
       "δ⋅(q₂ + (p₂ - q₂)⋅(δ⋅q₁ + y₁⋅(1 - δ)))⋅(-q₁ + (-p₁ + q₁)⋅(δ⋅p₂ + y₂⋅(1 - δ)) +\n",
       "──────────────────────────────────────────────────────────────────────────────\n",
       "                                        ⎛   2                        ⎞        \n",
       "           (-δ⋅(p₁ - q₁)⋅(p₂ - q₂) + 1)⋅⎝- δ ⋅(p₁ - q₁)⋅(p₂ - q₂) + 1⎠        \n",
       "\n",
       " 1)       y₂⋅(1 - δ)⋅(1 - y₁)     \n",
       "─── + ────────────────────────────\n",
       "         2                        \n",
       "      - δ ⋅(p₁ - q₁)⋅(p₂ - q₂) + 1"
      ]
     },
     "execution_count": 23,
     "metadata": {},
     "output_type": "execute_result"
    }
   ],
   "source": [
    "u_T = evol_dynamics.formulation.probability_being_in_state_T(s_one, s_two, d)\n",
    "u_T"
   ]
  },
  {
   "cell_type": "code",
   "execution_count": 24,
   "metadata": {},
   "outputs": [
    {
     "data": {
      "image/png": "[encoded data removed]",
      "text/latex": [
       "$\\displaystyle \\frac{\\delta \\left(- q_{1} + \\left(- p_{1} + q_{1}\\right) \\left(\\delta p_{2} + y_{2} \\left(1 - \\delta\\right)\\right) + 1\\right) \\left(- q_{2} + \\left(- p_{2} + q_{2}\\right) \\left(\\delta p_{1} + y_{1} \\left(1 - \\delta\\right)\\right) + 1\\right)}{\\left(- \\delta \\left(p_{1} - q_{1}\\right) \\left(p_{2} - q_{2}\\right) + 1\\right) \\left(- \\delta^{2} \\left(p_{1} - q_{1}\\right) \\left(p_{2} - q_{2}\\right) + 1\\right)} + \\frac{\\left(1 - \\delta\\right) \\left(1 - y_{1}\\right) \\left(1 - y_{2}\\right)}{- \\delta^{2} \\left(p_{1} - q_{1}\\right) \\left(p_{2} - q_{2}\\right) + 1}$"
      ],
      "text/plain": [
       "δ⋅(-q₁ + (-p₁ + q₁)⋅(δ⋅p₂ + y₂⋅(1 - δ)) + 1)⋅(-q₂ + (-p₂ + q₂)⋅(δ⋅p₁ + y₁⋅(1 -\n",
       "──────────────────────────────────────────────────────────────────────────────\n",
       "                                           ⎛   2                        ⎞     \n",
       "              (-δ⋅(p₁ - q₁)⋅(p₂ - q₂) + 1)⋅⎝- δ ⋅(p₁ - q₁)⋅(p₂ - q₂) + 1⎠     \n",
       "\n",
       " δ)) + 1)    (1 - δ)⋅(1 - y₁)⋅(1 - y₂)  \n",
       "───────── + ────────────────────────────\n",
       "               2                        \n",
       "            - δ ⋅(p₁ - q₁)⋅(p₂ - q₂) + 1"
      ]
     },
     "execution_count": 24,
     "metadata": {},
     "output_type": "execute_result"
    }
   ],
   "source": [
    "u_P = evol_dynamics.formulation.probability_being_in_state_P(s_one, s_two, d)\n",
    "u_P"
   ]
  },
  {
   "cell_type": "code",
   "execution_count": 25,
   "metadata": {},
   "outputs": [
    {
     "data": {
      "image/png": "[encoded data removed]",
      "text/latex": [
       "$\\displaystyle \\left( 0, \\  0\\right)$"
      ],
      "text/plain": [
       "(0, 0)"
      ]
     },
     "execution_count": 25,
     "metadata": {},
     "output_type": "execute_result"
    }
   ],
   "source": [
    "(u_R - expression[0]).simplify(), (u_S - expression[1]).factor()"
   ]
  },
  {
   "cell_type": "code",
   "execution_count": 26,
   "metadata": {},
   "outputs": [
    {
     "data": {
      "image/png": "[encoded data removed]",
      "text/latex": [
       "$\\displaystyle \\left( 0, \\  0\\right)$"
      ],
      "text/plain": [
       "(0, 0)"
      ]
     },
     "execution_count": 26,
     "metadata": {},
     "output_type": "execute_result"
    }
   ],
   "source": [
    "(u_T - expression[2]).factor(), (u_P - expression[3]).factor()"
   ]
  },
  {
   "cell_type": "markdown",
   "metadata": {},
   "source": [
    "**Check functions for analysis of ALLD into GTFT**"
   ]
  },
  {
   "cell_type": "code",
   "execution_count": 27,
   "metadata": {},
   "outputs": [],
   "source": [
    "q = sym.symbols(\"q\")\n",
    "\n",
    "N, k = sym.symbols(\"N, k\")"
   ]
  },
  {
   "cell_type": "code",
   "execution_count": 28,
   "metadata": {},
   "outputs": [],
   "source": [
    "ALLD = (0, 0, 0)\n",
    "GTFT = (1, 1, q)"
   ]
  },
  {
   "cell_type": "markdown",
   "metadata": {},
   "source": [
    "**States of Eq. (9) and (10)**"
   ]
  },
  {
   "cell_type": "code",
   "execution_count": 29,
   "metadata": {},
   "outputs": [
    {
     "data": {
      "image/png": "[encoded data removed]",
      "text/latex": [
       "$\\displaystyle 1$"
      ],
      "text/plain": [
       "1"
      ]
     },
     "execution_count": 29,
     "metadata": {},
     "output_type": "execute_result"
    }
   ],
   "source": [
    "evol_dynamics.formulation.probability_being_in_state_R(GTFT, GTFT, d).factor()"
   ]
  },
  {
   "cell_type": "code",
   "execution_count": 30,
   "metadata": {},
   "outputs": [
    {
     "data": {
      "image/png": "[encoded data removed]",
      "text/latex": [
       "$\\displaystyle 0$"
      ],
      "text/plain": [
       "0"
      ]
     },
     "execution_count": 30,
     "metadata": {},
     "output_type": "execute_result"
    }
   ],
   "source": [
    "evol_dynamics.formulation.probability_being_in_state_R(GTFT, ALLD, d).factor()"
   ]
  },
  {
   "cell_type": "code",
   "execution_count": 31,
   "metadata": {},
   "outputs": [
    {
     "data": {
      "image/png": "[encoded data removed]",
      "text/latex": [
       "$\\displaystyle 0$"
      ],
      "text/plain": [
       "0"
      ]
     },
     "execution_count": 31,
     "metadata": {},
     "output_type": "execute_result"
    }
   ],
   "source": [
    "evol_dynamics.formulation.probability_being_in_state_R(GTFT, ALLD, d).factor()"
   ]
  },
  {
   "cell_type": "code",
   "execution_count": 32,
   "metadata": {},
   "outputs": [
    {
     "data": {
      "image/png": "[encoded data removed]",
      "text/latex": [
       "$\\displaystyle \\delta q - \\delta + 1$"
      ],
      "text/plain": [
       "δ⋅q - δ + 1"
      ]
     },
     "execution_count": 32,
     "metadata": {},
     "output_type": "execute_result"
    }
   ],
   "source": [
    "evol_dynamics.formulation.probability_being_in_state_T(ALLD, GTFT, d).factor()"
   ]
  },
  {
   "cell_type": "code",
   "execution_count": 33,
   "metadata": {},
   "outputs": [
    {
     "data": {
      "image/png": "[encoded data removed]",
      "text/latex": [
       "$\\displaystyle \\left( 0, \\  0, \\  0\\right)$"
      ],
      "text/plain": [
       "(0, 0, 0)"
      ]
     },
     "execution_count": 33,
     "metadata": {},
     "output_type": "execute_result"
    }
   ],
   "source": [
    "(\n",
    "    evol_dynamics.formulation.probability_being_in_state_S(GTFT, GTFT, d).factor(),\n",
    "    evol_dynamics.formulation.probability_being_in_state_T(GTFT, GTFT, d).factor(),\n",
    "    evol_dynamics.formulation.probability_being_in_state_P(GTFT, GTFT, d).factor(),\n",
    ")"
   ]
  },
  {
   "cell_type": "code",
   "execution_count": 34,
   "metadata": {},
   "outputs": [
    {
     "data": {
      "image/png": "[encoded data removed]",
      "text/latex": [
       "$\\displaystyle \\left( 0, \\  0\\right)$"
      ],
      "text/plain": [
       "(0, 0)"
      ]
     },
     "execution_count": 34,
     "metadata": {},
     "output_type": "execute_result"
    }
   ],
   "source": [
    "evol_dynamics.formulation.probability_being_in_state_R(\n",
    "    ALLD, GTFT, d\n",
    ").factor(), evol_dynamics.formulation.probability_being_in_state_S(ALLD, GTFT, d).factor()"
   ]
  },
  {
   "cell_type": "code",
   "execution_count": 35,
   "metadata": {},
   "outputs": [
    {
     "data": {
      "image/png": "[encoded data removed]",
      "text/latex": [
       "$\\displaystyle \\left( \\delta q - \\delta + 1, \\  - \\delta \\left(q - 1\\right)\\right)$"
      ],
      "text/plain": [
       "(δ⋅q - δ + 1, -δ⋅(q - 1))"
      ]
     },
     "execution_count": 35,
     "metadata": {},
     "output_type": "execute_result"
    }
   ],
   "source": [
    "evol_dynamics.formulation.probability_being_in_state_T(\n",
    "    ALLD, GTFT, d\n",
    ").factor(), evol_dynamics.formulation.probability_being_in_state_P(ALLD, GTFT, d).factor()"
   ]
  },
  {
   "cell_type": "markdown",
   "metadata": {},
   "source": [
    "**Simulations** - **Example in notes**"
   ]
  },
  {
   "cell_type": "markdown",
   "metadata": {},
   "source": [
    "**Plotting simulation results**"
   ]
  },
  {
   "cell_type": "code",
   "execution_count": 31,
   "metadata": {},
   "outputs": [],
   "source": [
    "exp = pd.read_csv(\"../matlab/data/expected/clean_c_1_b_10_stochastic_0.csv\")"
   ]
  },
  {
   "cell_type": "code",
   "execution_count": 11,
   "metadata": {},
   "outputs": [],
   "source": [
    "text_file = open(\"../matlab/data/expected/beta_10_stochastic_0.txt\", \"r\")\n",
    "data = text_file.readlines()"
   ]
  },
  {
   "cell_type": "code",
   "execution_count": 12,
   "metadata": {},
   "outputs": [
    {
     "data": {
      "text/plain": [
       "'R=2; S=-1; T=3; P=0; N=100; beta=10; nIt=10000000; stochastic=0\\n'"
      ]
     },
     "execution_count": 12,
     "metadata": {},
     "output_type": "execute_result"
    }
   ],
   "source": [
    "data[0].replace(\",\", \"\")"
   ]
  },
  {
   "cell_type": "code",
   "execution_count": 13,
   "metadata": {},
   "outputs": [
    {
     "data": {
      "image/png": "[encoded data removed]",
      "text/latex": [
       "$\\displaystyle \\left( 2, \\  -1, \\  3, \\  0\\right)$"
      ],
      "text/plain": [
       "(2, -1, 3, 0)"
      ]
     },
     "execution_count": 13,
     "metadata": {},
     "output_type": "execute_result"
    }
   ],
   "source": [
    "evol_dynamics.donation_game(1, 3)"
   ]
  },
  {
   "cell_type": "code",
   "execution_count": 36,
   "metadata": {},
   "outputs": [],
   "source": [
    "exp = exp.drop_duplicates()"
   ]
  },
  {
   "cell_type": "code",
   "execution_count": 15,
   "metadata": {},
   "outputs": [],
   "source": [
    "import matplotlib.colors as colors"
   ]
  },
  {
   "cell_type": "code",
   "execution_count": 16,
   "metadata": {},
   "outputs": [],
   "source": [
    "cmap = matplotlib.cm.get_cmap(\"Blues\")"
   ]
  },
  {
   "cell_type": "code",
   "execution_count": 37,
   "metadata": {},
   "outputs": [],
   "source": [
    "ps, qs = [], []\n",
    "for p, q, v in zip(exp[\"p\"], exp[\"q\"], exp[\"frequencies\"]):\n",
    "    for _ in range(int(v)):\n",
    "        ps.append(p)\n",
    "        qs.append(q)"
   ]
  },
  {
   "cell_type": "code",
   "execution_count": 22,
   "metadata": {},
   "outputs": [],
   "source": [
    "params = {\"text.color\" : \"black\",\n",
    "          \"xtick.color\" : \"black\",\n",
    "          \"ytick.color\" : \"black\"}"
   ]
  },
  {
   "cell_type": "code",
   "execution_count": 33,
   "metadata": {},
   "outputs": [],
   "source": [
    "stoch = pd.read_csv(\"../matlab/data/stochastic/clean_c_1_b_10_stochastic_1.csv\")"
   ]
  },
  {
   "cell_type": "code",
   "execution_count": 34,
   "metadata": {},
   "outputs": [],
   "source": [
    "stoch = stoch.drop_duplicates()"
   ]
  },
  {
   "cell_type": "code",
   "execution_count": 38,
   "metadata": {},
   "outputs": [],
   "source": [
    "ps_stoch, qs_stoch = [], []\n",
    "for p, q, v in zip(stoch[\"p\"], stoch[\"q\"], stoch[\"frequencies\"]):\n",
    "    for _ in range(int(v)):\n",
    "        ps_stoch.append(p)\n",
    "        qs_stoch.append(q)"
   ]
  },
  {
   "cell_type": "code",
   "execution_count": 39,
   "metadata": {},
   "outputs": [
    {
     "data": {
      "image/png": "[encoded data removed]",
      "text/plain": [
       "<Figure size 720x504 with 4 Axes>"
      ]
     },
     "metadata": {
      "needs_background": "light"
     },
     "output_type": "display_data"
    }
   ],
   "source": [
    "fig, axes = plt.subplots(ncols=2, figsize=(10, 7))\n",
    "\n",
    "\n",
    "heatmap, xedges, yedges = np.histogram2d(ps, qs, bins=19)\n",
    "\n",
    "extent = [xedges[0], xedges[-1], yedges[0], yedges[-1]]\n",
    "\n",
    "im = axes[0].imshow(heatmap.T, extent=extent, origin=\"lower\", cmap=cmap, norm=colors.LogNorm(vmin=heatmap.min(),\n",
    "                                                                                    vmax=heatmap.max()))\n",
    "\n",
    "divider = make_axes_locatable(axes[0])\n",
    "cax = divider.append_axes('right', size='5%', pad=0.05)\n",
    "fig.colorbar(im, cax=cax, orientation='vertical')\n",
    "\n",
    "\n",
    "\n",
    "heatmap, xedges, yedges = np.histogram2d(ps_stoch, qs_stoch, bins=19)\n",
    "\n",
    "extent = [xedges[0], xedges[-1], yedges[0], yedges[-1]]\n",
    "\n",
    "im = axes[1].imshow(heatmap.T, extent=extent, origin=\"lower\", cmap=matplotlib.cm.get_cmap(\"Reds\"),\n",
    "                 norm=colors.LogNorm(vmin=heatmap.min(),\n",
    "                                                                                    vmax=heatmap.max()))\n",
    "\n",
    "divider = make_axes_locatable(axes[1])\n",
    "cax = divider.append_axes('right', size='5%', pad=0.05)\n",
    "fig.colorbar(im, cax=cax, orientation='vertical')\n",
    "\n",
    "\n",
    "\n",
    "\n",
    "for i, df in enumerate([exp, stoch]):\n",
    "    axes[i].set_xticks(np.linspace(0, 1, 2))\n",
    "    axes[i].set_yticks(np.linspace(0, 1, 2));\n",
    "    axes[i].set_xlabel(\"$p$\")\n",
    "    axes[i].set_ylabel(\"$q$\")\n",
    "    \n",
    "    axes[i].text(.1, .9, \"Cooperation rate\", color='black', fontsize=10)\n",
    "    axes[i].text(.30, .8, f\"{round(sum(df['average cooperation rate'] * (df['frequencies'] / 10 ** 7)), 3) * 100}%\",\n",
    "          color='black', fontsize=11);\n",
    "\n",
    "\n",
    "axes[0].set_title(\"Expected Payoffs\", weight=\"bold\");\n",
    "axes[1].set_title(\"Limited Memory Payoffs\" \"\\n\" \"(last round with one other player)\", weight=\"bold\", fontsize=10);\n",
    "\n",
    "fig.tight_layout()\n",
    "\n",
    "fig.savefig(\"../static/expected_and_stochastic_for_donation_game_b_10.pdf\", )"
   ]
  },
  {
   "cell_type": "code",
   "execution_count": 141,
   "metadata": {},
   "outputs": [],
   "source": [
    "exp_coops = []\n",
    "for value, times in zip(exp['average cooperation rate'], exp['frequencies']):\n",
    "    for _ in range(times):\n",
    "        exp_coops.append(value)"
   ]
  },
  {
   "cell_type": "code",
   "execution_count": 142,
   "metadata": {},
   "outputs": [],
   "source": [
    "stoch_coops = []\n",
    "for value, times in zip(stoch['average cooperation rate'], stoch['frequencies']):\n",
    "    for _ in range(times):\n",
    "        stoch_coops.append(value)"
   ]
  },
  {
   "cell_type": "code",
   "execution_count": 143,
   "metadata": {},
   "outputs": [
    {
     "data": {
      "image/png": "[encoded data removed]",
      "text/plain": [
       "<Figure size 432x288 with 1 Axes>"
      ]
     },
     "metadata": {
      "needs_background": "light"
     },
     "output_type": "display_data"
    }
   ],
   "source": [
    "plt.hist(exp_coops);"
   ]
  },
  {
   "cell_type": "code",
   "execution_count": 144,
   "metadata": {},
   "outputs": [
    {
     "data": {
      "image/png": "[encoded data removed]",
      "text/plain": [
       "<Figure size 432x288 with 1 Axes>"
      ]
     },
     "metadata": {
      "needs_background": "light"
     },
     "output_type": "display_data"
    }
   ],
   "source": [
    "plt.hist(stoch_coops);"
   ]
  },
  {
   "cell_type": "code",
   "execution_count": 149,
   "metadata": {},
   "outputs": [],
   "source": [
    "tStat, pStat = stats.mannwhitneyu(exp_coops, stoch_coops)"
   ]
  },
  {
   "cell_type": "code",
   "execution_count": 150,
   "metadata": {},
   "outputs": [
    {
     "data": {
      "image/png": "[encoded data removed]",
      "text/latex": [
       "$\\displaystyle 0.0$"
      ],
      "text/plain": [
       "0.0"
      ]
     },
     "execution_count": 150,
     "metadata": {},
     "output_type": "execute_result"
    }
   ],
   "source": [
    "pStat"
   ]
  },
  {
   "cell_type": "code",
   "execution_count": 49,
   "metadata": {},
   "outputs": [
    {
     "data": {
      "image/png": "[encoded data removed]",
      "text/plain": [
       "<Figure size 432x288 with 1 Axes>"
      ]
     },
     "metadata": {
      "needs_background": "light"
     },
     "output_type": "display_data"
    }
   ],
   "source": [
    "fig, ax = plt.subplots()\n",
    "\n",
    "colors = [\"C0\", \"C3\"]\n",
    "alphas = [1, 0.8]\n",
    "\n",
    "for i, data in enumerate([exp, stoch]):\n",
    "\n",
    "    measure = data[\"p\"]\n",
    "    mean = np.mean(measure)\n",
    "    weights = np.ones_like(measure) / float(len(measure))\n",
    "\n",
    "    ax.hist(\n",
    "        measure,\n",
    "        weights=weights,\n",
    "        label=f\"median = {round(mean, 3)}\",\n",
    "        color=colors[i],\n",
    "        alpha=alphas[i],\n",
    "    )\n",
    "ax.legend();"
   ]
  },
  {
   "cell_type": "code",
   "execution_count": 51,
   "metadata": {},
   "outputs": [],
   "source": [
    "tStat, pStat = stats.ttest_ind(exp[\"p\"], stoch[\"p\"], equal_var=False)"
   ]
  },
  {
   "cell_type": "code",
   "execution_count": 52,
   "metadata": {},
   "outputs": [
    {
     "data": {
      "image/png": "[encoded data removed]",
      "text/latex": [
       "$\\displaystyle 0.0$"
      ],
      "text/plain": [
       "0.0"
      ]
     },
     "execution_count": 52,
     "metadata": {},
     "output_type": "execute_result"
    }
   ],
   "source": [
    "pStat"
   ]
  },
  {
   "cell_type": "code",
   "execution_count": 53,
   "metadata": {},
   "outputs": [
    {
     "data": {
      "image/png": "[encoded data removed]",
      "text/plain": [
       "<Figure size 432x288 with 1 Axes>"
      ]
     },
     "metadata": {
      "needs_background": "light"
     },
     "output_type": "display_data"
    }
   ],
   "source": [
    "fig, ax = plt.subplots()\n",
    "\n",
    "colors = [\"C0\", \"C3\"]\n",
    "alphas = [1, 0.8]\n",
    "\n",
    "for i, data in enumerate([exp, stoch]):\n",
    "\n",
    "    measure = data[\"q\"]\n",
    "    mean = np.mean(measure)\n",
    "    weights = np.ones_like(measure) / float(len(measure))\n",
    "\n",
    "    ax.hist(\n",
    "        measure,\n",
    "        weights=weights,\n",
    "        label=f\"median = {round(mean, 3)}\",\n",
    "        color=colors[i],\n",
    "        alpha=alphas[i],\n",
    "    )\n",
    "ax.legend();"
   ]
  },
  {
   "cell_type": "code",
   "execution_count": 54,
   "metadata": {},
   "outputs": [
    {
     "data": {
      "image/png": "[encoded data removed]",
      "text/latex": [
       "$\\displaystyle 0.0$"
      ],
      "text/plain": [
       "0.0"
      ]
     },
     "execution_count": 54,
     "metadata": {},
     "output_type": "execute_result"
    }
   ],
   "source": [
    "tStat, pStat = stats.ttest_ind(exp[\"q\"], stoch[\"q\"], equal_var=False)\n",
    "pStat"
   ]
  },
  {
   "cell_type": "markdown",
   "metadata": {},
   "source": [
    "# Distributions of cooperation"
   ]
  },
  {
   "cell_type": "code",
   "execution_count": 58,
   "metadata": {},
   "outputs": [
    {
     "data": {
      "image/png": "[encoded data removed]",
      "text/plain": [
       "<Figure size 432x288 with 1 Axes>"
      ]
     },
     "metadata": {
      "needs_background": "light"
     },
     "output_type": "display_data"
    }
   ],
   "source": [
    "fig, ax = plt.subplots()\n",
    "\n",
    "colors = [\"C0\", \"C3\"]\n",
    "alphas = [1, 0.8]\n",
    "\n",
    "for i, data in enumerate([exp, stoch]):\n",
    "\n",
    "    measure = data[\"cooperation\"]\n",
    "    mean = np.mean(measure)\n",
    "    weights = np.ones_like(measure) / float(len(measure))\n",
    "\n",
    "    ax.hist(\n",
    "        measure,\n",
    "        weights=weights,\n",
    "        label=f\"median = {round(mean, 3)}\",\n",
    "        color=colors[i],\n",
    "        alpha=alphas[i],\n",
    "    )\n",
    "ax.legend();"
   ]
  },
  {
   "cell_type": "code",
   "execution_count": 57,
   "metadata": {},
   "outputs": [
    {
     "data": {
      "image/png": "[encoded data removed]",
      "text/latex": [
       "$\\displaystyle 0.0$"
      ],
      "text/plain": [
       "0.0"
      ]
     },
     "execution_count": 57,
     "metadata": {},
     "output_type": "execute_result"
    }
   ],
   "source": [
    "tStat, pStat = stats.ttest_ind(exp[\"cooperation\"], stoch[\"cooperation\"], equal_var=False)\n",
    "pStat"
   ]
  },
  {
   "cell_type": "code",
   "execution_count": 127,
   "metadata": {},
   "outputs": [],
   "source": [
    "k = [(1, 0, 0), [0, 1, 1]]"
   ]
  },
  {
   "cell_type": "code",
   "execution_count": 129,
   "metadata": {},
   "outputs": [
    {
     "data": {
      "text/plain": [
       "True"
      ]
     },
     "execution_count": 129,
     "metadata": {},
     "output_type": "execute_result"
    }
   ],
   "source": [
    "(1, 0, 0) in k"
   ]
  },
  {
   "cell_type": "code",
   "execution_count": 137,
   "metadata": {},
   "outputs": [
    {
     "data": {
      "text/plain": [
       "True"
      ]
     },
     "execution_count": 137,
     "metadata": {},
     "output_type": "execute_result"
    }
   ],
   "source": [
    "np.array([1, 2]).shape == (2, )"
   ]
  },
  {
   "cell_type": "code",
   "execution_count": 139,
   "metadata": {},
   "outputs": [
    {
     "data": {
      "text/plain": [
       "True"
      ]
     },
     "execution_count": 139,
     "metadata": {},
     "output_type": "execute_result"
    }
   ],
   "source": [
    "isinstance(3, int)"
   ]
  },
  {
   "cell_type": "code",
   "execution_count": 140,
   "metadata": {},
   "outputs": [],
   "source": [
    "k = np.array([1, 2])"
   ]
  },
  {
   "cell_type": "code",
   "execution_count": 145,
   "metadata": {},
   "outputs": [
    {
     "data": {
      "text/plain": [
       "True"
      ]
     },
     "execution_count": 145,
     "metadata": {},
     "output_type": "execute_result"
    }
   ],
   "source": [
    "isinstance(k, np.ndarray)"
   ]
  },
  {
   "cell_type": "code",
   "execution_count": 146,
   "metadata": {},
   "outputs": [
    {
     "data": {
      "text/plain": [
       "numpy.ndarray"
      ]
     },
     "execution_count": 146,
     "metadata": {},
     "output_type": "execute_result"
    }
   ],
   "source": [
    "type(k)"
   ]
  },
  {
   "cell_type": "code",
   "execution_count": null,
   "metadata": {},
   "outputs": [],
   "source": []
  }
 ],
 "metadata": {
  "kernelspec": {
   "display_name": "stochastic-payoffs",
   "language": "python",
   "name": "stochastic-payoffs"
  },
  "language_info": {
   "codemirror_mode": {
    "name": "ipython",
    "version": 3
   },
   "file_extension": ".py",
   "mimetype": "text/x-python",
   "name": "python",
   "nbconvert_exporter": "python",
   "pygments_lexer": "ipython3",
   "version": "3.7.9"
  }
 },
 "nbformat": 4,
 "nbformat_minor": 4
}
