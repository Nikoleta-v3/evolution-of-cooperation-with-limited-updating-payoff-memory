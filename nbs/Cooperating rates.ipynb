{
 "cells": [
  {
   "cell_type": "markdown",
   "metadata": {},
   "source": [
    "# Cooperating rates"
   ]
  },
  {
   "cell_type": "code",
   "execution_count": 1,
   "metadata": {},
   "outputs": [],
   "source": [
    "import evol_dynamics"
   ]
  },
  {
   "cell_type": "code",
   "execution_count": 2,
   "metadata": {},
   "outputs": [],
   "source": [
    "import pandas as pd\n",
    "import dask.dataframe as dd\n",
    "\n",
    "import numpy as np\n",
    "import tqdm\n",
    "import itertools"
   ]
  },
  {
   "cell_type": "code",
   "execution_count": 3,
   "metadata": {},
   "outputs": [],
   "source": [
    "import matplotlib.pyplot as plt\n",
    "import matplotlib\n",
    "\n",
    "cmaps = [matplotlib.cm.get_cmap(\"Blues\"), matplotlib.cm.get_cmap(\"Reds\"), matplotlib.cm.get_cmap(\"Greens\"), \n",
    "         matplotlib.cm.get_cmap(\"Purples\")]\n",
    "\n",
    "from mpl_toolkits.axes_grid1 import make_axes_locatable"
   ]
  },
  {
   "cell_type": "code",
   "execution_count": 4,
   "metadata": {},
   "outputs": [],
   "source": [
    "import glob"
   ]
  },
  {
   "cell_type": "code",
   "execution_count": 5,
   "metadata": {},
   "outputs": [],
   "source": [
    "import matplotlib.colors as colors"
   ]
  },
  {
   "cell_type": "code",
   "execution_count": 6,
   "metadata": {},
   "outputs": [],
   "source": [
    "font = {'family': 'serif',\n",
    "        'weight': 'bold',\n",
    "        'size': 10,\n",
    "        }"
   ]
  },
  {
   "cell_type": "code",
   "execution_count": 7,
   "metadata": {},
   "outputs": [],
   "source": [
    "matplotlib.rc('font', **font)"
   ]
  },
  {
   "cell_type": "markdown",
   "metadata": {},
   "source": [
    "**Generate plot across axis**"
   ]
  },
  {
   "cell_type": "code",
   "execution_count": 8,
   "metadata": {},
   "outputs": [],
   "source": [
    "Ss = [2, 1.6, 1.2, 0.8, 0.4, 0, -0.4, -0.8, -1.2, -1.6, -2]\n",
    "Ts = [-1, -0.6, -0.2,  0.2,  0.6,  1,  1.4,  1.8,  2.2,  2.6,  3]"
   ]
  },
  {
   "cell_type": "code",
   "execution_count": 9,
   "metadata": {},
   "outputs": [],
   "source": [
    "sorted_cvs_files_expected = [f\"../matlab/data/expected/clean_S_{S}_T_{T}_stochastic_0.csv\" for S in Ss for T in Ts]"
   ]
  },
  {
   "cell_type": "code",
   "execution_count": 10,
   "metadata": {},
   "outputs": [],
   "source": [
    "cooperation_rates_expected = np.zeros((11, 11))\n",
    "scores_expected = np.zeros((11, 11))"
   ]
  },
  {
   "cell_type": "code",
   "execution_count": 11,
   "metadata": {},
   "outputs": [],
   "source": [
    "for i, file in enumerate(sorted_cvs_files_expected):\n",
    "    x = int(i / 11)\n",
    "    y = i % 11\n",
    "    \n",
    "    df = pd.read_csv(file)\n",
    "    \n",
    "    cooperation_rates_expected[int(x), int(y)] = sum(df['average cooperation rate'] * (df['frequencies'] / 10 ** 7))\n",
    "    scores_expected[x, y] = sum(df['average score'] * (df['frequencies'] / 10 ** 7))"
   ]
  },
  {
   "cell_type": "code",
   "execution_count": 12,
   "metadata": {},
   "outputs": [
    {
     "data": {
      "image/png": "[encoded data removed]",
      "text/plain": [
       "<Figure size 432x288 with 2 Axes>"
      ]
     },
     "metadata": {
      "needs_background": "light"
     },
     "output_type": "display_data"
    }
   ],
   "source": [
    "fig, axes = plt.subplots()\n",
    "\n",
    "im = axes.imshow(cooperation_rates_expected, cmap=cmaps[0])\n",
    "\n",
    "axes.set_xticks(range(11))\n",
    "axes.set_yticks(range(11))\n",
    "\n",
    "axes.set_xticklabels(Ts, rotation=45)\n",
    "axes.set_yticklabels(Ss)\n",
    "\n",
    "divider = make_axes_locatable(axes)\n",
    "cax = divider.append_axes('right', size='5%', pad=0.05)\n",
    "fig.colorbar(im, cax=cax, orientation='vertical');\n",
    "\n",
    "fig.savefig(\"../static/expected_two_by_two_games_cooperation.pdf\", bbox_inches='tight')"
   ]
  },
  {
   "cell_type": "markdown",
   "metadata": {},
   "source": [
    "**Similar for stochastic payoffs**"
   ]
  },
  {
   "cell_type": "code",
   "execution_count": 13,
   "metadata": {},
   "outputs": [],
   "source": [
    "sorted_cvs_files_stochastic = [f\"../matlab/data/stochastic/clean_S_{S}_T_{T}_stochastic_1.csv\" for S in Ss for T in Ts]"
   ]
  },
  {
   "cell_type": "code",
   "execution_count": 14,
   "metadata": {},
   "outputs": [],
   "source": [
    "cooperation_rates_stoch = np.zeros((11, 11))\n",
    "scores_stoch = np.zeros((11, 11))"
   ]
  },
  {
   "cell_type": "code",
   "execution_count": 15,
   "metadata": {},
   "outputs": [],
   "source": [
    "for i, file in enumerate(sorted_cvs_files_stochastic):\n",
    "    x = int(i / 11)\n",
    "    y = i % 11\n",
    "    \n",
    "    df = dd.read_csv(file)\n",
    "    \n",
    "    cooperation_rates_stoch[x, y] = sum(df['average cooperation rate'] * (df['frequencies'] / 10 ** 7))\n",
    "    scores_stoch[x, y] = sum(df['average score'] * (df['frequencies'] / 10 ** 7))"
   ]
  },
  {
   "cell_type": "code",
   "execution_count": 16,
   "metadata": {},
   "outputs": [
    {
     "data": {
      "image/png": "[encoded data removed]",
      "text/plain": [
       "<Figure size 432x288 with 2 Axes>"
      ]
     },
     "metadata": {
      "needs_background": "light"
     },
     "output_type": "display_data"
    }
   ],
   "source": [
    "fig, axes = plt.subplots()\n",
    "\n",
    "im = axes.imshow(cooperation_rates_stoch, cmap=cmaps[1])\n",
    "\n",
    "axes.set_xticks(range(11))\n",
    "axes.set_yticks(range(11))\n",
    "\n",
    "axes.set_xticklabels(Ts, rotation=45)\n",
    "axes.set_yticklabels(Ss)\n",
    "\n",
    "divider = make_axes_locatable(axes)\n",
    "cax = divider.append_axes('right', size='5%', pad=0.05)\n",
    "fig.colorbar(im, cax=cax, orientation='vertical');\n",
    "\n",
    "fig.savefig(\"../static/stochastic_two_by_two_games_cooperation.pdf\", bbox_inches='tight')"
   ]
  },
  {
   "cell_type": "code",
   "execution_count": 17,
   "metadata": {},
   "outputs": [],
   "source": [
    "cooperation_difference = cooperation_rates_stoch - cooperation_rates_expected"
   ]
  },
  {
   "cell_type": "code",
   "execution_count": 18,
   "metadata": {},
   "outputs": [
    {
     "data": {
      "image/png": "[encoded data removed]",
      "text/plain": [
       "<Figure size 432x288 with 2 Axes>"
      ]
     },
     "metadata": {
      "needs_background": "light"
     },
     "output_type": "display_data"
    }
   ],
   "source": [
    "fig, axes = plt.subplots()\n",
    "\n",
    "im = axes.imshow(cooperation_difference, cmap=cmaps[1])\n",
    "\n",
    "axes.set_xticks(np.linspace(0, 10, 5))\n",
    "axes.set_yticks(np.linspace(0, 10, 5))\n",
    "\n",
    "axes.set_xticklabels(np.linspace(0, 1, 5))\n",
    "axes.set_yticklabels(np.linspace(0, 1, 5))\n",
    "\n",
    "\n",
    "\n",
    "divider = make_axes_locatable(axes)\n",
    "cax = divider.append_axes('right', size='5%', pad=0.05)\n",
    "fig.colorbar(im, cax=cax, orientation='vertical');"
   ]
  },
  {
   "cell_type": "markdown",
   "metadata": {},
   "source": [
    "**Round Two**"
   ]
  },
  {
   "cell_type": "code",
   "execution_count": 19,
   "metadata": {},
   "outputs": [],
   "source": [
    "sorted_cvs_files_rounds = [f\"../matlab/data/round_two/clean_S_{S}_T_{T}.csv\" for S in Ss for T in Ts]"
   ]
  },
  {
   "cell_type": "code",
   "execution_count": 26,
   "metadata": {},
   "outputs": [],
   "source": [
    "cooperation_rates_rounds = np.zeros((11, 11))"
   ]
  },
  {
   "cell_type": "code",
   "execution_count": 44,
   "metadata": {},
   "outputs": [],
   "source": [
    "for i, file in enumerate(sorted_cvs_files_rounds):\n",
    "    x = int(i / 11)\n",
    "    y = i % 11\n",
    "    \n",
    "    df = pd.read_csv(file)\n",
    "    \n",
    "    cooperation_rates_rounds[x, y] = sum(df['average cooperation rate'] * (df['frequencies'] / 10 ** 7))"
   ]
  },
  {
   "cell_type": "code",
   "execution_count": 45,
   "metadata": {},
   "outputs": [
    {
     "data": {
      "text/html": [
       "<div>\n",
       "<style scoped>\n",
       "    .dataframe tbody tr th:only-of-type {\n",
       "        vertical-align: middle;\n",
       "    }\n",
       "\n",
       "    .dataframe tbody tr th {\n",
       "        vertical-align: top;\n",
       "    }\n",
       "\n",
       "    .dataframe thead th {\n",
       "        text-align: right;\n",
       "    }\n",
       "</style>\n",
       "<table border=\"1\" class=\"dataframe\">\n",
       "  <thead>\n",
       "    <tr style=\"text-align: right;\">\n",
       "      <th></th>\n",
       "      <th>y</th>\n",
       "      <th>p</th>\n",
       "      <th>q</th>\n",
       "      <th>average cooperation rate</th>\n",
       "      <th>t</th>\n",
       "      <th>frequencies</th>\n",
       "    </tr>\n",
       "  </thead>\n",
       "  <tbody>\n",
       "    <tr>\n",
       "      <th>0</th>\n",
       "      <td>0.000000</td>\n",
       "      <td>0.000000</td>\n",
       "      <td>0.000000</td>\n",
       "      <td>0.000000</td>\n",
       "      <td>0</td>\n",
       "      <td>1242</td>\n",
       "    </tr>\n",
       "    <tr>\n",
       "      <th>1</th>\n",
       "      <td>0.523645</td>\n",
       "      <td>0.878322</td>\n",
       "      <td>0.025548</td>\n",
       "      <td>0.350731</td>\n",
       "      <td>1242</td>\n",
       "      <td>16</td>\n",
       "    </tr>\n",
       "    <tr>\n",
       "      <th>2</th>\n",
       "      <td>0.389607</td>\n",
       "      <td>0.114721</td>\n",
       "      <td>0.726231</td>\n",
       "      <td>0.899488</td>\n",
       "      <td>1258</td>\n",
       "      <td>4</td>\n",
       "    </tr>\n",
       "    <tr>\n",
       "      <th>3</th>\n",
       "      <td>0.473589</td>\n",
       "      <td>0.023565</td>\n",
       "      <td>0.615950</td>\n",
       "      <td>0.772095</td>\n",
       "      <td>1262</td>\n",
       "      <td>29</td>\n",
       "    </tr>\n",
       "    <tr>\n",
       "      <th>4</th>\n",
       "      <td>0.714759</td>\n",
       "      <td>0.164759</td>\n",
       "      <td>0.120426</td>\n",
       "      <td>0.252163</td>\n",
       "      <td>1291</td>\n",
       "      <td>136</td>\n",
       "    </tr>\n",
       "  </tbody>\n",
       "</table>\n",
       "</div>"
      ],
      "text/plain": [
       "          y         p         q  average cooperation rate     t  frequencies\n",
       "0  0.000000  0.000000  0.000000                  0.000000     0         1242\n",
       "1  0.523645  0.878322  0.025548                  0.350731  1242           16\n",
       "2  0.389607  0.114721  0.726231                  0.899488  1258            4\n",
       "3  0.473589  0.023565  0.615950                  0.772095  1262           29\n",
       "4  0.714759  0.164759  0.120426                  0.252163  1291          136"
      ]
     },
     "execution_count": 45,
     "metadata": {},
     "output_type": "execute_result"
    }
   ],
   "source": [
    "df.head()"
   ]
  },
  {
   "cell_type": "code",
   "execution_count": 46,
   "metadata": {},
   "outputs": [
    {
     "data": {
      "text/html": [
       "<div>\n",
       "<style scoped>\n",
       "    .dataframe tbody tr th:only-of-type {\n",
       "        vertical-align: middle;\n",
       "    }\n",
       "\n",
       "    .dataframe tbody tr th {\n",
       "        vertical-align: top;\n",
       "    }\n",
       "\n",
       "    .dataframe thead th {\n",
       "        text-align: right;\n",
       "    }\n",
       "</style>\n",
       "<table border=\"1\" class=\"dataframe\">\n",
       "  <thead>\n",
       "    <tr style=\"text-align: right;\">\n",
       "      <th></th>\n",
       "      <th>y</th>\n",
       "      <th>p</th>\n",
       "      <th>q</th>\n",
       "      <th>average cooperation rate</th>\n",
       "      <th>t</th>\n",
       "      <th>frequencies</th>\n",
       "    </tr>\n",
       "  </thead>\n",
       "  <tbody>\n",
       "    <tr>\n",
       "      <th>count</th>\n",
       "      <td>38860.000000</td>\n",
       "      <td>38860.000000</td>\n",
       "      <td>38860.000000</td>\n",
       "      <td>38860.000000</td>\n",
       "      <td>3.886000e+04</td>\n",
       "      <td>38860.000000</td>\n",
       "    </tr>\n",
       "    <tr>\n",
       "      <th>mean</th>\n",
       "      <td>0.499681</td>\n",
       "      <td>0.504041</td>\n",
       "      <td>0.268211</td>\n",
       "      <td>0.699152</td>\n",
       "      <td>5.028362e+06</td>\n",
       "      <td>257.334020</td>\n",
       "    </tr>\n",
       "    <tr>\n",
       "      <th>std</th>\n",
       "      <td>0.288760</td>\n",
       "      <td>0.331423</td>\n",
       "      <td>0.293930</td>\n",
       "      <td>0.603046</td>\n",
       "      <td>2.896466e+06</td>\n",
       "      <td>783.366669</td>\n",
       "    </tr>\n",
       "    <tr>\n",
       "      <th>min</th>\n",
       "      <td>0.000000</td>\n",
       "      <td>0.000000</td>\n",
       "      <td>0.000000</td>\n",
       "      <td>0.000000</td>\n",
       "      <td>0.000000e+00</td>\n",
       "      <td>1.000000</td>\n",
       "    </tr>\n",
       "    <tr>\n",
       "      <th>25%</th>\n",
       "      <td>0.249916</td>\n",
       "      <td>0.193539</td>\n",
       "      <td>0.032830</td>\n",
       "      <td>0.149724</td>\n",
       "      <td>2.515138e+06</td>\n",
       "      <td>4.000000</td>\n",
       "    </tr>\n",
       "    <tr>\n",
       "      <th>50%</th>\n",
       "      <td>0.499341</td>\n",
       "      <td>0.474401</td>\n",
       "      <td>0.130248</td>\n",
       "      <td>0.543495</td>\n",
       "      <td>5.069825e+06</td>\n",
       "      <td>19.000000</td>\n",
       "    </tr>\n",
       "    <tr>\n",
       "      <th>75%</th>\n",
       "      <td>0.750490</td>\n",
       "      <td>0.842509</td>\n",
       "      <td>0.453315</td>\n",
       "      <td>1.141150</td>\n",
       "      <td>7.573498e+06</td>\n",
       "      <td>135.000000</td>\n",
       "    </tr>\n",
       "    <tr>\n",
       "      <th>max</th>\n",
       "      <td>0.999954</td>\n",
       "      <td>0.999995</td>\n",
       "      <td>0.999896</td>\n",
       "      <td>1.995886</td>\n",
       "      <td>9.999996e+06</td>\n",
       "      <td>19704.000000</td>\n",
       "    </tr>\n",
       "  </tbody>\n",
       "</table>\n",
       "</div>"
      ],
      "text/plain": [
       "                  y             p             q  average cooperation rate  \\\n",
       "count  38860.000000  38860.000000  38860.000000              38860.000000   \n",
       "mean       0.499681      0.504041      0.268211                  0.699152   \n",
       "std        0.288760      0.331423      0.293930                  0.603046   \n",
       "min        0.000000      0.000000      0.000000                  0.000000   \n",
       "25%        0.249916      0.193539      0.032830                  0.149724   \n",
       "50%        0.499341      0.474401      0.130248                  0.543495   \n",
       "75%        0.750490      0.842509      0.453315                  1.141150   \n",
       "max        0.999954      0.999995      0.999896                  1.995886   \n",
       "\n",
       "                  t   frequencies  \n",
       "count  3.886000e+04  38860.000000  \n",
       "mean   5.028362e+06    257.334020  \n",
       "std    2.896466e+06    783.366669  \n",
       "min    0.000000e+00      1.000000  \n",
       "25%    2.515138e+06      4.000000  \n",
       "50%    5.069825e+06     19.000000  \n",
       "75%    7.573498e+06    135.000000  \n",
       "max    9.999996e+06  19704.000000  "
      ]
     },
     "execution_count": 46,
     "metadata": {},
     "output_type": "execute_result"
    }
   ],
   "source": [
    "df.describe()"
   ]
  },
  {
   "cell_type": "code",
   "execution_count": 28,
   "metadata": {},
   "outputs": [
    {
     "data": {
      "image/png": "[encoded data removed]",
      "text/plain": [
       "<Figure size 432x288 with 2 Axes>"
      ]
     },
     "metadata": {
      "needs_background": "light"
     },
     "output_type": "display_data"
    }
   ],
   "source": [
    "fig, axes = plt.subplots()\n",
    "\n",
    "im = axes.imshow(cooperation_rates_rounds, cmap=cmaps[3])\n",
    "\n",
    "axes.set_xticks(range(11))\n",
    "axes.set_yticks(range(11))\n",
    "\n",
    "axes.set_xticklabels(Ts, rotation=45)\n",
    "axes.set_yticklabels(Ss)\n",
    "\n",
    "divider = make_axes_locatable(axes)\n",
    "cax = divider.append_axes('right', size='5%', pad=0.05)\n",
    "fig.colorbar(im, cax=cax, orientation='vertical');\n",
    "\n",
    "fig.savefig(\"../static/rounds_two_by_two_games_cooperation.pdf\", bbox_inches='tight')"
   ]
  },
  {
   "cell_type": "markdown",
   "metadata": {},
   "source": [
    "**Opponents**"
   ]
  },
  {
   "cell_type": "code",
   "execution_count": 29,
   "metadata": {},
   "outputs": [],
   "source": [
    "sorted_cvs_files_opponents = [f\"../matlab/data/opponents_two/clean_S_{S}_T_{T}.csv\" for S in Ss for T in Ts]"
   ]
  },
  {
   "cell_type": "code",
   "execution_count": 30,
   "metadata": {},
   "outputs": [],
   "source": [
    "cooperation_rates_opp = np.zeros((11, 11))"
   ]
  },
  {
   "cell_type": "code",
   "execution_count": 31,
   "metadata": {},
   "outputs": [],
   "source": [
    "for i, file in enumerate(sorted_cvs_files_opponents):\n",
    "    x = int(i / 11)\n",
    "    y = i % 11\n",
    "    \n",
    "    df = dd.read_csv(file)\n",
    "    \n",
    "    cooperation_rates_opp[x, y] = sum(df['average cooperation rate'] * (df['frequencies'] / 10 ** 7))\n",
    "#     scores_stoch[x, y] = sum(df['average score'] * (df['frequencies'] / 10 ** 7))"
   ]
  },
  {
   "cell_type": "code",
   "execution_count": 32,
   "metadata": {},
   "outputs": [
    {
     "data": {
      "image/png": "[encoded data removed]",
      "text/plain": [
       "<Figure size 432x288 with 2 Axes>"
      ]
     },
     "metadata": {
      "needs_background": "light"
     },
     "output_type": "display_data"
    }
   ],
   "source": [
    "fig, axes = plt.subplots()\n",
    "\n",
    "im = axes.imshow(cooperation_rates_opp, cmap=cmaps[2])\n",
    "\n",
    "\n",
    "axes.set_xticks(range(11))\n",
    "axes.set_yticks(range(11))\n",
    "\n",
    "axes.set_xticklabels(Ts, rotation=45)\n",
    "axes.set_yticklabels(Ss)\n",
    "\n",
    "divider = make_axes_locatable(axes)\n",
    "cax = divider.append_axes('right', size='5%', pad=0.05)\n",
    "fig.colorbar(im, cax=cax, orientation='vertical');\n",
    "\n",
    "fig.savefig(\"../static/opponents_two_by_two_games_cooperation.pdf\", bbox_inches='tight')"
   ]
  },
  {
   "cell_type": "markdown",
   "metadata": {},
   "source": [
    "**Rounds - opponents**"
   ]
  },
  {
   "cell_type": "code",
   "execution_count": 17,
   "metadata": {},
   "outputs": [],
   "source": [
    "csv_files = glob.glob('matlab/data/rounds_opponents_two/S*csv')"
   ]
  },
  {
   "cell_type": "code",
   "execution_count": 18,
   "metadata": {},
   "outputs": [],
   "source": [
    "columns = ['y', 'p', 'q', \"average cooperation rate\", 't']"
   ]
  },
  {
   "cell_type": "code",
   "execution_count": 20,
   "metadata": {},
   "outputs": [],
   "source": [
    "# for file in tqdm.tqdm_notebook(csv_files):    \n",
    "#     df = pd.read_csv(file, header=None)\n",
    "#     df = df.drop_duplicates()\n",
    "#     df.columns = columns\n",
    "    \n",
    "#     frequencies = []\n",
    "#     previous = 0\n",
    "#     for value in df['t'][1:]:\n",
    "#         frequencies.append(value - previous)\n",
    "#         previous = value\n",
    "#     frequencies.append(10 ** 7 - previous)\n",
    "    \n",
    "#     df['frequencies'] = frequencies\n",
    "    \n",
    "#     df.to_csv(f\"matlab/data/rounds_opponents_two/clean_{file[33:]}\", index=False)"
   ]
  },
  {
   "cell_type": "code",
   "execution_count": null,
   "metadata": {},
   "outputs": [],
   "source": [
    "sorted_cvs_files = [f\"matlab/data/rounds_opponents_two/clean_S_{S}_T_{T}.csv\" for S in Ss for T in Ts]"
   ]
  },
  {
   "cell_type": "code",
   "execution_count": null,
   "metadata": {},
   "outputs": [],
   "source": [
    "fig, axes = plt.subplots(nrows=11, ncols=11, figsize=(50, 50));\n",
    "\n",
    "for i, file in enumerate(sorted_cvs_files):\n",
    "    \n",
    "    try:\n",
    "        df = dd.read_csv(file)\n",
    "        \n",
    "        text_file = open(file.replace(\"csv\", \"txt\").replace(\"clean_\", \"\"), \"r\")\n",
    "        data = text_file.readlines()\n",
    "\n",
    "        ps = df['p'].values.compute()\n",
    "        qs = df['q'].values.compute()\n",
    "        title = data[0].replace(\",\", \"\")[:-29]\n",
    "\n",
    "        index = (int(i / 11), i % 11)\n",
    "\n",
    "        heatmap, xedges, yedges = np.histogram2d(ps, qs, bins=15)\n",
    "\n",
    "        extent = [xedges[0], xedges[-1], yedges[0], yedges[-1]]\n",
    "\n",
    "        im = axes[index].imshow(heatmap.T, extent=extent, cmap=cmaps[1], origin=\"lower\")\n",
    "\n",
    "        divider = make_axes_locatable(axes[index])\n",
    "        cax = divider.append_axes('right', size='5%', pad=0.05)\n",
    "        fig.colorbar(im, cax=cax, orientation='vertical')\n",
    "        axes[index].set_title(title)\n",
    "\n",
    "        axes[index].set_xticks(np.linspace(0, 1, 2))\n",
    "        axes[index].set_yticks(np.linspace(0, 1, 2))\n",
    "    \n",
    "    except FileNotFoundError:\n",
    "        pass\n",
    "    \n",
    "\n",
    "fig.savefig(\"matlab/images/merged_plot_rounds_opponents_two.pdf\")"
   ]
  },
  {
   "cell_type": "code",
   "execution_count": null,
   "metadata": {},
   "outputs": [],
   "source": []
  }
 ],
 "metadata": {
  "kernelspec": {
   "display_name": "stochastic-payoffs",
   "language": "python",
   "name": "stochastic-payoffs"
  },
  "language_info": {
   "codemirror_mode": {
    "name": "ipython",
    "version": 3
   },
   "file_extension": ".py",
   "mimetype": "text/x-python",
   "name": "python",
   "nbconvert_exporter": "python",
   "pygments_lexer": "ipython3",
   "version": "3.7.9"
  }
 },
 "nbformat": 4,
 "nbformat_minor": 4
}
