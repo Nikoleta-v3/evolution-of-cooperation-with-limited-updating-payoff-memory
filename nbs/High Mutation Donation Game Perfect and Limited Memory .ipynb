{
 "cells": [
  {
   "cell_type": "markdown",
   "metadata": {},
   "source": [
    "# High Mutation Donation Game Perfect and Limited Memory "
   ]
  },
  {
   "cell_type": "markdown",
   "metadata": {},
   "source": [
    "**Imports**"
   ]
  },
  {
   "cell_type": "code",
   "execution_count": 1,
   "metadata": {},
   "outputs": [],
   "source": [
    "import pandas as pd\n",
    "\n",
    "import numpy as np\n",
    "\n",
    "import glob as glod\n",
    "\n",
    "\n",
    "import matplotlib.pyplot as plt"
   ]
  },
  {
   "cell_type": "code",
   "execution_count": 7,
   "metadata": {},
   "outputs": [],
   "source": [
    "import matplotlib.pyplot as plt\n",
    "import matplotlib"
   ]
  },
  {
   "cell_type": "code",
   "execution_count": 8,
   "metadata": {},
   "outputs": [],
   "source": [
    "font = {'family': 'serif',\n",
    "        'weight': 'bold',\n",
    "        'size': 12,\n",
    "        }"
   ]
  },
  {
   "cell_type": "code",
   "execution_count": 9,
   "metadata": {},
   "outputs": [],
   "source": [
    "matplotlib.rc('font', **font)"
   ]
  },
  {
   "cell_type": "code",
   "execution_count": 10,
   "metadata": {},
   "outputs": [],
   "source": [
    "reds, blues = matplotlib.cm.get_cmap(\"Reds\"), matplotlib.cm.get_cmap(\"Blues\")"
   ]
  },
  {
   "cell_type": "markdown",
   "metadata": {},
   "source": [
    "**Reading data**"
   ]
  },
  {
   "cell_type": "code",
   "execution_count": 2,
   "metadata": {},
   "outputs": [],
   "source": [
    "mutation_rates = [0.0001, 0.001, 0.01, 0.1, 1]"
   ]
  },
  {
   "cell_type": "code",
   "execution_count": 3,
   "metadata": {},
   "outputs": [],
   "source": [
    "data_perfect = []\n",
    "\n",
    "for mutation_r in mutation_rates:\n",
    "    coops = [pd.read_csv(f\"../to_archieve/mutation/mutation_expected_mutation_{mutation_r}_run_{i}cooperations.csv\",\n",
    "               names=['coop']) for i in range(1, 5)]\n",
    "\n",
    "\n",
    "    data_perfect .append(pd.concat(coops)['coop'].mean())"
   ]
  },
  {
   "cell_type": "code",
   "execution_count": 4,
   "metadata": {},
   "outputs": [],
   "source": [
    "data_limited = []\n",
    "\n",
    "for mutation_r in mutation_rates:\n",
    "    coops = [pd.read_csv(f\"../to_archieve/mutation/mutation_last_round_mutation_{mutation_r}_run_{i}cooperations.csv\",\n",
    "               names=['coop']) for i in range(1, 5)]\n",
    "\n",
    "\n",
    "    data_limited.append(pd.concat(coops)['coop'].mean())"
   ]
  },
  {
   "cell_type": "code",
   "execution_count": 43,
   "metadata": {},
   "outputs": [
    {
     "data": {
      "image/png": "[encoded data removed]",
      "text/plain": [
       "<Figure size 432x288 with 1 Axes>"
      ]
     },
     "metadata": {
      "needs_background": "light"
     },
     "output_type": "display_data"
    }
   ],
   "source": [
    "fig, axes = plt.subplots()\n",
    "\n",
    "axes.plot([i for i, _ in enumerate(mutation_rates)], data_perfect, \"-o\", color=blues(0.9));\n",
    "axes.plot([i for i, _ in enumerate(mutation_rates)], data_limited, \"--o\", color=reds(.9));\n",
    "\n",
    "axes.set_ylim(0, 1);\n",
    "axes.set_xlabel(r'$\\mu$', weight=\"bold\", fontsize=14);\n",
    "\n",
    "axes.text(1, .7, \"Perfect Memory\", fontsize=11, color=blues(.9), rotation=-10)\n",
    "axes.text(.8, .35, \"Limited Memory\", fontsize=11, color=reds(.9), rotation=-10)\n",
    "\n",
    "axes.set_xticks([0, 1, 2, 3, 4]);\n",
    "axes.set_xticklabels([r\"$10^{-4}$\", \n",
    "                      r\"$10^{-3}$\", \n",
    "                      r\"$10^{-2}$\",\n",
    "                      r\"$10^{-1}$\", \n",
    "                      r\"$1$\"]);\n",
    "\n",
    "axes.set_yticks([0, 1]);\n",
    "axes.set_ylabel('Av. cooperation rate', weight=\"bold\", fontsize=15);\n",
    "\n",
    "plt.savefig(\"../paper/static/mutation_perfect_and_limited_memory_donation_game.pdf\")"
   ]
  }
 ],
 "metadata": {
  "kernelspec": {
   "display_name": "stochastic-payoffs",
   "language": "python",
   "name": "stochastic-payoffs"
  },
  "language_info": {
   "codemirror_mode": {
    "name": "ipython",
    "version": 3
   },
   "file_extension": ".py",
   "mimetype": "text/x-python",
   "name": "python",
   "nbconvert_exporter": "python",
   "pygments_lexer": "ipython3",
   "version": "3.7.8"
  }
 },
 "nbformat": 4,
 "nbformat_minor": 4
}
