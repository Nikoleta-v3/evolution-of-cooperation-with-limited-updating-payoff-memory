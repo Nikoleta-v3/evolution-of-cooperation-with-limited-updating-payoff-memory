{
 "cells": [
  {
   "cell_type": "markdown",
   "metadata": {},
   "source": [
    "# Donation Game More Memory"
   ]
  },
  {
   "cell_type": "markdown",
   "metadata": {},
   "source": [
    "**Imports**"
   ]
  },
  {
   "cell_type": "code",
   "execution_count": 37,
   "metadata": {},
   "outputs": [],
   "source": [
    "import pandas as pd"
   ]
  },
  {
   "cell_type": "code",
   "execution_count": 38,
   "metadata": {},
   "outputs": [],
   "source": [
    "import matplotlib.pyplot as plt\n",
    "import matplotlib\n",
    "\n",
    "import seaborn as sns"
   ]
  },
  {
   "cell_type": "code",
   "execution_count": 39,
   "metadata": {},
   "outputs": [],
   "source": [
    "import numpy as np"
   ]
  },
  {
   "cell_type": "code",
   "execution_count": 40,
   "metadata": {},
   "outputs": [],
   "source": [
    "import matplotlib.colors as colors\n",
    "from mpl_toolkits.axes_grid1 import make_axes_locatable"
   ]
  },
  {
   "cell_type": "code",
   "execution_count": 41,
   "metadata": {},
   "outputs": [],
   "source": [
    "import glob"
   ]
  },
  {
   "cell_type": "code",
   "execution_count": 42,
   "metadata": {},
   "outputs": [],
   "source": [
    "font = {'family': 'serif',\n",
    "        'weight': 'bold',\n",
    "        'size': 10,\n",
    "        }"
   ]
  },
  {
   "cell_type": "code",
   "execution_count": 7,
   "metadata": {},
   "outputs": [],
   "source": [
    "matplotlib.rc('font', **font)"
   ]
  },
  {
   "cell_type": "code",
   "execution_count": 8,
   "metadata": {},
   "outputs": [],
   "source": [
    "cmaps = [matplotlib.cm.get_cmap(\"Blues\"), matplotlib.cm.get_cmap(\"Reds\"), matplotlib.cm.get_cmap(\"Greens\"), \n",
    "         matplotlib.cm.get_cmap(\"Purples\"), matplotlib.cm.get_cmap(\"Oranges\")]"
   ]
  },
  {
   "cell_type": "markdown",
   "metadata": {},
   "source": [
    "### Heatmaps for SI"
   ]
  },
  {
   "cell_type": "markdown",
   "metadata": {},
   "source": [
    "**Two interactions and Two opponents**"
   ]
  },
  {
   "cell_type": "code",
   "execution_count": 10,
   "metadata": {},
   "outputs": [],
   "source": [
    "two_opponents_files = [f\"../to_archieve/clean_two_opponents_benefit_{b}.csv\" for b in [3, 10]]\n",
    "\n",
    "two_op_dfs = [pd.read_csv(file) for file in two_opponents_files]"
   ]
  },
  {
   "cell_type": "code",
   "execution_count": 11,
   "metadata": {},
   "outputs": [],
   "source": [
    "heatmaps = []\n",
    "extents = []\n",
    "\n",
    "    \n",
    "for df in two_op_dfs:\n",
    "\n",
    "    ps, qs = [], []\n",
    "    for p, q, v in zip(df[\"p\"], df[\"q\"], df[\"frequencies\"]):\n",
    "        for _ in range(int(v)):\n",
    "            ps.append(p)\n",
    "            qs.append(q)\n",
    "\n",
    "\n",
    "    heatmap, xedges, yedges = np.histogram2d(ps, qs, bins=19)\n",
    "\n",
    "    extent = [xedges[0], xedges[-1], yedges[0], yedges[-1]]\n",
    "\n",
    "    heatmaps.append(heatmap)\n",
    "    extents.append(extent)"
   ]
  },
  {
   "cell_type": "code",
   "execution_count": 12,
   "metadata": {},
   "outputs": [],
   "source": [
    "min_, max_ = (1.0, 1391629.0)"
   ]
  },
  {
   "cell_type": "code",
   "execution_count": 13,
   "metadata": {},
   "outputs": [
    {
     "data": {
      "image/png": "[encoded data removed]",
      "text/plain": [
       "<Figure size 576x504 with 4 Axes>"
      ]
     },
     "metadata": {
      "needs_background": "light"
     },
     "output_type": "display_data"
    }
   ],
   "source": [
    "fig, axes = plt.subplots(ncols=2, nrows=1, figsize=(8, 7))\n",
    "\n",
    "cooperation_rates = [round(sum(df['average cooperation rate'] * (df['frequencies'] / 10 ** 7)), 2) \n",
    "                     for df in two_op_dfs]\n",
    "\n",
    "for i, heatmap in enumerate([heatmaps[0], heatmaps[1]]):\n",
    "    \n",
    "    index = (i % 2)\n",
    "\n",
    "    im = axes[index].imshow(heatmap.T, extent=extent, origin=\"lower\",\n",
    "                            cmap=cmaps[2],\n",
    "                            norm=colors.LogNorm(vmin=min_, vmax=max_))\n",
    "\n",
    "    divider = make_axes_locatable(axes[index])\n",
    "    cax = divider.append_axes('right', size='5%', pad=0.05)\n",
    "    fig.colorbar(im, cax=cax, orientation='vertical')\n",
    "\n",
    "    axes[index].set_xticks(np.linspace(0, 1, 2))\n",
    "    axes[index].set_yticks(np.linspace(0, 1, 2));\n",
    "    axes[index].set_xlabel(\"$p$\")\n",
    "    axes[index].set_ylabel(\"$q$\")\n",
    "\n",
    "    axes[index].text(0.45, 0.7, \"Cooperation rate \\n\" + str(cooperation_rates[i] * 100) + '%',\n",
    "                     horizontalalignment='center')\n",
    "\n",
    "\n",
    "\n",
    "axes[0].set_title(r\"Low benefit ($b=3$)\", weight=\"bold\", y=1.05);\n",
    "\n",
    "axes[1].set_title(r\"High benefit ($b=10$)\", weight=\"bold\", y=1.05);\n",
    "\n",
    "\n",
    "fig.tight_layout();\n",
    "\n",
    "fig.savefig(\"../static/two_interactions_donation_game.pdf\", bbox_inches='tight')"
   ]
  },
  {
   "cell_type": "code",
   "execution_count": 17,
   "metadata": {},
   "outputs": [],
   "source": [
    "two_rounds_files = [f\"../to_archieve/clean_two_rounds_benefit_{b}.csv\" for b in [3, 10]]\n",
    "\n",
    "two_rounds_dfs = [pd.read_csv(file) for file in two_rounds_files]"
   ]
  },
  {
   "cell_type": "code",
   "execution_count": 18,
   "metadata": {},
   "outputs": [],
   "source": [
    "heatmaps = []\n",
    "extents = []\n",
    "\n",
    "    \n",
    "for df in two_rounds_dfs:\n",
    "\n",
    "    ps, qs = [], []\n",
    "    for p, q, v in zip(df[\"p\"], df[\"q\"], df[\"frequencies\"]):\n",
    "        for _ in range(int(v)):\n",
    "            ps.append(p)\n",
    "            qs.append(q)\n",
    "\n",
    "\n",
    "    heatmap, xedges, yedges = np.histogram2d(ps, qs, bins=19)\n",
    "\n",
    "    extent = [xedges[0], xedges[-1], yedges[0], yedges[-1]]\n",
    "\n",
    "    heatmaps.append(heatmap)\n",
    "    extents.append(extent)"
   ]
  },
  {
   "cell_type": "code",
   "execution_count": 19,
   "metadata": {},
   "outputs": [
    {
     "data": {
      "image/png": "[encoded data removed]",
      "text/plain": [
       "<Figure size 576x504 with 4 Axes>"
      ]
     },
     "metadata": {
      "needs_background": "light"
     },
     "output_type": "display_data"
    }
   ],
   "source": [
    "fig, axes = plt.subplots(ncols=2, nrows=1, figsize=(8, 7))\n",
    "\n",
    "cooperation_rates = [round(sum(df['average cooperation rate'] * (df['frequencies'] / 10 ** 7)), 2) \n",
    "                     for df in two_rounds_dfs]\n",
    "\n",
    "for i, heatmap in enumerate([heatmaps[0], heatmaps[1]]):\n",
    "    \n",
    "    index = (i % 2)\n",
    "    \n",
    "    if i == 1:\n",
    "        im = axes[index].imshow(heatmap.T, extent=extent, origin=\"lower\",\n",
    "                                cmap=cmaps[3],\n",
    "                                norm=colors.LogNorm(vmin=min_, vmax=max_))\n",
    "    else:\n",
    "        im = axes[index].imshow(heatmap.T, extent=extent, origin=\"lower\",\n",
    "                                cmap=cmaps[3],\n",
    "                                norm=colors.LogNorm())       \n",
    "\n",
    "    divider = make_axes_locatable(axes[index])\n",
    "    cax = divider.append_axes('right', size='5%', pad=0.05)\n",
    "    fig.colorbar(im, cax=cax, orientation='vertical')\n",
    "\n",
    "    axes[index].set_xticks(np.linspace(0, 1, 2))\n",
    "    axes[index].set_yticks(np.linspace(0, 1, 2));\n",
    "    axes[index].set_xlabel(\"$p$\")\n",
    "    axes[index].set_ylabel(\"$q$\")\n",
    "    \n",
    "    axes[index].text(0.45, 0.7, \"Cooperation rate \\n\" + str(cooperation_rates[i] * 100) + '%',\n",
    "                     horizontalalignment='center')\n",
    "\n",
    "\n",
    "axes[0].set_title(r\"Low benefit ($b=3$)\", weight=\"bold\", y=1.05);\n",
    "axes[1].set_title(r\"High benefit ($b=10$)\", weight=\"bold\", y=1.05);\n",
    "\n",
    "\n",
    "fig.tight_layout();\n",
    "\n",
    "fig.savefig(\"../static/two_rounds_donation_game.pdf\", bbox_inches='tight')"
   ]
  },
  {
   "cell_type": "markdown",
   "metadata": {},
   "source": [
    "### Combining two rounds opponents data sets"
   ]
  },
  {
   "cell_type": "code",
   "execution_count": 20,
   "metadata": {},
   "outputs": [],
   "source": [
    "two_rounds_opponents_files = [f\"../to_archieve/clean_two_rounds_opponents_benefit_{b}.csv\" for b in [3, 10]]\n",
    "\n",
    "two_rounds_opponents_dfs = [pd.read_csv(file) for file in two_rounds_opponents_files]"
   ]
  },
  {
   "cell_type": "code",
   "execution_count": 21,
   "metadata": {},
   "outputs": [],
   "source": [
    "heatmaps = []\n",
    "extents = []\n",
    "\n",
    "    \n",
    "for df in two_rounds_opponents_dfs:\n",
    "\n",
    "    ps, qs = [], []\n",
    "    for p, q, v in zip(df[\"p\"], df[\"q\"], df[\"frequencies\"]):\n",
    "        for _ in range(int(v)):\n",
    "            ps.append(p)\n",
    "            qs.append(q)\n",
    "\n",
    "\n",
    "    heatmap, xedges, yedges = np.histogram2d(ps, qs, bins=19)\n",
    "\n",
    "    extent = [xedges[0], xedges[-1], yedges[0], yedges[-1]]\n",
    "\n",
    "    heatmaps.append(heatmap)\n",
    "    extents.append(extent)"
   ]
  },
  {
   "cell_type": "code",
   "execution_count": 22,
   "metadata": {},
   "outputs": [],
   "source": [
    "min_, max_ = (1.0, 1391629.0)"
   ]
  },
  {
   "cell_type": "code",
   "execution_count": 23,
   "metadata": {},
   "outputs": [
    {
     "data": {
      "image/png": "[encoded data removed]",
      "text/plain": [
       "<Figure size 576x504 with 4 Axes>"
      ]
     },
     "metadata": {
      "needs_background": "light"
     },
     "output_type": "display_data"
    }
   ],
   "source": [
    "fig, axes = plt.subplots(ncols=2, nrows=1, figsize=(8, 7))\n",
    "\n",
    "cooperation_rates = [round(sum(df['average cooperation rate'] * (df['frequencies'] / 10 ** 7)), 2) \n",
    "                     for df in two_rounds_opponents_dfs]\n",
    "\n",
    "for i, heatmap in enumerate([heatmaps[0], heatmaps[1]]):\n",
    "    \n",
    "    index = (i % 2)\n",
    "\n",
    "    im = axes[index].imshow(heatmap.T, extent=extent, origin=\"lower\",\n",
    "                            cmap=cmaps[4],\n",
    "                            norm=colors.LogNorm(vmin=min_, vmax=max_))\n",
    "    divider = make_axes_locatable(axes[index])\n",
    "    cax = divider.append_axes('right', size='5%', pad=0.05)\n",
    "    fig.colorbar(im, cax=cax, orientation='vertical')\n",
    "\n",
    "    axes[index].set_xticks(np.linspace(0, 1, 2))\n",
    "    axes[index].set_yticks(np.linspace(0, 1, 2));\n",
    "    axes[index].set_xlabel(\"$p$\")\n",
    "    axes[index].set_ylabel(\"$q$\")\n",
    "    \n",
    "    axes[index].text(0.45, 0.7, \"Cooperation rate \\n\" + str(cooperation_rates[i] * 100) + '%',\n",
    "                     horizontalalignment='center')\n",
    "\n",
    "\n",
    "axes[0].set_title(r\"Low benefit ($b=3$)\", weight=\"bold\", y=1.05);\n",
    "axes[1].set_title(r\"High benefit ($b=10$)\", weight=\"bold\", y=1.05);\n",
    "\n",
    "\n",
    "fig.tight_layout();\n",
    "\n",
    "fig.savefig(\"../static/two_rounds_opponents_donation_game.pdf\", bbox_inches='tight')"
   ]
  },
  {
   "cell_type": "markdown",
   "metadata": {},
   "source": [
    "### Heat maps in one Plot"
   ]
  },
  {
   "cell_type": "code",
   "execution_count": 43,
   "metadata": {},
   "outputs": [],
   "source": [
    "hig_benefit_files = [\n",
    "         \"../to_archieve/perfect_memory/clean_c_1_b_10_stochastic_0.csv\",\n",
    "         \"../to_archieve/limited_memory/clean_last_round_b_10.csv\",\n",
    "         \"../to_archieve/clean_two_opponents_benefit_10.csv\",\n",
    "         \"../to_archieve/clean_two_rounds_benefit_10.csv\",\n",
    "         \"../to_archieve/clean_two_rounds_opponents_benefit_10.csv\"]"
   ]
  },
  {
   "cell_type": "code",
   "execution_count": 73,
   "metadata": {},
   "outputs": [],
   "source": [
    "heatmaps = []\n",
    "\n",
    "extents = []\n",
    "\n",
    "dfs = []\n",
    "\n",
    "    \n",
    "for file in hig_benefit_files:\n",
    "    df = pd.read_csv(file)\n",
    "    if file == \"../to_archieve/limited_memory/clean_last_round_b_10.csv\":\n",
    "        df = df[df.index < 54141]\n",
    "    dfs.append(df)\n",
    "    \n",
    "\n",
    "    ps, qs = [], []\n",
    "    for p, q, v in zip(df[\"p\"], df[\"q\"], df[\"frequencies\"]):\n",
    "        for _ in range(int(v)):\n",
    "            ps.append(p)\n",
    "            qs.append(q)\n",
    "\n",
    "\n",
    "    heatmap, xedges, yedges = np.histogram2d(ps, qs, bins=19)\n",
    "\n",
    "    extent = [xedges[0], xedges[-1], yedges[0], yedges[-1]]\n",
    "\n",
    "    heatmaps.append(heatmap)\n",
    "    extents.append(extent)"
   ]
  },
  {
   "cell_type": "code",
   "execution_count": 81,
   "metadata": {},
   "outputs": [
    {
     "data": {
      "image/png": "[encoded data removed]",
      "text/plain": [
       "<Figure size 1080x720 with 10 Axes>"
      ]
     },
     "metadata": {
      "needs_background": "light"
     },
     "output_type": "display_data"
    }
   ],
   "source": [
    "fig, axes = plt.subplots(ncols=5, nrows=1, figsize=(15, 10))\n",
    "\n",
    "\n",
    "cooperation_rates = [round(sum(df['average cooperation rate'] * (df['frequencies'] / sum(df['frequencies']))), 2) \n",
    "                     for df in dfs]\n",
    "\n",
    "for i, heatmap in enumerate(heatmaps):\n",
    "    \n",
    "    index = (i % 5)\n",
    "\n",
    "    im = axes[index].imshow(heatmap.T, extent=extent, origin=\"lower\",\n",
    "                            cmap=cmaps[i],\n",
    "                            norm=colors.LogNorm(vmin=min_, vmax=max_))\n",
    "\n",
    "    divider = make_axes_locatable(axes[index])\n",
    "    cax = divider.append_axes('right', size='5%', pad=0.05)\n",
    "    fig.colorbar(im, cax=cax, orientation='vertical')\n",
    "\n",
    "    axes[index].set_xticks(np.linspace(0, 1, 2))\n",
    "    axes[index].set_yticks(np.linspace(0, 1, 2));\n",
    "    axes[index].set_xlabel(\"$p$\")\n",
    "\n",
    "    \n",
    "    axes[index].text(0.45, 0.7, \"Cooperation rate \\n\" + str(round(cooperation_rates[i] * 100, 2)) + '%',\n",
    "                     horizontalalignment='center')\n",
    "\n",
    "axes[0].set_ylabel(\"$q$\")\n",
    "\n",
    "# axes[0].set_title(r\"Low benefit ($b=3$)\", weight=\"bold\", y=1.05);\n",
    "# axes[1].set_title(r\"High benefit ($b=10$)\", weight=\"bold\", y=1.05);\n",
    "\n",
    "\n",
    "fig.tight_layout();\n",
    "\n",
    "fig.savefig(\"../paper/static/more_memory_heatmaps_donation_game.pdf\", bbox_inches='tight')"
   ]
  },
  {
   "cell_type": "code",
   "execution_count": 84,
   "metadata": {},
   "outputs": [
    {
     "data": {
      "text/plain": [
       "0.2925394000366518"
      ]
     },
     "execution_count": 84,
     "metadata": {},
     "output_type": "execute_result"
    }
   ],
   "source": [
    "1 - (np.sqrt(2) / (2 * np.sqrt(0.999)))"
   ]
  },
  {
   "cell_type": "code",
   "execution_count": 87,
   "metadata": {},
   "outputs": [
    {
     "data": {
      "text/plain": [
       "0.7069602765050177"
      ]
     },
     "execution_count": 87,
     "metadata": {},
     "output_type": "execute_result"
    }
   ],
   "source": [
    "delta = 0.999\n",
    "\n",
    "(delta + np.sqrt(delta ** 2 + 1) - 1) / (delta * 2)"
   ]
  },
  {
   "cell_type": "code",
   "execution_count": 88,
   "metadata": {},
   "outputs": [
    {
     "data": {
      "text/plain": [
       "0.7068135947813289"
      ]
     },
     "execution_count": 88,
     "metadata": {},
     "output_type": "execute_result"
    }
   ],
   "source": [
    "(delta - 1 + np.sqrt(2) / 2) / delta"
   ]
  },
  {
   "cell_type": "code",
   "execution_count": 69,
   "metadata": {},
   "outputs": [
    {
     "data": {
      "text/html": [
       "<div>\n",
       "<style scoped>\n",
       "    .dataframe tbody tr th:only-of-type {\n",
       "        vertical-align: middle;\n",
       "    }\n",
       "\n",
       "    .dataframe tbody tr th {\n",
       "        vertical-align: top;\n",
       "    }\n",
       "\n",
       "    .dataframe thead th {\n",
       "        text-align: right;\n",
       "    }\n",
       "</style>\n",
       "<table border=\"1\" class=\"dataframe\">\n",
       "  <thead>\n",
       "    <tr style=\"text-align: right;\">\n",
       "      <th></th>\n",
       "      <th>y</th>\n",
       "      <th>p</th>\n",
       "      <th>q</th>\n",
       "      <th>average cooperation rate</th>\n",
       "      <th>average score</th>\n",
       "      <th>t</th>\n",
       "      <th>frequencies</th>\n",
       "    </tr>\n",
       "  </thead>\n",
       "  <tbody>\n",
       "    <tr>\n",
       "      <th>54141</th>\n",
       "      <td>0.039067</td>\n",
       "      <td>0.994529</td>\n",
       "      <td>0.135301</td>\n",
       "      <td>0.954626</td>\n",
       "      <td>8.591638</td>\n",
       "      <td>9998550</td>\n",
       "      <td>3223</td>\n",
       "    </tr>\n",
       "    <tr>\n",
       "      <th>54142</th>\n",
       "      <td>0.492928</td>\n",
       "      <td>0.996382</td>\n",
       "      <td>0.856917</td>\n",
       "      <td>0.995211</td>\n",
       "      <td>8.956898</td>\n",
       "      <td>10001773</td>\n",
       "      <td>1</td>\n",
       "    </tr>\n",
       "    <tr>\n",
       "      <th>54143</th>\n",
       "      <td>0.861629</td>\n",
       "      <td>0.317935</td>\n",
       "      <td>0.852808</td>\n",
       "      <td>0.555821</td>\n",
       "      <td>5.002388</td>\n",
       "      <td>10001774</td>\n",
       "      <td>17</td>\n",
       "    </tr>\n",
       "    <tr>\n",
       "      <th>54144</th>\n",
       "      <td>0.066661</td>\n",
       "      <td>0.310368</td>\n",
       "      <td>0.710711</td>\n",
       "      <td>0.507212</td>\n",
       "      <td>4.564904</td>\n",
       "      <td>10001791</td>\n",
       "      <td>47</td>\n",
       "    </tr>\n",
       "    <tr>\n",
       "      <th>54145</th>\n",
       "      <td>0.071708</td>\n",
       "      <td>0.548805</td>\n",
       "      <td>0.441475</td>\n",
       "      <td>0.494082</td>\n",
       "      <td>4.446739</td>\n",
       "      <td>10001838</td>\n",
       "      <td>51</td>\n",
       "    </tr>\n",
       "    <tr>\n",
       "      <th>...</th>\n",
       "      <td>...</td>\n",
       "      <td>...</td>\n",
       "      <td>...</td>\n",
       "      <td>...</td>\n",
       "      <td>...</td>\n",
       "      <td>...</td>\n",
       "      <td>...</td>\n",
       "    </tr>\n",
       "    <tr>\n",
       "      <th>278731</th>\n",
       "      <td>0.014872</td>\n",
       "      <td>0.163376</td>\n",
       "      <td>0.443337</td>\n",
       "      <td>0.346109</td>\n",
       "      <td>3.114978</td>\n",
       "      <td>49999722</td>\n",
       "      <td>4</td>\n",
       "    </tr>\n",
       "    <tr>\n",
       "      <th>278732</th>\n",
       "      <td>0.638983</td>\n",
       "      <td>0.062326</td>\n",
       "      <td>0.019039</td>\n",
       "      <td>0.020548</td>\n",
       "      <td>0.184928</td>\n",
       "      <td>49999726</td>\n",
       "      <td>22</td>\n",
       "    </tr>\n",
       "    <tr>\n",
       "      <th>278733</th>\n",
       "      <td>0.651828</td>\n",
       "      <td>0.560166</td>\n",
       "      <td>0.017539</td>\n",
       "      <td>0.039688</td>\n",
       "      <td>0.357190</td>\n",
       "      <td>49999748</td>\n",
       "      <td>3</td>\n",
       "    </tr>\n",
       "    <tr>\n",
       "      <th>278734</th>\n",
       "      <td>0.893401</td>\n",
       "      <td>0.675588</td>\n",
       "      <td>0.289359</td>\n",
       "      <td>0.472131</td>\n",
       "      <td>4.249183</td>\n",
       "      <td>49999751</td>\n",
       "      <td>25</td>\n",
       "    </tr>\n",
       "    <tr>\n",
       "      <th>278735</th>\n",
       "      <td>0.851387</td>\n",
       "      <td>0.959417</td>\n",
       "      <td>0.298749</td>\n",
       "      <td>0.880317</td>\n",
       "      <td>7.922857</td>\n",
       "      <td>49999776</td>\n",
       "      <td>224</td>\n",
       "    </tr>\n",
       "  </tbody>\n",
       "</table>\n",
       "<p>224595 rows × 7 columns</p>\n",
       "</div>"
      ],
      "text/plain": [
       "               y         p         q  average cooperation rate  average score  \\\n",
       "54141   0.039067  0.994529  0.135301                  0.954626       8.591638   \n",
       "54142   0.492928  0.996382  0.856917                  0.995211       8.956898   \n",
       "54143   0.861629  0.317935  0.852808                  0.555821       5.002388   \n",
       "54144   0.066661  0.310368  0.710711                  0.507212       4.564904   \n",
       "54145   0.071708  0.548805  0.441475                  0.494082       4.446739   \n",
       "...          ...       ...       ...                       ...            ...   \n",
       "278731  0.014872  0.163376  0.443337                  0.346109       3.114978   \n",
       "278732  0.638983  0.062326  0.019039                  0.020548       0.184928   \n",
       "278733  0.651828  0.560166  0.017539                  0.039688       0.357190   \n",
       "278734  0.893401  0.675588  0.289359                  0.472131       4.249183   \n",
       "278735  0.851387  0.959417  0.298749                  0.880317       7.922857   \n",
       "\n",
       "               t  frequencies  \n",
       "54141    9998550         3223  \n",
       "54142   10001773            1  \n",
       "54143   10001774           17  \n",
       "54144   10001791           47  \n",
       "54145   10001838           51  \n",
       "...          ...          ...  \n",
       "278731  49999722            4  \n",
       "278732  49999726           22  \n",
       "278733  49999748            3  \n",
       "278734  49999751           25  \n",
       "278735  49999776          224  \n",
       "\n",
       "[224595 rows x 7 columns]"
      ]
     },
     "execution_count": 69,
     "metadata": {},
     "output_type": "execute_result"
    }
   ],
   "source": [
    "dfs[1][dfs[1]['frequencies'].cumsum() > 10 ** 7]"
   ]
  },
  {
   "cell_type": "markdown",
   "metadata": {},
   "source": [
    "### Cooperation Rates Bar plots"
   ]
  },
  {
   "cell_type": "code",
   "execution_count": 26,
   "metadata": {},
   "outputs": [],
   "source": [
    "titles = [\"Perfect Memory Payoffs\",\n",
    "          \"Limited Memory Payoffs\" \"\\n\" \"(last round with one other player)\",\n",
    "          \"Limited Memory Payoffs\" \"\\n\" \"(last round with two other players)\",\n",
    "          \"Limited Memory Payoffs\" \"\\n\" \"(last two rounds with one other player)\",\n",
    "          \"Limited Memory Payoffs\" \"\\n\" \"(last two rounds with two other players)\"]"
   ]
  },
  {
   "cell_type": "code",
   "execution_count": 30,
   "metadata": {},
   "outputs": [],
   "source": [
    "low_benefit_files = [\n",
    "         \"../to_archieve/perfect_memory/clean_c_1_b_3_stochastic_0.csv\",\n",
    "         \"../to_archieve/limited_memory/clean_last_round_b_3.csv\",\n",
    "         \"../to_archieve/clean_two_opponents_benefit_3.csv\",\n",
    "         \"../to_archieve/clean_two_rounds_benefit_3.csv\",\n",
    "         \"../to_archieve/clean_two_rounds_opponents_benefit_3.csv\"]"
   ]
  },
  {
   "cell_type": "code",
   "execution_count": 32,
   "metadata": {},
   "outputs": [],
   "source": [
    "low_dfs = [pd.read_csv(file) for file in low_benefit_files]"
   ]
  },
  {
   "cell_type": "code",
   "execution_count": 33,
   "metadata": {},
   "outputs": [],
   "source": [
    "bar_colors = [cmap(0.9) for cmap in cmaps]"
   ]
  },
  {
   "cell_type": "code",
   "execution_count": 34,
   "metadata": {},
   "outputs": [
    {
     "data": {
      "image/png": "[encoded data removed]",
      "text/plain": [
       "<Figure size 1512x504 with 1 Axes>"
      ]
     },
     "metadata": {
      "needs_background": "light"
     },
     "output_type": "display_data"
    }
   ],
   "source": [
    "fig, axes = plt.subplots(figsize=(21, 7));\n",
    "\n",
    "height = [sum(df['average cooperation rate'] * (df['frequencies'] / sum(df['frequencies']))) for df in low_dfs]\n",
    "\n",
    "x_pos = np.arange(len(titles))\n",
    "\n",
    "axes.bar(x_pos, height, width=0.4, color=bar_colors);\n",
    "\n",
    "axes.set_ylabel(\"cooperation rate\", weight=\"bold\", fontsize=12);\n",
    "\n",
    "axes.set_ylim(0, 1.1);\n",
    "axes.set_xticks([0, 1, 2, 3, 4]);\n",
    "# axes.set_xticklabels([titles[0], titles[1], titles[2], titles[3], titles[4]], fontsize=10);\n",
    "axes.set_xticklabels([\"\" for _ in range(5)], fontsize=10);\n",
    "\n",
    "for j, pos in enumerate([0, 1, 2, 3, 4]):\n",
    "    axes.text(pos,\n",
    "          height[j] + 0.05,\n",
    "          f\"{round(height[j] * 100, 2)} %\",\n",
    "          horizontalalignment='center',\n",
    "          color=\"black\",\n",
    "          weight='bold',\n",
    "          fontsize=12\n",
    "      )\n",
    "\n",
    "\n",
    "for ax in [axes.spines[\"right\"], axes.spines[\"top\"]]:\n",
    "    ax.set_visible(False);\n",
    "    \n",
    "plt.savefig(\"../paper/static/cooperation_rates_for_low_benefit.pdf\", bbox_inches='tight')"
   ]
  },
  {
   "cell_type": "code",
   "execution_count": 35,
   "metadata": {},
   "outputs": [],
   "source": [
    "high_dfs = [pd.read_csv(file) for file in hig_benefit_files]"
   ]
  },
  {
   "cell_type": "code",
   "execution_count": 36,
   "metadata": {},
   "outputs": [
    {
     "data": {
      "image/png": "[encoded data removed]",
      "text/plain": [
       "<Figure size 1512x504 with 1 Axes>"
      ]
     },
     "metadata": {
      "needs_background": "light"
     },
     "output_type": "display_data"
    }
   ],
   "source": [
    "fig, axes = plt.subplots(figsize=(21, 7));\n",
    "\n",
    "height = [sum(df['average cooperation rate'] * (df['frequencies'] / sum(df['frequencies']))) \n",
    "          for df in high_dfs]\n",
    "\n",
    "x_pos = np.arange(len(titles))\n",
    "\n",
    "axes.bar(x_pos, height, width=0.4, color=bar_colors);\n",
    "\n",
    "axes.set_ylabel(\"cooperation rate\", weight=\"bold\", fontsize=12);\n",
    "\n",
    "axes.set_ylim(0, 1.1);\n",
    "axes.set_xticks([0, 1, 2, 3, 4]);\n",
    "axes.set_xticklabels([\"\" for _ in range(5)], fontsize=10);\n",
    "\n",
    "for j, pos in enumerate([0, 1, 2, 3, 4]):\n",
    "    axes.text(pos,\n",
    "          height[j] + 0.05,\n",
    "          f\"{round(height[j] * 100, 2)} %\",\n",
    "          horizontalalignment='center',\n",
    "          color=\"black\",\n",
    "          weight='bold',\n",
    "          fontsize=12\n",
    "      )\n",
    "\n",
    "    \n",
    "    \n",
    "for ax in [axes.spines[\"right\"], axes.spines[\"top\"]]:\n",
    "    ax.set_visible(False);\n",
    "\n",
    "    \n",
    "plt.savefig(\"../paper/static/cooperation_rates_for_high_benefit.pdf\", bbox_inches='tight')"
   ]
  },
  {
   "cell_type": "code",
   "execution_count": null,
   "metadata": {},
   "outputs": [],
   "source": []
  },
  {
   "cell_type": "code",
   "execution_count": null,
   "metadata": {},
   "outputs": [],
   "source": []
  }
 ],
 "metadata": {
  "kernelspec": {
   "display_name": "stochastic-payoffs",
   "language": "python",
   "name": "stochastic-payoffs"
  },
  "language_info": {
   "codemirror_mode": {
    "name": "ipython",
    "version": 3
   },
   "file_extension": ".py",
   "mimetype": "text/x-python",
   "name": "python",
   "nbconvert_exporter": "python",
   "pygments_lexer": "ipython3",
   "version": "3.7.8"
  }
 },
 "nbformat": 4,
 "nbformat_minor": 4
}
