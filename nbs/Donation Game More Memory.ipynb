{
 "cells": [
  {
   "cell_type": "markdown",
   "metadata": {},
   "source": [
    "# Donation Game More Memory"
   ]
  },
  {
   "cell_type": "markdown",
   "metadata": {},
   "source": [
    "**Imports**"
   ]
  },
  {
   "cell_type": "code",
   "execution_count": 1,
   "metadata": {},
   "outputs": [],
   "source": [
    "import pandas as pd"
   ]
  },
  {
   "cell_type": "code",
   "execution_count": 2,
   "metadata": {},
   "outputs": [],
   "source": [
    "import matplotlib.pyplot as plt\n",
    "import matplotlib\n",
    "\n",
    "import seaborn as sns"
   ]
  },
  {
   "cell_type": "code",
   "execution_count": 3,
   "metadata": {},
   "outputs": [],
   "source": [
    "import numpy as np"
   ]
  },
  {
   "cell_type": "code",
   "execution_count": 4,
   "metadata": {},
   "outputs": [],
   "source": [
    "import matplotlib.colors as colors\n",
    "from mpl_toolkits.axes_grid1 import make_axes_locatable"
   ]
  },
  {
   "cell_type": "code",
   "execution_count": 5,
   "metadata": {},
   "outputs": [],
   "source": [
    "import glob"
   ]
  },
  {
   "cell_type": "code",
   "execution_count": 6,
   "metadata": {},
   "outputs": [],
   "source": [
    "font = {'family': 'serif',\n",
    "        'weight': 'bold',\n",
    "        'size': 10,\n",
    "        }"
   ]
  },
  {
   "cell_type": "code",
   "execution_count": 7,
   "metadata": {},
   "outputs": [],
   "source": [
    "matplotlib.rc('font', **font)"
   ]
  },
  {
   "cell_type": "code",
   "execution_count": 8,
   "metadata": {},
   "outputs": [],
   "source": [
    "cmaps = [matplotlib.cm.get_cmap(\"Blues\"), matplotlib.cm.get_cmap(\"Reds\"), matplotlib.cm.get_cmap(\"Greens\"), \n",
    "         matplotlib.cm.get_cmap(\"Purples\"), matplotlib.cm.get_cmap(\"Oranges\")]"
   ]
  },
  {
   "cell_type": "markdown",
   "metadata": {},
   "source": [
    "### Heatmaps for SI"
   ]
  },
  {
   "cell_type": "markdown",
   "metadata": {},
   "source": [
    "**Two interactions and Two opponents**"
   ]
  },
  {
   "cell_type": "code",
   "execution_count": 10,
   "metadata": {},
   "outputs": [],
   "source": [
    "two_opponents_files = [f\"../to_archieve/clean_two_opponents_benefit_{b}.csv\" for b in [3, 10]]\n",
    "\n",
    "two_op_dfs = [pd.read_csv(file) for file in two_opponents_files]"
   ]
  },
  {
   "cell_type": "code",
   "execution_count": 11,
   "metadata": {},
   "outputs": [],
   "source": [
    "heatmaps = []\n",
    "extents = []\n",
    "\n",
    "    \n",
    "for df in two_op_dfs:\n",
    "\n",
    "    ps, qs = [], []\n",
    "    for p, q, v in zip(df[\"p\"], df[\"q\"], df[\"frequencies\"]):\n",
    "        for _ in range(int(v)):\n",
    "            ps.append(p)\n",
    "            qs.append(q)\n",
    "\n",
    "\n",
    "    heatmap, xedges, yedges = np.histogram2d(ps, qs, bins=19)\n",
    "\n",
    "    extent = [xedges[0], xedges[-1], yedges[0], yedges[-1]]\n",
    "\n",
    "    heatmaps.append(heatmap)\n",
    "    extents.append(extent)"
   ]
  },
  {
   "cell_type": "code",
   "execution_count": 12,
   "metadata": {},
   "outputs": [],
   "source": [
    "min_, max_ = (1.0, 1391629.0)"
   ]
  },
  {
   "cell_type": "code",
   "execution_count": 13,
   "metadata": {},
   "outputs": [
    {
     "data": {
      "image/png": "[encoded data removed]",
      "text/plain": [
       "<Figure size 576x504 with 4 Axes>"
      ]
     },
     "metadata": {
      "needs_background": "light"
     },
     "output_type": "display_data"
    }
   ],
   "source": [
    "fig, axes = plt.subplots(ncols=2, nrows=1, figsize=(8, 7))\n",
    "\n",
    "cooperation_rates = [round(sum(df['average cooperation rate'] * (df['frequencies'] / 10 ** 7)), 2) \n",
    "                     for df in two_op_dfs]\n",
    "\n",
    "for i, heatmap in enumerate([heatmaps[0], heatmaps[1]]):\n",
    "    \n",
    "    index = (i % 2)\n",
    "\n",
    "    im = axes[index].imshow(heatmap.T, extent=extent, origin=\"lower\",\n",
    "                            cmap=cmaps[2],\n",
    "                            norm=colors.LogNorm(vmin=min_, vmax=max_))\n",
    "\n",
    "    divider = make_axes_locatable(axes[index])\n",
    "    cax = divider.append_axes('right', size='5%', pad=0.05)\n",
    "    fig.colorbar(im, cax=cax, orientation='vertical')\n",
    "\n",
    "    axes[index].set_xticks(np.linspace(0, 1, 2))\n",
    "    axes[index].set_yticks(np.linspace(0, 1, 2));\n",
    "    axes[index].set_xlabel(\"$p$\")\n",
    "    axes[index].set_ylabel(\"$q$\")\n",
    "\n",
    "    axes[index].text(0.45, 0.7, \"Cooperation rate \\n\" + str(cooperation_rates[i] * 100) + '%',\n",
    "                     horizontalalignment='center')\n",
    "\n",
    "\n",
    "\n",
    "axes[0].set_title(r\"Low benefit ($b=3$)\", weight=\"bold\", y=1.05);\n",
    "\n",
    "axes[1].set_title(r\"High benefit ($b=10$)\", weight=\"bold\", y=1.05);\n",
    "\n",
    "\n",
    "fig.tight_layout();\n",
    "\n",
    "fig.savefig(\"../static/two_interactions_donation_game.pdf\", bbox_inches='tight')"
   ]
  },
  {
   "cell_type": "code",
   "execution_count": 17,
   "metadata": {},
   "outputs": [],
   "source": [
    "two_rounds_files = [f\"../to_archieve/clean_two_rounds_benefit_{b}.csv\" for b in [3, 10]]\n",
    "\n",
    "two_rounds_dfs = [pd.read_csv(file) for file in two_rounds_files]"
   ]
  },
  {
   "cell_type": "code",
   "execution_count": 18,
   "metadata": {},
   "outputs": [],
   "source": [
    "heatmaps = []\n",
    "extents = []\n",
    "\n",
    "    \n",
    "for df in two_rounds_dfs:\n",
    "\n",
    "    ps, qs = [], []\n",
    "    for p, q, v in zip(df[\"p\"], df[\"q\"], df[\"frequencies\"]):\n",
    "        for _ in range(int(v)):\n",
    "            ps.append(p)\n",
    "            qs.append(q)\n",
    "\n",
    "\n",
    "    heatmap, xedges, yedges = np.histogram2d(ps, qs, bins=19)\n",
    "\n",
    "    extent = [xedges[0], xedges[-1], yedges[0], yedges[-1]]\n",
    "\n",
    "    heatmaps.append(heatmap)\n",
    "    extents.append(extent)"
   ]
  },
  {
   "cell_type": "code",
   "execution_count": 19,
   "metadata": {},
   "outputs": [
    {
     "data": {
      "image/png": "[encoded data removed]",
      "text/plain": [
       "<Figure size 576x504 with 4 Axes>"
      ]
     },
     "metadata": {
      "needs_background": "light"
     },
     "output_type": "display_data"
    }
   ],
   "source": [
    "fig, axes = plt.subplots(ncols=2, nrows=1, figsize=(8, 7))\n",
    "\n",
    "cooperation_rates = [round(sum(df['average cooperation rate'] * (df['frequencies'] / 10 ** 7)), 2) \n",
    "                     for df in two_rounds_dfs]\n",
    "\n",
    "for i, heatmap in enumerate([heatmaps[0], heatmaps[1]]):\n",
    "    \n",
    "    index = (i % 2)\n",
    "    \n",
    "    if i == 1:\n",
    "        im = axes[index].imshow(heatmap.T, extent=extent, origin=\"lower\",\n",
    "                                cmap=cmaps[3],\n",
    "                                norm=colors.LogNorm(vmin=min_, vmax=max_))\n",
    "    else:\n",
    "        im = axes[index].imshow(heatmap.T, extent=extent, origin=\"lower\",\n",
    "                                cmap=cmaps[3],\n",
    "                                norm=colors.LogNorm())       \n",
    "\n",
    "    divider = make_axes_locatable(axes[index])\n",
    "    cax = divider.append_axes('right', size='5%', pad=0.05)\n",
    "    fig.colorbar(im, cax=cax, orientation='vertical')\n",
    "\n",
    "    axes[index].set_xticks(np.linspace(0, 1, 2))\n",
    "    axes[index].set_yticks(np.linspace(0, 1, 2));\n",
    "    axes[index].set_xlabel(\"$p$\")\n",
    "    axes[index].set_ylabel(\"$q$\")\n",
    "    \n",
    "    axes[index].text(0.45, 0.7, \"Cooperation rate \\n\" + str(cooperation_rates[i] * 100) + '%',\n",
    "                     horizontalalignment='center')\n",
    "\n",
    "\n",
    "axes[0].set_title(r\"Low benefit ($b=3$)\", weight=\"bold\", y=1.05);\n",
    "axes[1].set_title(r\"High benefit ($b=10$)\", weight=\"bold\", y=1.05);\n",
    "\n",
    "\n",
    "fig.tight_layout();\n",
    "\n",
    "fig.savefig(\"../static/two_rounds_donation_game.pdf\", bbox_inches='tight')"
   ]
  },
  {
   "cell_type": "markdown",
   "metadata": {},
   "source": [
    "### Combining two rounds opponents data sets"
   ]
  },
  {
   "cell_type": "code",
   "execution_count": 20,
   "metadata": {},
   "outputs": [],
   "source": [
    "two_rounds_opponents_files = [f\"../to_archieve/clean_two_rounds_opponents_benefit_{b}.csv\" for b in [3, 10]]\n",
    "\n",
    "two_rounds_opponents_dfs = [pd.read_csv(file) for file in two_rounds_opponents_files]"
   ]
  },
  {
   "cell_type": "code",
   "execution_count": 21,
   "metadata": {},
   "outputs": [],
   "source": [
    "heatmaps = []\n",
    "extents = []\n",
    "\n",
    "    \n",
    "for df in two_rounds_opponents_dfs:\n",
    "\n",
    "    ps, qs = [], []\n",
    "    for p, q, v in zip(df[\"p\"], df[\"q\"], df[\"frequencies\"]):\n",
    "        for _ in range(int(v)):\n",
    "            ps.append(p)\n",
    "            qs.append(q)\n",
    "\n",
    "\n",
    "    heatmap, xedges, yedges = np.histogram2d(ps, qs, bins=19)\n",
    "\n",
    "    extent = [xedges[0], xedges[-1], yedges[0], yedges[-1]]\n",
    "\n",
    "    heatmaps.append(heatmap)\n",
    "    extents.append(extent)"
   ]
  },
  {
   "cell_type": "code",
   "execution_count": 22,
   "metadata": {},
   "outputs": [],
   "source": [
    "min_, max_ = (1.0, 1391629.0)"
   ]
  },
  {
   "cell_type": "code",
   "execution_count": 23,
   "metadata": {},
   "outputs": [
    {
     "data": {
      "image/png": "[encoded data removed]",
      "text/plain": [
       "<Figure size 576x504 with 4 Axes>"
      ]
     },
     "metadata": {
      "needs_background": "light"
     },
     "output_type": "display_data"
    }
   ],
   "source": [
    "fig, axes = plt.subplots(ncols=2, nrows=1, figsize=(8, 7))\n",
    "\n",
    "cooperation_rates = [round(sum(df['average cooperation rate'] * (df['frequencies'] / 10 ** 7)), 2) \n",
    "                     for df in two_rounds_opponents_dfs]\n",
    "\n",
    "for i, heatmap in enumerate([heatmaps[0], heatmaps[1]]):\n",
    "    \n",
    "    index = (i % 2)\n",
    "\n",
    "    im = axes[index].imshow(heatmap.T, extent=extent, origin=\"lower\",\n",
    "                            cmap=cmaps[4],\n",
    "                            norm=colors.LogNorm(vmin=min_, vmax=max_))\n",
    "    divider = make_axes_locatable(axes[index])\n",
    "    cax = divider.append_axes('right', size='5%', pad=0.05)\n",
    "    fig.colorbar(im, cax=cax, orientation='vertical')\n",
    "\n",
    "    axes[index].set_xticks(np.linspace(0, 1, 2))\n",
    "    axes[index].set_yticks(np.linspace(0, 1, 2));\n",
    "    axes[index].set_xlabel(\"$p$\")\n",
    "    axes[index].set_ylabel(\"$q$\")\n",
    "    \n",
    "    axes[index].text(0.45, 0.7, \"Cooperation rate \\n\" + str(cooperation_rates[i] * 100) + '%',\n",
    "                     horizontalalignment='center')\n",
    "\n",
    "\n",
    "axes[0].set_title(r\"Low benefit ($b=3$)\", weight=\"bold\", y=1.05);\n",
    "axes[1].set_title(r\"High benefit ($b=10$)\", weight=\"bold\", y=1.05);\n",
    "\n",
    "\n",
    "fig.tight_layout();\n",
    "\n",
    "fig.savefig(\"../static/two_rounds_opponents_donation_game.pdf\", bbox_inches='tight')"
   ]
  },
  {
   "cell_type": "markdown",
   "metadata": {},
   "source": [
    "### Cooperation Rates Bar plots"
   ]
  },
  {
   "cell_type": "code",
   "execution_count": 26,
   "metadata": {},
   "outputs": [],
   "source": [
    "titles = [\"Perfect Memory Payoffs\",\n",
    "          \"Limited Memory Payoffs\" \"\\n\" \"(last round with one other player)\",\n",
    "          \"Limited Memory Payoffs\" \"\\n\" \"(last round with two other players)\",\n",
    "          \"Limited Memory Payoffs\" \"\\n\" \"(last two rounds with one other player)\",\n",
    "          \"Limited Memory Payoffs\" \"\\n\" \"(last two rounds with two other players)\"]"
   ]
  },
  {
   "cell_type": "code",
   "execution_count": 30,
   "metadata": {},
   "outputs": [],
   "source": [
    "low_benefit_files = [\n",
    "         \"../to_archieve/perfect_memory/clean_c_1_b_3_stochastic_0.csv\",\n",
    "         \"../to_archieve/limited_memory/clean_last_round_b_3.csv\",\n",
    "         \"../to_archieve/clean_two_opponents_benefit_3.csv\",\n",
    "         \"../to_archieve/clean_two_rounds_benefit_3.csv\",\n",
    "         \"../to_archieve/clean_two_rounds_opponents_benefit_3.csv\"]"
   ]
  },
  {
   "cell_type": "code",
   "execution_count": 31,
   "metadata": {},
   "outputs": [],
   "source": [
    "hig_benefit_files = [\n",
    "         \"../to_archieve/perfect_memory/clean_c_1_b_10_stochastic_0.csv\",\n",
    "         \"../to_archieve/limited_memory/clean_last_round_b_10.csv\",\n",
    "         \"../to_archieve/clean_two_opponents_benefit_10.csv\",\n",
    "         \"../to_archieve/clean_two_rounds_benefit_10.csv\",\n",
    "         \"../to_archieve/clean_two_rounds_opponents_benefit_10.csv\"]"
   ]
  },
  {
   "cell_type": "code",
   "execution_count": 32,
   "metadata": {},
   "outputs": [],
   "source": [
    "low_dfs = [pd.read_csv(file) for file in low_benefit_files]"
   ]
  },
  {
   "cell_type": "code",
   "execution_count": 33,
   "metadata": {},
   "outputs": [],
   "source": [
    "bar_colors = [cmap(0.9) for cmap in cmaps]"
   ]
  },
  {
   "cell_type": "code",
   "execution_count": 34,
   "metadata": {},
   "outputs": [
    {
     "data": {
      "image/png": "[encoded data removed]",
      "text/plain": [
       "<Figure size 1512x504 with 1 Axes>"
      ]
     },
     "metadata": {
      "needs_background": "light"
     },
     "output_type": "display_data"
    }
   ],
   "source": [
    "fig, axes = plt.subplots(figsize=(21, 7));\n",
    "\n",
    "height = [sum(df['average cooperation rate'] * (df['frequencies'] / sum(df['frequencies']))) for df in low_dfs]\n",
    "\n",
    "x_pos = np.arange(len(titles))\n",
    "\n",
    "axes.bar(x_pos, height, width=0.4, color=bar_colors);\n",
    "\n",
    "axes.set_ylabel(\"cooperation rate\", weight=\"bold\", fontsize=12);\n",
    "\n",
    "axes.set_ylim(0, 1.1);\n",
    "axes.set_xticks([0, 1, 2, 3, 4]);\n",
    "# axes.set_xticklabels([titles[0], titles[1], titles[2], titles[3], titles[4]], fontsize=10);\n",
    "axes.set_xticklabels([\"\" for _ in range(5)], fontsize=10);\n",
    "\n",
    "for j, pos in enumerate([0, 1, 2, 3, 4]):\n",
    "    axes.text(pos,\n",
    "          height[j] + 0.05,\n",
    "          f\"{round(height[j] * 100, 2)} %\",\n",
    "          horizontalalignment='center',\n",
    "          color=\"black\",\n",
    "          weight='bold',\n",
    "          fontsize=12\n",
    "      )\n",
    "\n",
    "\n",
    "for ax in [axes.spines[\"right\"], axes.spines[\"top\"]]:\n",
    "    ax.set_visible(False);\n",
    "    \n",
    "plt.savefig(\"../paper/static/cooperation_rates_for_low_benefit.pdf\", bbox_inches='tight')"
   ]
  },
  {
   "cell_type": "code",
   "execution_count": 35,
   "metadata": {},
   "outputs": [],
   "source": [
    "high_dfs = [pd.read_csv(file) for file in hig_benefit_files]"
   ]
  },
  {
   "cell_type": "code",
   "execution_count": 36,
   "metadata": {},
   "outputs": [
    {
     "data": {
      "image/png": "[encoded data removed]",
      "text/plain": [
       "<Figure size 1512x504 with 1 Axes>"
      ]
     },
     "metadata": {
      "needs_background": "light"
     },
     "output_type": "display_data"
    }
   ],
   "source": [
    "fig, axes = plt.subplots(figsize=(21, 7));\n",
    "\n",
    "height = [sum(df['average cooperation rate'] * (df['frequencies'] / sum(df['frequencies']))) \n",
    "          for df in high_dfs]\n",
    "\n",
    "x_pos = np.arange(len(titles))\n",
    "\n",
    "axes.bar(x_pos, height, width=0.4, color=bar_colors);\n",
    "\n",
    "axes.set_ylabel(\"cooperation rate\", weight=\"bold\", fontsize=12);\n",
    "\n",
    "axes.set_ylim(0, 1.1);\n",
    "axes.set_xticks([0, 1, 2, 3, 4]);\n",
    "axes.set_xticklabels([\"\" for _ in range(5)], fontsize=10);\n",
    "\n",
    "for j, pos in enumerate([0, 1, 2, 3, 4]):\n",
    "    axes.text(pos,\n",
    "          height[j] + 0.05,\n",
    "          f\"{round(height[j] * 100, 2)} %\",\n",
    "          horizontalalignment='center',\n",
    "          color=\"black\",\n",
    "          weight='bold',\n",
    "          fontsize=12\n",
    "      )\n",
    "\n",
    "    \n",
    "    \n",
    "for ax in [axes.spines[\"right\"], axes.spines[\"top\"]]:\n",
    "    ax.set_visible(False);\n",
    "\n",
    "    \n",
    "plt.savefig(\"../paper/static/cooperation_rates_for_high_benefit.pdf\", bbox_inches='tight')"
   ]
  },
  {
   "cell_type": "code",
   "execution_count": null,
   "metadata": {},
   "outputs": [],
   "source": []
  },
  {
   "cell_type": "code",
   "execution_count": null,
   "metadata": {},
   "outputs": [],
   "source": []
  }
 ],
 "metadata": {
  "kernelspec": {
   "display_name": "stochastic-payoffs",
   "language": "python",
   "name": "stochastic-payoffs"
  },
  "language_info": {
   "codemirror_mode": {
    "name": "ipython",
    "version": 3
   },
   "file_extension": ".py",
   "mimetype": "text/x-python",
   "name": "python",
   "nbconvert_exporter": "python",
   "pygments_lexer": "ipython3",
   "version": "3.7.8"
  }
 },
 "nbformat": 4,
 "nbformat_minor": 4
}
