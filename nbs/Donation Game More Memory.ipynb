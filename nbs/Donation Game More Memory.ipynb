{
 "cells": [
  {
   "cell_type": "code",
   "execution_count": 1,
   "metadata": {},
   "outputs": [],
   "source": [
    "import pandas as pd"
   ]
  },
  {
   "cell_type": "code",
   "execution_count": 2,
   "metadata": {},
   "outputs": [],
   "source": [
    "import matplotlib.pyplot as plt\n",
    "import matplotlib\n",
    "\n",
    "import seaborn as sns"
   ]
  },
  {
   "cell_type": "code",
   "execution_count": 3,
   "metadata": {},
   "outputs": [],
   "source": [
    "import numpy as np"
   ]
  },
  {
   "cell_type": "code",
   "execution_count": 4,
   "metadata": {},
   "outputs": [],
   "source": [
    "import matplotlib.colors as colors\n",
    "from mpl_toolkits.axes_grid1 import make_axes_locatable"
   ]
  },
  {
   "cell_type": "code",
   "execution_count": 5,
   "metadata": {},
   "outputs": [],
   "source": [
    "font = {'family': 'serif',\n",
    "        'weight': 'bold',\n",
    "        'size': 10,\n",
    "        }"
   ]
  },
  {
   "cell_type": "code",
   "execution_count": 6,
   "metadata": {},
   "outputs": [],
   "source": [
    "matplotlib.rc('font', **font)"
   ]
  },
  {
   "cell_type": "code",
   "execution_count": 7,
   "metadata": {},
   "outputs": [],
   "source": [
    "cmaps = [matplotlib.cm.get_cmap(\"Blues\"), matplotlib.cm.get_cmap(\"Reds\"), matplotlib.cm.get_cmap(\"Greens\"), \n",
    "         matplotlib.cm.get_cmap(\"Purples\"), matplotlib.cm.get_cmap(\"Oranges\")]"
   ]
  },
  {
   "cell_type": "markdown",
   "metadata": {},
   "source": [
    "### Combining two rounds opponents data sets"
   ]
  },
  {
   "cell_type": "code",
   "execution_count": 8,
   "metadata": {},
   "outputs": [],
   "source": [
    "rnd_opp_files = [\"../data/two-rounds-opponents/clean_two_rounds_opponentslow_benefit_seed_1.csv\",\n",
    "                 \"../data/two-rounds-opponents/clean_two_rounds_opponentslow_benefit_seed_2.csv\",\n",
    "                 \"../data/two-rounds-opponents/clean_two_rounds_opponentslow_benefit_seed_3.csv\",\n",
    "                 \"../data/two-rounds-opponents/clean_two_rounds_opponentslow_benefit_seed_3.csv\",\n",
    "                 \"../data/two-rounds-opponents/clean_two_rounds_opponentslow_benefit_seed_4.csv\",\n",
    "                 \"../data/two-rounds-opponents/clean_two_rounds_opponentslow_benefit_seed_5.csv\",\n",
    "                 \"../data/two-rounds-opponents/clean_two_rounds_opponentslow_benefit_seed_6.csv\",\n",
    "                 \"../data/two-rounds-opponents/clean_two_rounds_opponentslow_benefit_seed_7.csv\",\n",
    "                 \"../data/two-rounds-opponents/clean_two_rounds_opponentslow_benefit_seed_8.csv\",\n",
    "                 \"../data/two-rounds-opponents/clean_two_rounds_opponentslow_benefit_seed_9.csv\",\n",
    "                 \"../data/two-rounds-opponents/clean_two_rounds_opponentslow_benefit_seed_10.csv\"]"
   ]
  },
  {
   "cell_type": "code",
   "execution_count": 9,
   "metadata": {},
   "outputs": [],
   "source": [
    "dfs = [pd.read_csv(file) for file in rnd_opp_files]"
   ]
  },
  {
   "cell_type": "code",
   "execution_count": 10,
   "metadata": {},
   "outputs": [],
   "source": [
    "df = pd.concat(dfs)"
   ]
  },
  {
   "cell_type": "code",
   "execution_count": 11,
   "metadata": {},
   "outputs": [],
   "source": [
    "df.to_csv(\"../data/clean_two_rounds_opponents.csv\")"
   ]
  },
  {
   "cell_type": "code",
   "execution_count": 19,
   "metadata": {},
   "outputs": [],
   "source": [
    "in_columns = [\n",
    "    \"y\",\n",
    "    \"p\",\n",
    "    \"q\",\n",
    "    \"average cooperation rate\",\n",
    "    \"average score\",\n",
    "    \"t\",\n",
    "]\n"
   ]
  },
  {
   "cell_type": "code",
   "execution_count": 12,
   "metadata": {},
   "outputs": [],
   "source": [
    "files = [\"../data/clean_expected.csv\", \n",
    "         \"../data/last-round/clean_last_round.csv\",\n",
    "         \"../data/clean_two_opponents.csv\",\n",
    "         \"../data/clean_sixteen_states_two_rounds.csv\",\n",
    "         \"../data/clean_two_rounds_opponents.csv\"]"
   ]
  },
  {
   "cell_type": "code",
   "execution_count": 65,
   "metadata": {},
   "outputs": [],
   "source": [
    "df = pd.read_csv(\"../data/clean_two_rounds_new.csv\")"
   ]
  },
  {
   "cell_type": "code",
   "execution_count": 66,
   "metadata": {},
   "outputs": [
    {
     "data": {
      "text/html": [
       "<div>\n",
       "<style scoped>\n",
       "    .dataframe tbody tr th:only-of-type {\n",
       "        vertical-align: middle;\n",
       "    }\n",
       "\n",
       "    .dataframe tbody tr th {\n",
       "        vertical-align: top;\n",
       "    }\n",
       "\n",
       "    .dataframe thead th {\n",
       "        text-align: right;\n",
       "    }\n",
       "</style>\n",
       "<table border=\"1\" class=\"dataframe\">\n",
       "  <thead>\n",
       "    <tr style=\"text-align: right;\">\n",
       "      <th></th>\n",
       "      <th>y</th>\n",
       "      <th>p</th>\n",
       "      <th>q</th>\n",
       "      <th>average cooperation rate</th>\n",
       "      <th>average score</th>\n",
       "      <th>t</th>\n",
       "      <th>frequencies</th>\n",
       "    </tr>\n",
       "  </thead>\n",
       "  <tbody>\n",
       "    <tr>\n",
       "      <th>0</th>\n",
       "      <td>0.00000</td>\n",
       "      <td>0.00000</td>\n",
       "      <td>0.000000</td>\n",
       "      <td>0.00000</td>\n",
       "      <td>0.0000</td>\n",
       "      <td>0.0</td>\n",
       "      <td>1416.0</td>\n",
       "    </tr>\n",
       "    <tr>\n",
       "      <th>1</th>\n",
       "      <td>0.61630</td>\n",
       "      <td>0.66936</td>\n",
       "      <td>0.037202</td>\n",
       "      <td>0.10207</td>\n",
       "      <td>1.8373</td>\n",
       "      <td>1416.0</td>\n",
       "      <td>7.0</td>\n",
       "    </tr>\n",
       "    <tr>\n",
       "      <th>2</th>\n",
       "      <td>0.88263</td>\n",
       "      <td>0.43744</td>\n",
       "      <td>0.834960</td>\n",
       "      <td>0.59632</td>\n",
       "      <td>10.7340</td>\n",
       "      <td>1423.0</td>\n",
       "      <td>17.0</td>\n",
       "    </tr>\n",
       "    <tr>\n",
       "      <th>3</th>\n",
       "      <td>0.29574</td>\n",
       "      <td>0.07468</td>\n",
       "      <td>0.293710</td>\n",
       "      <td>0.24047</td>\n",
       "      <td>4.3285</td>\n",
       "      <td>1440.0</td>\n",
       "      <td>58.0</td>\n",
       "    </tr>\n",
       "    <tr>\n",
       "      <th>4</th>\n",
       "      <td>0.55888</td>\n",
       "      <td>0.22585</td>\n",
       "      <td>0.104520</td>\n",
       "      <td>0.11899</td>\n",
       "      <td>2.1419</td>\n",
       "      <td>1498.0</td>\n",
       "      <td>184.0</td>\n",
       "    </tr>\n",
       "    <tr>\n",
       "      <th>...</th>\n",
       "      <td>...</td>\n",
       "      <td>...</td>\n",
       "      <td>...</td>\n",
       "      <td>...</td>\n",
       "      <td>...</td>\n",
       "      <td>...</td>\n",
       "      <td>...</td>\n",
       "    </tr>\n",
       "    <tr>\n",
       "      <th>36094</th>\n",
       "      <td>0.18493</td>\n",
       "      <td>0.98489</td>\n",
       "      <td>0.923340</td>\n",
       "      <td>0.98148</td>\n",
       "      <td>17.6670</td>\n",
       "      <td>9991100.0</td>\n",
       "      <td>0.0</td>\n",
       "    </tr>\n",
       "    <tr>\n",
       "      <th>36095</th>\n",
       "      <td>0.13535</td>\n",
       "      <td>0.32320</td>\n",
       "      <td>0.612670</td>\n",
       "      <td>0.47409</td>\n",
       "      <td>8.5336</td>\n",
       "      <td>9991100.0</td>\n",
       "      <td>0.0</td>\n",
       "    </tr>\n",
       "    <tr>\n",
       "      <th>36096</th>\n",
       "      <td>0.17604</td>\n",
       "      <td>0.93137</td>\n",
       "      <td>0.134080</td>\n",
       "      <td>0.65798</td>\n",
       "      <td>11.8440</td>\n",
       "      <td>9991100.0</td>\n",
       "      <td>0.0</td>\n",
       "    </tr>\n",
       "    <tr>\n",
       "      <th>36097</th>\n",
       "      <td>0.38035</td>\n",
       "      <td>0.98679</td>\n",
       "      <td>0.213840</td>\n",
       "      <td>0.93775</td>\n",
       "      <td>16.8800</td>\n",
       "      <td>9991100.0</td>\n",
       "      <td>400.0</td>\n",
       "    </tr>\n",
       "    <tr>\n",
       "      <th>36098</th>\n",
       "      <td>0.87936</td>\n",
       "      <td>0.99939</td>\n",
       "      <td>0.214130</td>\n",
       "      <td>0.99470</td>\n",
       "      <td>17.9050</td>\n",
       "      <td>9991500.0</td>\n",
       "      <td>8500.0</td>\n",
       "    </tr>\n",
       "  </tbody>\n",
       "</table>\n",
       "<p>36099 rows × 7 columns</p>\n",
       "</div>"
      ],
      "text/plain": [
       "             y        p         q  average cooperation rate  average score  \\\n",
       "0      0.00000  0.00000  0.000000                   0.00000         0.0000   \n",
       "1      0.61630  0.66936  0.037202                   0.10207         1.8373   \n",
       "2      0.88263  0.43744  0.834960                   0.59632        10.7340   \n",
       "3      0.29574  0.07468  0.293710                   0.24047         4.3285   \n",
       "4      0.55888  0.22585  0.104520                   0.11899         2.1419   \n",
       "...        ...      ...       ...                       ...            ...   \n",
       "36094  0.18493  0.98489  0.923340                   0.98148        17.6670   \n",
       "36095  0.13535  0.32320  0.612670                   0.47409         8.5336   \n",
       "36096  0.17604  0.93137  0.134080                   0.65798        11.8440   \n",
       "36097  0.38035  0.98679  0.213840                   0.93775        16.8800   \n",
       "36098  0.87936  0.99939  0.214130                   0.99470        17.9050   \n",
       "\n",
       "               t  frequencies  \n",
       "0            0.0       1416.0  \n",
       "1         1416.0          7.0  \n",
       "2         1423.0         17.0  \n",
       "3         1440.0         58.0  \n",
       "4         1498.0        184.0  \n",
       "...          ...          ...  \n",
       "36094  9991100.0          0.0  \n",
       "36095  9991100.0          0.0  \n",
       "36096  9991100.0          0.0  \n",
       "36097  9991100.0        400.0  \n",
       "36098  9991500.0       8500.0  \n",
       "\n",
       "[36099 rows x 7 columns]"
      ]
     },
     "execution_count": 66,
     "metadata": {},
     "output_type": "execute_result"
    }
   ],
   "source": [
    "df"
   ]
  },
  {
   "cell_type": "code",
   "execution_count": 67,
   "metadata": {},
   "outputs": [],
   "source": [
    "df = pd.read_csv(\"../data/clean_two_rounds_new.csv\")"
   ]
  },
  {
   "cell_type": "code",
   "execution_count": 68,
   "metadata": {},
   "outputs": [
    {
     "data": {
      "text/html": [
       "<div>\n",
       "<style scoped>\n",
       "    .dataframe tbody tr th:only-of-type {\n",
       "        vertical-align: middle;\n",
       "    }\n",
       "\n",
       "    .dataframe tbody tr th {\n",
       "        vertical-align: top;\n",
       "    }\n",
       "\n",
       "    .dataframe thead th {\n",
       "        text-align: right;\n",
       "    }\n",
       "</style>\n",
       "<table border=\"1\" class=\"dataframe\">\n",
       "  <thead>\n",
       "    <tr style=\"text-align: right;\">\n",
       "      <th></th>\n",
       "      <th>y</th>\n",
       "      <th>p</th>\n",
       "      <th>q</th>\n",
       "      <th>average cooperation rate</th>\n",
       "      <th>average score</th>\n",
       "      <th>t</th>\n",
       "      <th>frequencies</th>\n",
       "    </tr>\n",
       "  </thead>\n",
       "  <tbody>\n",
       "    <tr>\n",
       "      <th>0</th>\n",
       "      <td>0.00000</td>\n",
       "      <td>0.00000</td>\n",
       "      <td>0.000000</td>\n",
       "      <td>0.00000</td>\n",
       "      <td>0.0000</td>\n",
       "      <td>0.0</td>\n",
       "      <td>1416.0</td>\n",
       "    </tr>\n",
       "    <tr>\n",
       "      <th>1</th>\n",
       "      <td>0.61630</td>\n",
       "      <td>0.66936</td>\n",
       "      <td>0.037202</td>\n",
       "      <td>0.10207</td>\n",
       "      <td>1.8373</td>\n",
       "      <td>1416.0</td>\n",
       "      <td>7.0</td>\n",
       "    </tr>\n",
       "    <tr>\n",
       "      <th>2</th>\n",
       "      <td>0.88263</td>\n",
       "      <td>0.43744</td>\n",
       "      <td>0.834960</td>\n",
       "      <td>0.59632</td>\n",
       "      <td>10.7340</td>\n",
       "      <td>1423.0</td>\n",
       "      <td>17.0</td>\n",
       "    </tr>\n",
       "    <tr>\n",
       "      <th>3</th>\n",
       "      <td>0.29574</td>\n",
       "      <td>0.07468</td>\n",
       "      <td>0.293710</td>\n",
       "      <td>0.24047</td>\n",
       "      <td>4.3285</td>\n",
       "      <td>1440.0</td>\n",
       "      <td>58.0</td>\n",
       "    </tr>\n",
       "    <tr>\n",
       "      <th>4</th>\n",
       "      <td>0.55888</td>\n",
       "      <td>0.22585</td>\n",
       "      <td>0.104520</td>\n",
       "      <td>0.11899</td>\n",
       "      <td>2.1419</td>\n",
       "      <td>1498.0</td>\n",
       "      <td>184.0</td>\n",
       "    </tr>\n",
       "    <tr>\n",
       "      <th>...</th>\n",
       "      <td>...</td>\n",
       "      <td>...</td>\n",
       "      <td>...</td>\n",
       "      <td>...</td>\n",
       "      <td>...</td>\n",
       "      <td>...</td>\n",
       "      <td>...</td>\n",
       "    </tr>\n",
       "    <tr>\n",
       "      <th>36094</th>\n",
       "      <td>0.18493</td>\n",
       "      <td>0.98489</td>\n",
       "      <td>0.923340</td>\n",
       "      <td>0.98148</td>\n",
       "      <td>17.6670</td>\n",
       "      <td>9991100.0</td>\n",
       "      <td>0.0</td>\n",
       "    </tr>\n",
       "    <tr>\n",
       "      <th>36095</th>\n",
       "      <td>0.13535</td>\n",
       "      <td>0.32320</td>\n",
       "      <td>0.612670</td>\n",
       "      <td>0.47409</td>\n",
       "      <td>8.5336</td>\n",
       "      <td>9991100.0</td>\n",
       "      <td>0.0</td>\n",
       "    </tr>\n",
       "    <tr>\n",
       "      <th>36096</th>\n",
       "      <td>0.17604</td>\n",
       "      <td>0.93137</td>\n",
       "      <td>0.134080</td>\n",
       "      <td>0.65798</td>\n",
       "      <td>11.8440</td>\n",
       "      <td>9991100.0</td>\n",
       "      <td>0.0</td>\n",
       "    </tr>\n",
       "    <tr>\n",
       "      <th>36097</th>\n",
       "      <td>0.38035</td>\n",
       "      <td>0.98679</td>\n",
       "      <td>0.213840</td>\n",
       "      <td>0.93775</td>\n",
       "      <td>16.8800</td>\n",
       "      <td>9991100.0</td>\n",
       "      <td>400.0</td>\n",
       "    </tr>\n",
       "    <tr>\n",
       "      <th>36098</th>\n",
       "      <td>0.87936</td>\n",
       "      <td>0.99939</td>\n",
       "      <td>0.214130</td>\n",
       "      <td>0.99470</td>\n",
       "      <td>17.9050</td>\n",
       "      <td>9991500.0</td>\n",
       "      <td>8500.0</td>\n",
       "    </tr>\n",
       "  </tbody>\n",
       "</table>\n",
       "<p>36099 rows × 7 columns</p>\n",
       "</div>"
      ],
      "text/plain": [
       "             y        p         q  average cooperation rate  average score  \\\n",
       "0      0.00000  0.00000  0.000000                   0.00000         0.0000   \n",
       "1      0.61630  0.66936  0.037202                   0.10207         1.8373   \n",
       "2      0.88263  0.43744  0.834960                   0.59632        10.7340   \n",
       "3      0.29574  0.07468  0.293710                   0.24047         4.3285   \n",
       "4      0.55888  0.22585  0.104520                   0.11899         2.1419   \n",
       "...        ...      ...       ...                       ...            ...   \n",
       "36094  0.18493  0.98489  0.923340                   0.98148        17.6670   \n",
       "36095  0.13535  0.32320  0.612670                   0.47409         8.5336   \n",
       "36096  0.17604  0.93137  0.134080                   0.65798        11.8440   \n",
       "36097  0.38035  0.98679  0.213840                   0.93775        16.8800   \n",
       "36098  0.87936  0.99939  0.214130                   0.99470        17.9050   \n",
       "\n",
       "               t  frequencies  \n",
       "0            0.0       1416.0  \n",
       "1         1416.0          7.0  \n",
       "2         1423.0         17.0  \n",
       "3         1440.0         58.0  \n",
       "4         1498.0        184.0  \n",
       "...          ...          ...  \n",
       "36094  9991100.0          0.0  \n",
       "36095  9991100.0          0.0  \n",
       "36096  9991100.0          0.0  \n",
       "36097  9991100.0        400.0  \n",
       "36098  9991500.0       8500.0  \n",
       "\n",
       "[36099 rows x 7 columns]"
      ]
     },
     "execution_count": 68,
     "metadata": {},
     "output_type": "execute_result"
    }
   ],
   "source": [
    "df"
   ]
  },
  {
   "cell_type": "code",
   "execution_count": 69,
   "metadata": {},
   "outputs": [],
   "source": [
    "ps, qs = [], []\n",
    "for p, q, v in zip(df[\"p\"], df[\"q\"], df[\"frequencies\"]):\n",
    "    for _ in range(int(v)):\n",
    "        ps.append(p)\n",
    "        qs.append(q)\n",
    "\n",
    "heatmap, xedges, yedges = np.histogram2d(ps, qs, bins=19)\n",
    "\n",
    "extent = [xedges[0], xedges[-1], yedges[0], yedges[-1]]"
   ]
  },
  {
   "cell_type": "code",
   "execution_count": 70,
   "metadata": {},
   "outputs": [
    {
     "data": {
      "text/plain": [
       "0.8538133174796608"
      ]
     },
     "execution_count": 70,
     "metadata": {},
     "output_type": "execute_result"
    }
   ],
   "source": [
    "sum(df['average cooperation rate'] * (df['frequencies'] / sum(df['frequencies'])))\n",
    "\n"
   ]
  },
  {
   "cell_type": "code",
   "execution_count": 56,
   "metadata": {},
   "outputs": [
    {
     "data": {
      "image/png": "[encoded data removed]",
      "text/plain": [
       "<Figure size 1800x1080 with 6 Axes>"
      ]
     },
     "metadata": {
      "needs_background": "light"
     },
     "output_type": "display_data"
    }
   ],
   "source": [
    "fig, axes = plt.subplots(ncols=5, figsize=(25, 15))\n",
    "\n",
    "\n",
    "i =1\n",
    "\n",
    "im = axes[i].imshow(heatmap.T, extent=extent, origin=\"lower\", cmap=cmaps[i],\n",
    "                 norm=colors.LogNorm())\n",
    "\n",
    "divider = make_axes_locatable(axes[i])\n",
    "cax = divider.append_axes('right', size='5%', pad=0.05)\n",
    "fig.colorbar(im, cax=cax, orientation='vertical')\n",
    "\n",
    "\n",
    "# axes[i].set_xticks(np.linspace(0, 1, 2))\n",
    "# axes[i].set_yticks(np.linspace(0, 1, 2));\n",
    "# axes[i].set_xlabel(\"$p$\")\n",
    "# axes[i].set_ylabel(\"$q$\")\n",
    "\n",
    "# axes[i].set_title(titles[i])\n",
    "\n",
    "fig.tight_layout()\n",
    "\n",
    "\n",
    "\n",
    "# fig.savefig(\"../static/expected_and_stochastic_for_donation_game.pdf\", )"
   ]
  },
  {
   "cell_type": "markdown",
   "metadata": {},
   "source": [
    "## Analysis of the evolved population"
   ]
  },
  {
   "cell_type": "code",
   "execution_count": 13,
   "metadata": {},
   "outputs": [],
   "source": [
    "heatmaps = []\n",
    "extents = []\n",
    "dfs = []\n",
    "\n",
    "for file in files:\n",
    "    df = pd.read_csv(file)\n",
    "    ps, qs = [], []\n",
    "    for p, q, v in zip(df[\"p\"], df[\"q\"], df[\"frequencies\"]):\n",
    "        for _ in range(int(v)):\n",
    "            ps.append(p)\n",
    "            qs.append(q)\n",
    "            \n",
    "    heatmap, xedges, yedges = np.histogram2d(ps, qs, bins=19)\n",
    "\n",
    "    extent = [xedges[0], xedges[-1], yedges[0], yedges[-1]]\n",
    "    \n",
    "    heatmaps.append(heatmap)\n",
    "    extents.append(extent)\n",
    "    dfs.append(df)"
   ]
  },
  {
   "cell_type": "code",
   "execution_count": 14,
   "metadata": {},
   "outputs": [],
   "source": [
    "min_ = min([heatmap.min() for heatmap in heatmaps])\n",
    "\n",
    "max_ = max([heatmap.max() for heatmap in heatmaps])"
   ]
  },
  {
   "cell_type": "code",
   "execution_count": 15,
   "metadata": {},
   "outputs": [],
   "source": [
    "min_ = 1\n",
    "max_ = 1391629.0"
   ]
  },
  {
   "cell_type": "code",
   "execution_count": 16,
   "metadata": {},
   "outputs": [],
   "source": [
    "titles = [\"Perfect Memory Payoffs\",\n",
    "          \"Limited Memory Payoffs\" \"\\n\" \"(last round with one other player)\",\n",
    "          \"Limited Memory Payoffs\" \"\\n\" \"(last round with two other players)\",\n",
    "          \"Limited Memory Payoffs\" \"\\n\" \"(last two rounds with one other player)\",\n",
    "          \"Limited Memory Payoffs\" \"\\n\" \"(last two rounds with two other players)\"]"
   ]
  },
  {
   "cell_type": "code",
   "execution_count": 17,
   "metadata": {},
   "outputs": [
    {
     "data": {
      "image/png": "[encoded data removed]",
      "text/plain": [
       "<Figure size 1800x1080 with 10 Axes>"
      ]
     },
     "metadata": {
      "needs_background": "light"
     },
     "output_type": "display_data"
    }
   ],
   "source": [
    "fig, axes = plt.subplots(ncols=5, figsize=(25, 15))\n",
    "\n",
    "for i, heatmap in enumerate(heatmaps):\n",
    "\n",
    "    im = axes[i].imshow(heatmap.T, extent=extents[i], origin=\"lower\", cmap=cmaps[i],\n",
    "                     norm=colors.LogNorm(vmin=min_,vmax=max_))\n",
    "\n",
    "    divider = make_axes_locatable(axes[i])\n",
    "    cax = divider.append_axes('right', size='5%', pad=0.05)\n",
    "    fig.colorbar(im, cax=cax, orientation='vertical')\n",
    "    \n",
    "    \n",
    "    axes[i].set_xticks(np.linspace(0, 1, 2))\n",
    "    axes[i].set_yticks(np.linspace(0, 1, 2));\n",
    "    axes[i].set_xlabel(\"$p$\")\n",
    "    axes[i].set_ylabel(\"$q$\")\n",
    "    \n",
    "    axes[i].set_title(titles[i])\n",
    "\n",
    "fig.tight_layout()\n",
    "\n",
    "\n",
    "\n",
    "# fig.savefig(\"../static/expected_and_stochastic_for_donation_game.pdf\", )"
   ]
  },
  {
   "cell_type": "code",
   "execution_count": 18,
   "metadata": {},
   "outputs": [],
   "source": [
    "# fig, axes = plt.subplots(figsize=(15, 6.5));\n",
    "\n",
    "# height = [sum(df['average cooperation rate'] * (df['frequencies'] / sum(df['frequencies']))) for df in dfs]\n",
    "\n",
    "# x_pos = np.arange(len(titles))\n",
    "\n",
    "# axes.bar(x_pos, height, width=0.4, color=bar_colors);\n",
    "\n",
    "# axes.set_ylabel(\"cooperation rate\", weight=\"bold\", fontsize=12);\n",
    "\n",
    "# axes.set_ylim(0, 1);\n",
    "# axes.set_xticks([0, 1, 2, 3, 4]);\n",
    "# axes.set_xticklabels([titles[0], titles[1], titles[2], titles[3], titles[4]], fontsize=10, rotation=15);\n",
    "\n",
    "# for j, pos in enumerate([0, 1, 2, 3, 4]):\n",
    "#     axes.text(pos,\n",
    "#           height[j] + 0.05,\n",
    "#           f\"{round(height[j] * 100, 2)} %\",\n",
    "#           horizontalalignment='center',\n",
    "#           color=\"black\",\n",
    "#           weight='bold',\n",
    "#           fontsize=12\n",
    "#       )"
   ]
  },
  {
   "cell_type": "code",
   "execution_count": 19,
   "metadata": {},
   "outputs": [],
   "source": [
    "rnd_opp_files = [\"../data/two-rounds-opponents/clean_two_rounds_opponents_seed_1.csv\",\n",
    "                 \"../data/two-rounds-opponents/clean_two_rounds_opponents_seed_2.csv\",\n",
    "                 \"../data/two-rounds-opponents/clean_two_rounds_opponents_seed_3.csv\",\n",
    "                 \"../data/two-rounds-opponents/clean_two_rounds_opponents_seed_4.csv\",    \n",
    "                 \"../data/two-rounds-opponents/clean_two_rounds_opponents_seed_5.csv\",\n",
    "                 \"../data/two-rounds-opponents/clean_two_rounds_opponents_seed_6.csv\",\n",
    "                 \"../data/two-rounds-opponents/clean_two_rounds_opponents_seed_7.csv\",\n",
    "                 \"../data/two-rounds-opponents/clean_two_rounds_opponents_seed_8.csv\",\n",
    "                 \"../data/two-rounds-opponents/clean_two_rounds_opponents_seed_9.csv\",\n",
    "                 \"../data/two-rounds-opponents/clean_two_rounds_opponents_seed_10.csv\"]        "
   ]
  },
  {
   "cell_type": "code",
   "execution_count": 20,
   "metadata": {},
   "outputs": [],
   "source": [
    "dfs = [pd.read_csv(file) for file in rnd_opp_files]"
   ]
  },
  {
   "cell_type": "code",
   "execution_count": 21,
   "metadata": {},
   "outputs": [],
   "source": [
    "df = pd.concat(dfs)"
   ]
  },
  {
   "cell_type": "code",
   "execution_count": 22,
   "metadata": {},
   "outputs": [],
   "source": [
    "df.to_csv(\"../data/clean_two_rounds_opponents_high_benefit.csv\")"
   ]
  },
  {
   "cell_type": "code",
   "execution_count": 23,
   "metadata": {},
   "outputs": [],
   "source": [
    "files = [\"../data/clean_expected_b_10.csv\", \n",
    "         \"../matlab/data/stochastic/clean_c_1_b_10_stochastic_1.csv\",\n",
    "         \"../data/clean_two_opponents_b_10.csv\",\n",
    "         \"../data/clean_two_rounds_b_10.csv\",\n",
    "         \"../data/two-rounds-opponents/clean_two_rounds_opponents_seed_2.csv\"]"
   ]
  },
  {
   "cell_type": "code",
   "execution_count": 24,
   "metadata": {},
   "outputs": [],
   "source": [
    "heatmaps = []\n",
    "extents = []\n",
    "dfs = []\n",
    "\n",
    "for file in files:\n",
    "    df = pd.read_csv(file)\n",
    "    ps, qs = [], []\n",
    "    for p, q, v in zip(df[\"p\"], df[\"q\"], df[\"frequencies\"]):\n",
    "        for _ in range(int(v)):\n",
    "            ps.append(p)\n",
    "            qs.append(q)\n",
    "            \n",
    "    heatmap, xedges, yedges = np.histogram2d(ps, qs, bins=19)\n",
    "\n",
    "    extent = [xedges[0], xedges[-1], yedges[0], yedges[-1]]\n",
    "    \n",
    "    heatmaps.append(heatmap)\n",
    "    extents.append(extent)\n",
    "    dfs.append(df)"
   ]
  },
  {
   "cell_type": "code",
   "execution_count": 25,
   "metadata": {},
   "outputs": [
    {
     "data": {
      "image/png": "[encoded data removed]",
      "text/plain": [
       "<Figure size 1800x1080 with 10 Axes>"
      ]
     },
     "metadata": {
      "needs_background": "light"
     },
     "output_type": "display_data"
    }
   ],
   "source": [
    "fig, axes = plt.subplots(ncols=5, figsize=(25, 15))\n",
    "\n",
    "for i, heatmap in enumerate(heatmaps):\n",
    "\n",
    "    im = axes[i].imshow(heatmap.T, extent=extents[i], origin=\"lower\", cmap=cmaps[i],\n",
    "                     norm=colors.LogNorm(vmin=min_,vmax=max_))\n",
    "\n",
    "    divider = make_axes_locatable(axes[i])\n",
    "    cax = divider.append_axes('right', size='5%', pad=0.05)\n",
    "    fig.colorbar(im, cax=cax, orientation='vertical')\n",
    "    \n",
    "    \n",
    "    axes[i].set_xticks(np.linspace(0, 1, 2))\n",
    "    axes[i].set_yticks(np.linspace(0, 1, 2));\n",
    "    axes[i].set_xlabel(\"$p$\")\n",
    "    axes[i].set_ylabel(\"$q$\")\n",
    "    \n",
    "    axes[i].set_title(titles[i])\n",
    "\n",
    "fig.tight_layout()\n",
    "\n",
    "\n",
    "\n",
    "# fig.savefig(\"../static/expected_and_stochastic_for_donation_game.pdf\", )"
   ]
  },
  {
   "cell_type": "code",
   "execution_count": 63,
   "metadata": {},
   "outputs": [],
   "source": [
    "files = [\"../data/clean_expected_b_10.csv\", \n",
    "         \"../data/last-round/clean_last_round_b_10.csv\",\n",
    "         \"../data/clean_two_opponents_b_10.csv\",\n",
    "         \"../data/clean_two_rounds_b_10.csv\",\n",
    "         \"../data/clean_two_rounds_opponents_high_benefit.csv\"]"
   ]
  },
  {
   "cell_type": "code",
   "execution_count": 64,
   "metadata": {},
   "outputs": [
    {
     "ename": "FileNotFoundError",
     "evalue": "[Errno 2] No such file or directory: '../data/clean_expected_b_3.csv'",
     "output_type": "error",
     "traceback": [
      "\u001b[0;31m---------------------------------------------------------------------------\u001b[0m",
      "\u001b[0;31mFileNotFoundError\u001b[0m                         Traceback (most recent call last)",
      "\u001b[0;32m<ipython-input-64-e0b4860ef508>\u001b[0m in \u001b[0;36m<module>\u001b[0;34m\u001b[0m\n\u001b[0;32m----> 1\u001b[0;31m \u001b[0mdfs\u001b[0m \u001b[0;34m=\u001b[0m \u001b[0;34m[\u001b[0m\u001b[0mpd\u001b[0m\u001b[0;34m.\u001b[0m\u001b[0mread_csv\u001b[0m\u001b[0;34m(\u001b[0m\u001b[0mfile\u001b[0m\u001b[0;34m)\u001b[0m \u001b[0;32mfor\u001b[0m \u001b[0mfile\u001b[0m \u001b[0;32min\u001b[0m \u001b[0mfiles\u001b[0m\u001b[0;34m]\u001b[0m\u001b[0;34m\u001b[0m\u001b[0;34m\u001b[0m\u001b[0m\n\u001b[0m",
      "\u001b[0;32m<ipython-input-64-e0b4860ef508>\u001b[0m in \u001b[0;36m<listcomp>\u001b[0;34m(.0)\u001b[0m\n\u001b[0;32m----> 1\u001b[0;31m \u001b[0mdfs\u001b[0m \u001b[0;34m=\u001b[0m \u001b[0;34m[\u001b[0m\u001b[0mpd\u001b[0m\u001b[0;34m.\u001b[0m\u001b[0mread_csv\u001b[0m\u001b[0;34m(\u001b[0m\u001b[0mfile\u001b[0m\u001b[0;34m)\u001b[0m \u001b[0;32mfor\u001b[0m \u001b[0mfile\u001b[0m \u001b[0;32min\u001b[0m \u001b[0mfiles\u001b[0m\u001b[0;34m]\u001b[0m\u001b[0;34m\u001b[0m\u001b[0;34m\u001b[0m\u001b[0m\n\u001b[0m",
      "\u001b[0;32m~/opt/anaconda3/envs/stochastic-payoffs/lib/python3.7/site-packages/pandas/io/parsers.py\u001b[0m in \u001b[0;36mread_csv\u001b[0;34m(filepath_or_buffer, sep, delimiter, header, names, index_col, usecols, squeeze, prefix, mangle_dupe_cols, dtype, engine, converters, true_values, false_values, skipinitialspace, skiprows, skipfooter, nrows, na_values, keep_default_na, na_filter, verbose, skip_blank_lines, parse_dates, infer_datetime_format, keep_date_col, date_parser, dayfirst, cache_dates, iterator, chunksize, compression, thousands, decimal, lineterminator, quotechar, quoting, doublequote, escapechar, comment, encoding, dialect, error_bad_lines, warn_bad_lines, delim_whitespace, low_memory, memory_map, float_precision)\u001b[0m\n\u001b[1;32m    686\u001b[0m     )\n\u001b[1;32m    687\u001b[0m \u001b[0;34m\u001b[0m\u001b[0m\n\u001b[0;32m--> 688\u001b[0;31m     \u001b[0;32mreturn\u001b[0m \u001b[0m_read\u001b[0m\u001b[0;34m(\u001b[0m\u001b[0mfilepath_or_buffer\u001b[0m\u001b[0;34m,\u001b[0m \u001b[0mkwds\u001b[0m\u001b[0;34m)\u001b[0m\u001b[0;34m\u001b[0m\u001b[0;34m\u001b[0m\u001b[0m\n\u001b[0m\u001b[1;32m    689\u001b[0m \u001b[0;34m\u001b[0m\u001b[0m\n\u001b[1;32m    690\u001b[0m \u001b[0;34m\u001b[0m\u001b[0m\n",
      "\u001b[0;32m~/opt/anaconda3/envs/stochastic-payoffs/lib/python3.7/site-packages/pandas/io/parsers.py\u001b[0m in \u001b[0;36m_read\u001b[0;34m(filepath_or_buffer, kwds)\u001b[0m\n\u001b[1;32m    452\u001b[0m \u001b[0;34m\u001b[0m\u001b[0m\n\u001b[1;32m    453\u001b[0m     \u001b[0;31m# Create the parser.\u001b[0m\u001b[0;34m\u001b[0m\u001b[0;34m\u001b[0m\u001b[0;34m\u001b[0m\u001b[0m\n\u001b[0;32m--> 454\u001b[0;31m     \u001b[0mparser\u001b[0m \u001b[0;34m=\u001b[0m \u001b[0mTextFileReader\u001b[0m\u001b[0;34m(\u001b[0m\u001b[0mfp_or_buf\u001b[0m\u001b[0;34m,\u001b[0m \u001b[0;34m**\u001b[0m\u001b[0mkwds\u001b[0m\u001b[0;34m)\u001b[0m\u001b[0;34m\u001b[0m\u001b[0;34m\u001b[0m\u001b[0m\n\u001b[0m\u001b[1;32m    455\u001b[0m \u001b[0;34m\u001b[0m\u001b[0m\n\u001b[1;32m    456\u001b[0m     \u001b[0;32mif\u001b[0m \u001b[0mchunksize\u001b[0m \u001b[0;32mor\u001b[0m \u001b[0miterator\u001b[0m\u001b[0;34m:\u001b[0m\u001b[0;34m\u001b[0m\u001b[0;34m\u001b[0m\u001b[0m\n",
      "\u001b[0;32m~/opt/anaconda3/envs/stochastic-payoffs/lib/python3.7/site-packages/pandas/io/parsers.py\u001b[0m in \u001b[0;36m__init__\u001b[0;34m(self, f, engine, **kwds)\u001b[0m\n\u001b[1;32m    946\u001b[0m             \u001b[0mself\u001b[0m\u001b[0;34m.\u001b[0m\u001b[0moptions\u001b[0m\u001b[0;34m[\u001b[0m\u001b[0;34m\"has_index_names\"\u001b[0m\u001b[0;34m]\u001b[0m \u001b[0;34m=\u001b[0m \u001b[0mkwds\u001b[0m\u001b[0;34m[\u001b[0m\u001b[0;34m\"has_index_names\"\u001b[0m\u001b[0;34m]\u001b[0m\u001b[0;34m\u001b[0m\u001b[0;34m\u001b[0m\u001b[0m\n\u001b[1;32m    947\u001b[0m \u001b[0;34m\u001b[0m\u001b[0m\n\u001b[0;32m--> 948\u001b[0;31m         \u001b[0mself\u001b[0m\u001b[0;34m.\u001b[0m\u001b[0m_make_engine\u001b[0m\u001b[0;34m(\u001b[0m\u001b[0mself\u001b[0m\u001b[0;34m.\u001b[0m\u001b[0mengine\u001b[0m\u001b[0;34m)\u001b[0m\u001b[0;34m\u001b[0m\u001b[0;34m\u001b[0m\u001b[0m\n\u001b[0m\u001b[1;32m    949\u001b[0m \u001b[0;34m\u001b[0m\u001b[0m\n\u001b[1;32m    950\u001b[0m     \u001b[0;32mdef\u001b[0m \u001b[0mclose\u001b[0m\u001b[0;34m(\u001b[0m\u001b[0mself\u001b[0m\u001b[0;34m)\u001b[0m\u001b[0;34m:\u001b[0m\u001b[0;34m\u001b[0m\u001b[0;34m\u001b[0m\u001b[0m\n",
      "\u001b[0;32m~/opt/anaconda3/envs/stochastic-payoffs/lib/python3.7/site-packages/pandas/io/parsers.py\u001b[0m in \u001b[0;36m_make_engine\u001b[0;34m(self, engine)\u001b[0m\n\u001b[1;32m   1178\u001b[0m     \u001b[0;32mdef\u001b[0m \u001b[0m_make_engine\u001b[0m\u001b[0;34m(\u001b[0m\u001b[0mself\u001b[0m\u001b[0;34m,\u001b[0m \u001b[0mengine\u001b[0m\u001b[0;34m=\u001b[0m\u001b[0;34m\"c\"\u001b[0m\u001b[0;34m)\u001b[0m\u001b[0;34m:\u001b[0m\u001b[0;34m\u001b[0m\u001b[0;34m\u001b[0m\u001b[0m\n\u001b[1;32m   1179\u001b[0m         \u001b[0;32mif\u001b[0m \u001b[0mengine\u001b[0m \u001b[0;34m==\u001b[0m \u001b[0;34m\"c\"\u001b[0m\u001b[0;34m:\u001b[0m\u001b[0;34m\u001b[0m\u001b[0;34m\u001b[0m\u001b[0m\n\u001b[0;32m-> 1180\u001b[0;31m             \u001b[0mself\u001b[0m\u001b[0;34m.\u001b[0m\u001b[0m_engine\u001b[0m \u001b[0;34m=\u001b[0m \u001b[0mCParserWrapper\u001b[0m\u001b[0;34m(\u001b[0m\u001b[0mself\u001b[0m\u001b[0;34m.\u001b[0m\u001b[0mf\u001b[0m\u001b[0;34m,\u001b[0m \u001b[0;34m**\u001b[0m\u001b[0mself\u001b[0m\u001b[0;34m.\u001b[0m\u001b[0moptions\u001b[0m\u001b[0;34m)\u001b[0m\u001b[0;34m\u001b[0m\u001b[0;34m\u001b[0m\u001b[0m\n\u001b[0m\u001b[1;32m   1181\u001b[0m         \u001b[0;32melse\u001b[0m\u001b[0;34m:\u001b[0m\u001b[0;34m\u001b[0m\u001b[0;34m\u001b[0m\u001b[0m\n\u001b[1;32m   1182\u001b[0m             \u001b[0;32mif\u001b[0m \u001b[0mengine\u001b[0m \u001b[0;34m==\u001b[0m \u001b[0;34m\"python\"\u001b[0m\u001b[0;34m:\u001b[0m\u001b[0;34m\u001b[0m\u001b[0;34m\u001b[0m\u001b[0m\n",
      "\u001b[0;32m~/opt/anaconda3/envs/stochastic-payoffs/lib/python3.7/site-packages/pandas/io/parsers.py\u001b[0m in \u001b[0;36m__init__\u001b[0;34m(self, src, **kwds)\u001b[0m\n\u001b[1;32m   2008\u001b[0m         \u001b[0mkwds\u001b[0m\u001b[0;34m[\u001b[0m\u001b[0;34m\"usecols\"\u001b[0m\u001b[0;34m]\u001b[0m \u001b[0;34m=\u001b[0m \u001b[0mself\u001b[0m\u001b[0;34m.\u001b[0m\u001b[0musecols\u001b[0m\u001b[0;34m\u001b[0m\u001b[0;34m\u001b[0m\u001b[0m\n\u001b[1;32m   2009\u001b[0m \u001b[0;34m\u001b[0m\u001b[0m\n\u001b[0;32m-> 2010\u001b[0;31m         \u001b[0mself\u001b[0m\u001b[0;34m.\u001b[0m\u001b[0m_reader\u001b[0m \u001b[0;34m=\u001b[0m \u001b[0mparsers\u001b[0m\u001b[0;34m.\u001b[0m\u001b[0mTextReader\u001b[0m\u001b[0;34m(\u001b[0m\u001b[0msrc\u001b[0m\u001b[0;34m,\u001b[0m \u001b[0;34m**\u001b[0m\u001b[0mkwds\u001b[0m\u001b[0;34m)\u001b[0m\u001b[0;34m\u001b[0m\u001b[0;34m\u001b[0m\u001b[0m\n\u001b[0m\u001b[1;32m   2011\u001b[0m         \u001b[0mself\u001b[0m\u001b[0;34m.\u001b[0m\u001b[0munnamed_cols\u001b[0m \u001b[0;34m=\u001b[0m \u001b[0mself\u001b[0m\u001b[0;34m.\u001b[0m\u001b[0m_reader\u001b[0m\u001b[0;34m.\u001b[0m\u001b[0munnamed_cols\u001b[0m\u001b[0;34m\u001b[0m\u001b[0;34m\u001b[0m\u001b[0m\n\u001b[1;32m   2012\u001b[0m \u001b[0;34m\u001b[0m\u001b[0m\n",
      "\u001b[0;32mpandas/_libs/parsers.pyx\u001b[0m in \u001b[0;36mpandas._libs.parsers.TextReader.__cinit__\u001b[0;34m()\u001b[0m\n",
      "\u001b[0;32mpandas/_libs/parsers.pyx\u001b[0m in \u001b[0;36mpandas._libs.parsers.TextReader._setup_parser_source\u001b[0;34m()\u001b[0m\n",
      "\u001b[0;31mFileNotFoundError\u001b[0m: [Errno 2] No such file or directory: '../data/clean_expected_b_3.csv'"
     ]
    }
   ],
   "source": [
    "dfs = [pd.read_csv(file) for file in files]"
   ]
  },
  {
   "cell_type": "code",
   "execution_count": 9,
   "metadata": {},
   "outputs": [],
   "source": [
    "bar_colors = [cmap(0.7) for cmap in cmaps]"
   ]
  },
  {
   "cell_type": "code",
   "execution_count": 10,
   "metadata": {},
   "outputs": [
    {
     "data": {
      "text/plain": [
       "[(0.1791464821222607, 0.49287197231833907, 0.7354248366013072, 1.0),\n",
       " (0.8503344867358708, 0.14686658977316416, 0.13633217993079583, 1.0),\n",
       " (0.18246828143021915, 0.5933256439830834, 0.3067589388696655, 1.0),\n",
       " (0.4488427527873895, 0.3839600153787005, 0.6738792772010764, 1.0),\n",
       " (0.8871510957324106, 0.3320876585928489, 0.03104959630911188, 1.0)]"
      ]
     },
     "execution_count": 10,
     "metadata": {},
     "output_type": "execute_result"
    }
   ],
   "source": [
    "bar_colors"
   ]
  },
  {
   "cell_type": "code",
   "execution_count": 29,
   "metadata": {},
   "outputs": [
    {
     "data": {
      "image/png": "[encoded data removed]",
      "text/plain": [
       "<Figure size 1080x468 with 1 Axes>"
      ]
     },
     "metadata": {
      "needs_background": "light"
     },
     "output_type": "display_data"
    }
   ],
   "source": [
    "fig, axes = plt.subplots(figsize=(15, 6.5));\n",
    "\n",
    "height = [sum(df['average cooperation rate'] * (df['frequencies'] / sum(df['frequencies']))) for df in dfs]\n",
    "\n",
    "x_pos = np.arange(len(titles))\n",
    "\n",
    "axes.bar(x_pos, height, width=0.4, color=bar_colors);\n",
    "\n",
    "axes.set_ylabel(\"cooperation rate\", weight=\"bold\", fontsize=12);\n",
    "\n",
    "axes.set_ylim(0, 1.1);\n",
    "axes.set_xticks([0, 1, 2, 3, 4]);\n",
    "axes.set_xticklabels([titles[0], titles[1], titles[2], titles[3], titles[4]], fontsize=10, rotation=15);\n",
    "\n",
    "for j, pos in enumerate([0, 1, 2, 3, 4]):\n",
    "    axes.text(pos,\n",
    "          height[j] + 0.05,\n",
    "          f\"{round(height[j] * 100, 2)} %\",\n",
    "          horizontalalignment='center',\n",
    "          color=\"black\",\n",
    "          weight='bold',\n",
    "          fontsize=12\n",
    "      )\n",
    "    \n",
    "plt.savefig(\"../static/more_memory.pdf\", bbox_inches='tight')"
   ]
  },
  {
   "cell_type": "code",
   "execution_count": null,
   "metadata": {},
   "outputs": [],
   "source": []
  },
  {
   "cell_type": "code",
   "execution_count": null,
   "metadata": {},
   "outputs": [],
   "source": []
  },
  {
   "cell_type": "code",
   "execution_count": null,
   "metadata": {},
   "outputs": [],
   "source": []
  }
 ],
 "metadata": {
  "kernelspec": {
   "display_name": "stochastic-payoffs",
   "language": "python",
   "name": "stochastic-payoffs"
  },
  "language_info": {
   "codemirror_mode": {
    "name": "ipython",
    "version": 3
   },
   "file_extension": ".py",
   "mimetype": "text/x-python",
   "name": "python",
   "nbconvert_exporter": "python",
   "pygments_lexer": "ipython3",
   "version": "3.7.8"
  }
 },
 "nbformat": 4,
 "nbformat_minor": 4
}
