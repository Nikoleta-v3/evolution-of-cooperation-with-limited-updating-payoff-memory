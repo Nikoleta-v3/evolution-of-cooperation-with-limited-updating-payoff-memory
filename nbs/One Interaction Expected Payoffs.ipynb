{
 "cells": [
  {
   "cell_type": "code",
   "execution_count": 1,
   "id": "a5ae0f20",
   "metadata": {},
   "outputs": [],
   "source": [
    "import sympy as sym\n",
    "\n",
    "import numpy as np\n",
    "\n",
    "import evol_dynamics\n",
    "\n",
    "from sympy import mathematica_code"
   ]
  },
  {
   "cell_type": "code",
   "execution_count": 2,
   "id": "d536dd37",
   "metadata": {},
   "outputs": [],
   "source": [
    "def imitation_probability(utility_of_resident, utility_of_mutant, strength_of_selection):\n",
    "    return 1 / (\n",
    "        1\n",
    "        + sym.exp(\n",
    "            -strength_of_selection * (utility_of_mutant - utility_of_resident)\n",
    "        )\n",
    "    )"
   ]
  },
  {
   "cell_type": "code",
   "execution_count": 3,
   "id": "5ecf5233",
   "metadata": {},
   "outputs": [],
   "source": [
    "q = sym.symbols(\"q\")\n",
    "\n",
    "b, c, N, k, beta, delta = sym.symbols(\"b, c, N, k, beta, \\delta\")"
   ]
  },
  {
   "cell_type": "code",
   "execution_count": 4,
   "id": "fedc7b17",
   "metadata": {},
   "outputs": [],
   "source": [
    "alld = (0, 0, 0)\n",
    "\n",
    "gtft = (1, 1, q)"
   ]
  },
  {
   "cell_type": "code",
   "execution_count": 5,
   "id": "0c131599",
   "metadata": {},
   "outputs": [],
   "source": [
    "k = 1"
   ]
  },
  {
   "cell_type": "code",
   "execution_count": 6,
   "id": "82e6cf2b",
   "metadata": {},
   "outputs": [],
   "source": [
    "payoffs = np.array([b - c, -c, b, 0])\n",
    "\n",
    "stationary_RR = evol_dynamics.expected_distribution_last_round(gtft, gtft, delta)\n",
    "\n",
    "stationary_RM = evol_dynamics.expected_distribution_last_round(gtft, alld, delta)\n",
    "\n",
    "stationary_MR = evol_dynamics.expected_distribution_last_round(alld, gtft, delta)\n",
    "\n",
    "stationary_MM = evol_dynamics.expected_distribution_last_round(alld, alld, delta)"
   ]
  },
  {
   "cell_type": "markdown",
   "id": "5c57b2d5",
   "metadata": {},
   "source": [
    "The probability that the number of mutants increases or decreases by one is given by,\n",
    "\n",
    "\\begin{align}\n",
    "\\lambda^+ = & \\frac{1}{N -1} \\rho\\left(\\pi_R (S_R, S_M), \\pi_M (S_M, S_R)\\right) + \\frac{N -2}{N-1}[\\\\ \n",
    "& \\frac{(k - 1)(k - 2)}{(N-2)(N-3)} \\rho\\left(\\pi_R (S_R, S_M), \\pi_M (S_M, S_M)\\right) + \\\\\n",
    "& \\frac{(k - 1)(N - k - 1)}{(N-2)(N-3)} \\rho\\left(\\pi_R (S_R, S_M), \\pi_M (S_M, S_R)\\right) + \\\\\n",
    "& \\frac{(N - k - 1)(k - 1)}{(N-2)(N-3)} \\rho\\left(\\pi_R (S_R, S_R), \\pi_M (S_M, S_M)\\right) + \\\\\n",
    "& \\frac{(N - k - 1)(N - k - 2)}{(N-2)(N-3)} \\rho\\left(\\pi_R (S_R, S_R), \\pi_M (S_M, S_R)\\right)]\n",
    "\\end{align}\n",
    "\n",
    "\n",
    "\\begin{align}\n",
    "\\lambda^- = & \\frac{1}{N -1} \\rho\\left(\\pi_M (S_M, S_R), \\pi_R (S_R, S_M)\\right) + \\frac{N -2}{N-1}[\\\\ \n",
    "& \\frac{(k - 1)(k - 2)}{(N-2)(N-3)} \\rho\\left(\\pi_M (S_M, S_M), \\pi_R (S_R, S_M)\\right) + \\\\\n",
    "& \\frac{(k - 1)(N - k - 1)}{(N-2)(N-3)} \\rho\\left(\\pi_M (S_M, S_R), \\pi_R (S_R, S_M)\\right) + \\\\\n",
    "& \\frac{(N - k - 1)(k - 1)}{(N-2)(N-3)} \\rho\\left(\\pi_M (S_M, S_M), \\pi_R (S_R, S_R)\\right) + \\\\\n",
    "& \\frac{(N - k - 1)(N - k - 2)}{(N-2)(N-3)} \\rho\\left(\\pi_M (S_M, S_R), \\pi_R (S_R, S_R)\\right)]\n",
    "\\end{align}"
   ]
  },
  {
   "cell_type": "markdown",
   "id": "059327d6",
   "metadata": {},
   "source": [
    "In the case of 1 mutant ($k=1$),\n",
    "\n",
    "$$\\lambda^+ = \\frac{1}{N-1} \\rho\\left(\\pi_R (S_R, S_M), \\pi_M (S_M, S_R)\\right) +  \\frac{N -2}{N-1} \\rho\\left(\\pi_R (S_R, S_R), \\pi_M (S_M, S_R)\\right)$$\n",
    "\n",
    "$$\\lambda^- = \\frac{1}{N-1} \\rho\\left(\\pi_M (S_M, S_R), \\pi_R (S_R, S_M)\\right) +  \\frac{N -2}{N-1} \\rho\\left(\\pi_M (S_M, S_R), \\pi_R (S_R, S_R)\\right)$$"
   ]
  },
  {
   "cell_type": "code",
   "execution_count": 7,
   "id": "32943230",
   "metadata": {},
   "outputs": [],
   "source": [
    "pMM = (stationary_MM @ payoffs).factor()\n",
    "\n",
    "pMR = (stationary_MR @ payoffs).factor()\n",
    "\n",
    "pRR = (stationary_RR @ payoffs).factor()\n",
    "\n",
    "pRM = (stationary_RM @ payoffs).factor()"
   ]
  },
  {
   "cell_type": "code",
   "execution_count": 8,
   "id": "d7c27a3a",
   "metadata": {},
   "outputs": [
    {
     "name": "stdout",
     "output_type": "stream",
     "text": [
      "- c \\left(\\delta \\left(q - 1\\right) + 1\\right)\n"
     ]
    }
   ],
   "source": [
    "print(sym.latex(pRM.collect(delta)))"
   ]
  },
  {
   "cell_type": "code",
   "execution_count": 32,
   "id": "4975e6af",
   "metadata": {},
   "outputs": [],
   "source": [
    "laplus = (1 / (N - 1) * imitation_probability(pRM, pMR, beta) + ((N - 2) / (N - 1)/ (N - 2) / (N - 3)) * (\n",
    "         (k - 1) * (k - 2) * imitation_probability(pRM, pMM, beta) +\n",
    "         (k - 1) * (N - k - 1) * imitation_probability(pRM, pMR, beta) + \n",
    "         (N - k - 1) * (k - 1) * imitation_probability(pRR, pMM, beta) +\n",
    "         (N - k - 1) * (N - k - 2) * imitation_probability(pRR, pMR, beta)))"
   ]
  },
  {
   "cell_type": "code",
   "execution_count": 33,
   "id": "c84ebae5",
   "metadata": {},
   "outputs": [],
   "source": [
    "lminus = (1 / (N - 1) * imitation_probability(pMR, pRM, beta) + ((N - 2) / (N - 1)/ (N - 2) / (N - 3)) * (\n",
    "         (k - 1) * (k - 2) * imitation_probability(pMM, pRM, beta) +\n",
    "         (k - 1) * (N - k - 1) * imitation_probability(pMR, pRM, beta) + \n",
    "         (N - k - 1) * (k - 1) * imitation_probability(pMM, pRR, beta) +\n",
    "         (N - k - 1) * (N - k - 2) * imitation_probability(pMR, pRR, beta)))"
   ]
  },
  {
   "cell_type": "code",
   "execution_count": 34,
   "id": "fd6f139c",
   "metadata": {},
   "outputs": [],
   "source": [
    "ratio =  lminus / laplus"
   ]
  },
  {
   "cell_type": "code",
   "execution_count": 35,
   "id": "59bfe317",
   "metadata": {},
   "outputs": [
    {
     "data": {
      "text/latex": [
       "$\\displaystyle \\frac{\\frac{N - 2}{\\left(1 + e^{- \\beta \\left(- b \\left(\\delta q - \\delta + 1\\right) + b - c\\right)}\\right) \\left(N - 1\\right)} + \\frac{1}{\\left(1 + e^{- \\beta \\left(- b \\left(\\delta q - \\delta + 1\\right) - c \\left(\\delta q - \\delta + 1\\right)\\right)}\\right) \\left(N - 1\\right)}}{\\frac{N - 2}{\\left(1 + e^{- \\beta \\left(b \\left(\\delta q - \\delta + 1\\right) - b + c\\right)}\\right) \\left(N - 1\\right)} + \\frac{1}{\\left(1 + e^{- \\beta \\left(b \\left(\\delta q - \\delta + 1\\right) + c \\left(\\delta q - \\delta + 1\\right)\\right)}\\right) \\left(N - 1\\right)}}$"
      ],
      "text/plain": [
       "((N - 2)/((1 + exp(-beta*(-b*(\\delta*q - \\delta + 1) + b - c)))*(N - 1)) + 1/((1 + exp(-beta*(-b*(\\delta*q - \\delta + 1) - c*(\\delta*q - \\delta + 1))))*(N - 1)))/((N - 2)/((1 + exp(-beta*(b*(\\delta*q - \\delta + 1) - b + c)))*(N - 1)) + 1/((1 + exp(-beta*(b*(\\delta*q - \\delta + 1) + c*(\\delta*q - \\delta + 1))))*(N - 1)))"
      ]
     },
     "execution_count": 35,
     "metadata": {},
     "output_type": "execute_result"
    }
   ],
   "source": [
    "ratio"
   ]
  },
  {
   "cell_type": "code",
   "execution_count": 46,
   "id": "e037a92a",
   "metadata": {},
   "outputs": [
    {
     "name": "stdout",
     "output_type": "stream",
     "text": [
      "\\left(b + c\\right) \\left(\\delta q - \\delta + 1\\right)\n"
     ]
    }
   ],
   "source": [
    "print(sym.latex((pMR - pRM).factor()))"
   ]
  },
  {
   "cell_type": "code",
   "execution_count": 53,
   "id": "1e0f1152",
   "metadata": {},
   "outputs": [
    {
     "name": "stdout",
     "output_type": "stream",
     "text": [
      "\\beta \\left(b \\left(\\delta q - \\delta\\right) + c\\right)\n"
     ]
    }
   ],
   "source": [
    "print(sym.latex(((pRR - pMR).factor() * - beta).factor().collect(b)))"
   ]
  },
  {
   "cell_type": "code",
   "execution_count": 54,
   "id": "ac136bc2",
   "metadata": {},
   "outputs": [
    {
     "name": "stdout",
     "output_type": "stream",
     "text": [
      "- \\beta \\left(b \\left(\\delta q - \\delta\\right) + c\\right)\n"
     ]
    }
   ],
   "source": [
    "print(sym.latex(((pMR - pRR).factor() * - beta).factor().collect(b)))"
   ]
  },
  {
   "cell_type": "code",
   "execution_count": 19,
   "id": "618221a3",
   "metadata": {},
   "outputs": [
    {
     "name": "stdout",
     "output_type": "stream",
     "text": [
      "\\frac{\\frac{N - 2}{\\left(1 + e^{- \\beta \\left(- b \\left(\\delta q - \\delta + 1\\right) + b - c\\right)}\\right) \\left(N - 1\\right)} + \\frac{1}{\\left(1 + e^{- \\beta \\left(- b \\left(\\delta q - \\delta + 1\\right) - c \\left(\\delta q - \\delta + 1\\right)\\right)}\\right) \\left(N - 1\\right)}}{\\frac{N - 2}{\\left(1 + e^{- \\beta \\left(b \\left(\\delta q - \\delta + 1\\right) - b + c\\right)}\\right) \\left(N - 1\\right)} + \\frac{1}{\\left(1 + e^{- \\beta \\left(b \\left(\\delta q - \\delta + 1\\right) + c \\left(\\delta q - \\delta + 1\\right)\\right)}\\right) \\left(N - 1\\right)}}\n"
     ]
    }
   ],
   "source": [
    "print(sym.latex(ratio))"
   ]
  },
  {
   "cell_type": "code",
   "execution_count": 12,
   "id": "adabcb52",
   "metadata": {},
   "outputs": [
    {
     "data": {
      "text/latex": [
       "$\\displaystyle \\frac{e^{- \\delta b \\beta q + \\delta b \\beta - \\beta c} + 1}{e^{\\delta b \\beta q - \\delta b \\beta + \\beta c} + 1}$"
      ],
      "text/plain": [
       "(exp(-\\delta*b*beta*q + \\delta*b*beta - beta*c) + 1)/(exp(\\delta*b*beta*q - \\delta*b*beta + beta*c) + 1)"
      ]
     },
     "execution_count": 12,
     "metadata": {},
     "output_type": "execute_result"
    }
   ],
   "source": [
    "sym.nsimplify(sym.limit(ratio, N, sym.oo))"
   ]
  },
  {
   "cell_type": "code",
   "execution_count": 13,
   "id": "0a458459",
   "metadata": {},
   "outputs": [],
   "source": [
    "writen =  (1 + sym.exp(-beta * (b *(delta * q - delta) + c))) / (1 + sym.exp(beta * (b *(delta * q - delta) + c)))"
   ]
  },
  {
   "cell_type": "code",
   "execution_count": 37,
   "id": "339aafee",
   "metadata": {},
   "outputs": [
    {
     "data": {
      "text/latex": [
       "$\\displaystyle \\frac{1 + e^{- \\beta \\left(b \\left(\\delta q - \\delta\\right) + c\\right)}}{e^{\\beta \\left(b \\left(\\delta q - \\delta\\right) + c\\right)} + 1}$"
      ],
      "text/plain": [
       "(1 + exp(-beta*(b*(\\delta*q - \\delta) + c)))/(exp(beta*(b*(\\delta*q - \\delta) + c)) + 1)"
      ]
     },
     "execution_count": 37,
     "metadata": {},
     "output_type": "execute_result"
    }
   ],
   "source": [
    "writen"
   ]
  },
  {
   "cell_type": "code",
   "execution_count": 14,
   "id": "f6979cdb",
   "metadata": {},
   "outputs": [
    {
     "data": {
      "text/latex": [
       "$\\displaystyle 0$"
      ],
      "text/plain": [
       "0"
      ]
     },
     "execution_count": 14,
     "metadata": {},
     "output_type": "execute_result"
    }
   ],
   "source": [
    "(writen - sym.nsimplify(sym.limit(ratio, N, sym.oo))).factor()"
   ]
  },
  {
   "cell_type": "code",
   "execution_count": 38,
   "id": "80d57279",
   "metadata": {},
   "outputs": [
    {
     "name": "stdout",
     "output_type": "stream",
     "text": [
      "\\frac{1 + e^{- \\beta \\left(b \\left(\\delta q - \\delta\\right) + c\\right)}}{e^{\\beta \\left(b \\left(\\delta q - \\delta\\right) + c\\right)} + 1}\n"
     ]
    }
   ],
   "source": [
    "print(sym.latex(writen))"
   ]
  },
  {
   "cell_type": "code",
   "execution_count": 41,
   "id": "4de7a860",
   "metadata": {},
   "outputs": [
    {
     "data": {
      "text/latex": [
       "$\\displaystyle 0$"
      ],
      "text/plain": [
       "0"
      ]
     },
     "execution_count": 41,
     "metadata": {},
     "output_type": "execute_result"
    }
   ],
   "source": [
    "sym.limit(1 / (N -1), N, sym.oo)"
   ]
  },
  {
   "cell_type": "markdown",
   "id": "aecb91d5",
   "metadata": {},
   "source": [
    "**Data**"
   ]
  },
  {
   "cell_type": "code",
   "execution_count": 1,
   "id": "c8684842",
   "metadata": {},
   "outputs": [],
   "source": [
    "import pandas as pd"
   ]
  },
  {
   "cell_type": "code",
   "execution_count": 8,
   "id": "4aebc35a",
   "metadata": {},
   "outputs": [],
   "source": [
    "dfh = pd.read_csv(\"../to_archieve/clean_test_high_benefit_one.csv\")"
   ]
  },
  {
   "cell_type": "code",
   "execution_count": 9,
   "id": "b27f4d6b",
   "metadata": {},
   "outputs": [],
   "source": [
    "dfl = pd.read_csv(\"../to_archieve/clean_test_low_benefit_one.csv\")"
   ]
  },
  {
   "cell_type": "code",
   "execution_count": 10,
   "id": "6363c065",
   "metadata": {},
   "outputs": [
    {
     "data": {
      "text/plain": [
       "[0.51, 0.96]"
      ]
     },
     "execution_count": 10,
     "metadata": {},
     "output_type": "execute_result"
    }
   ],
   "source": [
    "[round(sum(df['average cooperation rate'] * (df['frequencies'] / 10 ** 7)), 2) for df in [dfl, dfh]]"
   ]
  },
  {
   "cell_type": "code",
   "execution_count": 8,
   "id": "60e19593",
   "metadata": {},
   "outputs": [
    {
     "data": {
      "text/plain": [
       "0.96"
      ]
     },
     "execution_count": 8,
     "metadata": {},
     "output_type": "execute_result"
    }
   ],
   "source": [
    "round(sum(df['average cooperation rate'] * (df['frequencies'] / 10 ** 7)), 2) "
   ]
  },
  {
   "cell_type": "code",
   "execution_count": 49,
   "id": "56b93566",
   "metadata": {},
   "outputs": [],
   "source": [
    "dflow = pd.read_csv(\"../to_archieve/clean_two_rounds_low_benefit_fix.csv\")"
   ]
  },
  {
   "cell_type": "code",
   "execution_count": 51,
   "id": "b9fdbf02",
   "metadata": {},
   "outputs": [
    {
     "data": {
      "text/plain": [
       "0.48966094409735694"
      ]
     },
     "execution_count": 51,
     "metadata": {},
     "output_type": "execute_result"
    }
   ],
   "source": [
    "sum(dflow['average cooperation rate'] * (dflow['frequencies'] / 10 ** 7))"
   ]
  },
  {
   "cell_type": "code",
   "execution_count": 98,
   "id": "1708a54f",
   "metadata": {},
   "outputs": [],
   "source": [
    "c = 1\n",
    "b = 3\n",
    "delta = 0.999"
   ]
  },
  {
   "cell_type": "code",
   "execution_count": 99,
   "id": "23cf984d",
   "metadata": {},
   "outputs": [
    {
     "data": {
      "text/plain": [
       "0.8887776665554443"
      ]
     },
     "execution_count": 99,
     "metadata": {},
     "output_type": "execute_result"
    }
   ],
   "source": [
    "1 - c / (9 * delta)"
   ]
  },
  {
   "cell_type": "code",
   "execution_count": 100,
   "id": "4aad56e2",
   "metadata": {},
   "outputs": [],
   "source": [
    "dfhigh = pd.read_csv(\"../to_archieve/clean_one_interaction_high_benefit.csv\")"
   ]
  },
  {
   "cell_type": "code",
   "execution_count": 101,
   "id": "8243fe21",
   "metadata": {},
   "outputs": [
    {
     "data": {
      "text/plain": [
       "0.9607213402300009"
      ]
     },
     "execution_count": 101,
     "metadata": {},
     "output_type": "execute_result"
    }
   ],
   "source": [
    "sum(dfhigh['average cooperation rate'] * (dfhigh['frequencies'] / 10 ** 7))"
   ]
  },
  {
   "cell_type": "markdown",
   "id": "ec747a60",
   "metadata": {},
   "source": [
    "**Plotting**"
   ]
  },
  {
   "cell_type": "code",
   "execution_count": 113,
   "id": "f0030dcf",
   "metadata": {},
   "outputs": [],
   "source": [
    "import matplotlib.pyplot as plt\n",
    "\n",
    "import matplotlib\n",
    "\n",
    "import matplotlib.colors as colors\n",
    "\n",
    "from mpl_toolkits.axes_grid1 import make_axes_locatable"
   ]
  },
  {
   "cell_type": "code",
   "execution_count": 103,
   "id": "4921a397",
   "metadata": {},
   "outputs": [],
   "source": [
    "heatmaps, extents = [], []\n",
    "    \n",
    "for df in [dflow, dfhigh]:\n",
    "\n",
    "    ps, qs = [], []\n",
    "    for p, q, v in zip(df[\"p\"], df[\"q\"], df[\"frequencies\"]):\n",
    "        for _ in range(int(v)):\n",
    "            ps.append(p)\n",
    "            qs.append(q)\n",
    "\n",
    "\n",
    "    heatmap, xedges, yedges = np.histogram2d(ps, qs, bins=19)\n",
    "\n",
    "    extent = [xedges[0], xedges[-1], yedges[0], yedges[-1]]\n",
    "\n",
    "    heatmaps.append(heatmap)\n",
    "    extents.append(extent)"
   ]
  },
  {
   "cell_type": "code",
   "execution_count": 104,
   "id": "f1fbe276",
   "metadata": {},
   "outputs": [],
   "source": [
    "min_ = min([heatmap.min() for heatmap in heatmaps])\n",
    "\n",
    "max_ = max([heatmap.max() for heatmap in heatmaps])"
   ]
  },
  {
   "cell_type": "code",
   "execution_count": 114,
   "id": "57c43794",
   "metadata": {},
   "outputs": [
    {
     "data": {
      "image/png": "[encoded data removed]",
      "text/plain": [
       "<Figure size 800x750 with 4 Axes>"
      ]
     },
     "metadata": {},
     "output_type": "display_data"
    }
   ],
   "source": [
    "fig, axes = plt.subplots(ncols=2, nrows=1, figsize=(8, 7.5))\n",
    "\n",
    "\n",
    "cooperation_rates = [round(sum(df['average cooperation rate'] * (df['frequencies'] / 10 ** 7)), 2) \n",
    "                     for df in [dflow, dfhigh]]\n",
    "\n",
    "for i, heatmap in enumerate(heatmaps):\n",
    "    \n",
    "    index = (i % 2)\n",
    "\n",
    "    im = axes[index].imshow(heatmap.T, extent=extent, origin=\"lower\",\n",
    "                            cmap=matplotlib.cm.get_cmap(\"RdPu\"),\n",
    "                            norm=colors.LogNorm(vmin=min_, vmax=max_))\n",
    "\n",
    "    divider = make_axes_locatable(axes[index])\n",
    "    cax = divider.append_axes('right', size='5%', pad=0.05)\n",
    "    fig.colorbar(im, cax=cax, orientation='vertical')\n",
    "\n",
    "    axes[index].set_xticks(np.linspace(0, 1, 2))\n",
    "    axes[index].set_yticks(np.linspace(0, 1, 2));\n",
    "    axes[index].set_xlabel(\"$p$\")\n",
    "    axes[index].set_ylabel(\"$q$\")\n",
    "    \n",
    "    axes[index].text(0.45, 0.7, \"Cooperation rate \\n\" + str(cooperation_rates[i] * 100) + '%',\n",
    "                 horizontalalignment='center')\n",
    "\n",
    "\n",
    "fig.tight_layout();\n",
    "\n",
    "fig.subplots_adjust(left=None, bottom=None, right=None, top=None, wspace=.6, hspace=None)"
   ]
  }
 ],
 "metadata": {
  "kernelspec": {
   "display_name": "stochastic-payoffs",
   "language": "python",
   "name": "stochastic-payoffs"
  },
  "language_info": {
   "codemirror_mode": {
    "name": "ipython",
    "version": 3
   },
   "file_extension": ".py",
   "mimetype": "text/x-python",
   "name": "python",
   "nbconvert_exporter": "python",
   "pygments_lexer": "ipython3",
   "version": "3.7.9"
  }
 },
 "nbformat": 4,
 "nbformat_minor": 5
}
