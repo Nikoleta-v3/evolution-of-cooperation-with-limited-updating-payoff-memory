{
 "cells": [
  {
   "cell_type": "code",
   "execution_count": 1,
   "metadata": {},
   "outputs": [],
   "source": [
    "import warnings\n",
    "\n",
    "warnings.filterwarnings(\"ignore\")"
   ]
  },
  {
   "cell_type": "code",
   "execution_count": 2,
   "metadata": {},
   "outputs": [],
   "source": [
    "import evol_dynamics"
   ]
  },
  {
   "cell_type": "code",
   "execution_count": 3,
   "metadata": {},
   "outputs": [],
   "source": [
    "import matplotlib.pyplot as plt\n",
    "import matplotlib\n",
    "\n",
    "from mpl_toolkits.axes_grid1 import make_axes_locatable"
   ]
  },
  {
   "cell_type": "code",
   "execution_count": 4,
   "metadata": {},
   "outputs": [],
   "source": [
    "import glob\n",
    "\n",
    "import itertools\n",
    "\n",
    "import pandas as pd\n",
    "import dask.dataframe as dd\n",
    "import numpy as np"
   ]
  },
  {
   "cell_type": "code",
   "execution_count": 35,
   "metadata": {},
   "outputs": [],
   "source": [
    "import tqdm"
   ]
  },
  {
   "cell_type": "markdown",
   "metadata": {},
   "source": [
    "**Measures to understand the population**"
   ]
  },
  {
   "cell_type": "markdown",
   "metadata": {},
   "source": [
    "- cooperating ratio between the fixed residents?\n",
    "- number of fixed mutants\n",
    "- time until the first fixed mutant\n",
    "- time until the first fixed mutant for other initial residents"
   ]
  },
  {
   "cell_type": "markdown",
   "metadata": {},
   "source": [
    "**Up to five opponents and interactions**"
   ]
  },
  {
   "cell_type": "code",
   "execution_count": 5,
   "metadata": {},
   "outputs": [],
   "source": [
    "import glob\n",
    "\n",
    "def read_data_sets(path, num_opponents, resident):\n",
    "\n",
    "\n",
    "    \n",
    "    files = glob.glob(f\"data/simulations_up_to_five/*{resident}.csv\")\n",
    "\n",
    "    dfs = [pd.read_csv(file, header=None) for file in files]\n",
    "\n",
    "    df = pd.concat(dfs)\n",
    "    df.columns = columns\n",
    "    \n",
    "    data = df[['$y_1$', '$p_1$', '$q_1$']].values\n",
    "\n",
    "    cooperation_rates = [get_cooperation_rate(row, delta=0.999) for row in data]\n",
    "    df['cooperation rate'] = cooperation_rates\n",
    "    \n",
    "    return df"
   ]
  },
  {
   "cell_type": "code",
   "execution_count": 6,
   "metadata": {},
   "outputs": [],
   "source": [
    "def get_cooperation_rate(player, delta):\n",
    "    state = evol_dynamics.expected_distribution_last_round(player, player, delta)\n",
    "    \n",
    "    return state[0] +  state[1]"
   ]
  },
  {
   "cell_type": "markdown",
   "metadata": {},
   "source": [
    "**ALLD is the resident**"
   ]
  },
  {
   "cell_type": "code",
   "execution_count": 28,
   "metadata": {},
   "outputs": [],
   "source": [
    "files = glob.glob(f\"data/simulations_up_to_five/*GTFT.csv\")"
   ]
  },
  {
   "cell_type": "code",
   "execution_count": 29,
   "metadata": {},
   "outputs": [],
   "source": [
    "dfs = [pd.read_csv(file, header=None) for file in files]"
   ]
  },
  {
   "cell_type": "code",
   "execution_count": 30,
   "metadata": {},
   "outputs": [],
   "source": [
    "df = pd.concat(dfs)"
   ]
  },
  {
   "cell_type": "code",
   "execution_count": 36,
   "metadata": {},
   "outputs": [
    {
     "data": {
      "text/html": [
       "<div>\n",
       "<style scoped>\n",
       "    .dataframe tbody tr th:only-of-type {\n",
       "        vertical-align: middle;\n",
       "    }\n",
       "\n",
       "    .dataframe tbody tr th {\n",
       "        vertical-align: top;\n",
       "    }\n",
       "\n",
       "    .dataframe thead th {\n",
       "        text-align: right;\n",
       "    }\n",
       "</style>\n",
       "<table border=\"1\" class=\"dataframe\">\n",
       "  <thead>\n",
       "    <tr style=\"text-align: right;\">\n",
       "      <th></th>\n",
       "      <th>timestep</th>\n",
       "      <th>$y_1$</th>\n",
       "      <th>$p_1$</th>\n",
       "      <th>$q_1$</th>\n",
       "      <th>$y_2$</th>\n",
       "      <th>$p_2$</th>\n",
       "      <th>$q_2$</th>\n",
       "      <th>resident count</th>\n",
       "      <th>mutant count</th>\n",
       "      <th>num of interactions</th>\n",
       "      <th>num of opponents</th>\n",
       "      <th>N</th>\n",
       "      <th>delta</th>\n",
       "      <th>strength_of_selection</th>\n",
       "    </tr>\n",
       "  </thead>\n",
       "  <tbody>\n",
       "    <tr>\n",
       "      <th>0</th>\n",
       "      <td>1</td>\n",
       "      <td>0.333333</td>\n",
       "      <td>0.333333</td>\n",
       "      <td>0.333333</td>\n",
       "      <td>0.548814</td>\n",
       "      <td>0.715189</td>\n",
       "      <td>0.602763</td>\n",
       "      <td>98</td>\n",
       "      <td>2</td>\n",
       "      <td>5</td>\n",
       "      <td>4</td>\n",
       "      <td>100</td>\n",
       "      <td>0.999</td>\n",
       "      <td>1</td>\n",
       "    </tr>\n",
       "    <tr>\n",
       "      <th>1</th>\n",
       "      <td>2</td>\n",
       "      <td>0.333333</td>\n",
       "      <td>0.333333</td>\n",
       "      <td>0.333333</td>\n",
       "      <td>0.548814</td>\n",
       "      <td>0.715189</td>\n",
       "      <td>0.602763</td>\n",
       "      <td>97</td>\n",
       "      <td>3</td>\n",
       "      <td>5</td>\n",
       "      <td>4</td>\n",
       "      <td>100</td>\n",
       "      <td>0.999</td>\n",
       "      <td>1</td>\n",
       "    </tr>\n",
       "    <tr>\n",
       "      <th>2</th>\n",
       "      <td>3</td>\n",
       "      <td>0.333333</td>\n",
       "      <td>0.333333</td>\n",
       "      <td>0.333333</td>\n",
       "      <td>0.548814</td>\n",
       "      <td>0.715189</td>\n",
       "      <td>0.602763</td>\n",
       "      <td>96</td>\n",
       "      <td>4</td>\n",
       "      <td>5</td>\n",
       "      <td>4</td>\n",
       "      <td>100</td>\n",
       "      <td>0.999</td>\n",
       "      <td>1</td>\n",
       "    </tr>\n",
       "    <tr>\n",
       "      <th>3</th>\n",
       "      <td>4</td>\n",
       "      <td>0.333333</td>\n",
       "      <td>0.333333</td>\n",
       "      <td>0.333333</td>\n",
       "      <td>0.548814</td>\n",
       "      <td>0.715189</td>\n",
       "      <td>0.602763</td>\n",
       "      <td>97</td>\n",
       "      <td>3</td>\n",
       "      <td>5</td>\n",
       "      <td>4</td>\n",
       "      <td>100</td>\n",
       "      <td>0.999</td>\n",
       "      <td>1</td>\n",
       "    </tr>\n",
       "    <tr>\n",
       "      <th>4</th>\n",
       "      <td>5</td>\n",
       "      <td>0.333333</td>\n",
       "      <td>0.333333</td>\n",
       "      <td>0.333333</td>\n",
       "      <td>0.548814</td>\n",
       "      <td>0.715189</td>\n",
       "      <td>0.602763</td>\n",
       "      <td>96</td>\n",
       "      <td>4</td>\n",
       "      <td>5</td>\n",
       "      <td>4</td>\n",
       "      <td>100</td>\n",
       "      <td>0.999</td>\n",
       "      <td>1</td>\n",
       "    </tr>\n",
       "  </tbody>\n",
       "</table>\n",
       "</div>"
      ],
      "text/plain": [
       "   timestep     $y_1$     $p_1$     $q_1$     $y_2$     $p_2$     $q_2$  \\\n",
       "0         1  0.333333  0.333333  0.333333  0.548814  0.715189  0.602763   \n",
       "1         2  0.333333  0.333333  0.333333  0.548814  0.715189  0.602763   \n",
       "2         3  0.333333  0.333333  0.333333  0.548814  0.715189  0.602763   \n",
       "3         4  0.333333  0.333333  0.333333  0.548814  0.715189  0.602763   \n",
       "4         5  0.333333  0.333333  0.333333  0.548814  0.715189  0.602763   \n",
       "\n",
       "   resident count  mutant count  num of interactions  num of opponents    N  \\\n",
       "0              98             2                    5                 4  100   \n",
       "1              97             3                    5                 4  100   \n",
       "2              96             4                    5                 4  100   \n",
       "3              97             3                    5                 4  100   \n",
       "4              96             4                    5                 4  100   \n",
       "\n",
       "   delta  strength_of_selection  \n",
       "0  0.999                      1  \n",
       "1  0.999                      1  \n",
       "2  0.999                      1  \n",
       "3  0.999                      1  \n",
       "4  0.999                      1  "
      ]
     },
     "execution_count": 36,
     "metadata": {},
     "output_type": "execute_result"
    }
   ],
   "source": [
    "df.head()"
   ]
  },
  {
   "cell_type": "code",
   "execution_count": 37,
   "metadata": {},
   "outputs": [
    {
     "data": {
      "text/html": [
       "<div>\n",
       "<style scoped>\n",
       "    .dataframe tbody tr th:only-of-type {\n",
       "        vertical-align: middle;\n",
       "    }\n",
       "\n",
       "    .dataframe tbody tr th {\n",
       "        vertical-align: top;\n",
       "    }\n",
       "\n",
       "    .dataframe thead th {\n",
       "        text-align: right;\n",
       "    }\n",
       "</style>\n",
       "<table border=\"1\" class=\"dataframe\">\n",
       "  <thead>\n",
       "    <tr style=\"text-align: right;\">\n",
       "      <th></th>\n",
       "      <th>timestep</th>\n",
       "      <th>$y_1$</th>\n",
       "      <th>$p_1$</th>\n",
       "      <th>$q_1$</th>\n",
       "      <th>$y_2$</th>\n",
       "      <th>$p_2$</th>\n",
       "      <th>$q_2$</th>\n",
       "      <th>resident count</th>\n",
       "      <th>mutant count</th>\n",
       "      <th>num of interactions</th>\n",
       "      <th>num of opponents</th>\n",
       "      <th>N</th>\n",
       "      <th>delta</th>\n",
       "      <th>strength_of_selection</th>\n",
       "    </tr>\n",
       "  </thead>\n",
       "  <tbody>\n",
       "    <tr>\n",
       "      <th>4190129</th>\n",
       "      <td>4204672</td>\n",
       "      <td>0.587366</td>\n",
       "      <td>0.505799</td>\n",
       "      <td>0.696516</td>\n",
       "      <td>0.926205</td>\n",
       "      <td>0.564532</td>\n",
       "      <td>0.001327</td>\n",
       "      <td>37</td>\n",
       "      <td>63</td>\n",
       "      <td>4</td>\n",
       "      <td>2</td>\n",
       "      <td>100</td>\n",
       "      <td>0.999</td>\n",
       "      <td>1</td>\n",
       "    </tr>\n",
       "    <tr>\n",
       "      <th>4190130</th>\n",
       "      <td>4204673</td>\n",
       "      <td>0.587366</td>\n",
       "      <td>0.505799</td>\n",
       "      <td>0.696516</td>\n",
       "      <td>0.926205</td>\n",
       "      <td>0.564532</td>\n",
       "      <td>0.001327</td>\n",
       "      <td>36</td>\n",
       "      <td>64</td>\n",
       "      <td>4</td>\n",
       "      <td>2</td>\n",
       "      <td>100</td>\n",
       "      <td>0.999</td>\n",
       "      <td>1</td>\n",
       "    </tr>\n",
       "    <tr>\n",
       "      <th>4190131</th>\n",
       "      <td>4204674</td>\n",
       "      <td>0.587366</td>\n",
       "      <td>0.505799</td>\n",
       "      <td>0.696516</td>\n",
       "      <td>0.926205</td>\n",
       "      <td>0.564532</td>\n",
       "      <td>0.001327</td>\n",
       "      <td>37</td>\n",
       "      <td>63</td>\n",
       "      <td>4</td>\n",
       "      <td>2</td>\n",
       "      <td>100</td>\n",
       "      <td>0.999</td>\n",
       "      <td>1</td>\n",
       "    </tr>\n",
       "    <tr>\n",
       "      <th>4190132</th>\n",
       "      <td>4204675</td>\n",
       "      <td>0.587366</td>\n",
       "      <td>0.505799</td>\n",
       "      <td>0.696516</td>\n",
       "      <td>0.926205</td>\n",
       "      <td>0.564532</td>\n",
       "      <td>0.001327</td>\n",
       "      <td>38</td>\n",
       "      <td>62</td>\n",
       "      <td>4</td>\n",
       "      <td>2</td>\n",
       "      <td>100</td>\n",
       "      <td>0.999</td>\n",
       "      <td>1</td>\n",
       "    </tr>\n",
       "    <tr>\n",
       "      <th>4190133</th>\n",
       "      <td>4204676</td>\n",
       "      <td>0.587366</td>\n",
       "      <td>0.505799</td>\n",
       "      <td>0.696516</td>\n",
       "      <td>0.926205</td>\n",
       "      <td>0.564532</td>\n",
       "      <td>0.001327</td>\n",
       "      <td>39</td>\n",
       "      <td>61</td>\n",
       "      <td>4</td>\n",
       "      <td>2</td>\n",
       "      <td>100</td>\n",
       "      <td>0.999</td>\n",
       "      <td>1</td>\n",
       "    </tr>\n",
       "  </tbody>\n",
       "</table>\n",
       "</div>"
      ],
      "text/plain": [
       "         timestep     $y_1$     $p_1$     $q_1$     $y_2$     $p_2$     $q_2$  \\\n",
       "4190129   4204672  0.587366  0.505799  0.696516  0.926205  0.564532  0.001327   \n",
       "4190130   4204673  0.587366  0.505799  0.696516  0.926205  0.564532  0.001327   \n",
       "4190131   4204674  0.587366  0.505799  0.696516  0.926205  0.564532  0.001327   \n",
       "4190132   4204675  0.587366  0.505799  0.696516  0.926205  0.564532  0.001327   \n",
       "4190133   4204676  0.587366  0.505799  0.696516  0.926205  0.564532  0.001327   \n",
       "\n",
       "         resident count  mutant count  num of interactions  num of opponents  \\\n",
       "4190129              37            63                    4                 2   \n",
       "4190130              36            64                    4                 2   \n",
       "4190131              37            63                    4                 2   \n",
       "4190132              38            62                    4                 2   \n",
       "4190133              39            61                    4                 2   \n",
       "\n",
       "           N  delta  strength_of_selection  \n",
       "4190129  100  0.999                      1  \n",
       "4190130  100  0.999                      1  \n",
       "4190131  100  0.999                      1  \n",
       "4190132  100  0.999                      1  \n",
       "4190133  100  0.999                      1  "
      ]
     },
     "execution_count": 37,
     "metadata": {},
     "output_type": "execute_result"
    }
   ],
   "source": [
    "df.tail()"
   ]
  },
  {
   "cell_type": "code",
   "execution_count": 33,
   "metadata": {},
   "outputs": [],
   "source": [
    "columns = [\n",
    "    \"timestep\",\n",
    "    \"$y_1$\",\n",
    "    \"$p_1$\",\n",
    "    \"$q_1$\",\n",
    "    \"$y_2$\",\n",
    "    \"$p_2$\",\n",
    "    \"$q_2$\",\n",
    "    \"resident count\",\n",
    "    \"mutant count\",\n",
    "    \"num of interactions\",\n",
    "    \"num of opponents\",\n",
    "    \"N\",\n",
    "    \"delta\",\n",
    "    \"strength_of_selection\",\n",
    "]"
   ]
  },
  {
   "cell_type": "code",
   "execution_count": 34,
   "metadata": {},
   "outputs": [],
   "source": [
    "df.columns = columns"
   ]
  },
  {
   "cell_type": "code",
   "execution_count": 39,
   "metadata": {},
   "outputs": [],
   "source": [
    "lenght = df.size"
   ]
  },
  {
   "cell_type": "code",
   "execution_count": null,
   "metadata": {},
   "outputs": [],
   "source": []
  },
  {
   "cell_type": "code",
   "execution_count": 46,
   "metadata": {},
   "outputs": [
    {
     "name": "stdout",
     "output_type": "stream",
     "text": [
      "CPU times: user 1h 2min 37s, sys: 1min 1s, total: 1h 3min 39s\n",
      "Wall time: 1h 4min 2s\n"
     ]
    }
   ],
   "source": [
    "%%time \n",
    "\n",
    "df['cooperation rate'] = df.apply(lambda row: get_cooperation_rate((row['$y_1$'], \n",
    "                                                                    row['$p_1$'],\n",
    "                                                                    row['$q_1$']),\n",
    "                                                                    row['delta']), axis=1)"
   ]
  },
  {
   "cell_type": "code",
   "execution_count": 25,
   "metadata": {},
   "outputs": [
    {
     "data": {
      "text/html": [
       "<div>\n",
       "<style scoped>\n",
       "    .dataframe tbody tr th:only-of-type {\n",
       "        vertical-align: middle;\n",
       "    }\n",
       "\n",
       "    .dataframe tbody tr th {\n",
       "        vertical-align: top;\n",
       "    }\n",
       "\n",
       "    .dataframe thead th {\n",
       "        text-align: right;\n",
       "    }\n",
       "</style>\n",
       "<table border=\"1\" class=\"dataframe\">\n",
       "  <thead>\n",
       "    <tr style=\"text-align: right;\">\n",
       "      <th></th>\n",
       "      <th>timestep</th>\n",
       "      <th>$y_1$</th>\n",
       "      <th>$p_1$</th>\n",
       "      <th>$q_1$</th>\n",
       "      <th>$y_2$</th>\n",
       "      <th>$p_2$</th>\n",
       "      <th>$q_2$</th>\n",
       "      <th>resident count</th>\n",
       "      <th>mutant count</th>\n",
       "      <th>num of interactions</th>\n",
       "      <th>num of opponents</th>\n",
       "      <th>N</th>\n",
       "      <th>delta</th>\n",
       "      <th>strength_of_selection</th>\n",
       "      <th>cooperation rate</th>\n",
       "    </tr>\n",
       "  </thead>\n",
       "  <tbody>\n",
       "    <tr>\n",
       "      <th>0</th>\n",
       "      <td>1</td>\n",
       "      <td>0.0</td>\n",
       "      <td>0.0</td>\n",
       "      <td>0.0</td>\n",
       "      <td>0.548814</td>\n",
       "      <td>0.715189</td>\n",
       "      <td>0.602763</td>\n",
       "      <td>100</td>\n",
       "      <td>0</td>\n",
       "      <td>5</td>\n",
       "      <td>3</td>\n",
       "      <td>100</td>\n",
       "      <td>0.999</td>\n",
       "      <td>1</td>\n",
       "      <td>0.0</td>\n",
       "    </tr>\n",
       "    <tr>\n",
       "      <th>1</th>\n",
       "      <td>3</td>\n",
       "      <td>0.0</td>\n",
       "      <td>0.0</td>\n",
       "      <td>0.0</td>\n",
       "      <td>0.071036</td>\n",
       "      <td>0.087129</td>\n",
       "      <td>0.020218</td>\n",
       "      <td>100</td>\n",
       "      <td>0</td>\n",
       "      <td>5</td>\n",
       "      <td>3</td>\n",
       "      <td>100</td>\n",
       "      <td>0.999</td>\n",
       "      <td>1</td>\n",
       "      <td>0.0</td>\n",
       "    </tr>\n",
       "    <tr>\n",
       "      <th>2</th>\n",
       "      <td>5</td>\n",
       "      <td>0.0</td>\n",
       "      <td>0.0</td>\n",
       "      <td>0.0</td>\n",
       "      <td>0.521848</td>\n",
       "      <td>0.414662</td>\n",
       "      <td>0.264556</td>\n",
       "      <td>100</td>\n",
       "      <td>0</td>\n",
       "      <td>5</td>\n",
       "      <td>3</td>\n",
       "      <td>100</td>\n",
       "      <td>0.999</td>\n",
       "      <td>1</td>\n",
       "      <td>0.0</td>\n",
       "    </tr>\n",
       "    <tr>\n",
       "      <th>3</th>\n",
       "      <td>7</td>\n",
       "      <td>0.0</td>\n",
       "      <td>0.0</td>\n",
       "      <td>0.0</td>\n",
       "      <td>0.060225</td>\n",
       "      <td>0.666767</td>\n",
       "      <td>0.670638</td>\n",
       "      <td>100</td>\n",
       "      <td>0</td>\n",
       "      <td>5</td>\n",
       "      <td>3</td>\n",
       "      <td>100</td>\n",
       "      <td>0.999</td>\n",
       "      <td>1</td>\n",
       "      <td>0.0</td>\n",
       "    </tr>\n",
       "    <tr>\n",
       "      <th>4</th>\n",
       "      <td>9</td>\n",
       "      <td>0.0</td>\n",
       "      <td>0.0</td>\n",
       "      <td>0.0</td>\n",
       "      <td>0.414369</td>\n",
       "      <td>0.474698</td>\n",
       "      <td>0.623510</td>\n",
       "      <td>100</td>\n",
       "      <td>0</td>\n",
       "      <td>5</td>\n",
       "      <td>3</td>\n",
       "      <td>100</td>\n",
       "      <td>0.999</td>\n",
       "      <td>1</td>\n",
       "      <td>0.0</td>\n",
       "    </tr>\n",
       "  </tbody>\n",
       "</table>\n",
       "</div>"
      ],
      "text/plain": [
       "   timestep  $y_1$  $p_1$  $q_1$     $y_2$     $p_2$     $q_2$  \\\n",
       "0         1    0.0    0.0    0.0  0.548814  0.715189  0.602763   \n",
       "1         3    0.0    0.0    0.0  0.071036  0.087129  0.020218   \n",
       "2         5    0.0    0.0    0.0  0.521848  0.414662  0.264556   \n",
       "3         7    0.0    0.0    0.0  0.060225  0.666767  0.670638   \n",
       "4         9    0.0    0.0    0.0  0.414369  0.474698  0.623510   \n",
       "\n",
       "   resident count  mutant count  num of interactions  num of opponents    N  \\\n",
       "0             100             0                    5                 3  100   \n",
       "1             100             0                    5                 3  100   \n",
       "2             100             0                    5                 3  100   \n",
       "3             100             0                    5                 3  100   \n",
       "4             100             0                    5                 3  100   \n",
       "\n",
       "   delta  strength_of_selection  cooperation rate  \n",
       "0  0.999                      1               0.0  \n",
       "1  0.999                      1               0.0  \n",
       "2  0.999                      1               0.0  \n",
       "3  0.999                      1               0.0  \n",
       "4  0.999                      1               0.0  "
      ]
     },
     "execution_count": 25,
     "metadata": {},
     "output_type": "execute_result"
    }
   ],
   "source": [
    "df.head()"
   ]
  },
  {
   "cell_type": "code",
   "execution_count": 47,
   "metadata": {},
   "outputs": [],
   "source": [
    "df.to_csv('data/multi_interactions_with_GTFT.csv')"
   ]
  },
  {
   "cell_type": "code",
   "execution_count": 27,
   "metadata": {},
   "outputs": [],
   "source": [
    "ALLDs = df"
   ]
  },
  {
   "cell_type": "code",
   "execution_count": 48,
   "metadata": {},
   "outputs": [],
   "source": [
    "GTFT = df"
   ]
  },
  {
   "cell_type": "code",
   "execution_count": 54,
   "metadata": {},
   "outputs": [],
   "source": [
    "alld = ALLDs[ALLDs[\"resident count\"] == 100]"
   ]
  },
  {
   "cell_type": "code",
   "execution_count": 55,
   "metadata": {},
   "outputs": [],
   "source": [
    "gtft = GTFT[GTFT[\"resident count\"] == 100]"
   ]
  },
  {
   "cell_type": "markdown",
   "metadata": {},
   "source": [
    "# Analysis"
   ]
  },
  {
   "cell_type": "code",
   "execution_count": 59,
   "metadata": {},
   "outputs": [],
   "source": [
    "alld_groups = alld.groupby('num of opponents')"
   ]
  },
  {
   "cell_type": "code",
   "execution_count": 62,
   "metadata": {},
   "outputs": [
    {
     "data": {
      "text/html": [
       "<div>\n",
       "<style scoped>\n",
       "    .dataframe tbody tr th:only-of-type {\n",
       "        vertical-align: middle;\n",
       "    }\n",
       "\n",
       "    .dataframe tbody tr th {\n",
       "        vertical-align: top;\n",
       "    }\n",
       "\n",
       "    .dataframe thead th {\n",
       "        text-align: right;\n",
       "    }\n",
       "</style>\n",
       "<table border=\"1\" class=\"dataframe\">\n",
       "  <thead>\n",
       "    <tr style=\"text-align: right;\">\n",
       "      <th>num of interactions</th>\n",
       "      <th>1</th>\n",
       "      <th>2</th>\n",
       "      <th>3</th>\n",
       "      <th>4</th>\n",
       "      <th>5</th>\n",
       "    </tr>\n",
       "    <tr>\n",
       "      <th>num of opponents</th>\n",
       "      <th></th>\n",
       "      <th></th>\n",
       "      <th></th>\n",
       "      <th></th>\n",
       "      <th></th>\n",
       "    </tr>\n",
       "  </thead>\n",
       "  <tbody>\n",
       "    <tr>\n",
       "      <th>1</th>\n",
       "      <td>984</td>\n",
       "      <td>627</td>\n",
       "      <td>613</td>\n",
       "      <td>190</td>\n",
       "      <td>596</td>\n",
       "    </tr>\n",
       "    <tr>\n",
       "      <th>2</th>\n",
       "      <td>393</td>\n",
       "      <td>109</td>\n",
       "      <td>218</td>\n",
       "      <td>121</td>\n",
       "      <td>452</td>\n",
       "    </tr>\n",
       "    <tr>\n",
       "      <th>3</th>\n",
       "      <td>274</td>\n",
       "      <td>194</td>\n",
       "      <td>136</td>\n",
       "      <td>223</td>\n",
       "      <td>227</td>\n",
       "    </tr>\n",
       "    <tr>\n",
       "      <th>4</th>\n",
       "      <td>246</td>\n",
       "      <td>127</td>\n",
       "      <td>153</td>\n",
       "      <td>128</td>\n",
       "      <td>184</td>\n",
       "    </tr>\n",
       "    <tr>\n",
       "      <th>5</th>\n",
       "      <td>221</td>\n",
       "      <td>154</td>\n",
       "      <td>112</td>\n",
       "      <td>177</td>\n",
       "      <td>195</td>\n",
       "    </tr>\n",
       "  </tbody>\n",
       "</table>\n",
       "</div>"
      ],
      "text/plain": [
       "num of interactions    1    2    3    4    5\n",
       "num of opponents                            \n",
       "1                    984  627  613  190  596\n",
       "2                    393  109  218  121  452\n",
       "3                    274  194  136  223  227\n",
       "4                    246  127  153  128  184\n",
       "5                    221  154  112  177  195"
      ]
     },
     "execution_count": 62,
     "metadata": {},
     "output_type": "execute_result"
    }
   ],
   "source": [
    "alld.groupby(['num of opponents', 'num of interactions'])[['$y_1$', '$p_1$', '$q_1$']].nunique()['$y_1$'].unstack()"
   ]
  },
  {
   "cell_type": "code",
   "execution_count": 67,
   "metadata": {},
   "outputs": [
    {
     "data": {
      "text/html": [
       "<div>\n",
       "<style scoped>\n",
       "    .dataframe tbody tr th:only-of-type {\n",
       "        vertical-align: middle;\n",
       "    }\n",
       "\n",
       "    .dataframe tbody tr th {\n",
       "        vertical-align: top;\n",
       "    }\n",
       "\n",
       "    .dataframe thead th {\n",
       "        text-align: right;\n",
       "    }\n",
       "</style>\n",
       "<table border=\"1\" class=\"dataframe\">\n",
       "  <thead>\n",
       "    <tr style=\"text-align: right;\">\n",
       "      <th>num of interactions</th>\n",
       "      <th>1</th>\n",
       "      <th>2</th>\n",
       "      <th>3</th>\n",
       "      <th>4</th>\n",
       "      <th>5</th>\n",
       "    </tr>\n",
       "    <tr>\n",
       "      <th>num of opponents</th>\n",
       "      <th></th>\n",
       "      <th></th>\n",
       "      <th></th>\n",
       "      <th></th>\n",
       "      <th></th>\n",
       "    </tr>\n",
       "  </thead>\n",
       "  <tbody>\n",
       "    <tr>\n",
       "      <th>1</th>\n",
       "      <td>0.193765</td>\n",
       "      <td>0.356876</td>\n",
       "      <td>0.240637</td>\n",
       "      <td>0.241197</td>\n",
       "      <td>0.309883</td>\n",
       "    </tr>\n",
       "    <tr>\n",
       "      <th>2</th>\n",
       "      <td>0.240524</td>\n",
       "      <td>0.292405</td>\n",
       "      <td>0.429590</td>\n",
       "      <td>0.242071</td>\n",
       "      <td>0.271694</td>\n",
       "    </tr>\n",
       "    <tr>\n",
       "      <th>3</th>\n",
       "      <td>0.335569</td>\n",
       "      <td>0.429060</td>\n",
       "      <td>0.277462</td>\n",
       "      <td>0.279583</td>\n",
       "      <td>0.312815</td>\n",
       "    </tr>\n",
       "    <tr>\n",
       "      <th>4</th>\n",
       "      <td>0.195615</td>\n",
       "      <td>0.214159</td>\n",
       "      <td>0.222366</td>\n",
       "      <td>0.349499</td>\n",
       "      <td>0.329535</td>\n",
       "    </tr>\n",
       "    <tr>\n",
       "      <th>5</th>\n",
       "      <td>0.365410</td>\n",
       "      <td>0.488038</td>\n",
       "      <td>0.371692</td>\n",
       "      <td>0.348224</td>\n",
       "      <td>0.379429</td>\n",
       "    </tr>\n",
       "  </tbody>\n",
       "</table>\n",
       "</div>"
      ],
      "text/plain": [
       "num of interactions         1         2         3         4         5\n",
       "num of opponents                                                     \n",
       "1                    0.193765  0.356876  0.240637  0.241197  0.309883\n",
       "2                    0.240524  0.292405  0.429590  0.242071  0.271694\n",
       "3                    0.335569  0.429060  0.277462  0.279583  0.312815\n",
       "4                    0.195615  0.214159  0.222366  0.349499  0.329535\n",
       "5                    0.365410  0.488038  0.371692  0.348224  0.379429"
      ]
     },
     "execution_count": 67,
     "metadata": {},
     "output_type": "execute_result"
    }
   ],
   "source": [
    "table = alld.groupby(['num of opponents', 'num of interactions'])['cooperation rate'].mean().unstack()\n",
    "\n",
    "table"
   ]
  },
  {
   "cell_type": "code",
   "execution_count": 71,
   "metadata": {},
   "outputs": [
    {
     "data": {
      "image/png": "[encoded data removed]",
      "text/plain": [
       "<Figure size 504x396 with 2 Axes>"
      ]
     },
     "metadata": {
      "needs_background": "light"
     },
     "output_type": "display_data"
    }
   ],
   "source": [
    "fig = plt.subplots(figsize=(7, 5.5))\n",
    "\n",
    "plt.imshow(table.values, interpolation='nearest', aspect='auto', cmap='inferno')\n",
    "\n",
    "plt.colorbar()\n",
    "\n",
    "plt.xticks(np.arange(5), (\"1\", '2', '3', '4', '5',));\n",
    "plt.yticks(np.arange(5), ('5', '4', '3', '2', \"1\"));"
   ]
  },
  {
   "cell_type": "code",
   "execution_count": 72,
   "metadata": {},
   "outputs": [],
   "source": [
    "groups = alld.groupby(['num of opponents', 'num of interactions'])[['$p_1$', '$q_1$']]"
   ]
  },
  {
   "cell_type": "code",
   "execution_count": 115,
   "metadata": {},
   "outputs": [
    {
     "data": {
      "image/png": "[encoded data removed]",
      "text/plain": [
       "<Figure size 1080x720 with 50 Axes>"
      ]
     },
     "metadata": {
      "needs_background": "light"
     },
     "output_type": "display_data"
    }
   ],
   "source": [
    "cmap = matplotlib.cm.get_cmap(\"Blues\")\n",
    "fig, ax = plt.subplots(ncols=5, nrows=5, figsize=(15, 10))\n",
    "\n",
    "# maxs = [max(values) for values in all_maxs]\n",
    "\n",
    "for i, group in groups:\n",
    "    i = (i[0] - 1, i[1] - 1)\n",
    "    x, y = zip(*group[['$p_1$', '$q_1$']].values)\n",
    "\n",
    "\n",
    "    heatmap, xedges, yedges = np.histogram2d(x, y, bins=15)\n",
    "    extent = [xedges[0], xedges[-1], yedges[0], yedges[-1]]\n",
    "\n",
    "    im = ax[i].imshow(heatmap.T, cmap=cmap, extent=extent, origin=\"lower\", vmax=9262.0)\n",
    "\n",
    "    divider = make_axes_locatable(ax[i])\n",
    "    cax = divider.append_axes('right', size='5%', pad=0.05)\n",
    "    fig.colorbar(im, cax=cax, orientation='vertical')\n",
    "\n",
    "    ax[i].set_xticklabels([\"0\"] + [\"\" for _ in range(7)] + [\"1\"])\n",
    "    ax[i].set_yticklabels([\"0\"] + [\"\" for _ in range(7)] + [\"1\"])\n",
    "\n",
    "\n",
    "for i in range(5):\n",
    "    plt.setp(ax[-1, i], xlabel=f\"num of interactions {i + 1}\");\n",
    "    plt.setp(ax[i, 0], ylabel=f\"num of opponents {i + 1}\");"
   ]
  },
  {
   "cell_type": "markdown",
   "metadata": {},
   "source": [
    "**GTFT**"
   ]
  },
  {
   "cell_type": "code",
   "execution_count": 78,
   "metadata": {},
   "outputs": [
    {
     "data": {
      "text/html": [
       "<div>\n",
       "<style scoped>\n",
       "    .dataframe tbody tr th:only-of-type {\n",
       "        vertical-align: middle;\n",
       "    }\n",
       "\n",
       "    .dataframe tbody tr th {\n",
       "        vertical-align: top;\n",
       "    }\n",
       "\n",
       "    .dataframe thead th {\n",
       "        text-align: right;\n",
       "    }\n",
       "</style>\n",
       "<table border=\"1\" class=\"dataframe\">\n",
       "  <thead>\n",
       "    <tr style=\"text-align: right;\">\n",
       "      <th>num of interactions</th>\n",
       "      <th>1</th>\n",
       "      <th>2</th>\n",
       "      <th>3</th>\n",
       "      <th>4</th>\n",
       "      <th>5</th>\n",
       "    </tr>\n",
       "    <tr>\n",
       "      <th>num of opponents</th>\n",
       "      <th></th>\n",
       "      <th></th>\n",
       "      <th></th>\n",
       "      <th></th>\n",
       "      <th></th>\n",
       "    </tr>\n",
       "  </thead>\n",
       "  <tbody>\n",
       "    <tr>\n",
       "      <th>1</th>\n",
       "      <td>275</td>\n",
       "      <td>600</td>\n",
       "      <td>721</td>\n",
       "      <td>825</td>\n",
       "      <td>600</td>\n",
       "    </tr>\n",
       "    <tr>\n",
       "      <th>2</th>\n",
       "      <td>504</td>\n",
       "      <td>180</td>\n",
       "      <td>293</td>\n",
       "      <td>109</td>\n",
       "      <td>379</td>\n",
       "    </tr>\n",
       "    <tr>\n",
       "      <th>3</th>\n",
       "      <td>351</td>\n",
       "      <td>280</td>\n",
       "      <td>72</td>\n",
       "      <td>109</td>\n",
       "      <td>161</td>\n",
       "    </tr>\n",
       "    <tr>\n",
       "      <th>4</th>\n",
       "      <td>252</td>\n",
       "      <td>39</td>\n",
       "      <td>206</td>\n",
       "      <td>106</td>\n",
       "      <td>70</td>\n",
       "    </tr>\n",
       "    <tr>\n",
       "      <th>5</th>\n",
       "      <td>3</td>\n",
       "      <td>269</td>\n",
       "      <td>13</td>\n",
       "      <td>114</td>\n",
       "      <td>154</td>\n",
       "    </tr>\n",
       "  </tbody>\n",
       "</table>\n",
       "</div>"
      ],
      "text/plain": [
       "num of interactions    1    2    3    4    5\n",
       "num of opponents                            \n",
       "1                    275  600  721  825  600\n",
       "2                    504  180  293  109  379\n",
       "3                    351  280   72  109  161\n",
       "4                    252   39  206  106   70\n",
       "5                      3  269   13  114  154"
      ]
     },
     "execution_count": 78,
     "metadata": {},
     "output_type": "execute_result"
    }
   ],
   "source": [
    "gtft.groupby(['num of opponents', 'num of interactions'])[['$y_1$', '$p_1$', '$q_1$']].nunique()['$y_1$'].unstack()"
   ]
  },
  {
   "cell_type": "code",
   "execution_count": 79,
   "metadata": {},
   "outputs": [
    {
     "data": {
      "text/html": [
       "<div>\n",
       "<style scoped>\n",
       "    .dataframe tbody tr th:only-of-type {\n",
       "        vertical-align: middle;\n",
       "    }\n",
       "\n",
       "    .dataframe tbody tr th {\n",
       "        vertical-align: top;\n",
       "    }\n",
       "\n",
       "    .dataframe thead th {\n",
       "        text-align: right;\n",
       "    }\n",
       "</style>\n",
       "<table border=\"1\" class=\"dataframe\">\n",
       "  <thead>\n",
       "    <tr style=\"text-align: right;\">\n",
       "      <th>num of interactions</th>\n",
       "      <th>1</th>\n",
       "      <th>2</th>\n",
       "      <th>3</th>\n",
       "      <th>4</th>\n",
       "      <th>5</th>\n",
       "    </tr>\n",
       "    <tr>\n",
       "      <th>num of opponents</th>\n",
       "      <th></th>\n",
       "      <th></th>\n",
       "      <th></th>\n",
       "      <th></th>\n",
       "      <th></th>\n",
       "    </tr>\n",
       "  </thead>\n",
       "  <tbody>\n",
       "    <tr>\n",
       "      <th>1</th>\n",
       "      <td>0.242271</td>\n",
       "      <td>0.338444</td>\n",
       "      <td>0.395612</td>\n",
       "      <td>0.332977</td>\n",
       "      <td>0.353017</td>\n",
       "    </tr>\n",
       "    <tr>\n",
       "      <th>2</th>\n",
       "      <td>0.209049</td>\n",
       "      <td>0.394557</td>\n",
       "      <td>0.397965</td>\n",
       "      <td>0.213362</td>\n",
       "      <td>0.397472</td>\n",
       "    </tr>\n",
       "    <tr>\n",
       "      <th>3</th>\n",
       "      <td>0.298027</td>\n",
       "      <td>0.358387</td>\n",
       "      <td>0.172155</td>\n",
       "      <td>0.260922</td>\n",
       "      <td>0.397044</td>\n",
       "    </tr>\n",
       "    <tr>\n",
       "      <th>4</th>\n",
       "      <td>0.238748</td>\n",
       "      <td>0.424426</td>\n",
       "      <td>0.341618</td>\n",
       "      <td>0.226941</td>\n",
       "      <td>0.341570</td>\n",
       "    </tr>\n",
       "    <tr>\n",
       "      <th>5</th>\n",
       "      <td>0.128970</td>\n",
       "      <td>0.240837</td>\n",
       "      <td>0.245523</td>\n",
       "      <td>0.557083</td>\n",
       "      <td>0.362194</td>\n",
       "    </tr>\n",
       "  </tbody>\n",
       "</table>\n",
       "</div>"
      ],
      "text/plain": [
       "num of interactions         1         2         3         4         5\n",
       "num of opponents                                                     \n",
       "1                    0.242271  0.338444  0.395612  0.332977  0.353017\n",
       "2                    0.209049  0.394557  0.397965  0.213362  0.397472\n",
       "3                    0.298027  0.358387  0.172155  0.260922  0.397044\n",
       "4                    0.238748  0.424426  0.341618  0.226941  0.341570\n",
       "5                    0.128970  0.240837  0.245523  0.557083  0.362194"
      ]
     },
     "execution_count": 79,
     "metadata": {},
     "output_type": "execute_result"
    }
   ],
   "source": [
    "table = gtft.groupby(['num of opponents', 'num of interactions'])['cooperation rate'].mean().unstack()\n",
    "\n",
    "table"
   ]
  },
  {
   "cell_type": "code",
   "execution_count": 80,
   "metadata": {},
   "outputs": [
    {
     "data": {
      "image/png": "[encoded data removed]",
      "text/plain": [
       "<Figure size 504x396 with 2 Axes>"
      ]
     },
     "metadata": {
      "needs_background": "light"
     },
     "output_type": "display_data"
    }
   ],
   "source": [
    "fig = plt.subplots(figsize=(7, 5.5))\n",
    "\n",
    "plt.imshow(table.values, interpolation='nearest', aspect='auto', cmap='inferno')\n",
    "\n",
    "plt.colorbar()\n",
    "\n",
    "plt.xticks(np.arange(5), (\"1\", '2', '3', '4', '5',));\n",
    "plt.yticks(np.arange(5), ('5', '4', '3', '2', \"1\"));"
   ]
  },
  {
   "cell_type": "code",
   "execution_count": 116,
   "metadata": {},
   "outputs": [],
   "source": [
    "groups = gtft.groupby(['num of opponents', 'num of interactions'])[['$p_1$', '$q_1$']]"
   ]
  },
  {
   "cell_type": "code",
   "execution_count": 117,
   "metadata": {},
   "outputs": [
    {
     "data": {
      "image/png": "[encoded data removed]",
      "text/plain": [
       "<Figure size 1080x720 with 50 Axes>"
      ]
     },
     "metadata": {
      "needs_background": "light"
     },
     "output_type": "display_data"
    }
   ],
   "source": [
    "cmap = matplotlib.cm.get_cmap(\"Blues\")\n",
    "fig, ax = plt.subplots(ncols=5, nrows=5, figsize=(15, 10))\n",
    "\n",
    "# maxs = [max(values) for values in all_maxs]\n",
    "\n",
    "for i, group in groups:\n",
    "    i = (i[0] - 1, i[1] - 1)\n",
    "    x, y = zip(*group[['$p_1$', '$q_1$']].values)\n",
    "\n",
    "\n",
    "    heatmap, xedges, yedges = np.histogram2d(x, y, bins=15)\n",
    "    extent = [xedges[0], xedges[-1], yedges[0], yedges[-1]]\n",
    "\n",
    "    im = ax[i].imshow(heatmap.T, cmap=cmap, extent=extent, origin=\"lower\", vmax=9262.0)\n",
    "\n",
    "    divider = make_axes_locatable(ax[i])\n",
    "    cax = divider.append_axes('right', size='5%', pad=0.05)\n",
    "    fig.colorbar(im, cax=cax, orientation='vertical')\n",
    "\n",
    "    ax[i].set_xticklabels([\"0\"] + [\"\" for _ in range(7)] + [\"1\"])\n",
    "    ax[i].set_yticklabels([\"0\"] + [\"\" for _ in range(7)] + [\"1\"])\n",
    "\n",
    "\n",
    "for i in range(5):\n",
    "    plt.setp(ax[-1, i], xlabel=f\"num of interactions {i + 1}\");\n",
    "    plt.setp(ax[i, 0], ylabel=f\"num of opponents {i + 1}\");"
   ]
  },
  {
   "cell_type": "code",
   "execution_count": null,
   "metadata": {},
   "outputs": [],
   "source": []
  }
 ],
 "metadata": {
  "kernelspec": {
   "display_name": "stochastic-payoffs",
   "language": "python",
   "name": "stochastic-payoffs"
  },
  "language_info": {
   "codemirror_mode": {
    "name": "ipython",
    "version": 3
   },
   "file_extension": ".py",
   "mimetype": "text/x-python",
   "name": "python",
   "nbconvert_exporter": "python",
   "pygments_lexer": "ipython3",
   "version": "3.7.9"
  }
 },
 "nbformat": 4,
 "nbformat_minor": 4
}
