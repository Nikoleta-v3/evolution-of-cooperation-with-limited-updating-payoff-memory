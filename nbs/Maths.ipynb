{
 "cells": [
  {
   "cell_type": "code",
   "execution_count": 1,
   "metadata": {},
   "outputs": [],
   "source": [
    "import sympy as sym\n",
    "\n",
    "import numpy as np\n",
    "\n",
    "import itertools\n",
    "import matplotlib.pyplot as plt\n",
    "\n",
    "sym.init_printing()"
   ]
  },
  {
   "cell_type": "code",
   "execution_count": 2,
   "metadata": {},
   "outputs": [],
   "source": [
    "import evol_dynamics"
   ]
  },
  {
   "cell_type": "code",
   "execution_count": 3,
   "metadata": {},
   "outputs": [],
   "source": [
    "import warnings\n",
    "warnings.filterwarnings('ignore')"
   ]
  },
  {
   "cell_type": "code",
   "execution_count": 4,
   "metadata": {},
   "outputs": [],
   "source": [
    "s_one = (0, 0, 0)\n",
    "s_two = (1, 1, 0)"
   ]
  },
  {
   "cell_type": "code",
   "execution_count": 5,
   "metadata": {},
   "outputs": [],
   "source": [
    "payoff_vector = np.array(evol_dynamics.donation_game(1, 3))"
   ]
  },
  {
   "cell_type": "code",
   "execution_count": null,
   "metadata": {},
   "outputs": [],
   "source": [
    "evol_dynamics.steady_state(s_two, s_one, delta=0.999) @ payoff_vector "
   ]
  },
  {
   "cell_type": "markdown",
   "metadata": {},
   "source": [
    "**Defining variables**"
   ]
  },
  {
   "cell_type": "code",
   "execution_count": 6,
   "metadata": {},
   "outputs": [],
   "source": [
    "y_1, p_1, q_1 = sym.symbols(\"y_1, p_1, q_1\")\n",
    "y_2, p_2, q_2 = sym.symbols(\"y_2, p_2, q_2\")"
   ]
  },
  {
   "cell_type": "code",
   "execution_count": 7,
   "metadata": {},
   "outputs": [],
   "source": [
    "s_one = (y_1, p_1, q_1)\n",
    "s_two = (y_2, p_2, q_2)"
   ]
  },
  {
   "cell_type": "code",
   "execution_count": 8,
   "metadata": {},
   "outputs": [
    {
     "data": {
      "image/png": "[encoded data removed]",
      "text/latex": [
       "$\\displaystyle \\left( y_{1}, \\  p_{1}, \\  q_{1}\\right)$"
      ],
      "text/plain": [
       "(y₁, p₁, q₁)"
      ]
     },
     "execution_count": 8,
     "metadata": {},
     "output_type": "execute_result"
    }
   ],
   "source": [
    "s_one"
   ]
  },
  {
   "cell_type": "code",
   "execution_count": 9,
   "metadata": {},
   "outputs": [],
   "source": [
    "combinations = itertools.product([s_one, s_two], repeat=2)"
   ]
  },
  {
   "cell_type": "code",
   "execution_count": 10,
   "metadata": {},
   "outputs": [
    {
     "data": {
      "image/png": "[encoded data removed]",
      "text/latex": [
       "$\\displaystyle \\left[ \\left( \\left( y_{1}, \\  p_{1}, \\  q_{1}\\right), \\  \\left( y_{1}, \\  p_{1}, \\  q_{1}\\right)\\right), \\  \\left( \\left( y_{1}, \\  p_{1}, \\  q_{1}\\right), \\  \\left( y_{2}, \\  p_{2}, \\  q_{2}\\right)\\right), \\  \\left( \\left( y_{2}, \\  p_{2}, \\  q_{2}\\right), \\  \\left( y_{1}, \\  p_{1}, \\  q_{1}\\right)\\right), \\  \\left( \\left( y_{2}, \\  p_{2}, \\  q_{2}\\right), \\  \\left( y_{2}, \\  p_{2}, \\  q_{2}\\right)\\right)\\right]$"
      ],
      "text/plain": [
       "[((y₁, p₁, q₁), (y₁, p₁, q₁)), ((y₁, p₁, q₁), (y₂, p₂, q₂)), ((y₂, p₂, q₂), (y\n",
       "₁, p₁, q₁)), ((y₂, p₂, q₂), (y₂, p₂, q₂))]"
      ]
     },
     "execution_count": 10,
     "metadata": {},
     "output_type": "execute_result"
    }
   ],
   "source": [
    "list(combinations)"
   ]
  },
  {
   "cell_type": "markdown",
   "metadata": {},
   "source": [
    "**Get expression using code**"
   ]
  },
  {
   "cell_type": "code",
   "execution_count": 11,
   "metadata": {},
   "outputs": [],
   "source": [
    "d = sym.symbols(\"delta\")"
   ]
  },
  {
   "cell_type": "code",
   "execution_count": 12,
   "metadata": {},
   "outputs": [],
   "source": [
    "v_zero = evol_dynamics.expected_distribution_opening_round(s_one, s_two)"
   ]
  },
  {
   "cell_type": "code",
   "execution_count": 13,
   "metadata": {},
   "outputs": [
    {
     "data": {
      "image/png": "[encoded data removed]",
      "text/latex": [
       "$\\displaystyle \\left( y_{1} y_{2}, \\  y_{1} \\left(1 - y_{2}\\right), \\  y_{2} \\left(1 - y_{1}\\right), \\  \\left(1 - y_{1}\\right) \\left(1 - y_{2}\\right)\\right)$"
      ],
      "text/plain": [
       "(y₁⋅y₂, y₁⋅(1 - y₂), y₂⋅(1 - y₁), (1 - y₁)⋅(1 - y₂))"
      ]
     },
     "execution_count": 13,
     "metadata": {},
     "output_type": "execute_result"
    }
   ],
   "source": [
    "v_zero"
   ]
  },
  {
   "cell_type": "code",
   "execution_count": 14,
   "metadata": {},
   "outputs": [],
   "source": [
    "M = evol_dynamics.markov_chain_for_reactive_strategies(s_one, s_two)"
   ]
  },
  {
   "cell_type": "code",
   "execution_count": 15,
   "metadata": {},
   "outputs": [
    {
     "data": {
      "image/png": "[encoded data removed]",
      "text/latex": [
       "$\\displaystyle \\left[\\begin{matrix}p_{1} p_{2} & p_{1} \\left(1 - p_{2}\\right) & p_{2} \\left(1 - p_{1}\\right) & \\left(1 - p_{1}\\right) \\left(1 - p_{2}\\right)\\\\p_{2} q_{1} & q_{1} \\left(1 - p_{2}\\right) & p_{2} \\left(1 - q_{1}\\right) & \\left(1 - p_{2}\\right) \\left(1 - q_{1}\\right)\\\\p_{1} q_{2} & p_{1} \\left(1 - q_{2}\\right) & q_{2} \\left(1 - p_{1}\\right) & \\left(1 - p_{1}\\right) \\left(1 - q_{2}\\right)\\\\q_{1} q_{2} & q_{1} \\left(1 - q_{2}\\right) & q_{2} \\left(1 - q_{1}\\right) & \\left(1 - q_{1}\\right) \\left(1 - q_{2}\\right)\\end{matrix}\\right]$"
      ],
      "text/plain": [
       "⎡p₁⋅p₂  p₁⋅(1 - p₂)  p₂⋅(1 - p₁)  (1 - p₁)⋅(1 - p₂)⎤\n",
       "⎢                                                  ⎥\n",
       "⎢p₂⋅q₁  q₁⋅(1 - p₂)  p₂⋅(1 - q₁)  (1 - p₂)⋅(1 - q₁)⎥\n",
       "⎢                                                  ⎥\n",
       "⎢p₁⋅q₂  p₁⋅(1 - q₂)  q₂⋅(1 - p₁)  (1 - p₁)⋅(1 - q₂)⎥\n",
       "⎢                                                  ⎥\n",
       "⎣q₁⋅q₂  q₁⋅(1 - q₂)  q₂⋅(1 - q₁)  (1 - q₁)⋅(1 - q₂)⎦"
      ]
     },
     "execution_count": 15,
     "metadata": {},
     "output_type": "execute_result"
    }
   ],
   "source": [
    "sym.Matrix(M)"
   ]
  },
  {
   "cell_type": "code",
   "execution_count": 16,
   "metadata": {},
   "outputs": [],
   "source": [
    "inverse = sym.Matrix(np.identity(4) - d * M).inverse_ADJ()"
   ]
  },
  {
   "cell_type": "code",
   "execution_count": 17,
   "metadata": {},
   "outputs": [],
   "source": [
    "expression = (1 - d) * sym.Matrix(v_zero).reshape(1, 4) @ inverse"
   ]
  },
  {
   "cell_type": "markdown",
   "metadata": {},
   "source": [
    "**Check the written mathematics**"
   ]
  },
  {
   "cell_type": "code",
   "execution_count": 18,
   "metadata": {},
   "outputs": [
    {
     "data": {
      "image/png": "[encoded data removed]",
      "text/latex": [
       "$\\displaystyle \\frac{\\delta \\left(q_{1} + \\left(p_{1} - q_{1}\\right) \\left(\\delta q_{2} + y_{2} \\left(1 - \\delta\\right)\\right)\\right) \\left(q_{2} + \\left(p_{2} - q_{2}\\right) \\left(\\delta q_{1} + y_{1} \\left(1 - \\delta\\right)\\right)\\right)}{\\left(- \\delta \\left(p_{1} - q_{1}\\right) \\left(p_{2} - q_{2}\\right) + 1\\right) \\left(- \\delta^{2} \\left(p_{1} - q_{1}\\right) \\left(p_{2} - q_{2}\\right) + 1\\right)} + \\frac{y_{1} y_{2} \\left(1 - \\delta\\right)}{- \\delta^{2} \\left(p_{1} - q_{1}\\right) \\left(p_{2} - q_{2}\\right) + 1}$"
      ],
      "text/plain": [
       "δ⋅(q₁ + (p₁ - q₁)⋅(δ⋅q₂ + y₂⋅(1 - δ)))⋅(q₂ + (p₂ - q₂)⋅(δ⋅q₁ + y₁⋅(1 - δ)))   \n",
       "─────────────────────────────────────────────────────────────────────────── + \n",
       "                                     ⎛   2                        ⎞           \n",
       "        (-δ⋅(p₁ - q₁)⋅(p₂ - q₂) + 1)⋅⎝- δ ⋅(p₁ - q₁)⋅(p₂ - q₂) + 1⎠           \n",
       "\n",
       "       y₁⋅y₂⋅(1 - δ)        \n",
       "────────────────────────────\n",
       "   2                        \n",
       "- δ ⋅(p₁ - q₁)⋅(p₂ - q₂) + 1"
      ]
     },
     "execution_count": 18,
     "metadata": {},
     "output_type": "execute_result"
    }
   ],
   "source": [
    "u_R = evol_dynamics.formulation.probability_being_in_state_R(s_one, s_two, d)\n",
    "u_R"
   ]
  },
  {
   "cell_type": "code",
   "execution_count": 19,
   "metadata": {},
   "outputs": [
    {
     "data": {
      "image/png": "[encoded data removed]",
      "text/latex": [
       "$\\displaystyle \\frac{\\delta \\left(q_{1} + \\left(p_{1} - q_{1}\\right) \\left(\\delta q_{2} + y_{2} \\left(1 - \\delta\\right)\\right)\\right) \\left(- q_{2} + \\left(- p_{2} + q_{2}\\right) \\left(\\delta p_{1} + y_{1} \\left(1 - \\delta\\right)\\right) + 1\\right)}{\\left(- \\delta \\left(p_{1} - q_{1}\\right) \\left(p_{2} - q_{2}\\right) + 1\\right) \\left(- \\delta^{2} \\left(p_{1} - q_{1}\\right) \\left(p_{2} - q_{2}\\right) + 1\\right)} + \\frac{y_{1} \\left(1 - \\delta\\right) \\left(1 - y_{2}\\right)}{- \\delta^{2} \\left(p_{1} - q_{1}\\right) \\left(p_{2} - q_{2}\\right) + 1}$"
      ],
      "text/plain": [
       "δ⋅(q₁ + (p₁ - q₁)⋅(δ⋅q₂ + y₂⋅(1 - δ)))⋅(-q₂ + (-p₂ + q₂)⋅(δ⋅p₁ + y₁⋅(1 - δ)) +\n",
       "──────────────────────────────────────────────────────────────────────────────\n",
       "                                        ⎛   2                        ⎞        \n",
       "           (-δ⋅(p₁ - q₁)⋅(p₂ - q₂) + 1)⋅⎝- δ ⋅(p₁ - q₁)⋅(p₂ - q₂) + 1⎠        \n",
       "\n",
       " 1)       y₁⋅(1 - δ)⋅(1 - y₂)     \n",
       "─── + ────────────────────────────\n",
       "         2                        \n",
       "      - δ ⋅(p₁ - q₁)⋅(p₂ - q₂) + 1"
      ]
     },
     "execution_count": 19,
     "metadata": {},
     "output_type": "execute_result"
    }
   ],
   "source": [
    "u_S = evol_dynamics.formulation.probability_being_in_state_S(s_one, s_two, d)\n",
    "u_S"
   ]
  },
  {
   "cell_type": "code",
   "execution_count": 20,
   "metadata": {},
   "outputs": [
    {
     "data": {
      "image/png": "[encoded data removed]",
      "text/latex": [
       "$\\displaystyle \\frac{\\delta \\left(q_{2} + \\left(p_{2} - q_{2}\\right) \\left(\\delta q_{1} + y_{1} \\left(1 - \\delta\\right)\\right)\\right) \\left(- q_{1} + \\left(- p_{1} + q_{1}\\right) \\left(\\delta p_{2} + y_{2} \\left(1 - \\delta\\right)\\right) + 1\\right)}{\\left(- \\delta \\left(p_{1} - q_{1}\\right) \\left(p_{2} - q_{2}\\right) + 1\\right) \\left(- \\delta^{2} \\left(p_{1} - q_{1}\\right) \\left(p_{2} - q_{2}\\right) + 1\\right)} + \\frac{y_{2} \\left(1 - \\delta\\right) \\left(1 - y_{1}\\right)}{- \\delta^{2} \\left(p_{1} - q_{1}\\right) \\left(p_{2} - q_{2}\\right) + 1}$"
      ],
      "text/plain": [
       "δ⋅(q₂ + (p₂ - q₂)⋅(δ⋅q₁ + y₁⋅(1 - δ)))⋅(-q₁ + (-p₁ + q₁)⋅(δ⋅p₂ + y₂⋅(1 - δ)) +\n",
       "──────────────────────────────────────────────────────────────────────────────\n",
       "                                        ⎛   2                        ⎞        \n",
       "           (-δ⋅(p₁ - q₁)⋅(p₂ - q₂) + 1)⋅⎝- δ ⋅(p₁ - q₁)⋅(p₂ - q₂) + 1⎠        \n",
       "\n",
       " 1)       y₂⋅(1 - δ)⋅(1 - y₁)     \n",
       "─── + ────────────────────────────\n",
       "         2                        \n",
       "      - δ ⋅(p₁ - q₁)⋅(p₂ - q₂) + 1"
      ]
     },
     "execution_count": 20,
     "metadata": {},
     "output_type": "execute_result"
    }
   ],
   "source": [
    "u_T = evol_dynamics.formulation.probability_being_in_state_T(s_one, s_two, d)\n",
    "u_T"
   ]
  },
  {
   "cell_type": "code",
   "execution_count": 21,
   "metadata": {},
   "outputs": [
    {
     "data": {
      "image/png": "[encoded data removed]",
      "text/latex": [
       "$\\displaystyle \\frac{\\delta \\left(- q_{1} + \\left(- p_{1} + q_{1}\\right) \\left(\\delta p_{2} + y_{2} \\left(1 - \\delta\\right)\\right) + 1\\right) \\left(- q_{2} + \\left(- p_{2} + q_{2}\\right) \\left(\\delta p_{1} + y_{1} \\left(1 - \\delta\\right)\\right) + 1\\right)}{\\left(- \\delta \\left(p_{1} - q_{1}\\right) \\left(p_{2} - q_{2}\\right) + 1\\right) \\left(- \\delta^{2} \\left(p_{1} - q_{1}\\right) \\left(p_{2} - q_{2}\\right) + 1\\right)} + \\frac{\\left(1 - \\delta\\right) \\left(1 - y_{1}\\right) \\left(1 - y_{2}\\right)}{- \\delta^{2} \\left(p_{1} - q_{1}\\right) \\left(p_{2} - q_{2}\\right) + 1}$"
      ],
      "text/plain": [
       "δ⋅(-q₁ + (-p₁ + q₁)⋅(δ⋅p₂ + y₂⋅(1 - δ)) + 1)⋅(-q₂ + (-p₂ + q₂)⋅(δ⋅p₁ + y₁⋅(1 -\n",
       "──────────────────────────────────────────────────────────────────────────────\n",
       "                                           ⎛   2                        ⎞     \n",
       "              (-δ⋅(p₁ - q₁)⋅(p₂ - q₂) + 1)⋅⎝- δ ⋅(p₁ - q₁)⋅(p₂ - q₂) + 1⎠     \n",
       "\n",
       " δ)) + 1)    (1 - δ)⋅(1 - y₁)⋅(1 - y₂)  \n",
       "───────── + ────────────────────────────\n",
       "               2                        \n",
       "            - δ ⋅(p₁ - q₁)⋅(p₂ - q₂) + 1"
      ]
     },
     "execution_count": 21,
     "metadata": {},
     "output_type": "execute_result"
    }
   ],
   "source": [
    "u_P = evol_dynamics.formulation.probability_being_in_state_P(s_one, s_two, d)\n",
    "u_P"
   ]
  },
  {
   "cell_type": "code",
   "execution_count": 22,
   "metadata": {},
   "outputs": [
    {
     "data": {
      "image/png": "[encoded data removed]",
      "text/latex": [
       "$\\displaystyle \\left( 0, \\  0\\right)$"
      ],
      "text/plain": [
       "(0, 0)"
      ]
     },
     "execution_count": 22,
     "metadata": {},
     "output_type": "execute_result"
    }
   ],
   "source": [
    "(u_R - expression[0]).simplify(), (u_S - expression[1]).factor()"
   ]
  },
  {
   "cell_type": "code",
   "execution_count": 23,
   "metadata": {},
   "outputs": [
    {
     "data": {
      "image/png": "[encoded data removed]",
      "text/latex": [
       "$\\displaystyle \\left( 0, \\  0\\right)$"
      ],
      "text/plain": [
       "(0, 0)"
      ]
     },
     "execution_count": 23,
     "metadata": {},
     "output_type": "execute_result"
    }
   ],
   "source": [
    "(u_T - expression[2]).factor(), (u_P - expression[3]).factor()"
   ]
  },
  {
   "cell_type": "markdown",
   "metadata": {},
   "source": [
    "### Check  analysis of ALLD into GTFT"
   ]
  },
  {
   "cell_type": "code",
   "execution_count": 24,
   "metadata": {},
   "outputs": [],
   "source": [
    "q = sym.symbols(\"q\")\n",
    "\n",
    "N, k = sym.symbols(\"N, k\")"
   ]
  },
  {
   "cell_type": "code",
   "execution_count": 25,
   "metadata": {},
   "outputs": [],
   "source": [
    "ALLD = (0, 0, 0)\n",
    "GTFT = (1, 1, q)"
   ]
  },
  {
   "cell_type": "markdown",
   "metadata": {},
   "source": [
    "**Last round**"
   ]
  },
  {
   "cell_type": "markdown",
   "metadata": {},
   "source": [
    "**States of Eq. (9) and (10)**"
   ]
  },
  {
   "cell_type": "code",
   "execution_count": 26,
   "metadata": {},
   "outputs": [
    {
     "data": {
      "image/png": "[encoded data removed]",
      "text/latex": [
       "$\\displaystyle 1$"
      ],
      "text/plain": [
       "1"
      ]
     },
     "execution_count": 26,
     "metadata": {},
     "output_type": "execute_result"
    }
   ],
   "source": [
    "evol_dynamics.formulation.probability_being_in_state_R(GTFT, GTFT, d).factor()"
   ]
  },
  {
   "cell_type": "code",
   "execution_count": 27,
   "metadata": {},
   "outputs": [
    {
     "data": {
      "image/png": "[encoded data removed]",
      "text/latex": [
       "$\\displaystyle 0$"
      ],
      "text/plain": [
       "0"
      ]
     },
     "execution_count": 27,
     "metadata": {},
     "output_type": "execute_result"
    }
   ],
   "source": [
    "evol_dynamics.formulation.probability_being_in_state_R(GTFT, ALLD, d).factor()"
   ]
  },
  {
   "cell_type": "code",
   "execution_count": 28,
   "metadata": {},
   "outputs": [
    {
     "data": {
      "image/png": "[encoded data removed]",
      "text/latex": [
       "$\\displaystyle 0$"
      ],
      "text/plain": [
       "0"
      ]
     },
     "execution_count": 28,
     "metadata": {},
     "output_type": "execute_result"
    }
   ],
   "source": [
    "evol_dynamics.formulation.probability_being_in_state_R(GTFT, ALLD, d).factor()"
   ]
  },
  {
   "cell_type": "code",
   "execution_count": 29,
   "metadata": {},
   "outputs": [
    {
     "data": {
      "image/png": "[encoded data removed]",
      "text/latex": [
       "$\\displaystyle \\delta q - \\delta + 1$"
      ],
      "text/plain": [
       "δ⋅q - δ + 1"
      ]
     },
     "execution_count": 29,
     "metadata": {},
     "output_type": "execute_result"
    }
   ],
   "source": [
    "evol_dynamics.formulation.probability_being_in_state_T(ALLD, GTFT, d).factor()"
   ]
  },
  {
   "cell_type": "code",
   "execution_count": 30,
   "metadata": {},
   "outputs": [
    {
     "data": {
      "image/png": "[encoded data removed]",
      "text/latex": [
       "$\\displaystyle \\left( 0, \\  0, \\  0\\right)$"
      ],
      "text/plain": [
       "(0, 0, 0)"
      ]
     },
     "execution_count": 30,
     "metadata": {},
     "output_type": "execute_result"
    }
   ],
   "source": [
    "(\n",
    "    evol_dynamics.formulation.probability_being_in_state_S(GTFT, GTFT, d).factor(),\n",
    "    evol_dynamics.formulation.probability_being_in_state_T(GTFT, GTFT, d).factor(),\n",
    "    evol_dynamics.formulation.probability_being_in_state_P(GTFT, GTFT, d).factor(),\n",
    ")"
   ]
  },
  {
   "cell_type": "code",
   "execution_count": 31,
   "metadata": {},
   "outputs": [
    {
     "data": {
      "image/png": "[encoded data removed]",
      "text/latex": [
       "$\\displaystyle \\left( 0, \\  0\\right)$"
      ],
      "text/plain": [
       "(0, 0)"
      ]
     },
     "execution_count": 31,
     "metadata": {},
     "output_type": "execute_result"
    }
   ],
   "source": [
    "evol_dynamics.formulation.probability_being_in_state_R(\n",
    "    ALLD, GTFT, d\n",
    ").factor(), evol_dynamics.formulation.probability_being_in_state_S(ALLD, GTFT, d).factor()"
   ]
  },
  {
   "cell_type": "code",
   "execution_count": 32,
   "metadata": {},
   "outputs": [
    {
     "data": {
      "image/png": "[encoded data removed]",
      "text/latex": [
       "$\\displaystyle \\left( \\delta q - \\delta + 1, \\  - \\delta \\left(q - 1\\right)\\right)$"
      ],
      "text/plain": [
       "(δ⋅q - δ + 1, -δ⋅(q - 1))"
      ]
     },
     "execution_count": 32,
     "metadata": {},
     "output_type": "execute_result"
    }
   ],
   "source": [
    "evol_dynamics.formulation.probability_being_in_state_T(\n",
    "    ALLD, GTFT, d\n",
    ").factor(), evol_dynamics.formulation.probability_being_in_state_P(ALLD, GTFT, d).factor()"
   ]
  },
  {
   "cell_type": "code",
   "execution_count": 33,
   "metadata": {},
   "outputs": [],
   "source": [
    "def phi_last_round(vRR, vRM, vMR, vMM, N, k=1):\n",
    "\n",
    "    x = sym.zeros(4)\n",
    "    for i1 in range(4):\n",
    "        for i2 in range(4):\n",
    "            x[i1, i2] = 1 / (N - 1) * vRM[i1] * int(\n",
    "                ((i1 == 0) and (i2 == 0))\n",
    "                or ((i1 == 1) and (i2 == 2))\n",
    "                or ((i1 == 2) and (i2 == 1))\n",
    "                or ((i1 == 3) and (i2 == 3))\n",
    "            ) + (1 - 1 / (N - 1)) / (N - 2) / (N - 3) * (\n",
    "                (k - 1) * (k - 2) * vRM[i1] * vMM[i2]\n",
    "                + (k - 1) * (N - k - 1) * vRM[i1] * vMR[i2]\n",
    "                + (N - k - 1) * (k - 1) * vRR[i1] * vMM[i2]\n",
    "                + (N - k - 1) * (N - k - 2) * vRR[i1] * vMR[i2]\n",
    "            )\n",
    "                \n",
    "    return x"
   ]
  },
  {
   "cell_type": "code",
   "execution_count": 34,
   "metadata": {},
   "outputs": [],
   "source": [
    "def calculate_Rho(u, beta):\n",
    "\n",
    "    Rho = sym.zeros(4)\n",
    "    for i1 in range(4):\n",
    "        for i2 in range(4):\n",
    "            Rho[i1, i2] = 1 / (1 + sym.exp(-beta * (u[i2] - u[i1])))\n",
    "\n",
    "    return Rho\n",
    "\n",
    "def calculate_other_Rho(u, beta):\n",
    "\n",
    "    Rho = sym.zeros(4)\n",
    "    for i1 in range(4):\n",
    "        for i2 in range(4):\n",
    "            Rho[i1, i2] = u[i2] - u[i1] # 1 / (1 + sym.exp(-beta * (u[i2] - u[i1])))\n",
    "\n",
    "    return Rho"
   ]
  },
  {
   "cell_type": "code",
   "execution_count": 35,
   "metadata": {},
   "outputs": [],
   "source": [
    "delta, beta, N, q = sym.symbols(r\"\\delta, \\beta, N, q\")"
   ]
  },
  {
   "cell_type": "code",
   "execution_count": 36,
   "metadata": {},
   "outputs": [],
   "source": [
    "r, s, t, p = sym.symbols(\"R, S, T, P\")"
   ]
  },
  {
   "cell_type": "code",
   "execution_count": 37,
   "metadata": {},
   "outputs": [],
   "source": [
    "Rho = calculate_Rho([r, s, t, p], beta)\n",
    "rho = calculate_other_Rho([r, s, t, p], beta)"
   ]
  },
  {
   "cell_type": "code",
   "execution_count": 38,
   "metadata": {},
   "outputs": [
    {
     "data": {
      "image/png": "[encoded data removed]",
      "text/latex": [
       "$\\displaystyle \\left[\\begin{matrix}\\frac{1}{2} & \\frac{1}{1 + e^{- \\beta \\left(- R + S\\right)}} & \\frac{1}{1 + e^{- \\beta \\left(- R + T\\right)}} & \\frac{1}{1 + e^{- \\beta \\left(P - R\\right)}}\\\\\\frac{1}{1 + e^{- \\beta \\left(R - S\\right)}} & \\frac{1}{2} & \\frac{1}{1 + e^{- \\beta \\left(- S + T\\right)}} & \\frac{1}{1 + e^{- \\beta \\left(P - S\\right)}}\\\\\\frac{1}{1 + e^{- \\beta \\left(R - T\\right)}} & \\frac{1}{1 + e^{- \\beta \\left(S - T\\right)}} & \\frac{1}{2} & \\frac{1}{1 + e^{- \\beta \\left(P - T\\right)}}\\\\\\frac{1}{1 + e^{- \\beta \\left(- P + R\\right)}} & \\frac{1}{1 + e^{- \\beta \\left(- P + S\\right)}} & \\frac{1}{1 + e^{- \\beta \\left(- P + T\\right)}} & \\frac{1}{2}\\end{matrix}\\right]$"
      ],
      "text/plain": [
       "⎡                               1                     1                     1 \n",
       "⎢        1/2           ────────────────────  ────────────────────  ───────────\n",
       "⎢                           -\\beta⋅(-R + S)       -\\beta⋅(-R + T)       -\\beta\n",
       "⎢                      1 + ℯ                 1 + ℯ                 1 + ℯ      \n",
       "⎢                                                                             \n",
       "⎢         1                                           1                     1 \n",
       "⎢───────────────────           1/2           ────────────────────  ───────────\n",
       "⎢     -\\beta⋅(R - S)                              -\\beta⋅(-S + T)       -\\beta\n",
       "⎢1 + ℯ                                       1 + ℯ                 1 + ℯ      \n",
       "⎢                                                                             \n",
       "⎢         1                     1                                           1 \n",
       "⎢───────────────────   ───────────────────           1/2           ───────────\n",
       "⎢     -\\beta⋅(R - T)        -\\beta⋅(S - T)                              -\\beta\n",
       "⎢1 + ℯ                 1 + ℯ                                       1 + ℯ      \n",
       "⎢                                                                             \n",
       "⎢         1                     1                     1                       \n",
       "⎢────────────────────  ────────────────────  ────────────────────          1/2\n",
       "⎢     -\\beta⋅(-P + R)       -\\beta⋅(-P + S)       -\\beta⋅(-P + T)             \n",
       "⎣1 + ℯ                 1 + ℯ                 1 + ℯ                            \n",
       "\n",
       "        ⎤\n",
       "────────⎥\n",
       "⋅(P - R)⎥\n",
       "        ⎥\n",
       "        ⎥\n",
       "        ⎥\n",
       "────────⎥\n",
       "⋅(P - S)⎥\n",
       "        ⎥\n",
       "        ⎥\n",
       "        ⎥\n",
       "────────⎥\n",
       "⋅(P - T)⎥\n",
       "        ⎥\n",
       "        ⎥\n",
       "        ⎥\n",
       "        ⎥\n",
       "        ⎥\n",
       "        ⎦"
      ]
     },
     "execution_count": 38,
     "metadata": {},
     "output_type": "execute_result"
    }
   ],
   "source": [
    "Rho"
   ]
  },
  {
   "cell_type": "code",
   "execution_count": 39,
   "metadata": {},
   "outputs": [],
   "source": [
    "alld = [0, 0, 0]\n",
    "gtft = [1, 1, q]"
   ]
  },
  {
   "cell_type": "code",
   "execution_count": 40,
   "metadata": {},
   "outputs": [],
   "source": [
    "vRR = evol_dynamics.expected_distribution_last_round(gtft, gtft, delta)\n",
    "vRM = evol_dynamics.expected_distribution_last_round(gtft, alld, delta)\n",
    "vMR = evol_dynamics.expected_distribution_last_round(alld, gtft, delta)\n",
    "vMM = evol_dynamics.expected_distribution_last_round(alld, alld, delta)"
   ]
  },
  {
   "cell_type": "code",
   "execution_count": 41,
   "metadata": {},
   "outputs": [],
   "source": [
    "x = phi_last_round(vRR, vRM, vMR, vMM, N, k=1)"
   ]
  },
  {
   "cell_type": "code",
   "execution_count": 42,
   "metadata": {},
   "outputs": [
    {
     "data": {
      "image/png": "[encoded data removed]",
      "text/latex": [
       "$\\displaystyle \\left[\\begin{matrix}0 & 0 & \\left(1 - \\frac{1}{N - 1}\\right) \\left(\\frac{\\delta \\left(q + \\left(1 - q\\right) \\left(\\delta q - \\delta + 1\\right)\\right)^{2}}{\\left(- \\delta \\left(1 - q\\right)^{2} + 1\\right) \\left(- \\delta^{2} \\left(1 - q\\right)^{2} + 1\\right)} + \\frac{1 - \\delta}{- \\delta^{2} \\left(1 - q\\right)^{2} + 1}\\right) \\left(\\delta q - \\delta + 1\\right) & \\delta \\left(1 - q\\right) \\left(1 - \\frac{1}{N - 1}\\right) \\left(\\frac{\\delta \\left(q + \\left(1 - q\\right) \\left(\\delta q - \\delta + 1\\right)\\right)^{2}}{\\left(- \\delta \\left(1 - q\\right)^{2} + 1\\right) \\left(- \\delta^{2} \\left(1 - q\\right)^{2} + 1\\right)} + \\frac{1 - \\delta}{- \\delta^{2} \\left(1 - q\\right)^{2} + 1}\\right)\\\\0 & 0 & \\frac{\\delta q - \\delta + 1}{N - 1} & 0\\\\0 & 0 & 0 & 0\\\\0 & 0 & 0 & \\frac{\\delta \\left(1 - q\\right)}{N - 1}\\end{matrix}\\right]$"
      ],
      "text/plain": [
       "⎡                  ⎛                                             2            \n",
       "⎢      ⎛      1  ⎞ ⎜ \\delta⋅(q + (1 - q)⋅(\\delta⋅q - \\delta + 1))            1\n",
       "⎢0  0  ⎜1 - ─────⎟⋅⎜──────────────────────────────────────────────── + ───────\n",
       "⎢      ⎝    N - 1⎠ ⎜⎛                2    ⎞ ⎛        2        2    ⎞          \n",
       "⎢                  ⎝⎝- \\delta⋅(1 - q)  + 1⎠⋅⎝- \\delta ⋅(1 - q)  + 1⎠   - \\delt\n",
       "⎢                                                                             \n",
       "⎢                                                   \\delta⋅q - \\delta + 1     \n",
       "⎢0  0                                               ─────────────────────     \n",
       "⎢                                                           N - 1             \n",
       "⎢                                                                             \n",
       "⎢0  0                                                         0               \n",
       "⎢                                                                             \n",
       "⎢                                                                             \n",
       "⎢0  0                                                         0               \n",
       "⎣                                                                             \n",
       "\n",
       "               ⎞                                                     ⎛        \n",
       " - \\delta      ⎟                                         ⎛      1  ⎞ ⎜ \\delta⋅\n",
       "───────────────⎟⋅(\\delta⋅q - \\delta + 1)  \\delta⋅(1 - q)⋅⎜1 - ─────⎟⋅⎜────────\n",
       " 2        2    ⎟                                         ⎝    N - 1⎠ ⎜⎛       \n",
       "a ⋅(1 - q)  + 1⎠                                                     ⎝⎝- \\delt\n",
       "                                                                              \n",
       "                                                                              \n",
       "                                                                              \n",
       "                                                                              \n",
       "                                                                              \n",
       "                                                                              \n",
       "                                                                              \n",
       "                                                                              \n",
       "                                                                              \n",
       "                                                                              \n",
       "\n",
       "                                     2                           ⎞⎤\n",
       "(q + (1 - q)⋅(\\delta⋅q - \\delta + 1))            1 - \\delta      ⎟⎥\n",
       "──────────────────────────────────────── + ──────────────────────⎟⎥\n",
       "         2    ⎞ ⎛        2        2    ⎞           2        2    ⎟⎥\n",
       "a⋅(1 - q)  + 1⎠⋅⎝- \\delta ⋅(1 - q)  + 1⎠   - \\delta ⋅(1 - q)  + 1⎠⎥\n",
       "                                                                  ⎥\n",
       "                                                                  ⎥\n",
       "              0                                                   ⎥\n",
       "                                                                  ⎥\n",
       "                                                                  ⎥\n",
       "              0                                                   ⎥\n",
       "                                                                  ⎥\n",
       "        \\delta⋅(1 - q)                                            ⎥\n",
       "        ──────────────                                            ⎥\n",
       "            N - 1                                                 ⎦"
      ]
     },
     "execution_count": 42,
     "metadata": {},
     "output_type": "execute_result"
    }
   ],
   "source": [
    "x"
   ]
  },
  {
   "cell_type": "code",
   "execution_count": 43,
   "metadata": {},
   "outputs": [],
   "source": [
    "x[2] = x[2].factor()\n",
    "x[3] = x[3].factor()"
   ]
  },
  {
   "cell_type": "code",
   "execution_count": 44,
   "metadata": {},
   "outputs": [
    {
     "data": {
      "image/png": "[encoded data removed]",
      "text/latex": [
       "$\\displaystyle \\left[\\begin{matrix}0 & 0 & \\frac{\\left(N - 2\\right) \\left(\\delta q - \\delta + 1\\right)}{\\left(1 + e^{- \\beta \\left(- R + T\\right)}\\right) \\left(N - 1\\right)} & - \\frac{\\delta \\left(N - 2\\right) \\left(q - 1\\right)}{\\left(1 + e^{- \\beta \\left(P - R\\right)}\\right) \\left(N - 1\\right)}\\\\0 & 0 & \\frac{\\delta q - \\delta + 1}{\\left(1 + e^{- \\beta \\left(- S + T\\right)}\\right) \\left(N - 1\\right)} & 0\\\\0 & 0 & 0 & 0\\\\0 & 0 & 0 & \\frac{\\delta \\left(1 - q\\right)}{2 \\left(N - 1\\right)}\\end{matrix}\\right]$"
      ],
      "text/plain": [
       "⎡      (N - 2)⋅(\\delta⋅q - \\delta + 1)     -\\delta⋅(N - 2)⋅(q - 1)   ⎤\n",
       "⎢0  0  ───────────────────────────────  ─────────────────────────────⎥\n",
       "⎢       ⎛     -\\beta⋅(-R + T)⎞          ⎛     -\\beta⋅(P - R)⎞        ⎥\n",
       "⎢       ⎝1 + ℯ               ⎠⋅(N - 1)  ⎝1 + ℯ              ⎠⋅(N - 1)⎥\n",
       "⎢                                                                    ⎥\n",
       "⎢          \\delta⋅q - \\delta + 1                                     ⎥\n",
       "⎢0  0  ──────────────────────────────                 0              ⎥\n",
       "⎢      ⎛     -\\beta⋅(-S + T)⎞                                        ⎥\n",
       "⎢      ⎝1 + ℯ               ⎠⋅(N - 1)                                ⎥\n",
       "⎢                                                                    ⎥\n",
       "⎢0  0                 0                               0              ⎥\n",
       "⎢                                                                    ⎥\n",
       "⎢                                              \\delta⋅(1 - q)        ⎥\n",
       "⎢0  0                 0                        ──────────────        ⎥\n",
       "⎣                                                2⋅(N - 1)           ⎦"
      ]
     },
     "execution_count": 44,
     "metadata": {},
     "output_type": "execute_result"
    }
   ],
   "source": [
    "x.multiply_elementwise(Rho)"
   ]
  },
  {
   "cell_type": "markdown",
   "metadata": {},
   "source": [
    "Thus, for the case of the last round payoffs\n",
    "\n",
    "$$\\frac{\\lambda_{1}^{+}}{\\lambda_{1}^{-}} = \\frac{\\displaystyle \\frac{1}{N -1} \\left(\\frac{\\delta \\left(1 - q\\right)}{2} + \\frac{\\delta q - \\delta + 1}{\\left(1 + e^{- \\beta \\left(- S + T\\right)}\\right)}\\right) - \\frac{N-2}{N-1} \\left(\\frac{\\delta \\left(q - 1\\right)}{\\left(1 + e^{- \\beta \\left(P - R\\right)}\\right)} - \\frac{\n",
    "\\left(\\delta q - \\delta + 1\\right)}{\\left(1 + e^{- \\beta \\left(- R + T\\right)}\\right)} \\right)}{\\displaystyle \\frac{1}{N -1} \\left(\\frac{\\delta \\left(1 - q\\right)}{2} + \\frac{\\delta q - \\delta + 1}{\\left(1 + e^{- \\beta \\left(S - T\\right)}\\right)}\\right) - \\frac{N-2}{N-1} \\left(\\frac{\\delta \\left(q - 1\\right)}{\\left(1 + e^{- \\beta \\left(- P + R\\right)}\\right)} - \\frac{\n",
    "\\left(\\delta q - \\delta + 1\\right)}{\\left(1 + e^{- \\beta \\left(R - T\\right)}\\right)} \\right)}$$"
   ]
  },
  {
   "cell_type": "code",
   "execution_count": 45,
   "metadata": {},
   "outputs": [],
   "source": [
    "delta = 0.999\n",
    "q_val = 1 - 1 / (2 * delta)"
   ]
  },
  {
   "cell_type": "code",
   "execution_count": 46,
   "metadata": {},
   "outputs": [
    {
     "data": {
      "image/png": "[encoded data removed]",
      "text/latex": [
       "$\\displaystyle \\left( 0.9999999999999997, \\  0.0, \\  0.0, \\  0.0\\right)$"
      ],
      "text/plain": [
       "(0.9999999999999997, 0.0, 0.0, 0.0)"
      ]
     },
     "execution_count": 46,
     "metadata": {},
     "output_type": "execute_result"
    }
   ],
   "source": [
    "evol_dynamics.expected_distribution_last_round((1, 1, q_val), \n",
    "                                                   (1, 1, q_val), delta)"
   ]
  },
  {
   "cell_type": "code",
   "execution_count": 47,
   "metadata": {},
   "outputs": [
    {
     "data": {
      "image/png": "[encoded data removed]",
      "text/latex": [
       "$\\displaystyle \\left( 0.0, \\  0.0, \\  0.49999999999999994, \\  0.5\\right)$"
      ],
      "text/plain": [
       "(0.0, 0.0, 0.49999999999999994, 0.5)"
      ]
     },
     "execution_count": 47,
     "metadata": {},
     "output_type": "execute_result"
    }
   ],
   "source": [
    "evol_dynamics.expected_distribution_last_round((0, 0, 0), \n",
    "                                                   (1, 1, q_val), delta)"
   ]
  },
  {
   "cell_type": "markdown",
   "metadata": {},
   "source": [
    "**Expected**"
   ]
  },
  {
   "cell_type": "code",
   "execution_count": 48,
   "metadata": {},
   "outputs": [],
   "source": [
    "def steady_state(player, opponent, delta):\n",
    "    \n",
    "    v_zero = evol_dynamics.expected_distribution_opening_round(player, opponent)\n",
    "    M = evol_dynamics.markov_chain_for_reactive_strategies(player, opponent)\n",
    "    num = (1 - delta) * np.array(v_zero)\n",
    "    inverse = sym.Matrix(np.eye(4) - delta * M).inv()\n",
    "\n",
    "    for i, element in enumerate(inverse):\n",
    "        inverse[i] = element.factor()\n",
    "    \n",
    "    return np.dot(num, inverse)\n"
   ]
  },
  {
   "cell_type": "code",
   "execution_count": 49,
   "metadata": {},
   "outputs": [],
   "source": [
    "def phiExpected(vRR, vRM, vMR, vMM, N, u, beta, k=1):\n",
    "    \n",
    "    piMM = vMM @ u\n",
    "    piMR = vMR @ u\n",
    "    piRM = vRM @ u\n",
    "    piRR = vRR @ u\n",
    "    \n",
    "    piM = (k - 1) / (N - 1) * piMM + (N - k) / (N - 1) * piMR\n",
    "    piR = k / (N - 1) * piRM + (N - k - 1) / (N - 1) * piRR\n",
    "\n",
    "    return 1 / (1 + sym.exp(-beta * (piM - piR))), 1 / (1 + sym.exp(-beta * (piR - piM)));"
   ]
  },
  {
   "cell_type": "code",
   "execution_count": 50,
   "metadata": {},
   "outputs": [],
   "source": [
    "vRR = steady_state(gtft, gtft, delta)\n",
    "vRM = steady_state(gtft, alld, delta)\n",
    "vMR = steady_state(alld, gtft, delta)\n",
    "vMM = steady_state(alld, alld, delta)"
   ]
  },
  {
   "cell_type": "code",
   "execution_count": 51,
   "metadata": {},
   "outputs": [],
   "source": [
    "lambda_plus, lambda_minus = phiExpected(vRR, vRM, vMR, vMM, N, np.array([r, s, t, p]), beta, k=1)"
   ]
  },
  {
   "cell_type": "code",
   "execution_count": 52,
   "metadata": {},
   "outputs": [
    {
     "data": {
      "image/png": "[encoded data removed]",
      "text/latex": [
       "$\\displaystyle \\frac{1 + e^{- \\beta \\left(\\frac{1.997001 P \\left(0.499749874937469 q^{2} - 1.0 q + 0.500250125062531\\right)}{0.999000000000001 q - 1.0} + \\frac{1.0 R \\left(N - 2\\right)}{N - 1} - \\frac{0.998001000000001 T \\left(1.0 q^{2} - 1.0 q - 0.00100200300400501\\right)}{0.999000000000001 q - 1.0} + \\frac{- \\frac{1.997001 P \\left(0.499749874937469 q^{2} - 1.0 q + 0.500250125062531\\right)}{0.999 q - 1.0} + \\frac{0.998001 S \\left(1.0 q^{2} - 1.0 q - 0.00100200300400501\\right)}{0.999 q - 1.0}}{N - 1}\\right)}}{1 + e^{- \\beta \\left(- \\frac{1.997001 P \\left(0.499749874937469 q^{2} - 1.0 q + 0.500250125062531\\right)}{0.999000000000001 q - 1.0} - \\frac{1.0 R \\left(N - 2\\right)}{N - 1} + \\frac{0.998001000000001 T \\left(1.0 q^{2} - 1.0 q - 0.00100200300400501\\right)}{0.999000000000001 q - 1.0} - \\frac{- \\frac{1.997001 P \\left(0.499749874937469 q^{2} - 1.0 q + 0.500250125062531\\right)}{0.999 q - 1.0} + \\frac{0.998001 S \\left(1.0 q^{2} - 1.0 q - 0.00100200300400501\\right)}{0.999 q - 1.0}}{N - 1}\\right)}}$"
      ],
      "text/plain": [
       "             ⎛                                                                \n",
       "             ⎜                                                                \n",
       "             ⎜           ⎛                   2                            ⎞   \n",
       "             ⎜1.997001⋅P⋅⎝0.499749874937469⋅q  - 1.0⋅q + 0.500250125062531⎠   \n",
       "      -\\beta⋅⎜───────────────────────────────────────────────────────────── + \n",
       "             ⎝                  0.999000000000001⋅q - 1.0                     \n",
       " 1 + ℯ                                                                        \n",
       "──────────────────────────────────────────────────────────────────────────────\n",
       "            ⎛                                                                 \n",
       "            ⎜                                                                 \n",
       "            ⎜             ⎛                   2                            ⎞  \n",
       "            ⎜  1.997001⋅P⋅⎝0.499749874937469⋅q  - 1.0⋅q + 0.500250125062531⎠  \n",
       "     -\\beta⋅⎜- ───────────────────────────────────────────────────────────── -\n",
       "            ⎝                    0.999000000000001⋅q - 1.0                    \n",
       "1 + ℯ                                                                         \n",
       "\n",
       "                                                                              \n",
       "                                                                              \n",
       "                                    ⎛     2                              ⎞   -\n",
       "1.0⋅R⋅(N - 2)   0.998001000000001⋅T⋅⎝1.0⋅q  - 1.0⋅q - 0.00100200300400501⎠    \n",
       "───────────── - ────────────────────────────────────────────────────────── + ─\n",
       "    N - 1                       0.999000000000001⋅q - 1.0                     \n",
       "                                                                              \n",
       "──────────────────────────────────────────────────────────────────────────────\n",
       "                                                                              \n",
       "                                                                              \n",
       "                                     ⎛     2                              ⎞   \n",
       " 1.0⋅R⋅(N - 2)   0.998001000000001⋅T⋅⎝1.0⋅q  - 1.0⋅q - 0.00100200300400501⎠   \n",
       " ───────────── + ────────────────────────────────────────────────────────── - \n",
       "     N - 1                       0.999000000000001⋅q - 1.0                    \n",
       "                                                                              \n",
       "\n",
       "            ⎛                   2                            ⎞              ⎛ \n",
       " 1.997001⋅P⋅⎝0.499749874937469⋅q  - 1.0⋅q + 0.500250125062531⎠   0.998001⋅S⋅⎝1\n",
       " ───────────────────────────────────────────────────────────── + ─────────────\n",
       "                         0.999⋅q - 1.0                                        \n",
       "──────────────────────────────────────────────────────────────────────────────\n",
       "                                                      N - 1                   \n",
       "                                                                              \n",
       "──────────────────────────────────────────────────────────────────────────────\n",
       "             ⎛                   2                            ⎞              ⎛\n",
       "  1.997001⋅P⋅⎝0.499749874937469⋅q  - 1.0⋅q + 0.500250125062531⎠   0.998001⋅S⋅⎝\n",
       "- ───────────────────────────────────────────────────────────── + ────────────\n",
       "                          0.999⋅q - 1.0                                       \n",
       "──────────────────────────────────────────────────────────────────────────────\n",
       "                                                       N - 1                  \n",
       "                                                                              \n",
       "\n",
       "    2                              ⎞⎞ \n",
       ".0⋅q  - 1.0⋅q - 0.00100200300400501⎠⎟ \n",
       "────────────────────────────────────⎟ \n",
       "     0.999⋅q - 1.0                  ⎟ \n",
       "────────────────────────────────────⎟ \n",
       "                                    ⎠ \n",
       "                                      \n",
       "──────────────────────────────────────\n",
       "     2                              ⎞⎞\n",
       "1.0⋅q  - 1.0⋅q - 0.00100200300400501⎠⎟\n",
       "─────────────────────────────────────⎟\n",
       "      0.999⋅q - 1.0                  ⎟\n",
       "─────────────────────────────────────⎟\n",
       "                                     ⎠\n",
       "                                      "
      ]
     },
     "execution_count": 52,
     "metadata": {},
     "output_type": "execute_result"
    }
   ],
   "source": [
    "lambda_plus / lambda_minus"
   ]
  },
  {
   "cell_type": "code",
   "execution_count": 53,
   "metadata": {},
   "outputs": [],
   "source": [
    "num = p * delta + r - t * (delta * q - delta + 1)\n"
   ]
  },
  {
   "cell_type": "code",
   "execution_count": 54,
   "metadata": {},
   "outputs": [],
   "source": [
    "b, c = sym.symbols(\"b, c\")"
   ]
  },
  {
   "cell_type": "code",
   "execution_count": 55,
   "metadata": {},
   "outputs": [
    {
     "data": {
      "image/png": "[encoded data removed]",
      "text/latex": [
       "$\\displaystyle - 0.999 b q + 0.999 b - c$"
      ],
      "text/plain": [
       "-0.999⋅b⋅q + 0.999⋅b - c"
      ]
     },
     "execution_count": 55,
     "metadata": {},
     "output_type": "execute_result"
    }
   ],
   "source": [
    "num.subs({r: b - c, t: b, p:0}).expand()"
   ]
  },
  {
   "cell_type": "code",
   "execution_count": 58,
   "metadata": {},
   "outputs": [
    {
     "data": {
      "image/png": "[encoded data removed]",
      "text/latex": [
       "$\\displaystyle \\left[ \\frac{b - 1.001001001001 c}{b}\\right]$"
      ],
      "text/plain": [
       "⎡b - 1.001001001001⋅c⎤\n",
       "⎢────────────────────⎥\n",
       "⎣         b          ⎦"
      ]
     },
     "execution_count": 58,
     "metadata": {},
     "output_type": "execute_result"
    }
   ],
   "source": [
    "sym.solvers.solve(num.subs({r: b - c, t: b, p:0}).expand(), q)"
   ]
  },
  {
   "cell_type": "code",
   "execution_count": 59,
   "metadata": {},
   "outputs": [],
   "source": [
    "den = - p * delta - r + t * (delta * q - delta + 1)"
   ]
  },
  {
   "cell_type": "code",
   "execution_count": 60,
   "metadata": {},
   "outputs": [
    {
     "data": {
      "image/png": "[encoded data removed]",
      "text/latex": [
       "$\\displaystyle \\left[ \\frac{b - 1.001001001001 c}{b}\\right]$"
      ],
      "text/plain": [
       "⎡b - 1.001001001001⋅c⎤\n",
       "⎢────────────────────⎥\n",
       "⎣         b          ⎦"
      ]
     },
     "execution_count": 60,
     "metadata": {},
     "output_type": "execute_result"
    }
   ],
   "source": [
    "sym.solvers.solve(den.subs({r: b - c, t: b, p:0}).expand(), q)"
   ]
  },
  {
   "cell_type": "code",
   "execution_count": 61,
   "metadata": {},
   "outputs": [
    {
     "data": {
      "image/png": "[encoded data removed]",
      "text/latex": [
       "$\\displaystyle 0.6666333299996666$"
      ],
      "text/plain": [
       "0.6666333299996666"
      ]
     },
     "execution_count": 61,
     "metadata": {},
     "output_type": "execute_result"
    }
   ],
   "source": [
    "c_val = 1\n",
    "b_val = 3\n",
    "\n",
    "1 - 1 / (3 * 0.9999)"
   ]
  },
  {
   "cell_type": "code",
   "execution_count": 62,
   "metadata": {},
   "outputs": [],
   "source": [
    "gtft_val = (1, 1, 1 - 1 / (3 * 0.9999))"
   ]
  },
  {
   "cell_type": "code",
   "execution_count": 63,
   "metadata": {},
   "outputs": [],
   "source": [
    "vRR = steady_state(gtft_val, gtft_val, 0.9999)\n",
    "vRM = steady_state(gtft_val, alld, 0.9999)\n",
    "vMR = steady_state(alld, gtft_val, 0.9999)\n",
    "vMM = steady_state(alld, alld, 0.9999)"
   ]
  },
  {
   "cell_type": "code",
   "execution_count": 64,
   "metadata": {},
   "outputs": [],
   "source": [
    "u = [3 - 1, -1, 3, 0]"
   ]
  },
  {
   "cell_type": "code",
   "execution_count": 65,
   "metadata": {},
   "outputs": [],
   "source": [
    "k = 1"
   ]
  },
  {
   "cell_type": "code",
   "execution_count": 66,
   "metadata": {},
   "outputs": [],
   "source": [
    "piMM = vMM @ u\n",
    "piMR = vMR @ u\n",
    "piRM = vRM @ u\n",
    "piRR = vRR @ u\n",
    "\n",
    "piM = (k - 1) / (N - 1) * piMM + (N - k) / (N - 1) * piMR\n",
    "piR = k / (N - 1) * piRM + (N - k - 1) / (N - 1) * piRR\n"
   ]
  },
  {
   "cell_type": "code",
   "execution_count": 67,
   "metadata": {},
   "outputs": [
    {
     "data": {
      "image/png": "[encoded data removed]",
      "text/latex": [
       "$\\displaystyle \\left( 2.0, \\  \\frac{2.0 \\left(N - 2\\right)}{N - 1} - \\frac{0.666666666666632}{N - 1}\\right)$"
      ],
      "text/plain": [
       "⎛     2.0⋅(N - 2)   0.666666666666632⎞\n",
       "⎜2.0, ─────────── - ─────────────────⎟\n",
       "⎝        N - 1            N - 1      ⎠"
      ]
     },
     "execution_count": 67,
     "metadata": {},
     "output_type": "execute_result"
    }
   ],
   "source": [
    "piM, piR"
   ]
  },
  {
   "cell_type": "markdown",
   "metadata": {},
   "source": [
    "**Two opponents**"
   ]
  },
  {
   "cell_type": "code",
   "execution_count": 68,
   "metadata": {},
   "outputs": [],
   "source": [
    "def calculate_rho_sixteen(u, beta):\n",
    "\n",
    "    Us = sym.zeros(16)\n",
    "\n",
    "    for i in range(16):\n",
    "        for j in range(16):\n",
    "            Us[i, j] = (u[int(j / 4)] + u[j % 4]) - (u[int(i / 4)] + u[i % 4])\n",
    "\n",
    "    Us = Us / 2\n",
    "    Rho = sym.zeros(16)\n",
    "\n",
    "    for i in range(16):\n",
    "        for j in range(16):\n",
    "            Rho[i, j] = 1 / (1 + sym.exp(-beta * Us[i, j]))\n",
    "    \n",
    "    return Rho"
   ]
  },
  {
   "cell_type": "code",
   "execution_count": 69,
   "metadata": {},
   "outputs": [],
   "source": [
    "rho = calculate_rho_sixteen([r, s, t, p], beta)"
   ]
  },
  {
   "cell_type": "code",
   "execution_count": 70,
   "metadata": {},
   "outputs": [],
   "source": [
    "def phiTwoOpponents(vRR, vRM, vMR, vMM, N, k=1):\n",
    "    x = sym.zeros(16)\n",
    "    for i1 in range(16):\n",
    "        for i2 in range(16):\n",
    "\n",
    "            p_11 = int(i1 / 4)\n",
    "            p_12 = i1 % 4\n",
    "            q_21 = int(i2 / 4)\n",
    "            q_22 = i2 % 4\n",
    "\n",
    "            learner_role_model = (\n",
    "                1\n",
    "                / (N - 1)\n",
    "                * vRM[p_11]\n",
    "                * int(\n",
    "                    ((p_11 == 0) and (q_21 == 0))\n",
    "                    or ((p_11 == 1) and (q_21 == 2))\n",
    "                    or ((p_11 == 2) and (q_21 == 1))\n",
    "                    or ((p_11 == 3) and (q_21 == 3))\n",
    "                )\n",
    "                * (\n",
    "                    1\n",
    "                    / (N - 2)\n",
    "                    / (N - 3)\n",
    "                    * (\n",
    "                        (k - 1) * (k - 2) * vRM[p_12] * vMM[q_22]\n",
    "                        + (k - 1) * (N - k - 1) * vRM[p_12] * vMR[q_22]\n",
    "                        + (N - k - 1) * (k - 1) * vRR[p_12] * vMM[q_22]\n",
    "                        + (N - k - 1) * (N - k - 2) * vRR[p_12] * vMR[q_22]\n",
    "                    )\n",
    "                )\n",
    "            )\n",
    "\n",
    "            mutant_mutant = (\n",
    "                (1 - 1 / (N - 1))\n",
    "                / (N - 2)\n",
    "                / (N - 3)\n",
    "                * ((k - 1) * (k - 2) * vRM[p_11] * vMM[q_21])\n",
    "                * (\n",
    "                    (1 - 1 / (N - 2))\n",
    "                    / (N - 3)\n",
    "                    / (N - 4)\n",
    "                    * (\n",
    "                        (k - 2) * (k - 3) * vRM[p_12] * vMM[q_22]\n",
    "                        + (k - 2) * (N - k - 1) * vRR[p_12] * vMM[q_22]\n",
    "                        + (N - k - 1) * (k - 2) * vRM[p_12] * vMR[q_22]\n",
    "                        + (N - k - 1) * (N - k - 2) * vRR[p_12] * vMR[q_22]\n",
    "                    )\n",
    "                    + 1\n",
    "                    / (N - 2)\n",
    "                    * vRM[p_12]\n",
    "                    * int(\n",
    "                    ((p_12 == 0) and (q_22 == 0))\n",
    "                    or ((p_12 == 1) and (q_22 == 2))\n",
    "                    or ((p_12 == 2) and (q_22 == 1))\n",
    "                    or ((p_12 == 3) and (q_22 == 3))\n",
    "                )\n",
    "                )\n",
    "            )\n",
    "\n",
    "            mutant_resident = (\n",
    "                (1 - 1 / (N - 1))\n",
    "                / (N - 2)\n",
    "                / (N - 3)\n",
    "                * ((k - 1) * (N - k - 1) * vRM[p_11] * vMR[q_21])\n",
    "                * (\n",
    "                    (1 - 1 / (N - 2))\n",
    "                    / (N - 3)\n",
    "                    / (N - 4)\n",
    "                    * (\n",
    "                        (k - 1) * (k - 3) * vRM[p_12] * vMM[q_22]\n",
    "                        + (k - 1) * (N - k - 1) * vRR[p_12] * vMM[q_22]\n",
    "                        + (N - k - 2) * (k - 2) * vRM[p_12] * vMR[q_22]\n",
    "                        + (N - k - 2) * (N - k - 2) * vRR[p_12] * vMR[q_22]\n",
    "                    )\n",
    "                    + 1\n",
    "                    / (N - 2)\n",
    "                    * vRM[p_12]\n",
    "                    * int(\n",
    "                    ((p_12 == 0) and (q_22 == 0))\n",
    "                    or ((p_12 == 1) and (q_22 == 2))\n",
    "                    or ((p_12 == 2) and (q_22 == 1))\n",
    "                    or ((p_12 == 3) and (q_22 == 3))\n",
    "                )\n",
    "                )\n",
    "            )\n",
    "\n",
    "            resident_mutant = (\n",
    "                (1 - 1 / (N - 1))\n",
    "                / (N - 2)\n",
    "                / (N - 3)\n",
    "                * ((N - k - 1) * (k - 1) * vRR[p_11] * vMM[q_21])\n",
    "                * (\n",
    "                    (1 - 1 / (N - 2))\n",
    "                    / (N - 3)\n",
    "                    / (N - 4)\n",
    "                    * (\n",
    "                        (k - 2) * (k - 2) * vRM[p_12] * vMM[q_22]\n",
    "                        + (k - 2) * (N - k - 2) * vRR[p_12] * vMM[q_22]\n",
    "                        + (N - k - 1) * (k - 1) * vRM[p_12] * vMR[q_22]\n",
    "                        + (N - k - 1) * (N - k - 3) * vRR[p_12] * vMR[q_22]\n",
    "                    )\n",
    "                    + 1\n",
    "                    / (N - 2)\n",
    "                    * vRM[p_12]\n",
    "                    * int(\n",
    "                    ((p_12 == 0) and (q_22 == 0))\n",
    "                    or ((p_12 == 1) and (q_22 == 2))\n",
    "                    or ((p_12 == 2) and (q_22 == 1))\n",
    "                    or ((p_12 == 3) and (q_22 == 3))\n",
    "                )\n",
    "                )\n",
    "            )\n",
    "\n",
    "            resident_resident = (\n",
    "                (1 - 1 / (N - 1))\n",
    "                / (N - 2)\n",
    "                / (N - 3)\n",
    "                * (N - k - 1)\n",
    "                * (N - k - 2)\n",
    "                * vRR[p_11]\n",
    "                * vMR[q_21]\n",
    "                * (\n",
    "                    (1 - 1 / (N - 2))\n",
    "                    / (N - 3)\n",
    "                    / (N - 4)\n",
    "                    * (\n",
    "                        (k - 1) * (k - 2) * vRM[p_12] * vMM[q_22]\n",
    "                        + (k - 1) * (N - k - 2) * vRR[p_12] * vMM[q_22]\n",
    "                        + (N - k - 2) * (k - 1) * vRM[p_12] * vMR[q_22]\n",
    "                        + (N - k - 2) * (N - k - 3) * vRR[p_12] * vMR[q_22]\n",
    "                    )\n",
    "                    + 1\n",
    "                    / (N - 2)\n",
    "                    * vRM[p_12]\n",
    "                    * int(\n",
    "                    ((p_12 == 0) and (q_22 == 0))\n",
    "                    or ((p_12 == 1) and (q_22 == 2))\n",
    "                    or ((p_12 == 2) and (q_22 == 1))\n",
    "                    or ((p_12 == 3) and (q_22 == 3))\n",
    "                )\n",
    "                )\n",
    "            )\n",
    "\n",
    "            x[i1, i2] = learner_role_model + (\n",
    "                mutant_mutant + mutant_resident + resident_mutant + resident_resident\n",
    "            )\n",
    "    return x"
   ]
  },
  {
   "cell_type": "code",
   "execution_count": 81,
   "metadata": {},
   "outputs": [],
   "source": [
    "delta = sym.symbols(\"\\delta\")"
   ]
  },
  {
   "cell_type": "code",
   "execution_count": 83,
   "metadata": {},
   "outputs": [],
   "source": [
    "vRR = evol_dynamics.expected_distribution_last_round(gtft, gtft, delta)\n",
    "vRM = evol_dynamics.expected_distribution_last_round(gtft, alld, delta)\n",
    "vMR = evol_dynamics.expected_distribution_last_round(alld, gtft, delta)\n",
    "vMM = evol_dynamics.expected_distribution_last_round(alld, alld, delta)"
   ]
  },
  {
   "cell_type": "code",
   "execution_count": 86,
   "metadata": {},
   "outputs": [],
   "source": [
    "x = phiTwoOpponents(vRR, vRM, vMR, vMM, N, k=1)"
   ]
  },
  {
   "cell_type": "code",
   "execution_count": 87,
   "metadata": {},
   "outputs": [],
   "source": [
    "import itertools"
   ]
  },
  {
   "cell_type": "code",
   "execution_count": 88,
   "metadata": {},
   "outputs": [
    {
     "data": {
      "text/plain": [
       "('R', 'P', 'P', 'P')"
      ]
     },
     "execution_count": 88,
     "metadata": {},
     "output_type": "execute_result"
    }
   ],
   "source": [
    "list(itertools.product([\"R\", \"S\", \"T\", \"P\"], repeat=4))[63]"
   ]
  },
  {
   "cell_type": "code",
   "execution_count": 89,
   "metadata": {},
   "outputs": [],
   "source": [
    "for i, element in enumerate(x):\n",
    "    x[i] = element.factor()"
   ]
  },
  {
   "cell_type": "code",
   "execution_count": 90,
   "metadata": {},
   "outputs": [
    {
     "data": {
      "image/png": "[encoded data removed]",
      "text/latex": [
       "$\\displaystyle \\frac{\\delta^{2} \\left(N - 3\\right) \\left(q - 1\\right)^{2}}{\\left(1 + e^{- \\beta \\left(P - R\\right)}\\right) \\left(N - 1\\right)} + \\frac{2 \\delta^{2} \\left(q - 1\\right)^{2}}{\\left(1 + e^{- \\beta \\left(\\frac{P}{2} - \\frac{R}{2}\\right)}\\right) \\left(N - 1\\right)} - \\frac{2 \\delta \\left(q - 1\\right) \\left(\\delta q - \\delta + 1\\right)}{\\left(1 + e^{- \\beta \\left(\\frac{P}{2} - \\frac{R}{2} - \\frac{S}{2} + \\frac{T}{2}\\right)}\\right) \\left(N - 1\\right)} - \\frac{2 \\delta \\left(N - 3\\right) \\left(q - 1\\right) \\left(\\delta q - \\delta + 1\\right)}{\\left(1 + e^{- \\beta \\left(\\frac{P}{2} - R + \\frac{T}{2}\\right)}\\right) \\left(N - 1\\right)} - \\frac{2 \\delta \\left(q - 1\\right) \\left(\\delta q - \\delta + 1\\right)}{\\left(1 + e^{- \\beta \\left(- \\frac{R}{2} + \\frac{T}{2}\\right)}\\right) \\left(N - 1\\right)} + \\frac{2 \\left(\\delta q - \\delta + 1\\right)^{2}}{\\left(1 + e^{- \\beta \\left(- \\frac{R}{2} - \\frac{S}{2} + T\\right)}\\right) \\left(N - 1\\right)} + \\frac{\\left(N - 3\\right) \\left(\\delta q - \\delta + 1\\right)^{2}}{\\left(1 + e^{- \\beta \\left(- R + T\\right)}\\right) \\left(N - 1\\right)}$"
      ],
      "text/plain": [
       "         2                2                   2        2                      \n",
       "   \\delta ⋅(N - 3)⋅(q - 1)            2⋅\\delta ⋅(q - 1)         2⋅\\delta⋅(q - \n",
       "───────────────────────────── + ───────────────────────────── - ──────────────\n",
       "⎛     -\\beta⋅(P - R)⎞           ⎛            ⎛P   R⎞⎞            ⎛            \n",
       "⎝1 + ℯ              ⎠⋅(N - 1)   ⎜     -\\beta⋅⎜─ - ─⎟⎟            ⎜     -\\beta⋅\n",
       "                                ⎜            ⎝2   2⎠⎟            ⎜            \n",
       "                                ⎝1 + ℯ              ⎠⋅(N - 1)    ⎝1 + ℯ       \n",
       "\n",
       "                                                                              \n",
       "1)⋅(\\delta⋅q - \\delta + 1)   2⋅\\delta⋅(N - 3)⋅(q - 1)⋅(\\delta⋅q - \\delta + 1) \n",
       "────────────────────────── - ──────────────────────────────────────────────── \n",
       "⎛P   R   S   T⎞⎞                    ⎛            ⎛P       T⎞⎞                 \n",
       "⎜─ - ─ - ─ + ─⎟⎟                    ⎜     -\\beta⋅⎜─ - R + ─⎟⎟                 \n",
       "⎝2   2   2   2⎠⎟                    ⎜            ⎝2       2⎠⎟                 \n",
       "               ⎠⋅(N - 1)            ⎝1 + ℯ                  ⎠⋅(N - 1)         \n",
       "\n",
       "                                                                           2  \n",
       "  2⋅\\delta⋅(q - 1)⋅(\\delta⋅q - \\delta + 1)        2⋅(\\delta⋅q - \\delta + 1)   \n",
       "- ──────────────────────────────────────── + ─────────────────────────────────\n",
       "      ⎛            ⎛  R   T⎞⎞                ⎛            ⎛  R   S    ⎞⎞      \n",
       "      ⎜     -\\beta⋅⎜- ─ + ─⎟⎟                ⎜     -\\beta⋅⎜- ─ - ─ + T⎟⎟      \n",
       "      ⎜            ⎝  2   2⎠⎟                ⎜            ⎝  2   2    ⎠⎟      \n",
       "      ⎝1 + ℯ                ⎠⋅(N - 1)        ⎝1 + ℯ                    ⎠⋅(N - \n",
       "\n",
       "                                    2\n",
       "     (N - 3)⋅(\\delta⋅q - \\delta + 1) \n",
       "── + ────────────────────────────────\n",
       "      ⎛     -\\beta⋅(-R + T)⎞         \n",
       "      ⎝1 + ℯ               ⎠⋅(N - 1) \n",
       "                                     \n",
       "1)                                   "
      ]
     },
     "execution_count": 90,
     "metadata": {},
     "output_type": "execute_result"
    }
   ],
   "source": [
    "sum(x.multiply_elementwise(rho))"
   ]
  },
  {
   "cell_type": "code",
   "execution_count": 91,
   "metadata": {},
   "outputs": [
    {
     "data": {
      "image/png": "[encoded data removed]",
      "text/latex": [
       "$\\displaystyle \\frac{2 \\delta^{2} \\left(q - 1\\right)^{2}}{\\left(1 + e^{- \\beta \\left(- \\frac{P}{2} + \\frac{R}{2}\\right)}\\right) \\left(N - 1\\right)} + \\frac{\\delta^{2} \\left(N - 3\\right) \\left(q - 1\\right)^{2}}{\\left(1 + e^{- \\beta \\left(- P + R\\right)}\\right) \\left(N - 1\\right)} - \\frac{2 \\delta \\left(q - 1\\right) \\left(\\delta q - \\delta + 1\\right)}{\\left(1 + e^{- \\beta \\left(- \\frac{P}{2} + \\frac{R}{2} + \\frac{S}{2} - \\frac{T}{2}\\right)}\\right) \\left(N - 1\\right)} - \\frac{2 \\delta \\left(N - 3\\right) \\left(q - 1\\right) \\left(\\delta q - \\delta + 1\\right)}{\\left(1 + e^{- \\beta \\left(- \\frac{P}{2} + R - \\frac{T}{2}\\right)}\\right) \\left(N - 1\\right)} - \\frac{2 \\delta \\left(q - 1\\right) \\left(\\delta q - \\delta + 1\\right)}{\\left(1 + e^{- \\beta \\left(\\frac{R}{2} - \\frac{T}{2}\\right)}\\right) \\left(N - 1\\right)} + \\frac{2 \\left(\\delta q - \\delta + 1\\right)^{2}}{\\left(1 + e^{- \\beta \\left(\\frac{R}{2} + \\frac{S}{2} - T\\right)}\\right) \\left(N - 1\\right)} + \\frac{\\left(N - 3\\right) \\left(\\delta q - \\delta + 1\\right)^{2}}{\\left(1 + e^{- \\beta \\left(R - T\\right)}\\right) \\left(N - 1\\right)}$"
      ],
      "text/plain": [
       "               2        2                  2                2                 \n",
       "       2⋅\\delta ⋅(q - 1)             \\delta ⋅(N - 3)⋅(q - 1)       2⋅\\delta⋅(q\n",
       "─────────────────────────────── + ────────────────────────────── - ───────────\n",
       "⎛            ⎛  P   R⎞⎞           ⎛     -\\beta⋅(-P + R)⎞           ⎛          \n",
       "⎜     -\\beta⋅⎜- ─ + ─⎟⎟           ⎝1 + ℯ               ⎠⋅(N - 1)   ⎜     -\\bet\n",
       "⎜            ⎝  2   2⎠⎟                                            ⎜          \n",
       "⎝1 + ℯ                ⎠⋅(N - 1)                                    ⎝1 + ℯ     \n",
       "\n",
       "                                                                              \n",
       " - 1)⋅(\\delta⋅q - \\delta + 1)   2⋅\\delta⋅(N - 3)⋅(q - 1)⋅(\\delta⋅q - \\delta + \n",
       "───────────────────────────── - ──────────────────────────────────────────────\n",
       "  ⎛  P   R   S   T⎞⎞                  ⎛            ⎛  P       T⎞⎞             \n",
       "a⋅⎜- ─ + ─ + ─ - ─⎟⎟                  ⎜     -\\beta⋅⎜- ─ + R - ─⎟⎟             \n",
       "  ⎝  2   2   2   2⎠⎟                  ⎜            ⎝  2       2⎠⎟             \n",
       "                   ⎠⋅(N - 1)          ⎝1 + ℯ                    ⎠⋅(N - 1)     \n",
       "\n",
       "                                                                             2\n",
       "1)   2⋅\\delta⋅(q - 1)⋅(\\delta⋅q - \\delta + 1)       2⋅(\\delta⋅q - \\delta + 1) \n",
       "── - ──────────────────────────────────────── + ──────────────────────────────\n",
       "          ⎛            ⎛R   T⎞⎞                 ⎛            ⎛R   S    ⎞⎞     \n",
       "          ⎜     -\\beta⋅⎜─ - ─⎟⎟                 ⎜     -\\beta⋅⎜─ + ─ - T⎟⎟     \n",
       "          ⎜            ⎝2   2⎠⎟                 ⎜            ⎝2   2    ⎠⎟     \n",
       "          ⎝1 + ℯ              ⎠⋅(N - 1)         ⎝1 + ℯ                  ⎠⋅(N -\n",
       "\n",
       "                                     2\n",
       "      (N - 3)⋅(\\delta⋅q - \\delta + 1) \n",
       "─── + ────────────────────────────────\n",
       "       ⎛     -\\beta⋅(R - T)⎞          \n",
       "       ⎝1 + ℯ              ⎠⋅(N - 1)  \n",
       "                                      \n",
       " 1)                                   "
      ]
     },
     "execution_count": 91,
     "metadata": {},
     "output_type": "execute_result"
    }
   ],
   "source": [
    "sum(x.multiply_elementwise(rho.T))"
   ]
  },
  {
   "cell_type": "markdown",
   "metadata": {},
   "source": [
    "Thus, for the case of the two last opponents\n",
    "\n",
    "$\\frac{\\lambda_{1}^{+}}{\\lambda_{1}^{-}} = \\frac{\\displaystyle \\frac{1}{N -1} \\left(\\frac{2 \\delta^{2} \\left(q - 1\\right)^{2}}{\\left(1 + e^{- \\beta \\left(\\frac{P}{2} - \\frac{R}{2}\\right)}\\right)} - \\frac{2 \\delta \\left(q - 1\\right) \\left(\\delta q - \\delta + 1\\right)}{\\left(1 + e^{- \\beta \\left(\\frac{P}{2} - \\frac{R}{2} - \\frac{S}{2} + \\frac{T}{2}\\right)}\\right)}  - \\frac{2 \\delta \\left(q - 1\\right) \\left(\\delta q - \\delta + 1\\right)}{\\left(1 + e^{- \\beta \\left(- \\frac{R}{2} + \\frac{T}{2}\\right)}\\right)} + \\frac{2 \\left(\\delta q - \\delta + 1\\right)^{2}}{\\left(1 + e^{- \\beta \\left(- \\frac{R}{2} - \\frac{S}{2} + T\\right)}\\right)}  \\right) + \\frac{N-3}{N-1} \\left( \\displaystyle \\frac{\\delta^{2} \\left(q - 1\\right)^{2}}{\\left(1 + e^{- \\beta \\left(P - R\\right)} \\right)} - \\frac{2 \\delta \\left(q - 1\\right) \\left(\\delta q - \\delta + 1\\right)}{\\left(1 + e^{- \\beta \\left(\\frac{P}{2} - R + \\frac{T}{2}\\right)}\\right)} + \\frac{ \\left(\\delta q - \\delta + 1\\right)^{2}}{\\left(1 + e^{- \\beta \\left(- R + T\\right)}\\right)} \\right)}\n",
    "{\\displaystyle \\frac{1}{N -1} \\left(\\frac{2 \\delta^{2} \\left(q - 1\\right)^{2}}{\\left(1 + e^{- \\beta \\left(-\\frac{P}{2} + \\frac{R}{2}\\right)}\\right)} - \\frac{2 \\delta \\left(q - 1\\right) \\left(\\delta q - \\delta + 1\\right)}{\\left(1 + e^{- \\beta \\left(-\\frac{P}{2} + \\frac{R}{2} + \\frac{S}{2} - \\frac{T}{2}\\right)}\\right)}  - \\frac{2 \\delta \\left(q - 1\\right) \\left(\\delta q - \\delta + 1\\right)}{\\left(1 + e^{- \\beta \\left(\\frac{R}{2} - \\frac{T}{2}\\right)}\\right)} + \\frac{2 \\left(\\delta q - \\delta + 1\\right)^{2}}{\\left(1 + e^{- \\beta \\left(\\frac{R}{2} + \\frac{S}{2} - T\\right)}\\right)}  \\right) + \\frac{N-3}{N-1} \\left( \\displaystyle \\frac{\\delta^{2} \\left(q - 1\\right)^{2}}{\\left(1 + e^{- \\beta \\left(- P + R\\right)} \\right)} - \\frac{2 \\delta \\left(q - 1\\right) \\left(\\delta q - \\delta + 1\\right)}{\\left(1 + e^{- \\beta \\left(-\\frac{P}{2} + R + \\frac{T}{2}\\right)}\\right)} + \\frac{ \\left(\\delta q - \\delta + 1\\right)^{2}}{\\left(1 + e^{- \\beta \\left(R - T\\right)}\\right)} \\right)}$"
   ]
  },
  {
   "cell_type": "code",
   "execution_count": 92,
   "metadata": {},
   "outputs": [
    {
     "data": {
      "image/png": "[encoded data removed]",
      "text/latex": [
       "$\\displaystyle \\left( \\left(\\delta q - \\delta + 1\\right)^{2}, \\  - \\delta \\left(q - 1\\right) \\left(\\delta q - \\delta + 1\\right)\\right)$"
      ],
      "text/plain": [
       "⎛                       2                                         ⎞\n",
       "⎝(\\delta⋅q - \\delta + 1) , -\\delta⋅(q - 1)⋅(\\delta⋅q - \\delta + 1)⎠"
      ]
     },
     "execution_count": 92,
     "metadata": {},
     "output_type": "execute_result"
    }
   ],
   "source": [
    "sym.fraction(x[26])[0], sym.fraction(x[11])[0] / (N - 3)"
   ]
  },
  {
   "cell_type": "code",
   "execution_count": 93,
   "metadata": {},
   "outputs": [],
   "source": [
    "num = ((sym.fraction(x[26])[0]) + 2 *  sym.fraction(x[11])[0] / (N - 3)).factor()"
   ]
  },
  {
   "cell_type": "code",
   "execution_count": 94,
   "metadata": {},
   "outputs": [
    {
     "data": {
      "image/png": "[encoded data removed]",
      "text/latex": [
       "$\\displaystyle \\left[ \\frac{\\delta - \\frac{\\sqrt{2}}{2}}{\\delta}, \\  \\frac{\\delta + \\frac{\\sqrt{2}}{2}}{\\delta}\\right]$"
      ],
      "text/plain": [
       "⎡         √2           √2⎤\n",
       "⎢\\delta - ──  \\delta + ──⎥\n",
       "⎢         2            2 ⎥\n",
       "⎢───────────, ───────────⎥\n",
       "⎣   \\delta       \\delta  ⎦"
      ]
     },
     "execution_count": 94,
     "metadata": {},
     "output_type": "execute_result"
    }
   ],
   "source": [
    "sym.solvers.solve((num - delta ** 2 * (q - 1) ** 2).factor(), q)"
   ]
  },
  {
   "cell_type": "code",
   "execution_count": 95,
   "metadata": {},
   "outputs": [
    {
     "data": {
      "image/png": "[encoded data removed]",
      "text/latex": [
       "$\\displaystyle - \\delta \\left(q - 1\\right) \\left(\\delta q - \\delta + 2\\right)$"
      ],
      "text/plain": [
       "-\\delta⋅(q - 1)⋅(\\delta⋅q - \\delta + 2)"
      ]
     },
     "execution_count": 95,
     "metadata": {},
     "output_type": "execute_result"
    }
   ],
   "source": [
    "den = (delta ** 2 * (q - 1) ** 2) + 2 *  sym.fraction(x[11])[0] / (N - 3)\n",
    "den.factor()"
   ]
  },
  {
   "cell_type": "code",
   "execution_count": 96,
   "metadata": {},
   "outputs": [
    {
     "data": {
      "image/png": "[encoded data removed]",
      "text/latex": [
       "$\\displaystyle \\delta^{2} \\left(q - 1\\right)^{2}$"
      ],
      "text/plain": [
       "      2        2\n",
       "\\delta ⋅(q - 1) "
      ]
     },
     "execution_count": 96,
     "metadata": {},
     "output_type": "execute_result"
    }
   ],
   "source": [
    "(delta ** 2 * (q - 1) ** 2)"
   ]
  },
  {
   "cell_type": "code",
   "execution_count": 97,
   "metadata": {},
   "outputs": [
    {
     "data": {
      "image/png": "[encoded data removed]",
      "text/latex": [
       "$\\displaystyle - 2 \\delta \\left(q - 1\\right) \\left(\\delta q - \\delta + 1\\right)$"
      ],
      "text/plain": [
       "-2⋅\\delta⋅(q - 1)⋅(\\delta⋅q - \\delta + 1)"
      ]
     },
     "execution_count": 97,
     "metadata": {},
     "output_type": "execute_result"
    }
   ],
   "source": [
    "2 *  sym.fraction(x[11])[0] / (N - 3)"
   ]
  },
  {
   "cell_type": "code",
   "execution_count": 98,
   "metadata": {},
   "outputs": [
    {
     "data": {
      "image/png": "[encoded data removed]",
      "text/latex": [
       "$\\displaystyle \\frac{\\left(\\delta q - \\delta + 1\\right)^{2}}{N - 1}$"
      ],
      "text/plain": [
       "                       2\n",
       "(\\delta⋅q - \\delta + 1) \n",
       "────────────────────────\n",
       "         N - 1          "
      ]
     },
     "execution_count": 98,
     "metadata": {},
     "output_type": "execute_result"
    }
   ],
   "source": [
    "x[26]"
   ]
  },
  {
   "cell_type": "code",
   "execution_count": 99,
   "metadata": {},
   "outputs": [
    {
     "data": {
      "image/png": "[encoded data removed]",
      "text/latex": [
       "$\\displaystyle \\left(\\delta q - \\delta + 1\\right)^{2}$"
      ],
      "text/plain": [
       "                       2\n",
       "(\\delta⋅q - \\delta + 1) "
      ]
     },
     "execution_count": 99,
     "metadata": {},
     "output_type": "execute_result"
    }
   ],
   "source": [
    "sym.fraction(x[26])[0]"
   ]
  },
  {
   "cell_type": "code",
   "execution_count": 100,
   "metadata": {},
   "outputs": [
    {
     "data": {
      "image/png": "[encoded data removed]",
      "text/latex": [
       "$\\displaystyle \\left[ \\frac{\\delta - 1 - \\frac{\\sqrt{2}}{2}}{\\delta}, \\  \\frac{\\delta - 1 + \\frac{\\sqrt{2}}{2}}{\\delta}\\right]$"
      ],
      "text/plain": [
       "⎡             √2               √2⎤\n",
       "⎢\\delta - 1 - ──  \\delta - 1 + ──⎥\n",
       "⎢             2                2 ⎥\n",
       "⎢───────────────, ───────────────⎥\n",
       "⎣     \\delta           \\delta    ⎦"
      ]
     },
     "execution_count": 100,
     "metadata": {},
     "output_type": "execute_result"
    }
   ],
   "source": [
    "sym.solvers.solve((sym.fraction(x[26])[0]  - den).factor(), q)"
   ]
  },
  {
   "cell_type": "code",
   "execution_count": 101,
   "metadata": {},
   "outputs": [],
   "source": [
    "import math"
   ]
  },
  {
   "cell_type": "code",
   "execution_count": 102,
   "metadata": {},
   "outputs": [
    {
     "data": {
      "image/png": "[encoded data removed]",
      "text/latex": [
       "$\\displaystyle 0.7071067811865476$"
      ],
      "text/plain": [
       "0.7071067811865476"
      ]
     },
     "execution_count": 102,
     "metadata": {},
     "output_type": "execute_result"
    }
   ],
   "source": [
    "math.sqrt(2) / 2"
   ]
  },
  {
   "cell_type": "code",
   "execution_count": 103,
   "metadata": {},
   "outputs": [
    {
     "data": {
      "image/png": "[encoded data removed]",
      "text/latex": [
       "$\\displaystyle 0.6666666666666667$"
      ],
      "text/plain": [
       "0.6666666666666667"
      ]
     },
     "execution_count": 103,
     "metadata": {},
     "output_type": "execute_result"
    }
   ],
   "source": [
    "1 - 1 / 3"
   ]
  },
  {
   "cell_type": "markdown",
   "metadata": {},
   "source": [
    "**Two rounds**"
   ]
  },
  {
   "cell_type": "code",
   "execution_count": 104,
   "metadata": {},
   "outputs": [],
   "source": [
    "def stationary(s_1, s_2, delta):\n",
    "    \n",
    "    v_zero = sym.Matrix(evol_dynamics.expected_distribution_opening_round(s_1, s_2))\n",
    "    M = evol_dynamics.markov_chain_for_reactive_strategies(s_1, s_2)\n",
    "    \n",
    "    rhs = v_zero.T * sym.Matrix((np.eye(4) - delta * M)).inv() \n",
    "    \n",
    "    v = sym.zeros(4)\n",
    "    \n",
    "    \n",
    "    for i in range(4):\n",
    "        for j in range(4):\n",
    "    \n",
    "            v[i, j] = (1 - delta) * M[i, j] * (delta ** 2) * rhs[i]\n",
    "        \n",
    "    return v.reshape(1, 16)"
   ]
  },
  {
   "cell_type": "code",
   "execution_count": 105,
   "metadata": {},
   "outputs": [],
   "source": [
    "vRR = stationary(gtft, gtft, delta)\n",
    "vRM = stationary(gtft, alld, delta)\n",
    "vMR = stationary(alld, gtft, delta)\n",
    "vMM = stationary(alld, alld, delta)"
   ]
  },
  {
   "cell_type": "code",
   "execution_count": 106,
   "metadata": {},
   "outputs": [],
   "source": [
    "def phiTwoRounds(vRR, vRM, vMR, vMM, N, k=1):\n",
    "\n",
    "    x = sym.zeros(16)\n",
    "    for i in range(16):\n",
    "        for j in range(16):\n",
    "\n",
    "            x[i, j] = 1 / (N - 1) * vRM[i] * int(\n",
    "                ((i == 0) and (j == 0))\n",
    "                or ((i == 1) and  (j == 2))\n",
    "                or ((i == 2) and  (j == 1))\n",
    "                or ((i == 3) and  (j == 3))\n",
    "                or ((i == 4) and  (j == 8))\n",
    "                or ((i == 5) and  (j == 10))\n",
    "                or ((i == 6) and  (j == 9))\n",
    "                or ((i == 7) and  (j == 11))\n",
    "                or ((i == 8) and  (j == 4))\n",
    "                or ((i == 9)  and (j == 6))\n",
    "                or ((i == 10) and (j == 5))\n",
    "                or ((i == 11) and (j == 7))\n",
    "                or ((i == 12) and (j == 12))\n",
    "                or ((i == 13) and (j == 14))\n",
    "                or ((i == 14) and (j == 13))\n",
    "                or ((i == 15) and (j == 15))\n",
    "            ) + (1 - 1 / (N - 1)) / (N - 2) / (N - 3) * (\n",
    "                (k - 1) * (k - 2) * vRM[i] * vMM[j]\n",
    "                + (k - 1) * (N - k - 1) * vRM[i] * vMR[j]\n",
    "                + (N - k - 1) * (k - 1) * vRR[i] * vMM[j]\n",
    "                + (N - k - 1) * (N - k - 2) * vRR[i] * vMR[j]\n",
    "            )\n",
    "\n",
    "    return x"
   ]
  },
  {
   "cell_type": "code",
   "execution_count": 107,
   "metadata": {},
   "outputs": [],
   "source": [
    "x = phiTwoRounds(vRR, vRM, vMR, vMM, N, k=1)"
   ]
  },
  {
   "cell_type": "code",
   "execution_count": 108,
   "metadata": {},
   "outputs": [],
   "source": [
    "for i, element in enumerate(x):\n",
    "    x[i] = element.factor()"
   ]
  },
  {
   "cell_type": "code",
   "execution_count": 114,
   "metadata": {},
   "outputs": [
    {
     "data": {
      "image/png": "[encoded data removed]",
      "text/latex": [
       "$\\displaystyle - \\frac{1.0 \\delta^{5} q \\left(N - 2\\right) \\left(\\delta - 1\\right) \\left(q - 1\\right)}{\\left(1 + e^{- \\beta \\left(\\frac{P}{2} - R + \\frac{T}{2}\\right)}\\right) \\left(N - 1\\right) \\left(1.0 \\delta - 1.0\\right)} + \\frac{1.0 \\delta^{5} \\left(N - 2\\right) \\left(\\delta - 1\\right) \\left(q - 1\\right)^{2}}{\\left(1 + e^{- \\beta \\left(P - R\\right)}\\right) \\left(N - 1\\right) \\left(1.0 \\delta - 1.0\\right)} + \\frac{1.0 \\delta^{4} q \\left(N - 2\\right) \\left(\\delta - 1\\right) \\left(\\delta q - \\delta + 1\\right)}{\\left(1 + e^{- \\beta \\left(- R + T\\right)}\\right) \\left(N - 1\\right) \\left(1.0 \\delta - 1.0\\right)} - \\frac{1.0 \\delta^{4} \\left(N - 2\\right) \\left(\\delta - 1\\right) \\left(q - 1\\right) \\left(\\delta q - \\delta + 1\\right)}{\\left(1 + e^{- \\beta \\left(\\frac{P}{2} - R + \\frac{T}{2}\\right)}\\right) \\left(N - 1\\right) \\left(1.0 \\delta - 1.0\\right)} - \\frac{1.0 \\delta^{3} q \\left(q - 1\\right)}{\\left(1 + e^{- \\beta \\left(- \\frac{S}{2} + \\frac{T}{2}\\right)}\\right) \\left(N - 1\\right)} + \\frac{0.5 \\delta^{3} \\left(q - 1\\right)^{2}}{N - 1} + \\frac{1.0 \\delta^{2} q \\left(\\delta q - \\delta + 1\\right)}{\\left(1 + e^{- \\beta \\left(- S + T\\right)}\\right) \\left(N - 1\\right)} - \\frac{1.0 \\delta^{2} \\left(q - 1\\right) \\left(\\delta q - \\delta + 1\\right)}{\\left(1 + e^{- \\beta \\left(- \\frac{S}{2} + \\frac{T}{2}\\right)}\\right) \\left(N - 1\\right)}$"
      ],
      "text/plain": [
       "                 5                                                    5       \n",
       "       1.0⋅\\delta ⋅q⋅(N - 2)⋅(\\delta - 1)⋅(q - 1)           1.0⋅\\delta ⋅(N - 2\n",
       "- ──────────────────────────────────────────────────── + ─────────────────────\n",
       "  ⎛            ⎛P       T⎞⎞                              ⎛     -\\beta⋅(P - R)⎞\n",
       "  ⎜     -\\beta⋅⎜─ - R + ─⎟⎟                              ⎝1 + ℯ              ⎠\n",
       "  ⎜            ⎝2       2⎠⎟                                                   \n",
       "  ⎝1 + ℯ                  ⎠⋅(N - 1)⋅(1.0⋅\\delta - 1.0)                        \n",
       "\n",
       "                      2                 4                                     \n",
       ")⋅(\\delta - 1)⋅(q - 1)        1.0⋅\\delta ⋅q⋅(N - 2)⋅(\\delta - 1)⋅(\\delta⋅q - \\\n",
       "─────────────────────────── + ────────────────────────────────────────────────\n",
       "                                  ⎛     -\\beta⋅(-R + T)⎞                      \n",
       "⋅(N - 1)⋅(1.0⋅\\delta - 1.0)       ⎝1 + ℯ               ⎠⋅(N - 1)⋅(1.0⋅\\delta -\n",
       "                                                                              \n",
       "                                                                              \n",
       "\n",
       "                       4                                                      \n",
       "delta + 1)   1.0⋅\\delta ⋅(N - 2)⋅(\\delta - 1)⋅(q - 1)⋅(\\delta⋅q - \\delta + 1) \n",
       "────────── - ──────────────────────────────────────────────────────────────── \n",
       "                   ⎛            ⎛P       T⎞⎞                                  \n",
       " 1.0)              ⎜     -\\beta⋅⎜─ - R + ─⎟⎟                                  \n",
       "                   ⎜            ⎝2       2⎠⎟                                  \n",
       "                   ⎝1 + ℯ                  ⎠⋅(N - 1)⋅(1.0⋅\\delta - 1.0)       \n",
       "\n",
       "                 3                            3        2             2        \n",
       "       1.0⋅\\delta ⋅q⋅(q - 1)        0.5⋅\\delta ⋅(q - 1)    1.0⋅\\delta ⋅q⋅(\\del\n",
       "- ─────────────────────────────── + ──────────────────── + ───────────────────\n",
       "  ⎛            ⎛  S   T⎞⎞                  N - 1               ⎛     -\\beta⋅(-\n",
       "  ⎜     -\\beta⋅⎜- ─ + ─⎟⎟                                      ⎝1 + ℯ         \n",
       "  ⎜            ⎝  2   2⎠⎟                                                     \n",
       "  ⎝1 + ℯ                ⎠⋅(N - 1)                                             \n",
       "\n",
       "                               2                                \n",
       "ta⋅q - \\delta + 1)   1.0⋅\\delta ⋅(q - 1)⋅(\\delta⋅q - \\delta + 1)\n",
       "────────────────── - ───────────────────────────────────────────\n",
       "S + T)⎞                    ⎛            ⎛  S   T⎞⎞              \n",
       "      ⎠⋅(N - 1)            ⎜     -\\beta⋅⎜- ─ + ─⎟⎟              \n",
       "                           ⎜            ⎝  2   2⎠⎟              \n",
       "                           ⎝1 + ℯ                ⎠⋅(N - 1)      "
      ]
     },
     "execution_count": 114,
     "metadata": {},
     "output_type": "execute_result"
    }
   ],
   "source": [
    "sum(x.multiply_elementwise(rho))"
   ]
  },
  {
   "cell_type": "code",
   "execution_count": 112,
   "metadata": {},
   "outputs": [
    {
     "data": {
      "image/png": "[encoded data removed]",
      "text/latex": [
       "$\\displaystyle - \\frac{1.0 \\delta^{5} q \\left(N - 2\\right) \\left(\\delta - 1\\right) \\left(q - 1\\right)}{\\left(1 + e^{- \\beta \\left(- \\frac{P}{2} + R - \\frac{T}{2}\\right)}\\right) \\left(N - 1\\right) \\left(1.0 \\delta - 1.0\\right)} + \\frac{1.0 \\delta^{5} \\left(N - 2\\right) \\left(\\delta - 1\\right) \\left(q - 1\\right)^{2}}{\\left(1 + e^{- \\beta \\left(- P + R\\right)}\\right) \\left(N - 1\\right) \\left(1.0 \\delta - 1.0\\right)} + \\frac{1.0 \\delta^{4} q \\left(N - 2\\right) \\left(\\delta - 1\\right) \\left(\\delta q - \\delta + 1\\right)}{\\left(1 + e^{- \\beta \\left(R - T\\right)}\\right) \\left(N - 1\\right) \\left(1.0 \\delta - 1.0\\right)} - \\frac{1.0 \\delta^{4} \\left(N - 2\\right) \\left(\\delta - 1\\right) \\left(q - 1\\right) \\left(\\delta q - \\delta + 1\\right)}{\\left(1 + e^{- \\beta \\left(- \\frac{P}{2} + R - \\frac{T}{2}\\right)}\\right) \\left(N - 1\\right) \\left(1.0 \\delta - 1.0\\right)} - \\frac{1.0 \\delta^{3} q \\left(q - 1\\right)}{\\left(1 + e^{- \\beta \\left(\\frac{S}{2} - \\frac{T}{2}\\right)}\\right) \\left(N - 1\\right)} + \\frac{0.5 \\delta^{3} \\left(q - 1\\right)^{2}}{N - 1} + \\frac{1.0 \\delta^{2} q \\left(\\delta q - \\delta + 1\\right)}{\\left(1 + e^{- \\beta \\left(S - T\\right)}\\right) \\left(N - 1\\right)} - \\frac{1.0 \\delta^{2} \\left(q - 1\\right) \\left(\\delta q - \\delta + 1\\right)}{\\left(1 + e^{- \\beta \\left(\\frac{S}{2} - \\frac{T}{2}\\right)}\\right) \\left(N - 1\\right)}$"
      ],
      "text/plain": [
       "                  5                                                      5    \n",
       "        1.0⋅\\delta ⋅q⋅(N - 2)⋅(\\delta - 1)⋅(q - 1)             1.0⋅\\delta ⋅(N \n",
       "- ────────────────────────────────────────────────────── + ───────────────────\n",
       "  ⎛            ⎛  P       T⎞⎞                              ⎛     -\\beta⋅(-P + \n",
       "  ⎜     -\\beta⋅⎜- ─ + R - ─⎟⎟                              ⎝1 + ℯ             \n",
       "  ⎜            ⎝  2       2⎠⎟                                                 \n",
       "  ⎝1 + ℯ                    ⎠⋅(N - 1)⋅(1.0⋅\\delta - 1.0)                      \n",
       "\n",
       "                         2                 4                                  \n",
       "- 2)⋅(\\delta - 1)⋅(q - 1)        1.0⋅\\delta ⋅q⋅(N - 2)⋅(\\delta - 1)⋅(\\delta⋅q \n",
       "────────────────────────────── + ─────────────────────────────────────────────\n",
       "R)⎞                                   ⎛     -\\beta⋅(R - T)⎞                   \n",
       "  ⎠⋅(N - 1)⋅(1.0⋅\\delta - 1.0)        ⎝1 + ℯ              ⎠⋅(N - 1)⋅(1.0⋅\\delt\n",
       "                                                                              \n",
       "                                                                              \n",
       "\n",
       "                          4                                                   \n",
       "- \\delta + 1)   1.0⋅\\delta ⋅(N - 2)⋅(\\delta - 1)⋅(q - 1)⋅(\\delta⋅q - \\delta + \n",
       "───────────── - ──────────────────────────────────────────────────────────────\n",
       "                     ⎛            ⎛  P       T⎞⎞                              \n",
       "a - 1.0)             ⎜     -\\beta⋅⎜- ─ + R - ─⎟⎟                              \n",
       "                     ⎜            ⎝  2       2⎠⎟                              \n",
       "                     ⎝1 + ℯ                    ⎠⋅(N - 1)⋅(1.0⋅\\delta - 1.0)   \n",
       "\n",
       "                   3                           3        2             2       \n",
       "1)       1.0⋅\\delta ⋅q⋅(q - 1)       0.5⋅\\delta ⋅(q - 1)    1.0⋅\\delta ⋅q⋅(\\de\n",
       "── - ───────────────────────────── + ──────────────────── + ──────────────────\n",
       "     ⎛            ⎛S   T⎞⎞                  N - 1               ⎛     -\\beta⋅(\n",
       "     ⎜     -\\beta⋅⎜─ - ─⎟⎟                                      ⎝1 + ℯ        \n",
       "     ⎜            ⎝2   2⎠⎟                                                    \n",
       "     ⎝1 + ℯ              ⎠⋅(N - 1)                                            \n",
       "\n",
       "                                2                                \n",
       "lta⋅q - \\delta + 1)   1.0⋅\\delta ⋅(q - 1)⋅(\\delta⋅q - \\delta + 1)\n",
       "─────────────────── - ───────────────────────────────────────────\n",
       "S - T)⎞                      ⎛            ⎛S   T⎞⎞               \n",
       "      ⎠⋅(N - 1)              ⎜     -\\beta⋅⎜─ - ─⎟⎟               \n",
       "                             ⎜            ⎝2   2⎠⎟               \n",
       "                             ⎝1 + ℯ              ⎠⋅(N - 1)       "
      ]
     },
     "execution_count": 112,
     "metadata": {},
     "output_type": "execute_result"
    }
   ],
   "source": [
    "sum(x.multiply_elementwise(rho.T))"
   ]
  },
  {
   "cell_type": "code",
   "execution_count": 133,
   "metadata": {},
   "outputs": [],
   "source": [
    "expr = (x[14] / (N - 2) * (N - 1)).factor() + (x[11] / (N - 2) * (N - 1)).factor()"
   ]
  },
  {
   "cell_type": "code",
   "execution_count": 134,
   "metadata": {},
   "outputs": [
    {
     "data": {
      "image/png": "[encoded data removed]",
      "text/latex": [
       "$\\displaystyle 1.0 \\delta^{4} q \\left(\\delta q - \\delta + 1\\right)$"
      ],
      "text/plain": [
       "          4                          \n",
       "1.0⋅\\delta ⋅q⋅(\\delta⋅q - \\delta + 1)"
      ]
     },
     "execution_count": 134,
     "metadata": {},
     "output_type": "execute_result"
    }
   ],
   "source": [
    "num = sym.fraction(product[10].simplify() / (N - 2) * (N - 1))[0]\n",
    "num"
   ]
  },
  {
   "cell_type": "code",
   "execution_count": 135,
   "metadata": {},
   "outputs": [],
   "source": [
    "den = sym.fraction((x[15] / (N - 2) * (N - 1)) / (delta - 1) * (1.0 * delta - 1.0))[0]"
   ]
  },
  {
   "cell_type": "code",
   "execution_count": 136,
   "metadata": {},
   "outputs": [
    {
     "data": {
      "image/png": "[encoded data removed]",
      "text/latex": [
       "$\\displaystyle \\delta^{4} \\left(- 2.0 \\delta q^{2} + 4.0 \\delta q - 2.0 \\delta + 1.0\\right)$"
      ],
      "text/plain": [
       "      4 ⎛              2                                  ⎞\n",
       "\\delta ⋅⎝- 2.0⋅\\delta⋅q  + 4.0⋅\\delta⋅q - 2.0⋅\\delta + 1.0⎠"
      ]
     },
     "execution_count": 136,
     "metadata": {},
     "output_type": "execute_result"
    }
   ],
   "source": [
    "(num + expr - den).simplify()"
   ]
  },
  {
   "cell_type": "code",
   "execution_count": 137,
   "metadata": {},
   "outputs": [],
   "source": [
    "sol = sym.solvers.solve((num + expr - den).factor(), q)"
   ]
  },
  {
   "cell_type": "code",
   "execution_count": 138,
   "metadata": {},
   "outputs": [
    {
     "data": {
      "image/png": "[encoded data removed]",
      "text/latex": [
       "$\\displaystyle 2$"
      ],
      "text/plain": [
       "2"
      ]
     },
     "execution_count": 138,
     "metadata": {},
     "output_type": "execute_result"
    }
   ],
   "source": [
    "len(sol)"
   ]
  },
  {
   "cell_type": "code",
   "execution_count": 140,
   "metadata": {},
   "outputs": [
    {
     "data": {
      "image/png": "[encoded data removed]",
      "text/latex": [
       "$\\displaystyle 1.0 + \\frac{0.707106781186548}{\\sqrt{\\delta}}$"
      ],
      "text/plain": [
       "      0.707106781186548\n",
       "1.0 + ─────────────────\n",
       "            ________   \n",
       "          ╲╱ \\delta    "
      ]
     },
     "execution_count": 140,
     "metadata": {},
     "output_type": "execute_result"
    }
   ],
   "source": [
    "sol[1]"
   ]
  },
  {
   "cell_type": "code",
   "execution_count": 141,
   "metadata": {},
   "outputs": [
    {
     "data": {
      "image/png": "[encoded data removed]",
      "text/latex": [
       "$\\displaystyle 2.0 \\left(1.0 q^{2} - 0.5\\right)$"
      ],
      "text/plain": [
       "    ⎛     2      ⎞\n",
       "2.0⋅⎝1.0⋅q  - 0.5⎠"
      ]
     },
     "execution_count": 141,
     "metadata": {},
     "output_type": "execute_result"
    }
   ],
   "source": [
    "(num - expr - den).subs({delta: 1}).factor()"
   ]
  },
  {
   "cell_type": "code",
   "execution_count": 151,
   "metadata": {},
   "outputs": [],
   "source": [
    "sol = sym.solvers.solve(num - expr - den, q)"
   ]
  },
  {
   "cell_type": "code",
   "execution_count": 155,
   "metadata": {},
   "outputs": [
    {
     "data": {
      "image/png": "[encoded data removed]",
      "text/latex": [
       "$\\displaystyle \\left( \\frac{0.5 \\left(\\delta + \\sqrt{\\delta^{2} + 1.0} - 1\\right)}{\\delta}, \\  \\frac{0.5 \\left(1.0 \\delta - 1.0 \\sqrt{\\delta^{2} + 1.0} - 1.0\\right)}{\\delta}\\right)$"
      ],
      "text/plain": [
       "⎛    ⎛            _______________    ⎞      ⎛                    _____________\n",
       "⎜    ⎜           ╱       2           ⎟      ⎜                   ╱       2     \n",
       "⎜0.5⋅⎝\\delta + ╲╱  \\delta  + 1.0  - 1⎠  0.5⋅⎝1.0⋅\\delta - 1.0⋅╲╱  \\delta  + 1.\n",
       "⎜─────────────────────────────────────, ──────────────────────────────────────\n",
       "⎝                \\delta                                      \\delta           \n",
       "\n",
       "__      ⎞⎞\n",
       "        ⎟⎟\n",
       "0  - 1.0⎠⎟\n",
       "─────────⎟\n",
       "         ⎠"
      ]
     },
     "execution_count": 155,
     "metadata": {},
     "output_type": "execute_result"
    }
   ],
   "source": [
    "sol[1].simplify(), sol[0].factor()"
   ]
  },
  {
   "cell_type": "code",
   "execution_count": null,
   "metadata": {},
   "outputs": [],
   "source": [
    "len(sol)"
   ]
  },
  {
   "cell_type": "code",
   "execution_count": null,
   "metadata": {},
   "outputs": [],
   "source": [
    "exp = (num - expr - den).subs({delta: 1})"
   ]
  },
  {
   "cell_type": "code",
   "execution_count": null,
   "metadata": {},
   "outputs": [],
   "source": [
    "q_vaq_vall = np.linspace(0, 1, 100)"
   ]
  },
  {
   "cell_type": "markdown",
   "metadata": {},
   "source": []
  },
  {
   "cell_type": "code",
   "execution_count": null,
   "metadata": {},
   "outputs": [],
   "source": [
    "q_val"
   ]
  },
  {
   "cell_type": "code",
   "execution_count": null,
   "metadata": {},
   "outputs": [],
   "source": [
    "points = [exp.subs({q: i}) for i in q_val]"
   ]
  },
  {
   "cell_type": "code",
   "execution_count": null,
   "metadata": {},
   "outputs": [],
   "source": [
    "import matplotlib.pyplot as plt"
   ]
  },
  {
   "cell_type": "code",
   "execution_count": null,
   "metadata": {},
   "outputs": [],
   "source": [
    "fig, axes = plt.subplots(figsize=(20.5, 8.5))\n",
    "\n",
    "axes.plot(points);\n",
    "\n",
    "axes.set_xticks(range(100));\n",
    "\n",
    "axes.set_xticklabels(q_val.round(3), rotation=90);\n",
    "\n"
   ]
  },
  {
   "cell_type": "code",
   "execution_count": null,
   "metadata": {},
   "outputs": [],
   "source": []
  }
 ],
 "metadata": {
  "kernelspec": {
   "display_name": "stochastic-payoffs",
   "language": "python",
   "name": "stochastic-payoffs"
  },
  "language_info": {
   "codemirror_mode": {
    "name": "ipython",
    "version": 3
   },
   "file_extension": ".py",
   "mimetype": "text/x-python",
   "name": "python",
   "nbconvert_exporter": "python",
   "pygments_lexer": "ipython3",
   "version": "3.7.8"
  }
 },
 "nbformat": 4,
 "nbformat_minor": 4
}
