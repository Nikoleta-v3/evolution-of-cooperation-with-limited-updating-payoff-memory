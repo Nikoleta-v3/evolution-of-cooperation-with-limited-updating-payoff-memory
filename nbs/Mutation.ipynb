{
 "cells": [
  {
   "cell_type": "code",
   "execution_count": 33,
   "metadata": {},
   "outputs": [],
   "source": [
    "from numpy import *"
   ]
  },
  {
   "cell_type": "code",
   "execution_count": 34,
   "metadata": {},
   "outputs": [],
   "source": [
    "def stationary_reactive(p1, p2, delta):\n",
    "    M = array(\n",
    "        [\n",
    "            [\n",
    "                p1[1] * p2[1],\n",
    "                p1[1] * (1 - p2[1]),\n",
    "                (1 - p1[1]) * p2[1],\n",
    "                (1 - p1[1]) * (1 - p2[1]),\n",
    "            ],\n",
    "            [\n",
    "                p1[2] * p2[1],\n",
    "                p1[2] * (1 - p2[1]),\n",
    "                (1 - p1[2]) * p2[1],\n",
    "                (1 - p1[2]) * (1 - p2[1]),\n",
    "            ],\n",
    "            [\n",
    "                p1[1] * p2[2],\n",
    "                p1[1] * (1 - p2[2]),\n",
    "                (1 - p1[1]) * p2[2],\n",
    "                (1 - p1[1]) * (1 - p2[2]),\n",
    "            ],\n",
    "            [\n",
    "                p1[2] * p2[2],\n",
    "                p1[2] * (1 - p2[2]),\n",
    "                (1 - p1[2]) * p2[2],\n",
    "                (1 - p1[2]) * (1 - p2[2]),\n",
    "            ],\n",
    "        ]\n",
    "    )\n",
    "\n",
    "    v0 = array(\n",
    "        [\n",
    "            p1[0] * p2[0],\n",
    "            p1[0] * (1 - p2[0]),\n",
    "            (1 - p1[0]) * p2[0],\n",
    "            (1 - p1[0]) * (1 - p2[0]),\n",
    "        ]\n",
    "    )\n",
    "\n",
    "    return (1 - delta) * v0 @ linalg.inv((eye(4) - delta * M))"
   ]
  },
  {
   "cell_type": "code",
   "execution_count": 35,
   "metadata": {},
   "outputs": [],
   "source": [
    "population = [[0, 0, 0, 100]]"
   ]
  },
  {
   "cell_type": "code",
   "execution_count": 41,
   "metadata": {},
   "outputs": [],
   "source": [
    "import numpy as np"
   ]
  },
  {
   "cell_type": "code",
   "execution_count": 81,
   "metadata": {},
   "outputs": [],
   "source": [
    "population = np.random.random((100, 3))"
   ]
  },
  {
   "cell_type": "code",
   "execution_count": 103,
   "metadata": {},
   "outputs": [],
   "source": [
    "population = np.zeros((100, 3))"
   ]
  },
  {
   "cell_type": "code",
   "execution_count": 104,
   "metadata": {},
   "outputs": [],
   "source": [
    "Mu, c = np.unique(population, axis=0, return_counts=True)"
   ]
  },
  {
   "cell_type": "code",
   "execution_count": 101,
   "metadata": {},
   "outputs": [
    {
     "name": "stdout",
     "output_type": "stream",
     "text": [
      "0.0\n"
     ]
    }
   ],
   "source": [
    "for p in Mu:\n",
    "    print(p[1])"
   ]
  },
  {
   "cell_type": "code",
   "execution_count": 96,
   "metadata": {},
   "outputs": [
    {
     "data": {
      "text/plain": [
       "array([100])"
      ]
     },
     "execution_count": 96,
     "metadata": {},
     "output_type": "execute_result"
    }
   ],
   "source": [
    "c"
   ]
  },
  {
   "cell_type": "code",
   "execution_count": 112,
   "metadata": {},
   "outputs": [],
   "source": [
    "def cooperation(population, delta):\n",
    "    Mu, counts = unique(population, axis=0, return_counts=True)\n",
    "    coop = 0\n",
    "    for i, p in enumerate(Mu):\n",
    "        print(p)\n",
    "        for j, q in enumerate(Mu):\n",
    "            v = stationary_reactive(p, q, delta)\n",
    "            coop += v[1] + v[2] * counts[j] - int(i == j)\n",
    "\n",
    "    return coop / sum(counts)\n"
   ]
  },
  {
   "cell_type": "code",
   "execution_count": 176,
   "metadata": {},
   "outputs": [],
   "source": [
    "delta = 0.999"
   ]
  },
  {
   "cell_type": "code",
   "execution_count": 122,
   "metadata": {},
   "outputs": [
    {
     "data": {
      "text/plain": [
       "-0.01"
      ]
     },
     "execution_count": 122,
     "metadata": {},
     "output_type": "execute_result"
    }
   ],
   "source": [
    "cooperation(population, delta)"
   ]
  },
  {
   "cell_type": "code",
   "execution_count": 191,
   "metadata": {},
   "outputs": [],
   "source": [
    "population = np.array([[0, 0, 0]] * 10 + [[1, 1, 1]] * 5 + [[0, 1, 0]] * 4 + [[1, 0, 0]] * 1)"
   ]
  },
  {
   "cell_type": "code",
   "execution_count": 192,
   "metadata": {},
   "outputs": [
    {
     "data": {
      "text/plain": [
       "array([[0, 0, 0],\n",
       "       [0, 0, 0],\n",
       "       [0, 0, 0],\n",
       "       [0, 0, 0],\n",
       "       [0, 0, 0],\n",
       "       [0, 0, 0],\n",
       "       [0, 0, 0],\n",
       "       [0, 0, 0],\n",
       "       [0, 0, 0],\n",
       "       [0, 0, 0],\n",
       "       [1, 1, 1],\n",
       "       [1, 1, 1],\n",
       "       [1, 1, 1],\n",
       "       [1, 1, 1],\n",
       "       [1, 1, 1],\n",
       "       [0, 1, 0],\n",
       "       [0, 1, 0],\n",
       "       [0, 1, 0],\n",
       "       [0, 1, 0],\n",
       "       [1, 0, 0]])"
      ]
     },
     "execution_count": 192,
     "metadata": {},
     "output_type": "execute_result"
    }
   ],
   "source": [
    "population"
   ]
  },
  {
   "cell_type": "code",
   "execution_count": 206,
   "metadata": {},
   "outputs": [
    {
     "data": {
      "text/plain": [
       "0.0010000000000000009"
      ]
     },
     "execution_count": 206,
     "metadata": {},
     "output_type": "execute_result"
    }
   ],
   "source": [
    "v = stationary_reactive([1, 0, 0], [1, 0, 0], delta)\n",
    "v[0] + v[1]"
   ]
  },
  {
   "cell_type": "code",
   "execution_count": 231,
   "metadata": {},
   "outputs": [
    {
     "data": {
      "text/plain": [
       "array([[0.81740525, 0.8399056 , 0.73494736],\n",
       "       [0.98349908, 0.65852988, 0.18701107],\n",
       "       [0.7628261 , 0.52483867, 0.84054356],\n",
       "       [0.41362593, 0.64118857, 0.73528022],\n",
       "       [0.87132849, 0.51243269, 0.76625232],\n",
       "       [0.96148414, 0.25607347, 0.6668701 ],\n",
       "       [0.9212705 , 0.48448697, 0.05820347],\n",
       "       [0.90643825, 0.85572503, 0.48523087],\n",
       "       [0.06811712, 0.17121679, 0.86908016],\n",
       "       [0.35087503, 0.46612688, 0.02270656],\n",
       "       [0.8361916 , 0.93820736, 0.90358379],\n",
       "       [0.38675835, 0.72938095, 0.92636367],\n",
       "       [0.40137801, 0.60446375, 0.08127874],\n",
       "       [0.79291006, 0.90107187, 0.40035308],\n",
       "       [0.81010427, 0.79948445, 0.57274616],\n",
       "       [0.72416911, 0.02497506, 0.75476844],\n",
       "       [0.54960921, 0.4182098 , 0.65325719],\n",
       "       [0.89645456, 0.05035718, 0.24236054],\n",
       "       [0.18529522, 0.5991691 , 0.41202868],\n",
       "       [0.24145877, 0.66017583, 0.04517691],\n",
       "       [0.00343473, 0.53208759, 0.64799668],\n",
       "       [0.71317371, 0.80901411, 0.11455812],\n",
       "       [0.27875565, 0.2924271 , 0.9990821 ],\n",
       "       [0.20042779, 0.83986052, 0.78656866],\n",
       "       [0.51894947, 0.3576463 , 0.25331563],\n",
       "       [0.20990099, 0.61751596, 0.94389336],\n",
       "       [0.97610056, 0.76034719, 0.90481005],\n",
       "       [0.17387616, 0.35347111, 0.7297978 ],\n",
       "       [0.65201835, 0.78485917, 0.81227299],\n",
       "       [0.2687661 , 0.2168337 , 0.08516613],\n",
       "       [0.06221429, 0.17574102, 0.00387872],\n",
       "       [0.24099841, 0.66130101, 0.2711049 ],\n",
       "       [0.18765341, 0.29109091, 0.46401481],\n",
       "       [0.28343402, 0.58515539, 0.4185542 ],\n",
       "       [0.69497684, 0.36146913, 0.85881984],\n",
       "       [0.19353721, 0.22368386, 0.69286624],\n",
       "       [0.41234131, 0.62697848, 0.79407655],\n",
       "       [0.32755667, 0.80389924, 0.96308795],\n",
       "       [0.7266179 , 0.65485606, 0.36471853],\n",
       "       [0.91625804, 0.72480377, 0.8536115 ],\n",
       "       [0.04582572, 0.61569775, 0.97222889],\n",
       "       [0.49549195, 0.06588812, 0.23495811],\n",
       "       [0.66433132, 0.81999075, 0.33010193],\n",
       "       [0.17463419, 0.22801877, 0.83279881],\n",
       "       [0.1973122 , 0.01755871, 0.4736518 ],\n",
       "       [0.77101888, 0.92084366, 0.76103031],\n",
       "       [0.72615342, 0.40356621, 0.40965153],\n",
       "       [0.75561034, 0.9447718 , 0.25011639],\n",
       "       [0.6595701 , 0.15909801, 0.64979849],\n",
       "       [0.08798022, 0.60889661, 0.74582901]])"
      ]
     },
     "execution_count": 231,
     "metadata": {},
     "output_type": "execute_result"
    }
   ],
   "source": [
    "population = np.random.random((50, 3))\n",
    "population"
   ]
  },
  {
   "cell_type": "code",
   "execution_count": 242,
   "metadata": {},
   "outputs": [],
   "source": [
    "population_B = np.zeros((50, 3))"
   ]
  },
  {
   "cell_type": "code",
   "execution_count": 243,
   "metadata": {},
   "outputs": [],
   "source": [
    "def cooperation(population, delta):\n",
    "    Mu, counts = unique(population, axis=0, return_counts=True)\n",
    "    coop = 0\n",
    "    for i, p in enumerate(Mu):\n",
    "        for j, q in enumerate(Mu):\n",
    "            v = stationary_reactive(p, q, delta)\n",
    "            coop += ((v[0] + v[1]) * (counts[j]) / sum(counts))\n",
    "\n",
    "    return coop"
   ]
  },
  {
   "cell_type": "code",
   "execution_count": 248,
   "metadata": {},
   "outputs": [],
   "source": [
    "Mu, counts = unique(population, axis=0, return_counts=True)"
   ]
  },
  {
   "cell_type": "code",
   "execution_count": 250,
   "metadata": {},
   "outputs": [
    {
     "data": {
      "text/plain": [
       "50"
      ]
     },
     "execution_count": 250,
     "metadata": {},
     "output_type": "execute_result"
    }
   ],
   "source": [
    "def cooperation(population, delta, N):\n",
    "    Mu, counts = unique(population, axis=0, return_counts=True)\n",
    "    unique_rows = len(counts)\n",
    "    coop = zeros(unique_rows)\n",
    "    for i, me in enumerate(Mu):\n",
    "        player_coop = zeros(unique_rows)\n",
    "        for other in Mu:\n",
    "            v = stationary_reactive(me, other, delta)\n",
    "            player_coop[i] = v[0] + v[1]\n",
    "\n",
    "        coop[i] = sum(player_coop * counts / sum(counts))\n",
    "    return mean(coop)"
   ]
  },
  {
   "cell_type": "code",
   "execution_count": 246,
   "metadata": {},
   "outputs": [
    {
     "data": {
      "text/plain": [
       "0.0"
      ]
     },
     "execution_count": 246,
     "metadata": {},
     "output_type": "execute_result"
    }
   ],
   "source": [
    "cooperation(population_B, delta)"
   ]
  },
  {
   "cell_type": "code",
   "execution_count": 247,
   "metadata": {},
   "outputs": [
    {
     "data": {
      "text/plain": [
       "27.15151788686418"
      ]
     },
     "execution_count": 247,
     "metadata": {},
     "output_type": "execute_result"
    }
   ],
   "source": [
    "cooperation(population, delta)"
   ]
  },
  {
   "cell_type": "code",
   "execution_count": 209,
   "metadata": {},
   "outputs": [
    {
     "data": {
      "text/plain": [
       "array([1, 0, 0])"
      ]
     },
     "execution_count": 209,
     "metadata": {},
     "output_type": "execute_result"
    }
   ],
   "source": [
    "population[-1]"
   ]
  },
  {
   "cell_type": "code",
   "execution_count": 172,
   "metadata": {},
   "outputs": [
    {
     "data": {
      "text/plain": [
       "array([0.58381198, 0.52892058, 0.49301   ])"
      ]
     },
     "execution_count": 172,
     "metadata": {},
     "output_type": "execute_result"
    }
   ],
   "source": [
    "population.mean(0)"
   ]
  },
  {
   "cell_type": "code",
   "execution_count": null,
   "metadata": {},
   "outputs": [],
   "source": []
  }
 ],
 "metadata": {
  "kernelspec": {
   "display_name": "stochastic-payoffs",
   "language": "python",
   "name": "stochastic-payoffs"
  },
  "language_info": {
   "codemirror_mode": {
    "name": "ipython",
    "version": 3
   },
   "file_extension": ".py",
   "mimetype": "text/x-python",
   "name": "python",
   "nbconvert_exporter": "python",
   "pygments_lexer": "ipython3",
   "version": "3.7.8"
  }
 },
 "nbformat": 4,
 "nbformat_minor": 4
}
