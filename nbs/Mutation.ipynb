{
 "cells": [
  {
   "cell_type": "code",
   "execution_count": 52,
   "metadata": {},
   "outputs": [],
   "source": [
    "import evol_dynamics"
   ]
  },
  {
   "cell_type": "code",
   "execution_count": 53,
   "metadata": {},
   "outputs": [],
   "source": [
    "import random"
   ]
  },
  {
   "cell_type": "code",
   "execution_count": 54,
   "metadata": {},
   "outputs": [],
   "source": [
    "import numpy as np"
   ]
  },
  {
   "cell_type": "code",
   "execution_count": 55,
   "metadata": {},
   "outputs": [],
   "source": [
    "import tqdm"
   ]
  },
  {
   "cell_type": "code",
   "execution_count": 56,
   "metadata": {},
   "outputs": [],
   "source": [
    "def simulation(\n",
    "    N,\n",
    "    delta,\n",
    "    beta,\n",
    "    mutation,\n",
    "    number_of_steps,\n",
    "    payoffs,\n",
    "    mode,\n",
    "    filename,\n",
    "    seed=10,\n",
    "    starting_resident=(0, 0, 0),\n",
    "):\n",
    "\n",
    "    data = [0, *payoffs, N, delta, beta, mutation, mode, *starting_resident, 0]\n",
    "    \n",
    "    with open(filename, \"w\") as textfile:\n",
    "        textfile.write(\",\".join([str(elem) for elem in data]) + \"\\n\")\n",
    "    textfile.close()\n",
    "    \n",
    "    population = {starting_resident: N}\n",
    "    random.seed(seed)\n",
    "\n",
    "\n",
    "    for i in tqdm.tqdm_notebook(range(1, number_of_steps + 1)):\n",
    "        \n",
    "        if random.random() < mutation:\n",
    "            to_mutate = random.sample(population.keys(), 1)\n",
    "            population[to_mutate[0]] -= 1\n",
    "            population[tuple(random.random() for _ in range(3))] = 1\n",
    "            \n",
    "        else:\n",
    "        \n",
    "            resident, mutant = random.sample(population.keys(), 2)\n",
    "        \n",
    "            if mode == \"expected\":\n",
    "\n",
    "                resident_payoff, mutant_payoff = payoffs_expected(resident, mutant, population, payoffs, delta, N)\n",
    "                \n",
    "            if mode == \"last_round\":\n",
    "\n",
    "                resident_payoff, mutant_payoff = payoffs_last_round(resident, mutant, population, payoffs, delta)\n",
    "                \n",
    "            fermi = 1 / (\n",
    "                1\n",
    "                + np.exp(\n",
    "                    float(\n",
    "                        -beta\n",
    "                        * (resident_payoff - mutant_payoff)\n",
    "                    )\n",
    "                )\n",
    "            )\n",
    "                \n",
    "            if random.random() < fermi:\n",
    "                population[resident] -= 1\n",
    "                population[mutant] += 1\n",
    "            else:\n",
    "                population[mutant] -= 1\n",
    "                population[resident] += 1\n",
    "\n",
    "            for member in population.items():\n",
    "\n",
    "                data = [i, *payoffs, N, delta, beta, mutation, mode, *member[0], member[1]]\n",
    "\n",
    "                with open(filename, \"a\") as textfile:\n",
    "                    textfile.write(\",\".join([str(elem) for elem in data]) + \"\\n\")\n",
    "                textfile.close()\n",
    "\n",
    "        population = {key:val for key, val in population.items() if val != 0}\n",
    "    return population\n"
   ]
  },
  {
   "cell_type": "code",
   "execution_count": 189,
   "metadata": {},
   "outputs": [
    {
     "data": {
      "text/plain": [
       "(1, 0, 3, 1, 0, 3)"
      ]
     },
     "execution_count": 189,
     "metadata": {},
     "output_type": "execute_result"
    }
   ],
   "source": [
    "(1, 0, 3) * 2"
   ]
  },
  {
   "cell_type": "code",
   "execution_count": 191,
   "metadata": {},
   "outputs": [
    {
     "data": {
      "text/plain": [
       "[(1, 0, 1), (1, 0, 1), (1, 0, 1), (1, 1, 1), (0, 1, 1)]"
      ]
     },
     "execution_count": 191,
     "metadata": {},
     "output_type": "execute_result"
    }
   ],
   "source": [
    "[key for key in population.keys() for _ in range(population[key])]"
   ]
  },
  {
   "cell_type": "code",
   "execution_count": 142,
   "metadata": {},
   "outputs": [],
   "source": [
    "def payoffs_expected(resident, mutant, population, payoffs, delta, N):\n",
    "\n",
    "    resident_payoff = sum(\n",
    "        [\n",
    "            evol_dynamics.expected_distribution_last_round(\n",
    "                resident, opponent, delta\n",
    "            )\n",
    "            @ payoffs\n",
    "            * (population[opponent] - int(resident == opponent))\n",
    "            for opponent in population.keys()\n",
    "        ]\n",
    "    ) / (N - 1)\n",
    "\n",
    "    mutant_payoff = sum(\n",
    "        [\n",
    "            evol_dynamics.expected_distribution_last_round(\n",
    "                mutant, opponent, delta\n",
    "            )\n",
    "            @ payoffs\n",
    "            * (population[opponent] - int(mutant == opponent))\n",
    "            for opponent in population.keys()\n",
    "        ]\n",
    "    ) / (N - 1)\n",
    "\n",
    "    return resident_payoff, mutant_payoff"
   ]
  },
  {
   "cell_type": "code",
   "execution_count": 164,
   "metadata": {},
   "outputs": [],
   "source": [
    "import copy"
   ]
  },
  {
   "cell_type": "code",
   "execution_count": 167,
   "metadata": {},
   "outputs": [],
   "source": [
    "def payoffs_last_round(resident, mutant, population, payoffs, delta):\n",
    "    \n",
    "    population_cp = copy.deepcopy(population)\n",
    "    \n",
    "    opponent = random.sample(population_cp.keys(), 1)[0]\n",
    "    population_cp[opponent] -= 1\n",
    "\n",
    "    resident_payoff = evol_dynamics.expected_distribution_last_round(resident, opponent, delta) @ payoffs\n",
    "\n",
    "    opponent = random.sample(population_cp.keys(), 1)[0]\n",
    "    mutant_payoff = evol_dynamics.expected_distribution_last_round(mutant, opponent, delta) @ payoffs\n",
    "\n",
    "\n",
    "    return resident_payoff, mutant_payoff\n",
    "\n"
   ]
  },
  {
   "cell_type": "code",
   "execution_count": 168,
   "metadata": {},
   "outputs": [],
   "source": [
    "payoffs = np.array([2, -1, 3, 0])"
   ]
  },
  {
   "cell_type": "code",
   "execution_count": 124,
   "metadata": {},
   "outputs": [],
   "source": [
    "resident = (1, 0, 1)\n",
    "mutant = (1, 1, 1)"
   ]
  },
  {
   "cell_type": "code",
   "execution_count": 125,
   "metadata": {},
   "outputs": [
    {
     "data": {
      "text/plain": [
       "1.0005002501250768"
      ]
     },
     "execution_count": 125,
     "metadata": {},
     "output_type": "execute_result"
    }
   ],
   "source": [
    "evol_dynamics.expected_distribution_last_round(resident, resident, delta=0.999) @ payoffs"
   ]
  },
  {
   "cell_type": "code",
   "execution_count": 126,
   "metadata": {},
   "outputs": [
    {
     "data": {
      "text/plain": [
       "2.0"
      ]
     },
     "execution_count": 126,
     "metadata": {},
     "output_type": "execute_result"
    }
   ],
   "source": [
    "evol_dynamics.expected_distribution_last_round(mutant, mutant, delta=0.999) @ payoffs"
   ]
  },
  {
   "cell_type": "code",
   "execution_count": 127,
   "metadata": {},
   "outputs": [
    {
     "data": {
      "text/plain": [
       "2.9989999999999997"
      ]
     },
     "execution_count": 127,
     "metadata": {},
     "output_type": "execute_result"
    }
   ],
   "source": [
    "evol_dynamics.expected_distribution_last_round(resident, mutant, delta=0.999) @ payoffs"
   ]
  },
  {
   "cell_type": "code",
   "execution_count": 137,
   "metadata": {},
   "outputs": [
    {
     "data": {
      "text/plain": [
       "-0.997"
      ]
     },
     "execution_count": 137,
     "metadata": {},
     "output_type": "execute_result"
    }
   ],
   "source": [
    "evol_dynamics.expected_distribution_last_round(mutant, resident, delta=0.999) @ payoffs"
   ]
  },
  {
   "cell_type": "code",
   "execution_count": 128,
   "metadata": {},
   "outputs": [],
   "source": [
    "other = (0, 1, 1)"
   ]
  },
  {
   "cell_type": "code",
   "execution_count": 129,
   "metadata": {},
   "outputs": [
    {
     "data": {
      "text/plain": [
       "-0.993003"
      ]
     },
     "execution_count": 129,
     "metadata": {},
     "output_type": "execute_result"
    }
   ],
   "source": [
    "evol_dynamics.expected_distribution_last_round(other, resident, delta=0.999) @ payoffs"
   ]
  },
  {
   "cell_type": "code",
   "execution_count": 130,
   "metadata": {},
   "outputs": [
    {
     "data": {
      "text/plain": [
       "2.9950010000000002"
      ]
     },
     "execution_count": 130,
     "metadata": {},
     "output_type": "execute_result"
    }
   ],
   "source": [
    "evol_dynamics.expected_distribution_last_round(resident, other, delta=0.999) @ payoffs"
   ]
  },
  {
   "cell_type": "code",
   "execution_count": 131,
   "metadata": {},
   "outputs": [
    {
     "data": {
      "text/plain": [
       "2.001"
      ]
     },
     "execution_count": 131,
     "metadata": {},
     "output_type": "execute_result"
    }
   ],
   "source": [
    "evol_dynamics.expected_distribution_last_round(other, mutant, delta=0.999) @ payoffs"
   ]
  },
  {
   "cell_type": "code",
   "execution_count": 132,
   "metadata": {},
   "outputs": [
    {
     "data": {
      "text/plain": [
       "1.9969999999999999"
      ]
     },
     "execution_count": 132,
     "metadata": {},
     "output_type": "execute_result"
    }
   ],
   "source": [
    "evol_dynamics.expected_distribution_last_round(mutant, other, delta=0.999) @ payoffs"
   ]
  },
  {
   "cell_type": "code",
   "execution_count": 133,
   "metadata": {},
   "outputs": [],
   "source": [
    "population = {resident: 10, mutant: 5, other: 2}"
   ]
  },
  {
   "cell_type": "code",
   "execution_count": 143,
   "metadata": {},
   "outputs": [
    {
     "data": {
      "text/plain": [
       "(1.8743440156953557, 0.12649999999999995)"
      ]
     },
     "execution_count": 143,
     "metadata": {},
     "output_type": "execute_result"
    }
   ],
   "source": [
    "payoffs_expected(resident, mutant, population, payoffs, 0.999, 17)"
   ]
  },
  {
   "cell_type": "code",
   "execution_count": 144,
   "metadata": {},
   "outputs": [
    {
     "data": {
      "text/plain": [
       "1.8715312500000003"
      ]
     },
     "execution_count": 144,
     "metadata": {},
     "output_type": "execute_result"
    }
   ],
   "source": [
    "(9 * 1.0005 + 5 * 2.99 + 2 * 2.995) / 16"
   ]
  },
  {
   "cell_type": "code",
   "execution_count": 147,
   "metadata": {},
   "outputs": [
    {
     "data": {
      "text/plain": [
       "0.12637499999999996"
      ]
     },
     "execution_count": 147,
     "metadata": {},
     "output_type": "execute_result"
    }
   ],
   "source": [
    "(10 * -0.997 + 4 * 2 + 2 * 1.996) / 16"
   ]
  },
  {
   "cell_type": "code",
   "execution_count": 91,
   "metadata": {},
   "outputs": [],
   "source": [
    "delta = 0.999"
   ]
  },
  {
   "cell_type": "code",
   "execution_count": 162,
   "metadata": {},
   "outputs": [
    {
     "data": {
      "text/plain": [
       "(1.0005002501250768, 1.9969999999999999)"
      ]
     },
     "execution_count": 162,
     "metadata": {},
     "output_type": "execute_result"
    }
   ],
   "source": [
    "payoffs_last_round(resident, mutant, population, payoffs, delta)"
   ]
  },
  {
   "cell_type": "code",
   "execution_count": 95,
   "metadata": {},
   "outputs": [
    {
     "data": {
      "text/plain": [
       "dict_keys([(1, 0, 1), (1, 1, 1), (0, 1, 1)])"
      ]
     },
     "execution_count": 95,
     "metadata": {},
     "output_type": "execute_result"
    }
   ],
   "source": [
    "population.keys()"
   ]
  },
  {
   "cell_type": "code",
   "execution_count": 173,
   "metadata": {},
   "outputs": [],
   "source": [
    "population = {resident: 3, mutant: 1, other: 1}"
   ]
  },
  {
   "cell_type": "code",
   "execution_count": 176,
   "metadata": {},
   "outputs": [
    {
     "data": {
      "text/plain": [
       "(2.9500999999999995, -0.97)"
      ]
     },
     "execution_count": 176,
     "metadata": {},
     "output_type": "execute_result"
    }
   ],
   "source": [
    "payoffs_last_round(resident, mutant, population, payoffs, 0.99)"
   ]
  },
  {
   "cell_type": "code",
   "execution_count": 151,
   "metadata": {},
   "outputs": [
    {
     "ename": "TypeError",
     "evalue": "payoffs_expected() missing 1 required positional argument: 'N'",
     "output_type": "error",
     "traceback": [
      "\u001b[0;31m---------------------------------------------------------------------------\u001b[0m",
      "\u001b[0;31mTypeError\u001b[0m                                 Traceback (most recent call last)",
      "\u001b[0;32m<ipython-input-151-0b5b874450dd>\u001b[0m in \u001b[0;36m<module>\u001b[0;34m\u001b[0m\n\u001b[0;32m----> 1\u001b[0;31m \u001b[0mpayoffs_expected\u001b[0m\u001b[0;34m(\u001b[0m\u001b[0mresident\u001b[0m\u001b[0;34m,\u001b[0m \u001b[0mmutant\u001b[0m\u001b[0;34m,\u001b[0m \u001b[0mpopulation\u001b[0m\u001b[0;34m,\u001b[0m \u001b[0mpayoffs\u001b[0m\u001b[0;34m,\u001b[0m \u001b[0;36m0.99\u001b[0m\u001b[0;34m)\u001b[0m\u001b[0;34m\u001b[0m\u001b[0;34m\u001b[0m\u001b[0m\n\u001b[0m",
      "\u001b[0;31mTypeError\u001b[0m: payoffs_expected() missing 1 required positional argument: 'N'"
     ]
    }
   ],
   "source": [
    "payoffs_expected(resident, mutant, population, payoffs, 0.99)"
   ]
  },
  {
   "cell_type": "code",
   "execution_count": 163,
   "metadata": {},
   "outputs": [
    {
     "data": {
      "text/plain": [
       "array([0.9       , 0.90555556, 0.91111111, 0.91666667, 0.92222222,\n",
       "       0.92777778, 0.93333333, 0.93888889, 0.94444444, 0.95      ])"
      ]
     },
     "execution_count": 163,
     "metadata": {},
     "output_type": "execute_result"
    }
   ],
   "source": [
    "np.linspace(0.9, 0.95, 10)"
   ]
  },
  {
   "cell_type": "code",
   "execution_count": null,
   "metadata": {},
   "outputs": [],
   "source": []
  }
 ],
 "metadata": {
  "kernelspec": {
   "display_name": "stochastic-payoffs",
   "language": "python",
   "name": "stochastic-payoffs"
  },
  "language_info": {
   "codemirror_mode": {
    "name": "ipython",
    "version": 3
   },
   "file_extension": ".py",
   "mimetype": "text/x-python",
   "name": "python",
   "nbconvert_exporter": "python",
   "pygments_lexer": "ipython3",
   "version": "3.7.9"
  }
 },
 "nbformat": 4,
 "nbformat_minor": 4
}
